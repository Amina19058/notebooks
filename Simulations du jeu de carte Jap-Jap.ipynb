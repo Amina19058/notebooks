{
 "cells": [
  {
   "cell_type": "markdown",
   "metadata": {
    "toc": "true"
   },
   "source": [
    "# Table of Contents\n",
    " <p><div class=\"lev1 toc-item\"><a href=\"#But-de-ce-notebook\" data-toc-modified-id=\"But-de-ce-notebook-1\"><span class=\"toc-item-num\">1&nbsp;&nbsp;</span>But de ce notebook</a></div><div class=\"lev1 toc-item\"><a href=\"#Règles-du-Jap-Jap\" data-toc-modified-id=\"Règles-du-Jap-Jap-2\"><span class=\"toc-item-num\">2&nbsp;&nbsp;</span>Règles du <em>Jap Jap</em></a></div><div class=\"lev2 toc-item\"><a href=\"#But-du-jeu\" data-toc-modified-id=\"But-du-jeu-21\"><span class=\"toc-item-num\">2.1&nbsp;&nbsp;</span>But du jeu</a></div><div class=\"lev2 toc-item\"><a href=\"#Début-du-jeu\" data-toc-modified-id=\"Début-du-jeu-22\"><span class=\"toc-item-num\">2.2&nbsp;&nbsp;</span>Début du jeu</a></div><div class=\"lev2 toc-item\"><a href=\"#Tour-de-jeu\" data-toc-modified-id=\"Tour-de-jeu-23\"><span class=\"toc-item-num\">2.3&nbsp;&nbsp;</span>Tour de jeu</a></div><div class=\"lev2 toc-item\"><a href=\"#Fin-du-jeu\" data-toc-modified-id=\"Fin-du-jeu-24\"><span class=\"toc-item-num\">2.4&nbsp;&nbsp;</span>Fin du jeu</a></div><div class=\"lev1 toc-item\"><a href=\"#Code-pour-représenter-une-carte-à-jouer\" data-toc-modified-id=\"Code-pour-représenter-une-carte-à-jouer-3\"><span class=\"toc-item-num\">3&nbsp;&nbsp;</span>Code pour représenter une carte à jouer</a></div><div class=\"lev1 toc-item\"><a href=\"#Code-pour-représenter-un-état-actuel-du-jeu\" data-toc-modified-id=\"Code-pour-représenter-un-état-actuel-du-jeu-4\"><span class=\"toc-item-num\">4&nbsp;&nbsp;</span>Code pour représenter un état actuel du jeu</a></div><div class=\"lev2 toc-item\"><a href=\"#Un-exemple-de-début-de-jeu\" data-toc-modified-id=\"Un-exemple-de-début-de-jeu-41\"><span class=\"toc-item-num\">4.1&nbsp;&nbsp;</span>Un exemple de début de jeu</a></div><div class=\"lev2 toc-item\"><a href=\"#Un-exemple-de-tour\" data-toc-modified-id=\"Un-exemple-de-tour-42\"><span class=\"toc-item-num\">4.2&nbsp;&nbsp;</span>Un exemple de tour</a></div>"
   ]
  },
  {
   "cell_type": "markdown",
   "metadata": {},
   "source": [
    "----\n",
    "# But de ce notebook\n",
    "\n",
    "- Je vais expliquer les règles d'un jeu de carte, le \"Jap Jap\", qu'on m'a appris pendant l'été,\n",
    "- Je veux simuler ce jeu, en Python, afin de calculer quelques statistiques sur le jeu,\n",
    "- J'aimerai essayer d'écrire une petite intelligence artificielle permettant de jouer contre l'ordinateur,\n",
    "- Le but est de faire un prototype d'une application web ou mobile qui permettrait de jouer contre son téléphone !"
   ]
  },
  {
   "cell_type": "markdown",
   "metadata": {},
   "source": [
    "----\n",
    "# Règles du *Jap Jap*\n",
    "\n",
    "## But du jeu\n",
    "- Le *Jap Jap* se joue à $n \\geq 2$ joueur-euse-s (désignées par le mot neutre \"personne\"), avec un jeu de $52$ cartes classiques (4 couleurs, 1 à 10 + vallet/dame/roi).\n",
    "- Chaque partie du *Jap Jap* jeu se joue en plusieurs manches. A la fin de chaque manche, une personne gagne et les autres marquent des points. Le but est d'avoir le moins de point possible, et la première personne a atteindre $90$ points a perdu !\n",
    "- On peut rendre le jeu plus long en comptant la première personne à perdre $x \\geq 1$ parties.\n",
    "\n",
    "## Début du jeu\n",
    "- Chaque personne reçoit 5 cartes,\n",
    "- et on révèle la première carte de la pioche.\n",
    "\n",
    "## Tour de jeu\n",
    "- Chaque personne joue l'une après l'autre, dans le sens horaire (anti trigonométrique),\n",
    "- A son tour, la personne a le choix entre jouer normalement, ou déclencher la fin de jeu si elle possède une main valant $v \\leq 5$ points (voir \"Fin du jeu\" plus bas),\n",
    "- Jouer normalement consiste à jeter *une ou plusieurs* ($x \\in \\{1,\\dots,5\\}$) cartes de sa main dans la défausse, et prendre *une* carte et la remettre dans sa main. Elle peut choisir la carte du sommet de la pioche (qui est face cachée), ou *une* des $x' \\in \\{1,\\dots,5\\}$ cartes ayant été jetées par la personne précédente, ou bien la première carte de la défausse si c'est le début de la partie.\n",
    "\n",
    "## Fin du jeu\n",
    "- Dès qu'une personne possède une main valant $v \\leq 5$ points, elle peut dire *Jap Jap !* au lieu de jouer à son tour.\n",
    "  + Si elle est la seule personne à avoir une telle main de moins de $5$ points, elle gagne !\n",
    "  + Si une autre personne a une main de moins de $5$ points, elle peut dire *Contre Jap Jap !*, à condition d'avoir *strictement* moins de points que le *Jap Jap !* ou le *Contre Jap Jap !* précédent. La personne qui remporte la manche est celle qui a eu le *Contre Jap Jap !* de plus petite valeur.\n",
    "- La personne qui a gagné ne marque aucun point, et les autres ajoutent à leur total actuel de point \n",
    "- Si quelqu'un atteint $90$ points, elle perd la partie."
   ]
  },
  {
   "cell_type": "markdown",
   "metadata": {},
   "source": [
    "----\n",
    "# Code pour représenter une carte à jouer"
   ]
  },
  {
   "cell_type": "code",
   "execution_count": 33,
   "metadata": {},
   "outputs": [],
   "source": [
    "coeur = \"♥\"\n",
    "treffle = \"♣\"\n",
    "pique = \"♠\"\n",
    "carreau = \"♦\"\n",
    "couleurs = [coeur, treffle, pique, carreau]"
   ]
  },
  {
   "cell_type": "code",
   "execution_count": 43,
   "metadata": {},
   "outputs": [],
   "source": [
    "class Carte():\n",
    "    def __init__(self, valeur, couleur):\n",
    "        assert 1 <= valeur <= 13, \"Erreur : valeur doit etre entre 1 et 13.\"\n",
    "        self.valeur = valeur\n",
    "        assert couleur in couleurs, \"Erreur : couleur doit etre dans la liste {}.\".format(couleurs)\n",
    "        self.couleur = couleur\n",
    "        \n",
    "    def __str__(self):\n",
    "        val = str(self.valeur)\n",
    "        if self.valeur > 10:\n",
    "            val = {11: \"V\" , 12: \"Q\" , 13: \"K\"}[self.valeur]\n",
    "        return \"{:>2}{}\".format(val, self.couleur)\n",
    "    \n",
    "    __repr__ = __str__\n",
    "    \n",
    "    def val(self):\n",
    "        return self.valeur"
   ]
  },
  {
   "cell_type": "code",
   "execution_count": 47,
   "metadata": {},
   "outputs": [],
   "source": [
    "def valeur_main(liste_carte):\n",
    "    return sum(carte.val() for carte in liste_carte)"
   ]
  },
  {
   "cell_type": "code",
   "execution_count": 48,
   "metadata": {},
   "outputs": [],
   "source": [
    "import random\n",
    "\n",
    "def nouveau_jeu():\n",
    "    jeu = [\n",
    "        Carte(valeur, couleur)\n",
    "        for valeur in range(1, 13+1)\n",
    "        for couleur in couleurs\n",
    "    ]\n",
    "    random.shuffle(jeu)\n",
    "    return jeu"
   ]
  },
  {
   "cell_type": "code",
   "execution_count": 49,
   "metadata": {
    "scrolled": false
   },
   "outputs": [
    {
     "data": {
      "text/plain": [
       "[ Q♦,  4♥,  9♠,  8♥,  2♠]"
      ]
     },
     "execution_count": 49,
     "metadata": {},
     "output_type": "execute_result"
    },
    {
     "data": {
      "text/plain": [
       "35"
      ]
     },
     "execution_count": 49,
     "metadata": {},
     "output_type": "execute_result"
    }
   ],
   "source": [
    "nouveau_jeu()[:5]\n",
    "valeur_main(_)"
   ]
  },
  {
   "cell_type": "markdown",
   "metadata": {},
   "source": [
    "----\n",
    "# Code pour représenter un état actuel du jeu"
   ]
  },
  {
   "cell_type": "markdown",
   "metadata": {},
   "source": [
    "Pour représenter la fin du jeu :"
   ]
  },
  {
   "cell_type": "code",
   "execution_count": 139,
   "metadata": {},
   "outputs": [],
   "source": [
    "class FinDuneManche(Exception):\n",
    "    pass"
   ]
  },
  {
   "cell_type": "code",
   "execution_count": 140,
   "metadata": {},
   "outputs": [],
   "source": [
    "class FinDunePartie(Exception):\n",
    "    pass"
   ]
  },
  {
   "cell_type": "markdown",
   "metadata": {},
   "source": [
    "Pour représenter une action choisie par une personne :"
   ]
  },
  {
   "cell_type": "code",
   "execution_count": 137,
   "metadata": {},
   "outputs": [],
   "source": [
    "class action():\n",
    "    def __init__(self, typeAction=\"piocher\", choix=None):\n",
    "        assert typeAction in [\"piocher\", \"choisir\", \"Jap Jap !\"]\n",
    "        self.typeAction = typeAction\n",
    "        assert choix is None or choix in [0, 1, 2, 3, 4]\n",
    "        self.choix = choix\n",
    "\n",
    "    def est_piocher(self):\n",
    "        return self.typeAction == \"piocher\"\n",
    "\n",
    "    def est_choisir(self):\n",
    "        return self.typeAction == \"choisir\"\n",
    "\n",
    "    def est_japjap(self):\n",
    "        return self.typeAction == \"Jap Jap !\"\n",
    "\n",
    "action_piocher = action(\"piocher\")\n",
    "action_japjap = action(\"Jap Jap !\")\n",
    "action_choisir0 = action(\"choisir\", 0)\n",
    "action_choisir1 = action(\"choisir\", 1)\n",
    "action_choisir2 = action(\"choisir\", 2)\n",
    "action_choisir3 = action(\"choisir\", 3)\n",
    "action_choisir4 = action(\"choisir\", 4)"
   ]
  },
  {
   "cell_type": "markdown",
   "metadata": {},
   "source": [
    "Pour savoir si une suite de valeurs est bien continue :"
   ]
  },
  {
   "cell_type": "code",
   "execution_count": 117,
   "metadata": {},
   "outputs": [],
   "source": [
    "def suite_valeurs_est_continue(valeurs):\n",
    "    differences = [ valeurs[i + 1] - valeurs[i] for i in range(len(valeurs) - 1) ]\n",
    "    return all([d == 1 for d in differences])"
   ]
  },
  {
   "cell_type": "code",
   "execution_count": 118,
   "metadata": {},
   "outputs": [
    {
     "data": {
      "text/plain": [
       "True"
      ]
     },
     "execution_count": 118,
     "metadata": {},
     "output_type": "execute_result"
    },
    {
     "data": {
      "text/plain": [
       "False"
      ]
     },
     "execution_count": 118,
     "metadata": {},
     "output_type": "execute_result"
    }
   ],
   "source": [
    "suite_valeurs_est_continue([5, 6, 7])\n",
    "suite_valeurs_est_continue([5, 7, 8])"
   ]
  },
  {
   "cell_type": "markdown",
   "metadata": {},
   "source": [
    "Pour valider un coup choisie par une personne :"
   ]
  },
  {
   "cell_type": "code",
   "execution_count": 135,
   "metadata": {},
   "outputs": [],
   "source": [
    "def valide_le_coup(jetees):\n",
    "    assert 1 <= len(jetees) <= 5\n",
    "    # coup valide si une seule carte !\n",
    "    if len(jetees) == 1:\n",
    "        return True\n",
    "    # si plus d'une carte\n",
    "    elif len(jetees) >= 2:\n",
    "        couleurs_jetees = [carte.couleur for carte in jetees]\n",
    "        valeurs_jetees  = sorted([carte.valeur for carte in jetees])\n",
    "        # coup valide si une seule couleur et une suite de valeurs croissantes et continues\n",
    "        if len(set(couleurs_jetees)) == 1:\n",
    "            return suite_valeurs_est_continue(valeurs_jetees)\n",
    "        # coup valide si une seule valeur et différentes couleurs\n",
    "        elif len(set(valeurs_jetees)) == 1:\n",
    "            return len(set(couleurs_jetees)) == len(couleurs_jetees)\n",
    "        return False"
   ]
  },
  {
   "cell_type": "markdown",
   "metadata": {},
   "source": [
    "Exemples de coups valides :"
   ]
  },
  {
   "cell_type": "code",
   "execution_count": 122,
   "metadata": {},
   "outputs": [
    {
     "data": {
      "text/plain": [
       "True"
      ]
     },
     "execution_count": 122,
     "metadata": {},
     "output_type": "execute_result"
    }
   ],
   "source": [
    "valide_le_coup([Carte(4, coeur)])"
   ]
  },
  {
   "cell_type": "code",
   "execution_count": 127,
   "metadata": {},
   "outputs": [
    {
     "data": {
      "text/plain": [
       "True"
      ]
     },
     "execution_count": 127,
     "metadata": {},
     "output_type": "execute_result"
    }
   ],
   "source": [
    "valide_le_coup([Carte(4, coeur), Carte(5, coeur)])"
   ]
  },
  {
   "cell_type": "code",
   "execution_count": 128,
   "metadata": {},
   "outputs": [
    {
     "data": {
      "text/plain": [
       "True"
      ]
     },
     "execution_count": 128,
     "metadata": {},
     "output_type": "execute_result"
    }
   ],
   "source": [
    "valide_le_coup([Carte(4, coeur), Carte(5, coeur), Carte(3, coeur)])"
   ]
  },
  {
   "cell_type": "code",
   "execution_count": 129,
   "metadata": {},
   "outputs": [
    {
     "data": {
      "text/plain": [
       "True"
      ]
     },
     "execution_count": 129,
     "metadata": {},
     "output_type": "execute_result"
    }
   ],
   "source": [
    "valide_le_coup([Carte(4, coeur), Carte(5, coeur), Carte(3, coeur), Carte(2, coeur), Carte(6, coeur)])"
   ]
  },
  {
   "cell_type": "code",
   "execution_count": 130,
   "metadata": {},
   "outputs": [
    {
     "data": {
      "text/plain": [
       "True"
      ]
     },
     "execution_count": 130,
     "metadata": {},
     "output_type": "execute_result"
    }
   ],
   "source": [
    "valide_le_coup([Carte(4, coeur), Carte(4, carreau)])"
   ]
  },
  {
   "cell_type": "code",
   "execution_count": 126,
   "metadata": {},
   "outputs": [
    {
     "data": {
      "text/plain": [
       "True"
      ]
     },
     "execution_count": 126,
     "metadata": {},
     "output_type": "execute_result"
    }
   ],
   "source": [
    "valide_le_coup([Carte(4, coeur), Carte(4, carreau), Carte(4, pique)])"
   ]
  },
  {
   "cell_type": "code",
   "execution_count": 131,
   "metadata": {},
   "outputs": [
    {
     "data": {
      "text/plain": [
       "True"
      ]
     },
     "execution_count": 131,
     "metadata": {},
     "output_type": "execute_result"
    }
   ],
   "source": [
    "valide_le_coup([Carte(4, coeur), Carte(4, carreau), Carte(4, pique), Carte(4, treffle)])"
   ]
  },
  {
   "cell_type": "markdown",
   "metadata": {},
   "source": [
    "Exemples de coups pas valides :"
   ]
  },
  {
   "cell_type": "code",
   "execution_count": 132,
   "metadata": {},
   "outputs": [
    {
     "data": {
      "text/plain": [
       "False"
      ]
     },
     "execution_count": 132,
     "metadata": {},
     "output_type": "execute_result"
    }
   ],
   "source": [
    "valide_le_coup([Carte(4, coeur), Carte(9, coeur)])"
   ]
  },
  {
   "cell_type": "code",
   "execution_count": 133,
   "metadata": {},
   "outputs": [
    {
     "data": {
      "text/plain": [
       "False"
      ]
     },
     "execution_count": 133,
     "metadata": {},
     "output_type": "execute_result"
    }
   ],
   "source": [
    "valide_le_coup([Carte(4, coeur), Carte(4, coeur), Carte(3, coeur)])"
   ]
  },
  {
   "cell_type": "code",
   "execution_count": 136,
   "metadata": {},
   "outputs": [
    {
     "data": {
      "text/plain": [
       "False"
      ]
     },
     "execution_count": 136,
     "metadata": {},
     "output_type": "execute_result"
    }
   ],
   "source": [
    "valide_le_coup([Carte(4, coeur), Carte(12, carreau)])"
   ]
  },
  {
   "cell_type": "code",
   "execution_count": 126,
   "metadata": {},
   "outputs": [
    {
     "data": {
      "text/plain": [
       "True"
      ]
     },
     "execution_count": 126,
     "metadata": {},
     "output_type": "execute_result"
    }
   ],
   "source": [
    "valide_le_coup([Carte(4, coeur), Carte(4, carreau), Carte(4, pique)])"
   ]
  },
  {
   "cell_type": "code",
   "execution_count": 131,
   "metadata": {},
   "outputs": [
    {
     "data": {
      "text/plain": [
       "True"
      ]
     },
     "execution_count": 131,
     "metadata": {},
     "output_type": "execute_result"
    }
   ],
   "source": [
    "valide_le_coup([Carte(4, coeur), Carte(4, carreau), Carte(4, pique), Carte(4, treffle)])"
   ]
  },
  {
   "cell_type": "markdown",
   "metadata": {},
   "source": [
    "On va utiliser les widgets ipython pour construire le jeu interactif !"
   ]
  },
  {
   "cell_type": "code",
   "execution_count": 254,
   "metadata": {},
   "outputs": [],
   "source": [
    "import ipywidgets as widgets\n",
    "from IPython.display import display\n",
    "\n",
    "style = {\n",
    "    'description_width': 'initial',\n",
    "}\n",
    "style2boutons = {\n",
    "    'description_width': 'initial',\n",
    "    'button_width': '50vw',\n",
    "}\n",
    "style3boutons = {\n",
    "    'description_width': 'initial',\n",
    "    'button_width': '33vw',\n",
    "}\n",
    "style5boutons = {\n",
    "    'description_width': 'initial',\n",
    "    'button_width': '20vw',\n",
    "}"
   ]
  },
  {
   "cell_type": "code",
   "execution_count": 247,
   "metadata": {},
   "outputs": [
    {
     "data": {
      "text/plain": [
       "ipywidgets.widgets.widget_selection.ToggleButtonsStyle"
      ]
     },
     "execution_count": 247,
     "metadata": {},
     "output_type": "execute_result"
    }
   ],
   "source": [
    "widgets.ToggleButtonsStyle"
   ]
  },
  {
   "cell_type": "markdown",
   "metadata": {},
   "source": [
    "Pour savoir quoi jouer :"
   ]
  },
  {
   "cell_type": "code",
   "execution_count": 251,
   "metadata": {},
   "outputs": [],
   "source": [
    "def piocher_ou_choisir_une_carte_visible():\n",
    "    return widgets.ToggleButtons(\n",
    "        options=[\"Une carte dans la pioche \", \"Une carte du sommet de la défausse \"],\n",
    "        index=0,\n",
    "        tooltips=[\"invisible\", \"visibles\"],\n",
    "        icons=[\"question\", \"list-ol\"],\n",
    "        description=\"Action ?\",\n",
    "        style=style2boutons,\n",
    "    )"
   ]
  },
  {
   "cell_type": "code",
   "execution_count": 249,
   "metadata": {},
   "outputs": [
    {
     "data": {
      "application/vnd.jupyter.widget-view+json": {
       "model_id": "3c42a764a6a64f6f9dcb8e3695405223",
       "version_major": 2,
       "version_minor": 0
      },
      "text/plain": [
       "ToggleButtons(description='Action ?', icons=('question', 'list-ol'), options=('Une carte dans la pioche ', 'Un…"
      ]
     },
     "metadata": {},
     "output_type": "display_data"
    },
    {
     "name": "stdout",
     "output_type": "stream",
     "text": [
      "Okay?\n"
     ]
    },
    {
     "data": {
      "text/plain": [
       "''"
      ]
     },
     "execution_count": 249,
     "metadata": {},
     "output_type": "execute_result"
    },
    {
     "name": "stdout",
     "output_type": "stream",
     "text": [
      "Choix : 0\n"
     ]
    }
   ],
   "source": [
    "bouton = piocher_ou_choisir_une_carte_visible()\n",
    "display(bouton)\n",
    "input(\"Okay?\")\n",
    "print(\"Choix :\", bouton.index)"
   ]
  },
  {
   "cell_type": "markdown",
   "metadata": {},
   "source": [
    "Pour savoir quoi jeter :"
   ]
  },
  {
   "cell_type": "code",
   "execution_count": 172,
   "metadata": {},
   "outputs": [
    {
     "data": {
      "text/plain": [
       "[10♥,  V♥,  V♠]"
      ]
     },
     "execution_count": 172,
     "metadata": {},
     "output_type": "execute_result"
    }
   ],
   "source": [
    "exemple_de_main = [Carte(10, coeur), Carte(11, coeur), Carte(11, pique)]\n",
    "exemple_de_main"
   ]
  },
  {
   "cell_type": "code",
   "execution_count": 272,
   "metadata": {
    "scrolled": true
   },
   "outputs": [
    {
     "data": {
      "application/vnd.jupyter.widget-view+json": {
       "model_id": "f5c0f9f2e8ef44858f106c9a1d8700c6",
       "version_major": 2,
       "version_minor": 0
      },
      "text/plain": [
       "ToggleButton(value=False, button_style='success', description='Jap Jap ? (32)', icon='check', style=Descriptio…"
      ]
     },
     "metadata": {},
     "output_type": "display_data"
    }
   ],
   "source": [
    "def faire_japjap(main):\n",
    "    return widgets.ToggleButton(\n",
    "        value=False,\n",
    "        description=\"Jap Jap ? ({})\".format(valeur_main(main)),\n",
    "        button_style=\"success\",\n",
    "        tooltip=\"Votre main vaut moins de 5 points, donc vous pouvez terminer la partie !\",\n",
    "        icon=\"check\",\n",
    "        style=style,\n",
    "    )\n",
    "\n",
    "faire_japjap(exemple_de_main)"
   ]
  },
  {
   "cell_type": "code",
   "execution_count": 275,
   "metadata": {},
   "outputs": [
    {
     "data": {
      "application/vnd.jupyter.widget-view+json": {
       "model_id": "240143ff584440d0831fb5d43ac82ae5",
       "version_major": 2,
       "version_minor": 0
      },
      "text/plain": [
       "ToggleButton(value=False, button_style='success', description='Jap Jap ? (32)', icon='check', style=Descriptio…"
      ]
     },
     "metadata": {},
     "output_type": "display_data"
    },
    {
     "name": "stdout",
     "output_type": "stream",
     "text": [
      "Okay?\n"
     ]
    },
    {
     "data": {
      "text/plain": [
       "''"
      ]
     },
     "execution_count": 275,
     "metadata": {},
     "output_type": "execute_result"
    }
   ],
   "source": [
    "b = faire_japjap(exemple_de_main)\n",
    "display(b)\n",
    "input(\"Okay?\")"
   ]
  },
  {
   "cell_type": "code",
   "execution_count": 276,
   "metadata": {},
   "outputs": [
    {
     "data": {
      "text/plain": [
       "True"
      ]
     },
     "execution_count": 276,
     "metadata": {},
     "output_type": "execute_result"
    }
   ],
   "source": [
    "b.value"
   ]
  },
  {
   "cell_type": "code",
   "execution_count": 345,
   "metadata": {
    "scrolled": true
   },
   "outputs": [
    {
     "data": {
      "application/vnd.jupyter.widget-view+json": {
       "model_id": "8ad25393701a46d89a668ac1ce615388",
       "version_major": 2,
       "version_minor": 0
      },
      "text/plain": [
       "SelectMultiple(description='Quoi jeter ?', index=(0,), options=(10♥,  V♥,  V♠), style=DescriptionStyle(descrip…"
      ]
     },
     "metadata": {},
     "output_type": "display_data"
    }
   ],
   "source": [
    "def quoi_jeter(main):\n",
    "    return widgets.SelectMultiple(\n",
    "        options=main,\n",
    "        index=[0],\n",
    "        description=\"Quoi jeter ?\",\n",
    "        style=style,\n",
    "    )\n",
    "\n",
    "quoi_jeter(exemple_de_main)"
   ]
  },
  {
   "cell_type": "code",
   "execution_count": 356,
   "metadata": {},
   "outputs": [
    {
     "data": {
      "application/vnd.jupyter.widget-view+json": {
       "model_id": "1799d5597d8f4a1aae1823c82b5ed4df",
       "version_major": 2,
       "version_minor": 0
      },
      "text/plain": [
       "SelectMultiple(description='Quoi jeter ?', index=(0,), options=(10♥,  V♥,  V♠), style=DescriptionStyle(descrip…"
      ]
     },
     "metadata": {},
     "output_type": "display_data"
    },
    {
     "data": {
      "text/plain": [
       "False"
      ]
     },
     "execution_count": 356,
     "metadata": {},
     "output_type": "execute_result"
    },
    {
     "name": "stdout",
     "output_type": "stream",
     "text": [
      "waited for 2 seconds\n",
      "Choix : (0,)\n"
     ]
    }
   ],
   "source": [
    "b = quoi_jeter(exemple_de_main)\n",
    "display(b)\n",
    "time.sleep(5)\n",
    "\n",
    "# TODO https://ipywidgets.readthedocs.io/en/latest/examples/Widget%20Asynchronous.html\n",
    "\n",
    "#input(\"Okay?\")\n",
    "print(\"Choix :\", b.index)"
   ]
  },
  {
   "cell_type": "code",
   "execution_count": 358,
   "metadata": {},
   "outputs": [],
   "source": [
    "%gui asyncio"
   ]
  },
  {
   "cell_type": "code",
   "execution_count": 359,
   "metadata": {},
   "outputs": [],
   "source": [
    "import asyncio\n",
    "def wait_for_change(widget, value):\n",
    "    future = asyncio.Future()\n",
    "    def getvalue(change):\n",
    "        # make the new value available\n",
    "        future.set_result(change.new)\n",
    "        widget.unobserve(getvalue, value)\n",
    "    widget.observe(getvalue, value)\n",
    "    return future"
   ]
  },
  {
   "cell_type": "code",
   "execution_count": 362,
   "metadata": {},
   "outputs": [
    {
     "data": {
      "text/plain": [
       "<Task pending coro=<f() running at <ipython-input-362-2d84dde3511e>:4>>"
      ]
     },
     "execution_count": 362,
     "metadata": {},
     "output_type": "execute_result"
    },
    {
     "data": {
      "application/vnd.jupyter.widget-view+json": {
       "model_id": "93022dc62bff4558b11990fe02ca557d",
       "version_major": 2,
       "version_minor": 0
      },
      "text/plain": [
       "IntSlider(value=0)"
      ]
     },
     "metadata": {},
     "output_type": "display_data"
    },
    {
     "name": "stdout",
     "output_type": "stream",
     "text": [
      "Fin : slider.value = 0\n",
      "async function continued with value 73\n"
     ]
    }
   ],
   "source": [
    "from ipywidgets import IntSlider\n",
    "slider = IntSlider()\n",
    "\n",
    "async def f():\n",
    "    for i in range(10):\n",
    "        #print('did work %s'%i)\n",
    "        x = await wait_for_change(slider, 'value')\n",
    "        print('async function continued with value %s'%x)\n",
    "asyncio.ensure_future(f())\n",
    "\n",
    "slider\n",
    "print(\"Fin : slider.value =\", slider.value)"
   ]
  },
  {
   "cell_type": "code",
   "execution_count": 363,
   "metadata": {},
   "outputs": [],
   "source": [
    "from functools import wraps\n",
    "def yield_for_change(widget, attribute):\n",
    "    \"\"\"Pause a generator to wait for a widget change event.\n",
    "\n",
    "    This is a decorator for a generator function which pauses the generator on yield\n",
    "    until the given widget attribute changes. The new value of the attribute is\n",
    "    sent to the generator and is the value of the yield.\n",
    "    \"\"\"\n",
    "    def f(iterator):\n",
    "        @wraps(iterator)\n",
    "        def inner():\n",
    "            i = iterator()\n",
    "            def next_i(change):\n",
    "                try:\n",
    "                    i.send(change.new)\n",
    "                except StopIteration as e:\n",
    "                    widget.unobserve(next_i, attribute)\n",
    "            widget.observe(next_i, attribute)\n",
    "            # start the generator\n",
    "            next(i)\n",
    "        return inner\n",
    "    return f"
   ]
  },
  {
   "cell_type": "code",
   "execution_count": 368,
   "metadata": {
    "scrolled": false
   },
   "outputs": [
    {
     "data": {
      "application/vnd.jupyter.widget-view+json": {
       "model_id": "fc08a6ab78d345eeb52b1a61f4c82336",
       "version_major": 2,
       "version_minor": 0
      },
      "text/plain": [
       "SelectMultiple(options=(0, 1, 2, 3, 4), value=())"
      ]
     },
     "metadata": {},
     "output_type": "display_data"
    },
    {
     "name": "stdout",
     "output_type": "stream",
     "text": [
      "generator function continued with value (3,)\n",
      "generator function continued with value (1, 3)\n",
      "generator function continued with value (1, 3, 4)\n"
     ]
    }
   ],
   "source": [
    "button = widgets.SelectMultiple(options=list(range(5)))\n",
    "\n",
    "@yield_for_change(button, 'value')\n",
    "def f():\n",
    "    for i in range(10):\n",
    "        #print(\"did work\", i)\n",
    "        x = yield\n",
    "        print(\"generator function continued with value\", x)\n",
    "f()\n",
    "\n",
    "button"
   ]
  },
  {
   "cell_type": "code",
   "execution_count": 356,
   "metadata": {},
   "outputs": [
    {
     "data": {
      "application/vnd.jupyter.widget-view+json": {
       "model_id": "1799d5597d8f4a1aae1823c82b5ed4df",
       "version_major": 2,
       "version_minor": 0
      },
      "text/plain": [
       "SelectMultiple(description='Quoi jeter ?', index=(0,), options=(10♥,  V♥,  V♠), style=DescriptionStyle(descrip…"
      ]
     },
     "metadata": {},
     "output_type": "display_data"
    },
    {
     "data": {
      "text/plain": [
       "False"
      ]
     },
     "execution_count": 356,
     "metadata": {},
     "output_type": "execute_result"
    },
    {
     "name": "stdout",
     "output_type": "stream",
     "text": [
      "waited for 2 seconds\n",
      "Choix : (0,)\n"
     ]
    }
   ],
   "source": [
    "b = quoi_jeter(exemple_de_main)\n",
    "display(b)\n",
    "time.sleep(5)\n",
    "\n",
    "# TODO https://ipywidgets.readthedocs.io/en/latest/examples/Widget%20Asynchronous.html\n",
    "\n",
    "#input(\"Okay?\")\n",
    "print(\"Choix :\", b.index)"
   ]
  },
  {
   "cell_type": "code",
   "execution_count": 357,
   "metadata": {},
   "outputs": [
    {
     "data": {
      "text/plain": [
       "(0, 2)"
      ]
     },
     "execution_count": 357,
     "metadata": {},
     "output_type": "execute_result"
    }
   ],
   "source": [
    "b.index"
   ]
  },
  {
   "cell_type": "code",
   "execution_count": 373,
   "metadata": {},
   "outputs": [
    {
     "data": {
      "application/vnd.jupyter.widget-view+json": {
       "model_id": "cc618665a8dc47d0a901f1c22f48912e",
       "version_major": 2,
       "version_minor": 0
      },
      "text/plain": [
       "SelectMultiple(description='Quoi jeter ?', index=(0,), options=(10♥,  V♥,  V♠), style=DescriptionStyle(descrip…"
      ]
     },
     "metadata": {},
     "output_type": "display_data"
    },
    {
     "data": {
      "application/vnd.jupyter.widget-view+json": {
       "model_id": "0dff2238cd494ee4bc5b10d69303df99",
       "version_major": 2,
       "version_minor": 0
      },
      "text/plain": [
       "Button(description='Click Me!', style=ButtonStyle())"
      ]
     },
     "metadata": {},
     "output_type": "display_data"
    },
    {
     "name": "stdout",
     "output_type": "stream",
     "text": [
      "Choix : (0,)\n",
      "Button clicked.\n",
      "Choix : (0,)\n",
      "Button clicked.\n",
      "Choix : (1, 2)\n"
     ]
    }
   ],
   "source": [
    "from IPython.display import display\n",
    "\n",
    "qj = quoi_jeter(exemple_de_main)\n",
    "display(qj)\n",
    "\n",
    "button = widgets.Button(description=\"Click Me!\")\n",
    "display(button)\n",
    "\n",
    "def on_button_clicked(b):\n",
    "    print(\"Button clicked.\")\n",
    "    print(\"Choix :\", qj.index)\n",
    "\n",
    "button.on_click(on_button_clicked)\n",
    "\n",
    "print(\"Choix :\", qj.index)"
   ]
  },
  {
   "cell_type": "markdown",
   "metadata": {},
   "source": [
    "Pour savoir quoi piocher :"
   ]
  },
  {
   "cell_type": "code",
   "execution_count": 178,
   "metadata": {},
   "outputs": [
    {
     "data": {
      "text/plain": [
       "[ V♠, 10♣]"
      ]
     },
     "execution_count": 178,
     "metadata": {},
     "output_type": "execute_result"
    }
   ],
   "source": [
    "exemple_de_visibles = [Carte(11, pique), Carte(10, treffle)]\n",
    "exemple_de_visibles"
   ]
  },
  {
   "cell_type": "code",
   "execution_count": 192,
   "metadata": {},
   "outputs": [
    {
     "data": {
      "application/vnd.jupyter.widget-view+json": {
       "model_id": "984d86528286416499fb6d3096081141",
       "version_major": 2,
       "version_minor": 0
      },
      "text/plain": [
       "ToggleButtons(description='Prendre ?', options=( V♠, 10♣), value= V♠)"
      ]
     },
     "metadata": {},
     "output_type": "display_data"
    }
   ],
   "source": [
    "def quoi_prendre(visibles):\n",
    "    return widgets.ToggleButtons(\n",
    "        options=visibles,\n",
    "        #index=0,\n",
    "        description=\"Prendre quelle carte du sommet ?\",\n",
    "        style=style,\n",
    "    )\n",
    "\n",
    "quoi_prendre(exemple_de_visibles)"
   ]
  },
  {
   "cell_type": "markdown",
   "metadata": {},
   "source": [
    "Maintenant on peut tout combiner. On va laisser 8 secondes pour décider."
   ]
  },
  {
   "cell_type": "code",
   "execution_count": 334,
   "metadata": {},
   "outputs": [],
   "source": [
    "import time"
   ]
  },
  {
   "cell_type": "code",
   "execution_count": 335,
   "metadata": {},
   "outputs": [],
   "source": [
    "def demander_action(visibles=None, main=None):\n",
    "    print(\"- Main : {} (valeur = {})\".format(main, valeur_main(main)))\n",
    "    print(\"- Sommet de la défausse  :\", visibles)\n",
    "    # 1. quoi jouer\n",
    "    bouton1 = piocher_ou_choisir_une_carte_visible()\n",
    "    display(bouton1)\n",
    "    time.sleep(8)\n",
    "    input(\"Okay?\")\n",
    "    piocher = bouton1.index == 0\n",
    "    print(\"  ==> Choix :\", bouton.value)\n",
    "    # 2.a. si piocher, rien à faire pour savoir quoi piocher\n",
    "    if piocher:\n",
    "        print(\"Okay, vous piochez.\")\n",
    "        typeAction = \"piocher\"\n",
    "        choix = None\n",
    "    # 2.b. si choisir carte\n",
    "    else:\n",
    "        print(\"Okay, vous choisissez dans le sommet de la défausse.\")\n",
    "        typeAction = \"choisir\"\n",
    "        bouton2 = quoi_prendre(visibles)\n",
    "        display(bouton2)\n",
    "        time.sleep(8)\n",
    "        input(\"Okay?\")\n",
    "        print(\"  ==> Choix :\", bouton2.index)\n",
    "        choix = bouton2.index\n",
    "    # 3.a. si on peut faire jap jap, demander si on le fait ?\n",
    "    if valeur_main(main) <= 5:\n",
    "        print(\"Vous pouvez faire Jap Jap !\")\n",
    "        bouton3 = faire_japjap(main)\n",
    "        display(bouton3)\n",
    "        time.sleep(8)\n",
    "        input(\"Okay?\")\n",
    "        print(\"  ==> Choix :\", bouton3.value)\n",
    "        if bouton3.value:\n",
    "            typeAction = \"Jap Jap !\"\n",
    "            jetees = None\n",
    "    # 3. choisir quoi jeter\n",
    "    if typeAction != \"Jap Jap !\":\n",
    "        bouton4 = quoi_jeter(main)\n",
    "        display(bouton4)\n",
    "        time.sleep(8)\n",
    "        input(\"Okay?\")\n",
    "        print(\"  ==> Choix :\", bouton4.index)\n",
    "        jetees = bouton4.index\n",
    "    choix = action(typeAction=typeAction, choix=choix)\n",
    "    return choix, jetees"
   ]
  },
  {
   "cell_type": "code",
   "execution_count": 336,
   "metadata": {},
   "outputs": [
    {
     "name": "stdout",
     "output_type": "stream",
     "text": [
      "- Main : [10♥,  V♥,  V♠] (valeur = 32)\n",
      "- Sommet de la défausse  : [ V♠, 10♣]\n"
     ]
    },
    {
     "data": {
      "application/vnd.jupyter.widget-view+json": {
       "model_id": "c342f67f6bfd4bc4bb84445b79b167b6",
       "version_major": 2,
       "version_minor": 0
      },
      "text/plain": [
       "ToggleButtons(description='Action ?', icons=('question', 'list-ol'), options=('Une carte dans la pioche ', 'Un…"
      ]
     },
     "metadata": {},
     "output_type": "display_data"
    },
    {
     "name": "stdout",
     "output_type": "stream",
     "text": [
      "Okay?\n",
      "  ==> Choix : Une carte du sommet de la défausse \n",
      "Okay, vous piochez.\n"
     ]
    },
    {
     "data": {
      "application/vnd.jupyter.widget-view+json": {
       "model_id": "742211a46b42408983ac7889150eeaad",
       "version_major": 2,
       "version_minor": 0
      },
      "text/plain": [
       "SelectMultiple(description='Quoi jeter ?', options=(10♥,  V♥,  V♠), style=DescriptionStyle(description_width='…"
      ]
     },
     "metadata": {},
     "output_type": "display_data"
    },
    {
     "name": "stdout",
     "output_type": "stream",
     "text": [
      "Okay?\n",
      "  ==> Choix : ()\n"
     ]
    },
    {
     "data": {
      "text/plain": [
       "(<__main__.action at 0x7fb5a299a978>, ())"
      ]
     },
     "execution_count": 336,
     "metadata": {},
     "output_type": "execute_result"
    }
   ],
   "source": [
    "demander_action(\n",
    "    visibles=exemple_de_visibles,\n",
    "    main=exemple_de_main,\n",
    ")"
   ]
  },
  {
   "cell_type": "code",
   "execution_count": 176,
   "metadata": {},
   "outputs": [
    {
     "name": "stdout",
     "output_type": "stream",
     "text": [
      "Tu joues quoi?\n"
     ]
    },
    {
     "data": {
      "text/plain": [
       "''"
      ]
     },
     "execution_count": 176,
     "metadata": {},
     "output_type": "execute_result"
    }
   ],
   "source": [
    "input(\"Tu joues quoi?\")"
   ]
  },
  {
   "cell_type": "markdown",
   "metadata": {},
   "source": [
    "Maintenant on peut représenter un état du jeu."
   ]
  },
  {
   "cell_type": "code",
   "execution_count": 318,
   "metadata": {},
   "outputs": [],
   "source": [
    "class EtatJeu():\n",
    "    def __init__(self, nbPersonnes=2, nomsPersonnes=None,\n",
    "                 scoreMax=90, malusContreJapJap=25, nbCartesMax=5):\n",
    "        assert 2 <= nbPersonnes <= 5, \"Le nombre de personnes pouvant jouer doit etre entre 2 et 5.\"\n",
    "        self.nbPersonnes = nbPersonnes\n",
    "        self.nomsPersonnes = nomsPersonnes\n",
    "        self.scoreMax = scoreMax\n",
    "        self.malusContreJapJap = malusContreJapJap\n",
    "        self.nbCartesMax = nbCartesMax\n",
    "        # on initialise le stockage interne\n",
    "        self.personnes = [personne for personne in range(nbPersonnes)]\n",
    "        self.scores = [\n",
    "            0 for personne in self.personnes\n",
    "        ]\n",
    "        self.mains = [\n",
    "            [ ] for personne in self.personnes\n",
    "        ]\n",
    "        self.visibles = []\n",
    "        self.jeu = nouveau_jeu()\n",
    "    \n",
    "    def montrer_information_visibles(self):\n",
    "        print(\"- Nombre de carte dans la pioche :\", len(self.jeu))\n",
    "        print(\"- Cartes visibles au sommet de la défausse :\", len(self.visibles))\n",
    "        for personne in self.personnes:\n",
    "            nom = self.nomsPersonnes[personne] if self.nomsPersonnes is not None else personne\n",
    "            main = self.mains[personne]\n",
    "            score = self.scores[personne]\n",
    "            print(\"    + Personne {} a {} carte{} en main, et un score de {}.\".format(\n",
    "                nom, len(main), \"s\" if len(main) > 1 else \"\", score)\n",
    "            )\n",
    "\n",
    "    def montrer_information_privee(self, personne=0):\n",
    "        main = self.mains[personne]\n",
    "        nom = self.nomsPersonnes[personne] if self.nomsPersonnes is not None else personne\n",
    "        print(\"[{}] Carte{} en main : {}\".format(nom, \"s\" if len(main) > 1 else \"\", main))\n",
    "    \n",
    "    # --- Mécanique de pioche et distribution initiale\n",
    "    \n",
    "    def prendre_une_carte_pioche(self):\n",
    "        if len(self.jeu) <= 0:\n",
    "            raise FinDuneManche\n",
    "        premiere_carte = self.jeu.pop(0)\n",
    "        return premiere_carte\n",
    "    \n",
    "    def debut_jeu(self):\n",
    "        self.distribuer_mains()\n",
    "        premiere_carte = self.prendre_une_carte_pioche()\n",
    "        self.visibles = [premiere_carte]\n",
    "    \n",
    "    def donner_une_carte(self, personne=0):\n",
    "        premiere_carte = self.prendre_une_carte_pioche()\n",
    "        self.mains[personne].append(premiere_carte)\n",
    "        \n",
    "    def distribuer_mains(self):\n",
    "        self.mains = [\n",
    "            [ ] for personne in self.personnes\n",
    "        ]\n",
    "        premiere_personne = random.choice(self.personnes)\n",
    "        self.personnes = self.personnes[premiere_personne:] + self.personnes[:premiere_personne]\n",
    "        for nb_carte in range(self.nbCartesMax):\n",
    "            for personne in self.personnes:\n",
    "                self.donner_une_carte(personne)\n",
    "    \n",
    "    # --- Fin d'une manche\n",
    "    \n",
    "    def fin_dune_manche(self):\n",
    "        self.jeu = nouveau_jeu()\n",
    "        self.debut_jeu()\n",
    "    \n",
    "    # --- Enchainer les tours de jeux\n",
    "    \n",
    "    def enchainer_les_tours(self):\n",
    "        try:\n",
    "            indice_actuel = 0\n",
    "            while True:\n",
    "                # dans la même manche, on joue chaque tour, pour la personne actuelle\n",
    "                personne_actuelle = self.personnes[indice_actuel]\n",
    "                \n",
    "                # 1. on affiche ce qui est public, et privé\n",
    "                self.montrer_information_visibles()\n",
    "                self.montrer_information_privee(personne_actuelle)\n",
    "                \n",
    "                # 2. on demande l'action choisie par la personne\n",
    "                choix, jetees = demander_action(\n",
    "                    visibles=self.visibles,\n",
    "                    main=self.mains[personne_actuelle],\n",
    "                )\n",
    "\n",
    "                # 3. on joue l'action\n",
    "                self.jouer(\n",
    "                    personne=personne_actuelle,\n",
    "                    action=choix,\n",
    "                    indices = jetees,\n",
    "                )\n",
    "                \n",
    "                # personne suivante\n",
    "                indice_actuel = (indice_actuel + 1) % self.nbPersonnes\n",
    "        except FinDuneManche:\n",
    "            print(\"\\nFin d'une manche.\")\n",
    "            fin_dune_manche()\n",
    "        except FinDunePartie:\n",
    "            print(\"\\n\\nFin d'une partie.\")\n",
    "    \n",
    "    # --- Un tour de jeu\n",
    "    \n",
    "    def jouer(self, personne=0, action=action_piocher, indices=None):\n",
    "        jetees = [ self.mains[personne][indice] for indice in indices ]\n",
    "        assert valide_le_coup(jetees)\n",
    "        # et on en prend une nouvelle\n",
    "        if action.est_piocher():\n",
    "            # soit celle face cachée en sommet de pioche\n",
    "            premiere_carte = self.prendre_une_carte_pioche()\n",
    "        elif action.est_choisir():\n",
    "            # soit une des cartes précedemmen visibles\n",
    "            choix = action.choix\n",
    "            carte_choisie = self.visibles.pop(choix)\n",
    "            self.mains[personne].append(carte_choisie)\n",
    "        elif action.est_japjap():\n",
    "            # on vérifie que cette personne a bien jeté toute sa main\n",
    "            assert jetees == self.mains[personne]\n",
    "            # et qu'elle a bien un Jap Jap !\n",
    "            valeur_du_premier_japjap = valeur_main(jetees)\n",
    "            assert 1 <= valeur_du_premier_japjap <= 5\n",
    "            gagnante = personne\n",
    "            contre_JapJap = False\n",
    "\n",
    "            # on vérifie les valeurs des mains des autres personnes\n",
    "            valeurs_mains = [valeur_main(main) for main in self.mains]\n",
    "            plus_petite_valeur = min([valeurs_mains[autre_personne] for autre_personne in [ p for p in personnes if p != gagnante ]])\n",
    "            if plus_petite_valeur < valeur_du_premier_japjap:\n",
    "                # si une personne a un jap jap plus petit, la personne ne gagne pas\n",
    "                contre_JapJap = True\n",
    "                # la personne gagnante est la première (ordre du jeu) à obtenir le jap jap\n",
    "                # de valeur minimale, et en cas d'égalité c'est la personne obtenant\n",
    "                # cette valeur en le nombre minimal de cartes !\n",
    "                gagnantes = [ p for p in personnes if valeurs_mains[p] == plus_petite_valeur ]\n",
    "                nombre_min_carte = min([len(self.mains[p]) for p in gagnantes])\n",
    "                gagnante = min([p for p in gagnantes if len(self.mains[p]) == nombre_min_carte])\n",
    "\n",
    "            # on marque les scores\n",
    "            for autre_personne in [ p for p in personnes if p != gagnante ]:\n",
    "                self.scores[autre_personne] += valeur_main(self.mains[autre_personne])\n",
    "            # si la personne s'est prise un contre jap jap, elle marque +25 et pas son total de cartes en main\n",
    "            if contre_JapJap:\n",
    "                self.scores[personne] -= valeur_main(self.mains[personne])\n",
    "                self.scores[personne] += self.malusContreJapJap\n",
    "                \n",
    "            # si un score est >= 90\n",
    "            if max(self.scores) >= self.scoreMax:\n",
    "                # quelqu'un a perdu cette partie !\n",
    "                for personne in personnes:\n",
    "                    score = self.scores[personne]\n",
    "                    if score == max(self.scores):\n",
    "                        nom = self.nomsPersonnes[personne] if self.nomsPersonnes is not None else personne\n",
    "                        print(\"\\n==> La personne {} a perdu, avec un score de {}.\".format(nom, score))\n",
    "                raise FinDunePartie\n",
    "            raise FinDuneManche\n",
    "        # on pose ses cartes jetées\n",
    "        self.visibles = jetees(carte_choisie)\n",
    "        # et ça continue"
   ]
  },
  {
   "cell_type": "markdown",
   "metadata": {},
   "source": [
    "## Un exemple de début de jeu"
   ]
  },
  {
   "cell_type": "code",
   "execution_count": 319,
   "metadata": {},
   "outputs": [],
   "source": [
    "jeu = EtatJeu()"
   ]
  },
  {
   "cell_type": "code",
   "execution_count": 320,
   "metadata": {},
   "outputs": [
    {
     "data": {
      "text/plain": [
       "[ 2♠,  2♥,  V♥,  V♦,  8♦]"
      ]
     },
     "execution_count": 320,
     "metadata": {},
     "output_type": "execute_result"
    }
   ],
   "source": [
    "jeu.jeu[:5]"
   ]
  },
  {
   "cell_type": "code",
   "execution_count": 321,
   "metadata": {},
   "outputs": [
    {
     "data": {
      "text/plain": [
       "[[], []]"
      ]
     },
     "execution_count": 321,
     "metadata": {},
     "output_type": "execute_result"
    }
   ],
   "source": [
    "jeu.mains"
   ]
  },
  {
   "cell_type": "code",
   "execution_count": 322,
   "metadata": {},
   "outputs": [],
   "source": [
    "jeu.donner_une_carte(0)"
   ]
  },
  {
   "cell_type": "code",
   "execution_count": 323,
   "metadata": {},
   "outputs": [
    {
     "data": {
      "text/plain": [
       "[[ 2♠], []]"
      ]
     },
     "execution_count": 323,
     "metadata": {},
     "output_type": "execute_result"
    }
   ],
   "source": [
    "jeu.mains"
   ]
  },
  {
   "cell_type": "code",
   "execution_count": 324,
   "metadata": {},
   "outputs": [],
   "source": [
    "jeu.donner_une_carte(1)"
   ]
  },
  {
   "cell_type": "code",
   "execution_count": 325,
   "metadata": {},
   "outputs": [
    {
     "data": {
      "text/plain": [
       "[[ 2♠], [ 2♥]]"
      ]
     },
     "execution_count": 325,
     "metadata": {},
     "output_type": "execute_result"
    }
   ],
   "source": [
    "jeu.mains"
   ]
  },
  {
   "cell_type": "code",
   "execution_count": 326,
   "metadata": {},
   "outputs": [],
   "source": [
    "jeu.donner_une_carte(0)"
   ]
  },
  {
   "cell_type": "code",
   "execution_count": 327,
   "metadata": {},
   "outputs": [
    {
     "data": {
      "text/plain": [
       "[[ 2♠,  V♥], [ 2♥]]"
      ]
     },
     "execution_count": 327,
     "metadata": {},
     "output_type": "execute_result"
    }
   ],
   "source": [
    "jeu.mains"
   ]
  },
  {
   "cell_type": "code",
   "execution_count": 328,
   "metadata": {},
   "outputs": [],
   "source": [
    "jeu.donner_une_carte(1)"
   ]
  },
  {
   "cell_type": "code",
   "execution_count": 329,
   "metadata": {
    "scrolled": true
   },
   "outputs": [
    {
     "data": {
      "text/plain": [
       "[[ 2♠,  V♥], [ 2♥,  V♦]]"
      ]
     },
     "execution_count": 329,
     "metadata": {},
     "output_type": "execute_result"
    }
   ],
   "source": [
    "jeu.mains"
   ]
  },
  {
   "cell_type": "code",
   "execution_count": 330,
   "metadata": {},
   "outputs": [
    {
     "data": {
      "text/plain": [
       "[ 8♦,  6♣,  3♠,  7♦,  V♣]"
      ]
     },
     "execution_count": 330,
     "metadata": {},
     "output_type": "execute_result"
    }
   ],
   "source": [
    "jeu.jeu[:5]"
   ]
  },
  {
   "cell_type": "markdown",
   "metadata": {},
   "source": [
    "## Un exemple de tour"
   ]
  },
  {
   "cell_type": "code",
   "execution_count": 331,
   "metadata": {},
   "outputs": [],
   "source": [
    "jeu = EtatJeu(nomsPersonnes=[\"Alice\", \"Bob\"])"
   ]
  },
  {
   "cell_type": "code",
   "execution_count": 332,
   "metadata": {},
   "outputs": [],
   "source": [
    "jeu.debut_jeu()"
   ]
  },
  {
   "cell_type": "code",
   "execution_count": 333,
   "metadata": {},
   "outputs": [
    {
     "name": "stdout",
     "output_type": "stream",
     "text": [
      "- Nombre de carte dans la pioche : 41\n",
      "- Cartes visibles au sommet de la défausse : 1\n",
      "    + Personne Alice a 5 cartes en main, et un score de 0.\n",
      "    + Personne Bob a 5 cartes en main, et un score de 0.\n",
      "[Alice] Cartes en main : [ 1♥,  3♠,  Q♠,  K♦,  Q♥]\n",
      "- Main : [ 1♥,  3♠,  Q♠,  K♦,  Q♥] (valeur = 41)\n",
      "- Sommet de la défausse  : [ 3♥]\n"
     ]
    },
    {
     "data": {
      "application/vnd.jupyter.widget-view+json": {
       "model_id": "8996b927c38f4807959197399f4ed0c3",
       "version_major": 2,
       "version_minor": 0
      },
      "text/plain": [
       "ToggleButtons(description='Action ?', icons=('question', 'list-ol'), options=('Une carte dans la pioche ', 'Un…"
      ]
     },
     "metadata": {},
     "output_type": "display_data"
    },
    {
     "name": "stdout",
     "output_type": "stream",
     "text": [
      "Okay?\n",
      "  ==> Choix : Une carte dans la pioche \n",
      "Okay, vous piochez.\n"
     ]
    },
    {
     "data": {
      "application/vnd.jupyter.widget-view+json": {
       "model_id": "f2d99965ea09447c92b53b55e00ec4eb",
       "version_major": 2,
       "version_minor": 0
      },
      "text/plain": [
       "SelectMultiple(description='Quoi jeter ?', options=( 1♥,  3♠,  Q♠,  K♦,  Q♥), style=DescriptionStyle(descripti…"
      ]
     },
     "metadata": {},
     "output_type": "display_data"
    },
    {
     "name": "stdout",
     "output_type": "stream",
     "text": [
      "Okay?\n",
      "  ==> Choix : ()\n"
     ]
    },
    {
     "ename": "AssertionError",
     "evalue": "",
     "output_type": "error",
     "traceback": [
      "\u001b[0;31m---------------------------------------------------------------------------\u001b[0m",
      "\u001b[0;31mAssertionError\u001b[0m                            Traceback (most recent call last)",
      "\u001b[0;32m<ipython-input-333-93d40dee735e>\u001b[0m in \u001b[0;36m<module>\u001b[0;34m\u001b[0m\n\u001b[0;32m----> 1\u001b[0;31m \u001b[0mjeu\u001b[0m\u001b[0;34m.\u001b[0m\u001b[0menchainer_les_tours\u001b[0m\u001b[0;34m(\u001b[0m\u001b[0;34m)\u001b[0m\u001b[0;34m\u001b[0m\u001b[0;34m\u001b[0m\u001b[0m\n\u001b[0m",
      "\u001b[0;32m<ipython-input-318-6b5059323196>\u001b[0m in \u001b[0;36menchainer_les_tours\u001b[0;34m(self)\u001b[0m\n\u001b[1;32m     91\u001b[0m                     \u001b[0mpersonne\u001b[0m\u001b[0;34m=\u001b[0m\u001b[0mpersonne_actuelle\u001b[0m\u001b[0;34m,\u001b[0m\u001b[0;34m\u001b[0m\u001b[0;34m\u001b[0m\u001b[0m\n\u001b[1;32m     92\u001b[0m                     \u001b[0maction\u001b[0m\u001b[0;34m=\u001b[0m\u001b[0mchoix\u001b[0m\u001b[0;34m,\u001b[0m\u001b[0;34m\u001b[0m\u001b[0;34m\u001b[0m\u001b[0m\n\u001b[0;32m---> 93\u001b[0;31m                     \u001b[0mindices\u001b[0m \u001b[0;34m=\u001b[0m \u001b[0mjetees\u001b[0m\u001b[0;34m,\u001b[0m\u001b[0;34m\u001b[0m\u001b[0;34m\u001b[0m\u001b[0m\n\u001b[0m\u001b[1;32m     94\u001b[0m                 )\n\u001b[1;32m     95\u001b[0m \u001b[0;34m\u001b[0m\u001b[0m\n",
      "\u001b[0;32m<ipython-input-318-6b5059323196>\u001b[0m in \u001b[0;36mjouer\u001b[0;34m(self, personne, action, indices)\u001b[0m\n\u001b[1;32m    106\u001b[0m     \u001b[0;32mdef\u001b[0m \u001b[0mjouer\u001b[0m\u001b[0;34m(\u001b[0m\u001b[0mself\u001b[0m\u001b[0;34m,\u001b[0m \u001b[0mpersonne\u001b[0m\u001b[0;34m=\u001b[0m\u001b[0;36m0\u001b[0m\u001b[0;34m,\u001b[0m \u001b[0maction\u001b[0m\u001b[0;34m=\u001b[0m\u001b[0maction_piocher\u001b[0m\u001b[0;34m,\u001b[0m \u001b[0mindices\u001b[0m\u001b[0;34m=\u001b[0m\u001b[0;32mNone\u001b[0m\u001b[0;34m)\u001b[0m\u001b[0;34m:\u001b[0m\u001b[0;34m\u001b[0m\u001b[0;34m\u001b[0m\u001b[0m\n\u001b[1;32m    107\u001b[0m         \u001b[0mjetees\u001b[0m \u001b[0;34m=\u001b[0m \u001b[0;34m[\u001b[0m \u001b[0mself\u001b[0m\u001b[0;34m.\u001b[0m\u001b[0mmains\u001b[0m\u001b[0;34m[\u001b[0m\u001b[0mpersonne\u001b[0m\u001b[0;34m]\u001b[0m\u001b[0;34m[\u001b[0m\u001b[0mindice\u001b[0m\u001b[0;34m]\u001b[0m \u001b[0;32mfor\u001b[0m \u001b[0mindice\u001b[0m \u001b[0;32min\u001b[0m \u001b[0mindices\u001b[0m \u001b[0;34m]\u001b[0m\u001b[0;34m\u001b[0m\u001b[0;34m\u001b[0m\u001b[0m\n\u001b[0;32m--> 108\u001b[0;31m         \u001b[0;32massert\u001b[0m \u001b[0mvalide_le_coup\u001b[0m\u001b[0;34m(\u001b[0m\u001b[0mjetees\u001b[0m\u001b[0;34m)\u001b[0m\u001b[0;34m\u001b[0m\u001b[0;34m\u001b[0m\u001b[0m\n\u001b[0m\u001b[1;32m    109\u001b[0m         \u001b[0;31m# et on en prend une nouvelle\u001b[0m\u001b[0;34m\u001b[0m\u001b[0;34m\u001b[0m\u001b[0;34m\u001b[0m\u001b[0m\n\u001b[1;32m    110\u001b[0m         \u001b[0;32mif\u001b[0m \u001b[0maction\u001b[0m\u001b[0;34m.\u001b[0m\u001b[0mest_piocher\u001b[0m\u001b[0;34m(\u001b[0m\u001b[0;34m)\u001b[0m\u001b[0;34m:\u001b[0m\u001b[0;34m\u001b[0m\u001b[0;34m\u001b[0m\u001b[0m\n",
      "\u001b[0;32m<ipython-input-135-c7d65cb3b406>\u001b[0m in \u001b[0;36mvalide_le_coup\u001b[0;34m(jetees)\u001b[0m\n\u001b[1;32m      1\u001b[0m \u001b[0;32mdef\u001b[0m \u001b[0mvalide_le_coup\u001b[0m\u001b[0;34m(\u001b[0m\u001b[0mjetees\u001b[0m\u001b[0;34m)\u001b[0m\u001b[0;34m:\u001b[0m\u001b[0;34m\u001b[0m\u001b[0;34m\u001b[0m\u001b[0m\n\u001b[0;32m----> 2\u001b[0;31m     \u001b[0;32massert\u001b[0m \u001b[0;36m1\u001b[0m \u001b[0;34m<=\u001b[0m \u001b[0mlen\u001b[0m\u001b[0;34m(\u001b[0m\u001b[0mjetees\u001b[0m\u001b[0;34m)\u001b[0m \u001b[0;34m<=\u001b[0m \u001b[0;36m5\u001b[0m\u001b[0;34m\u001b[0m\u001b[0;34m\u001b[0m\u001b[0m\n\u001b[0m\u001b[1;32m      3\u001b[0m     \u001b[0;31m# coup valide si une seule carte !\u001b[0m\u001b[0;34m\u001b[0m\u001b[0;34m\u001b[0m\u001b[0;34m\u001b[0m\u001b[0m\n\u001b[1;32m      4\u001b[0m     \u001b[0;32mif\u001b[0m \u001b[0mlen\u001b[0m\u001b[0;34m(\u001b[0m\u001b[0mjetees\u001b[0m\u001b[0;34m)\u001b[0m \u001b[0;34m==\u001b[0m \u001b[0;36m1\u001b[0m\u001b[0;34m:\u001b[0m\u001b[0;34m\u001b[0m\u001b[0;34m\u001b[0m\u001b[0m\n\u001b[1;32m      5\u001b[0m         \u001b[0;32mreturn\u001b[0m \u001b[0;32mTrue\u001b[0m\u001b[0;34m\u001b[0m\u001b[0;34m\u001b[0m\u001b[0m\n",
      "\u001b[0;31mAssertionError\u001b[0m: "
     ]
    }
   ],
   "source": [
    "jeu.enchainer_les_tours()"
   ]
  },
  {
   "cell_type": "code",
   "execution_count": null,
   "metadata": {},
   "outputs": [],
   "source": []
  },
  {
   "cell_type": "code",
   "execution_count": null,
   "metadata": {},
   "outputs": [],
   "source": []
  },
  {
   "cell_type": "code",
   "execution_count": null,
   "metadata": {},
   "outputs": [],
   "source": []
  }
 ],
 "metadata": {
  "kernelspec": {
   "display_name": "Python 3",
   "language": "python",
   "name": "python3"
  },
  "language_info": {
   "codemirror_mode": {
    "name": "ipython",
    "version": 3
   },
   "file_extension": ".py",
   "mimetype": "text/x-python",
   "name": "python",
   "nbconvert_exporter": "python",
   "pygments_lexer": "ipython3",
   "version": "3.6.8"
  },
  "toc": {
   "colors": {
    "hover_highlight": "#DAA520",
    "running_highlight": "#FF0000",
    "selected_highlight": "#FFD700"
   },
   "moveMenuLeft": true,
   "nav_menu": {
    "height": "208.417px",
    "width": "251.5px"
   },
   "navigate_menu": true,
   "number_sections": true,
   "sideBar": false,
   "threshold": 4,
   "toc_cell": true,
   "toc_position": {
    "height": "297.717px",
    "left": "1153px",
    "right": "20px",
    "top": "120px",
    "width": "267px"
   },
   "toc_section_display": "block",
   "toc_window_display": true
  },
  "varInspector": {
   "cols": {
    "lenName": 16,
    "lenType": 16,
    "lenVar": 40
   },
   "kernels_config": {
    "python": {
     "delete_cmd_postfix": "",
     "delete_cmd_prefix": "del ",
     "library": "var_list.py",
     "varRefreshCmd": "print(var_dic_list())"
    },
    "r": {
     "delete_cmd_postfix": ") ",
     "delete_cmd_prefix": "rm(",
     "library": "var_list.r",
     "varRefreshCmd": "cat(var_dic_list()) "
    }
   },
   "types_to_exclude": [
    "module",
    "function",
    "builtin_function_or_method",
    "instance",
    "_Feature"
   ],
   "window_display": false
  }
 },
 "nbformat": 4,
 "nbformat_minor": 2
}
