{
 "cells": [
  {
   "cell_type": "markdown",
   "metadata": {},
   "source": [
    "# An Identiconizer generator implementation in Python\n",
    "\n",
    "This small notebook implements a generator of small square icons like the ones in GitHub, as [implemented by identicon.js](https://github.com/stewartlord/identicon.js#identiconjs)."
   ]
  },
  {
   "cell_type": "markdown",
   "metadata": {},
   "source": [
    "## The function"
   ]
  },
  {
   "cell_type": "code",
   "execution_count": 77,
   "metadata": {},
   "outputs": [],
   "source": [
    "import numpy as np\n",
    "from matplotlib.colors import hsv_to_rgb\n",
    "from PIL import Image, ImageDraw"
   ]
  },
  {
   "cell_type": "code",
   "execution_count": 78,
   "metadata": {},
   "outputs": [
    {
     "name": "stdout",
     "output_type": "stream",
     "text": [
      "The watermark extension is already loaded. To reload it, use:\n",
      "  %reload_ext watermark\n",
      "2017-11-25T17:38:55+01:00\n",
      "\n",
      "CPython 3.6.3\n",
      "IPython 6.2.1\n",
      "\n",
      "compiler   : GCC 7.2.0\n",
      "system     : Linux\n",
      "release    : 4.13.0-17-generic\n",
      "machine    : x86_64\n",
      "processor  : x86_64\n",
      "CPU cores  : 4\n",
      "interpreter: 64bit\n",
      "Lilian Besson (Naereen) \n",
      "\n",
      "numpy 1.13.3\n",
      "matplotlib 2.1.0\n",
      "PIL 4.3.0\n"
     ]
    }
   ],
   "source": [
    "%load_ext watermark\n",
    "%watermark\n",
    "%watermark -a \"Lilian Besson (Naereen)\" -p numpy,matplotlib,PIL"
   ]
  },
  {
   "cell_type": "code",
   "execution_count": 153,
   "metadata": {},
   "outputs": [],
   "source": [
    "size = 128\n",
    "margin = 0.12\n",
    "foreground = (255,0,0,255)\n",
    "background = (240,240,240,255)\n",
    "saturation = 0.7\n",
    "brightness = 0.5"
   ]
  },
  {
   "cell_type": "code",
   "execution_count": 154,
   "metadata": {},
   "outputs": [],
   "source": [
    "border = int(size * margin)"
   ]
  },
  {
   "cell_type": "code",
   "execution_count": 156,
   "metadata": {},
   "outputs": [],
   "source": [
    "def identicon(hashval=None,\n",
    "              size=128,\n",
    "              margin=0.12,\n",
    "              foreground=(255,0,0,255),\n",
    "              background=(240,240,240,255),\n",
    "              saturation=0.7,\n",
    "              brightness=0.5,\n",
    "    ):\n",
    "    if hashval is not None:\n",
    "        if isinstance(hashval, str):\n",
    "            hashval = str(hex(abs(hash(hashval))))[2:]\n",
    "        hue = int(hashval, 16) % 256**3\n",
    "        foreground = tuple(np.array(hsv_to_rgb([hue, saturation, brightness]) * 256, dtype=int)) \n",
    "\n",
    "    border = int(size * margin)\n",
    "    \n",
    "    # make a blank image\n",
    "    im = Image.new('RGBA', (size,size), background)\n",
    "    \n",
    "    # get a drawing context\n",
    "    d = ImageDraw.Draw(im)\n",
    "\n",
    "    def rect(xy):\n",
    "        try:\n",
    "            x1, y1, x2, y2 = xy\n",
    "        except ValueError:\n",
    "            x1, y1 = xy[0]\n",
    "            x2, y2 = xy[1]\n",
    "        d.rectangle((border+x1, border+y1, border+x2, border+y2), fill=foreground)\n",
    "        d.rectangle((size-border-x1, border+y1, size-border-x2, border+y2), fill=foreground)\n",
    "\n",
    "    return im, d, rect"
   ]
  },
  {
   "cell_type": "code",
   "execution_count": 157,
   "metadata": {
    "scrolled": true
   },
   "outputs": [],
   "source": [
    "im, d, rect = identicon(\"Naereen\")"
   ]
  },
  {
   "cell_type": "code",
   "execution_count": 158,
   "metadata": {},
   "outputs": [
    {
     "data": {
      "image/png": "[encoded data removed]",
      "text/plain": [
       "<PIL.Image.Image image mode=RGBA size=128x128 at 0x7F6187898908>"
      ]
     },
     "execution_count": 158,
     "metadata": {},
     "output_type": "execute_result"
    }
   ],
   "source": [
    "im"
   ]
  },
  {
   "cell_type": "code",
   "execution_count": 169,
   "metadata": {},
   "outputs": [],
   "source": [
    "rect([(0, 10), (20, 60)])\n",
    "rect([(0, 0), (50, 10)])\n",
    "rect([(40, 80), (60, 90)])\n"
   ]
  },
  {
   "cell_type": "code",
   "execution_count": 170,
   "metadata": {},
   "outputs": [
    {
     "data": {
      "image/png": "[encoded data removed]",
      "text/plain": [
       "<PIL.Image.Image image mode=RGBA size=128x128 at 0x7F6187898908>"
      ]
     },
     "execution_count": 170,
     "metadata": {},
     "output_type": "execute_result"
    }
   ],
   "source": [
    "im"
   ]
  },
  {
   "cell_type": "markdown",
   "metadata": {},
   "source": [
    "## Tests"
   ]
  },
  {
   "cell_type": "markdown",
   "metadata": {},
   "source": [
    "## Conclusion\n",
    "\n",
    "> *That's it for today, folks!* [See on my GitHub for more notebooks](https://github.com/Naereen/notebooks)"
   ]
  }
 ],
 "metadata": {
  "kernelspec": {
   "display_name": "Python 3",
   "language": "python",
   "name": "python3"
  },
  "language_info": {
   "codemirror_mode": {
    "name": "ipython",
    "version": 3
   },
   "file_extension": ".py",
   "mimetype": "text/x-python",
   "name": "python",
   "nbconvert_exporter": "python",
   "pygments_lexer": "ipython3",
   "version": "3.6.3"
  },
  "toc": {
   "colors": {
    "hover_highlight": "#DAA520",
    "running_highlight": "#FF0000",
    "selected_highlight": "#FFD700"
   },
   "moveMenuLeft": true,
   "nav_menu": {
    "height": "108px",
    "width": "251px"
   },
   "navigate_menu": true,
   "number_sections": true,
   "sideBar": true,
   "threshold": 4,
   "toc_cell": false,
   "toc_section_display": "block",
   "toc_window_display": true
  }
 },
 "nbformat": 4,
 "nbformat_minor": 2
}
