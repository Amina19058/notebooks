{
 "cells": [
  {
   "cell_type": "code",
   "execution_count": null,
   "metadata": {},
   "outputs": [],
   "source": []
  },
  {
   "cell_type": "markdown",
   "metadata": {
    "toc": "true"
   },
   "source": [
    "# Table of Contents\n",
    " <p><div class=\"lev1 toc-item\"><a href=\"#TP-7---Programmation-pour-la-préparation-à-l'agrégation-maths-option-info\" data-toc-modified-id=\"TP-7---Programmation-pour-la-préparation-à-l'agrégation-maths-option-info-1\"><span class=\"toc-item-num\">1&nbsp;&nbsp;</span>TP 7 - Programmation pour la préparation à l'agrégation maths option info</a></div><div class=\"lev2 toc-item\"><a href=\"#Algorithme-de-Dijkstra---avec-des-files-non-mutables\" data-toc-modified-id=\"Algorithme-de-Dijkstra---avec-des-files-non-mutables-11\"><span class=\"toc-item-num\">1.1&nbsp;&nbsp;</span>Algorithme de Dijkstra - avec des files non mutables</a></div><div class=\"lev3 toc-item\"><a href=\"#Files-de-priorité-min\" data-toc-modified-id=\"Files-de-priorité-min-111\"><span class=\"toc-item-num\">1.1.1&nbsp;&nbsp;</span>Files de priorité min</a></div><div class=\"lev3 toc-item\"><a href=\"#Graphe-par-tableau-de-listes-d'adjacence\" data-toc-modified-id=\"Graphe-par-tableau-de-listes-d'adjacence-112\"><span class=\"toc-item-num\">1.1.2&nbsp;&nbsp;</span>Graphe par tableau de listes d'adjacence</a></div><div class=\"lev3 toc-item\"><a href=\"#Exemple-de-visualisation-de-graphe\" data-toc-modified-id=\"Exemple-de-visualisation-de-graphe-113\"><span class=\"toc-item-num\">1.1.3&nbsp;&nbsp;</span>Exemple de visualisation de graphe</a></div><div class=\"lev3 toc-item\"><a href=\"#Dijkstra\" data-toc-modified-id=\"Dijkstra-114\"><span class=\"toc-item-num\">1.1.4&nbsp;&nbsp;</span>Dijkstra</a></div><div class=\"lev2 toc-item\"><a href=\"#Algorithme-de-Dijkstra---avec-des-files-mutables\" data-toc-modified-id=\"Algorithme-de-Dijkstra---avec-des-files-mutables-12\"><span class=\"toc-item-num\">1.2&nbsp;&nbsp;</span>Algorithme de Dijkstra - avec des files mutables</a></div><div class=\"lev3 toc-item\"><a href=\"#Files-de-priorité-min-mutables\" data-toc-modified-id=\"Files-de-priorité-min-mutables-121\"><span class=\"toc-item-num\">1.2.1&nbsp;&nbsp;</span>Files de priorité min mutables</a></div><div class=\"lev3 toc-item\"><a href=\"#Dijkstra,-2ème-version\" data-toc-modified-id=\"Dijkstra,-2ème-version-122\"><span class=\"toc-item-num\">1.2.2&nbsp;&nbsp;</span>Dijkstra, 2ème version</a></div><div class=\"lev3 toc-item\"><a href=\"#Exemple\" data-toc-modified-id=\"Exemple-123\"><span class=\"toc-item-num\">1.2.3&nbsp;&nbsp;</span>Exemple</a></div><div class=\"lev2 toc-item\"><a href=\"#Arbres-couvrants-de-poids-minimal\" data-toc-modified-id=\"Arbres-couvrants-de-poids-minimal-13\"><span class=\"toc-item-num\">1.3&nbsp;&nbsp;</span>Arbres couvrants de poids minimal</a></div><div class=\"lev3 toc-item\"><a href=\"#Algorithme-de-Prim\" data-toc-modified-id=\"Algorithme-de-Prim-131\"><span class=\"toc-item-num\">1.3.1&nbsp;&nbsp;</span>Algorithme de Prim</a></div><div class=\"lev3 toc-item\"><a href=\"#Exemple\" data-toc-modified-id=\"Exemple-132\"><span class=\"toc-item-num\">1.3.2&nbsp;&nbsp;</span>Exemple</a></div><div class=\"lev2 toc-item\"><a href=\"#Heap\" data-toc-modified-id=\"Heap-14\"><span class=\"toc-item-num\">1.4&nbsp;&nbsp;</span>Heap</a></div><div class=\"lev2 toc-item\"><a href=\"#Codage-de-Huffman\" data-toc-modified-id=\"Codage-de-Huffman-15\"><span class=\"toc-item-num\">1.5&nbsp;&nbsp;</span>Codage de Huffman</a></div><div class=\"lev3 toc-item\"><a href=\"#Fréquences-de-lettres-dans-un-texte\" data-toc-modified-id=\"Fréquences-de-lettres-dans-un-texte-151\"><span class=\"toc-item-num\">1.5.1&nbsp;&nbsp;</span>Fréquences de lettres dans un texte</a></div><div class=\"lev3 toc-item\"><a href=\"#Structure-de-tas-binaire-min\" data-toc-modified-id=\"Structure-de-tas-binaire-min-152\"><span class=\"toc-item-num\">1.5.2&nbsp;&nbsp;</span>Structure de tas binaire min</a></div><div class=\"lev3 toc-item\"><a href=\"#Exemple-d'un-codage-préfixe-(Figure-16.4-p378-du-Cormen)\" data-toc-modified-id=\"Exemple-d'un-codage-préfixe-(Figure-16.4-p378-du-Cormen)-153\"><span class=\"toc-item-num\">1.5.3&nbsp;&nbsp;</span>Exemple d'un codage préfixe (Figure 16.4 p378 du Cormen)</a></div><div class=\"lev3 toc-item\"><a href=\"#Algorithme-glouton-de-codage-préfixe-optimal-de-Huffman\" data-toc-modified-id=\"Algorithme-glouton-de-codage-préfixe-optimal-de-Huffman-154\"><span class=\"toc-item-num\">1.5.4&nbsp;&nbsp;</span>Algorithme glouton de codage préfixe optimal de Huffman</a></div><div class=\"lev2 toc-item\"><a href=\"#Coloration-de-graphes\" data-toc-modified-id=\"Coloration-de-graphes-16\"><span class=\"toc-item-num\">1.6&nbsp;&nbsp;</span>Coloration de graphes</a></div><div class=\"lev3 toc-item\"><a href=\"#Représentation-des-graphes\" data-toc-modified-id=\"Représentation-des-graphes-161\"><span class=\"toc-item-num\">1.6.1&nbsp;&nbsp;</span>Représentation des graphes</a></div><div class=\"lev3 toc-item\"><a href=\"#Et-des-coloriages\" data-toc-modified-id=\"Et-des-coloriages-162\"><span class=\"toc-item-num\">1.6.2&nbsp;&nbsp;</span>Et des coloriages</a></div><div class=\"lev3 toc-item\"><a href=\"#Exemple\" data-toc-modified-id=\"Exemple-163\"><span class=\"toc-item-num\">1.6.3&nbsp;&nbsp;</span>Exemple</a></div><div class=\"lev3 toc-item\"><a href=\"#Algorithme-glouton-pour-le-coloriage\" data-toc-modified-id=\"Algorithme-glouton-pour-le-coloriage-164\"><span class=\"toc-item-num\">1.6.4&nbsp;&nbsp;</span>Algorithme glouton pour le coloriage</a></div><div class=\"lev3 toc-item\"><a href=\"#Exemples\" data-toc-modified-id=\"Exemples-165\"><span class=\"toc-item-num\">1.6.5&nbsp;&nbsp;</span>Exemples</a></div><div class=\"lev2 toc-item\"><a href=\"#Conclusion\" data-toc-modified-id=\"Conclusion-17\"><span class=\"toc-item-num\">1.7&nbsp;&nbsp;</span>Conclusion</a></div>"
   ]
  },
  {
   "cell_type": "markdown",
   "metadata": {},
   "source": [
    "# TP 7 - Programmation pour la préparation à l'agrégation maths option info\n",
    "TP 5 : Algorithmes gloutons et files de priorité."
   ]
  },
  {
   "cell_type": "markdown",
   "metadata": {},
   "source": [
    "- En OCaml."
   ]
  },
  {
   "cell_type": "code",
   "execution_count": 1,
   "metadata": {},
   "outputs": [
    {
     "data": {
      "text/plain": [
       "val print : ('a, out_channel, unit) format -> 'a = <fun>\n"
      ]
     },
     "execution_count": 1,
     "metadata": {},
     "output_type": "execute_result"
    },
    {
     "name": "stdout",
     "output_type": "stream",
     "text": [
      "The OCaml toplevel, version 4.04.2\n"
     ]
    },
    {
     "data": {
      "text/plain": [
       "- : int = 0\n"
      ]
     },
     "execution_count": 1,
     "metadata": {},
     "output_type": "execute_result"
    }
   ],
   "source": [
    "let print = Printf.printf;;\n",
    "Sys.command \"ocaml -version\";;"
   ]
  },
  {
   "cell_type": "code",
   "execution_count": 2,
   "metadata": {},
   "outputs": [
    {
     "data": {
      "text/plain": [
       "- : string -> unit = <fun>\n"
      ]
     },
     "execution_count": 2,
     "metadata": {},
     "output_type": "execute_result"
    }
   ],
   "source": [
    "print_endline"
   ]
  },
  {
   "cell_type": "markdown",
   "metadata": {},
   "source": [
    "----\n",
    "## Algorithme de Dijkstra - avec des files non mutables\n",
    "\n",
    "Déjà vu, on le retraite ici."
   ]
  },
  {
   "cell_type": "markdown",
   "metadata": {},
   "source": [
    "### Files de priorité min"
   ]
  },
  {
   "cell_type": "code",
   "execution_count": 3,
   "metadata": {},
   "outputs": [
    {
     "data": {
      "text/plain": [
       "type 'a priopqueue = (int * 'a) list\n"
      ]
     },
     "execution_count": 3,
     "metadata": {},
     "output_type": "execute_result"
    }
   ],
   "source": [
    "(* file de priorité version non-mutable *)\n",
    "type 'a priopqueue = (int * 'a) list;;"
   ]
  },
  {
   "cell_type": "code",
   "execution_count": 4,
   "metadata": {},
   "outputs": [
    {
     "data": {
      "text/plain": [
       "val vide : 'a priopqueue = []\n"
      ]
     },
     "execution_count": 4,
     "metadata": {},
     "output_type": "execute_result"
    }
   ],
   "source": [
    "(* file vide *)\n",
    "let vide : 'a priopqueue = [ ];;"
   ]
  },
  {
   "cell_type": "code",
   "execution_count": 5,
   "metadata": {},
   "outputs": [
    {
     "data": {
      "text/plain": [
       "val inserer : 'a -> int -> 'a priopqueue -> 'a priopqueue = <fun>\n"
      ]
     },
     "execution_count": 5,
     "metadata": {},
     "output_type": "execute_result"
    }
   ],
   "source": [
    "(* [inserer x clef q] insere l'element [x] dans la file [q]\n",
    "   avec le clef [x], et renvoie la nouvelle file ainsi créée.\n",
    "   Termine avec une exception si la file contient déjà [x]  *)\n",
    "let inserer (x:'a) (clef:int) (q:'a priopqueue) : 'a priopqueue =\n",
    "    if List.exists (fun (_, v) -> x = v) q\n",
    "    then failwith \"l'element est déjà dans la file\"\n",
    "    else (clef,x) :: q\n",
    ";;"
   ]
  },
  {
   "cell_type": "code",
   "execution_count": 6,
   "metadata": {},
   "outputs": [
    {
     "data": {
      "text/plain": [
       "val est_vide : 'a priopqueue -> bool = <fun>\n"
      ]
     },
     "execution_count": 6,
     "metadata": {},
     "output_type": "execute_result"
    }
   ],
   "source": [
    "(* [est_vide q] teste si la file [q] est vide *)\n",
    "let est_vide (q:'a priopqueue) : bool = (q = [ ]);;"
   ]
  },
  {
   "cell_type": "code",
   "execution_count": 7,
   "metadata": {},
   "outputs": [
    {
     "data": {
      "text/plain": [
       "val trouve_min_aux : 'a -> int -> 'a priopqueue -> int * 'a = <fun>\n"
      ]
     },
     "execution_count": 7,
     "metadata": {},
     "output_type": "execute_result"
    }
   ],
   "source": [
    "(* [trouve_min_aux min_val min_clef q] renvoie un couple de clef minimale\n",
    "     dans (min_val,min_clef)::q *)\n",
    "let rec trouve_min_aux (min_val:'a) (min_clef:int) (q:'a priopqueue) : int * 'a =\n",
    "    match q with\n",
    "    | [ ] -> (min_clef, min_val)\n",
    "    | (clef, _) :: q when clef > min_clef -> trouve_min_aux min_val min_clef q\n",
    "    | (clef, v) :: q -> trouve_min_aux v clef q\n",
    ";;"
   ]
  },
  {
   "cell_type": "code",
   "execution_count": 8,
   "metadata": {},
   "outputs": [
    {
     "data": {
      "text/plain": [
       "val trouve_min : 'a priopqueue -> 'a = <fun>\n"
      ]
     },
     "execution_count": 8,
     "metadata": {},
     "output_type": "execute_result"
    }
   ],
   "source": [
    "(* [trouve_min q] renvoie un élément de clef minimale la file [q].\n",
    "   Lance une exception si la liste est vide *)\n",
    "let trouve_min (q:'a priopqueue) : 'a =\n",
    "    match q with\n",
    "    | [ ] -> failwith \"trouve_min: la file est vide\"\n",
    "    | (clef, v) :: q -> snd (trouve_min_aux v clef q)\n",
    ";;"
   ]
  },
  {
   "cell_type": "code",
   "execution_count": 9,
   "metadata": {},
   "outputs": [
    {
     "data": {
      "text/plain": [
       "- : char = '1'\n"
      ]
     },
     "execution_count": 9,
     "metadata": {},
     "output_type": "execute_result"
    },
    {
     "data": {
      "text/plain": [
       "- : char = '2'\n"
      ]
     },
     "execution_count": 9,
     "metadata": {},
     "output_type": "execute_result"
    }
   ],
   "source": [
    "let _ = trouve_min (inserer '1' 1 (inserer '2' 2 (inserer '3' 3 vide)));;\n",
    "let _ = trouve_min (inserer '1' 4 (inserer '2' 2 (inserer '3' 3 vide)));;"
   ]
  },
  {
   "cell_type": "code",
   "execution_count": 10,
   "metadata": {},
   "outputs": [
    {
     "data": {
      "text/plain": [
       "val supprime : 'a -> 'a priopqueue -> 'a priopqueue = <fun>\n"
      ]
     },
     "execution_count": 10,
     "metadata": {},
     "output_type": "execute_result"
    }
   ],
   "source": [
    "(* [supprime v q] renvoie une file contenant les éléments de [q], sauf [x].\n",
    "   [x] doit apparaitre une et une seule fois dans la file. *)\n",
    "let rec supprime (x:'a) (q:'a priopqueue) : 'a priopqueue =\n",
    "    match q with\n",
    "    | [ ] -> [ ]\n",
    "    | (_, v) :: q when v=x -> q\n",
    "    | (clef, v) :: q -> (clef, v) :: (supprime x q)\n",
    ";;"
   ]
  },
  {
   "cell_type": "code",
   "execution_count": 11,
   "metadata": {},
   "outputs": [
    {
     "data": {
      "text/plain": [
       "val extraire_min : 'a priopqueue -> 'a * 'a priopqueue = <fun>\n"
      ]
     },
     "execution_count": 11,
     "metadata": {},
     "output_type": "execute_result"
    }
   ],
   "source": [
    "(* [extraire_min q] renvoie un élément de q, de clef minimal,\n",
    "   ainsi que la nouvelle file obtenue en supprimant cet\n",
    "   élément; termine avec une exception si la file est vide  *)\n",
    "let extraire_min (q:'a priopqueue) : 'a * 'a priopqueue =\n",
    "    if q = [ ] then\n",
    "        failwith \"extraire_min: file vide\"\n",
    "    else\n",
    "        let min = trouve_min q in\n",
    "        (min, supprime min q)\n",
    ";;"
   ]
  },
  {
   "cell_type": "code",
   "execution_count": 12,
   "metadata": {},
   "outputs": [
    {
     "data": {
      "text/plain": [
       "- : char * char priopqueue = ('1', [(2, '2'); (3, '3')])\n"
      ]
     },
     "execution_count": 12,
     "metadata": {},
     "output_type": "execute_result"
    },
    {
     "data": {
      "text/plain": [
       "- : char * char priopqueue = ('2', [(4, '1'); (3, '3')])\n"
      ]
     },
     "execution_count": 12,
     "metadata": {},
     "output_type": "execute_result"
    }
   ],
   "source": [
    "let _ = extraire_min (inserer '1' 1 (inserer '2' 2 (inserer '3' 3 vide)));;\n",
    "let _ = extraire_min (inserer '1' 4 (inserer '2' 2 (inserer '3' 3 vide)));;"
   ]
  },
  {
   "cell_type": "code",
   "execution_count": 13,
   "metadata": {},
   "outputs": [
    {
     "data": {
      "text/plain": [
       "val diminuer_clef : 'a -> int -> 'a priopqueue -> 'a priopqueue = <fun>\n"
      ]
     },
     "execution_count": 13,
     "metadata": {},
     "output_type": "execute_result"
    }
   ],
   "source": [
    "(* [diminuer_clef q clef x] modifie la clef de l'élément [x]\n",
    "   dans la file q en lui associant la nouvelle clef [clef], qui\n",
    "   doit être inferieur à la clef actuelle de [x].\n",
    "   Termine avec une exception si la file ne contient pas [x]  *)\n",
    "let rec diminuer_clef (x:'a) (clef:int) (q:'a priopqueue) : 'a priopqueue =\n",
    "    match q with\n",
    "    | [ ] -> failwith \"diminuer_clef : l'élément n'est pas présent\"\n",
    "    | (_, v) :: q when v=x -> (clef, x) :: q\n",
    "    | (c, v) :: q -> (c, v) :: diminuer_clef x clef q\n",
    ";;"
   ]
  },
  {
   "cell_type": "code",
   "execution_count": 14,
   "metadata": {},
   "outputs": [
    {
     "data": {
      "text/plain": [
       "val f : char priopqueue = [(1, '1'); (2, '2'); (3, '3')]\n"
      ]
     },
     "execution_count": 14,
     "metadata": {},
     "output_type": "execute_result"
    },
    {
     "data": {
      "text/plain": [
       "- : char priopqueue = [(1, '1'); (2, '2'); (0, '3')]\n"
      ]
     },
     "execution_count": 14,
     "metadata": {},
     "output_type": "execute_result"
    },
    {
     "data": {
      "text/plain": [
       "- : char priopqueue = [(1, '1'); (0, '2'); (3, '3')]\n"
      ]
     },
     "execution_count": 14,
     "metadata": {},
     "output_type": "execute_result"
    }
   ],
   "source": [
    "let f =  inserer '1' 1 (inserer '2' 2 (inserer '3' 3 vide));;\n",
    "let _ = diminuer_clef '3' 0 f;;\n",
    "let _ = diminuer_clef '2' 0 f;;"
   ]
  },
  {
   "cell_type": "markdown",
   "metadata": {},
   "source": [
    "### Graphe par tableau de listes d'adjacence"
   ]
  },
  {
   "cell_type": "code",
   "execution_count": 15,
   "metadata": {},
   "outputs": [
    {
     "data": {
      "text/plain": [
       "type sommet = int\n"
      ]
     },
     "execution_count": 15,
     "metadata": {},
     "output_type": "execute_result"
    },
    {
     "data": {
      "text/plain": [
       "type graph = {\n",
       "  taille : int;\n",
       "  adj : (int * sommet) list array;\n",
       "  entree : sommet;\n",
       "}\n"
      ]
     },
     "execution_count": 15,
     "metadata": {},
     "output_type": "execute_result"
    }
   ],
   "source": [
    "type sommet = int;;\n",
    "type graph = {\n",
    "    taille: int; (* les sommets sont des entiers entre 0 et taille-1 *)\n",
    "    adj: (int * sommet) list array;\n",
    "    entree: sommet\n",
    "};;"
   ]
  },
  {
   "cell_type": "code",
   "execution_count": 16,
   "metadata": {},
   "outputs": [
    {
     "data": {
      "text/plain": [
       "val print : out_channel -> ('a, out_channel, unit) format -> 'a = <fun>\n"
      ]
     },
     "execution_count": 16,
     "metadata": {},
     "output_type": "execute_result"
    },
    {
     "data": {
      "text/plain": [
       "val dot : string -> graph -> (int * int) list -> unit = <fun>\n"
      ]
     },
     "execution_count": 16,
     "metadata": {},
     "output_type": "execute_result"
    },
    {
     "data": {
      "text/plain": [
       "val dot2svg : string -> int = <fun>\n"
      ]
     },
     "execution_count": 16,
     "metadata": {},
     "output_type": "execute_result"
    }
   ],
   "source": [
    "let print = Printf.fprintf;;\n",
    "\n",
    "let dot outname (g:graph) (bold:(int*int) list) : unit =\n",
    "    let f = open_out (outname ^ \".dot\") in\n",
    "    print f \"digraph G {\\n\";\n",
    "    for i=0 to g.taille-1 do\n",
    "        print f \"  som%d [label=\\\"%d\\\"];\\n\" i i\n",
    "    done;\n",
    "    for i=0 to g.taille-1 do\n",
    "        List.iter (fun (c,j) ->\n",
    "            let option = if List.mem (i,j) bold then \",style=bold\" else \"\" in\n",
    "            print f \"  som%d -> som%d [label=\\\"%d\\\"%s];\\n\" i j c option\n",
    "        ) g.adj.(i);\n",
    "    done;\n",
    "    print f \"}\\n\";\n",
    "    close_out f\n",
    ";;\n",
    "\n",
    "let dot2svg outname =\n",
    "    Sys.command (Printf.sprintf \"dot -Tsvg %s.dot > %s.svg\" outname outname);"
   ]
  },
  {
   "cell_type": "markdown",
   "metadata": {},
   "source": [
    "### Exemple de visualisation de graphe"
   ]
  },
  {
   "cell_type": "code",
   "execution_count": 17,
   "metadata": {},
   "outputs": [
    {
     "data": {
      "text/plain": [
       "val s : int = 0\n",
       "val a : int = 1\n",
       "val b : int = 2\n",
       "val c : int = 3\n",
       "val d : int = 4\n"
      ]
     },
     "execution_count": 17,
     "metadata": {},
     "output_type": "execute_result"
    },
    {
     "data": {
      "text/plain": [
       "val g1 : graph =\n",
       "  {taille = 5;\n",
       "   adj = [|[(2, 1); (4, 2); (2, 3)]; [(1, 4)]; [(4, 4)]; [(1, 2)]; []|];\n",
       "   entree = 0}\n"
      ]
     },
     "execution_count": 17,
     "metadata": {},
     "output_type": "execute_result"
    }
   ],
   "source": [
    "let s = 0\n",
    "and a = 1\n",
    "and b = 2\n",
    "and c = 3\n",
    "and d = 4;;\n",
    "let g1 = {\n",
    "    taille = 5;\n",
    "    entree = s;\n",
    "    adj = [|\n",
    "        [(2,a); (4,b); (2,c)]; (* adj(s) *)\n",
    "        [(1,d)]; (* adj(A) *)\n",
    "        [(4,d)]; (* adj(B) *)\n",
    "        [(1,b)]; (* adj(C) *)\n",
    "        [ ]; (* adj(D) *)\n",
    "    |]\n",
    "};;"
   ]
  },
  {
   "cell_type": "code",
   "execution_count": 18,
   "metadata": {},
   "outputs": [
    {
     "data": {
      "text/plain": [
       "- : unit = ()\n"
      ]
     },
     "execution_count": 18,
     "metadata": {},
     "output_type": "execute_result"
    },
    {
     "data": {
      "text/plain": [
       "- : int = 0\n"
      ]
     },
     "execution_count": 18,
     "metadata": {},
     "output_type": "execute_result"
    }
   ],
   "source": [
    "let _ = dot \"TP7__g1\" g1 [ ];;\n",
    "dot2svg \"TP7__g1\";;"
   ]
  },
  {
   "cell_type": "code",
   "execution_count": 19,
   "metadata": {},
   "outputs": [
    {
     "name": "stdout",
     "output_type": "stream",
     "text": [
      "digraph G {\n",
      "  som0 [label=\"0\"];\n",
      "  som1 [label=\"1\"];\n",
      "  som2 [label=\"2\"];\n",
      "  som3 [label=\"3\"];\n",
      "  som4 [label=\"4\"];\n",
      "  som0 -> som1 [label=\"2\"];\n",
      "  som0 -> som2 [label=\"4\"];\n",
      "  som0 -> som3 [label=\"2\"];\n",
      "  som1 -> som4 [label=\"1\"];\n",
      "  som2 -> som4 [label=\"4\"];\n",
      "  som3 -> som2 [label=\"1\"];\n",
      "}\n"
     ]
    },
    {
     "data": {
      "text/plain": [
       "- : int = 0\n"
      ]
     },
     "execution_count": 19,
     "metadata": {},
     "output_type": "execute_result"
    }
   ],
   "source": [
    "Sys.command \"cat TP7__g1.dot\";;"
   ]
  },
  {
   "cell_type": "markdown",
   "metadata": {},
   "source": [
    "![TP7__g1.svg](TP7__g1.svg)"
   ]
  },
  {
   "cell_type": "markdown",
   "metadata": {},
   "source": [
    "Le second argument permet d'afficher un certain chemin :"
   ]
  },
  {
   "cell_type": "code",
   "execution_count": 20,
   "metadata": {},
   "outputs": [
    {
     "data": {
      "text/plain": [
       "- : unit = ()\n"
      ]
     },
     "execution_count": 20,
     "metadata": {},
     "output_type": "execute_result"
    }
   ],
   "source": [
    "let _ = dot \"TP7__g2\" g1 [(0,3);(3,2);(2,4)];;"
   ]
  },
  {
   "cell_type": "code",
   "execution_count": 21,
   "metadata": {},
   "outputs": [
    {
     "name": "stdout",
     "output_type": "stream",
     "text": [
      "digraph G {\n",
      "  som0 [label=\"0\"];\n",
      "  som1 [label=\"1\"];\n",
      "  som2 [label=\"2\"];\n",
      "  som3 [label=\"3\"];\n",
      "  som4 [label=\"4\"];\n",
      "  som0 -> som1 [label=\"2\"];\n",
      "  som0 -> som2 [label=\"4\"];\n",
      "  som0 -> som3 [label=\"2\",style=bold];\n",
      "  som1 -> som4 [label=\"1\"];\n",
      "  som2 -> som4 [label=\"4\",style=bold];\n",
      "  som3 -> som2 [label=\"1\",style=bold];\n",
      "}\n"
     ]
    },
    {
     "data": {
      "text/plain": [
       "- : int = 0\n"
      ]
     },
     "execution_count": 21,
     "metadata": {},
     "output_type": "execute_result"
    },
    {
     "data": {
      "text/plain": [
       "- : int = 0\n"
      ]
     },
     "execution_count": 21,
     "metadata": {},
     "output_type": "execute_result"
    }
   ],
   "source": [
    "Sys.command \"cat TP7__g2.dot\";;\n",
    "dot2svg \"TP7__g2\";;"
   ]
  },
  {
   "cell_type": "markdown",
   "metadata": {},
   "source": [
    "![](TP7__g2.svg)"
   ]
  },
  {
   "cell_type": "markdown",
   "metadata": {},
   "source": [
    "### Dijkstra"
   ]
  },
  {
   "cell_type": "code",
   "execution_count": 22,
   "metadata": {
    "scrolled": true
   },
   "outputs": [
    {
     "data": {
      "text/plain": [
       "val dijkstra : graph -> int array = <fun>\n"
      ]
     },
     "execution_count": 22,
     "metadata": {},
     "output_type": "execute_result"
    }
   ],
   "source": [
    "let dijkstra g =\n",
    "    let q = ref vide in\n",
    "    let dist = Array.init g.taille (fun i ->\n",
    "        if i=g.entree then 0 else max_int\n",
    "    ) in\n",
    "    for i=0 to g.taille - 1 do (* initialisation de la file *)\n",
    "        q := inserer i dist.(i) !q\n",
    "    done;\n",
    "    while not (est_vide !q) do\n",
    "        let (x, q') = extraire_min !q in\n",
    "        q := q';  (* ne pas oublier de mettre à jour la file *)\n",
    "        (* on regarde les adjacents de x *)\n",
    "        List.iter (fun (c,y) ->\n",
    "            if dist.(y) > dist.(x) + c\n",
    "            then begin\n",
    "                dist.(y) <- dist.(x) + c;\n",
    "                q := diminuer_clef y dist.(y) !q\n",
    "            end\n",
    "        ) g.adj.(x)\n",
    "    done;\n",
    "    dist\n",
    ";;"
   ]
  },
  {
   "cell_type": "code",
   "execution_count": 23,
   "metadata": {},
   "outputs": [
    {
     "data": {
      "text/plain": [
       "- : int array = [|0; 2; 3; 2; 3|]\n"
      ]
     },
     "execution_count": 23,
     "metadata": {},
     "output_type": "execute_result"
    }
   ],
   "source": [
    "let _ = dijkstra g1"
   ]
  },
  {
   "cell_type": "markdown",
   "metadata": {},
   "source": [
    "----\n",
    "## Algorithme de Dijkstra - avec des files mutables\n",
    "\n",
    "Déjà vu, on le retraite ici."
   ]
  },
  {
   "cell_type": "markdown",
   "metadata": {},
   "source": [
    "### Files de priorité min mutables"
   ]
  },
  {
   "cell_type": "code",
   "execution_count": 24,
   "metadata": {},
   "outputs": [
    {
     "data": {
      "text/plain": [
       "type 'a priopqueue = (int * 'a) list ref\n"
      ]
     },
     "execution_count": 24,
     "metadata": {},
     "output_type": "execute_result"
    }
   ],
   "source": [
    "(* file de priorité version non-mutable *)\n",
    "type 'a priopqueue = (int * 'a) list ref;;"
   ]
  },
  {
   "cell_type": "code",
   "execution_count": 25,
   "metadata": {},
   "outputs": [
    {
     "data": {
      "text/plain": [
       "val vide : unit -> 'a priopqueue = <fun>\n"
      ]
     },
     "execution_count": 25,
     "metadata": {},
     "output_type": "execute_result"
    }
   ],
   "source": [
    "(* file vide *)\n",
    "let vide () : 'a priopqueue = ref [ ];;"
   ]
  },
  {
   "cell_type": "code",
   "execution_count": 26,
   "metadata": {},
   "outputs": [
    {
     "name": "stderr",
     "output_type": "stream",
     "text": [
      "File \"[26]\", line 4, characters 8-15:\n",
      "Warning 39: unused rec flag.\n"
     ]
    },
    {
     "data": {
      "text/plain": [
       "val inserer : 'a -> int -> 'a priopqueue -> unit = <fun>\n"
      ]
     },
     "execution_count": 26,
     "metadata": {},
     "output_type": "execute_result"
    }
   ],
   "source": [
    "(* [inserer x clef q] insere l'element [x] dans la file [q]\n",
    "   avec le clef [x].\n",
    "   Termine avec une exception si la file contient déjà [x]  *)\n",
    "let inserer (x:'a) (clef:int) (q:'a priopqueue) : unit =\n",
    "    if List.exists (fun (_, v) -> x=v) !q\n",
    "    then failwith \"l'element est déjà dans la file\"\n",
    "    else q := (clef,x) :: !q\n",
    ";;"
   ]
  },
  {
   "cell_type": "code",
   "execution_count": 27,
   "metadata": {},
   "outputs": [
    {
     "data": {
      "text/plain": [
       "val est_vide : 'a priopqueue -> bool = <fun>\n"
      ]
     },
     "execution_count": 27,
     "metadata": {},
     "output_type": "execute_result"
    }
   ],
   "source": [
    "(* [est_vide q] teste si la file [q] est vide *)\n",
    "let est_vide (q:'a priopqueue) : bool = (!q = [ ]);;"
   ]
  },
  {
   "cell_type": "code",
   "execution_count": 28,
   "metadata": {},
   "outputs": [
    {
     "ename": "error",
     "evalue": "compile_error",
     "output_type": "error",
     "traceback": [
      "\u001b[32mFile \"[28]\", line 6, characters 23-27:\n\u001b[31mError: Unbound value clef\n\u001b[36m   5: \u001b[30m    | [ ] -> (min_clef,min_val)\n\u001b[36m   6: \u001b[30m    | (_, v) :: q when \u001b[4mclef\u001b[0m\u001b[30m > min_clef -> trouve_min_aux min_val min_clef q\n\u001b[36m   7: \u001b[30m    | (clef, v) :: q -> trouve_min_aux v clef q\u001b[0m\n"
     ]
    }
   ],
   "source": [
    "(* [trouve_min_aux min_val min_clef q] renvoie un couple de clef minimale\n",
    "     dans (min_val,min_clef)::q *)\n",
    "let rec trouve_min_aux (min_val:'a) (min_clef:int) (q:(int*'a) list) : int * 'a =\n",
    "    match q with\n",
    "    | [ ] -> (min_clef,min_val)\n",
    "    | (_, v) :: q when clef > min_clef -> trouve_min_aux min_val min_clef q\n",
    "    | (clef, v) :: q -> trouve_min_aux v clef q\n",
    ";;"
   ]
  },
  {
   "cell_type": "code",
   "execution_count": 29,
   "metadata": {},
   "outputs": [
    {
     "name": "stderr",
     "output_type": "stream",
     "text": [
      "File \"[29]\", line 3, characters 8-18:\n",
      "Warning 39: unused rec flag.\n"
     ]
    },
    {
     "data": {
      "text/plain": [
       "val trouve_min : (int * 'a) list -> 'a = <fun>\n"
      ]
     },
     "execution_count": 29,
     "metadata": {},
     "output_type": "execute_result"
    }
   ],
   "source": [
    "(* [trouve_min q] renvoie un élément de clef minimale la file [q].\n",
    "   Lance une exception si la liste est vide *)\n",
    "let trouve_min (q:(int*'a) list) : 'a =\n",
    "    match q with\n",
    "    | [ ] -> failwith \"trouve_min: la file est vide\"\n",
    "    | (clef, v) :: q -> snd (trouve_min_aux v clef q)\n",
    ";;"
   ]
  },
  {
   "cell_type": "code",
   "execution_count": 30,
   "metadata": {},
   "outputs": [
    {
     "data": {
      "text/plain": [
       "val supprime : 'a -> (int * 'a) list -> (int * 'a) list = <fun>\n"
      ]
     },
     "execution_count": 30,
     "metadata": {},
     "output_type": "execute_result"
    }
   ],
   "source": [
    "(* [supprime v q] renvoie une file contenant les éléments de [q], sauf [x].\n",
    "   [x] doit apparaitre une et une seule fois dans la file. *)\n",
    "let rec supprime (x:'a) (q:(int*'a) list) : (int*'a) list =\n",
    "    match q with\n",
    "    | [ ] -> [ ]\n",
    "    | (_, v) :: q when v=x -> q\n",
    "    | (clef, v) :: q -> (clef,v) :: (supprime x q)\n",
    ";;"
   ]
  },
  {
   "cell_type": "code",
   "execution_count": 31,
   "metadata": {},
   "outputs": [
    {
     "data": {
      "text/plain": [
       "val extraire_min : 'a priopqueue -> 'a = <fun>\n"
      ]
     },
     "execution_count": 31,
     "metadata": {},
     "output_type": "execute_result"
    }
   ],
   "source": [
    "(* [extraire_min q] renvoie un élément de q, de clef minimal,\n",
    "   et met à jour la file; termine avec une exception si la file est vide  *)\n",
    "let extraire_min (q:'a priopqueue) : 'a =\n",
    "    if !q = [ ] then failwith \"extraire_min: file vide\"\n",
    "    else\n",
    "        let min = trouve_min !q in\n",
    "        q :=  supprime min !q;\n",
    "        min\n",
    ";;"
   ]
  },
  {
   "cell_type": "code",
   "execution_count": 39,
   "metadata": {},
   "outputs": [
    {
     "data": {
      "text/plain": [
       "val diminuer_clef : 'a -> int -> 'a priopqueue -> unit = <fun>\n"
      ]
     },
     "execution_count": 39,
     "metadata": {},
     "output_type": "execute_result"
    }
   ],
   "source": [
    "(* [diminuer_clef q clef x] modifie la clef de l'élément [x]\n",
    "   dans la file q en lui associant la nouvelle clef [clef], qui\n",
    "   doit être inferieur à la clef actuelle de [x].\n",
    "   Termine avec une exception si la file ne contient pas [x]  *)\n",
    "let diminuer_clef (x:'a) (clef:int) (q:'a priopqueue) : unit =\n",
    "    let rec diminuer_aux (l:(int*'a) list) : (int*'a) list =\n",
    "        match l with\n",
    "        | [ ] -> failwith \"diminuer_clef : l'élément n'est pas présent\"\n",
    "        | (_, v) :: q when v=x -> (clef, x) :: q\n",
    "        | (c, v) :: q -> (c, v) :: diminuer_aux q in\n",
    "    q := diminuer_aux !q\n",
    ";;"
   ]
  },
  {
   "cell_type": "markdown",
   "metadata": {},
   "source": [
    "### Dijkstra, 2ème version"
   ]
  },
  {
   "cell_type": "code",
   "execution_count": 33,
   "metadata": {},
   "outputs": [
    {
     "data": {
      "text/plain": [
       "val dijkstra : graph -> int array * int array = <fun>\n"
      ]
     },
     "execution_count": 33,
     "metadata": {},
     "output_type": "execute_result"
    }
   ],
   "source": [
    "let dijkstra g =\n",
    "    let q = vide () in\n",
    "    let dist = Array.init g.taille (fun i ->\n",
    "        if i=g.entree then 0 else max_int\n",
    "    ) in\n",
    "    let pere = Array.init g.taille (fun i -> i) in\n",
    "    for i=0 to g.taille - 1 do (* initialisation de la file *)\n",
    "        inserer i dist.(i) q;\n",
    "    done;\n",
    "    while not (est_vide q) do\n",
    "        let x = extraire_min q in\n",
    "        (* on regarde les adjacents de x *)\n",
    "        List.iter (fun (c,y) ->\n",
    "            if dist.(y) > dist.(x) + c\n",
    "            then begin\n",
    "                pere.(y) <- x;\n",
    "                dist.(y) <- dist.(x) + c;\n",
    "                diminuer_clef y dist.(y) q\n",
    "        end) g.adj.(x)\n",
    "    done;\n",
    "    dist, pere\n",
    ";;"
   ]
  },
  {
   "cell_type": "markdown",
   "metadata": {},
   "source": [
    "### Exemple"
   ]
  },
  {
   "cell_type": "code",
   "execution_count": 34,
   "metadata": {},
   "outputs": [
    {
     "data": {
      "text/plain": [
       "- : int array * int array = ([|0; 2; 3; 2; 3|], [|0; 0; 3; 0; 1|])\n"
      ]
     },
     "execution_count": 34,
     "metadata": {},
     "output_type": "execute_result"
    }
   ],
   "source": [
    "let _ = dijkstra g1"
   ]
  },
  {
   "cell_type": "markdown",
   "metadata": {},
   "source": [
    "----\n",
    "## Arbres couvrants de poids minimal\n",
    "\n",
    "On ne traite que l'algorithme de Prim. L'algorithme de Kruskal n'est pas plus compliqué, il utilise une autre structure de données (Union-Find, déjà traité aussi)."
   ]
  },
  {
   "cell_type": "markdown",
   "metadata": {},
   "source": [
    "### Algorithme de Prim"
   ]
  },
  {
   "cell_type": "code",
   "execution_count": 40,
   "metadata": {},
   "outputs": [
    {
     "data": {
      "text/plain": [
       "val prim : graph -> int array * int array = <fun>\n"
      ]
     },
     "execution_count": 40,
     "metadata": {},
     "output_type": "execute_result"
    }
   ],
   "source": [
    "let prim g =\n",
    "    let q = vide () in\n",
    "    let poid = Array.init g.taille (fun i ->\n",
    "        if i=g.entree then 0 else max_int\n",
    "    ) in\n",
    "    let pere = Array.init g.taille (fun i -> i) in\n",
    "    for i=0 to g.taille-1 do (* initialisation de la file *)\n",
    "        inserer i poid.(i) q;\n",
    "    done;\n",
    "    while not (est_vide q) do\n",
    "        let x = extraire_min q in\n",
    "        (* on regarde les adjacents de x *)\n",
    "        List.iter (fun (c,y) ->\n",
    "            if poid.(y) > c\n",
    "            then begin\n",
    "                pere.(y) <- x;\n",
    "                poid.(y) <- c;\n",
    "                diminuer_clef y poid.(y) q\n",
    "        end)\n",
    "        g.adj.(x)\n",
    "    done;\n",
    "    Array.iteri (fun i p ->\n",
    "        if i != p then Printf.printf \" (%d, %d)\\n\" i p\n",
    "    ) pere;\n",
    "    poid, pere;\n",
    ";;"
   ]
  },
  {
   "cell_type": "markdown",
   "metadata": {},
   "source": [
    "### Exemple"
   ]
  },
  {
   "cell_type": "code",
   "execution_count": 41,
   "metadata": {},
   "outputs": [
    {
     "data": {
      "text/plain": [
       "- : int array * int array = ([|0; 2; 1; 2; 1|], [|0; 0; 3; 0; 1|])\n"
      ]
     },
     "execution_count": 41,
     "metadata": {},
     "output_type": "execute_result"
    }
   ],
   "source": [
    "let _ = prim g1"
   ]
  },
  {
   "cell_type": "markdown",
   "metadata": {},
   "source": [
    "---\n",
    "## Heap"
   ]
  },
  {
   "cell_type": "code",
   "execution_count": 10,
   "metadata": {},
   "outputs": [
    {
     "data": {
      "text/plain": [
       "module type Ordered = sig type t val le : t -> t -> bool end\n"
      ]
     },
     "execution_count": 10,
     "metadata": {},
     "output_type": "execute_result"
    },
    {
     "data": {
      "text/plain": [
       "exception Empty\n"
      ]
     },
     "execution_count": 10,
     "metadata": {},
     "output_type": "execute_result"
    },
    {
     "data": {
      "text/plain": [
       "module Make :\n",
       "  functor (X : Ordered) ->\n",
       "    sig\n",
       "      type t\n",
       "      val empty : t\n",
       "      val is_empty : t -> bool\n",
       "      val insert : X.t -> t -> t\n",
       "      val min : t -> X.t\n",
       "      val extract_min : t -> X.t * t\n",
       "      val merge : t -> t -> t\n",
       "      val length : t -> int\n",
       "    end\n"
      ]
     },
     "execution_count": 10,
     "metadata": {},
     "output_type": "execute_result"
    }
   ],
   "source": [
    "(** {2 Leftist heaps, by Jean-Christophe Filliâtre} *)\n",
    "\n",
    "(**************************************************************************)\n",
    "(*                                                                        *)\n",
    "(*  Copyright (C) Jean-Christophe Filliâtre                               *)\n",
    "(*                                                                        *)\n",
    "(*  This software is free software; you can redistribute it and/or        *)\n",
    "(*  modify it under the terms of the GNU Library General Public           *)\n",
    "(*  License version 2.1, with the special exception on linking            *)\n",
    "(*  described in file LICENSE.                                            *)\n",
    "(*                                                                        *)\n",
    "(*  This software is distributed in the hope that it will be useful,      *)\n",
    "(*  but WITHOUT ANY WARRANTY; without even the implied warranty of        *)\n",
    "(*  MERCHANTABILITY or FITNESS FOR A PARTICULAR PURPOSE.                  *)\n",
    "(*                                                                        *)\n",
    "(**************************************************************************)\n",
    "\n",
    "(* Leftist heaps.\n",
    "\n",
    "   See for instance Chris Okasaki's \"Purely Functional Data Structures\" *)\n",
    "\n",
    "module type Ordered = sig\n",
    "  type t\n",
    "  val le: t -> t -> bool\n",
    "end\n",
    "\n",
    "exception Empty\n",
    "\n",
    "module Make(X : Ordered) :\n",
    "sig\n",
    "  type t\n",
    "  val empty : t\n",
    "  val is_empty : t -> bool\n",
    "  val insert : X.t -> t -> t\n",
    "  val min : t -> X.t\n",
    "  val extract_min : t -> X.t * t\n",
    "  val merge : t -> t -> t\n",
    "  val length : t -> int\n",
    "end\n",
    "=\n",
    "struct\n",
    "\n",
    "  type t = E | T of int * X.t * t * t\n",
    "\n",
    "  let rank = function E -> 0 | T (r,_,_,_) -> r\n",
    "\n",
    "  let rec length = function E -> 0 | T (_,_,t1,t2) -> 1 + (length t1) + (length t2)\n",
    "\n",
    "  let make x a b =\n",
    "    let ra = rank a and rb = rank b in\n",
    "    if ra >= rb then T (rb + 1, x, a, b) else T (ra + 1, x, b, a)\n",
    "\n",
    "  let empty = E\n",
    "\n",
    "  let is_empty = function E -> true | T _ -> false\n",
    "\n",
    "  let rec merge h1 h2 = match h1,h2 with\n",
    "    | E, h | h, E ->\n",
    "        h\n",
    "    | T (_,x,a1,b1), T (_,y,a2,b2) ->\n",
    "        if X.le x y then make x a1 (merge b1 h2) else make y a2 (merge h1 b2)\n",
    "\n",
    "  let insert x h = merge (T (1, x, E, E)) h\n",
    "\n",
    "  let min = function E -> raise Empty | T (_,x,_,_) -> x\n",
    "\n",
    "  let extract_min = function\n",
    "    | E -> raise Empty\n",
    "    | T (_,x,a,b) -> x, merge a b\n",
    "\n",
    "end"
   ]
  },
  {
   "cell_type": "markdown",
   "metadata": {},
   "source": [
    "----\n",
    "## Codage de Huffman\n",
    "\n",
    "C'est un grand classique pour les leçons \"Programmation dynamique\" et \"Algorithmique du texte\".\n",
    "Le présenter en développement sans l'avoir implémenter est difficilement pardonnable."
   ]
  },
  {
   "cell_type": "markdown",
   "metadata": {},
   "source": [
    "<center><span style=\"color:red;\">TODO : utiliser une file de priorité mutable plutôt qu'un tas min ?</span></center>"
   ]
  },
  {
   "cell_type": "markdown",
   "metadata": {},
   "source": [
    "### Fréquences de lettres dans un texte"
   ]
  },
  {
   "cell_type": "code",
   "execution_count": 11,
   "metadata": {},
   "outputs": [
    {
     "data": {
      "text/plain": [
       "val frequencies : string -> (char, int) Hashtbl.t = <fun>\n"
      ]
     },
     "execution_count": 11,
     "metadata": {},
     "output_type": "execute_result"
    }
   ],
   "source": [
    "(** Calcule l'alphabet du texte [text] ainsi que son tableau de fréquence.\n",
    "    Linéaire en temps et espace dans la taille du texte. *)\n",
    "let frequencies text =\n",
    "    let n = String.length text in\n",
    "    let f = Hashtbl.create 128 in\n",
    "    for i = 0 to n-1 do\n",
    "        if Hashtbl.mem f text.[i] then\n",
    "            Hashtbl.replace f text.[i] (1 + Hashtbl.find f text.[i])\n",
    "        else Hashtbl.add f text.[i] 1;\n",
    "    done;\n",
    "    f\n",
    ";;"
   ]
  },
  {
   "cell_type": "code",
   "execution_count": 12,
   "metadata": {},
   "outputs": [
    {
     "data": {
      "text/plain": [
       "val alphabet : string -> char list = <fun>\n"
      ]
     },
     "execution_count": 12,
     "metadata": {},
     "output_type": "execute_result"
    }
   ],
   "source": [
    "(** Renvoie juste l'alphabet qui compose le texte [text]. *)\n",
    "let alphabet text =\n",
    "    let f = frequencies text in\n",
    "    let alp = ref [ ] in\n",
    "    Hashtbl.iter (fun carct _ -> alp := carct :: !alp) f;\n",
    "    !alp\n",
    ";;"
   ]
  },
  {
   "cell_type": "code",
   "execution_count": 42,
   "metadata": {},
   "outputs": [
    {
     "data": {
      "text/plain": [
       "val text1 : string =\n",
       "  \"Hashtbl.iter f tbl applies f to all bindings in table tbl. f receives the key as first argument, and the associated value as second argument. Each binding is presented exactly once to f.\\n The order in which the bindings are passed to f is unspecified. However, if the table contains several bindings for the same key, they are passed to f in reverse order of introduction, that is, the most recent binding is passed first.\\n If the hash table was created in non-randomized mode, the order in which the bindings are enumerated is reproducible between successive runs of the program, and even between minor versions of OCaml. For randomized hash tables, the order of enumeration is entirely random.\"\n"
      ]
     },
     "execution_count": 42,
     "metadata": {},
     "output_type": "execute_result"
    },
    {
     "data": {
      "text/plain": [
       "- : char list =\n",
       "['l'; 'h'; 'g'; 'f'; 'o'; 'O'; 'y'; 'e'; 'E'; '-'; 'v'; 'F'; 'm'; 'z'; 'd';\n",
       " 'b'; 'i'; 'k'; ' '; 'C'; 'u'; 'n'; 't'; 'T'; 'p'; 'I'; ','; 'x'; 'a'; 'H';\n",
       " 'r'; 'c'; 'w'; 's'; '\\n'; '.']\n"
      ]
     },
     "execution_count": 42,
     "metadata": {},
     "output_type": "execute_result"
    }
   ],
   "source": [
    "(** Un exemple. *)\n",
    "let text1 = \"Hashtbl.iter f tbl applies f to all bindings in table tbl. f receives the key as first argument, and the associated value as second argument. Each binding is presented exactly once to f.\\n The order in which the bindings are passed to f is unspecified. However, if the table contains several bindings for the same key, they are passed to f in reverse order of introduction, that is, the most recent binding is passed first.\\n If the hash table was created in non-randomized mode, the order in which the bindings are enumerated is reproducible between successive runs of the program, and even between minor versions of OCaml. For randomized hash tables, the order of enumeration is entirely random.\" ;;\n",
    "\n",
    "let _ = alphabet text1;;"
   ]
  },
  {
   "cell_type": "code",
   "execution_count": 44,
   "metadata": {},
   "outputs": [
    {
     "data": {
      "text/plain": [
       "val print : ('a, Format.formatter, unit) format -> 'a = <fun>\n"
      ]
     },
     "execution_count": 44,
     "metadata": {},
     "output_type": "execute_result"
    },
    {
     "data": {
      "text/plain": [
       "val print_frequencies : (char, int) Hashtbl.t -> unit = <fun>\n"
      ]
     },
     "execution_count": 44,
     "metadata": {},
     "output_type": "execute_result"
    }
   ],
   "source": [
    "(** Pour affiche facilement. *)\n",
    "let print = Format.printf;;\n",
    "\n",
    "(** Pour visualiser un tableau des fréquences ainsi calculée. *)\n",
    "let print_frequencies f =\n",
    "  print \"\\n\\nTable des fréquences f :\\n\";\n",
    "  flush_all();\n",
    "  Hashtbl.iter (fun carct freq -> print \"%C: %i, \" carct freq) f;\n",
    "  flush_all();\n",
    ";;"
   ]
  },
  {
   "cell_type": "code",
   "execution_count": 45,
   "metadata": {},
   "outputs": [
    {
     "name": "stdout",
     "output_type": "stream",
     "text": [
      "'.': 8, '\\n': 2, 's': 43, 'w': 6, 'c': 16, 'r': 40, 'H': 2, 'a': 39, 'x': 1, ',': 8, 'I': 1, 'p': 9, 'T': 1, 't': 44, 'n': 45, 'u': 10, 'C': 1, ' ': 117, 'k': 2, 'i': 45, 'b': 16, 'd': 29, 'z': 2, 'm': 13, 'F': 1, 'v': 8, '-': 1, 'E': 1, 'e': 81, 'y': 5, 'O': 1, 'o': 32, 'f': 16, 'g': 9, 'h': 24, 'l': 16, \n",
      "\n",
      "Table des fréquences f :\n"
     ]
    },
    {
     "data": {
      "text/plain": [
       "- : unit = ()\n"
      ]
     },
     "execution_count": 45,
     "metadata": {},
     "output_type": "execute_result"
    }
   ],
   "source": [
    "print_frequencies (frequencies text1);;"
   ]
  },
  {
   "cell_type": "markdown",
   "metadata": {},
   "source": [
    "### Structure de tas binaire min"
   ]
  },
  {
   "cell_type": "code",
   "execution_count": 46,
   "metadata": {},
   "outputs": [
    {
     "data": {
      "text/plain": [
       "type codage = F of char * int | N of (int * codage * codage)\n"
      ]
     },
     "execution_count": 46,
     "metadata": {},
     "output_type": "execute_result"
    },
    {
     "data": {
      "text/plain": [
       "val freq : codage -> int = <fun>\n"
      ]
     },
     "execution_count": 46,
     "metadata": {},
     "output_type": "execute_result"
    },
    {
     "name": "stderr",
     "output_type": "stream",
     "text": [
      "File \"[46]\", line 7, characters 20-21:\n",
      "Warning 41: F belongs to several types: codage codage\n",
      "The first one was selected. Please disambiguate if this is wrong.\n"
     ]
    },
    {
     "data": {
      "text/plain": [
       "module CodageFreq : sig type t = codage val le : codage -> codage -> bool end\n"
      ]
     },
     "execution_count": 46,
     "metadata": {},
     "output_type": "execute_result"
    },
    {
     "data": {
      "text/plain": [
       "module MinHeap :\n",
       "  sig\n",
       "    type t = Make(CodageFreq).t\n",
       "    val empty : t\n",
       "    val is_empty : t -> bool\n",
       "    val insert : CodageFreq.t -> t -> t\n",
       "    val min : t -> CodageFreq.t\n",
       "    val extract_min : t -> CodageFreq.t * t\n",
       "    val merge : t -> t -> t\n",
       "    val length : t -> int\n",
       "  end\n"
      ]
     },
     "execution_count": 46,
     "metadata": {},
     "output_type": "execute_result"
    },
    {
     "name": "stderr",
     "output_type": "stream",
     "text": [
      "File \"[46]\", line 17, characters 6-7:\n",
      "Warning 41: F belongs to several types: codage codage\n",
      "The first one was selected. Please disambiguate if this is wrong.\n"
     ]
    },
    {
     "data": {
      "text/plain": [
       "val check_freq : codage -> unit = <fun>\n"
      ]
     },
     "execution_count": 46,
     "metadata": {},
     "output_type": "execute_result"
    }
   ],
   "source": [
    "(* #use \"Heap.ml\";; *)\n",
    "(* open Heap;; *)\n",
    "\n",
    "type codage =\n",
    "    | F of char * int | N of (int * codage * codage);;\n",
    "\n",
    "let freq = function F (_, i) -> i | N (i,_ , _) -> i;;\n",
    "\n",
    "module CodageFreq = struct\n",
    "    type t = codage\n",
    "    let le c1 c2 = (freq c1) <= (freq c2)\n",
    "end;;\n",
    "\n",
    "module MinHeap = Make(CodageFreq);;\n",
    "\n",
    "let rec check_freq = function\n",
    "    | F(_,i) -> assert( (i >= 0) )\n",
    "    | N(i, c1, c2) -> assert( (i >= 0) && (i = (freq c1) + (freq c2)) ); check_freq c1; check_freq c2;\n",
    ";;"
   ]
  },
  {
   "cell_type": "markdown",
   "metadata": {},
   "source": [
    "### Exemple d'un codage préfixe (Figure 16.4 p378 du Cormen)"
   ]
  },
  {
   "cell_type": "code",
   "execution_count": 47,
   "metadata": {},
   "outputs": [
    {
     "data": {
      "text/plain": [
       "val sigma_fromlist : ('a * 'b) list -> ('a, 'b) Hashtbl.t = <fun>\n"
      ]
     },
     "execution_count": 47,
     "metadata": {},
     "output_type": "execute_result"
    },
    {
     "data": {
      "text/plain": [
       "val sigma1 : (char, int) Hashtbl.t = <abstr>\n"
      ]
     },
     "execution_count": 47,
     "metadata": {},
     "output_type": "execute_result"
    },
    {
     "name": "stderr",
     "output_type": "stream",
     "text": [
      "File \"[47]\", line 9, characters 14-15:\n",
      "Warning 41: N belongs to several types: codage codage\n",
      "The first one was selected. Please disambiguate if this is wrong.\n"
     ]
    },
    {
     "data": {
      "text/plain": [
       "val codage1 : codage =\n",
       "  N\n",
       "   (100, F ('a', 45),\n",
       "    N\n",
       "     (55, N (25, F ('c', 12), F ('b', 13)),\n",
       "      N (30, N (14, F ('f', 5), F ('e', 9)), F ('d', 16))))\n"
      ]
     },
     "execution_count": 47,
     "metadata": {},
     "output_type": "execute_result"
    }
   ],
   "source": [
    "let sigma_fromlist l =\n",
    "    let h = Hashtbl.create (List.length l) in\n",
    "    List.iter (fun (c, f) -> Hashtbl.add h c f) l;\n",
    "    h\n",
    ";;\n",
    "\n",
    "let sigma1 = sigma_fromlist [('f', 5); ('e', 9); ('c', 12); ('b', 13); ('d', 16); ('a', 45) ];;\n",
    "\n",
    "let codage1 = N(100,\n",
    "    F('a', 45),\n",
    "    N(55,\n",
    "    N(25,\n",
    "        F('c',12),\n",
    "        F('b',13)\n",
    "    ),\n",
    "    N(30,\n",
    "        N(14,\n",
    "        F('f',5),\n",
    "        F('e',9)\n",
    "        ),\n",
    "        F('d',16)\n",
    "    )\n",
    ")\n",
    ");;"
   ]
  },
  {
   "cell_type": "code",
   "execution_count": 49,
   "metadata": {},
   "outputs": [
    {
     "data": {
      "text/plain": [
       "- : unit = ()\n"
      ]
     },
     "execution_count": 49,
     "metadata": {},
     "output_type": "execute_result"
    }
   ],
   "source": [
    "let _ = check_freq codage1;;"
   ]
  },
  {
   "cell_type": "code",
   "execution_count": 50,
   "metadata": {},
   "outputs": [
    {
     "name": "stderr",
     "output_type": "stream",
     "text": [
      "File \"[50]\", line 3, characters 4-5:\n",
      "Warning 41: F belongs to several types: codage codage\n",
      "The first one was selected. Please disambiguate if this is wrong.\n"
     ]
    },
    {
     "data": {
      "text/plain": [
       "val coutx : int -> codage -> int = <fun>\n"
      ]
     },
     "execution_count": 50,
     "metadata": {},
     "output_type": "execute_result"
    },
    {
     "data": {
      "text/plain": [
       "val cout : codage -> int = <fun>\n"
      ]
     },
     "execution_count": 50,
     "metadata": {},
     "output_type": "execute_result"
    },
    {
     "data": {
      "text/plain": [
       "- : int = 324\n"
      ]
     },
     "execution_count": 50,
     "metadata": {},
     "output_type": "execute_result"
    }
   ],
   "source": [
    "(** Calcul du nombre de bits nécessaires pour stocker le fichier. *)\n",
    "let rec coutx prof = function\n",
    "  | F(c, f) -> begin\n",
    "    print \"\\nFeuille %C de profondeur %i et de fréquence %i.\" c prof f;\n",
    "    (f * prof);\n",
    "  end\n",
    "  | N(_, c1, c2) -> (coutx (prof+1) c1) + (coutx (prof+1) c2)\n",
    ";;\n",
    "\n",
    "(** Il faudrait rajouter la taille du codage lui-même. *)\n",
    "let cout = coutx 1;;\n",
    "\n",
    "let _ = cout codage1;;"
   ]
  },
  {
   "cell_type": "markdown",
   "metadata": {},
   "source": [
    "### Algorithme glouton de codage préfixe optimal de Huffman"
   ]
  },
  {
   "cell_type": "code",
   "execution_count": null,
   "metadata": {},
   "outputs": [],
   "source": [
    "let huffmanx sigma =\n",
    "    let n = Hashtbl.length sigma in\n",
    "    let q = ref (MinHeap.empty) in\n",
    "    Hashtbl.iter (fun c f -> q := (MinHeap.insert (F(c,f)) !q) ) sigma;\n",
    "    for i = 1 to n-1 do\n",
    "        flush_all();\n",
    "        print \"\\n\\nHuffmanx : %i-ième étape. La file q est de taille %i.\" i (MinHeap.length !q);\n",
    "        let x, q2 = MinHeap.extract_min (!q) in\n",
    "        flush_all();\n",
    "        print \"\\nOn retire à q le noeud x de fréquence minimale (= %i).\" (freq x);\n",
    "        let y, q3 = MinHeap.extract_min q2 in\n",
    "        flush_all();\n",
    "        print \"\\nOn retire à q second noeud y de fréquence minimale (= %i).\" (freq y);\n",
    "        q := q3;\n",
    "        let z = N( (freq x) + (freq y), x, y) in\n",
    "        flush_all();\n",
    "        print \"\\nOn les fusionne en z un nouveau noeud de fréquence %i, de fils gauche = x et droit = y.\" ( freq z );\n",
    "        q := MinHeap.insert z !q;\n",
    "        flush_all();\n",
    "        print \"\\nOn ajoute ce noeud z a la file de priorité min q.\";\n",
    "    done;\n",
    "    MinHeap.min !q\n",
    ";;"
   ]
  },
  {
   "cell_type": "code",
   "execution_count": null,
   "metadata": {},
   "outputs": [],
   "source": [
    "(** Vérification sur l'exemple. *)\n",
    "assert(codage1 = (huffmanx sigma1));;"
   ]
  },
  {
   "cell_type": "code",
   "execution_count": 9,
   "metadata": {},
   "outputs": [
    {
     "name": "stderr",
     "output_type": "stream",
     "text": [
      "File \"[9]\", line 19, characters 0-35:\n",
      "Warning 50: unattached documentation comment (ignored)\n"
     ]
    },
    {
     "data": {
      "text/plain": [
       "val huffmanx : (char, int) Hashtbl.t -> CodageFreq.t = <fun>\n"
      ]
     },
     "execution_count": 9,
     "metadata": {},
     "output_type": "execute_result"
    },
    {
     "data": {
      "text/plain": [
       "- : unit = ()\n"
      ]
     },
     "execution_count": 9,
     "metadata": {},
     "output_type": "execute_result"
    },
    {
     "data": {
      "text/plain": [
       "val huffman : string -> CodageFreq.t = <fun>\n"
      ]
     },
     "execution_count": 9,
     "metadata": {},
     "output_type": "execute_result"
    },
    {
     "data": {
      "text/plain": [
       "val sigma2 : (char, int) Hashtbl.t = <abstr>\n"
      ]
     },
     "execution_count": 9,
     "metadata": {},
     "output_type": "execute_result"
    },
    {
     "data": {
      "text/plain": [
       "- : CodageFreq.t =\n",
       "N\n",
       " (54, F ('h', 21),\n",
       "  N\n",
       "   (33, F ('g', 13),\n",
       "    N\n",
       "     (20, F ('f', 8),\n",
       "      N\n",
       "       (12, F ('e', 5),\n",
       "        N (7, F ('d', 3), N (4, N (2, F ('b', 1), F ('a', 1)), F ('c', 2)))))))\n"
      ]
     },
     "execution_count": 9,
     "metadata": {},
     "output_type": "execute_result"
    },
    {
     "data": {
      "text/plain": [
       "- : unit = ()\n"
      ]
     },
     "execution_count": 9,
     "metadata": {},
     "output_type": "execute_result"
    }
   ],
   "source": [
    "(** Pour un texte entier, on calcule directement le codage. *)\n",
    "let huffman text =\n",
    "    let freq = frequencies text in\n",
    "    huffmanx freq\n",
    ";;\n",
    "\n",
    "let sigma2 = sigma_fromlist [ ('a',1); ('b',1); ('c',2); ('d',3); ('e',5); ('f',8); ('g',13); ('h',21) ];;\n",
    "let _ = huffmanx sigma2;;"
   ]
  },
  {
   "cell_type": "markdown",
   "metadata": {},
   "source": [
    "----\n",
    "## Coloration de graphes\n",
    "\n",
    "Voyons une approche gloutonne.\n",
    "\n",
    "On va trier les sommets par degrés décroissants, et attribuer à chaque sommet une couleur, soit la plus petite possible parmi celles non utilisées par ces voisins, soit une nouvelle.\n",
    "\n",
    "On représente un graphe par tableau de listes d'adjacence. Notre exemple sera le graphe suivant, sans considérer les étiquettes des arêtes et en le considérant non orienté :"
   ]
  },
  {
   "cell_type": "markdown",
   "metadata": {},
   "source": [
    "![TP7__g1.svg](TP7__g1.svg)"
   ]
  },
  {
   "cell_type": "markdown",
   "metadata": {},
   "source": [
    "### Représentation des graphes"
   ]
  },
  {
   "cell_type": "code",
   "execution_count": 51,
   "metadata": {},
   "outputs": [
    {
     "data": {
      "text/plain": [
       "type sommet = int\n"
      ]
     },
     "execution_count": 51,
     "metadata": {},
     "output_type": "execute_result"
    },
    {
     "data": {
      "text/plain": [
       "type graphe = sommet list array\n"
      ]
     },
     "execution_count": 51,
     "metadata": {},
     "output_type": "execute_result"
    }
   ],
   "source": [
    "type sommet = int ;;\n",
    "type graphe = (sommet list) array;;"
   ]
  },
  {
   "cell_type": "code",
   "execution_count": 52,
   "metadata": {},
   "outputs": [
    {
     "data": {
      "text/plain": [
       "val nb_sommet : graphe -> int = <fun>\n"
      ]
     },
     "execution_count": 52,
     "metadata": {},
     "output_type": "execute_result"
    }
   ],
   "source": [
    "let nb_sommet (g : graphe) = Array.length g;;"
   ]
  },
  {
   "cell_type": "markdown",
   "metadata": {},
   "source": [
    "### Et des coloriages"
   ]
  },
  {
   "cell_type": "code",
   "execution_count": 53,
   "metadata": {},
   "outputs": [
    {
     "data": {
      "text/plain": [
       "type couleur = int\n"
      ]
     },
     "execution_count": 53,
     "metadata": {},
     "output_type": "execute_result"
    },
    {
     "data": {
      "text/plain": [
       "type coloriage = couleur array\n"
      ]
     },
     "execution_count": 53,
     "metadata": {},
     "output_type": "execute_result"
    }
   ],
   "source": [
    "type couleur = int;;\n",
    "type coloriage = couleur array;; (* c.(i) est la couleur du sommet i... *)"
   ]
  },
  {
   "cell_type": "code",
   "execution_count": 78,
   "metadata": {},
   "outputs": [
    {
     "data": {
      "text/plain": [
       "val verifie_coloriage : graphe -> coloriage -> bool = <fun>\n"
      ]
     },
     "execution_count": 78,
     "metadata": {},
     "output_type": "execute_result"
    }
   ],
   "source": [
    "let verifie_coloriage (g : graphe) (c : coloriage) =\n",
    "    let res = ref true in\n",
    "    let n = nb_sommet g in\n",
    "    for i = 0 to n-1 do\n",
    "        if c.(i) < 0 || c.(i) >= n then res := false;\n",
    "        List.iter (fun j ->\n",
    "            if c.(i) == c.(j) then res := false;\n",
    "        ) g.(i)\n",
    "    done;\n",
    "    !res\n",
    ";;"
   ]
  },
  {
   "cell_type": "markdown",
   "metadata": {},
   "source": [
    "### Exemple"
   ]
  },
  {
   "cell_type": "code",
   "execution_count": 89,
   "metadata": {},
   "outputs": [
    {
     "data": {
      "text/plain": [
       "val g1 : graphe = [|[1; 2; 3]; [0; 4]; [0; 3; 4]; [0; 2]; [1; 2]|]\n"
      ]
     },
     "execution_count": 89,
     "metadata": {},
     "output_type": "execute_result"
    }
   ],
   "source": [
    "let g1 : graphe = [|\n",
    "    [1; 2; 3]; (* voisins de 0 *)\n",
    "    [0; 4]; (* voisins de 1 *)\n",
    "    [0; 3; 4]; (* voisins de 2 *)\n",
    "    [0; 2]; (* voisins de 3 *)\n",
    "    [1; 2]  (* voisins de 4 *)\n",
    "|];;"
   ]
  },
  {
   "cell_type": "code",
   "execution_count": 90,
   "metadata": {},
   "outputs": [
    {
     "data": {
      "text/plain": [
       "val coloriage1 : int array = [|0; 1; 1; 1; 0|]\n"
      ]
     },
     "execution_count": 90,
     "metadata": {},
     "output_type": "execute_result"
    },
    {
     "data": {
      "text/plain": [
       "- : bool = false\n"
      ]
     },
     "execution_count": 90,
     "metadata": {},
     "output_type": "execute_result"
    },
    {
     "data": {
      "text/plain": [
       "val coloriage2 : int array = [|0; 1; 2; 1; 0|]\n"
      ]
     },
     "execution_count": 90,
     "metadata": {},
     "output_type": "execute_result"
    },
    {
     "data": {
      "text/plain": [
       "- : bool = true\n"
      ]
     },
     "execution_count": 90,
     "metadata": {},
     "output_type": "execute_result"
    }
   ],
   "source": [
    "let coloriage1 = [|0; 1; 1; 1; 0|];;\n",
    "let _ = verifie_coloriage g1 coloriage1;; (* 3 -> 2 mais ont la même couleur *)\n",
    "\n",
    "let coloriage2 = [|0; 1; 2; 1; 0|];;\n",
    "let _ = verifie_coloriage g1 coloriage2;;"
   ]
  },
  {
   "cell_type": "markdown",
   "metadata": {},
   "source": [
    "On a bien sûr une approche naïve :"
   ]
  },
  {
   "cell_type": "code",
   "execution_count": 91,
   "metadata": {},
   "outputs": [
    {
     "data": {
      "text/plain": [
       "val coloriage_naif : graphe -> coloriage = <fun>\n"
      ]
     },
     "execution_count": 91,
     "metadata": {},
     "output_type": "execute_result"
    }
   ],
   "source": [
    "let coloriage_naif (g : graphe) : coloriage =\n",
    "    let n = nb_sommet g in\n",
    "    Array.init n (fun i -> i);\n",
    ";;"
   ]
  },
  {
   "cell_type": "code",
   "execution_count": 92,
   "metadata": {},
   "outputs": [
    {
     "data": {
      "text/plain": [
       "val coloriage3 : coloriage = [|0; 1; 2; 3; 4|]\n"
      ]
     },
     "execution_count": 92,
     "metadata": {},
     "output_type": "execute_result"
    },
    {
     "data": {
      "text/plain": [
       "- : bool = true\n"
      ]
     },
     "execution_count": 92,
     "metadata": {},
     "output_type": "execute_result"
    }
   ],
   "source": [
    "let coloriage3 = coloriage_naif g1;;\n",
    "let _ = verifie_coloriage g1 coloriage3;;"
   ]
  },
  {
   "cell_type": "markdown",
   "metadata": {},
   "source": [
    "### Algorithme glouton pour le coloriage"
   ]
  },
  {
   "cell_type": "code",
   "execution_count": 93,
   "metadata": {},
   "outputs": [
    {
     "data": {
      "text/plain": [
       "val degres : graphe -> int array = <fun>\n"
      ]
     },
     "execution_count": 93,
     "metadata": {},
     "output_type": "execute_result"
    }
   ],
   "source": [
    "let degres (g : graphe) : int array =\n",
    "    Array.map List.length g\n",
    ";;"
   ]
  },
  {
   "cell_type": "code",
   "execution_count": 94,
   "metadata": {},
   "outputs": [
    {
     "data": {
      "text/plain": [
       "- : int array = [|3; 2; 3; 2; 2|]\n"
      ]
     },
     "execution_count": 94,
     "metadata": {},
     "output_type": "execute_result"
    }
   ],
   "source": [
    "let _ = degres g1;;"
   ]
  },
  {
   "cell_type": "code",
   "execution_count": 95,
   "metadata": {},
   "outputs": [
    {
     "data": {
      "text/plain": [
       "type permutation = int array\n"
      ]
     },
     "execution_count": 95,
     "metadata": {},
     "output_type": "execute_result"
    },
    {
     "data": {
      "text/plain": [
       "val trie_par_degres : graphe -> permutation = <fun>\n"
      ]
     },
     "execution_count": 95,
     "metadata": {},
     "output_type": "execute_result"
    }
   ],
   "source": [
    "type permutation = int array;;\n",
    "\n",
    "let trie_par_degres (g : graphe) : permutation =\n",
    "    let n = nb_sommet g in\n",
    "    let indices = Array.init n (fun i -> i) in\n",
    "    let d = degres g in\n",
    "    let cmp_deg i j = Pervasives.compare d.(j) d.(i) in\n",
    "    Array.stable_sort cmp_deg indices;\n",
    "    indices\n",
    ";;"
   ]
  },
  {
   "cell_type": "code",
   "execution_count": 96,
   "metadata": {},
   "outputs": [
    {
     "data": {
      "text/plain": [
       "- : permutation = [|0; 2; 1; 3; 4|]\n"
      ]
     },
     "execution_count": 96,
     "metadata": {},
     "output_type": "execute_result"
    }
   ],
   "source": [
    "let _ = trie_par_degres g1;;"
   ]
  },
  {
   "cell_type": "code",
   "execution_count": 97,
   "metadata": {},
   "outputs": [
    {
     "data": {
      "text/plain": [
       "val plus_petite_couleur_libre : int -> couleur list -> couleur = <fun>\n"
      ]
     },
     "execution_count": 97,
     "metadata": {},
     "output_type": "execute_result"
    }
   ],
   "source": [
    "let plus_petite_couleur_libre (n : int) (cs : couleur list) : couleur =\n",
    "    let rep = ref 0 in\n",
    "    while List.mem !rep cs do\n",
    "        incr rep\n",
    "    done;\n",
    "    assert (!rep < n);\n",
    "    !rep\n",
    ";;"
   ]
  },
  {
   "cell_type": "code",
   "execution_count": 98,
   "metadata": {
    "scrolled": true
   },
   "outputs": [
    {
     "data": {
      "text/plain": [
       "val coloriage_glouton : graphe -> coloriage = <fun>\n"
      ]
     },
     "execution_count": 98,
     "metadata": {},
     "output_type": "execute_result"
    }
   ],
   "source": [
    "let coloriage_glouton (g : graphe) : coloriage =\n",
    "    let n = nb_sommet g in\n",
    "    let c = Array.make n (-1) in\n",
    "    let perm = trie_par_degres g in\n",
    "    for i = 0 to n-1 do\n",
    "        (* on regarde le sommet perm.(i) *)\n",
    "        let couleurs_voisins = List.map (fun j -> c.(j)) g.(perm.(i)) in\n",
    "        c.(perm.(i)) <- plus_petite_couleur_libre n couleurs_voisins;\n",
    "    done;\n",
    "    c\n",
    ";;"
   ]
  },
  {
   "cell_type": "markdown",
   "metadata": {},
   "source": [
    "### Exemples"
   ]
  },
  {
   "cell_type": "code",
   "execution_count": 99,
   "metadata": {},
   "outputs": [
    {
     "data": {
      "text/plain": [
       "val coloriage4 : coloriage = [|0; 1; 1; 2; 0|]\n"
      ]
     },
     "execution_count": 99,
     "metadata": {},
     "output_type": "execute_result"
    },
    {
     "data": {
      "text/plain": [
       "- : bool = true\n"
      ]
     },
     "execution_count": 99,
     "metadata": {},
     "output_type": "execute_result"
    }
   ],
   "source": [
    "let coloriage4 = coloriage_glouton g1;;\n",
    "let _ = verifie_coloriage g1 coloriage4;;"
   ]
  },
  {
   "cell_type": "markdown",
   "metadata": {},
   "source": [
    "On remarque que la procédure gloutonne a ici trouvé un coloriage minimal et optimal mais différent de celui proposé plus haut.\n",
    "\n",
    "- Comment peut-on vérifier que c'est un coloriage minimal ? Il faudrait essayer chaque changement de couleur (ce n'est pas simple)\n",
    "- Et comment vérifier l'optimalité ? Il faudrait tester *tous* les coloriages à `c-1` couleurs (si celui là en a `c`) et montrer qu'aucun ne convient.\n",
    "\n",
    "Note : une première indication est qu'ici on a utilisé `c=3` couleurs avec un graphe de degré maximum $\\delta_{\\max} = 3$."
   ]
  },
  {
   "cell_type": "markdown",
   "metadata": {},
   "source": [
    "----\n",
    "## Conclusion\n",
    "\n",
    "Fin. À la séance prochaine. Le dernier TP8 traitera de programmation logique (en mai)."
   ]
  }
 ],
 "metadata": {
  "kernelspec": {
   "display_name": "OCaml 4.04.2",
   "language": "OCaml",
   "name": "ocaml-jupyter"
  },
  "language_info": {
   "codemirror_mode": "text/x-ocaml",
   "file_extension": ".ml",
   "mimetype": "text/x-ocaml",
   "name": "OCaml",
   "nbconverter_exporter": null,
   "pygments_lexer": "OCaml",
   "version": "4.04.2"
  },
  "toc": {
   "colors": {
    "hover_highlight": "#DAA520",
    "running_highlight": "#FF0000",
    "selected_highlight": "#FFD700"
   },
   "moveMenuLeft": true,
   "nav_menu": {
    "height": "511px",
    "width": "251px"
   },
   "navigate_menu": true,
   "number_sections": true,
   "sideBar": true,
   "threshold": 4,
   "toc_cell": true,
   "toc_position": {
    "height": "578px",
    "left": "0px",
    "right": "1141px",
    "top": "149px",
    "width": "299px"
   },
   "toc_section_display": "block",
   "toc_window_display": true
  },
  "varInspector": {
   "cols": {
    "lenName": 16,
    "lenType": 16,
    "lenVar": 40
   },
   "kernels_config": {
    "python": {
     "delete_cmd_postfix": "",
     "delete_cmd_prefix": "del ",
     "library": "var_list.py",
     "varRefreshCmd": "print(var_dic_list())"
    },
    "r": {
     "delete_cmd_postfix": ") ",
     "delete_cmd_prefix": "rm(",
     "library": "var_list.r",
     "varRefreshCmd": "cat(var_dic_list()) "
    }
   },
   "types_to_exclude": [
    "module",
    "function",
    "builtin_function_or_method",
    "instance",
    "_Feature"
   ],
   "window_display": false
  }
 },
 "nbformat": 4,
 "nbformat_minor": 2
}
