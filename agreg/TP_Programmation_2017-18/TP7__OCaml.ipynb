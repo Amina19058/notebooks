{
 "cells": [
  {
   "cell_type": "markdown",
   "metadata": {
    "toc": "true"
   },
   "source": [
    "# Table of Contents\n",
    " <p><div class=\"lev1 toc-item\"><a href=\"#TP-7---Programmation-pour-la-préparation-à-l'agrégation-maths-option-info\" data-toc-modified-id=\"TP-7---Programmation-pour-la-préparation-à-l'agrégation-maths-option-info-1\"><span class=\"toc-item-num\">1&nbsp;&nbsp;</span>TP 7 - Programmation pour la préparation à l'agrégation maths option info</a></div><div class=\"lev2 toc-item\"><a href=\"#Algorithme-de-Dijkstra---avec-des-files-non-mutables\" data-toc-modified-id=\"Algorithme-de-Dijkstra---avec-des-files-non-mutables-11\"><span class=\"toc-item-num\">1.1&nbsp;&nbsp;</span>Algorithme de Dijkstra - avec des files non mutables</a></div><div class=\"lev3 toc-item\"><a href=\"#Files-de-priorité-min\" data-toc-modified-id=\"Files-de-priorité-min-111\"><span class=\"toc-item-num\">1.1.1&nbsp;&nbsp;</span>Files de priorité min</a></div><div class=\"lev3 toc-item\"><a href=\"#Graphe-par-tableau-de-listes-d'adjacence\" data-toc-modified-id=\"Graphe-par-tableau-de-listes-d'adjacence-112\"><span class=\"toc-item-num\">1.1.2&nbsp;&nbsp;</span>Graphe par tableau de listes d'adjacence</a></div><div class=\"lev3 toc-item\"><a href=\"#Exemple-de-visualisation-de-graphe\" data-toc-modified-id=\"Exemple-de-visualisation-de-graphe-113\"><span class=\"toc-item-num\">1.1.3&nbsp;&nbsp;</span>Exemple de visualisation de graphe</a></div><div class=\"lev3 toc-item\"><a href=\"#Dijkstra\" data-toc-modified-id=\"Dijkstra-114\"><span class=\"toc-item-num\">1.1.4&nbsp;&nbsp;</span>Dijkstra</a></div><div class=\"lev2 toc-item\"><a href=\"#Algorithme-de-Dijkstra---avec-des-files-mutables\" data-toc-modified-id=\"Algorithme-de-Dijkstra---avec-des-files-mutables-12\"><span class=\"toc-item-num\">1.2&nbsp;&nbsp;</span>Algorithme de Dijkstra - avec des files mutables</a></div><div class=\"lev3 toc-item\"><a href=\"#Files-de-priorité-min-mutables\" data-toc-modified-id=\"Files-de-priorité-min-mutables-121\"><span class=\"toc-item-num\">1.2.1&nbsp;&nbsp;</span>Files de priorité min mutables</a></div><div class=\"lev3 toc-item\"><a href=\"#Dijkstra,-2ème-version\" data-toc-modified-id=\"Dijkstra,-2ème-version-122\"><span class=\"toc-item-num\">1.2.2&nbsp;&nbsp;</span>Dijkstra, 2ème version</a></div><div class=\"lev3 toc-item\"><a href=\"#Exemple\" data-toc-modified-id=\"Exemple-123\"><span class=\"toc-item-num\">1.2.3&nbsp;&nbsp;</span>Exemple</a></div><div class=\"lev2 toc-item\"><a href=\"#Arbres-couvrants-de-poids-minimal\" data-toc-modified-id=\"Arbres-couvrants-de-poids-minimal-13\"><span class=\"toc-item-num\">1.3&nbsp;&nbsp;</span>Arbres couvrants de poids minimal</a></div><div class=\"lev3 toc-item\"><a href=\"#Algorithme-de-Prim\" data-toc-modified-id=\"Algorithme-de-Prim-131\"><span class=\"toc-item-num\">1.3.1&nbsp;&nbsp;</span>Algorithme de Prim</a></div><div class=\"lev3 toc-item\"><a href=\"#Exemple\" data-toc-modified-id=\"Exemple-132\"><span class=\"toc-item-num\">1.3.2&nbsp;&nbsp;</span>Exemple</a></div><div class=\"lev2 toc-item\"><a href=\"#Codage-de-Huffman\" data-toc-modified-id=\"Codage-de-Huffman-14\"><span class=\"toc-item-num\">1.4&nbsp;&nbsp;</span>Codage de Huffman</a></div><div class=\"lev2 toc-item\"><a href=\"#Coloration-de-graphes\" data-toc-modified-id=\"Coloration-de-graphes-15\"><span class=\"toc-item-num\">1.5&nbsp;&nbsp;</span>Coloration de graphes</a></div><div class=\"lev2 toc-item\"><a href=\"#Conclusion\" data-toc-modified-id=\"Conclusion-16\"><span class=\"toc-item-num\">1.6&nbsp;&nbsp;</span>Conclusion</a></div>"
   ]
  },
  {
   "cell_type": "markdown",
   "metadata": {},
   "source": [
    "# TP 7 - Programmation pour la préparation à l'agrégation maths option info\n",
    "TP 5 : Algorithmes gloutons et files de priorité."
   ]
  },
  {
   "cell_type": "markdown",
   "metadata": {},
   "source": [
    "- En OCaml."
   ]
  },
  {
   "cell_type": "code",
   "execution_count": 1,
   "metadata": {},
   "outputs": [
    {
     "data": {
      "text/plain": [
       "val print : ('a, out_channel, unit) format -> 'a = <fun>\n"
      ]
     },
     "execution_count": 1,
     "metadata": {},
     "output_type": "execute_result"
    },
    {
     "name": "stdout",
     "output_type": "stream",
     "text": [
      "The OCaml toplevel, version 4.04.2\n"
     ]
    },
    {
     "data": {
      "text/plain": [
       "- : int = 0\n"
      ]
     },
     "execution_count": 1,
     "metadata": {},
     "output_type": "execute_result"
    }
   ],
   "source": [
    "let print = Printf.printf;;\n",
    "Sys.command \"ocaml -version\";;"
   ]
  },
  {
   "cell_type": "code",
   "execution_count": 2,
   "metadata": {},
   "outputs": [
    {
     "data": {
      "text/plain": [
       "- : string -> unit = <fun>\n"
      ]
     },
     "execution_count": 2,
     "metadata": {},
     "output_type": "execute_result"
    }
   ],
   "source": [
    "print_endline"
   ]
  },
  {
   "cell_type": "markdown",
   "metadata": {},
   "source": [
    "----\n",
    "## Algorithme de Dijkstra - avec des files non mutables\n",
    "\n",
    "Déjà vu, on le retraite ici."
   ]
  },
  {
   "cell_type": "markdown",
   "metadata": {},
   "source": [
    "### Files de priorité min"
   ]
  },
  {
   "cell_type": "code",
   "execution_count": 3,
   "metadata": {},
   "outputs": [
    {
     "data": {
      "text/plain": [
       "type 'a priopqueue = (int * 'a) list\n"
      ]
     },
     "execution_count": 3,
     "metadata": {},
     "output_type": "execute_result"
    }
   ],
   "source": [
    "(* file de priorité version non-mutable *)\n",
    "type 'a priopqueue = (int * 'a) list;;"
   ]
  },
  {
   "cell_type": "code",
   "execution_count": 4,
   "metadata": {},
   "outputs": [
    {
     "data": {
      "text/plain": [
       "val vide : 'a priopqueue = []\n"
      ]
     },
     "execution_count": 4,
     "metadata": {},
     "output_type": "execute_result"
    }
   ],
   "source": [
    "(* file vide *)\n",
    "let vide : 'a priopqueue = [ ];;"
   ]
  },
  {
   "cell_type": "code",
   "execution_count": 5,
   "metadata": {},
   "outputs": [
    {
     "data": {
      "text/plain": [
       "val inserer : 'a -> int -> 'a priopqueue -> 'a priopqueue = <fun>\n"
      ]
     },
     "execution_count": 5,
     "metadata": {},
     "output_type": "execute_result"
    }
   ],
   "source": [
    "(* [inserer x clef q] insere l'element [x] dans la file [q]\n",
    "   avec le clef [x], et renvoie la nouvelle file ainsi créée.\n",
    "   Termine avec une exception si la file contient déjà [x]  *)\n",
    "let inserer (x:'a) (clef:int) (q:'a priopqueue) : 'a priopqueue =\n",
    "    if List.exists (fun (_, v) -> x = v) q\n",
    "    then failwith \"l'element est déjà dans la file\"\n",
    "    else (clef,x) :: q\n",
    ";;"
   ]
  },
  {
   "cell_type": "code",
   "execution_count": 6,
   "metadata": {},
   "outputs": [
    {
     "data": {
      "text/plain": [
       "val est_vide : 'a priopqueue -> bool = <fun>\n"
      ]
     },
     "execution_count": 6,
     "metadata": {},
     "output_type": "execute_result"
    }
   ],
   "source": [
    "(* [est_vide q] teste si la file [q] est vide *)\n",
    "let est_vide (q:'a priopqueue) : bool = (q = [ ]);;"
   ]
  },
  {
   "cell_type": "code",
   "execution_count": 7,
   "metadata": {},
   "outputs": [
    {
     "data": {
      "text/plain": [
       "val trouve_min_aux : 'a -> int -> 'a priopqueue -> int * 'a = <fun>\n"
      ]
     },
     "execution_count": 7,
     "metadata": {},
     "output_type": "execute_result"
    }
   ],
   "source": [
    "(* [trouve_min_aux min_val min_clef q] renvoie un couple de clef minimale\n",
    "     dans (min_val,min_clef)::q *)\n",
    "let rec trouve_min_aux (min_val:'a) (min_clef:int) (q:'a priopqueue) : int * 'a =\n",
    "    match q with\n",
    "    | [ ] -> (min_clef, min_val)\n",
    "    | (clef, _) :: q when clef > min_clef -> trouve_min_aux min_val min_clef q\n",
    "    | (clef, v) :: q -> trouve_min_aux v clef q\n",
    ";;"
   ]
  },
  {
   "cell_type": "code",
   "execution_count": 8,
   "metadata": {},
   "outputs": [
    {
     "data": {
      "text/plain": [
       "val trouve_min : 'a priopqueue -> 'a = <fun>\n"
      ]
     },
     "execution_count": 8,
     "metadata": {},
     "output_type": "execute_result"
    }
   ],
   "source": [
    "(* [trouve_min q] renvoie un élément de clef minimale la file [q].\n",
    "   Lance une exception si la liste est vide *)\n",
    "let trouve_min (q:'a priopqueue) : 'a =\n",
    "    match q with\n",
    "    | [ ] -> failwith \"trouve_min: la file est vide\"\n",
    "    | (clef, v) :: q -> snd (trouve_min_aux v clef q)\n",
    ";;"
   ]
  },
  {
   "cell_type": "code",
   "execution_count": 9,
   "metadata": {},
   "outputs": [
    {
     "data": {
      "text/plain": [
       "- : char = '1'\n"
      ]
     },
     "execution_count": 9,
     "metadata": {},
     "output_type": "execute_result"
    },
    {
     "data": {
      "text/plain": [
       "- : char = '2'\n"
      ]
     },
     "execution_count": 9,
     "metadata": {},
     "output_type": "execute_result"
    }
   ],
   "source": [
    "let _ = trouve_min (inserer '1' 1 (inserer '2' 2 (inserer '3' 3 vide)));;\n",
    "let _ = trouve_min (inserer '1' 4 (inserer '2' 2 (inserer '3' 3 vide)));;"
   ]
  },
  {
   "cell_type": "code",
   "execution_count": 10,
   "metadata": {},
   "outputs": [
    {
     "data": {
      "text/plain": [
       "val supprime : 'a -> 'a priopqueue -> 'a priopqueue = <fun>\n"
      ]
     },
     "execution_count": 10,
     "metadata": {},
     "output_type": "execute_result"
    }
   ],
   "source": [
    "(* [supprime v q] renvoie une file contenant les éléments de [q], sauf [x].\n",
    "   [x] doit apparaitre une et une seule fois dans la file. *)\n",
    "let rec supprime (x:'a) (q:'a priopqueue) : 'a priopqueue =\n",
    "    match q with\n",
    "    | [ ] -> [ ]\n",
    "    | (_, v) :: q when v=x -> q\n",
    "    | (clef, v) :: q -> (clef, v) :: (supprime x q)\n",
    ";;"
   ]
  },
  {
   "cell_type": "code",
   "execution_count": 11,
   "metadata": {},
   "outputs": [
    {
     "data": {
      "text/plain": [
       "val extraire_min : 'a priopqueue -> 'a * 'a priopqueue = <fun>\n"
      ]
     },
     "execution_count": 11,
     "metadata": {},
     "output_type": "execute_result"
    }
   ],
   "source": [
    "(* [extraire_min q] renvoie un élément de q, de clef minimal,\n",
    "   ainsi que la nouvelle file obtenue en supprimant cet\n",
    "   élément; termine avec une exception si la file est vide  *)\n",
    "let extraire_min (q:'a priopqueue) : 'a * 'a priopqueue =\n",
    "    if q = [ ] then\n",
    "        failwith \"extraire_min: file vide\"\n",
    "    else\n",
    "        let min = trouve_min q in\n",
    "        (min, supprime min q)\n",
    ";;"
   ]
  },
  {
   "cell_type": "code",
   "execution_count": 12,
   "metadata": {},
   "outputs": [
    {
     "data": {
      "text/plain": [
       "- : char * char priopqueue = ('1', [(2, '2'); (3, '3')])\n"
      ]
     },
     "execution_count": 12,
     "metadata": {},
     "output_type": "execute_result"
    },
    {
     "data": {
      "text/plain": [
       "- : char * char priopqueue = ('2', [(4, '1'); (3, '3')])\n"
      ]
     },
     "execution_count": 12,
     "metadata": {},
     "output_type": "execute_result"
    }
   ],
   "source": [
    "let _ = extraire_min (inserer '1' 1 (inserer '2' 2 (inserer '3' 3 vide)));;\n",
    "let _ = extraire_min (inserer '1' 4 (inserer '2' 2 (inserer '3' 3 vide)));;"
   ]
  },
  {
   "cell_type": "code",
   "execution_count": 13,
   "metadata": {},
   "outputs": [
    {
     "data": {
      "text/plain": [
       "val diminuer_clef : 'a -> int -> 'a priopqueue -> 'a priopqueue = <fun>\n"
      ]
     },
     "execution_count": 13,
     "metadata": {},
     "output_type": "execute_result"
    }
   ],
   "source": [
    "(* [diminuer_clef q clef x] modifie la clef de l'élément [x]\n",
    "   dans la file q en lui associant la nouvelle clef [clef], qui\n",
    "   doit être inferieur à la clef actuelle de [x].\n",
    "   Termine avec une exception si la file ne contient pas [x]  *)\n",
    "let rec diminuer_clef (x:'a) (clef:int) (q:'a priopqueue) : 'a priopqueue =\n",
    "    match q with\n",
    "    | [ ] -> failwith \"diminuer_clef : l'élément n'est pas présent\"\n",
    "    | (_, v) :: q when v=x -> (clef, x) :: q\n",
    "    | (c, v) :: q -> (c, v) :: diminuer_clef x clef q\n",
    ";;"
   ]
  },
  {
   "cell_type": "code",
   "execution_count": 14,
   "metadata": {},
   "outputs": [
    {
     "data": {
      "text/plain": [
       "val f : char priopqueue = [(1, '1'); (2, '2'); (3, '3')]\n"
      ]
     },
     "execution_count": 14,
     "metadata": {},
     "output_type": "execute_result"
    },
    {
     "data": {
      "text/plain": [
       "- : char priopqueue = [(1, '1'); (2, '2'); (0, '3')]\n"
      ]
     },
     "execution_count": 14,
     "metadata": {},
     "output_type": "execute_result"
    },
    {
     "data": {
      "text/plain": [
       "- : char priopqueue = [(1, '1'); (0, '2'); (3, '3')]\n"
      ]
     },
     "execution_count": 14,
     "metadata": {},
     "output_type": "execute_result"
    }
   ],
   "source": [
    "let f =  inserer '1' 1 (inserer '2' 2 (inserer '3' 3 vide));;\n",
    "let _ = diminuer_clef '3' 0 f;;\n",
    "let _ = diminuer_clef '2' 0 f;;"
   ]
  },
  {
   "cell_type": "markdown",
   "metadata": {},
   "source": [
    "### Graphe par tableau de listes d'adjacence"
   ]
  },
  {
   "cell_type": "code",
   "execution_count": 15,
   "metadata": {},
   "outputs": [
    {
     "data": {
      "text/plain": [
       "type sommet = int\n"
      ]
     },
     "execution_count": 15,
     "metadata": {},
     "output_type": "execute_result"
    },
    {
     "data": {
      "text/plain": [
       "type graph = {\n",
       "  taille : int;\n",
       "  adj : (int * sommet) list array;\n",
       "  entree : sommet;\n",
       "}\n"
      ]
     },
     "execution_count": 15,
     "metadata": {},
     "output_type": "execute_result"
    }
   ],
   "source": [
    "type sommet = int;;\n",
    "type graph = {\n",
    "    taille: int; (* les sommets sont des entiers entre 0 et taille-1 *)\n",
    "    adj: (int * sommet) list array;\n",
    "    entree: sommet\n",
    "};;"
   ]
  },
  {
   "cell_type": "code",
   "execution_count": 16,
   "metadata": {},
   "outputs": [
    {
     "data": {
      "text/plain": [
       "val print : out_channel -> ('a, out_channel, unit) format -> 'a = <fun>\n"
      ]
     },
     "execution_count": 16,
     "metadata": {},
     "output_type": "execute_result"
    },
    {
     "data": {
      "text/plain": [
       "val dot : string -> graph -> (int * int) list -> unit = <fun>\n"
      ]
     },
     "execution_count": 16,
     "metadata": {},
     "output_type": "execute_result"
    },
    {
     "data": {
      "text/plain": [
       "val dot2svg : string -> int = <fun>\n"
      ]
     },
     "execution_count": 16,
     "metadata": {},
     "output_type": "execute_result"
    }
   ],
   "source": [
    "let print = Printf.fprintf;;\n",
    "\n",
    "let dot outname (g:graph) (bold:(int*int) list) : unit =\n",
    "    let f = open_out (outname ^ \".dot\") in\n",
    "    print f \"digraph G {\\n\";\n",
    "    for i=0 to g.taille-1 do\n",
    "        print f \"  som%d [label=\\\"%d\\\"];\\n\" i i\n",
    "    done;\n",
    "    for i=0 to g.taille-1 do\n",
    "        List.iter (fun (c,j) ->\n",
    "            let option = if List.mem (i,j) bold then \",style=bold\" else \"\" in\n",
    "            print f \"  som%d -> som%d [label=\\\"%d\\\"%s];\\n\" i j c option\n",
    "        ) g.adj.(i);\n",
    "    done;\n",
    "    print f \"}\\n\";\n",
    "    close_out f\n",
    ";;\n",
    "\n",
    "let dot2svg outname =\n",
    "    Sys.command (Printf.sprintf \"dot -Tsvg %s.dot > %s.svg\" outname outname);"
   ]
  },
  {
   "cell_type": "markdown",
   "metadata": {},
   "source": [
    "### Exemple de visualisation de graphe"
   ]
  },
  {
   "cell_type": "code",
   "execution_count": 17,
   "metadata": {},
   "outputs": [
    {
     "data": {
      "text/plain": [
       "val s : int = 0\n",
       "val a : int = 1\n",
       "val b : int = 2\n",
       "val c : int = 3\n",
       "val d : int = 4\n"
      ]
     },
     "execution_count": 17,
     "metadata": {},
     "output_type": "execute_result"
    },
    {
     "data": {
      "text/plain": [
       "val g1 : graph =\n",
       "  {taille = 5;\n",
       "   adj = [|[(2, 1); (4, 2); (2, 3)]; [(1, 4)]; [(4, 4)]; [(1, 2)]; []|];\n",
       "   entree = 0}\n"
      ]
     },
     "execution_count": 17,
     "metadata": {},
     "output_type": "execute_result"
    }
   ],
   "source": [
    "let s = 0\n",
    "and a = 1\n",
    "and b = 2\n",
    "and c = 3\n",
    "and d = 4;;\n",
    "let g1 = {\n",
    "    taille = 5;\n",
    "    entree = s;\n",
    "    adj = [|\n",
    "        [(2,a); (4,b); (2,c)]; (* adj(s) *)\n",
    "        [(1,d)]; (* adj(A) *)\n",
    "        [(4,d)]; (* adj(B) *)\n",
    "        [(1,b)]; (* adj(C) *)\n",
    "        [ ]; (* adj(D) *)\n",
    "    |]\n",
    "};;"
   ]
  },
  {
   "cell_type": "code",
   "execution_count": 18,
   "metadata": {},
   "outputs": [
    {
     "data": {
      "text/plain": [
       "- : unit = ()\n"
      ]
     },
     "execution_count": 18,
     "metadata": {},
     "output_type": "execute_result"
    },
    {
     "data": {
      "text/plain": [
       "- : int = 0\n"
      ]
     },
     "execution_count": 18,
     "metadata": {},
     "output_type": "execute_result"
    }
   ],
   "source": [
    "let _ = dot \"g1\" g1 [ ];;\n",
    "dot2svg \"g1\";;"
   ]
  },
  {
   "cell_type": "code",
   "execution_count": 19,
   "metadata": {},
   "outputs": [
    {
     "name": "stdout",
     "output_type": "stream",
     "text": [
      "digraph G {\n",
      "  som0 [label=\"0\"];\n",
      "  som1 [label=\"1\"];\n",
      "  som2 [label=\"2\"];\n",
      "  som3 [label=\"3\"];\n",
      "  som4 [label=\"4\"];\n",
      "  som0 -> som1 [label=\"2\"];\n",
      "  som0 -> som2 [label=\"4\"];\n",
      "  som0 -> som3 [label=\"2\"];\n",
      "  som1 -> som4 [label=\"1\"];\n",
      "  som2 -> som4 [label=\"4\"];\n",
      "  som3 -> som2 [label=\"1\"];\n",
      "}\n"
     ]
    },
    {
     "data": {
      "text/plain": [
       "- : int = 0\n"
      ]
     },
     "execution_count": 19,
     "metadata": {},
     "output_type": "execute_result"
    }
   ],
   "source": [
    "Sys.command \"cat g1.dot\";;"
   ]
  },
  {
   "cell_type": "markdown",
   "metadata": {},
   "source": [
    "![](g1.svg)"
   ]
  },
  {
   "cell_type": "markdown",
   "metadata": {},
   "source": [
    "Le second argument permet d'afficher un certain chemin :"
   ]
  },
  {
   "cell_type": "code",
   "execution_count": 20,
   "metadata": {},
   "outputs": [
    {
     "data": {
      "text/plain": [
       "- : unit = ()\n"
      ]
     },
     "execution_count": 20,
     "metadata": {},
     "output_type": "execute_result"
    }
   ],
   "source": [
    "let _ = dot \"g2\" g1 [(0,3);(3,2);(2,4)];;"
   ]
  },
  {
   "cell_type": "code",
   "execution_count": 21,
   "metadata": {},
   "outputs": [
    {
     "name": "stdout",
     "output_type": "stream",
     "text": [
      "digraph G {\n",
      "  som0 [label=\"0\"];\n",
      "  som1 [label=\"1\"];\n",
      "  som2 [label=\"2\"];\n",
      "  som3 [label=\"3\"];\n",
      "  som4 [label=\"4\"];\n",
      "  som0 -> som1 [label=\"2\"];\n",
      "  som0 -> som2 [label=\"4\"];\n",
      "  som0 -> som3 [label=\"2\",style=bold];\n",
      "  som1 -> som4 [label=\"1\"];\n",
      "  som2 -> som4 [label=\"4\",style=bold];\n",
      "  som3 -> som2 [label=\"1\",style=bold];\n",
      "}\n"
     ]
    },
    {
     "data": {
      "text/plain": [
       "- : int = 0\n"
      ]
     },
     "execution_count": 21,
     "metadata": {},
     "output_type": "execute_result"
    },
    {
     "data": {
      "text/plain": [
       "- : int = 0\n"
      ]
     },
     "execution_count": 21,
     "metadata": {},
     "output_type": "execute_result"
    }
   ],
   "source": [
    "Sys.command \"cat g2.dot\";;\n",
    "dot2svg \"g2\";;"
   ]
  },
  {
   "cell_type": "markdown",
   "metadata": {},
   "source": [
    "![](g2.svg)"
   ]
  },
  {
   "cell_type": "markdown",
   "metadata": {},
   "source": [
    "### Dijkstra"
   ]
  },
  {
   "cell_type": "code",
   "execution_count": 22,
   "metadata": {
    "scrolled": true
   },
   "outputs": [
    {
     "data": {
      "text/plain": [
       "val dijkstra : graph -> int array = <fun>\n"
      ]
     },
     "execution_count": 22,
     "metadata": {},
     "output_type": "execute_result"
    }
   ],
   "source": [
    "let dijkstra g =\n",
    "    let q = ref vide in\n",
    "    let dist = Array.init g.taille (fun i ->\n",
    "        if i=g.entree then 0 else max_int\n",
    "    ) in\n",
    "    for i=0 to g.taille - 1 do (* initialisation de la file *)\n",
    "        q := inserer i dist.(i) !q\n",
    "    done;\n",
    "    while not (est_vide !q) do\n",
    "        let (x, q') = extraire_min !q in\n",
    "        q := q';  (* ne pas oublier de mettre à jour la file *)\n",
    "        (* on regarde les adjacents de x *)\n",
    "        List.iter (fun (c,y) ->\n",
    "            if dist.(y) > dist.(x) + c\n",
    "            then begin\n",
    "                dist.(y) <- dist.(x) + c;\n",
    "                q := diminuer_clef y dist.(y) !q\n",
    "            end\n",
    "        ) g.adj.(x)\n",
    "    done;\n",
    "    dist\n",
    ";;"
   ]
  },
  {
   "cell_type": "code",
   "execution_count": 23,
   "metadata": {},
   "outputs": [
    {
     "data": {
      "text/plain": [
       "- : int array = [|0; 2; 3; 2; 3|]\n"
      ]
     },
     "execution_count": 23,
     "metadata": {},
     "output_type": "execute_result"
    }
   ],
   "source": [
    "let _ = dijkstra g1"
   ]
  },
  {
   "cell_type": "markdown",
   "metadata": {},
   "source": [
    "----\n",
    "## Algorithme de Dijkstra - avec des files mutables\n",
    "\n",
    "Déjà vu, on le retraite ici."
   ]
  },
  {
   "cell_type": "markdown",
   "metadata": {},
   "source": [
    "### Files de priorité min mutables"
   ]
  },
  {
   "cell_type": "code",
   "execution_count": 24,
   "metadata": {},
   "outputs": [
    {
     "data": {
      "text/plain": [
       "type 'a priopqueue = (int * 'a) list ref\n"
      ]
     },
     "execution_count": 24,
     "metadata": {},
     "output_type": "execute_result"
    }
   ],
   "source": [
    "(* file de priorité version non-mutable *)\n",
    "type 'a priopqueue = (int * 'a) list ref;;"
   ]
  },
  {
   "cell_type": "code",
   "execution_count": 25,
   "metadata": {},
   "outputs": [
    {
     "data": {
      "text/plain": [
       "val vide : unit -> 'a priopqueue = <fun>\n"
      ]
     },
     "execution_count": 25,
     "metadata": {},
     "output_type": "execute_result"
    }
   ],
   "source": [
    "(* file vide *)\n",
    "let vide () : 'a priopqueue = ref [ ];;"
   ]
  },
  {
   "cell_type": "code",
   "execution_count": 26,
   "metadata": {},
   "outputs": [
    {
     "name": "stderr",
     "output_type": "stream",
     "text": [
      "File \"[26]\", line 4, characters 8-15:\n",
      "Warning 39: unused rec flag.\n"
     ]
    },
    {
     "data": {
      "text/plain": [
       "val inserer : 'a -> int -> 'a priopqueue -> unit = <fun>\n"
      ]
     },
     "execution_count": 26,
     "metadata": {},
     "output_type": "execute_result"
    }
   ],
   "source": [
    "(* [inserer x clef q] insere l'element [x] dans la file [q]\n",
    "   avec le clef [x].\n",
    "   Termine avec une exception si la file contient déjà [x]  *)\n",
    "let rec inserer (x:'a) (clef:int) (q:'a priopqueue) : unit =\n",
    "    if List.exists (fun (_, v) -> x=v) !q\n",
    "    then failwith \"l'element est déjà dans la file\"\n",
    "    else q := (clef,x) :: !q\n",
    ";;"
   ]
  },
  {
   "cell_type": "code",
   "execution_count": 27,
   "metadata": {},
   "outputs": [
    {
     "data": {
      "text/plain": [
       "val est_vide : 'a priopqueue -> bool = <fun>\n"
      ]
     },
     "execution_count": 27,
     "metadata": {},
     "output_type": "execute_result"
    }
   ],
   "source": [
    "(* [est_vide q] teste si la file [q] est vide *)\n",
    "let est_vide (q:'a priopqueue) : bool = (!q = [ ]);;"
   ]
  },
  {
   "cell_type": "code",
   "execution_count": 28,
   "metadata": {},
   "outputs": [
    {
     "ename": "error",
     "evalue": "compile_error",
     "output_type": "error",
     "traceback": [
      "\u001b[32mFile \"[28]\", line 6, characters 23-27:\n\u001b[31mError: Unbound value clef\n\u001b[36m   5: \u001b[30m    | [ ] -> (min_clef,min_val)\n\u001b[36m   6: \u001b[30m    | (_, v) :: q when \u001b[4mclef\u001b[0m\u001b[30m > min_clef -> trouve_min_aux min_val min_clef q\n\u001b[36m   7: \u001b[30m    | (clef, v) :: q -> trouve_min_aux v clef q\u001b[0m\n"
     ]
    }
   ],
   "source": [
    "(* [trouve_min_aux min_val min_clef q] renvoie un couple de clef minimale\n",
    "     dans (min_val,min_clef)::q *)\n",
    "let rec trouve_min_aux (min_val:'a) (min_clef:int) (q:(int*'a) list) : int * 'a =\n",
    "    match q with\n",
    "    | [ ] -> (min_clef,min_val)\n",
    "    | (_, v) :: q when clef > min_clef -> trouve_min_aux min_val min_clef q\n",
    "    | (clef, v) :: q -> trouve_min_aux v clef q\n",
    ";;"
   ]
  },
  {
   "cell_type": "code",
   "execution_count": 29,
   "metadata": {},
   "outputs": [
    {
     "name": "stderr",
     "output_type": "stream",
     "text": [
      "File \"[29]\", line 3, characters 8-18:\n",
      "Warning 39: unused rec flag.\n"
     ]
    },
    {
     "data": {
      "text/plain": [
       "val trouve_min : (int * 'a) list -> 'a = <fun>\n"
      ]
     },
     "execution_count": 29,
     "metadata": {},
     "output_type": "execute_result"
    }
   ],
   "source": [
    "(* [trouve_min q] renvoie un élément de clef minimale la file [q].\n",
    "   Lance une exception si la liste est vide *)\n",
    "let trouve_min (q:(int*'a) list) : 'a =\n",
    "    match q with\n",
    "    | [ ] -> failwith \"trouve_min: la file est vide\"\n",
    "    | (clef, v) :: q -> snd (trouve_min_aux v clef q)\n",
    ";;"
   ]
  },
  {
   "cell_type": "code",
   "execution_count": 30,
   "metadata": {},
   "outputs": [
    {
     "data": {
      "text/plain": [
       "val supprime : 'a -> (int * 'a) list -> (int * 'a) list = <fun>\n"
      ]
     },
     "execution_count": 30,
     "metadata": {},
     "output_type": "execute_result"
    }
   ],
   "source": [
    "(* [supprime v q] renvoie une file contenant les éléments de [q], sauf [x].\n",
    "   [x] doit apparaitre une et une seule fois dans la file. *)\n",
    "let rec supprime (x:'a) (q:(int*'a) list) : (int*'a) list =\n",
    "    match q with\n",
    "    | [ ] -> [ ]\n",
    "    | (_, v) :: q when v=x -> q\n",
    "    | (clef, v) :: q -> (clef,v) :: (supprime x q)\n",
    ";;"
   ]
  },
  {
   "cell_type": "code",
   "execution_count": 31,
   "metadata": {},
   "outputs": [
    {
     "data": {
      "text/plain": [
       "val extraire_min : 'a priopqueue -> 'a = <fun>\n"
      ]
     },
     "execution_count": 31,
     "metadata": {},
     "output_type": "execute_result"
    }
   ],
   "source": [
    "(* [extraire_min q] renvoie un élément de q, de clef minimal,\n",
    "   et met à jour la file; termine avec une exception si la file est vide  *)\n",
    "let extraire_min (q:'a priopqueue) : 'a =\n",
    "    if !q = [ ] then failwith \"extraire_min: file vide\"\n",
    "    else\n",
    "        let min = trouve_min !q in\n",
    "        q :=  supprime min !q;\n",
    "        min\n",
    ";;"
   ]
  },
  {
   "cell_type": "code",
   "execution_count": 39,
   "metadata": {},
   "outputs": [
    {
     "data": {
      "text/plain": [
       "val diminuer_clef : 'a -> int -> 'a priopqueue -> unit = <fun>\n"
      ]
     },
     "execution_count": 39,
     "metadata": {},
     "output_type": "execute_result"
    }
   ],
   "source": [
    "(* [diminuer_clef q clef x] modifie la clef de l'élément [x]\n",
    "   dans la file q en lui associant la nouvelle clef [clef], qui\n",
    "   doit être inferieur à la clef actuelle de [x].\n",
    "   Termine avec une exception si la file ne contient pas [x]  *)\n",
    "let diminuer_clef (x:'a) (clef:int) (q:'a priopqueue) : unit =\n",
    "    let rec diminuer_aux (l:(int*'a) list) : (int*'a) list =\n",
    "        match l with\n",
    "        | [ ] -> failwith \"diminuer_clef : l'élément n'est pas présent\"\n",
    "        | (_, v) :: q when v=x -> (clef, x) :: q\n",
    "        | (c, v) :: q -> (c, v) :: diminuer_aux q in\n",
    "    q := diminuer_aux !q\n",
    ";;"
   ]
  },
  {
   "cell_type": "markdown",
   "metadata": {},
   "source": [
    "### Dijkstra, 2ème version"
   ]
  },
  {
   "cell_type": "code",
   "execution_count": 33,
   "metadata": {},
   "outputs": [
    {
     "data": {
      "text/plain": [
       "val dijkstra : graph -> int array * int array = <fun>\n"
      ]
     },
     "execution_count": 33,
     "metadata": {},
     "output_type": "execute_result"
    }
   ],
   "source": [
    "let dijkstra g =\n",
    "    let q = vide () in\n",
    "    let dist = Array.init g.taille (fun i ->\n",
    "        if i=g.entree then 0 else max_int\n",
    "    ) in\n",
    "    let pere = Array.init g.taille (fun i -> i) in\n",
    "    for i=0 to g.taille - 1 do (* initialisation de la file *)\n",
    "        inserer i dist.(i) q;\n",
    "    done;\n",
    "    while not (est_vide q) do\n",
    "        let x = extraire_min q in\n",
    "        (* on regarde les adjacents de x *)\n",
    "        List.iter (fun (c,y) ->\n",
    "            if dist.(y) > dist.(x) + c\n",
    "            then begin\n",
    "                pere.(y) <- x;\n",
    "                dist.(y) <- dist.(x) + c;\n",
    "                diminuer_clef y dist.(y) q\n",
    "        end) g.adj.(x)\n",
    "    done;\n",
    "    dist, pere\n",
    ";;"
   ]
  },
  {
   "cell_type": "markdown",
   "metadata": {},
   "source": [
    "### Exemple"
   ]
  },
  {
   "cell_type": "code",
   "execution_count": 34,
   "metadata": {},
   "outputs": [
    {
     "data": {
      "text/plain": [
       "- : int array * int array = ([|0; 2; 3; 2; 3|], [|0; 0; 3; 0; 1|])\n"
      ]
     },
     "execution_count": 34,
     "metadata": {},
     "output_type": "execute_result"
    }
   ],
   "source": [
    "let _ = dijkstra g1"
   ]
  },
  {
   "cell_type": "markdown",
   "metadata": {},
   "source": [
    "----\n",
    "## Arbres couvrants de poids minimal\n",
    "\n",
    "On ne traite que l'algorithme de Prim. L'algorithme de Kruskal n'est pas plus compliqué, il utilise une autre structure de données (Union-Find, déjà traité aussi)."
   ]
  },
  {
   "cell_type": "markdown",
   "metadata": {},
   "source": [
    "### Algorithme de Prim"
   ]
  },
  {
   "cell_type": "code",
   "execution_count": 40,
   "metadata": {},
   "outputs": [
    {
     "data": {
      "text/plain": [
       "val prim : graph -> int array * int array = <fun>\n"
      ]
     },
     "execution_count": 40,
     "metadata": {},
     "output_type": "execute_result"
    }
   ],
   "source": [
    "let prim g =\n",
    "    let q = vide () in\n",
    "    let poid = Array.init g.taille (fun i ->\n",
    "        if i=g.entree then 0 else max_int\n",
    "    ) in\n",
    "    let pere = Array.init g.taille (fun i -> i) in\n",
    "    for i=0 to g.taille-1 do (* initialisation de la file *)\n",
    "        inserer i poid.(i) q;\n",
    "    done;\n",
    "    while not (est_vide q) do\n",
    "        let x = extraire_min q in\n",
    "        (* on regarde les adjacents de x *)\n",
    "        List.iter (fun (c,y) ->\n",
    "            if poid.(y) > c\n",
    "            then begin\n",
    "                pere.(y) <- x;\n",
    "                poid.(y) <- c;\n",
    "                diminuer_clef y poid.(y) q\n",
    "        end)\n",
    "        g.adj.(x)\n",
    "    done;\n",
    "    Array.iteri (fun i p ->\n",
    "        if i != p then Printf.printf \" (%d, %d)\\n\" i p\n",
    "    ) pere;\n",
    "    poid, pere;\n",
    ";;"
   ]
  },
  {
   "cell_type": "markdown",
   "metadata": {},
   "source": [
    "### Exemple"
   ]
  },
  {
   "cell_type": "code",
   "execution_count": 41,
   "metadata": {},
   "outputs": [
    {
     "data": {
      "text/plain": [
       "- : int array * int array = ([|0; 2; 1; 2; 1|], [|0; 0; 3; 0; 1|])\n"
      ]
     },
     "execution_count": 41,
     "metadata": {},
     "output_type": "execute_result"
    }
   ],
   "source": [
    "let _ = prim g1"
   ]
  },
  {
   "cell_type": "markdown",
   "metadata": {},
   "source": [
    "----\n",
    "## Codage de Huffman\n",
    "\n",
    "C'est un grand classique pour les leçons \"Programmation dynamique\" et \"Algorithmique du texte\".\n",
    "Le présenter en développement sans l'avoir implémenter est difficilement pardonnable."
   ]
  },
  {
   "cell_type": "code",
   "execution_count": 37,
   "metadata": {},
   "outputs": [
    {
     "data": {
      "text/plain": [
       "- : unit = ()\n"
      ]
     },
     "execution_count": 37,
     "metadata": {},
     "output_type": "execute_result"
    }
   ],
   "source": [
    "Printf.printf \"\\nTODO\\n\";;"
   ]
  },
  {
   "cell_type": "markdown",
   "metadata": {},
   "source": [
    "----\n",
    "## Coloration de graphes\n",
    "\n",
    "On a déjà travaillé sur ça en novembre. Voyons une approche gloutonne."
   ]
  },
  {
   "cell_type": "code",
   "execution_count": 38,
   "metadata": {},
   "outputs": [
    {
     "data": {
      "text/plain": [
       "- : unit = ()\n"
      ]
     },
     "execution_count": 38,
     "metadata": {},
     "output_type": "execute_result"
    }
   ],
   "source": [
    "Printf.printf \"\\nTODO\\n\";;"
   ]
  },
  {
   "cell_type": "markdown",
   "metadata": {},
   "source": [
    "----\n",
    "## Conclusion\n",
    "\n",
    "Fin. À la séance prochaine. Le dernier TP8 traitera de programmation logique (en mai)."
   ]
  }
 ],
 "metadata": {
  "kernelspec": {
   "display_name": "OCaml 4.04.2",
   "language": "OCaml",
   "name": "ocaml-jupyter"
  },
  "language_info": {
   "codemirror_mode": "text/x-ocaml",
   "file_extension": ".ml",
   "mimetype": "text/x-ocaml",
   "name": "OCaml",
   "nbconverter_exporter": null,
   "pygments_lexer": "OCaml",
   "version": "4.04.2"
  },
  "toc": {
   "colors": {
    "hover_highlight": "#DAA520",
    "running_highlight": "#FF0000",
    "selected_highlight": "#FFD700"
   },
   "moveMenuLeft": true,
   "nav_menu": {
    "height": "511px",
    "width": "251px"
   },
   "navigate_menu": true,
   "number_sections": true,
   "sideBar": true,
   "threshold": 4,
   "toc_cell": true,
   "toc_position": {
    "height": "578px",
    "left": "0px",
    "right": "1228px",
    "top": "149px",
    "width": "212px"
   },
   "toc_section_display": "block",
   "toc_window_display": true
  },
  "varInspector": {
   "cols": {
    "lenName": 16,
    "lenType": 16,
    "lenVar": 40
   },
   "kernels_config": {
    "python": {
     "delete_cmd_postfix": "",
     "delete_cmd_prefix": "del ",
     "library": "var_list.py",
     "varRefreshCmd": "print(var_dic_list())"
    },
    "r": {
     "delete_cmd_postfix": ") ",
     "delete_cmd_prefix": "rm(",
     "library": "var_list.r",
     "varRefreshCmd": "cat(var_dic_list()) "
    }
   },
   "types_to_exclude": [
    "module",
    "function",
    "builtin_function_or_method",
    "instance",
    "_Feature"
   ],
   "window_display": false
  }
 },
 "nbformat": 4,
 "nbformat_minor": 2
}
