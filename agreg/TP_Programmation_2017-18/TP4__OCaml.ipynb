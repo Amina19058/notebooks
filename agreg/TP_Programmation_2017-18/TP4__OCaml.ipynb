{
 "cells": [
  {
   "cell_type": "code",
   "execution_count": null,
   "metadata": {
    "toc": "true"
   },
   "outputs": [],
   "source": [
    "# Table of Contents\n",
    " <p><div class=\"lev1 toc-item\"><a href=\"#TP-4---Programmation-pour-la-préparation-à-l'agrégation-maths-option-info\" data-toc-modified-id=\"TP-4---Programmation-pour-la-préparation-à-l'agrégation-maths-option-info-1\"><span class=\"toc-item-num\">1&nbsp;&nbsp;</span>TP 4 - Programmation pour la préparation à l'agrégation maths option info</a></div><div class=\"lev1 toc-item\"><a href=\"#Remise-en-forme-:-listes-associatives\" data-toc-modified-id=\"Remise-en-forme-:-listes-associatives-2\"><span class=\"toc-item-num\">2&nbsp;&nbsp;</span>Remise en forme : listes associatives</a></div><div class=\"lev2 toc-item\"><a href=\"#Exercice-1-:-appartient\" data-toc-modified-id=\"Exercice-1-:-appartient-21\"><span class=\"toc-item-num\">2.1&nbsp;&nbsp;</span>Exercice 1 : <code>appartient</code></a></div><div class=\"lev2 toc-item\"><a href=\"#Exercice-2-:-insere\" data-toc-modified-id=\"Exercice-2-:-insere-22\"><span class=\"toc-item-num\">2.2&nbsp;&nbsp;</span>Exercice 2 : <code>insere</code></a></div><div class=\"lev2 toc-item\"><a href=\"#Exercice-3-:-existe\" data-toc-modified-id=\"Exercice-3-:-existe-23\"><span class=\"toc-item-num\">2.3&nbsp;&nbsp;</span>Exercice 3 : <code>existe</code></a></div><div class=\"lev2 toc-item\"><a href=\"#Exercice-4-:-trouve\" data-toc-modified-id=\"Exercice-4-:-trouve-24\"><span class=\"toc-item-num\">2.4&nbsp;&nbsp;</span>Exercice 4 : <code>trouve</code></a></div><div class=\"lev2 toc-item\"><a href=\"#Exercice-5-:-supprime\" data-toc-modified-id=\"Exercice-5-:-supprime-25\"><span class=\"toc-item-num\">2.5&nbsp;&nbsp;</span>Exercice 5 : <code>supprime</code></a></div><div class=\"lev2 toc-item\"><a href=\"#Question-bonus-:-avec-des-tables-d'associations\" data-toc-modified-id=\"Question-bonus-:-avec-des-tables-d'associations-26\"><span class=\"toc-item-num\">2.6&nbsp;&nbsp;</span>Question bonus : avec des tables d'associations</a></div><div class=\"lev1 toc-item\"><a href=\"#Automates-finis-déterministes\" data-toc-modified-id=\"Automates-finis-déterministes-3\"><span class=\"toc-item-num\">3&nbsp;&nbsp;</span>Automates finis déterministes</a></div><div class=\"lev2 toc-item\"><a href=\"#Types-de-données\" data-toc-modified-id=\"Types-de-données-31\"><span class=\"toc-item-num\">3.1&nbsp;&nbsp;</span>Types de données</a></div><div class=\"lev2 toc-item\"><a href=\"#Affichage\" data-toc-modified-id=\"Affichage-32\"><span class=\"toc-item-num\">3.2&nbsp;&nbsp;</span>Affichage</a></div><div class=\"lev2 toc-item\"><a href=\"#Reconnaissance-d'un-mot\" data-toc-modified-id=\"Reconnaissance-d'un-mot-33\"><span class=\"toc-item-num\">3.3&nbsp;&nbsp;</span>Reconnaissance d'un mot</a></div><div class=\"lev2 toc-item\"><a href=\"#Deux-exemples-d'automates\" data-toc-modified-id=\"Deux-exemples-d'automates-34\"><span class=\"toc-item-num\">3.4&nbsp;&nbsp;</span>Deux exemples d'automates</a></div><div class=\"lev2 toc-item\"><a href=\"#Exemple-de-lectures\" data-toc-modified-id=\"Exemple-de-lectures-35\"><span class=\"toc-item-num\">3.5&nbsp;&nbsp;</span>Exemple de lectures</a></div><div class=\"lev2 toc-item\"><a href=\"#Complétion\" data-toc-modified-id=\"Complétion-36\"><span class=\"toc-item-num\">3.6&nbsp;&nbsp;</span>Complétion</a></div><div class=\"lev2 toc-item\"><a href=\"#Complémentaire-(plus-dur)\" data-toc-modified-id=\"Complémentaire-(plus-dur)-37\"><span class=\"toc-item-num\">3.7&nbsp;&nbsp;</span>Complémentaire (plus dur)</a></div><div class=\"lev1 toc-item\"><a href=\"#Expressions-régulières\" data-toc-modified-id=\"Expressions-régulières-4\"><span class=\"toc-item-num\">4&nbsp;&nbsp;</span>Expressions régulières</a></div><div class=\"lev2 toc-item\"><a href=\"#Exercuce-10-:-regexp\" data-toc-modified-id=\"Exercuce-10-:-regexp-41\"><span class=\"toc-item-num\">4.1&nbsp;&nbsp;</span>Exercuce 10 : <code>regexp</code></a></div><div class=\"lev2 toc-item\"><a href=\"#Exercice-11-:-deux-regexp-pour-les-deux-automates-$A_1$,-$A_2$\" data-toc-modified-id=\"Exercice-11-:-deux-regexp-pour-les-deux-automates-$A_1$,-$A_2$-42\"><span class=\"toc-item-num\">4.2&nbsp;&nbsp;</span>Exercice 11 : deux regexp pour les deux automates <span class=\"MathJax_Preview\" style=\"color: inherit;\"></span><span class=\"MathJax MathJax_Processing\" id=\"MathJax-Element-5-Frame\" tabindex=\"0\"></span><script type=\"math/tex\" id=\"MathJax-Element-5\">A_1</script>, <span class=\"MathJax_Preview\" style=\"color: inherit;\"></span><span class=\"MathJax MathJax_Processing\" id=\"MathJax-Element-6-Frame\" tabindex=\"0\"></span><script type=\"math/tex\" id=\"MathJax-Element-6\">A_2</script></a></div><div class=\"lev2 toc-item\"><a href=\"#Exercice-12-:-to_string\" data-toc-modified-id=\"Exercice-12-:-to_string-43\"><span class=\"toc-item-num\">4.3&nbsp;&nbsp;</span>Exercice 12 : <code>to_string</code></a></div><div class=\"lev2 toc-item\"><a href=\"#Exercice-13-:-est_vide\" data-toc-modified-id=\"Exercice-13-:-est_vide-44\"><span class=\"toc-item-num\">4.4&nbsp;&nbsp;</span>Exercice 13 : <code>est_vide</code></a></div><div class=\"lev2 toc-item\"><a href=\"#Exercice-14-:-est_fini\" data-toc-modified-id=\"Exercice-14-:-est_fini-45\"><span class=\"toc-item-num\">4.5&nbsp;&nbsp;</span>Exercice 14 : <code>est_fini</code></a></div><div class=\"lev2 toc-item\"><a href=\"#Exercice-15-:-pile_ou_face\" data-toc-modified-id=\"Exercice-15-:-pile_ou_face-46\"><span class=\"toc-item-num\">4.6&nbsp;&nbsp;</span>Exercice 15 : <code>pile_ou_face</code></a></div><div class=\"lev2 toc-item\"><a href=\"#Exercice-16-:-mot_aleatoire\" data-toc-modified-id=\"Exercice-16-:-mot_aleatoire-47\"><span class=\"toc-item-num\">4.7&nbsp;&nbsp;</span>Exercice 16 : <code>mot_aleatoire</code></a></div><div class=\"lev1 toc-item\"><a href=\"#Calcul-de-$\\Sigma^k-\\cap-L(A)$\" data-toc-modified-id=\"Calcul-de-$\\Sigma^k-\\cap-L(A)$-5\"><span class=\"toc-item-num\">5&nbsp;&nbsp;</span>Calcul de <span class=\"MathJax_Preview\" style=\"color: inherit;\"></span><span class=\"MathJax MathJax_Processing\" id=\"MathJax-Element-12-Frame\" tabindex=\"0\"></span><script type=\"math/tex\" id=\"MathJax-Element-12\">\\Sigma^k \\cap L(A)</script></a></div><div class=\"lev2 toc-item\"><a href=\"#Exercice-17-:-produit_cartesien\" data-toc-modified-id=\"Exercice-17-:-produit_cartesien-51\"><span class=\"toc-item-num\">5.1&nbsp;&nbsp;</span>Exercice 17 : <code>produit_cartesien</code></a></div><div class=\"lev2 toc-item\"><a href=\"#Liste-de-tous-les-mots-de-$\\Sigma^k$\" data-toc-modified-id=\"Liste-de-tous-les-mots-de-$\\Sigma^k$-52\"><span class=\"toc-item-num\">5.2&nbsp;&nbsp;</span>Liste de tous les mots de <span class=\"MathJax_Preview\" style=\"color: inherit;\"></span><span class=\"MathJax MathJax_Processing\" id=\"MathJax-Element-13-Frame\" tabindex=\"0\"></span><script type=\"math/tex\" id=\"MathJax-Element-13\">\\Sigma^k</script></a></div><div class=\"lev2 toc-item\"><a href=\"#Exercice-19-:-filtre\" data-toc-modified-id=\"Exercice-19-:-filtre-53\"><span class=\"toc-item-num\">5.3&nbsp;&nbsp;</span>Exercice 19 : <code>filtre</code></a></div><div class=\"lev2 toc-item\"><a href=\"#Exercice-20\" data-toc-modified-id=\"Exercice-20-54\"><span class=\"toc-item-num\">5.4&nbsp;&nbsp;</span>Exercice 20</a></div><div class=\"lev1 toc-item\"><a href=\"#Automate-produit\" data-toc-modified-id=\"Automate-produit-6\"><span class=\"toc-item-num\">6&nbsp;&nbsp;</span>Automate produit</a></div><div class=\"lev2 toc-item\"><a href=\"#Exercice-21-:-bijection\" data-toc-modified-id=\"Exercice-21-:-bijection-61\"><span class=\"toc-item-num\">6.1&nbsp;&nbsp;</span>Exercice 21 : <code>bijection</code></a></div><div class=\"lev2 toc-item\"><a href=\"#Exercice-22\" data-toc-modified-id=\"Exercice-22-62\"><span class=\"toc-item-num\">6.2&nbsp;&nbsp;</span>Exercice 22</a></div><div class=\"lev1 toc-item\"><a href=\"#Conclusion\" data-toc-modified-id=\"Conclusion-7\"><span class=\"toc-item-num\">7&nbsp;&nbsp;</span>Conclusion</a></div>"
   ]
  },
  {
   "cell_type": "markdown",
   "metadata": {},
   "source": [
    "# TP 4 - Programmation pour la préparation à l'agrégation maths option info\n",
    "TP 4 : Automates et langages réguliers."
   ]
  },
  {
   "cell_type": "markdown",
   "metadata": {},
   "source": [
    "- En OCaml."
   ]
  },
  {
   "cell_type": "code",
   "execution_count": 1,
   "metadata": {},
   "outputs": [
    {
     "data": {
      "text/plain": [
       "val print : ('a, out_channel, unit) format -> 'a = <fun>\n"
      ]
     },
     "execution_count": 1,
     "metadata": {},
     "output_type": "execute_result"
    },
    {
     "name": "stdout",
     "output_type": "stream",
     "text": [
      "The OCaml toplevel, version 4.04.2\n"
     ]
    },
    {
     "data": {
      "text/plain": [
       "- : int = 0\n"
      ]
     },
     "execution_count": 1,
     "metadata": {},
     "output_type": "execute_result"
    }
   ],
   "source": [
    "let print = Printf.printf;;\n",
    "Sys.command \"ocaml -version\";;"
   ]
  },
  {
   "cell_type": "markdown",
   "metadata": {},
   "source": [
    "----\n",
    "# Remise en forme : listes associatives\n",
    "\n",
    "Certaines de ces fonctions sont dans la bibliothèque standard dans le module `List`, avec des fonctions contenant `assoc` dans leur nom :"
   ]
  },
  {
   "cell_type": "code",
   "execution_count": 11,
   "metadata": {},
   "outputs": [
    {
     "data": {
      "text/plain": [
       "- : 'a -> 'a list -> bool = <fun>\n"
      ]
     },
     "execution_count": 11,
     "metadata": {},
     "output_type": "execute_result"
    }
   ],
   "source": [
    "List.mem;;  (* appartient *)"
   ]
  },
  {
   "cell_type": "code",
   "execution_count": 7,
   "metadata": {},
   "outputs": [
    {
     "data": {
      "text/plain": [
       "- : 'a -> ('a * 'b) list -> 'b = <fun>\n"
      ]
     },
     "execution_count": 7,
     "metadata": {},
     "output_type": "execute_result"
    }
   ],
   "source": [
    "List.assoc;;  (* trouve *)"
   ]
  },
  {
   "cell_type": "code",
   "execution_count": 6,
   "metadata": {},
   "outputs": [
    {
     "data": {
      "text/plain": [
       "- : 'a -> ('a * 'b) list -> bool = <fun>\n"
      ]
     },
     "execution_count": 6,
     "metadata": {},
     "output_type": "execute_result"
    }
   ],
   "source": [
    "List.mem_assoc;;  (* existe *)"
   ]
  },
  {
   "cell_type": "code",
   "execution_count": 70,
   "metadata": {},
   "outputs": [
    {
     "data": {
      "text/plain": [
       "- : 'a -> ('a * 'b) list -> ('a * 'b) list = <fun>\n"
      ]
     },
     "execution_count": 70,
     "metadata": {},
     "output_type": "execute_result"
    }
   ],
   "source": [
    "List.remove_assoc;;  (* supprime *)"
   ]
  },
  {
   "cell_type": "markdown",
   "metadata": {},
   "source": [
    "## Exercice 1 : `appartient`\n",
    "\n",
    "On propose plusieurs implémentations, toutes similaires mais de complexités différentes.\n",
    "Je vous laisse trouver les différences de comportement (lesquelles sont tout le temps linéaire, au mieux $\\mathcal{O}(1)$ etc)."
   ]
  },
  {
   "cell_type": "code",
   "execution_count": 8,
   "metadata": {},
   "outputs": [
    {
     "data": {
      "text/plain": [
       "val appartient : 'a -> 'a list -> bool = <fun>\n"
      ]
     },
     "execution_count": 8,
     "metadata": {},
     "output_type": "execute_result"
    }
   ],
   "source": [
    "let rec appartient (x:'a) (l:'a list) : bool =\n",
    "      match l with\n",
    "      | [] -> false\n",
    "      | y :: _ when x = y -> true\n",
    "      | _ :: q -> appartient x q\n",
    ";;"
   ]
  },
  {
   "cell_type": "code",
   "execution_count": 9,
   "metadata": {},
   "outputs": [
    {
     "data": {
      "text/plain": [
       "val appartient : 'a -> 'a list -> bool = <fun>\n"
      ]
     },
     "execution_count": 9,
     "metadata": {},
     "output_type": "execute_result"
    }
   ],
   "source": [
    "let rec appartient (x:'a) (l:'a list) : bool =\n",
    "      match l with\n",
    "      | [] -> false\n",
    "      | y :: q -> (x = y) || appartient x q\n",
    ";;"
   ]
  },
  {
   "cell_type": "code",
   "execution_count": 10,
   "metadata": {},
   "outputs": [
    {
     "data": {
      "text/plain": [
       "val appartient : 'a -> 'a list -> bool = <fun>\n"
      ]
     },
     "execution_count": 10,
     "metadata": {},
     "output_type": "execute_result"
    }
   ],
   "source": [
    "let rec appartient (x:'a) (l:'a list) : bool =\n",
    "    match l with\n",
    "    | [] -> false\n",
    "    | y :: q -> appartient x q || x = y\n",
    ";;"
   ]
  },
  {
   "cell_type": "code",
   "execution_count": 12,
   "metadata": {},
   "outputs": [
    {
     "data": {
      "text/plain": [
       "val appartient : 'a -> 'a list -> bool = <fun>\n"
      ]
     },
     "execution_count": 12,
     "metadata": {},
     "output_type": "execute_result"
    }
   ],
   "source": [
    "let appartient = List.mem;;"
   ]
  },
  {
   "cell_type": "code",
   "execution_count": 14,
   "metadata": {},
   "outputs": [
    {
     "data": {
      "text/plain": [
       "- : unit = ()\n"
      ]
     },
     "execution_count": 14,
     "metadata": {},
     "output_type": "execute_result"
    },
    {
     "data": {
      "text/plain": [
       "- : unit = ()\n"
      ]
     },
     "execution_count": 14,
     "metadata": {},
     "output_type": "execute_result"
    }
   ],
   "source": [
    "assert (appartient 3 [1;2;3;4;5]) ;;\n",
    "assert (not (appartient 9 [1;2;3;4;5])) ;;"
   ]
  },
  {
   "cell_type": "markdown",
   "metadata": {},
   "source": [
    "## Exercice 2 : `insere`\n",
    "\n",
    "On a envie d'écrire rapidement cela :"
   ]
  },
  {
   "cell_type": "code",
   "execution_count": 15,
   "metadata": {},
   "outputs": [
    {
     "data": {
      "text/plain": [
       "val insere : 'a -> 'b -> ('a * 'b) list -> ('a * 'b) list = <fun>\n"
      ]
     },
     "execution_count": 15,
     "metadata": {},
     "output_type": "execute_result"
    }
   ],
   "source": [
    "let insere (k:'a) (v:'b) (l: ('a*'b) list) : ('a*'b) list =\n",
    "    (k,v) :: l\n",
    ";;"
   ]
  },
  {
   "cell_type": "markdown",
   "metadata": {},
   "source": [
    "Mais on peut réfléchir à la sémantique que l'on shouaite donner à cette fonction `insere` : si la clé `k` est déjà présente, doit-on échouer, ou ajouter une deuxième valeur associée à la même clé, ou écraser la valeur déjà associée à `k` ?\n",
    "Vous pouvez essayer d'implémenter chacun des variantes !"
   ]
  },
  {
   "cell_type": "markdown",
   "metadata": {},
   "source": [
    "On construit un exemple de petite liste associative :"
   ]
  },
  {
   "cell_type": "code",
   "execution_count": 20,
   "metadata": {},
   "outputs": [
    {
     "data": {
      "text/plain": [
       "val justiceleague : (string * string) list =\n",
       "  [(\"Superman\", \"Clark Kent\"); (\"Batman\", \"Bruce Wayne\")]\n"
      ]
     },
     "execution_count": 20,
     "metadata": {},
     "output_type": "execute_result"
    }
   ],
   "source": [
    "let justiceleague = insere \"Superman\" \"Clark Kent\" (insere \"Batman\" \"Bruce Wayne\" []);;"
   ]
  },
  {
   "cell_type": "code",
   "execution_count": 24,
   "metadata": {},
   "outputs": [
    {
     "data": {
      "text/plain": [
       "val communaute : (string * string) list =\n",
       "  [(\"Aragorn\", \"rodeur\"); (\"Gandalf\", \"magicien\"); (\"Gimli\", \"nain\");\n",
       "   (\"Legolas\", \"elfe\"); (\"Frodon\", \"hobbit\")]\n"
      ]
     },
     "execution_count": 24,
     "metadata": {},
     "output_type": "execute_result"
    }
   ],
   "source": [
    "let communaute =\n",
    "    insere \"Aragorn\" \"rodeur\" (\n",
    "        insere \"Gandalf\" \"magicien\" (\n",
    "            insere \"Gimli\" \"nain\" (\n",
    "                insere \"Legolas\" \"elfe\" (\n",
    "                    insere \"Frodon\" \"hobbit\"\n",
    "                    []\n",
    "                )\n",
    "            )\n",
    "        )\n",
    "    )\n",
    ";;"
   ]
  },
  {
   "cell_type": "markdown",
   "metadata": {},
   "source": [
    "> La syntaxe est lourde, en comparaison d'un dictionnaire simple comme en Python...\n",
    "> ```python\n",
    "> communaute = { \"Aragorn\": \"rodeur\", \"Gandalf\": \"magicien\", \"Gimli\": \"nain\", \"Legolas\": \"elfe\", \"Frodon\": \"hobbit\" }\n",
    "> ```"
   ]
  },
  {
   "cell_type": "markdown",
   "metadata": {},
   "source": [
    "## Exercice 3 : `existe`"
   ]
  },
  {
   "cell_type": "markdown",
   "metadata": {},
   "source": [
    "Première version, \"à la main\" :"
   ]
  },
  {
   "cell_type": "code",
   "execution_count": 52,
   "metadata": {},
   "outputs": [
    {
     "data": {
      "text/plain": [
       "val existe : 'a -> ('a * 'b) list -> bool = <fun>\n"
      ]
     },
     "execution_count": 52,
     "metadata": {},
     "output_type": "execute_result"
    }
   ],
   "source": [
    "let rec existe (cle : 'a) (l : ('a * 'b) list) : bool =\n",
    "    match l with\n",
    "    | [] -> false\n",
    "    | (k, _) :: _ when cle = k -> true\n",
    "    | _ :: q -> existe cle q\n",
    ";;"
   ]
  },
  {
   "cell_type": "code",
   "execution_count": 53,
   "metadata": {},
   "outputs": [
    {
     "data": {
      "text/plain": [
       "- : unit = ()\n"
      ]
     },
     "execution_count": 53,
     "metadata": {},
     "output_type": "execute_result"
    },
    {
     "data": {
      "text/plain": [
       "- : unit = ()\n"
      ]
     },
     "execution_count": 53,
     "metadata": {},
     "output_type": "execute_result"
    }
   ],
   "source": [
    "assert (existe \"Frodon\" communaute) ;;\n",
    "assert (not (existe \"Boromir\" communaute));;"
   ]
  },
  {
   "cell_type": "markdown",
   "metadata": {},
   "source": [
    "En utilisant la bibliothèque standard :"
   ]
  },
  {
   "cell_type": "code",
   "execution_count": 58,
   "metadata": {
    "scrolled": true
   },
   "outputs": [
    {
     "data": {
      "text/plain": [
       "val existe : 'a -> ('a * 'b) list -> bool = <fun>\n"
      ]
     },
     "execution_count": 58,
     "metadata": {},
     "output_type": "execute_result"
    }
   ],
   "source": [
    "let existe (cle : 'a) (l : ('a * 'b) list) : bool =\n",
    "    List.exists (fun (k, _) -> cle = k) l\n",
    ";;"
   ]
  },
  {
   "cell_type": "code",
   "execution_count": 59,
   "metadata": {},
   "outputs": [
    {
     "data": {
      "text/plain": [
       "- : unit = ()\n"
      ]
     },
     "execution_count": 59,
     "metadata": {},
     "output_type": "execute_result"
    },
    {
     "data": {
      "text/plain": [
       "- : unit = ()\n"
      ]
     },
     "execution_count": 59,
     "metadata": {},
     "output_type": "execute_result"
    }
   ],
   "source": [
    "assert (existe \"Frodon\" communaute) ;;\n",
    "assert (not (existe \"Boromir\" communaute));;"
   ]
  },
  {
   "cell_type": "code",
   "execution_count": 60,
   "metadata": {},
   "outputs": [
    {
     "data": {
      "text/plain": [
       "val existe : 'a -> ('a * 'b) list -> bool = <fun>\n"
      ]
     },
     "execution_count": 60,
     "metadata": {},
     "output_type": "execute_result"
    }
   ],
   "source": [
    "let existe = List.mem_assoc;;"
   ]
  },
  {
   "cell_type": "code",
   "execution_count": 61,
   "metadata": {},
   "outputs": [
    {
     "data": {
      "text/plain": [
       "- : unit = ()\n"
      ]
     },
     "execution_count": 61,
     "metadata": {},
     "output_type": "execute_result"
    },
    {
     "data": {
      "text/plain": [
       "- : unit = ()\n"
      ]
     },
     "execution_count": 61,
     "metadata": {},
     "output_type": "execute_result"
    }
   ],
   "source": [
    "assert (existe \"Frodon\" communaute) ;;\n",
    "assert (not (existe \"Boromir\" communaute));;"
   ]
  },
  {
   "cell_type": "markdown",
   "metadata": {},
   "source": [
    "## Exercice 4 : `trouve`\n",
    "On doit déclencher une erreur si la clé n'est pas trouvée. Pour être consistent, on déclenche la même que la fonction de la bibliothèque standard :"
   ]
  },
  {
   "cell_type": "code",
   "execution_count": 37,
   "metadata": {},
   "outputs": [
    {
     "ename": "error",
     "evalue": "error",
     "output_type": "error",
     "traceback": [
      "\u001b[31mException: Not_found.\nRaised at file \"list.ml\", line 158, characters 16-25\nCalled from file \"toplevel/toploop.ml\", line 180, characters 17-56\n\u001b[0m"
     ]
    }
   ],
   "source": [
    "List.assoc \"ok\" [];;"
   ]
  },
  {
   "cell_type": "code",
   "execution_count": 62,
   "metadata": {},
   "outputs": [
    {
     "data": {
      "text/plain": [
       "val trouve : 'a -> ('a * 'b) list -> 'b = <fun>\n"
      ]
     },
     "execution_count": 62,
     "metadata": {},
     "output_type": "execute_result"
    }
   ],
   "source": [
    "let rec trouve (cle : 'a) (l : ('a * 'b) list) : 'b =\n",
    "    match l with\n",
    "    | [] -> raise Not_found\n",
    "    | (k, v) :: _ when cle = k -> v\n",
    "    | _ :: q -> trouve cle q\n",
    ";;"
   ]
  },
  {
   "cell_type": "code",
   "execution_count": 67,
   "metadata": {},
   "outputs": [
    {
     "data": {
      "text/plain": [
       "- : unit = ()\n"
      ]
     },
     "execution_count": 67,
     "metadata": {},
     "output_type": "execute_result"
    },
    {
     "data": {
      "text/plain": [
       "- : unit = ()\n"
      ]
     },
     "execution_count": 67,
     "metadata": {},
     "output_type": "execute_result"
    }
   ],
   "source": [
    "assert ((trouve \"Gandalf\" communaute) = \"magicien\");;\n",
    "assert (try (trouve \"Boromir\" communaute) = \"guerrier\" with Not_found -> true);;"
   ]
  },
  {
   "cell_type": "markdown",
   "metadata": {},
   "source": [
    "Avec la bibliothèque standard :"
   ]
  },
  {
   "cell_type": "code",
   "execution_count": 65,
   "metadata": {},
   "outputs": [
    {
     "data": {
      "text/plain": [
       "val trouve : 'a -> ('a * 'b) list -> 'b = <fun>\n"
      ]
     },
     "execution_count": 65,
     "metadata": {},
     "output_type": "execute_result"
    }
   ],
   "source": [
    "let trouve = List.assoc;;"
   ]
  },
  {
   "cell_type": "code",
   "execution_count": 68,
   "metadata": {},
   "outputs": [
    {
     "data": {
      "text/plain": [
       "- : unit = ()\n"
      ]
     },
     "execution_count": 68,
     "metadata": {},
     "output_type": "execute_result"
    },
    {
     "data": {
      "text/plain": [
       "- : unit = ()\n"
      ]
     },
     "execution_count": 68,
     "metadata": {},
     "output_type": "execute_result"
    }
   ],
   "source": [
    "assert ((trouve \"Gandalf\" communaute) = \"magicien\");;\n",
    "assert (try (trouve \"Boromir\" communaute) = \"guerrier\" with Not_found -> true);;"
   ]
  },
  {
   "cell_type": "markdown",
   "metadata": {},
   "source": [
    "## Exercice 5 : `supprime`"
   ]
  },
  {
   "cell_type": "code",
   "execution_count": 71,
   "metadata": {},
   "outputs": [
    {
     "data": {
      "text/plain": [
       "val supprime : 'a -> ('a * 'b) list -> ('a * 'b) list = <fun>\n"
      ]
     },
     "execution_count": 71,
     "metadata": {},
     "output_type": "execute_result"
    }
   ],
   "source": [
    "let rec supprime (cle : 'a) (l : ('a*'b) list) : ('a*'b) list =\n",
    "    match l with\n",
    "    | [] -> raise Not_found\n",
    "    | (k, _) :: q when cle = k -> q\n",
    "    | p :: q -> p :: supprime cle q\n",
    ";;"
   ]
  },
  {
   "cell_type": "code",
   "execution_count": 72,
   "metadata": {},
   "outputs": [
    {
     "data": {
      "text/plain": [
       "val fin_film_1 : (string * string) list =\n",
       "  [(\"Aragorn\", \"rodeur\"); (\"Gimli\", \"nain\"); (\"Legolas\", \"elfe\");\n",
       "   (\"Frodon\", \"hobbit\")]\n"
      ]
     },
     "execution_count": 72,
     "metadata": {},
     "output_type": "execute_result"
    }
   ],
   "source": [
    "let fin_film_1 = supprime \"Gandalf\" communaute;;"
   ]
  },
  {
   "cell_type": "code",
   "execution_count": 73,
   "metadata": {},
   "outputs": [
    {
     "data": {
      "text/plain": [
       "val debut_film_3 : (string * string) list =\n",
       "  [(\"Gandalf\", \"magicien blanc\"); (\"Aragorn\", \"rodeur\"); (\"Gimli\", \"nain\");\n",
       "   (\"Legolas\", \"elfe\"); (\"Frodon\", \"hobbit\")]\n"
      ]
     },
     "execution_count": 73,
     "metadata": {},
     "output_type": "execute_result"
    }
   ],
   "source": [
    "let debut_film_3 = insere \"Gandalf\" \"magicien blanc\" fin_film_1;;"
   ]
  },
  {
   "cell_type": "markdown",
   "metadata": {},
   "source": [
    "## Question bonus : avec des tables d'associations\n",
    "La bibliothèque standard fournit le module [`Map`](http://caml.inria.fr/pub/docs/manual-ocaml/libref/Map.html#VALMake).\n",
    "Il faut au préalable créer le bon module (syntaxe un peu difficile, avec un *foncteur*)."
   ]
  },
  {
   "cell_type": "code",
   "execution_count": 75,
   "metadata": {},
   "outputs": [
    {
     "data": {
      "text/plain": [
       "module M :\n",
       "  sig\n",
       "    type key = int\n",
       "    type +'a t\n",
       "    val empty : 'a t\n",
       "    val is_empty : 'a t -> bool\n",
       "    val mem : key -> 'a t -> bool\n",
       "    val add : key -> 'a -> 'a t -> 'a t\n",
       "    val singleton : key -> 'a -> 'a t\n",
       "    val remove : key -> 'a t -> 'a t\n",
       "    val merge :\n",
       "      (key -> 'a option -> 'b option -> 'c option) -> 'a t -> 'b t -> 'c t\n",
       "    val union : (key -> 'a -> 'a -> 'a option) -> 'a t -> 'a t -> 'a t\n",
       "    val compare : ('a -> 'a -> int) -> 'a t -> 'a t -> int\n",
       "    val equal : ('a -> 'a -> bool) -> 'a t -> 'a t -> bool\n",
       "    val iter : (key -> 'a -> unit) -> 'a t -> unit\n",
       "    val fold : (key -> 'a -> 'b -> 'b) -> 'a t -> 'b -> 'b\n",
       "    val for_all : (key -> 'a -> bool) -> 'a t -> bool\n",
       "    val exists : (key -> 'a -> bool) -> 'a t -> bool\n",
       "    val filter : (key -> 'a -> bool) -> 'a t -> 'a t\n",
       "    val partition : (key -> 'a -> bool) -> 'a t -> 'a t * 'a t\n",
       "    val cardinal : 'a t -> int\n",
       "    val bindings : 'a t -> (key * 'a) list\n",
       "    val min_binding : 'a t -> key * 'a\n",
       "    val max_binding : 'a t -> key * 'a\n",
       "    val choose : 'a t -> key * 'a\n",
       "    val split : key -> 'a t -> 'a t * 'a option * 'a t\n",
       "    val find : key -> 'a t -> 'a\n",
       "    val map : ('a -> 'b) -> 'a t -> 'b t\n",
       "    val mapi : (key -> 'a -> 'b) -> 'a t -> 'b t\n",
       "  end\n"
      ]
     },
     "execution_count": 75,
     "metadata": {},
     "output_type": "execute_result"
    },
    {
     "data": {
      "text/plain": [
       "val t : string M.t = <abstr>\n"
      ]
     },
     "execution_count": 75,
     "metadata": {},
     "output_type": "execute_result"
    }
   ],
   "source": [
    "module M = Map.Make ( struct\n",
    "       type t = int\n",
    "       let compare = compare\n",
    "    end);;\n",
    "\n",
    "let t : string M.t = (M.add 1 \"1\" (M.add 2 \"2\" (M.add 3 \"3\" M.empty)));;"
   ]
  },
  {
   "cell_type": "code",
   "execution_count": 76,
   "metadata": {},
   "outputs": [
    {
     "data": {
      "text/plain": [
       "- : bool = true\n"
      ]
     },
     "execution_count": 76,
     "metadata": {},
     "output_type": "execute_result"
    },
    {
     "data": {
      "text/plain": [
       "- : bool = true\n"
      ]
     },
     "execution_count": 76,
     "metadata": {},
     "output_type": "execute_result"
    },
    {
     "data": {
      "text/plain": [
       "- : bool = false\n"
      ]
     },
     "execution_count": 76,
     "metadata": {},
     "output_type": "execute_result"
    },
    {
     "data": {
      "text/plain": [
       "- : string = \"1\"\n"
      ]
     },
     "execution_count": 76,
     "metadata": {},
     "output_type": "execute_result"
    },
    {
     "data": {
      "text/plain": [
       "- : string = \"2\"\n"
      ]
     },
     "execution_count": 76,
     "metadata": {},
     "output_type": "execute_result"
    },
    {
     "ename": "error",
     "evalue": "error",
     "output_type": "error",
     "traceback": [
      "\u001b[31mException: Not_found.\nRaised at file \"map.ml\", line 122, characters 16-25\nCalled from file \"toplevel/toploop.ml\", line 180, characters 17-56\n\u001b[0m"
     ]
    },
    {
     "data": {
      "text/plain": [
       "- : string M.t = <abstr>\n"
      ]
     },
     "execution_count": 76,
     "metadata": {},
     "output_type": "execute_result"
    },
    {
     "data": {
      "text/plain": [
       "- : string M.t = <abstr>\n"
      ]
     },
     "execution_count": 76,
     "metadata": {},
     "output_type": "execute_result"
    },
    {
     "data": {
      "text/plain": [
       "- : string M.t = <abstr>\n"
      ]
     },
     "execution_count": 76,
     "metadata": {},
     "output_type": "execute_result"
    }
   ],
   "source": [
    "let _ = M.mem 1 t;;\n",
    "let _ = M.mem 2 t;;\n",
    "let _ = M.mem 4 t;;\n",
    "\n",
    "let _ = M.find 1 t;;\n",
    "let _ = M.find 2 t;;\n",
    "let _ = M.find 4 t;;\n",
    "\n",
    "let _ = M.remove 1 t;;\n",
    "let _ = M.remove 2 t;;\n",
    "let _ = M.remove 4 t;;"
   ]
  },
  {
   "cell_type": "markdown",
   "metadata": {},
   "source": [
    "----\n",
    "# Automates finis déterministes"
   ]
  },
  {
   "cell_type": "markdown",
   "metadata": {},
   "source": [
    "## Types de données\n",
    "Les listes d'association sont utilises pour stocker les transitions : pour chaque état, on stocke une liste de règle associant une lettre lue à l'état d'arrivée de la transition."
   ]
  },
  {
   "cell_type": "code",
   "execution_count": 1,
   "metadata": {},
   "outputs": [
    {
     "data": {
      "text/plain": [
       "type ('a, 'b) assoc = ('a * 'b) list\n"
      ]
     },
     "execution_count": 1,
     "metadata": {},
     "output_type": "execute_result"
    },
    {
     "data": {
      "text/plain": [
       "type lettre = A | B | C\n"
      ]
     },
     "execution_count": 1,
     "metadata": {},
     "output_type": "execute_result"
    },
    {
     "data": {
      "text/plain": [
       "type mot = lettre list\n"
      ]
     },
     "execution_count": 1,
     "metadata": {},
     "output_type": "execute_result"
    },
    {
     "data": {
      "text/plain": [
       "type langage = mot list\n"
      ]
     },
     "execution_count": 1,
     "metadata": {},
     "output_type": "execute_result"
    },
    {
     "data": {
      "text/plain": [
       "type etat = int\n"
      ]
     },
     "execution_count": 1,
     "metadata": {},
     "output_type": "execute_result"
    },
    {
     "data": {
      "text/plain": [
       "type afd = {\n",
       "  taille : int;\n",
       "  initial : etat;\n",
       "  finals : etat list;\n",
       "  transition : (lettre, etat) assoc array;\n",
       "}\n"
      ]
     },
     "execution_count": 1,
     "metadata": {},
     "output_type": "execute_result"
    }
   ],
   "source": [
    "type ('a, 'b) assoc = ('a * 'b) list;;\n",
    "type lettre = A | B | C;;\n",
    "type mot = lettre list;;\n",
    "type langage = mot list;;\n",
    "type etat = int;;\n",
    "\n",
    "(* Automate fini déterministe *)\n",
    "type afd = {\n",
    "    taille : int;\n",
    "    initial : etat;\n",
    "    finals : etat list;\n",
    "(*    transition : (etat, (lettre, etat) assoc) assoc;\n",
    "      transition : ((etat, lettre), etat) assoc; *)\n",
    "    transition : (lettre, etat) assoc array\n",
    "};;"
   ]
  },
  {
   "cell_type": "markdown",
   "metadata": {},
   "source": [
    "## Affichage\n",
    "On va utiliser le [langage dot](http://graphviz.readthedocs.io/en/stable/manual.html#using-raw-dot) pour afficher facilement des graphes, et donc ici, des automates.\n",
    "Plutôt que d'utiliser une bibliothèque, on va écrire une fonction `dot` qui transforme un automate fini déterministe a en un fichier `out.dot` qui est ensuite converti en SVG (pour être affiché ici)."
   ]
  },
  {
   "cell_type": "code",
   "execution_count": 2,
   "metadata": {
    "scrolled": true
   },
   "outputs": [
    {
     "data": {
      "text/plain": [
       "val string_of_lettre : lettre -> string = <fun>\n"
      ]
     },
     "execution_count": 2,
     "metadata": {},
     "output_type": "execute_result"
    }
   ],
   "source": [
    "let string_of_lettre = function\n",
    "    | A -> \"A\"\n",
    "    | B -> \"B\"\n",
    "    | C -> \"C\"\n",
    ";;"
   ]
  },
  {
   "cell_type": "code",
   "execution_count": 3,
   "metadata": {
    "scrolled": true
   },
   "outputs": [
    {
     "data": {
      "text/plain": [
       "val lettre_of_string : string -> lettre = <fun>\n"
      ]
     },
     "execution_count": 3,
     "metadata": {},
     "output_type": "execute_result"
    }
   ],
   "source": [
    "let lettre_of_string = function\n",
    "    | \"A\" -> A\n",
    "    | \"B\" -> B\n",
    "    | \"C\" -> C\n",
    "    | _ -> failwith \"Lettre pas dans Sigma\"\n",
    ";;"
   ]
  },
  {
   "cell_type": "code",
   "execution_count": 4,
   "metadata": {},
   "outputs": [
    {
     "data": {
      "text/plain": [
       "val dot : string -> afd -> unit = <fun>\n"
      ]
     },
     "execution_count": 4,
     "metadata": {},
     "output_type": "execute_result"
    }
   ],
   "source": [
    "let dot (nom : string) (a : afd) : unit =\n",
    "    let f = open_out nom in\n",
    "    let print_edge i l = try\n",
    "        let e = List.assoc l a.transition.(i) in\n",
    "        Printf.fprintf f \"  %d -> %d [label=%s]\\n\"\n",
    "        i e (string_of_lettre l)\n",
    "    with Not_found -> ()\n",
    "    in\n",
    "    Printf.fprintf f \"digraph g {\\n\";\n",
    "    Printf.fprintf f \"  node [shape=circle];\\n\";\n",
    "    for i = 0 to a.taille-1 do\n",
    "        print_edge i A;\n",
    "        print_edge i B;\n",
    "        print_edge i C\n",
    "    done;\n",
    "    Printf.fprintf f \"}\\n\";\n",
    "    close_out f;\n",
    "    (* ignore (Sys.command \"dot -Tsvg -o out.pdf out.svg\") *)\n",
    ";;"
   ]
  },
  {
   "cell_type": "markdown",
   "metadata": {},
   "source": [
    "## Reconnaissance d'un mot"
   ]
  },
  {
   "cell_type": "code",
   "execution_count": 5,
   "metadata": {},
   "outputs": [
    {
     "data": {
      "text/plain": [
       "val lecture : afd -> mot -> bool = <fun>\n"
      ]
     },
     "execution_count": 5,
     "metadata": {},
     "output_type": "execute_result"
    }
   ],
   "source": [
    "let lecture (a : afd) (m : mot) : bool =\n",
    "    let rec lire_lettre (e : etat) (m : mot) : bool =\n",
    "        match m with\n",
    "        | l::u ->\n",
    "            if List.mem_assoc l a.transition.(e) then\n",
    "                lire_lettre (List.assoc l a.transition.(e)) u\n",
    "            else false\n",
    "        | [] ->\n",
    "            List.mem e a.finals\n",
    "    in\n",
    "    lire_lettre a.initial m\n",
    ";;"
   ]
  },
  {
   "cell_type": "markdown",
   "metadata": {},
   "source": [
    "## Deux exemples d'automates"
   ]
  },
  {
   "cell_type": "code",
   "execution_count": 6,
   "metadata": {},
   "outputs": [
    {
     "data": {
      "text/plain": [
       "val fin_ba : afd =\n",
       "  {taille = 3; initial = 0; finals = [2];\n",
       "   transition =\n",
       "    [|[(A, 0); (B, 1); (C, 0)]; [(A, 2); (B, 1); (C, 0)];\n",
       "      [(A, 0); (B, 1); (C, 0)]|]}\n"
      ]
     },
     "execution_count": 6,
     "metadata": {},
     "output_type": "execute_result"
    }
   ],
   "source": [
    "let fin_ba = {\n",
    "    taille = 3;\n",
    "    initial = 0;\n",
    "    finals = [2];\n",
    "    transition = [|\n",
    "        [(A, 0); (B, 1); (C, 0)];\n",
    "        [(A, 2); (B, 1); (C, 0)];\n",
    "        [(A, 0); (B, 1); (C, 0)];\n",
    "    |]\n",
    "};;"
   ]
  },
  {
   "cell_type": "code",
   "execution_count": 27,
   "metadata": {},
   "outputs": [
    {
     "data": {
      "text/plain": [
       "- : unit = ()\n"
      ]
     },
     "execution_count": 27,
     "metadata": {},
     "output_type": "execute_result"
    },
    {
     "name": "stdout",
     "output_type": "stream",
     "text": [
      "-rw-rw-r-- 1 lilian lilian 208 oct.  10 17:17 afd__fin_ba.dot\n"
     ]
    },
    {
     "data": {
      "text/plain": [
       "- : int = 0\n"
      ]
     },
     "execution_count": 27,
     "metadata": {},
     "output_type": "execute_result"
    },
    {
     "name": "stdout",
     "output_type": "stream",
     "text": [
      "digraph g {\n",
      "  node [shape=circle];\n",
      "  0 -> 0 [label=A]\n",
      "  0 -> 1 [label=B]\n",
      "  0 -> 0 [label=C]\n",
      "  1 -> 2 [label=A]\n",
      "  1 -> 1 [label=B]\n",
      "  1 -> 0 [label=C]\n",
      "  2 -> 0 [label=A]\n",
      "  2 -> 1 [label=B]\n",
      "  2 -> 0 [label=C]\n",
      "}\n"
     ]
    },
    {
     "data": {
      "text/plain": [
       "- : int = 0\n"
      ]
     },
     "execution_count": 27,
     "metadata": {},
     "output_type": "execute_result"
    }
   ],
   "source": [
    "dot \"afd__fin_ba.dot\" fin_ba;;\n",
    "Sys.command \"ls -larth afd__fin_ba.dot\";;\n",
    "Sys.command \"cat afd__fin_ba.dot\";;"
   ]
  },
  {
   "cell_type": "code",
   "execution_count": 28,
   "metadata": {},
   "outputs": [
    {
     "data": {
      "text/plain": [
       "- : int = 0\n"
      ]
     },
     "execution_count": 28,
     "metadata": {},
     "output_type": "execute_result"
    },
    {
     "name": "stdout",
     "output_type": "stream",
     "text": [
      "-rw-rw-r-- 1 lilian lilian 5,1K oct.  10 17:17 afd__fin_ba.svg\n"
     ]
    },
    {
     "data": {
      "text/plain": [
       "- : int = 0\n"
      ]
     },
     "execution_count": 28,
     "metadata": {},
     "output_type": "execute_result"
    }
   ],
   "source": [
    "Sys.command \"dot -Tsvg -o afd__fin_ba.svg afd__fin_ba.dot\";;\n",
    "Sys.command \"ls -larth afd__fin_ba.svg\";;"
   ]
  },
  {
   "cell_type": "markdown",
   "metadata": {},
   "source": [
    "![Automate Fini Déterministe - Reconnaissance des mots finissants par BA](afd__fin_ba.svg)"
   ]
  },
  {
   "cell_type": "markdown",
   "metadata": {},
   "source": [
    "Autre exemple :"
   ]
  },
  {
   "cell_type": "code",
   "execution_count": 7,
   "metadata": {},
   "outputs": [
    {
     "data": {
      "text/plain": [
       "val debut_ab : afd =\n",
       "  {taille = 3; initial = 0; finals = [2];\n",
       "   transition = [|[(A, 1)]; [(B, 2)]; [(A, 2); (B, 2); (C, 2)]|]}\n"
      ]
     },
     "execution_count": 7,
     "metadata": {},
     "output_type": "execute_result"
    }
   ],
   "source": [
    "let debut_ab = {\n",
    "    taille = 3;\n",
    "    initial = 0;\n",
    "    finals = [2];\n",
    "    transition = [|\n",
    "        [(A, 1)];\n",
    "        [(B, 2)];\n",
    "        [(A, 2); (B, 2); (C, 2)]\n",
    "    |]\n",
    "};;"
   ]
  },
  {
   "cell_type": "code",
   "execution_count": 33,
   "metadata": {},
   "outputs": [
    {
     "data": {
      "text/plain": [
       "- : unit = ()\n"
      ]
     },
     "execution_count": 33,
     "metadata": {},
     "output_type": "execute_result"
    },
    {
     "name": "stdout",
     "output_type": "stream",
     "text": [
      "-rw-rw-r-- 1 lilian lilian 132 oct.  10 17:18 afd__debut_ab.dot\n"
     ]
    },
    {
     "data": {
      "text/plain": [
       "- : int = 0\n"
      ]
     },
     "execution_count": 33,
     "metadata": {},
     "output_type": "execute_result"
    },
    {
     "name": "stdout",
     "output_type": "stream",
     "text": [
      "digraph g {\n",
      "  node [shape=circle];\n",
      "  0 -> 1 [label=A]\n",
      "  1 -> 2 [label=B]\n",
      "  2 -> 2 [label=A]\n",
      "  2 -> 2 [label=B]\n",
      "  2 -> 2 [label=C]\n",
      "}\n"
     ]
    },
    {
     "data": {
      "text/plain": [
       "- : int = 0\n"
      ]
     },
     "execution_count": 33,
     "metadata": {},
     "output_type": "execute_result"
    }
   ],
   "source": [
    "dot \"afd__debut_ab.dot\" debut_ab;;\n",
    "Sys.command \"ls -larth afd__debut_ab.dot\";;\n",
    "Sys.command \"cat afd__debut_ab.dot\";;"
   ]
  },
  {
   "cell_type": "code",
   "execution_count": 34,
   "metadata": {},
   "outputs": [
    {
     "data": {
      "text/plain": [
       "- : int = 0\n"
      ]
     },
     "execution_count": 34,
     "metadata": {},
     "output_type": "execute_result"
    },
    {
     "name": "stdout",
     "output_type": "stream",
     "text": [
      "-rw-rw-r-- 1 lilian lilian 5,1K oct.  10 17:18 afd__fin_ba.svg\n"
     ]
    },
    {
     "data": {
      "text/plain": [
       "- : int = 0\n"
      ]
     },
     "execution_count": 34,
     "metadata": {},
     "output_type": "execute_result"
    }
   ],
   "source": [
    "Sys.command \"dot -Tsvg -o afd__fin_ba.svg afd__fin_ba.dot\";;\n",
    "Sys.command \"ls -larth afd__fin_ba.svg\";;"
   ]
  },
  {
   "cell_type": "markdown",
   "metadata": {},
   "source": [
    "![Automate Fini Déterministe - Reconnaissance des mots finissants par BA](afd__fin_ba.svg)"
   ]
  },
  {
   "cell_type": "markdown",
   "metadata": {},
   "source": [
    "## Exemple de lectures\n",
    "On doit vérifier que ces deux automates reconnaissent bien respectivement les mots terminants par $ba$ et les mots commençants par $ab$."
   ]
  },
  {
   "cell_type": "code",
   "execution_count": 58,
   "metadata": {},
   "outputs": [
    {
     "data": {
      "text/plain": [
       "- : bool = true\n"
      ]
     },
     "execution_count": 58,
     "metadata": {},
     "output_type": "execute_result"
    },
    {
     "data": {
      "text/plain": [
       "- : bool = false\n"
      ]
     },
     "execution_count": 58,
     "metadata": {},
     "output_type": "execute_result"
    },
    {
     "data": {
      "text/plain": [
       "- : bool = true\n"
      ]
     },
     "execution_count": 58,
     "metadata": {},
     "output_type": "execute_result"
    },
    {
     "data": {
      "text/plain": [
       "- : bool = false\n"
      ]
     },
     "execution_count": 58,
     "metadata": {},
     "output_type": "execute_result"
    }
   ],
   "source": [
    "let _ = lecture  fin_ba [A;B;A];;\n",
    "let _ = lecture  fin_ba [A;B;A;A];;\n",
    "\n",
    "let _ = lecture  debut_ab [A;B;A];;\n",
    "let _ = lecture  debut_ab [B;A;A];;"
   ]
  },
  {
   "cell_type": "markdown",
   "metadata": {},
   "source": [
    "## Complétion"
   ]
  },
  {
   "cell_type": "code",
   "execution_count": 40,
   "metadata": {},
   "outputs": [
    {
     "data": {
      "text/plain": [
       "val complete : afd -> afd = <fun>\n"
      ]
     },
     "execution_count": 40,
     "metadata": {},
     "output_type": "execute_result"
    }
   ],
   "source": [
    "let complete (a:afd) : afd =\n",
    "    let puit = a.taille in\n",
    "    let ajoute_arc (l : lettre) (e : etat) (asso : (lettre, etat) assoc) =\n",
    "        if List.mem_assoc l a.transition.(e)\n",
    "        then asso\n",
    "        else (l, puit) :: asso\n",
    "    in\n",
    "    let complete_etat e =\n",
    "        if e < a.taille then\n",
    "            ajoute_arc A e\n",
    "            (ajoute_arc B e\n",
    "                (ajoute_arc C e\n",
    "                    a.transition.(e)\n",
    "                )\n",
    "            )\n",
    "        else\n",
    "            [(A, puit); (B, puit); (C, puit)]\n",
    "    in\n",
    "    {\n",
    "        a with\n",
    "        taille = a.taille + 1;\n",
    "        transition = Array.init (a.taille + 1) complete_etat\n",
    "    }\n",
    ";;"
   ]
  },
  {
   "cell_type": "code",
   "execution_count": 41,
   "metadata": {},
   "outputs": [
    {
     "data": {
      "text/plain": [
       "val com_debut_ab : afd =\n",
       "  {taille = 4; initial = 0; finals = [2];\n",
       "   transition =\n",
       "    [|[(B, 3); (C, 3); (A, 1)]; [(A, 3); (C, 3); (B, 2)];\n",
       "      [(A, 2); (B, 2); (C, 2)]; [(A, 3); (B, 3); (C, 3)]|]}\n"
      ]
     },
     "execution_count": 41,
     "metadata": {},
     "output_type": "execute_result"
    }
   ],
   "source": [
    "let com_debut_ab = complete debut_ab;;"
   ]
  },
  {
   "cell_type": "code",
   "execution_count": 42,
   "metadata": {},
   "outputs": [
    {
     "data": {
      "text/plain": [
       "- : unit = ()\n"
      ]
     },
     "execution_count": 42,
     "metadata": {},
     "output_type": "execute_result"
    },
    {
     "name": "stdout",
     "output_type": "stream",
     "text": [
      "-rw-rw-r-- 1 lilian lilian 265 oct.  10 17:23 afd__com_debut_ab.dot\n"
     ]
    },
    {
     "data": {
      "text/plain": [
       "- : int = 0\n"
      ]
     },
     "execution_count": 42,
     "metadata": {},
     "output_type": "execute_result"
    },
    {
     "name": "stdout",
     "output_type": "stream",
     "text": [
      "digraph g {\n",
      "  node [shape=circle];\n",
      "  0 -> 1 [label=A]\n",
      "  0 -> 3 [label=B]\n",
      "  0 -> 3 [label=C]\n",
      "  1 -> 3 [label=A]\n",
      "  1 -> 2 [label=B]\n",
      "  1 -> 3 [label=C]\n",
      "  2 -> 2 [label=A]\n",
      "  2 -> 2 [label=B]\n",
      "  2 -> 2 [label=C]\n",
      "  3 -> 3 [label=A]\n",
      "  3 -> 3 [label=B]\n",
      "  3 -> 3 [label=C]\n",
      "}\n"
     ]
    },
    {
     "data": {
      "text/plain": [
       "- : int = 0\n"
      ]
     },
     "execution_count": 42,
     "metadata": {},
     "output_type": "execute_result"
    }
   ],
   "source": [
    "dot \"afd__com_debut_ab.dot\" com_debut_ab;;\n",
    "Sys.command \"ls -larth afd__com_debut_ab.dot\";;\n",
    "Sys.command \"cat afd__com_debut_ab.dot\";;"
   ]
  },
  {
   "cell_type": "code",
   "execution_count": 43,
   "metadata": {},
   "outputs": [
    {
     "data": {
      "text/plain": [
       "- : int = 0\n"
      ]
     },
     "execution_count": 43,
     "metadata": {},
     "output_type": "execute_result"
    },
    {
     "name": "stdout",
     "output_type": "stream",
     "text": [
      "-rw-rw-r-- 1 lilian lilian 6,6K oct.  10 17:23 afd__com_debut_ab.svg\n"
     ]
    },
    {
     "data": {
      "text/plain": [
       "- : int = 0\n"
      ]
     },
     "execution_count": 43,
     "metadata": {},
     "output_type": "execute_result"
    }
   ],
   "source": [
    "Sys.command \"dot -Tsvg -o afd__com_debut_ab.svg afd__com_debut_ab.dot\";;\n",
    "Sys.command \"ls -larth afd__com_debut_ab.svg\";;"
   ]
  },
  {
   "cell_type": "markdown",
   "metadata": {},
   "source": [
    "![Automate Fini Déterministe - Reconnaissance des mots finissants par BA](afd__com_debut_ab.svg)"
   ]
  },
  {
   "cell_type": "markdown",
   "metadata": {},
   "source": [
    "## Complémentaire (plus dur)"
   ]
  },
  {
   "cell_type": "code",
   "execution_count": 52,
   "metadata": {},
   "outputs": [
    {
     "data": {
      "text/plain": [
       "val complementaire : afd -> afd = <fun>\n"
      ]
     },
     "execution_count": 52,
     "metadata": {},
     "output_type": "execute_result"
    }
   ],
   "source": [
    "let complementaire (a : afd) : afd =\n",
    "    let rec finals = function\n",
    "        | n when n < 0 -> []\n",
    "        | n when n != a.initial -> n :: finals (n-1)\n",
    "        | n -> finals (n-1)\n",
    "    in\n",
    "    let a' = complete a in\n",
    "    { \n",
    "        taille = a.taille +1;\n",
    "        initial = a.initial;\n",
    "        finals = finals (a.taille + 1);\n",
    "        transition = a'.transition\n",
    "    }"
   ]
  },
  {
   "cell_type": "code",
   "execution_count": 53,
   "metadata": {},
   "outputs": [
    {
     "data": {
      "text/plain": [
       "val not_debut_ab : afd =\n",
       "  {taille = 4; initial = 0; finals = [4; 3; 2; 1];\n",
       "   transition =\n",
       "    [|[(B, 3); (C, 3); (A, 1)]; [(A, 3); (C, 3); (B, 2)];\n",
       "      [(A, 2); (B, 2); (C, 2)]; [(A, 3); (B, 3); (C, 3)]|]}\n"
      ]
     },
     "execution_count": 53,
     "metadata": {},
     "output_type": "execute_result"
    }
   ],
   "source": [
    "let not_debut_ab = complementaire debut_ab;;"
   ]
  },
  {
   "cell_type": "code",
   "execution_count": 55,
   "metadata": {},
   "outputs": [
    {
     "data": {
      "text/plain": [
       "- : unit = ()\n"
      ]
     },
     "execution_count": 55,
     "metadata": {},
     "output_type": "execute_result"
    },
    {
     "name": "stdout",
     "output_type": "stream",
     "text": [
      "-rw-rw-r-- 1 lilian lilian 265 oct.  10 17:39 afd__not_debut_ab.dot\n"
     ]
    },
    {
     "data": {
      "text/plain": [
       "- : int = 0\n"
      ]
     },
     "execution_count": 55,
     "metadata": {},
     "output_type": "execute_result"
    },
    {
     "name": "stdout",
     "output_type": "stream",
     "text": [
      "digraph g {\n",
      "  node [shape=circle];\n",
      "  0 -> 1 [label=A]\n",
      "  0 -> 3 [label=B]\n",
      "  0 -> 3 [label=C]\n",
      "  1 -> 3 [label=A]\n",
      "  1 -> 2 [label=B]\n",
      "  1 -> 3 [label=C]\n",
      "  2 -> 2 [label=A]\n",
      "  2 -> 2 [label=B]\n",
      "  2 -> 2 [label=C]\n",
      "  3 -> 3 [label=A]\n",
      "  3 -> 3 [label=B]\n",
      "  3 -> 3 [label=C]\n",
      "}\n"
     ]
    },
    {
     "data": {
      "text/plain": [
       "- : int = 0\n"
      ]
     },
     "execution_count": 55,
     "metadata": {},
     "output_type": "execute_result"
    }
   ],
   "source": [
    "dot \"afd__not_debut_ab.dot\" not_debut_ab;;\n",
    "Sys.command \"ls -larth afd__not_debut_ab.dot\";;\n",
    "Sys.command \"cat afd__not_debut_ab.dot\";;"
   ]
  },
  {
   "cell_type": "code",
   "execution_count": 56,
   "metadata": {},
   "outputs": [
    {
     "data": {
      "text/plain": [
       "- : int = 0\n"
      ]
     },
     "execution_count": 56,
     "metadata": {},
     "output_type": "execute_result"
    },
    {
     "name": "stdout",
     "output_type": "stream",
     "text": [
      "-rw-rw-r-- 1 lilian lilian 6,6K oct.  10 17:43 afd__not_debut_ab.svg\n"
     ]
    },
    {
     "data": {
      "text/plain": [
       "- : int = 0\n"
      ]
     },
     "execution_count": 56,
     "metadata": {},
     "output_type": "execute_result"
    }
   ],
   "source": [
    "Sys.command \"dot -Tsvg -o afd__not_debut_ab.svg afd__not_debut_ab.dot\";;\n",
    "Sys.command \"ls -larth afd__not_debut_ab.svg\";;"
   ]
  },
  {
   "cell_type": "markdown",
   "metadata": {},
   "source": [
    "![Automate Fini Déterministe - Reconnaissance des mots finissants par BA](afd__not_debut_ab.svg)"
   ]
  },
  {
   "cell_type": "markdown",
   "metadata": {},
   "source": [
    "----\n",
    "# Expressions régulières\n",
    "\n",
    "On se fixe $\\Sigma = \\{a, b, c\\}$.\n",
    "\n",
    "On rappelle la grammaire des expressions régulières :\n",
    "\n",
    "    <exp> ::=\n",
    "    | ∅\n",
    "    | ε\n",
    "    | a (lettre dans Sigma)\n",
    "    | <exp> + <exp>\n",
    "    | <exp> . <exp>\n",
    "    | <exp>*\n",
    "\n",
    "On représente ça le plus simplement possible :"
   ]
  },
  {
   "cell_type": "markdown",
   "metadata": {},
   "source": [
    "## Exercuce 10 : `regexp`"
   ]
  },
  {
   "cell_type": "code",
   "execution_count": 59,
   "metadata": {},
   "outputs": [
    {
     "data": {
      "text/plain": [
       "type regexp =\n",
       "    Vide\n",
       "  | Epsilon\n",
       "  | Lettre of lettre\n",
       "  | Somme of (regexp * regexp)\n",
       "  | Concat of (regexp * regexp)\n",
       "  | Etoile of regexp\n"
      ]
     },
     "execution_count": 59,
     "metadata": {},
     "output_type": "execute_result"
    }
   ],
   "source": [
    "type regexp =\n",
    "  | Vide\n",
    "  | Epsilon\n",
    "  | Lettre of lettre\n",
    "  | Somme of (regexp * regexp)\n",
    "  | Concat of (regexp * regexp)\n",
    "  | Etoile of regexp"
   ]
  },
  {
   "cell_type": "markdown",
   "metadata": {},
   "source": [
    "## Exercice 11 : deux regexp pour les deux automates $A_1$, $A_2$"
   ]
  },
  {
   "cell_type": "code",
   "execution_count": 61,
   "metadata": {},
   "outputs": [
    {
     "data": {
      "text/plain": [
       "val sigma : regexp = Somme (Somme (Lettre A, Lettre B), Lettre C)\n"
      ]
     },
     "execution_count": 61,
     "metadata": {},
     "output_type": "execute_result"
    },
    {
     "data": {
      "text/plain": [
       "val la1 : regexp =\n",
       "  Concat\n",
       "   (Etoile (Somme (Somme (Lettre A, Lettre B), Lettre C)),\n",
       "    Concat (Lettre A, Lettre B))\n"
      ]
     },
     "execution_count": 61,
     "metadata": {},
     "output_type": "execute_result"
    },
    {
     "data": {
      "text/plain": [
       "val la2 : regexp =\n",
       "  Concat\n",
       "   (Concat (Lettre B, Lettre A),\n",
       "    Etoile (Somme (Somme (Lettre A, Lettre B), Lettre C)))\n"
      ]
     },
     "execution_count": 61,
     "metadata": {},
     "output_type": "execute_result"
    }
   ],
   "source": [
    "let sigma = Somme (Somme (Lettre A, Lettre B), Lettre C);;\n",
    "\n",
    "let la1 = Concat (Etoile sigma, Concat (Lettre A, Lettre B));;\n",
    "let la2 = Concat (Concat (Lettre B, Lettre A), Etoile sigma);;"
   ]
  },
  {
   "cell_type": "markdown",
   "metadata": {},
   "source": [
    "Un exemple plus long sera l'expression régulière reconnaissant $\\Sigma^7\\Sigma^*$ les mots de longueur au moins $7$."
   ]
  },
  {
   "cell_type": "code",
   "execution_count": 77,
   "metadata": {},
   "outputs": [
    {
     "data": {
      "text/plain": [
       "val au_moins_longueur : int -> regexp = <fun>\n"
      ]
     },
     "execution_count": 77,
     "metadata": {},
     "output_type": "execute_result"
    },
    {
     "data": {
      "text/plain": [
       "val au_moins7 : regexp =\n",
       "  Concat\n",
       "   (Somme (Somme (Lettre A, Lettre B), Lettre C),\n",
       "    Concat\n",
       "     (Somme (Somme (Lettre A, Lettre B), Lettre C),\n",
       "      Concat\n",
       "       (Somme (Somme (Lettre A, Lettre B), Lettre C),\n",
       "        Concat\n",
       "         (Somme (Somme (Lettre A, Lettre B), Lettre C),\n",
       "          Concat\n",
       "           (Somme (Somme (Lettre A, Lettre B), Lettre C),\n",
       "            Concat\n",
       "             (Somme (Somme (Lettre A, Lettre B), Lettre C),\n",
       "              Concat\n",
       "               (Somme (Somme (Lettre A, Lettre B), Lettre C),\n",
       "                Etoile (Somme (Somme (Lettre A, Lettre B), Lettre C)))))))))\n"
      ]
     },
     "execution_count": 77,
     "metadata": {},
     "output_type": "execute_result"
    }
   ],
   "source": [
    "let rec au_moins_longueur = function\n",
    "    | 0 -> Etoile sigma\n",
    "    | n -> Concat (sigma, au_moins_longueur (n - 1))\n",
    ";;\n",
    "\n",
    "let au_moins7 = au_moins_longueur 7;;"
   ]
  },
  {
   "cell_type": "markdown",
   "metadata": {},
   "source": [
    "## Exercice 12 : `to_string`"
   ]
  },
  {
   "cell_type": "code",
   "execution_count": 92,
   "metadata": {
    "scrolled": true
   },
   "outputs": [
    {
     "data": {
      "text/plain": [
       "val to_string : string -> regexp -> string = <fun>\n"
      ]
     },
     "execution_count": 92,
     "metadata": {},
     "output_type": "execute_result"
    },
    {
     "data": {
      "text/plain": [
       "val regexp_to_string : regexp -> string = <fun>\n"
      ]
     },
     "execution_count": 92,
     "metadata": {},
     "output_type": "execute_result"
    }
   ],
   "source": [
    "open Printf;;\n",
    "\n",
    "let rec to_string last = function\n",
    "    | Vide -> \"∅\"\n",
    "    | Epsilon -> \"ε\"\n",
    "    | Lettre A -> \"A\"\n",
    "    | Lettre B -> \"B\"\n",
    "    | Lettre C -> \"C\"\n",
    "    | Somme (r1, r2) ->\n",
    "        if last=\"+\" || last=\"*\" then\n",
    "            sprintf \"%s + %s\" (to_string \"+\" r1) (to_string \"+\" r2)\n",
    "        else\n",
    "            sprintf \"(%s + %s)\" (to_string \"+\" r1) (to_string \"+\" r2)\n",
    "    | Concat (r1, r2) ->\n",
    "        if last=\".\" || last=\"*\" then\n",
    "            sprintf \"%s . %s\" (to_string \".\" r1) (to_string \".\" r2)\n",
    "        else\n",
    "            sprintf \"(%s . %s)\" (to_string \".\" r1) (to_string \".\" r2)\n",
    "    | Etoile r -> sprintf \"(%s)*\" (to_string \"*\" r)\n",
    ";;\n",
    "\n",
    "let regexp_to_string = to_string \"*\";;"
   ]
  },
  {
   "cell_type": "markdown",
   "metadata": {},
   "source": [
    "Exemples :"
   ]
  },
  {
   "cell_type": "code",
   "execution_count": 93,
   "metadata": {},
   "outputs": [
    {
     "data": {
      "text/plain": [
       "- : string = \"(A + B + C)* . A . B\"\n"
      ]
     },
     "execution_count": 93,
     "metadata": {},
     "output_type": "execute_result"
    },
    {
     "data": {
      "text/plain": [
       "- : string = \"B . A . (A + B + C)*\"\n"
      ]
     },
     "execution_count": 93,
     "metadata": {},
     "output_type": "execute_result"
    },
    {
     "data": {
      "text/plain": [
       "- : string =\n",
       "\"(A + B + C) . (A + B + C) . (A + B + C) . (A + B + C) . (A + B + C) . (A + B + C) . (A + B + C) . (A + B + C)*\"\n"
      ]
     },
     "execution_count": 93,
     "metadata": {},
     "output_type": "execute_result"
    }
   ],
   "source": [
    "let _ = regexp_to_string la1;;\n",
    "let _ = regexp_to_string la2;;\n",
    "let _ = regexp_to_string au_moins7;;"
   ]
  },
  {
   "cell_type": "markdown",
   "metadata": {},
   "source": [
    "## Exercice 13 : `est_vide`"
   ]
  },
  {
   "cell_type": "code",
   "execution_count": 64,
   "metadata": {},
   "outputs": [
    {
     "data": {
      "text/plain": [
       "val est_vide : regexp -> bool = <fun>\n"
      ]
     },
     "execution_count": 64,
     "metadata": {},
     "output_type": "execute_result"
    }
   ],
   "source": [
    "let rec est_vide = function\n",
    "    | Vide -> true\n",
    "    | Epsilon -> false\n",
    "    | Lettre _ -> false\n",
    "    | Somme (r1, r2) -> est_vide r1 && est_vide r2\n",
    "    | Concat (r1, r2) -> est_vide r1 && est_vide r2\n",
    "    | Etoile r -> est_vide r\n",
    ";;"
   ]
  },
  {
   "cell_type": "code",
   "execution_count": 71,
   "metadata": {},
   "outputs": [
    {
     "data": {
      "text/plain": [
       "- : bool = true\n"
      ]
     },
     "execution_count": 71,
     "metadata": {},
     "output_type": "execute_result"
    },
    {
     "data": {
      "text/plain": [
       "- : bool = false\n"
      ]
     },
     "execution_count": 71,
     "metadata": {},
     "output_type": "execute_result"
    },
    {
     "data": {
      "text/plain": [
       "- : bool = false\n"
      ]
     },
     "execution_count": 71,
     "metadata": {},
     "output_type": "execute_result"
    },
    {
     "data": {
      "text/plain": [
       "- : bool = false\n"
      ]
     },
     "execution_count": 71,
     "metadata": {},
     "output_type": "execute_result"
    }
   ],
   "source": [
    "let _ = est_vide Vide;;\n",
    "let _ = est_vide sigma;;\n",
    "let _ = est_vide la1;;\n",
    "let _ = est_vide la2;;"
   ]
  },
  {
   "cell_type": "markdown",
   "metadata": {},
   "source": [
    "## Exercice 14 : `est_fini`"
   ]
  },
  {
   "cell_type": "code",
   "execution_count": 69,
   "metadata": {},
   "outputs": [
    {
     "data": {
      "text/plain": [
       "val est_fini : regexp -> bool = <fun>\n"
      ]
     },
     "execution_count": 69,
     "metadata": {},
     "output_type": "execute_result"
    }
   ],
   "source": [
    "let rec est_fini = function\n",
    "    | Vide -> true\n",
    "    | Epsilon -> true\n",
    "    | Lettre _ -> true\n",
    "    | Somme (r1, r2) -> est_fini r1 && est_fini r2\n",
    "    | Concat (r1, r2) -> est_fini r1 && est_fini r2\n",
    "    | Etoile _ -> false\n",
    ";;"
   ]
  },
  {
   "cell_type": "code",
   "execution_count": 70,
   "metadata": {},
   "outputs": [
    {
     "data": {
      "text/plain": [
       "- : bool = true\n"
      ]
     },
     "execution_count": 70,
     "metadata": {},
     "output_type": "execute_result"
    },
    {
     "data": {
      "text/plain": [
       "- : bool = true\n"
      ]
     },
     "execution_count": 70,
     "metadata": {},
     "output_type": "execute_result"
    },
    {
     "data": {
      "text/plain": [
       "- : bool = false\n"
      ]
     },
     "execution_count": 70,
     "metadata": {},
     "output_type": "execute_result"
    },
    {
     "data": {
      "text/plain": [
       "- : bool = false\n"
      ]
     },
     "execution_count": 70,
     "metadata": {},
     "output_type": "execute_result"
    }
   ],
   "source": [
    "let _ = est_fini Vide;;\n",
    "let _ = est_fini sigma;;\n",
    "let _ = est_fini la1;;\n",
    "let _ = est_fini la2;;"
   ]
  },
  {
   "cell_type": "markdown",
   "metadata": {},
   "source": [
    "## Exercice 15 : `pile_ou_face`"
   ]
  },
  {
   "cell_type": "code",
   "execution_count": 67,
   "metadata": {},
   "outputs": [
    {
     "data": {
      "text/plain": [
       "type piece = Pile | Face\n"
      ]
     },
     "execution_count": 67,
     "metadata": {},
     "output_type": "execute_result"
    },
    {
     "data": {
      "text/plain": [
       "- : unit = ()\n"
      ]
     },
     "execution_count": 67,
     "metadata": {},
     "output_type": "execute_result"
    },
    {
     "data": {
      "text/plain": [
       "val pile_ou_face : unit -> piece = <fun>\n"
      ]
     },
     "execution_count": 67,
     "metadata": {},
     "output_type": "execute_result"
    }
   ],
   "source": [
    "type piece = Pile | Face;;\n",
    "Random.self_init ();;\n",
    "\n",
    "let pile_ou_face () =\n",
    "    match Random.int 2 with\n",
    "    | 0 -> Pile\n",
    "    | 1 -> Face\n",
    "    | _ -> failwith \"impossible\"\n",
    ";;"
   ]
  },
  {
   "cell_type": "markdown",
   "metadata": {},
   "source": [
    "Par exemple :"
   ]
  },
  {
   "cell_type": "code",
   "execution_count": 72,
   "metadata": {},
   "outputs": [
    {
     "data": {
      "text/plain": [
       "- : piece array =\n",
       "[|Pile; Pile; Pile; Face; Pile; Pile; Face; Pile; Face; Face|]\n"
      ]
     },
     "execution_count": 72,
     "metadata": {},
     "output_type": "execute_result"
    }
   ],
   "source": [
    "let _ = Array.init 10 (fun _ -> pile_ou_face ());;"
   ]
  },
  {
   "cell_type": "markdown",
   "metadata": {},
   "source": [
    "## Exercice 16 : `mot_aleatoire`\n",
    "\n",
    "Ce n'est pas trop compliqué : l'aléatoire est utilisé dans une somme, pour choisir l'un ou l'autre des expressions avec probabilité $1/2$, et dans une étoile.\n",
    "\n",
    "A noter que le choix d'implémentation de l'aléatoire dans l'étoile donne une distribution sur la longueur qui est non triviale.\n",
    "Un bon exercice serait de trouver la distribution de la longueur d'un mot aléatoire généré par la fonction ci-dessous à partir de l'expression régulière $a^*$. (est-ce toujours 2 ? une variable aléatoire suivant une loi de Poisson de paramètre $\\lambda=1/2$ ? une loi exponentielle ?). Envoyez moi vos réponsez [par mail](http://perso.crans.org/besson/callme) (ou [ce formulaire](http://perso.crans.org/besson/contact/))."
   ]
  },
  {
   "cell_type": "code",
   "execution_count": 73,
   "metadata": {},
   "outputs": [
    {
     "data": {
      "text/plain": [
       "val mot_aleatoire : regexp -> lettre list = <fun>\n"
      ]
     },
     "execution_count": 73,
     "metadata": {},
     "output_type": "execute_result"
    }
   ],
   "source": [
    "let rec mot_aleatoire = function\n",
    "    | Vide -> failwith \"langage vide\"\n",
    "    | Epsilon -> []\n",
    "    | Lettre l -> [l]\n",
    "    | Somme (r1, r2) -> begin\n",
    "        match pile_ou_face() with\n",
    "        | Pile -> mot_aleatoire r1\n",
    "        | Face -> mot_aleatoire r2\n",
    "    end\n",
    "    | Concat (r1, r2) ->\n",
    "        let m1 = mot_aleatoire r1 in\n",
    "        let m2 = mot_aleatoire r2 in\n",
    "        m1 @ m2\n",
    "    | Etoile r -> begin\n",
    "        match pile_ou_face() with\n",
    "        | Pile -> []\n",
    "        | Face -> (mot_aleatoire r) @ (mot_aleatoire (Etoile r))\n",
    "    end\n",
    ";;"
   ]
  },
  {
   "cell_type": "code",
   "execution_count": 81,
   "metadata": {},
   "outputs": [
    {
     "data": {
      "text/plain": [
       "- : lettre list = [B; A; B]\n"
      ]
     },
     "execution_count": 81,
     "metadata": {},
     "output_type": "execute_result"
    },
    {
     "data": {
      "text/plain": [
       "- : lettre list = [A; B]\n"
      ]
     },
     "execution_count": 81,
     "metadata": {},
     "output_type": "execute_result"
    },
    {
     "data": {
      "text/plain": [
       "- : lettre list = [B; B; A; B]\n"
      ]
     },
     "execution_count": 81,
     "metadata": {},
     "output_type": "execute_result"
    }
   ],
   "source": [
    "let _ = mot_aleatoire la1;;\n",
    "let _ = mot_aleatoire la1;;\n",
    "let _ = mot_aleatoire la1;;"
   ]
  },
  {
   "cell_type": "code",
   "execution_count": 82,
   "metadata": {},
   "outputs": [
    {
     "data": {
      "text/plain": [
       "- : lettre list = [B; A]\n"
      ]
     },
     "execution_count": 82,
     "metadata": {},
     "output_type": "execute_result"
    },
    {
     "data": {
      "text/plain": [
       "- : lettre list = [B; A]\n"
      ]
     },
     "execution_count": 82,
     "metadata": {},
     "output_type": "execute_result"
    },
    {
     "data": {
      "text/plain": [
       "- : lettre list = [B; A; A]\n"
      ]
     },
     "execution_count": 82,
     "metadata": {},
     "output_type": "execute_result"
    }
   ],
   "source": [
    "let _ = mot_aleatoire la2;;\n",
    "let _ = mot_aleatoire la2;;\n",
    "let _ = mot_aleatoire la2;;"
   ]
  },
  {
   "cell_type": "code",
   "execution_count": 83,
   "metadata": {},
   "outputs": [
    {
     "data": {
      "text/plain": [
       "- : lettre list = [A; B; B; C; C; C; C; B]\n"
      ]
     },
     "execution_count": 83,
     "metadata": {},
     "output_type": "execute_result"
    },
    {
     "data": {
      "text/plain": [
       "- : lettre list = [C; C; B; A; C; A; C; B]\n"
      ]
     },
     "execution_count": 83,
     "metadata": {},
     "output_type": "execute_result"
    },
    {
     "data": {
      "text/plain": [
       "- : lettre list = [C; B; C; C; A; B; B; C; A]\n"
      ]
     },
     "execution_count": 83,
     "metadata": {},
     "output_type": "execute_result"
    }
   ],
   "source": [
    "let _ = mot_aleatoire au_moins7;;\n",
    "let _ = mot_aleatoire au_moins7;;\n",
    "let _ = mot_aleatoire au_moins7;;"
   ]
  },
  {
   "cell_type": "markdown",
   "metadata": {},
   "source": [
    "----\n",
    "# Calcul de $\\Sigma^k \\cap L(A)$"
   ]
  },
  {
   "cell_type": "markdown",
   "metadata": {},
   "source": [
    "## Exercice 17 : `produit_cartesien`"
   ]
  },
  {
   "cell_type": "code",
   "execution_count": 14,
   "metadata": {},
   "outputs": [
    {
     "data": {
      "text/plain": [
       "val produit_cartesien : ('a -> 'b -> 'c) -> 'a list -> 'b list -> 'c list =\n",
       "  <fun>\n"
      ]
     },
     "execution_count": 14,
     "metadata": {},
     "output_type": "execute_result"
    }
   ],
   "source": [
    "let produit_cartesien (prod : 'a -> 'b -> 'c) (a : 'a list) (b : 'b list) : 'c list =\n",
    "    let rec aux acc a =\n",
    "    match a with\n",
    "    | [] -> acc\n",
    "    | va :: qa -> aux ((List.map (fun vb -> prod va vb) b) @ acc) qa\n",
    "    in\n",
    "    List.rev (aux [] a)\n",
    ";;"
   ]
  },
  {
   "cell_type": "code",
   "execution_count": 15,
   "metadata": {},
   "outputs": [
    {
     "data": {
      "text/plain": [
       "- : (int * string) list =\n",
       "[(1, \"probleme\"); (1, \"pas\"); (1, \"ok\"); (2, \"probleme\"); (2, \"pas\");\n",
       " (2, \"ok\")]\n"
      ]
     },
     "execution_count": 15,
     "metadata": {},
     "output_type": "execute_result"
    }
   ],
   "source": [
    "produit_cartesien (fun a b -> (a, b)) [1; 2] [\"ok\"; \"pas\"; \"probleme\"];;"
   ]
  },
  {
   "cell_type": "markdown",
   "metadata": {},
   "source": [
    "## Liste de tous les mots de $\\Sigma^k$"
   ]
  },
  {
   "cell_type": "markdown",
   "metadata": {},
   "source": [
    "On peut commencer par construire $\\Sigma^k$ comme une expression régulière, mais ça ne sera pas suffisant :"
   ]
  },
  {
   "cell_type": "code",
   "execution_count": 89,
   "metadata": {},
   "outputs": [
    {
     "data": {
      "text/plain": [
       "val sigma_k : int -> regexp = <fun>\n"
      ]
     },
     "execution_count": 89,
     "metadata": {},
     "output_type": "execute_result"
    }
   ],
   "source": [
    "let rec sigma_k (k : int) : regexp =\n",
    "    match k with\n",
    "    | n when n < 1 -> Vide\n",
    "    | 1 -> sigma\n",
    "    | n -> Concat (sigma, sigma_k (n - 1))\n",
    ";;"
   ]
  },
  {
   "cell_type": "code",
   "execution_count": 94,
   "metadata": {},
   "outputs": [
    {
     "data": {
      "text/plain": [
       "- : string = \"(A + B + C) . (A + B + C) . (A + B + C) . (A + B + C)\"\n"
      ]
     },
     "execution_count": 94,
     "metadata": {},
     "output_type": "execute_result"
    }
   ],
   "source": [
    "regexp_to_string (sigma_k 4);;"
   ]
  },
  {
   "cell_type": "markdown",
   "metadata": {},
   "source": [
    "On a besoin de créer une liste de mots, tous les mots dans $\\Sigma^k$ (il y en a exactement $|\\Sigma|^k$, attention ça grandit vite !)"
   ]
  },
  {
   "cell_type": "code",
   "execution_count": 121,
   "metadata": {},
   "outputs": [
    {
     "data": {
      "text/plain": [
       "val alphabet : lettre list = [A; B; C]\n"
      ]
     },
     "execution_count": 121,
     "metadata": {},
     "output_type": "execute_result"
    },
    {
     "data": {
      "text/plain": [
       "val tous_mots_sigma_k : lettre list -> int -> mot list = <fun>\n"
      ]
     },
     "execution_count": 121,
     "metadata": {},
     "output_type": "execute_result"
    }
   ],
   "source": [
    "let alphabet = [A; B; C];; (* Sigma *)\n",
    "\n",
    "let rec tous_mots_sigma_k (alphabet : lettre list) (k : int) : mot list =\n",
    "    match k with\n",
    "    | k when k < 1 -> []\n",
    "    | 1 -> List.map (fun lettre -> [lettre]) alphabet\n",
    "    | k -> List.concat (\n",
    "        List.map (\n",
    "            fun lettre -> (\n",
    "                List.map (fun mot -> lettre :: mot)\n",
    "                (tous_mots_sigma_k alphabet (k - 1))\n",
    "            )\n",
    "        )\n",
    "        alphabet\n",
    "    )\n",
    ";;"
   ]
  },
  {
   "cell_type": "code",
   "execution_count": 122,
   "metadata": {},
   "outputs": [
    {
     "data": {
      "text/plain": [
       "- : mot list = []\n"
      ]
     },
     "execution_count": 122,
     "metadata": {},
     "output_type": "execute_result"
    },
    {
     "data": {
      "text/plain": [
       "- : mot list = [[A]; [B]; [C]]\n"
      ]
     },
     "execution_count": 122,
     "metadata": {},
     "output_type": "execute_result"
    },
    {
     "data": {
      "text/plain": [
       "- : mot list =\n",
       "[[A; A]; [A; B]; [A; C]; [B; A]; [B; B]; [B; C]; [C; A]; [C; B]; [C; C]]\n"
      ]
     },
     "execution_count": 122,
     "metadata": {},
     "output_type": "execute_result"
    },
    {
     "data": {
      "text/plain": [
       "- : mot list =\n",
       "[[A; A; A]; [A; A; B]; [A; A; C]; [A; B; A]; [A; B; B]; [A; B; C]; [A; C; A];\n",
       " [A; C; B]; [A; C; C]; [B; A; A]; [B; A; B]; [B; A; C]; [B; B; A]; [B; B; B];\n",
       " [B; B; C]; [B; C; A]; [B; C; B]; [B; C; C]; [C; A; A]; [C; A; B]; [C; A; C];\n",
       " [C; B; A]; [C; B; B]; [C; B; C]; [C; C; A]; [C; C; B]; [C; C; C]]\n"
      ]
     },
     "execution_count": 122,
     "metadata": {},
     "output_type": "execute_result"
    }
   ],
   "source": [
    "let _ = tous_mots_sigma_k alphabet 0;;\n",
    "let _ = tous_mots_sigma_k alphabet 1;;\n",
    "let _ = tous_mots_sigma_k alphabet 2;;\n",
    "let _ = tous_mots_sigma_k alphabet 3;;"
   ]
  },
  {
   "cell_type": "markdown",
   "metadata": {},
   "source": [
    "## Exercice 19 : `filtre`"
   ]
  },
  {
   "cell_type": "code",
   "execution_count": 96,
   "metadata": {},
   "outputs": [
    {
     "data": {
      "text/plain": [
       "val filtre : ('a -> bool) -> 'a list -> 'a list = <fun>\n"
      ]
     },
     "execution_count": 96,
     "metadata": {},
     "output_type": "execute_result"
    }
   ],
   "source": [
    "let rec filtre (pred : 'a -> bool) (l : 'a list) : 'a list =\n",
    "    match l with\n",
    "    | [] -> []\n",
    "    | h :: q when pred h -> h :: (filtre pred q)\n",
    "    | _ :: q -> filtre pred q\n",
    ";;"
   ]
  },
  {
   "cell_type": "code",
   "execution_count": 97,
   "metadata": {},
   "outputs": [
    {
     "data": {
      "text/plain": [
       "- : int list = [2; 4]\n"
      ]
     },
     "execution_count": 97,
     "metadata": {},
     "output_type": "execute_result"
    }
   ],
   "source": [
    "filtre (fun x -> x mod 2 = 0) [1; 2; 3; 4];;"
   ]
  },
  {
   "cell_type": "markdown",
   "metadata": {},
   "source": [
    "## Exercice 20\n",
    "C'est très facile en utilisant la fonction `lecture` comme un prédicat binaire :"
   ]
  },
  {
   "cell_type": "code",
   "execution_count": 98,
   "metadata": {},
   "outputs": [
    {
     "data": {
      "text/plain": [
       "- : afd -> mot -> bool = <fun>\n"
      ]
     },
     "execution_count": 98,
     "metadata": {},
     "output_type": "execute_result"
    }
   ],
   "source": [
    "lecture;;"
   ]
  },
  {
   "cell_type": "code",
   "execution_count": 124,
   "metadata": {},
   "outputs": [
    {
     "data": {
      "text/plain": [
       "val sigmak_inter_LA : int -> afd -> mot list = <fun>\n"
      ]
     },
     "execution_count": 124,
     "metadata": {},
     "output_type": "execute_result"
    }
   ],
   "source": [
    "let sigmak_inter_LA (k : int) (a : afd) : mot list =\n",
    "    let s_k = tous_mots_sigma_k alphabet k in\n",
    "    filtre (fun mot -> lecture a mot) s_k\n",
    ";;"
   ]
  },
  {
   "cell_type": "markdown",
   "metadata": {},
   "source": [
    "Exemples pour les deux automates du début tels que $L(A)$ soient $\\Sigma^* b a$ et $a b \\Sigma^*$.\n",
    "Il y a $|\\Sigma|^2 = 3^2 = 9$ mots dans les deux cas."
   ]
  },
  {
   "cell_type": "code",
   "execution_count": 126,
   "metadata": {},
   "outputs": [
    {
     "data": {
      "text/plain": [
       "- : mot list =\n",
       "[[A; A; B; A]; [A; B; B; A]; [A; C; B; A]; [B; A; B; A]; [B; B; B; A];\n",
       " [B; C; B; A]; [C; A; B; A]; [C; B; B; A]; [C; C; B; A]]\n"
      ]
     },
     "execution_count": 126,
     "metadata": {},
     "output_type": "execute_result"
    },
    {
     "data": {
      "text/plain": [
       "- : mot list =\n",
       "[[A; B; A; A]; [A; B; A; B]; [A; B; A; C]; [A; B; B; A]; [A; B; B; B];\n",
       " [A; B; B; C]; [A; B; C; A]; [A; B; C; B]; [A; B; C; C]]\n"
      ]
     },
     "execution_count": 126,
     "metadata": {},
     "output_type": "execute_result"
    }
   ],
   "source": [
    "let _ = sigmak_inter_LA 4 fin_ba;;\n",
    "\n",
    "let _ = sigmak_inter_LA 4 debut_ab;;"
   ]
  },
  {
   "cell_type": "markdown",
   "metadata": {},
   "source": [
    "# Automate produit\n",
    "C'est plus dur mais assez guidé."
   ]
  },
  {
   "cell_type": "markdown",
   "metadata": {},
   "source": [
    "## Exercice 21 : `bijection`"
   ]
  },
  {
   "cell_type": "code",
   "execution_count": 8,
   "metadata": {},
   "outputs": [
    {
     "data": {
      "text/plain": [
       "type f_intint_int = int * int -> int\n"
      ]
     },
     "execution_count": 8,
     "metadata": {},
     "output_type": "execute_result"
    },
    {
     "data": {
      "text/plain": [
       "type f_int_intint = int -> int * int\n"
      ]
     },
     "execution_count": 8,
     "metadata": {},
     "output_type": "execute_result"
    }
   ],
   "source": [
    "type f_intint_int = (int * int -> int);;\n",
    "type f_int_intint = (int -> int * int);;"
   ]
  },
  {
   "cell_type": "code",
   "execution_count": 9,
   "metadata": {},
   "outputs": [
    {
     "name": "stderr",
     "output_type": "stream",
     "text": [
      "File \"[9]\", line 1, characters 15-16:\n",
      "Warning 27: unused variable p.\n"
     ]
    },
    {
     "data": {
      "text/plain": [
       "val bijection : int -> int -> f_intint_int * f_int_intint = <fun>\n"
      ]
     },
     "execution_count": 9,
     "metadata": {},
     "output_type": "execute_result"
    }
   ],
   "source": [
    "let bijection (p : int) (q : int) : f_intint_int * f_int_intint =\n",
    "    let f (n, m) = m + n * q in\n",
    "    let finv x =\n",
    "        let m = x mod q and n = x / q in\n",
    "        assert ((f (n, m)) = x);\n",
    "        (n, m);\n",
    "    in\n",
    "    f, finv\n",
    ";;"
   ]
  },
  {
   "cell_type": "markdown",
   "metadata": {},
   "source": [
    "Il faut absolument la tester, au moins vérifier que $f^{-1}(f(n, m)) = (n, m)$ et $f(f^{-1}(x)) = x$ pour tout $n,m \\in [0,p-1] \\times [0,q-1]$ et $x \\in [0, pq-1]$."
   ]
  },
  {
   "cell_type": "code",
   "execution_count": 10,
   "metadata": {
    "scrolled": false
   },
   "outputs": [
    {
     "data": {
      "text/plain": [
       "val p : int = 2\n",
       "val q : int = 4\n"
      ]
     },
     "execution_count": 10,
     "metadata": {},
     "output_type": "execute_result"
    },
    {
     "data": {
      "text/plain": [
       "val f : f_intint_int = <fun>\n",
       "val finv : f_int_intint = <fun>\n"
      ]
     },
     "execution_count": 10,
     "metadata": {},
     "output_type": "execute_result"
    },
    {
     "name": "stdout",
     "output_type": "stream",
     "text": [
      "\n",
      "0, 0 -> 0\n",
      "0, 1 -> 1\n",
      "0, 2 -> 2\n",
      "0, 3 -> 3\n",
      "1, 0 -> 4\n",
      "1, 1 -> 5\n",
      "1, 2 -> 6\n"
     ]
    },
    {
     "data": {
      "text/plain": [
       "- : unit = ()\n"
      ]
     },
     "execution_count": 10,
     "metadata": {},
     "output_type": "execute_result"
    },
    {
     "name": "stdout",
     "output_type": "stream",
     "text": [
      "1, 3 -> 7\n",
      "0 -> 0, 0\n",
      "1 -> 0, 1\n",
      "2 -> 0, 2\n",
      "3 -> 0, 3\n",
      "4 -> 1, 0\n",
      "5 -> 1, 1\n"
     ]
    },
    {
     "data": {
      "text/plain": [
       "- : unit = ()\n"
      ]
     },
     "execution_count": 10,
     "metadata": {},
     "output_type": "execute_result"
    }
   ],
   "source": [
    "let p = 2 and q = 4;;\n",
    "let f, finv = bijection 2 4;;\n",
    "\n",
    "for n = 0 to p - 1 do\n",
    "    flush_all();\n",
    "    for m = 0 to q - 1 do\n",
    "        Printf.printf \"\\n%i, %i -> %i\" n m (f (n, m)); \n",
    "        assert ((n, m) = finv (f (n, m)));\n",
    "    done;\n",
    "    flush_all();\n",
    "done;;\n",
    "\n",
    "for x = 0 to p*q - 1 do\n",
    "    flush_all();\n",
    "    let n, m = finv x in\n",
    "    Printf.printf \"\\n%i -> %i, %i\" x n m ; \n",
    "    assert (x = f (finv x));\n",
    "done;;"
   ]
  },
  {
   "cell_type": "markdown",
   "metadata": {},
   "source": [
    "## Exercice 22"
   ]
  },
  {
   "cell_type": "markdown",
   "metadata": {},
   "source": [
    "On utilise `produit_cartesien` pour les états finaux, une simple paire pour l'état initial, et un peu de calcul pour les transitions.\n",
    "L'idée est d'utiliser cette bijection $f$ pour coder les paires comme des entiers simples (et donc produire un automate représenté par un `afd`)."
   ]
  },
  {
   "cell_type": "code",
   "execution_count": 18,
   "metadata": {},
   "outputs": [
    {
     "data": {
      "text/plain": [
       "val alphabet : lettre list = [A; B; C]\n"
      ]
     },
     "execution_count": 18,
     "metadata": {},
     "output_type": "execute_result"
    },
    {
     "data": {
      "text/plain": [
       "val automate_produit : afd -> afd -> afd = <fun>\n"
      ]
     },
     "execution_count": 18,
     "metadata": {},
     "output_type": "execute_result"
    }
   ],
   "source": [
    "let alphabet = [A; B; C];;\n",
    "\n",
    "let automate_produit (a1 : afd) (a2 : afd) =\n",
    "    let p, i1, f1, d1 = a1.taille, a1.initial, a1.finals, a1.transition in\n",
    "    let q, i2, f2, d2 = a2.taille, a2.initial, a2.finals, a2.transition in\n",
    "    (* les bijections *)\n",
    "    let taille = p * q in\n",
    "    let f, finv = bijection p q in\n",
    "    (* état initial *)\n",
    "    let initial = f (i1, i2) in\n",
    "    (* peut contenir des doublons, pas grave *)\n",
    "    let finals = List.map f (produit_cartesien (fun x y -> (x, y)) f1 f2) in\n",
    "    (* et moins trivial pour les transitions *)\n",
    "    let transition = Array.init taille (fun ij -> (* pour l'état (i, j) *)\n",
    "        let i, j = finv ij in\n",
    "        (* d1.(i) est une liste de (lettre, etat) = (a, q1) pour i --a-> q1 *)\n",
    "        let transition_i_1 = d1.(i) in\n",
    "        (* d2.(j) est une liste de (lettre, etat) = (b, q2) pour j --b-> q2 *)\n",
    "        let transition_j_2 = d2.(j) in\n",
    "        (* on doit trouver les transitions avec la meme lettre et produire i --a-> f q1 q2 *)\n",
    "        List.concat (\n",
    "            List.map (fun lettre ->\n",
    "                (* pour cette lettre on cherche la transition jointe qui convient, si elle existe *)\n",
    "                if (List.mem_assoc lettre transition_i_1) && (List.mem_assoc lettre transition_j_2) then\n",
    "                begin\n",
    "                    let q1 = List.assoc lettre transition_i_1 in\n",
    "                    let q2 = List.assoc lettre transition_j_2 in\n",
    "                    [(lettre, f(q1, q2))]\n",
    "                end else []\n",
    "            )\n",
    "        alphabet)\n",
    "    ) in\n",
    "    { taille; initial; finals; transition }\n",
    ";;"
   ]
  },
  {
   "cell_type": "markdown",
   "metadata": {},
   "source": [
    "Exemple :"
   ]
  },
  {
   "cell_type": "code",
   "execution_count": 11,
   "metadata": {},
   "outputs": [
    {
     "data": {
      "text/plain": [
       "- : afd =\n",
       "{taille = 3; initial = 0; finals = [2];\n",
       " transition = [|[(A, 1)]; [(B, 2)]; [(A, 2); (B, 2); (C, 2)]|]}\n"
      ]
     },
     "execution_count": 11,
     "metadata": {},
     "output_type": "execute_result"
    },
    {
     "data": {
      "text/plain": [
       "- : afd =\n",
       "{taille = 3; initial = 0; finals = [2];\n",
       " transition =\n",
       "  [|[(A, 0); (B, 1); (C, 0)]; [(A, 2); (B, 1); (C, 0)];\n",
       "    [(A, 0); (B, 1); (C, 0)]|]}\n"
      ]
     },
     "execution_count": 11,
     "metadata": {},
     "output_type": "execute_result"
    }
   ],
   "source": [
    "debut_ab;;\n",
    "fin_ba;;"
   ]
  },
  {
   "cell_type": "code",
   "execution_count": 20,
   "metadata": {},
   "outputs": [
    {
     "data": {
      "text/plain": [
       "val test_produit : afd =\n",
       "  {taille = 9; initial = 0; finals = [8];\n",
       "   transition =\n",
       "    [|[(A, 3)]; [(A, 5)]; [(A, 3)]; [(B, 7)]; [(B, 7)]; [(B, 7)];\n",
       "      [(A, 6); (B, 7); (C, 6)]; [(A, 8); (B, 7); (C, 6)];\n",
       "      [(A, 6); (B, 7); (C, 6)]|]}\n"
      ]
     },
     "execution_count": 20,
     "metadata": {},
     "output_type": "execute_result"
    }
   ],
   "source": [
    "let test_produit = automate_produit debut_ab fin_ba;;"
   ]
  },
  {
   "cell_type": "code",
   "execution_count": 21,
   "metadata": {},
   "outputs": [
    {
     "data": {
      "text/plain": [
       "- : unit = ()\n"
      ]
     },
     "execution_count": 21,
     "metadata": {},
     "output_type": "execute_result"
    },
    {
     "name": "stdout",
     "output_type": "stream",
     "text": [
      "6 -> 1, 2-rw-rw-r-- 1 lilian lilian 322 oct.  10 19:05 afd__test_produit.dot\n"
     ]
    },
    {
     "data": {
      "text/plain": [
       "- : int = 0\n"
      ]
     },
     "execution_count": 21,
     "metadata": {},
     "output_type": "execute_result"
    },
    {
     "name": "stdout",
     "output_type": "stream",
     "text": [
      "digraph g {\n",
      "  node [shape=circle];\n",
      "  0 -> 3 [label=A]\n",
      "  1 -> 5 [label=A]\n",
      "  2 -> 3 [label=A]\n",
      "  3 -> 7 [label=B]\n",
      "  4 -> 7 [label=B]\n",
      "  5 -> 7 [label=B]\n",
      "  6 -> 6 [label=A]\n",
      "  6 -> 7 [label=B]\n",
      "  6 -> 6 [label=C]\n",
      "  7 -> 8 [label=A]\n",
      "  7 -> 7 [label=B]\n",
      "  7 -> 6 [label=C]\n",
      "  8 -> 6 [label=A]\n",
      "  8 -> 7 [label=B]\n",
      "  8 -> 6 [label=C]\n",
      "}\n"
     ]
    },
    {
     "data": {
      "text/plain": [
       "- : int = 0\n"
      ]
     },
     "execution_count": 21,
     "metadata": {},
     "output_type": "execute_result"
    }
   ],
   "source": [
    "dot \"afd__test_produit.dot\" test_produit;;\n",
    "Sys.command \"ls -larth afd__test_produit.dot\";;\n",
    "Sys.command \"cat afd__test_produit.dot\";;"
   ]
  },
  {
   "cell_type": "code",
   "execution_count": 22,
   "metadata": {},
   "outputs": [
    {
     "data": {
      "text/plain": [
       "- : int = 0\n"
      ]
     },
     "execution_count": 22,
     "metadata": {},
     "output_type": "execute_result"
    },
    {
     "name": "stdout",
     "output_type": "stream",
     "text": [
      "-rw-rw-r-- 1 lilian lilian 8,8K oct.  10 19:05 afd__test_produit.svg\n"
     ]
    },
    {
     "data": {
      "text/plain": [
       "- : int = 0\n"
      ]
     },
     "execution_count": 22,
     "metadata": {},
     "output_type": "execute_result"
    }
   ],
   "source": [
    "Sys.command \"dot -Tsvg -o afd__test_produit.svg afd__test_produit.dot\";;\n",
    "Sys.command \"ls -larth afd__test_produit.svg\";;"
   ]
  },
  {
   "cell_type": "markdown",
   "metadata": {},
   "source": [
    "![Automate Fini Déterministe - automate produit](afd__test_produit.svg)"
   ]
  },
  {
   "cell_type": "markdown",
   "metadata": {},
   "source": [
    "On peut vérifier qu'en partant de l'état $0$, on doit lire $A$ puis $B$, et ensuite on lit ce qu'on veut, puis on termine par $B$ puis $A$.\n",
    "\n",
    "L'automate produit reconnait l'intersection des deux langages, donc $L(A \\times B) = L(A) \\cap L(B) = AB \\Sigma^* \\cap \\Sigma^* BA = AB \\Sigma^* BA$."
   ]
  },
  {
   "cell_type": "markdown",
   "metadata": {},
   "source": [
    "----\n",
    "# Conclusion\n",
    "\n",
    "Fin. À la séance prochaine. Le TP5 traitera de lambda calcul (en février)."
   ]
  }
 ],
 "metadata": {
  "kernelspec": {
   "display_name": "OCaml 4.04.2",
   "language": "OCaml",
   "name": "ocaml-jupyter"
  },
  "language_info": {
   "codemirror_mode": "text/x-ocaml",
   "file_extension": ".ml",
   "mimetype": "text/x-ocaml",
   "name": "OCaml",
   "nbconverter_exporter": null,
   "pygments_lexer": "OCaml",
   "version": "4.04.2"
  },
  "toc": {
   "colors": {
    "hover_highlight": "#DAA520",
    "running_highlight": "#FF0000",
    "selected_highlight": "#FFD700"
   },
   "moveMenuLeft": true,
   "nav_menu": {
    "height": "511px",
    "width": "251px"
   },
   "navigate_menu": true,
   "number_sections": true,
   "sideBar": true,
   "threshold": 4,
   "toc_cell": true,
   "toc_section_display": "block",
   "toc_window_display": false
  }
 },
 "nbformat": 4,
 "nbformat_minor": 2
}
