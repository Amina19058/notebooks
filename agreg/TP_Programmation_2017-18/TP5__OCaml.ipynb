{
 "cells": [
  {
   "cell_type": "markdown",
   "metadata": {
    "toc": "true"
   },
   "source": [
    "# Table of Contents\n",
    " <p><div class=\"lev1 toc-item\"><a href=\"#TP-5---Programmation-pour-la-préparation-à-l'agrégation-maths-option-info\" data-toc-modified-id=\"TP-5---Programmation-pour-la-préparation-à-l'agrégation-maths-option-info-1\"><span class=\"toc-item-num\">1&nbsp;&nbsp;</span>TP 5 - Programmation pour la préparation à l'agrégation maths option info</a></div><div class=\"lev1 toc-item\"><a href=\"#Représentation\" data-toc-modified-id=\"Représentation-2\"><span class=\"toc-item-num\">2&nbsp;&nbsp;</span>Représentation</a></div><div class=\"lev2 toc-item\"><a href=\"#Trois-représentations\" data-toc-modified-id=\"Trois-représentations-21\"><span class=\"toc-item-num\">2.1&nbsp;&nbsp;</span>Trois représentations</a></div><div class=\"lev3 toc-item\"><a href=\"#Matrice-d'adjacence\" data-toc-modified-id=\"Matrice-d'adjacence-211\"><span class=\"toc-item-num\">2.1.1&nbsp;&nbsp;</span>Matrice d'adjacence</a></div><div class=\"lev3 toc-item\"><a href=\"#Listes-d'adjancence\" data-toc-modified-id=\"Listes-d'adjancence-212\"><span class=\"toc-item-num\">2.1.2&nbsp;&nbsp;</span>Listes d'adjancence</a></div><div class=\"lev3 toc-item\"><a href=\"#Listes-d'arêtes\" data-toc-modified-id=\"Listes-d'arêtes-213\"><span class=\"toc-item-num\">2.1.3&nbsp;&nbsp;</span>Listes d'arêtes</a></div><div class=\"lev2 toc-item\"><a href=\"#Nombres-de-sommets-et-d'arcs\" data-toc-modified-id=\"Nombres-de-sommets-et-d'arcs-22\"><span class=\"toc-item-num\">2.2&nbsp;&nbsp;</span>Nombres de sommets et d'arcs</a></div><div class=\"lev3 toc-item\"><a href=\"#Matrice-d'adjacence\" data-toc-modified-id=\"Matrice-d'adjacence-221\"><span class=\"toc-item-num\">2.2.1&nbsp;&nbsp;</span>Matrice d'adjacence</a></div><div class=\"lev3 toc-item\"><a href=\"#Listes-d'adjacence\" data-toc-modified-id=\"Listes-d'adjacence-222\"><span class=\"toc-item-num\">2.2.2&nbsp;&nbsp;</span>Listes d'adjacence</a></div><div class=\"lev3 toc-item\"><a href=\"#Listes-d'arêtes\" data-toc-modified-id=\"Listes-d'arêtes-223\"><span class=\"toc-item-num\">2.2.3&nbsp;&nbsp;</span>Listes d'arêtes</a></div><div class=\"lev2 toc-item\"><a href=\"#Graphes-pondérés\" data-toc-modified-id=\"Graphes-pondérés-23\"><span class=\"toc-item-num\">2.3&nbsp;&nbsp;</span>Graphes pondérés</a></div><div class=\"lev3 toc-item\"><a href=\"#Matrice-d'adjacence\" data-toc-modified-id=\"Matrice-d'adjacence-231\"><span class=\"toc-item-num\">2.3.1&nbsp;&nbsp;</span>Matrice d'adjacence</a></div><div class=\"lev3 toc-item\"><a href=\"#Listes-d'adjacence\" data-toc-modified-id=\"Listes-d'adjacence-232\"><span class=\"toc-item-num\">2.3.2&nbsp;&nbsp;</span>Listes d'adjacence</a></div><div class=\"lev3 toc-item\"><a href=\"#Listes-d'arêtes\" data-toc-modified-id=\"Listes-d'arêtes-233\"><span class=\"toc-item-num\">2.3.3&nbsp;&nbsp;</span>Listes d'arêtes</a></div><div class=\"lev2 toc-item\"><a href=\"#Graphes-colorés\" data-toc-modified-id=\"Graphes-colorés-24\"><span class=\"toc-item-num\">2.4&nbsp;&nbsp;</span>Graphes colorés</a></div><div class=\"lev3 toc-item\"><a href=\"#Matrice-d'adjacence\" data-toc-modified-id=\"Matrice-d'adjacence-241\"><span class=\"toc-item-num\">2.4.1&nbsp;&nbsp;</span>Matrice d'adjacence</a></div><div class=\"lev3 toc-item\"><a href=\"#Listes-d'adjacence\" data-toc-modified-id=\"Listes-d'adjacence-242\"><span class=\"toc-item-num\">2.4.2&nbsp;&nbsp;</span>Listes d'adjacence</a></div><div class=\"lev3 toc-item\"><a href=\"#Listes-d'arêtes\" data-toc-modified-id=\"Listes-d'arêtes-243\"><span class=\"toc-item-num\">2.4.3&nbsp;&nbsp;</span>Listes d'arêtes</a></div><div class=\"lev2 toc-item\"><a href=\"#Degrés\" data-toc-modified-id=\"Degrés-25\"><span class=\"toc-item-num\">2.5&nbsp;&nbsp;</span>Degrés</a></div><div class=\"lev3 toc-item\"><a href=\"#Matrice-d'adjacence\" data-toc-modified-id=\"Matrice-d'adjacence-251\"><span class=\"toc-item-num\">2.5.1&nbsp;&nbsp;</span>Matrice d'adjacence</a></div><div class=\"lev3 toc-item\"><a href=\"#Listes-d'adjacence\" data-toc-modified-id=\"Listes-d'adjacence-252\"><span class=\"toc-item-num\">2.5.2&nbsp;&nbsp;</span>Listes d'adjacence</a></div><div class=\"lev3 toc-item\"><a href=\"#Listes-d'arêtes\" data-toc-modified-id=\"Listes-d'arêtes-253\"><span class=\"toc-item-num\">2.5.3&nbsp;&nbsp;</span>Listes d'arêtes</a></div><div class=\"lev1 toc-item\"><a href=\"#Parcours-de-graphes\" data-toc-modified-id=\"Parcours-de-graphes-3\"><span class=\"toc-item-num\">3&nbsp;&nbsp;</span>Parcours de graphes</a></div><div class=\"lev1 toc-item\"><a href=\"#Cycles-eulériens\" data-toc-modified-id=\"Cycles-eulériens-4\"><span class=\"toc-item-num\">4&nbsp;&nbsp;</span>Cycles eulériens</a></div><div class=\"lev1 toc-item\"><a href=\"#Conclusion\" data-toc-modified-id=\"Conclusion-5\"><span class=\"toc-item-num\">5&nbsp;&nbsp;</span>Conclusion</a></div>"
   ]
  },
  {
   "cell_type": "markdown",
   "metadata": {},
   "source": [
    "# TP 5 - Programmation pour la préparation à l'agrégation maths option info\n",
    "TP 5 : Graphes."
   ]
  },
  {
   "cell_type": "markdown",
   "metadata": {},
   "source": [
    "- En OCaml."
   ]
  },
  {
   "cell_type": "code",
   "execution_count": 1,
   "metadata": {},
   "outputs": [
    {
     "data": {
      "text/plain": [
       "val print : ('a, out_channel, unit) format -> 'a = <fun>\n"
      ]
     },
     "execution_count": 1,
     "metadata": {},
     "output_type": "execute_result"
    },
    {
     "name": "stdout",
     "output_type": "stream",
     "text": [
      "The OCaml toplevel, version 4.04.2\n"
     ]
    },
    {
     "data": {
      "text/plain": [
       "- : int = 0\n"
      ]
     },
     "execution_count": 1,
     "metadata": {},
     "output_type": "execute_result"
    }
   ],
   "source": [
    "let print = Printf.printf;;\n",
    "Sys.command \"ocaml -version\";;"
   ]
  },
  {
   "cell_type": "markdown",
   "metadata": {},
   "source": [
    "----\n",
    "# Représentation"
   ]
  },
  {
   "cell_type": "markdown",
   "metadata": {},
   "source": [
    "On prend un petit exemple de graphe avec lequel on va travailler, pour vérifier que chaque représentation permet bien de le représenter.\n",
    "\n",
    "Graphe :\n",
    "\n",
    "    0 - 1\n",
    "    0 - 2\n",
    "\n",
    "![TP5__exemple_graphe.svg](TP5__exemple_graphe.svg)"
   ]
  },
  {
   "cell_type": "markdown",
   "metadata": {},
   "source": [
    "## Trois représentations"
   ]
  },
  {
   "cell_type": "code",
   "execution_count": 4,
   "metadata": {},
   "outputs": [
    {
     "data": {
      "text/plain": [
       "type sommet = int\n"
      ]
     },
     "execution_count": 4,
     "metadata": {},
     "output_type": "execute_result"
    }
   ],
   "source": [
    "type sommet = int;;"
   ]
  },
  {
   "cell_type": "markdown",
   "metadata": {},
   "source": [
    "On supposera que les sommets sont toujours numérotés de $0$ à $n-1$."
   ]
  },
  {
   "cell_type": "markdown",
   "metadata": {},
   "source": [
    "Pour des graphes non orientés, on doit stocker deux fois chaque arête : $a \\to b$ et $b \\to a$."
   ]
  },
  {
   "cell_type": "markdown",
   "metadata": {},
   "source": [
    "### Matrice d'adjacence"
   ]
  },
  {
   "cell_type": "markdown",
   "metadata": {},
   "source": [
    "Plutôt que d'utiliser des `bool`, on utilise `0` et `1` pour facilement compter le nombre d'arêtes en sommant le nombre de `1`.\n",
    "(en plus, ça s'écrit plus vite !)"
   ]
  },
  {
   "cell_type": "code",
   "execution_count": 47,
   "metadata": {
    "scrolled": true
   },
   "outputs": [
    {
     "data": {
      "text/plain": [
       "type graphe_mat = int array array\n"
      ]
     },
     "execution_count": 47,
     "metadata": {},
     "output_type": "execute_result"
    }
   ],
   "source": [
    "type graphe_mat = int array array;;"
   ]
  },
  {
   "cell_type": "code",
   "execution_count": 48,
   "metadata": {},
   "outputs": [
    {
     "data": {
      "text/plain": [
       "val g1__mat : graphe_mat = [|[|0; 1; 1|]; [|1; 0; 0|]; [|1; 0; 0|]|]\n"
      ]
     },
     "execution_count": 48,
     "metadata": {},
     "output_type": "execute_result"
    }
   ],
   "source": [
    "let g1__mat : graphe_mat = [|\n",
    "        [| 0; 1; 1 |];  (* 0 -- 1 et 0 -- 2 *)\n",
    "        [| 1; 0; 0 |];  (* 1 -- 0 *)\n",
    "        [| 1; 0; 0 |]   (* 2 -- 0 *)\n",
    "    |]\n",
    ";;"
   ]
  },
  {
   "cell_type": "markdown",
   "metadata": {},
   "source": [
    "### Listes d'adjancence"
   ]
  },
  {
   "cell_type": "code",
   "execution_count": 9,
   "metadata": {},
   "outputs": [
    {
     "data": {
      "text/plain": [
       "type graphe_adj = sommet list list\n"
      ]
     },
     "execution_count": 9,
     "metadata": {},
     "output_type": "execute_result"
    }
   ],
   "source": [
    "type graphe_adj = (sommet list) list;;"
   ]
  },
  {
   "cell_type": "code",
   "execution_count": 17,
   "metadata": {},
   "outputs": [
    {
     "data": {
      "text/plain": [
       "val g1__adj : graphe_adj = [[1; 2]; [0]; [0]]\n"
      ]
     },
     "execution_count": 17,
     "metadata": {},
     "output_type": "execute_result"
    }
   ],
   "source": [
    "let g1__adj : graphe_adj = [\n",
    "    [1; 2]; (* 0 -- 1 et 0 -- 2 *)\n",
    "    [0]; (* 1 -- 0 *)\n",
    "    [0]  (* 2 -- 0 *)\n",
    "];;"
   ]
  },
  {
   "cell_type": "markdown",
   "metadata": {},
   "source": [
    "### Listes d'arêtes"
   ]
  },
  {
   "cell_type": "code",
   "execution_count": 18,
   "metadata": {},
   "outputs": [
    {
     "data": {
      "text/plain": [
       "type arete = sommet * sommet\n"
      ]
     },
     "execution_count": 18,
     "metadata": {},
     "output_type": "execute_result"
    },
    {
     "data": {
      "text/plain": [
       "type graphe_art = arete list\n"
      ]
     },
     "execution_count": 18,
     "metadata": {},
     "output_type": "execute_result"
    }
   ],
   "source": [
    "type arete = sommet * sommet;;\n",
    "type graphe_art = arete list;;"
   ]
  },
  {
   "cell_type": "code",
   "execution_count": 34,
   "metadata": {},
   "outputs": [
    {
     "data": {
      "text/plain": [
       "val g1__art : graphe_art = [(0, 1); (0, 2); (1, 0); (2, 0)]\n"
      ]
     },
     "execution_count": 34,
     "metadata": {},
     "output_type": "execute_result"
    }
   ],
   "source": [
    "let g1__art : graphe_art = [\n",
    "    (0, 1); (0, 2); (* 0 -- 1 et 0 -- 2 *)\n",
    "    (1, 0); (* 1 -- 0 *)\n",
    "    (2, 0)  (* 2 -- 0 *)\n",
    "];;"
   ]
  },
  {
   "cell_type": "markdown",
   "metadata": {},
   "source": [
    "## Nombres de sommets et d'arcs"
   ]
  },
  {
   "cell_type": "markdown",
   "metadata": {},
   "source": [
    "### Matrice d'adjacence"
   ]
  },
  {
   "cell_type": "markdown",
   "metadata": {},
   "source": [
    "Pour `graphe_mat`, `nb_sommets` est en $\\mathcal{O}(1)$ et `nb_arcs` est en $\\mathcal{O}(n^2)$."
   ]
  },
  {
   "cell_type": "code",
   "execution_count": 37,
   "metadata": {},
   "outputs": [
    {
     "data": {
      "text/plain": [
       "val somme_tableau : int array -> int = <fun>\n"
      ]
     },
     "execution_count": 37,
     "metadata": {},
     "output_type": "execute_result"
    },
    {
     "data": {
      "text/plain": [
       "val somme_matrice : int array array -> int = <fun>\n"
      ]
     },
     "execution_count": 37,
     "metadata": {},
     "output_type": "execute_result"
    }
   ],
   "source": [
    "let somme_tableau = Array.fold_left (+) 0;;\n",
    "let somme_matrice = Array.fold_left (fun x a -> x + (somme_tableau a)) 0;;"
   ]
  },
  {
   "cell_type": "code",
   "execution_count": 38,
   "metadata": {
    "scrolled": true
   },
   "outputs": [
    {
     "data": {
      "text/plain": [
       "val nb_sommets__mat : graphe_mat -> int = <fun>\n"
      ]
     },
     "execution_count": 38,
     "metadata": {},
     "output_type": "execute_result"
    },
    {
     "data": {
      "text/plain": [
       "- : int = 3\n"
      ]
     },
     "execution_count": 38,
     "metadata": {},
     "output_type": "execute_result"
    },
    {
     "data": {
      "text/plain": [
       "val nb_arcs__mat : graphe_mat -> int = <fun>\n"
      ]
     },
     "execution_count": 38,
     "metadata": {},
     "output_type": "execute_result"
    },
    {
     "data": {
      "text/plain": [
       "- : int = 2\n"
      ]
     },
     "execution_count": 38,
     "metadata": {},
     "output_type": "execute_result"
    }
   ],
   "source": [
    "let nb_sommets__mat (g : graphe_mat) : int = Array.length g ;;\n",
    "nb_sommets__mat g1__mat;;\n",
    "\n",
    "let nb_arcs__mat (g : graphe_mat) : int = (somme_matrice g) / 2 ;;\n",
    "nb_arcs__mat g1__mat;;"
   ]
  },
  {
   "cell_type": "markdown",
   "metadata": {},
   "source": [
    "### Listes d'adjacence"
   ]
  },
  {
   "cell_type": "markdown",
   "metadata": {},
   "source": [
    "Pour `graphe_adj`, `nb_sommets` est en $\\mathcal{O}(1)$ et `nb_arcs` est en $\\mathcal{O}(n)$."
   ]
  },
  {
   "cell_type": "code",
   "execution_count": 39,
   "metadata": {},
   "outputs": [
    {
     "data": {
      "text/plain": [
       "val somme_list : int list -> int = <fun>\n"
      ]
     },
     "execution_count": 39,
     "metadata": {},
     "output_type": "execute_result"
    }
   ],
   "source": [
    "let somme_list = List.fold_left (+) 0;;"
   ]
  },
  {
   "cell_type": "code",
   "execution_count": 41,
   "metadata": {},
   "outputs": [
    {
     "data": {
      "text/plain": [
       "val nb_sommets__adj : graphe_adj -> int = <fun>\n"
      ]
     },
     "execution_count": 41,
     "metadata": {},
     "output_type": "execute_result"
    },
    {
     "data": {
      "text/plain": [
       "- : int = 3\n"
      ]
     },
     "execution_count": 41,
     "metadata": {},
     "output_type": "execute_result"
    },
    {
     "data": {
      "text/plain": [
       "val nb_arcs__adj : graphe_adj -> int = <fun>\n"
      ]
     },
     "execution_count": 41,
     "metadata": {},
     "output_type": "execute_result"
    },
    {
     "data": {
      "text/plain": [
       "- : int = 2\n"
      ]
     },
     "execution_count": 41,
     "metadata": {},
     "output_type": "execute_result"
    }
   ],
   "source": [
    "let nb_sommets__adj (g : graphe_adj) : int = List.length g ;;\n",
    "nb_sommets__adj g1__adj;;\n",
    "\n",
    "\n",
    "let nb_arcs__adj (g : graphe_adj) : int = (somme_list (List.map List.length g)) / 2 ;;\n",
    "nb_arcs__adj g1__adj;;"
   ]
  },
  {
   "cell_type": "markdown",
   "metadata": {},
   "source": [
    "### Listes d'arêtes"
   ]
  },
  {
   "cell_type": "markdown",
   "metadata": {},
   "source": [
    "Pour `graphe_art`, `nb_sommets` est en $\\mathcal{O}(n)$ et `nb_arcs` est en $\\mathcal{O}(1)$."
   ]
  },
  {
   "cell_type": "code",
   "execution_count": 44,
   "metadata": {},
   "outputs": [
    {
     "data": {
      "text/plain": [
       "val max_list : int list -> int = <fun>\n"
      ]
     },
     "execution_count": 44,
     "metadata": {},
     "output_type": "execute_result"
    },
    {
     "data": {
      "text/plain": [
       "- : int = 19\n"
      ]
     },
     "execution_count": 44,
     "metadata": {},
     "output_type": "execute_result"
    }
   ],
   "source": [
    "let max_list = List.fold_left max min_int;;\n",
    "max_list [1; 3; 4; 19];;"
   ]
  },
  {
   "cell_type": "code",
   "execution_count": 45,
   "metadata": {},
   "outputs": [
    {
     "data": {
      "text/plain": [
       "val max_list_couple : (int * int) list -> int = <fun>\n"
      ]
     },
     "execution_count": 45,
     "metadata": {},
     "output_type": "execute_result"
    }
   ],
   "source": [
    "let max_list_couple l =\n",
    "    let g, d = List.split l in\n",
    "    max (max_list g) (max_list d)\n",
    ";;"
   ]
  },
  {
   "cell_type": "code",
   "execution_count": 46,
   "metadata": {},
   "outputs": [
    {
     "data": {
      "text/plain": [
       "val nb_sommets__art : graphe_art -> int = <fun>\n"
      ]
     },
     "execution_count": 46,
     "metadata": {},
     "output_type": "execute_result"
    },
    {
     "data": {
      "text/plain": [
       "- : int = 3\n"
      ]
     },
     "execution_count": 46,
     "metadata": {},
     "output_type": "execute_result"
    },
    {
     "data": {
      "text/plain": [
       "val nb_arcs__art : graphe_art -> int = <fun>\n"
      ]
     },
     "execution_count": 46,
     "metadata": {},
     "output_type": "execute_result"
    },
    {
     "data": {
      "text/plain": [
       "- : int = 2\n"
      ]
     },
     "execution_count": 46,
     "metadata": {},
     "output_type": "execute_result"
    }
   ],
   "source": [
    "let nb_sommets__art (g : graphe_art) : int = 1 + (max_list_couple g);;\n",
    "nb_sommets__art g1__art;;\n",
    "\n",
    "let nb_arcs__art (g : graphe_art) : int = (List.length g) / 2 ;;\n",
    "nb_arcs__art g1__art;;"
   ]
  },
  {
   "cell_type": "markdown",
   "metadata": {},
   "source": [
    "## Graphes pondérés"
   ]
  },
  {
   "cell_type": "markdown",
   "metadata": {},
   "source": [
    "La définition des types est assez explicite. On utilise le même exemple de graphe :\n",
    "\n",
    "    0 -[2]- 1\n",
    "    0 -[3]- 2\n",
    "\n",
    "![TP5__exemple_graphe2.svg](TP5__exemple_graphe2.svg)"
   ]
  },
  {
   "cell_type": "code",
   "execution_count": 51,
   "metadata": {},
   "outputs": [
    {
     "data": {
      "text/plain": [
       "type poids = int\n"
      ]
     },
     "execution_count": 51,
     "metadata": {},
     "output_type": "execute_result"
    }
   ],
   "source": [
    "type poids = int;;"
   ]
  },
  {
   "cell_type": "markdown",
   "metadata": {},
   "source": [
    "### Matrice d'adjacence"
   ]
  },
  {
   "cell_type": "markdown",
   "metadata": {},
   "source": [
    "`None` indique une absence d'arête, `Some x` une arête pondérée par `x`.\n",
    "Aucune raison qu'on ne puisse pas pondérer par `0`, donc utiliser seulement `0` pour indiquer une absence d'arête ne marchera pas."
   ]
  },
  {
   "cell_type": "code",
   "execution_count": 53,
   "metadata": {
    "scrolled": true
   },
   "outputs": [
    {
     "data": {
      "text/plain": [
       "type graphe_mat_pond = poids option array array\n"
      ]
     },
     "execution_count": 53,
     "metadata": {},
     "output_type": "execute_result"
    }
   ],
   "source": [
    "type graphe_mat_pond = (poids option) array array;;"
   ]
  },
  {
   "cell_type": "code",
   "execution_count": 56,
   "metadata": {},
   "outputs": [
    {
     "data": {
      "text/plain": [
       "val g1__mat_pond : graphe_mat_pond =\n",
       "  [|[|None; Some 2; Some 3|]; [|Some 2; None; None|];\n",
       "    [|Some 3; None; None|]|]\n"
      ]
     },
     "execution_count": 56,
     "metadata": {},
     "output_type": "execute_result"
    }
   ],
   "source": [
    "let g1__mat_pond : graphe_mat_pond = [|\n",
    "        [| None; Some 2; Some 3 |];  (* 0 -[2]- 1 et 0 -[3]- 2 *)\n",
    "        [| Some 2; None; None |];  (* 1 -[2]- 0 *)\n",
    "        [| Some 3; None; None |]   (* 2 -[3]- 0 *)\n",
    "    |]\n",
    ";;"
   ]
  },
  {
   "cell_type": "markdown",
   "metadata": {},
   "source": [
    "### Listes d'adjacence"
   ]
  },
  {
   "cell_type": "markdown",
   "metadata": {},
   "source": [
    "C'est plus facile :"
   ]
  },
  {
   "cell_type": "code",
   "execution_count": 57,
   "metadata": {
    "scrolled": false
   },
   "outputs": [
    {
     "data": {
      "text/plain": [
       "type graphe_adj_pond = (sommet * poids) list list\n"
      ]
     },
     "execution_count": 57,
     "metadata": {},
     "output_type": "execute_result"
    }
   ],
   "source": [
    "type graphe_adj_pond = ((sommet * poids) list) list;;"
   ]
  },
  {
   "cell_type": "code",
   "execution_count": 58,
   "metadata": {},
   "outputs": [
    {
     "data": {
      "text/plain": [
       "val g1__adj_pond : graphe_adj_pond = [[(1, 2); (2, 3)]; [(0, 2)]; [(0, 3)]]\n"
      ]
     },
     "execution_count": 58,
     "metadata": {},
     "output_type": "execute_result"
    }
   ],
   "source": [
    "let g1__adj_pond : graphe_adj_pond = [\n",
    "    [(1, 2); (2, 3)]; (* 0 -[2]- 1 et 0 -[3]- 2 *)\n",
    "    [(0, 2)]; (* 1 -[2]- 0 *)\n",
    "    [(0, 3)]  (* 2 -[3]- 0 *)\n",
    "];;"
   ]
  },
  {
   "cell_type": "markdown",
   "metadata": {},
   "source": [
    "### Listes d'arêtes"
   ]
  },
  {
   "cell_type": "markdown",
   "metadata": {},
   "source": [
    "C'est très facile :"
   ]
  },
  {
   "cell_type": "code",
   "execution_count": 60,
   "metadata": {},
   "outputs": [
    {
     "data": {
      "text/plain": [
       "type arete_pond = sommet * poids * sommet\n"
      ]
     },
     "execution_count": 60,
     "metadata": {},
     "output_type": "execute_result"
    },
    {
     "data": {
      "text/plain": [
       "type graphe_art_pond = arete_pond list\n"
      ]
     },
     "execution_count": 60,
     "metadata": {},
     "output_type": "execute_result"
    }
   ],
   "source": [
    "type arete_pond = sommet * poids * sommet;;\n",
    "type graphe_art_pond = arete_pond list;;"
   ]
  },
  {
   "cell_type": "code",
   "execution_count": 62,
   "metadata": {
    "scrolled": true
   },
   "outputs": [
    {
     "data": {
      "text/plain": [
       "val g1__art_pond : graphe_art_pond =\n",
       "  [(0, 2, 1); (0, 3, 2); (1, 2, 0); (2, 3, 0)]\n"
      ]
     },
     "execution_count": 62,
     "metadata": {},
     "output_type": "execute_result"
    }
   ],
   "source": [
    "let g1__art_pond : graphe_art_pond = [\n",
    "    (0, 2, 1); (0, 3, 2); (* 0 -[2]- 1 et 0 -[3]- 2 *)\n",
    "    (1, 2, 0); (* 1 -[2]- 0 *)\n",
    "    (2, 3, 0)  (* 2 -[3]- 0 *)\n",
    "];;"
   ]
  },
  {
   "cell_type": "markdown",
   "metadata": {},
   "source": [
    "## Graphes colorés"
   ]
  },
  {
   "cell_type": "markdown",
   "metadata": {},
   "source": [
    "La définition des types est assez explicite. On utilise le même exemple de graphe :\n",
    "\n",
    "    0 [rouge] -- 1 [bleu]\n",
    "    0 [rouge] -- 2 [vert]\n",
    "\n",
    "![TP5__exemple_graphe3.svg](TP5__exemple_graphe3.svg)"
   ]
  },
  {
   "cell_type": "code",
   "execution_count": 64,
   "metadata": {},
   "outputs": [
    {
     "data": {
      "text/plain": [
       "type couleur = int\n"
      ]
     },
     "execution_count": 64,
     "metadata": {},
     "output_type": "execute_result"
    },
    {
     "data": {
      "text/plain": [
       "val rouge : couleur = 1\n",
       "val bleu : couleur = 2\n",
       "val vert : couleur = 3\n"
      ]
     },
     "execution_count": 64,
     "metadata": {},
     "output_type": "execute_result"
    }
   ],
   "source": [
    "type couleur = int;;\n",
    "let rouge : couleur = 1 and bleu : couleur = 2 and vert : couleur = 3;;"
   ]
  },
  {
   "cell_type": "markdown",
   "metadata": {},
   "source": [
    "### Matrice d'adjacence"
   ]
  },
  {
   "cell_type": "markdown",
   "metadata": {},
   "source": [
    "C'est moins facile ! On est obligé d'ajouter une structure qui contient la liste des couleurs séparément... Et donc ce n'est pas très intéressant..."
   ]
  },
  {
   "cell_type": "code",
   "execution_count": 75,
   "metadata": {
    "scrolled": true
   },
   "outputs": [
    {
     "data": {
      "text/plain": [
       "type graphe_mat_color = { mat : int array array; couleurs : couleur array; }\n"
      ]
     },
     "execution_count": 75,
     "metadata": {},
     "output_type": "execute_result"
    }
   ],
   "source": [
    "type graphe_mat_color = { mat : int array array; couleurs : couleur array } ;;"
   ]
  },
  {
   "cell_type": "code",
   "execution_count": 76,
   "metadata": {},
   "outputs": [
    {
     "data": {
      "text/plain": [
       "val g1__mat_color : graphe_mat_color =\n",
       "  {mat = [|[|0; 1; 1|]; [|1; 0; 0|]; [|1; 0; 0|]|]; couleurs = [|1; 2; 3|]}\n"
      ]
     },
     "execution_count": 76,
     "metadata": {},
     "output_type": "execute_result"
    }
   ],
   "source": [
    "let g1__mat_color : graphe_mat_color = { mat = [|\n",
    "        [| 0; 1; 1 |];  (* 0 -- 1 et 0 -- 2 *)\n",
    "        [| 1; 0; 0 |];  (* 1 -- 0 *)\n",
    "        [| 1; 0; 0 |]   (* 2 -- 0 *)\n",
    "    |];\n",
    "    couleurs = [| rouge; bleu; vert |]\n",
    "};;"
   ]
  },
  {
   "cell_type": "markdown",
   "metadata": {},
   "source": [
    "### Listes d'adjacence"
   ]
  },
  {
   "cell_type": "code",
   "execution_count": 77,
   "metadata": {
    "scrolled": false
   },
   "outputs": [
    {
     "data": {
      "text/plain": [
       "type graphe_adj_color = { adj : sommet list list; couleurs : couleur array; }\n"
      ]
     },
     "execution_count": 77,
     "metadata": {},
     "output_type": "execute_result"
    }
   ],
   "source": [
    "type graphe_adj_color = { adj : (sommet list) list; couleurs : couleur array } ;;"
   ]
  },
  {
   "cell_type": "code",
   "execution_count": 74,
   "metadata": {},
   "outputs": [
    {
     "data": {
      "text/plain": [
       "val g1__adj_color : graphe_adj_color =\n",
       "  {adj = [[1; 2]; [0]; [0]]; couleurs = [|1; 2; 3|]}\n"
      ]
     },
     "execution_count": 74,
     "metadata": {},
     "output_type": "execute_result"
    }
   ],
   "source": [
    "let g1__adj_color : graphe_adj_color = { adj = [\n",
    "        [1; 2]; (* 0 -- 1 et 0 -- 2 *)\n",
    "        [0]; (* 1 -- 0 *)\n",
    "        [0]  (* 2 -- 0 *)\n",
    "    ];\n",
    "    couleurs = [| rouge; bleu; vert |]\n",
    "}"
   ]
  },
  {
   "cell_type": "markdown",
   "metadata": {},
   "source": [
    "### Listes d'arêtes"
   ]
  },
  {
   "cell_type": "code",
   "execution_count": 78,
   "metadata": {},
   "outputs": [
    {
     "data": {
      "text/plain": [
       "type graphe_art_color = { art : arete list; couleurs : couleur array; }\n"
      ]
     },
     "execution_count": 78,
     "metadata": {},
     "output_type": "execute_result"
    }
   ],
   "source": [
    "type graphe_art_color = { art : arete list; couleurs : couleur array } ;;"
   ]
  },
  {
   "cell_type": "code",
   "execution_count": 79,
   "metadata": {
    "scrolled": true
   },
   "outputs": [
    {
     "data": {
      "text/plain": [
       "val g1__art_color : graphe_art_color =\n",
       "  {art = [(0, 1); (0, 2); (1, 0); (2, 0)]; couleurs = [|1; 2; 3|]}\n"
      ]
     },
     "execution_count": 79,
     "metadata": {},
     "output_type": "execute_result"
    }
   ],
   "source": [
    "let g1__art_color : graphe_art_color = { art = [\n",
    "        (0, 1); (0, 2); (* 0 -- 1 et 0 -- 2 *)\n",
    "        (1, 0); (* 1 -- 0 *)\n",
    "        (2, 0)  (* 2 -- 0 *)\n",
    "    ];\n",
    "    couleurs = [| rouge; bleu; vert |]\n",
    "}"
   ]
  },
  {
   "cell_type": "markdown",
   "metadata": {},
   "source": [
    "## Degrés"
   ]
  },
  {
   "cell_type": "markdown",
   "metadata": {},
   "source": [
    "### Matrice d'adjacence"
   ]
  },
  {
   "cell_type": "markdown",
   "metadata": {},
   "source": [
    "Pour `graphe_mat`, `degres` est en $\\mathcal{O}(n^2)$."
   ]
  },
  {
   "cell_type": "code",
   "execution_count": 84,
   "metadata": {
    "scrolled": true
   },
   "outputs": [
    {
     "data": {
      "text/plain": [
       "val degres__mat : graphe_mat -> int array = <fun>\n"
      ]
     },
     "execution_count": 84,
     "metadata": {},
     "output_type": "execute_result"
    },
    {
     "data": {
      "text/plain": [
       "- : int array = [|2; 1; 1|]\n"
      ]
     },
     "execution_count": 84,
     "metadata": {},
     "output_type": "execute_result"
    }
   ],
   "source": [
    "let degres__mat (g : graphe_mat) : int array = Array.map somme_tableau g ;;\n",
    "degres__mat g1__mat;;"
   ]
  },
  {
   "cell_type": "markdown",
   "metadata": {},
   "source": [
    "### Listes d'adjacence"
   ]
  },
  {
   "cell_type": "markdown",
   "metadata": {},
   "source": [
    "Pour `graphe_adj`, `degres` est en $\\mathcal{O}(n)$."
   ]
  },
  {
   "cell_type": "code",
   "execution_count": 83,
   "metadata": {},
   "outputs": [
    {
     "data": {
      "text/plain": [
       "val degres__adj : graphe_adj -> int array = <fun>\n"
      ]
     },
     "execution_count": 83,
     "metadata": {},
     "output_type": "execute_result"
    },
    {
     "data": {
      "text/plain": [
       "- : int array = [|2; 1; 1|]\n"
      ]
     },
     "execution_count": 83,
     "metadata": {},
     "output_type": "execute_result"
    }
   ],
   "source": [
    "let degres__adj (g : graphe_adj) : int array = Array.of_list (List.map List.length g) ;;\n",
    "degres__adj g1__adj;;"
   ]
  },
  {
   "cell_type": "markdown",
   "metadata": {},
   "source": [
    "### Listes d'arêtes"
   ]
  },
  {
   "cell_type": "markdown",
   "metadata": {},
   "source": [
    "Pour `graphe_art`, `degres` est en $\\mathcal{O}(n^2)$."
   ]
  },
  {
   "cell_type": "code",
   "execution_count": 85,
   "metadata": {},
   "outputs": [
    {
     "data": {
      "text/plain": [
       "- : graphe_art = [(0, 1); (0, 2); (1, 0); (2, 0)]\n"
      ]
     },
     "execution_count": 85,
     "metadata": {},
     "output_type": "execute_result"
    }
   ],
   "source": [
    "g1__art"
   ]
  },
  {
   "cell_type": "code",
   "execution_count": 88,
   "metadata": {},
   "outputs": [
    {
     "data": {
      "text/plain": [
       "val degres__art : graphe_art -> int array = <fun>\n"
      ]
     },
     "execution_count": 88,
     "metadata": {},
     "output_type": "execute_result"
    },
    {
     "data": {
      "text/plain": [
       "- : int array = [|2; 1; 1|]\n"
      ]
     },
     "execution_count": 88,
     "metadata": {},
     "output_type": "execute_result"
    }
   ],
   "source": [
    "let degres__art (g : graphe_art) : int array =\n",
    "    let n = nb_sommets__art g in\n",
    "    Array.init n (fun i ->\n",
    "        List.length (List.filter (fun (a, _) -> a = i) g)\n",
    "    )\n",
    ";;\n",
    "degres__art g1__art;;"
   ]
  },
  {
   "cell_type": "markdown",
   "metadata": {},
   "source": [
    "----\n",
    "# Parcours de graphes"
   ]
  },
  {
   "cell_type": "code",
   "execution_count": null,
   "metadata": {},
   "outputs": [],
   "source": []
  },
  {
   "cell_type": "markdown",
   "metadata": {},
   "source": [
    "----\n",
    "# Cycles eulériens"
   ]
  },
  {
   "cell_type": "code",
   "execution_count": null,
   "metadata": {},
   "outputs": [],
   "source": []
  },
  {
   "cell_type": "markdown",
   "metadata": {},
   "source": [
    "----\n",
    "# Conclusion\n",
    "\n",
    "Fin. À la séance prochaine. Le TP6 traitera de Lambdacalcul (en février)."
   ]
  }
 ],
 "metadata": {
  "kernelspec": {
   "display_name": "OCaml 4.04.2",
   "language": "OCaml",
   "name": "ocaml-jupyter"
  },
  "language_info": {
   "codemirror_mode": "text/x-ocaml",
   "file_extension": ".ml",
   "mimetype": "text/x-ocaml",
   "name": "OCaml",
   "nbconverter_exporter": null,
   "pygments_lexer": "OCaml",
   "version": "4.04.2"
  },
  "toc": {
   "colors": {
    "hover_highlight": "#DAA520",
    "running_highlight": "#FF0000",
    "selected_highlight": "#FFD700"
   },
   "moveMenuLeft": true,
   "nav_menu": {
    "height": "511px",
    "width": "251px"
   },
   "navigate_menu": true,
   "number_sections": true,
   "sideBar": true,
   "threshold": 4,
   "toc_cell": true,
   "toc_section_display": "block",
   "toc_window_display": false
  }
 },
 "nbformat": 4,
 "nbformat_minor": 2
}
