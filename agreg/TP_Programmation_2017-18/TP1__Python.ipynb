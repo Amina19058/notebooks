{
 "cells": [
  {
   "cell_type": "markdown",
   "metadata": {
    "toc": "true"
   },
   "source": [
    "# Table of Contents\n",
    " <p><div class=\"lev1 toc-item\"><a href=\"#TP-1---Programmation-pour-la-préparation-à-l'agrégation-maths-option-info\" data-toc-modified-id=\"TP-1---Programmation-pour-la-préparation-à-l'agrégation-maths-option-info-1\"><span class=\"toc-item-num\">1&nbsp;&nbsp;</span>TP 1 - Programmation pour la préparation à l'agrégation maths option info</a></div><div class=\"lev1 toc-item\"><a href=\"#Fonctions\" data-toc-modified-id=\"Fonctions-2\"><span class=\"toc-item-num\">2&nbsp;&nbsp;</span>Fonctions</a></div><div class=\"lev2 toc-item\"><a href=\"#Exercice-4\" data-toc-modified-id=\"Exercice-4-21\"><span class=\"toc-item-num\">2.1&nbsp;&nbsp;</span>Exercice 4</a></div><div class=\"lev2 toc-item\"><a href=\"#Exercice-5\" data-toc-modified-id=\"Exercice-5-22\"><span class=\"toc-item-num\">2.2&nbsp;&nbsp;</span>Exercice 5</a></div><div class=\"lev2 toc-item\"><a href=\"#Exercice-6\" data-toc-modified-id=\"Exercice-6-23\"><span class=\"toc-item-num\">2.3&nbsp;&nbsp;</span>Exercice 6</a></div><div class=\"lev1 toc-item\"><a href=\"#Récursivité\" data-toc-modified-id=\"Récursivité-3\"><span class=\"toc-item-num\">3&nbsp;&nbsp;</span>Récursivité</a></div><div class=\"lev2 toc-item\"><a href=\"#Exercice-7\" data-toc-modified-id=\"Exercice-7-31\"><span class=\"toc-item-num\">3.1&nbsp;&nbsp;</span>Exercice 7</a></div><div class=\"lev2 toc-item\"><a href=\"#Exercice-8\" data-toc-modified-id=\"Exercice-8-32\"><span class=\"toc-item-num\">3.2&nbsp;&nbsp;</span>Exercice 8</a></div><div class=\"lev2 toc-item\"><a href=\"#Exercice-9\" data-toc-modified-id=\"Exercice-9-33\"><span class=\"toc-item-num\">3.3&nbsp;&nbsp;</span>Exercice 9</a></div><div class=\"lev2 toc-item\"><a href=\"#Exercice-10\" data-toc-modified-id=\"Exercice-10-34\"><span class=\"toc-item-num\">3.4&nbsp;&nbsp;</span>Exercice 10</a></div><div class=\"lev2 toc-item\"><a href=\"#Exercice-11\" data-toc-modified-id=\"Exercice-11-35\"><span class=\"toc-item-num\">3.5&nbsp;&nbsp;</span>Exercice 11</a></div><div class=\"lev1 toc-item\"><a href=\"#Listes\" data-toc-modified-id=\"Listes-4\"><span class=\"toc-item-num\">4&nbsp;&nbsp;</span>Listes</a></div><div class=\"lev2 toc-item\"><a href=\"#Exercice-12\" data-toc-modified-id=\"Exercice-12-41\"><span class=\"toc-item-num\">4.1&nbsp;&nbsp;</span>Exercice 12</a></div><div class=\"lev2 toc-item\"><a href=\"#Exercice-13\" data-toc-modified-id=\"Exercice-13-42\"><span class=\"toc-item-num\">4.2&nbsp;&nbsp;</span>Exercice 13</a></div><div class=\"lev2 toc-item\"><a href=\"#Exercice-14\" data-toc-modified-id=\"Exercice-14-43\"><span class=\"toc-item-num\">4.3&nbsp;&nbsp;</span>Exercice 14</a></div><div class=\"lev2 toc-item\"><a href=\"#Exercice-15\" data-toc-modified-id=\"Exercice-15-44\"><span class=\"toc-item-num\">4.4&nbsp;&nbsp;</span>Exercice 15</a></div><div class=\"lev2 toc-item\"><a href=\"#Exercice-16\" data-toc-modified-id=\"Exercice-16-45\"><span class=\"toc-item-num\">4.5&nbsp;&nbsp;</span>Exercice 16</a></div><div class=\"lev2 toc-item\"><a href=\"#Exercice-17\" data-toc-modified-id=\"Exercice-17-46\"><span class=\"toc-item-num\">4.6&nbsp;&nbsp;</span>Exercice 17</a></div><div class=\"lev1 toc-item\"><a href=\"#Exponentiation-rapide\" data-toc-modified-id=\"Exponentiation-rapide-5\"><span class=\"toc-item-num\">5&nbsp;&nbsp;</span>Exponentiation rapide</a></div><div class=\"lev2 toc-item\"><a href=\"#Exercice-18\" data-toc-modified-id=\"Exercice-18-51\"><span class=\"toc-item-num\">5.1&nbsp;&nbsp;</span>Exercice 18</a></div><div class=\"lev2 toc-item\"><a href=\"#Exercice-19\" data-toc-modified-id=\"Exercice-19-52\"><span class=\"toc-item-num\">5.2&nbsp;&nbsp;</span>Exercice 19</a></div><div class=\"lev2 toc-item\"><a href=\"#Exercice-20\" data-toc-modified-id=\"Exercice-20-53\"><span class=\"toc-item-num\">5.3&nbsp;&nbsp;</span>Exercice 20</a></div><div class=\"lev2 toc-item\"><a href=\"#Exercice-21\" data-toc-modified-id=\"Exercice-21-54\"><span class=\"toc-item-num\">5.4&nbsp;&nbsp;</span>Exercice 21</a></div><div class=\"lev2 toc-item\"><a href=\"#Exercice-22\" data-toc-modified-id=\"Exercice-22-55\"><span class=\"toc-item-num\">5.5&nbsp;&nbsp;</span>Exercice 22</a></div><div class=\"lev2 toc-item\"><a href=\"#Exercice-23\" data-toc-modified-id=\"Exercice-23-56\"><span class=\"toc-item-num\">5.6&nbsp;&nbsp;</span>Exercice 23</a></div><div class=\"lev1 toc-item\"><a href=\"#Formule-du-calcul-propositionnel\" data-toc-modified-id=\"Formule-du-calcul-propositionnel-6\"><span class=\"toc-item-num\">6&nbsp;&nbsp;</span>Formule du calcul propositionnel</a></div><div class=\"lev2 toc-item\"><a href=\"#Exercice-24\" data-toc-modified-id=\"Exercice-24-61\"><span class=\"toc-item-num\">6.1&nbsp;&nbsp;</span>Exercice 24</a></div><div class=\"lev2 toc-item\"><a href=\"#Exercice-25\" data-toc-modified-id=\"Exercice-25-62\"><span class=\"toc-item-num\">6.2&nbsp;&nbsp;</span>Exercice 25</a></div><div class=\"lev2 toc-item\"><a href=\"#Exercice-26\" data-toc-modified-id=\"Exercice-26-63\"><span class=\"toc-item-num\">6.3&nbsp;&nbsp;</span>Exercice 26</a></div><div class=\"lev2 toc-item\"><a href=\"#Exercice-27\" data-toc-modified-id=\"Exercice-27-64\"><span class=\"toc-item-num\">6.4&nbsp;&nbsp;</span>Exercice 27</a></div><div class=\"lev2 toc-item\"><a href=\"#Exercice-28\" data-toc-modified-id=\"Exercice-28-65\"><span class=\"toc-item-num\">6.5&nbsp;&nbsp;</span>Exercice 28</a></div><div class=\"lev1 toc-item\"><a href=\"#Conclusion\" data-toc-modified-id=\"Conclusion-7\"><span class=\"toc-item-num\">7&nbsp;&nbsp;</span>Conclusion</a></div>"
   ]
  },
  {
   "cell_type": "markdown",
   "metadata": {},
   "source": [
    "# TP 1 - Programmation pour la préparation à l'agrégation maths option info\n",
    "- En Python 3, avec des annotations de types.\n",
    "- Notez que ce ne sont que des annotations.\n",
    "- Pour plus, il faudrait utiliser [quelque chose comme `beartype`](https://stackoverflow.com/a/37961120/2809027)."
   ]
  },
  {
   "cell_type": "markdown",
   "metadata": {},
   "source": [
    "# Fonctions"
   ]
  },
  {
   "cell_type": "markdown",
   "metadata": {},
   "source": [
    "## Exercice 4"
   ]
  },
  {
   "cell_type": "code",
   "execution_count": 17,
   "metadata": {
    "collapsed": true
   },
   "outputs": [],
   "source": [
    "def successeur(i : int) -> int:\n",
    "    assert isinstance(i, int)\n",
    "    assert i >= 0\n",
    "    return i + 1"
   ]
  },
  {
   "cell_type": "code",
   "execution_count": 4,
   "metadata": {},
   "outputs": [
    {
     "data": {
      "text/plain": [
       "4"
      ]
     },
     "execution_count": 4,
     "metadata": {},
     "output_type": "execute_result"
    },
    {
     "data": {
      "text/plain": [
       "5"
      ]
     },
     "execution_count": 4,
     "metadata": {},
     "output_type": "execute_result"
    },
    {
     "ename": "AssertionError",
     "evalue": "",
     "output_type": "error",
     "traceback": [
      "\u001b[0;31m---------------------------------------------------------------------------\u001b[0m",
      "\u001b[0;31mAssertionError\u001b[0m                            Traceback (most recent call last)",
      "\u001b[0;32m<ipython-input-4-a2f196c8f8ad>\u001b[0m in \u001b[0;36m<module>\u001b[0;34m()\u001b[0m\n\u001b[1;32m      1\u001b[0m \u001b[0msuccesseur\u001b[0m\u001b[0;34m(\u001b[0m\u001b[0;36m3\u001b[0m\u001b[0;34m)\u001b[0m\u001b[0;34m\u001b[0m\u001b[0m\n\u001b[1;32m      2\u001b[0m \u001b[0msuccesseur\u001b[0m\u001b[0;34m(\u001b[0m\u001b[0;36m2\u001b[0m \u001b[0;34m*\u001b[0m \u001b[0;36m2\u001b[0m\u001b[0;34m)\u001b[0m\u001b[0;34m\u001b[0m\u001b[0m\n\u001b[0;32m----> 3\u001b[0;31m \u001b[0msuccesseur\u001b[0m\u001b[0;34m(\u001b[0m\u001b[0;36m2.5\u001b[0m\u001b[0;34m)\u001b[0m\u001b[0;34m\u001b[0m\u001b[0m\n\u001b[0m",
      "\u001b[0;32m<ipython-input-2-7320441638ec>\u001b[0m in \u001b[0;36msuccesseur\u001b[0;34m(i)\u001b[0m\n\u001b[1;32m      1\u001b[0m \u001b[0;32mdef\u001b[0m \u001b[0msuccesseur\u001b[0m\u001b[0;34m(\u001b[0m\u001b[0mi\u001b[0m\u001b[0;34m:\u001b[0m\u001b[0mint\u001b[0m\u001b[0;34m)\u001b[0m\u001b[0;34m:\u001b[0m\u001b[0;34m\u001b[0m\u001b[0m\n\u001b[0;32m----> 2\u001b[0;31m     \u001b[0;32massert\u001b[0m \u001b[0misinstance\u001b[0m\u001b[0;34m(\u001b[0m\u001b[0mi\u001b[0m\u001b[0;34m,\u001b[0m \u001b[0mint\u001b[0m\u001b[0;34m)\u001b[0m\u001b[0;34m\u001b[0m\u001b[0m\n\u001b[0m\u001b[1;32m      3\u001b[0m     \u001b[0;32mreturn\u001b[0m \u001b[0mi\u001b[0m \u001b[0;34m+\u001b[0m \u001b[0;36m1\u001b[0m\u001b[0;34m\u001b[0m\u001b[0m\n",
      "\u001b[0;31mAssertionError\u001b[0m: "
     ]
    }
   ],
   "source": [
    "successeur(3)\n",
    "successeur(2 * 2)\n",
    "successeur(2.5)"
   ]
  },
  {
   "cell_type": "markdown",
   "metadata": {},
   "source": [
    "## Exercice 5"
   ]
  },
  {
   "cell_type": "code",
   "execution_count": 9,
   "metadata": {
    "collapsed": true
   },
   "outputs": [],
   "source": [
    "def produit3(x, y, z):\n",
    "    return x * y * z\n",
    "\n",
    "produit3_2 = lambda x, y, z: x * y * z\n",
    "\n",
    "produit3_3 = lambda x: lambda y: lambda z: x * y * z"
   ]
  },
  {
   "cell_type": "code",
   "execution_count": 12,
   "metadata": {},
   "outputs": [
    {
     "data": {
      "text/plain": [
       "6"
      ]
     },
     "execution_count": 12,
     "metadata": {},
     "output_type": "execute_result"
    },
    {
     "data": {
      "text/plain": [
       "6"
      ]
     },
     "execution_count": 12,
     "metadata": {},
     "output_type": "execute_result"
    },
    {
     "data": {
      "text/plain": [
       "<function __main__.<lambda>.<locals>.<lambda>.<locals>.<lambda>>"
      ]
     },
     "execution_count": 12,
     "metadata": {},
     "output_type": "execute_result"
    },
    {
     "data": {
      "text/plain": [
       "6"
      ]
     },
     "execution_count": 12,
     "metadata": {},
     "output_type": "execute_result"
    }
   ],
   "source": [
    "produit3(1, 2, 3)\n",
    "produit3_2(1, 2, 3)\n",
    "produit3_3(1)(2)  # lambda z : 1 * 2 * z\n",
    "produit3_3(1)(2)(3)"
   ]
  },
  {
   "cell_type": "markdown",
   "metadata": {},
   "source": [
    "## Exercice 6"
   ]
  },
  {
   "cell_type": "code",
   "execution_count": 18,
   "metadata": {
    "collapsed": true
   },
   "outputs": [],
   "source": [
    "def exercice6(n : int) -> None:\n",
    "    for i in range(1, n + 1):\n",
    "        print(i)\n",
    "    for i in range(n, 0, -1):\n",
    "        print(i)"
   ]
  },
  {
   "cell_type": "code",
   "execution_count": 19,
   "metadata": {},
   "outputs": [
    {
     "name": "stdout",
     "output_type": "stream",
     "text": [
      "1\n",
      "2\n",
      "3\n",
      "4\n",
      "4\n",
      "3\n",
      "2\n",
      "1\n"
     ]
    }
   ],
   "source": [
    "exercice6(4)"
   ]
  },
  {
   "cell_type": "markdown",
   "metadata": {},
   "source": [
    "# Récursivité"
   ]
  },
  {
   "cell_type": "markdown",
   "metadata": {},
   "source": [
    "## Exercice 7"
   ]
  },
  {
   "cell_type": "code",
   "execution_count": 20,
   "metadata": {
    "collapsed": true
   },
   "outputs": [],
   "source": [
    "def factorielle(n : int) -> int:\n",
    "    if n <= 0:\n",
    "        return 0\n",
    "    elif n == 1:\n",
    "        return 1\n",
    "    else:\n",
    "        return n * factorielle(n - 1)"
   ]
  },
  {
   "cell_type": "code",
   "execution_count": 25,
   "metadata": {},
   "outputs": [
    {
     "name": "stdout",
     "output_type": "stream",
     "text": [
      "0! =     0\n",
      "1! =     1\n",
      "2! =     2\n",
      "3! =     6\n",
      "4! =    24\n",
      "5! =   120\n",
      "6! =   720\n",
      "7! =  5040\n"
     ]
    }
   ],
   "source": [
    "for i in range(8):\n",
    "    print(\"{}! = {:>5}\".format(i, factorielle(i)))"
   ]
  },
  {
   "cell_type": "markdown",
   "metadata": {},
   "source": [
    "## Exercice 8"
   ]
  },
  {
   "cell_type": "code",
   "execution_count": 66,
   "metadata": {
    "collapsed": true
   },
   "outputs": [],
   "source": [
    "def pgcd(x : int, y : int, log: bool=False) -> int:\n",
    "    if log: print(\"x = {:>7}, y = {:>7}\".format(x, y))\n",
    "    assert x >= 0 and y >= 0\n",
    "    if y == 1:\n",
    "        return 1\n",
    "    elif y == x or y == 0:\n",
    "        return x\n",
    "    if x < y:\n",
    "        return pgcd(x, y % x, log=log)\n",
    "    else:\n",
    "        return pgcd(y, x % y, log=log)"
   ]
  },
  {
   "cell_type": "code",
   "execution_count": 67,
   "metadata": {},
   "outputs": [
    {
     "data": {
      "text/plain": [
       "5"
      ]
     },
     "execution_count": 67,
     "metadata": {},
     "output_type": "execute_result"
    }
   ],
   "source": [
    "pgcd(10, 5)"
   ]
  },
  {
   "cell_type": "code",
   "execution_count": 71,
   "metadata": {},
   "outputs": [
    {
     "name": "stdout",
     "output_type": "stream",
     "text": [
      "23 ^ 42 =  1\n",
      "48 ^ 57 =  3\n",
      "47 ^ 48 =  1\n",
      "12 ^ 12 = 12\n",
      "86 ^ 37 =  1\n",
      "79 ^ 87 =  1\n",
      "72 ^ 41 =  1\n",
      "65 ^ 30 =  5\n",
      "96 ^ 38 =  2\n",
      "90 ^  5 =  5\n"
     ]
    }
   ],
   "source": [
    "from sympy import gcd\n",
    "from random import randint\n",
    "for _ in range(10):\n",
    "    x = randint(1, 100)\n",
    "    y = randint(1, 100)\n",
    "    d = pgcd(x, y)\n",
    "    print(\"{:>2} ^ {:>2} = {:>2}\".format(x, y, d))\n",
    "    assert d == gcd(x, y)"
   ]
  },
  {
   "cell_type": "markdown",
   "metadata": {},
   "source": [
    "## Exercice 9"
   ]
  },
  {
   "cell_type": "code",
   "execution_count": 72,
   "metadata": {
    "collapsed": true
   },
   "outputs": [],
   "source": [
    "def fibonacci(n : int) -> int:\n",
    "    assert n >= 0\n",
    "    if n == 0 or n == 1:\n",
    "        return 1\n",
    "    else:\n",
    "        return fibonacci(n - 1) + fibonacci(n - 2)"
   ]
  },
  {
   "cell_type": "code",
   "execution_count": 76,
   "metadata": {},
   "outputs": [
    {
     "name": "stdout",
     "output_type": "stream",
     "text": [
      "4.15 s ± 23.4 ms per loop (mean ± std. dev. of 7 runs, 1 loop each)\n"
     ]
    }
   ],
   "source": [
    "%timeit fibonacci(35)"
   ]
  },
  {
   "cell_type": "code",
   "execution_count": 77,
   "metadata": {
    "collapsed": true
   },
   "outputs": [],
   "source": [
    "def fibonacci_lin(n : int) -> int:\n",
    "    un, uns = 1, 1\n",
    "    for _ in range(n):\n",
    "        un, uns = uns, un + uns\n",
    "    return un"
   ]
  },
  {
   "cell_type": "code",
   "execution_count": 79,
   "metadata": {
    "collapsed": true
   },
   "outputs": [],
   "source": [
    "for i in range(10):\n",
    "    assert fibonacci(i) == fibonacci_lin(i)"
   ]
  },
  {
   "cell_type": "code",
   "execution_count": 80,
   "metadata": {},
   "outputs": [
    {
     "name": "stdout",
     "output_type": "stream",
     "text": [
      "1.79 µs ± 27.3 ns per loop (mean ± std. dev. of 7 runs, 1000000 loops each)\n"
     ]
    }
   ],
   "source": [
    "%timeit fibonacci_lin(35)"
   ]
  },
  {
   "cell_type": "markdown",
   "metadata": {},
   "source": [
    "Voilà la différence."
   ]
  },
  {
   "cell_type": "markdown",
   "metadata": {},
   "source": [
    "## Exercice 10\n",
    "\n",
    "Aucune hypothèse n'est faite sur les arguments de la fonction, on supposera seulement qu'elle est itérable sur sa sortie."
   ]
  },
  {
   "cell_type": "code",
   "execution_count": 44,
   "metadata": {
    "collapsed": true
   },
   "outputs": [],
   "source": [
    "from types import FunctionType\n",
    "\n",
    "# première version, f : type x -> type x (simple)\n",
    "def itere(f : FunctionType, n : int) -> FunctionType:\n",
    "    def fn(x):\n",
    "        for _ in range(n):\n",
    "            x = f(x)\n",
    "        return x\n",
    "    return fn"
   ]
  },
  {
   "cell_type": "code",
   "execution_count": 45,
   "metadata": {},
   "outputs": [
    {
     "data": {
      "text/plain": [
       "11"
      ]
     },
     "execution_count": 45,
     "metadata": {},
     "output_type": "execute_result"
    }
   ],
   "source": [
    "itere(lambda x: x + 1, 10)(1)"
   ]
  },
  {
   "cell_type": "code",
   "execution_count": 119,
   "metadata": {
    "collapsed": true
   },
   "outputs": [],
   "source": [
    "# deuxième version, f : tuple -> tuple (simple)\n",
    "def itere2(f : FunctionType, n : int) -> FunctionType:\n",
    "    def fn(*args):\n",
    "        for _ in range(n):\n",
    "            if isinstance(args, tuple):\n",
    "                args = f(*args)\n",
    "            else:\n",
    "                args = f(args)\n",
    "        if isinstance(args, tuple) and len(args) == 1:\n",
    "            return args[0]\n",
    "        else:\n",
    "            return args\n",
    "    return fn"
   ]
  },
  {
   "cell_type": "code",
   "execution_count": 132,
   "metadata": {},
   "outputs": [
    {
     "data": {
      "text/plain": [
       "11"
      ]
     },
     "execution_count": 132,
     "metadata": {},
     "output_type": "execute_result"
    },
    {
     "data": {
      "text/plain": [
       "(1024, 2048)"
      ]
     },
     "execution_count": 132,
     "metadata": {},
     "output_type": "execute_result"
    }
   ],
   "source": [
    "def plusun(x):\n",
    "    return x + 1\n",
    "\n",
    "itere2(plusun, 10)(1)\n",
    "\n",
    "def foisdeux(x, y):\n",
    "    return x * 2, y * 2\n",
    "\n",
    "itere2(foisdeux, 10)(1, 2)"
   ]
  },
  {
   "cell_type": "markdown",
   "metadata": {},
   "source": [
    "## Exercice 11"
   ]
  },
  {
   "cell_type": "code",
   "execution_count": 144,
   "metadata": {
    "collapsed": true
   },
   "outputs": [],
   "source": [
    "def hanoi(x : str, y : str, z : str, n : int) -> None:\n",
    "    def hanoiaux(orig : str, dest : str, inter : str, n : int):\n",
    "        if n == 0:\n",
    "            return 0\n",
    "        c1 = hanoiaux(orig, inter, dest, n - 1)\n",
    "        print(\"{} -> {}\".format(orig, dest))\n",
    "        c2 = hanoiaux(inter, dest, orig, n - 1)\n",
    "        return c1 + 1 + c2\n",
    "    return hanoiaux(x, z, y, n)"
   ]
  },
  {
   "cell_type": "code",
   "execution_count": 145,
   "metadata": {},
   "outputs": [
    {
     "name": "stdout",
     "output_type": "stream",
     "text": [
      "T1 -> T3\n"
     ]
    },
    {
     "data": {
      "text/plain": [
       "1"
      ]
     },
     "execution_count": 145,
     "metadata": {},
     "output_type": "execute_result"
    }
   ],
   "source": [
    "hanoi(\"T1\", \"T2\", \"T3\", 1)"
   ]
  },
  {
   "cell_type": "code",
   "execution_count": 146,
   "metadata": {},
   "outputs": [
    {
     "name": "stdout",
     "output_type": "stream",
     "text": [
      "T1 -> T2\n",
      "T1 -> T3\n",
      "T2 -> T3\n"
     ]
    },
    {
     "data": {
      "text/plain": [
       "3"
      ]
     },
     "execution_count": 146,
     "metadata": {},
     "output_type": "execute_result"
    }
   ],
   "source": [
    "hanoi(\"T1\", \"T2\", \"T3\", 2)"
   ]
  },
  {
   "cell_type": "code",
   "execution_count": 148,
   "metadata": {},
   "outputs": [
    {
     "name": "stdout",
     "output_type": "stream",
     "text": [
      "T1 -> T3\n",
      "T1 -> T2\n",
      "T3 -> T2\n",
      "T1 -> T3\n",
      "T2 -> T1\n",
      "T2 -> T3\n",
      "T1 -> T3\n",
      "T1 -> T2\n",
      "T3 -> T2\n",
      "T3 -> T1\n",
      "T2 -> T1\n",
      "T3 -> T2\n",
      "T1 -> T3\n",
      "T1 -> T2\n",
      "T3 -> T2\n",
      "T1 -> T3\n",
      "T2 -> T1\n",
      "T2 -> T3\n",
      "T1 -> T3\n",
      "T2 -> T1\n",
      "T3 -> T2\n",
      "T3 -> T1\n",
      "T2 -> T1\n",
      "T2 -> T3\n",
      "T1 -> T3\n",
      "T1 -> T2\n",
      "T3 -> T2\n",
      "T1 -> T3\n",
      "T2 -> T1\n",
      "T2 -> T3\n",
      "T1 -> T3\n"
     ]
    },
    {
     "data": {
      "text/plain": [
       "31"
      ]
     },
     "execution_count": 148,
     "metadata": {},
     "output_type": "execute_result"
    }
   ],
   "source": [
    "hanoi(\"T1\", \"T2\", \"T3\", 5)  # 31 = 2^5 - 1"
   ]
  },
  {
   "cell_type": "markdown",
   "metadata": {},
   "source": [
    "----\n",
    "# Listes\n",
    "## Exercice 12\n",
    "Les listes en Python sont des `list`.\n",
    "Elles ne fonctionnent **pas** comme des listes simplement chaînées comme en Caml."
   ]
  },
  {
   "cell_type": "code",
   "execution_count": 152,
   "metadata": {
    "collapsed": true
   },
   "outputs": [],
   "source": [
    "def concatene(liste1 : list, liste2 : list) -> list:\n",
    "    # return liste1 + liste2  # solution facile\n",
    "    n1, n2 = len(liste1), len(liste2)\n",
    "    res = []\n",
    "    for i in range(n1 + n2):\n",
    "        if i < n1:\n",
    "            res.append(liste1[i])\n",
    "        else:\n",
    "            res.append(liste2[i - n1])\n",
    "    return res"
   ]
  },
  {
   "cell_type": "code",
   "execution_count": 153,
   "metadata": {},
   "outputs": [
    {
     "data": {
      "text/plain": [
       "[1, 2, 3, 4, 5]"
      ]
     },
     "execution_count": 153,
     "metadata": {},
     "output_type": "execute_result"
    }
   ],
   "source": [
    "concatene([1, 2, 3], [4, 5])"
   ]
  },
  {
   "cell_type": "markdown",
   "metadata": {},
   "source": [
    "## Exercice 13"
   ]
  },
  {
   "cell_type": "code",
   "execution_count": 163,
   "metadata": {
    "collapsed": true
   },
   "outputs": [],
   "source": [
    "from types import FunctionType\n",
    "\n",
    "def applique(f : FunctionType, liste : list) -> list:\n",
    "    res = [f(x) for x in liste]  # solution facile\n",
    "    res = map(f, liste)  # encore plus facile\n",
    "    # en itérant la liste :\n",
    "    res = []\n",
    "    for x in liste:\n",
    "        res.append(f(x))\n",
    "    # en itérant ses valeurs :\n",
    "    res = []\n",
    "    for i in range(len(liste)):\n",
    "        res.append(f(liste[i]))\n",
    "    return res"
   ]
  },
  {
   "cell_type": "code",
   "execution_count": 164,
   "metadata": {},
   "outputs": [
    {
     "data": {
      "text/plain": [
       "[2, 3, 4]"
      ]
     },
     "execution_count": 164,
     "metadata": {},
     "output_type": "execute_result"
    }
   ],
   "source": [
    "applique(lambda x : x + 1, [1, 2, 3])"
   ]
  },
  {
   "cell_type": "markdown",
   "metadata": {},
   "source": [
    "## Exercice 14"
   ]
  },
  {
   "cell_type": "code",
   "execution_count": 165,
   "metadata": {
    "collapsed": true
   },
   "outputs": [],
   "source": [
    "def liste_carree(liste : list) -> list:\n",
    "    return applique(lambda x: x**2, liste)"
   ]
  },
  {
   "cell_type": "code",
   "execution_count": 167,
   "metadata": {},
   "outputs": [
    {
     "data": {
      "text/plain": [
       "[1, 4, 9]"
      ]
     },
     "execution_count": 167,
     "metadata": {},
     "output_type": "execute_result"
    }
   ],
   "source": [
    "liste_carree([1, 2, 3])"
   ]
  },
  {
   "cell_type": "markdown",
   "metadata": {},
   "source": [
    "## Exercice 15"
   ]
  },
  {
   "cell_type": "code",
   "execution_count": 180,
   "metadata": {
    "collapsed": true
   },
   "outputs": [],
   "source": [
    "def miroir_quad(liste : list) -> list:\n",
    "    # aucune idée pour le faire innefficacement en Python,\n",
    "    # ce ne sont pas des listes chaînées\n",
    "    return liste[::-1]\n",
    "\n",
    "def miroir_lin(liste : list) -> list:\n",
    "    return [liste[-i] for i in range(1, len(liste) + 1)]"
   ]
  },
  {
   "cell_type": "code",
   "execution_count": 181,
   "metadata": {},
   "outputs": [
    {
     "data": {
      "text/plain": [
       "[3, 2, 1]"
      ]
     },
     "execution_count": 181,
     "metadata": {},
     "output_type": "execute_result"
    }
   ],
   "source": [
    "miroir_lin([1, 2, 3])"
   ]
  },
  {
   "cell_type": "markdown",
   "metadata": {},
   "source": [
    "## Exercice 16"
   ]
  },
  {
   "cell_type": "code",
   "execution_count": 186,
   "metadata": {
    "collapsed": true
   },
   "outputs": [],
   "source": [
    "def insertion_dans_liste_triee(entiers : list, x : int) -> list:\n",
    "    i = 0\n",
    "    while i < len(entiers) and entiers[i] < x:\n",
    "        i += 1\n",
    "    return entiers[:i] + [x] + entiers[i:]"
   ]
  },
  {
   "cell_type": "code",
   "execution_count": 187,
   "metadata": {},
   "outputs": [
    {
     "data": {
      "text/plain": [
       "[1, 2, 4, 5, 6]"
      ]
     },
     "execution_count": 187,
     "metadata": {},
     "output_type": "execute_result"
    }
   ],
   "source": [
    "insertion_dans_liste_triee([1, 2, 5, 6], 4)"
   ]
  },
  {
   "cell_type": "code",
   "execution_count": 190,
   "metadata": {
    "collapsed": true
   },
   "outputs": [],
   "source": [
    "def tri_insertion(entiers : list) -> list:\n",
    "    assert all([isinstance(i, int) for _ in entiers])\n",
    "    def trix(e : list, acc : list) -> list:\n",
    "        if len(e) == 0: return acc\n",
    "        else: return trix(e[1:], insertion_dans_liste_triee(acc, e[0]))\n",
    "    return trix(entiers, [])"
   ]
  },
  {
   "cell_type": "code",
   "execution_count": 191,
   "metadata": {},
   "outputs": [
    {
     "data": {
      "text/plain": [
       "[1, 2, 4, 5, 6]"
      ]
     },
     "execution_count": 191,
     "metadata": {},
     "output_type": "execute_result"
    }
   ],
   "source": [
    "tri_insertion([5, 2, 6, 1, 4])"
   ]
  },
  {
   "cell_type": "markdown",
   "metadata": {},
   "source": [
    "## Exercice 17"
   ]
  },
  {
   "cell_type": "code",
   "execution_count": 193,
   "metadata": {
    "collapsed": true
   },
   "outputs": [],
   "source": [
    "def ordre_decroissant(x, y):\n",
    "    return x > y"
   ]
  },
  {
   "cell_type": "code",
   "execution_count": 195,
   "metadata": {
    "collapsed": true
   },
   "outputs": [],
   "source": [
    "from types import FunctionType\n",
    "\n",
    "def insertion_dans_liste_triee2(entiers : list, x : int, ordre : FunctionType) -> list:\n",
    "    i = 0\n",
    "    while i < len(entiers) and ordre(entiers[i], x):\n",
    "        i += 1\n",
    "    return entiers[:i] + [x] + entiers[i:]"
   ]
  },
  {
   "cell_type": "code",
   "execution_count": 196,
   "metadata": {},
   "outputs": [
    {
     "data": {
      "text/plain": [
       "[6, 5, 4, 2, 1]"
      ]
     },
     "execution_count": 196,
     "metadata": {},
     "output_type": "execute_result"
    }
   ],
   "source": [
    "insertion_dans_liste_triee2([6, 5, 2, 1], 4, ordre_decroissant)"
   ]
  },
  {
   "cell_type": "code",
   "execution_count": 197,
   "metadata": {
    "collapsed": true
   },
   "outputs": [],
   "source": [
    "def tri_insertion2(entiers : list, ordre : FunctionType) -> list:\n",
    "    assert all([isinstance(i, int) for _ in entiers])\n",
    "    def trix(e : list, acc : list) -> list:\n",
    "        if len(e) == 0: return acc\n",
    "        else: return trix(e[1:], insertion_dans_liste_triee2(acc, e[0], ordre))\n",
    "    return trix(entiers, [])"
   ]
  },
  {
   "cell_type": "code",
   "execution_count": 200,
   "metadata": {},
   "outputs": [
    {
     "data": {
      "text/plain": [
       "[1, 2, 4, 5, 6]"
      ]
     },
     "execution_count": 200,
     "metadata": {},
     "output_type": "execute_result"
    },
    {
     "data": {
      "text/plain": [
       "[6, 5, 4, 2, 1]"
      ]
     },
     "execution_count": 200,
     "metadata": {},
     "output_type": "execute_result"
    }
   ],
   "source": [
    "tri_insertion([5, 2, 6, 1, 4])\n",
    "tri_insertion2([5, 2, 6, 1, 4], ordre_decroissant)"
   ]
  },
  {
   "cell_type": "markdown",
   "metadata": {},
   "source": [
    "----\n",
    "# Exponentiation rapide\n",
    "## Exercice 18"
   ]
  },
  {
   "cell_type": "code",
   "execution_count": 3,
   "metadata": {
    "collapsed": true
   },
   "outputs": [],
   "source": [
    "def exp(x : int, n : int) -> int:\n",
    "    res = 1\n",
    "    for _ in range(n):\n",
    "        res *= x\n",
    "    return res"
   ]
  },
  {
   "cell_type": "code",
   "execution_count": 4,
   "metadata": {},
   "outputs": [
    {
     "name": "stdout",
     "output_type": "stream",
     "text": [
      "  3 ** 0 =     1\n",
      "  3 ** 1 =     3\n",
      "  3 ** 2 =     9\n",
      "  3 ** 3 =    27\n",
      "  3 ** 4 =    81\n",
      "  3 ** 5 =   243\n",
      "  3 ** 6 =   729\n",
      "  3 ** 7 =  2187\n"
     ]
    }
   ],
   "source": [
    "x = 3\n",
    "for n in range(8):\n",
    "    print(\"  {} ** {} = {:>5}\".format(x, n, exp(x, n)))"
   ]
  },
  {
   "cell_type": "markdown",
   "metadata": {},
   "source": [
    "## Exercice 19"
   ]
  },
  {
   "cell_type": "code",
   "execution_count": 201,
   "metadata": {
    "collapsed": true
   },
   "outputs": [],
   "source": [
    "def exp2(x : int, n : int) -> int:\n",
    "    assert n >= 0\n",
    "    if n == 0:\n",
    "        return 1\n",
    "    elif n == 1:\n",
    "        return x\n",
    "    elif n % 2 == 0:\n",
    "        return exp2(x ** 2, n // 2)\n",
    "    elif n % 2 == 1:\n",
    "        return exp2(x ** 2, (n - 1) // 2) * x"
   ]
  },
  {
   "cell_type": "code",
   "execution_count": 205,
   "metadata": {},
   "outputs": [
    {
     "name": "stdout",
     "output_type": "stream",
     "text": [
      "  3 ** 0 =     1\n",
      "  3 ** 1 =     3\n",
      "  3 ** 2 =     9\n",
      "  3 ** 3 =    27\n",
      "  3 ** 4 =    81\n",
      "  3 ** 5 =   243\n",
      "  3 ** 6 =   729\n",
      "  3 ** 7 =  2187\n"
     ]
    }
   ],
   "source": [
    "x = 3\n",
    "for n in range(8):\n",
    "    print(\"  {} ** {} = {:>5}\".format(x, n, exp2(x, n)))"
   ]
  },
  {
   "cell_type": "markdown",
   "metadata": {},
   "source": [
    "## Exercice 20\n",
    "On ne dispose pas de typage pour faire ça aussi joliment qu'en Caml..."
   ]
  },
  {
   "cell_type": "code",
   "execution_count": 6,
   "metadata": {
    "collapsed": true
   },
   "outputs": [],
   "source": [
    "def mult_float(x : float, y : float) -> float:\n",
    "    return x * y\n",
    "\n",
    "monoide_flottants = {\n",
    "    'mult': mult_float,   # (*.) en Caml\n",
    "    'neutre': 1.\n",
    "}"
   ]
  },
  {
   "cell_type": "code",
   "execution_count": 15,
   "metadata": {},
   "outputs": [],
   "source": [
    "import numpy as np\n",
    "\n",
    "def mult_ndarray(A : np.array, B : np.array) -> np.array:\n",
    "    return np.dot(A, B)\n",
    "\n",
    "# Pas possible d'avoir un neutre pour une taille quelconque !\n",
    "monoide_nparray = lambda n, m: {\n",
    "    'mult': mult_ndarray,\n",
    "    'neutre': np.eye(n, m)\n",
    "}"
   ]
  },
  {
   "cell_type": "code",
   "execution_count": 16,
   "metadata": {},
   "outputs": [
    {
     "data": {
      "text/plain": [
       "array([[4, 6],\n",
       "       [4, 6]])"
      ]
     },
     "execution_count": 16,
     "metadata": {},
     "output_type": "execute_result"
    }
   ],
   "source": [
    "mult_ndarray([[1, 1], [1, 1]], [[1, 2], [3, 4]])"
   ]
  },
  {
   "cell_type": "markdown",
   "metadata": {},
   "source": [
    "Manuellement ce n'est pas trop dur :"
   ]
  },
  {
   "cell_type": "code",
   "execution_count": 31,
   "metadata": {
    "collapsed": true
   },
   "outputs": [],
   "source": [
    "def mult_mat(A : list, B : list) -> list:\n",
    "    n, m = len(A), len(A[0])  # A est (n, m)\n",
    "    m2, p = len(B), len(B[0]) # B est (m2, p)\n",
    "    assert m == m2\n",
    "    C = [[0 for _ in range(p)] for _ in range(n)]  # C est (n, p)\n",
    "    for i in range(n):\n",
    "        for j in range(p):\n",
    "            for k in range(m):\n",
    "                C[i][j] += A[i][k] * B[k][j]\n",
    "    return C\n",
    "\n",
    "# Pas possible d'avoir un neutre pour une taille quelconque !\n",
    "monoide_mat = lambda n, m: {\n",
    "    'mult': mult_mat,\n",
    "    'neutre': [[int(i==j) for j in range(m)] for i in range(n)]  # I est (n, m)\n",
    "}"
   ]
  },
  {
   "cell_type": "code",
   "execution_count": 32,
   "metadata": {},
   "outputs": [
    {
     "data": {
      "text/plain": [
       "[[4, 6], [4, 6]]"
      ]
     },
     "execution_count": 32,
     "metadata": {},
     "output_type": "execute_result"
    }
   ],
   "source": [
    "mult_mat([[1, 1], [1, 1]], [[1, 2], [3, 4]])"
   ]
  },
  {
   "cell_type": "markdown",
   "metadata": {},
   "source": [
    "## Exercice 21"
   ]
  },
  {
   "cell_type": "code",
   "execution_count": 33,
   "metadata": {
    "collapsed": true
   },
   "outputs": [],
   "source": [
    "def exp_rapide(monoide : dict, x, n : int):\n",
    "    mult = monoide['mult']\n",
    "    assert n >= 0\n",
    "    if n == 0:\n",
    "        return monoide['neutre']\n",
    "    elif n == 1:\n",
    "        return x\n",
    "    elif n % 2 == 0:\n",
    "        return exp_rapide(monoide, mult(x, x), n // 2)\n",
    "    elif n % 2 == 1:\n",
    "        return mult(exp_rapide(monoide, mult(x, x), (n - 1) // 2), x)"
   ]
  },
  {
   "cell_type": "markdown",
   "metadata": {},
   "source": [
    "## Exercice 22"
   ]
  },
  {
   "cell_type": "code",
   "execution_count": 34,
   "metadata": {
    "collapsed": true
   },
   "outputs": [],
   "source": [
    "def exp_rapide_float(x : float, n : int) -> float:\n",
    "    return exp_rapide(monoide_flottants, x, n)"
   ]
  },
  {
   "cell_type": "code",
   "execution_count": 35,
   "metadata": {},
   "outputs": [
    {
     "data": {
      "text/plain": [
       "256.0"
      ]
     },
     "execution_count": 35,
     "metadata": {},
     "output_type": "execute_result"
    }
   ],
   "source": [
    "exp_rapide_float(2.0, 8)"
   ]
  },
  {
   "cell_type": "code",
   "execution_count": 36,
   "metadata": {},
   "outputs": [
    {
     "data": {
      "text/plain": [
       "2.560000000000002e-06"
      ]
     },
     "execution_count": 36,
     "metadata": {},
     "output_type": "execute_result"
    }
   ],
   "source": [
    "exp_rapide_float(0.2, 8)"
   ]
  },
  {
   "cell_type": "markdown",
   "metadata": {},
   "source": [
    "Et pour les matrices, un petit piège à cause des tailles :"
   ]
  },
  {
   "cell_type": "code",
   "execution_count": 37,
   "metadata": {
    "collapsed": true
   },
   "outputs": [],
   "source": [
    "def exp_rapide_mat(A : list, k : int) -> float:\n",
    "    n, m = len(A), len(A[0])\n",
    "    mono = monoide_mat(n, m)\n",
    "    return exp_rapide(mono, A, k)"
   ]
  },
  {
   "cell_type": "code",
   "execution_count": 38,
   "metadata": {},
   "outputs": [
    {
     "data": {
      "text/plain": [
       "[[1, 0], [0, 1]]"
      ]
     },
     "execution_count": 38,
     "metadata": {},
     "output_type": "execute_result"
    },
    {
     "data": {
      "text/plain": [
       "[[1, 1], [1, 1]]"
      ]
     },
     "execution_count": 38,
     "metadata": {},
     "output_type": "execute_result"
    },
    {
     "data": {
      "text/plain": [
       "[[2, 2], [2, 2]]"
      ]
     },
     "execution_count": 38,
     "metadata": {},
     "output_type": "execute_result"
    },
    {
     "data": {
      "text/plain": [
       "[[4, 4], [4, 4]]"
      ]
     },
     "execution_count": 38,
     "metadata": {},
     "output_type": "execute_result"
    },
    {
     "data": {
      "text/plain": [
       "[[8, 8], [8, 8]]"
      ]
     },
     "execution_count": 38,
     "metadata": {},
     "output_type": "execute_result"
    }
   ],
   "source": [
    "for k in range(5):\n",
    "    exp_rapide_mat([[1, 1], [1, 1]], k)"
   ]
  },
  {
   "cell_type": "code",
   "execution_count": 42,
   "metadata": {},
   "outputs": [
    {
     "data": {
      "text/plain": [
       "[[1, 0, 0], [0, 1, 0], [0, 0, 1]]"
      ]
     },
     "execution_count": 42,
     "metadata": {},
     "output_type": "execute_result"
    },
    {
     "data": {
      "text/plain": [
       "[[0, 1, 2], [0, 0, 1], [0, 0, 0]]"
      ]
     },
     "execution_count": 42,
     "metadata": {},
     "output_type": "execute_result"
    },
    {
     "data": {
      "text/plain": [
       "[[0, 0, 1], [0, 0, 0], [0, 0, 0]]"
      ]
     },
     "execution_count": 42,
     "metadata": {},
     "output_type": "execute_result"
    },
    {
     "data": {
      "text/plain": [
       "[[0, 0, 0], [0, 0, 0], [0, 0, 0]]"
      ]
     },
     "execution_count": 42,
     "metadata": {},
     "output_type": "execute_result"
    },
    {
     "data": {
      "text/plain": [
       "[[0, 0, 0], [0, 0, 0], [0, 0, 0]]"
      ]
     },
     "execution_count": 42,
     "metadata": {},
     "output_type": "execute_result"
    }
   ],
   "source": [
    "for k in range(5):  # nilpotente\n",
    "    exp_rapide_mat([[0, 1, 2], [0, 0, 1], [0, 0, 0]], k)"
   ]
  },
  {
   "cell_type": "markdown",
   "metadata": {},
   "source": [
    "## Exercice 23"
   ]
  },
  {
   "cell_type": "code",
   "execution_count": 48,
   "metadata": {},
   "outputs": [],
   "source": [
    "from operator import mul\n",
    "\n",
    "def exp_rapide_2(x, n : int):\n",
    "    def mul_par_x(y):\n",
    "        return x * y\n",
    "    return itere(mul_par_x, n)(x)"
   ]
  },
  {
   "cell_type": "code",
   "execution_count": 49,
   "metadata": {},
   "outputs": [
    {
     "data": {
      "text/plain": [
       "512.0"
      ]
     },
     "execution_count": 49,
     "metadata": {},
     "output_type": "execute_result"
    }
   ],
   "source": [
    "exp_rapide_2(2.0, 8)"
   ]
  },
  {
   "cell_type": "markdown",
   "metadata": {},
   "source": [
    "----\n",
    "# Formule du calcul propositionnel\n",
    "\n",
    "*Spoiler alert* : en Python, c'est chaud.\n",
    "\n",
    "On va faire des choses non typées, avec des dictionnaires, pour bidouiller.\n",
    "\n",
    "## Exercice 24"
   ]
  },
  {
   "cell_type": "markdown",
   "metadata": {},
   "source": [
    "``(not p ^ ((q ^ not p) v (r v q)))`` s'écrit en Caml `` (Conj(Not(V(\"p\")),Disj(Conj(V(\"q\"),Not(V(\"p\"))),Disj(V(\"r\"),V(\"q\")))))``.\n",
    "\n",
    "On va imbriquer des dictionnaires, les types, `V`, `Not`, `Conj` et `Disj` seront des clés, et les valeurs seront des formules ou couples de formules.\n",
    "Mais on va cacher ça et l'utilisateur verra exactement la même chose qu'en Caml !"
   ]
  },
  {
   "cell_type": "code",
   "execution_count": 63,
   "metadata": {},
   "outputs": [
    {
     "data": {
      "text/plain": [
       "{'Conj': ({'Not': {'V': 'p'}},\n",
       "  {'Disj': ({'Conj': ({'V': 'q'}, {'Not': {'V': 'p'}})},\n",
       "    {'Disj': ({'V': 'r'}, {'V': 'q'})})})}"
      ]
     },
     "execution_count": 63,
     "metadata": {},
     "output_type": "execute_result"
    }
   ],
   "source": [
    "V = lambda x: {'V': x}\n",
    "Not = lambda x: {'Not': x}\n",
    "Disj = lambda x, y: {'Disj': (x, y)}\n",
    "Conj = lambda x, y: {'Conj': (x, y)}\n",
    "\n",
    "p = V('p')\n",
    "r = V('r')\n",
    "q = V('q')\n",
    "not_p = Not(p)\n",
    "\n",
    "f = Conj(Not(p), Disj(Conj(q, not_p), Disj(r, q)))\n",
    "f"
   ]
  },
  {
   "cell_type": "code",
   "execution_count": 59,
   "metadata": {},
   "outputs": [
    {
     "data": {
      "text/plain": [
       "{'Conj': ({'Not': {'V': 'p'}},\n",
       "  {'Disj': ({'Conj': ({'V': 'q'}, {'Not': {'V': 'p'}})},\n",
       "    {'Disj': ({'V': 'r'}, {'V': 'q'})})})}"
      ]
     },
     "execution_count": 59,
     "metadata": {},
     "output_type": "execute_result"
    }
   ],
   "source": [
    "(Conj(Not(V(\"p\")),Disj(Conj(V(\"q\"),Not(V(\"p\"))),Disj(V(\"r\"),V(\"q\")))))"
   ]
  },
  {
   "cell_type": "markdown",
   "metadata": {},
   "source": [
    "## Exercice 25"
   ]
  },
  {
   "cell_type": "markdown",
   "metadata": {},
   "source": [
    "Ensuite on fait une filtration \"à la main\" sur les clés du dictionnaire (de niveau 1, on ne récurse pas quand on teste `'V' in formule`)."
   ]
  },
  {
   "cell_type": "code",
   "execution_count": 79,
   "metadata": {
    "collapsed": true
   },
   "outputs": [],
   "source": [
    "def taille(formule : dict) -> str:\n",
    "    if 'V' in formule:\n",
    "        return 0\n",
    "    elif 'Not' in formule:\n",
    "        return 1 + taille(formule['Not'])\n",
    "    elif 'Conj' in formule:\n",
    "        x, y = formule['Conj']\n",
    "        return 1 + taille(x) + taille(y)\n",
    "    elif 'Disj' in formule:\n",
    "        x, y = formule['Disj']\n",
    "        return 1 + taille(x) + taille(y)"
   ]
  },
  {
   "cell_type": "code",
   "execution_count": 69,
   "metadata": {},
   "outputs": [
    {
     "data": {
      "text/plain": [
       "6"
      ]
     },
     "execution_count": 69,
     "metadata": {},
     "output_type": "execute_result"
    }
   ],
   "source": [
    "taille(f)"
   ]
  },
  {
   "cell_type": "markdown",
   "metadata": {},
   "source": [
    "## Exercice 26"
   ]
  },
  {
   "cell_type": "code",
   "execution_count": 109,
   "metadata": {
    "collapsed": true
   },
   "outputs": [],
   "source": [
    "def formule_to_string(formule : dict) -> str:\n",
    "    if 'V' in formule:\n",
    "        return formule['V']\n",
    "    elif 'Not' in formule:\n",
    "        return \"~\" + formule_to_string(formule['Not'])\n",
    "    elif 'Conj' in formule:\n",
    "        x, y = formule['Conj']\n",
    "        return \"(\" + formule_to_string(x) + \" ^ \" + formule_to_string(y) + \")\"\n",
    "    elif 'Disj' in formule:\n",
    "        x, y = formule['Disj']\n",
    "        return \"(\" + formule_to_string(x) + \" V \" + formule_to_string(y) + \")\""
   ]
  },
  {
   "cell_type": "code",
   "execution_count": 110,
   "metadata": {
    "collapsed": true
   },
   "outputs": [],
   "source": [
    "def affiche(formule):\n",
    "    print(formule_to_string(formule))"
   ]
  },
  {
   "cell_type": "code",
   "execution_count": 111,
   "metadata": {},
   "outputs": [
    {
     "name": "stdout",
     "output_type": "stream",
     "text": [
      "(~p ^ ((q ^ ~p) V (r V q)))\n"
     ]
    }
   ],
   "source": [
    "affiche(f)"
   ]
  },
  {
   "cell_type": "markdown",
   "metadata": {},
   "source": [
    "Et voilà. Pas tellement plus dur hein !"
   ]
  },
  {
   "cell_type": "markdown",
   "metadata": {},
   "source": [
    "## Exercice 27\n",
    "Les valeurs des variables seront données comme un dictionnaire associant nom de variable à valeurs booléennes.\n",
    "Et comme on veut frimer, on prend un [`defaultdict`](https://docs.python.org/3/library/collections.html#collections.defaultdict)."
   ]
  },
  {
   "cell_type": "code",
   "execution_count": 115,
   "metadata": {},
   "outputs": [
    {
     "data": {
      "text/plain": [
       "True"
      ]
     },
     "execution_count": 115,
     "metadata": {},
     "output_type": "execute_result"
    },
    {
     "data": {
      "text/plain": [
       "False"
      ]
     },
     "execution_count": 115,
     "metadata": {},
     "output_type": "execute_result"
    },
    {
     "data": {
      "text/plain": [
       "False"
      ]
     },
     "execution_count": 115,
     "metadata": {},
     "output_type": "execute_result"
    }
   ],
   "source": [
    "from collections import defaultdict\n",
    "\n",
    "d = defaultdict(lambda: False, {'p': True, 'q': False})\n",
    "d['p']  # -> True car présent et True\n",
    "d['q']  # -> False car présent et False\n",
    "d['x']  # -> False car absent"
   ]
  },
  {
   "cell_type": "code",
   "execution_count": 113,
   "metadata": {},
   "outputs": [],
   "source": [
    "valeurs_1 = defaultdict(lambda: False, {'p': True})"
   ]
  },
  {
   "cell_type": "code",
   "execution_count": 114,
   "metadata": {
    "collapsed": true
   },
   "outputs": [],
   "source": [
    "valeurs_2 = defaultdict(lambda: False, {'r': True})"
   ]
  },
  {
   "cell_type": "code",
   "execution_count": 89,
   "metadata": {
    "collapsed": true
   },
   "outputs": [],
   "source": [
    "def eval(valeurs : dict, formule : dict) -> bool:\n",
    "    if 'V' in formule:\n",
    "        return valeurs[formule['V']]\n",
    "    elif 'Not' in formule:\n",
    "        return not eval(valeurs, formule['Not'])\n",
    "    elif 'Conj' in formule:\n",
    "        x, y = formule['Conj']\n",
    "        return eval(valeurs, x) and eval(valeurs, y)\n",
    "    elif 'Disj' in formule:\n",
    "        x, y = formule['Disj']\n",
    "        return eval(valeurs, x) or eval(valeurs, y)"
   ]
  },
  {
   "cell_type": "code",
   "execution_count": 90,
   "metadata": {},
   "outputs": [
    {
     "data": {
      "text/plain": [
       "False"
      ]
     },
     "execution_count": 90,
     "metadata": {},
     "output_type": "execute_result"
    }
   ],
   "source": [
    "eval(valeurs_1, f)"
   ]
  },
  {
   "cell_type": "code",
   "execution_count": 91,
   "metadata": {},
   "outputs": [
    {
     "data": {
      "text/plain": [
       "True"
      ]
     },
     "execution_count": 91,
     "metadata": {},
     "output_type": "execute_result"
    }
   ],
   "source": [
    "eval(valeurs_2, f)"
   ]
  },
  {
   "cell_type": "markdown",
   "metadata": {},
   "source": [
    "## Exercice 28"
   ]
  },
  {
   "cell_type": "code",
   "execution_count": 93,
   "metadata": {
    "collapsed": true
   },
   "outputs": [],
   "source": [
    "def extrait_variables_x(formule : dict) -> list:\n",
    "    if 'V' in formule:\n",
    "        return [formule['V']]\n",
    "    elif 'Not' in formule:\n",
    "        return extrait_variables_x(formule['Not'])\n",
    "    elif 'Conj' in formule:\n",
    "        x, y = formule['Conj']\n",
    "        return extrait_variables_x(x) + extrait_variables_x(y)\n",
    "    elif 'Disj' in formule:\n",
    "        x, y = formule['Disj']\n",
    "        return extrait_variables_x(x) + extrait_variables_x(y)\n",
    "\n",
    "# on enlève les doublons\n",
    "def extrait_variables(formule : dict) -> list:\n",
    "    return list(set(extrait_variables_x(formule)))"
   ]
  },
  {
   "cell_type": "code",
   "execution_count": 94,
   "metadata": {},
   "outputs": [
    {
     "data": {
      "text/plain": [
       "['p', 'r', 'q']"
      ]
     },
     "execution_count": 94,
     "metadata": {},
     "output_type": "execute_result"
    }
   ],
   "source": [
    "extrait_variables(f)"
   ]
  },
  {
   "cell_type": "markdown",
   "metadata": {},
   "source": [
    "On trouve facilement les $n$ variables d'une formule.\n",
    "\n",
    "Ensuite, un [`itertools.product`](https://docs.python.org/3/library/itertools.html#itertools.product) permet de générer les $2^n$ valuations."
   ]
  },
  {
   "cell_type": "code",
   "execution_count": 98,
   "metadata": {},
   "outputs": [],
   "source": [
    "from itertools import product\n",
    "\n",
    "def toutes_valeurs(variables):\n",
    "    for valeurs in product([False, True], repeat=len(variables)):\n",
    "        yield defaultdict(lambda: False, {k:v for k,v in zip(variables, valeurs)})"
   ]
  },
  {
   "cell_type": "code",
   "execution_count": 103,
   "metadata": {},
   "outputs": [
    {
     "data": {
      "text/plain": [
       "[defaultdict(<function __main__.toutes_valeurs.<locals>.<lambda>>,\n",
       "             {'p': False, 'q': False, 'r': False}),\n",
       " defaultdict(<function __main__.toutes_valeurs.<locals>.<lambda>>,\n",
       "             {'p': False, 'q': True, 'r': False}),\n",
       " defaultdict(<function __main__.toutes_valeurs.<locals>.<lambda>>,\n",
       "             {'p': False, 'q': False, 'r': True}),\n",
       " defaultdict(<function __main__.toutes_valeurs.<locals>.<lambda>>,\n",
       "             {'p': False, 'q': True, 'r': True}),\n",
       " defaultdict(<function __main__.toutes_valeurs.<locals>.<lambda>>,\n",
       "             {'p': True, 'q': False, 'r': False}),\n",
       " defaultdict(<function __main__.toutes_valeurs.<locals>.<lambda>>,\n",
       "             {'p': True, 'q': True, 'r': False}),\n",
       " defaultdict(<function __main__.toutes_valeurs.<locals>.<lambda>>,\n",
       "             {'p': True, 'q': False, 'r': True}),\n",
       " defaultdict(<function __main__.toutes_valeurs.<locals>.<lambda>>,\n",
       "             {'p': True, 'q': True, 'r': True})]"
      ]
     },
     "execution_count": 103,
     "metadata": {},
     "output_type": "execute_result"
    }
   ],
   "source": [
    "list(toutes_valeurs(extrait_variables(f)))"
   ]
  },
  {
   "cell_type": "code",
   "execution_count": 106,
   "metadata": {
    "collapsed": true
   },
   "outputs": [],
   "source": [
    "def str_of_bool(x : bool) -> str:\n",
    "    # return str(int(x))\n",
    "    return '1' if x else '0'"
   ]
  },
  {
   "cell_type": "code",
   "execution_count": 116,
   "metadata": {
    "collapsed": true
   },
   "outputs": [],
   "source": [
    "def table_verite(formule : dict) -> None:\n",
    "    variables = extrait_variables(formule)\n",
    "    # D'abord la formule\n",
    "    for k in variables:\n",
    "        print(k, end=' ')\n",
    "    print('| ', end='')\n",
    "    affiche(f)\n",
    "    # Puis toutes ces valeurs possibles\n",
    "    for valeurs in toutes_valeurs(variables):\n",
    "        for k in variables:\n",
    "            print(str_of_bool(valeurs[k]), end=' ')\n",
    "        print('| ', end='')\n",
    "        print(str_of_bool(eval(valeurs, formule)))"
   ]
  },
  {
   "cell_type": "code",
   "execution_count": 117,
   "metadata": {},
   "outputs": [
    {
     "name": "stdout",
     "output_type": "stream",
     "text": [
      "p r q | (~p ^ ((q ^ ~p) V (r V q)))\n",
      "0 0 0 | 0\n",
      "0 0 1 | 1\n",
      "0 1 0 | 1\n",
      "0 1 1 | 1\n",
      "1 0 0 | 0\n",
      "1 0 1 | 0\n",
      "1 1 0 | 0\n",
      "1 1 1 | 0\n"
     ]
    }
   ],
   "source": [
    "table_verite(f)"
   ]
  },
  {
   "cell_type": "markdown",
   "metadata": {},
   "source": [
    "Note : ce code est encore plus concis que celui donné dans la solution en Caml.\n",
    "\n",
    "> On peut vérifier, par exemple sur [Wolfram|Alpha](https%3A%2F%2Fwww.wolframalpha.com%2Finput%2F%3Fi%3D%28%7Ep%2B%2526%2B%28%28q%2B%2526%2B%7Ep%29%2B%257C%2B%28r%2B%257C%2Bq%29%29%29) que l'on obtient bien le bon résultat..."
   ]
  },
  {
   "cell_type": "markdown",
   "metadata": {},
   "source": [
    "----\n",
    "\n",
    "# Conclusion\n",
    "\n",
    "Comme vous le voyez, on arrive à répondre aux mêmes questions dans les deux langages, et il n'y a pas de grosses différences en pratique dans la mise en oeuvre.\n",
    "\n",
    "Là où Caml excelle pour les types définis, le filtrage et la récursion, Python gagne en simplicité sur l'affichage, sa librairie standard et les dictionnaires et ensembles..."
   ]
  }
 ],
 "metadata": {
  "kernelspec": {
   "display_name": "Python 3",
   "language": "python",
   "name": "python3"
  },
  "language_info": {
   "codemirror_mode": {
    "name": "ipython",
    "version": 3
   },
   "file_extension": ".py",
   "mimetype": "text/x-python",
   "name": "python",
   "nbconvert_exporter": "python",
   "pygments_lexer": "ipython3",
   "version": "3.5.3"
  },
  "toc": {
   "colors": {
    "hover_highlight": "#DAA520",
    "running_highlight": "#FF0000",
    "selected_highlight": "#FFD700"
   },
   "moveMenuLeft": true,
   "nav_menu": {
    "height": "365px",
    "width": "251px"
   },
   "navigate_menu": true,
   "number_sections": true,
   "sideBar": true,
   "threshold": 4,
   "toc_cell": true,
   "toc_position": {
    "height": "523px",
    "left": "0px",
    "right": "1068px",
    "top": "116px",
    "width": "212px"
   },
   "toc_section_display": "block",
   "toc_window_display": true
  }
 },
 "nbformat": 4,
 "nbformat_minor": 2
}
