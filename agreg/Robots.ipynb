{
 "cells": [
  {
   "cell_type": "markdown",
   "metadata": {
    "toc": "true"
   },
   "source": [
    "# Table of Contents\n",
    " <p><div class=\"lev1 toc-item\"><a href=\"#Texte-d'oral-de-modélisation---Agrégation-Option-Informatique\" data-toc-modified-id=\"Texte-d'oral-de-modélisation---Agrégation-Option-Informatique-1\"><span class=\"toc-item-num\">1&nbsp;&nbsp;</span>Texte d'oral de modélisation - Agrégation Option Informatique</a></div><div class=\"lev2 toc-item\"><a href=\"#Préparation-à-l'agrégation---ENS-de-Rennes,-2016-17\" data-toc-modified-id=\"Préparation-à-l'agrégation---ENS-de-Rennes,-2016-17-11\"><span class=\"toc-item-num\">1.1&nbsp;&nbsp;</span>Préparation à l'agrégation - ENS de Rennes, 2016-17</a></div><div class=\"lev2 toc-item\"><a href=\"#À-propos-de-ce-document\" data-toc-modified-id=\"À-propos-de-ce-document-12\"><span class=\"toc-item-num\">1.2&nbsp;&nbsp;</span>À propos de ce document</a></div><div class=\"lev2 toc-item\"><a href=\"#Question-de-programmation\" data-toc-modified-id=\"Question-de-programmation-13\"><span class=\"toc-item-num\">1.3&nbsp;&nbsp;</span>Question de programmation</a></div><div class=\"lev2 toc-item\"><a href=\"#Réponse-à-l'exercice-requis\" data-toc-modified-id=\"Réponse-à-l'exercice-requis-14\"><span class=\"toc-item-num\">1.4&nbsp;&nbsp;</span>Réponse à l'exercice requis</a></div><div class=\"lev2 toc-item\"><a href=\"#Conclusion\" data-toc-modified-id=\"Conclusion-15\"><span class=\"toc-item-num\">1.5&nbsp;&nbsp;</span>Conclusion</a></div>"
   ]
  },
  {
   "cell_type": "markdown",
   "metadata": {},
   "source": [
    "# Texte d'oral de modélisation - Agrégation Option Informatique\n",
    "## Préparation à l'agrégation - ENS de Rennes, 2016-17\n",
    "- *Date* : 12 mai 2017\n",
    "- *Auteur* : [Lilian Besson](https://GitHub.com/Naereen/notebooks/)\n",
    "- *Texte*: Annale 2008, [\"Robots\"](http://agreg.org/Textes/pub2008-D1.pdf)"
   ]
  },
  {
   "cell_type": "markdown",
   "metadata": {},
   "source": [
    "## À propos de ce document\n",
    "- Ceci est une *proposition* de correction, partielle et probablement non-optimale, pour la partie implémentation d'un [texte d'annale de l'agrégation de mathématiques, option informatique](http://Agreg.org/Textes/).\n",
    "- Ce document est un [notebook Jupyter](https://www.Jupyter.org/), et [est open-source sous Licence MIT sur GitHub](https://github.com/Naereen/notebooks/tree/master/agreg/), comme les autres solutions de textes de modélisation que [j](https://GitHub.com/Naereen)'ai écrite cette année.\n",
    "- L'implémentation sera faite en OCaml, version 4+ :"
   ]
  },
  {
   "cell_type": "code",
   "execution_count": 2,
   "metadata": {
    "scrolled": true
   },
   "outputs": [
    {
     "name": "stdout",
     "output_type": "stream",
     "text": [
      "The OCaml toplevel, version 4.02.3\n"
     ]
    },
    {
     "data": {
      "text/html": [
       "<pre style=\"color:slategray;max-height:100px;overflow:hidden\" \n",
       "onclick=\"\n",
       "if (this.style.maxHeight === 'none') \n",
       "    this.style.maxHeight = '100px';\n",
       "else\n",
       "    this.style.maxHeight = 'none'; \n",
       "\">- : int = 0\n",
       "</pre>"
      ]
     },
     "execution_count": 2,
     "metadata": {},
     "output_type": "execute_result"
    }
   ],
   "source": [
    "Sys.command \"ocaml -version\";;"
   ]
  },
  {
   "cell_type": "markdown",
   "metadata": {},
   "source": [
    "----\n",
    "## Question de programmation\n",
    "La question de programmation pour ce texte était donnée au milieu, en page 3 :\n",
    "\n",
    "> « On suppose donnés les tableaux $T_i$. Un état du système est représenté par un vecteur $U$ de longueur $n$, dont la $i$-ème composante contient la position du robot $R_i$ (sous forme du numéro $j$ du lieu $L_j$ où il se trouve). »\n",
    "\n",
    "> « Écrire une fonction/procédure/méthode transition qui transforme $U$ en un état suivant du système (on admettra que les données sont telles qu’il existe un état suivant).\n",
    "Simuler le système de robots pendant $n$ unités de temps. On prendra comme état initial du robot $R_i$ le premier élément du tableau $T_i$ . »"
   ]
  },
  {
   "cell_type": "markdown",
   "metadata": {},
   "source": [
    "----\n",
    "## Réponse à l'exercice requis"
   ]
  },
  {
   "cell_type": "code",
   "execution_count": null,
   "metadata": {
    "collapsed": true
   },
   "outputs": [],
   "source": [
    "(* robots.pdf : texte modélisation 2012\n",
    "\n",
    " @date: 12-05-17\n",
    " @author: Romain Dubourg\n",
    " *)\n",
    "\n",
    "type etat = int array;;\n",
    "type liste_rdv = (int array) array;;\n",
    "\n",
    "(*On crée une fonction \"trouve\" qui rend la première position de x dans un tableau et -1 sinon.*)\n",
    "\n",
    "let rec trouve (x:int) (a:int array) (i:int) : (int) =\n",
    "  match (Array.to_list a) with\n",
    "    |[] -> -1\n",
    "    |t::_ when (t=x) -> i\n",
    "    |_::q -> trouve x (Array.of_list q) (i+1);;\n",
    "\n",
    "(*On crée une fonction \"rdv\" qui pour un état du système nous rend la liste des paires de robots pouvant réaliser un rendez-vous.*)\n",
    "\n",
    "let rdv (u:etat) : ((int*int) list) = \n",
    "  let ls = ref [] in\n",
    "  let n = Array.length u in\n",
    "  for k=0 to n-1 do\n",
    "    let i = (trouve u.(k) (Array.sub u (k+1) (n-(k+1))) 0) in\n",
    "      if (i>=0) then\n",
    "\tls := (k,i+k+1)::!ls;\n",
    "  done;\n",
    "   !ls;;\n",
    "\n",
    "(*On crée une fonction \"realise_rdv\" qui étant donné un état et une paire de robots pouvant réaliser un rendez-vous, le réalise.*)\n",
    "\n",
    "let realise_rdv ((i1,i2):int*int) (u:etat) (l:liste_rdv) : (etat) =\n",
    "  u.(i1) <- (((u.(i1)+1) mod (Array.length l.(i1))));\n",
    "  u.(i2) <- (((u.(i2)+1) mod (Array.length l.(i2))));\n",
    "  u;;\n",
    "\n",
    "(*On crée la fonction principale \"transition\" qui à partir d'un état calcule l'étal suivant.*)\n",
    "\n",
    "let transition (u1:etat) (l:liste_rdv) : (etat) =\n",
    "  let ls = rdv u1 in\n",
    "  let rec aux (u2:etat) (l1:(int*int) list) (l2:liste_rdv) : (etat) =\n",
    "    match l1 with\n",
    "      |[] -> u2\n",
    "      |t::q -> aux (realise_rdv t u2 l2) q l2 in\n",
    "    aux u1 ls l;;\n",
    "\n",
    "(*On crée la fonction \"n_transitions\" qui effectue n transitions successives.*)\n",
    "\n",
    "let rec n_transitions (u:etat) (l:liste_rdv) (n:int) : (etat) =\n",
    "  if (n=0) then u\n",
    "  else n_transitions u l (n-1);;\n",
    "\n",
    "\n",
    "\n",
    "\n",
    "(*TESTS*)\n",
    "\n",
    "let ex1 = [| [|0;1;2|]; [|0|]; [|1;3|]; [|2;3|] |];;\n",
    "let ex1_1 = [| 0;0;1;2 |];;\n",
    "let ex1_2 = [| 0;0;3;2 |];;\n",
    "\n",
    "let _ = transition ex1_1 ex1\n",
    "let _ = n_transitions ex1_1 ex1 4\n"
   ]
  },
  {
   "cell_type": "markdown",
   "metadata": {},
   "source": [
    "----\n",
    "## Conclusion\n",
    "\n",
    "Voilà pour la question obligatoire de programmation :\n",
    "\n",
    "- on a préféré être prudent, en testant avec l'exemple du texte (calcul propositionnel) mais on a essayé un autre exemple,\n",
    "- on a fait des exemples et *on les garde* dans ce qu'on présente au jury.\n",
    "\n",
    "Et on a essayé de faire *un peu plus*, en implémentant l'algorithme d'évaluation des termes.\n",
    "\n",
    "> Bien-sûr, ce petit notebook ne se prétend pas être une solution optimale, ni exhaustive.\n",
    "\n",
    "> Merci à Aude et Vlad pour leur implémentation, sur laquelle ce document est principalement basé."
   ]
  }
 ],
 "metadata": {
  "kernelspec": {
   "display_name": "OCaml",
   "language": "ocaml",
   "name": "iocaml-kernel"
  },
  "language_info": {
   "name": "ocaml",
   "version": "4.1.0"
  },
  "toc": {
   "colors": {
    "hover_highlight": "#DAA520",
    "running_highlight": "#FF0000",
    "selected_highlight": "#FFD700"
   },
   "moveMenuLeft": true,
   "nav_menu": {
    "height": "289px",
    "width": "252px"
   },
   "navigate_menu": true,
   "number_sections": true,
   "sideBar": true,
   "threshold": 4,
   "toc_cell": true,
   "toc_position": {
    "height": "657px",
    "left": "0px",
    "right": "1127px",
    "top": "117px",
    "width": "249px"
   },
   "toc_section_display": "block",
   "toc_window_display": true
  }
 },
 "nbformat": 4,
 "nbformat_minor": 2
}
