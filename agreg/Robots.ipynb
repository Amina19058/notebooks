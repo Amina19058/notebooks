{
 "cells": [
  {
   "cell_type": "markdown",
   "metadata": {
    "toc": "true"
   },
   "source": [
    "# Table of Contents\n",
    " <p><div class=\"lev1 toc-item\"><a href=\"#Texte-d'oral-de-modélisation---Agrégation-Option-Informatique\" data-toc-modified-id=\"Texte-d'oral-de-modélisation---Agrégation-Option-Informatique-1\"><span class=\"toc-item-num\">1&nbsp;&nbsp;</span>Texte d'oral de modélisation - Agrégation Option Informatique</a></div><div class=\"lev2 toc-item\"><a href=\"#Préparation-à-l'agrégation---ENS-de-Rennes,-2016-17\" data-toc-modified-id=\"Préparation-à-l'agrégation---ENS-de-Rennes,-2016-17-11\"><span class=\"toc-item-num\">1.1&nbsp;&nbsp;</span>Préparation à l'agrégation - ENS de Rennes, 2016-17</a></div><div class=\"lev2 toc-item\"><a href=\"#À-propos-de-ce-document\" data-toc-modified-id=\"À-propos-de-ce-document-12\"><span class=\"toc-item-num\">1.2&nbsp;&nbsp;</span>À propos de ce document</a></div><div class=\"lev2 toc-item\"><a href=\"#Question-de-programmation\" data-toc-modified-id=\"Question-de-programmation-13\"><span class=\"toc-item-num\">1.3&nbsp;&nbsp;</span>Question de programmation</a></div><div class=\"lev3 toc-item\"><a href=\"#Plus-ou-moins-de-liberté-dans-le-choix-de-modélisation-?\" data-toc-modified-id=\"Plus-ou-moins-de-liberté-dans-le-choix-de-modélisation-?-131\"><span class=\"toc-item-num\">1.3.1&nbsp;&nbsp;</span>Plus ou moins de liberté dans le choix de modélisation ?</a></div><div class=\"lev2 toc-item\"><a href=\"#Réponse-à-l'exercice-requis,-première-approche\" data-toc-modified-id=\"Réponse-à-l'exercice-requis,-première-approche-14\"><span class=\"toc-item-num\">1.4&nbsp;&nbsp;</span>Réponse à l'exercice requis, première approche</a></div><div class=\"lev3 toc-item\"><a href=\"#Représentations-d'un-graphe\" data-toc-modified-id=\"Représentations-d'un-graphe-141\"><span class=\"toc-item-num\">1.4.1&nbsp;&nbsp;</span>Représentations d'un graphe</a></div><div class=\"lev3 toc-item\"><a href=\"#Fonctions-utilitaires\" data-toc-modified-id=\"Fonctions-utilitaires-142\"><span class=\"toc-item-num\">1.4.2&nbsp;&nbsp;</span>Fonctions utilitaires</a></div><div class=\"lev3 toc-item\"><a href=\"#Automates-finis-et-automates-multiples\" data-toc-modified-id=\"Automates-finis-et-automates-multiples-143\"><span class=\"toc-item-num\">1.4.3&nbsp;&nbsp;</span>Automates finis et automates multiples</a></div><div class=\"lev3 toc-item\"><a href=\"#Automate-produit\" data-toc-modified-id=\"Automate-produit-144\"><span class=\"toc-item-num\">1.4.4&nbsp;&nbsp;</span>Automate produit</a></div><div class=\"lev3 toc-item\"><a href=\"#Transitions-et-simulations\" data-toc-modified-id=\"Transitions-et-simulations-145\"><span class=\"toc-item-num\">1.4.5&nbsp;&nbsp;</span>Transitions et simulations</a></div><div class=\"lev3 toc-item\"><a href=\"#Il-faut-simuler-l'évolution-de-l'automate-durant-n-étapes\" data-toc-modified-id=\"Il-faut-simuler-l'évolution-de-l'automate-durant-n-étapes-146\"><span class=\"toc-item-num\">1.4.6&nbsp;&nbsp;</span>Il faut simuler l'évolution de l'automate durant n étapes</a></div><div class=\"lev3 toc-item\"><a href=\"#Exemple-1\" data-toc-modified-id=\"Exemple-1-147\"><span class=\"toc-item-num\">1.4.7&nbsp;&nbsp;</span>Exemple 1</a></div><div class=\"lev3 toc-item\"><a href=\"#Exemple-2\" data-toc-modified-id=\"Exemple-2-148\"><span class=\"toc-item-num\">1.4.8&nbsp;&nbsp;</span>Exemple 2</a></div><div class=\"lev2 toc-item\"><a href=\"#Réponse-à-l'exercice-requis,-seconde-approche\" data-toc-modified-id=\"Réponse-à-l'exercice-requis,-seconde-approche-15\"><span class=\"toc-item-num\">1.5&nbsp;&nbsp;</span>Réponse à l'exercice requis, seconde approche</a></div><div class=\"lev3 toc-item\"><a href=\"#Choix-des-structures-de-données\" data-toc-modified-id=\"Choix-des-structures-de-données-151\"><span class=\"toc-item-num\">1.5.1&nbsp;&nbsp;</span>Choix des structures de données</a></div><div class=\"lev3 toc-item\"><a href=\"#Fonction-transition\" data-toc-modified-id=\"Fonction-transition-152\"><span class=\"toc-item-num\">1.5.2&nbsp;&nbsp;</span>Fonction <code>transition</code></a></div><div class=\"lev3 toc-item\"><a href=\"#Plein-d'exemples\" data-toc-modified-id=\"Plein-d'exemples-153\"><span class=\"toc-item-num\">1.5.3&nbsp;&nbsp;</span>Plein d'exemples</a></div><div class=\"lev2 toc-item\"><a href=\"#Conclusion\" data-toc-modified-id=\"Conclusion-16\"><span class=\"toc-item-num\">1.6&nbsp;&nbsp;</span>Conclusion</a></div><div class=\"lev2 toc-item\"><a href=\"#Une-autre-approche-avec-des-chaînes-de-Markov\" data-toc-modified-id=\"Une-autre-approche-avec-des-chaînes-de-Markov-17\"><span class=\"toc-item-num\">1.7&nbsp;&nbsp;</span>Une autre approche avec des chaînes de Markov</a></div><div class=\"lev3 toc-item\"><a href=\"#Opérations-matrice-vecteur\" data-toc-modified-id=\"Opérations-matrice-vecteur-171\"><span class=\"toc-item-num\">1.7.1&nbsp;&nbsp;</span>Opérations matrice-vecteur</a></div><div class=\"lev3 toc-item\"><a href=\"#Simuler-une-étape-d'une-chaîne-de-Markov-?\" data-toc-modified-id=\"Simuler-une-étape-d'une-chaîne-de-Markov-?-172\"><span class=\"toc-item-num\">1.7.2&nbsp;&nbsp;</span>Simuler une étape d'une chaîne de Markov ?</a></div><div class=\"lev3 toc-item\"><a href=\"#Modéliser-nos-robots-avec-une-chaîne-de-Markov\" data-toc-modified-id=\"Modéliser-nos-robots-avec-une-chaîne-de-Markov-173\"><span class=\"toc-item-num\">1.7.3&nbsp;&nbsp;</span>Modéliser nos robots avec une chaîne de Markov</a></div><div class=\"lev3 toc-item\"><a href=\"#Exemple\" data-toc-modified-id=\"Exemple-174\"><span class=\"toc-item-num\">1.7.4&nbsp;&nbsp;</span>Exemple</a></div><div class=\"lev3 toc-item\"><a href=\"#Conclusion-de-cette-approche-par-des-chaînes-de-Markov\" data-toc-modified-id=\"Conclusion-de-cette-approche-par-des-chaînes-de-Markov-175\"><span class=\"toc-item-num\">1.7.5&nbsp;&nbsp;</span>Conclusion de cette approche par des chaînes de Markov</a></div>"
   ]
  },
  {
   "cell_type": "markdown",
   "metadata": {},
   "source": [
    "# Texte d'oral de modélisation - Agrégation Option Informatique\n",
    "## Préparation à l'agrégation - ENS de Rennes, 2016-17\n",
    "- *Date* : 12 mai 2017\n",
    "- *Auteur* : [Lilian Besson](https://GitHub.com/Naereen/notebooks/)\n",
    "- *Texte*: Annale 2008, [\"Robots\"](http://agreg.org/Textes/pub2008-D1.pdf)"
   ]
  },
  {
   "cell_type": "markdown",
   "metadata": {},
   "source": [
    "## À propos de ce document\n",
    "- Ceci est une *proposition* de correction, partielle et probablement non-optimale, pour la partie implémentation d'un [texte d'annale de l'agrégation de mathématiques, option informatique](http://Agreg.org/Textes/).\n",
    "- Ce document est un [notebook Jupyter](https://www.Jupyter.org/), et [est open-source sous Licence MIT sur GitHub](https://github.com/Naereen/notebooks/tree/master/agreg/), comme les autres solutions de textes de modélisation que [j](https://GitHub.com/Naereen)'ai écrite cette année.\n",
    "- L'implémentation sera faite en OCaml, version 4+ :"
   ]
  },
  {
   "cell_type": "code",
   "execution_count": 1,
   "metadata": {
    "scrolled": true
   },
   "outputs": [
    {
     "name": "stdout",
     "output_type": "stream",
     "text": [
      "The OCaml toplevel, version 4.02.3\n"
     ]
    },
    {
     "data": {
      "text/html": [
       "<pre style=\"color:slategray;max-height:100px;overflow:hidden\" \n",
       "onclick=\"\n",
       "if (this.style.maxHeight === 'none') \n",
       "    this.style.maxHeight = '100px';\n",
       "else\n",
       "    this.style.maxHeight = 'none'; \n",
       "\">- : int = 0\n",
       "</pre>"
      ]
     },
     "execution_count": 1,
     "metadata": {},
     "output_type": "execute_result"
    }
   ],
   "source": [
    "Sys.command \"ocaml -version\";;"
   ]
  },
  {
   "cell_type": "markdown",
   "metadata": {},
   "source": [
    "----\n",
    "## Question de programmation\n",
    "La question de programmation pour ce texte était donnée au milieu, en page 3 :\n",
    "\n",
    "> « On suppose donnés les tableaux $T_i$. Un état du système est représenté par un vecteur $U$ de longueur $n$, dont la $i$-ème composante contient la position du robot $R_i$ (sous forme du numéro $j$ du lieu $L_j$ où il se trouve). »\n",
    "\n",
    "> « Écrire une fonction/procédure/méthode transition qui transforme $U$ en un état suivant du système (on admettra que les données sont telles qu’il existe un état suivant).\n",
    "Simuler le système de robots pendant $n$ unités de temps. On prendra comme état initial du robot $R_i$ le premier élément du tableau $T_i$ . »"
   ]
  },
  {
   "cell_type": "markdown",
   "metadata": {},
   "source": [
    "### Plus ou moins de liberté dans le choix de modélisation ?\n",
    "Vous remarquez que même avec une question bien précise comme celle-là, on dispose d'une relative liberté : la question n'impose pas le choix de modélisation !\n",
    "\n",
    "Elle pourrait être traitée avec un automate ou graphe produit non simplifié (1ère solution ci-dessous), ou un graphe produit plus réduit (2ème solution), mais on aurait tout aussi pu utiliser une approche probabiliste, avec des chaînes de Markov par exemple (3ème solution)."
   ]
  },
  {
   "cell_type": "markdown",
   "metadata": {},
   "source": [
    "----\n",
    "## Réponse à l'exercice requis, première approche\n",
    "\n",
    "Cette première solution, assez longue, est telle quelle celle que j'avais implémentée en novembre 2013, durant [ma préparation à l'agrégation en 2013-14](http://perso.crans.org/besson/agreg-2014/).\n",
    "\n",
    "Elle est assez longue, mais montre beaucoup de techniques différentes dans les fonctions intermédiaires."
   ]
  },
  {
   "cell_type": "code",
   "execution_count": 2,
   "metadata": {},
   "outputs": [
    {
     "data": {
      "text/html": [
       "<pre style=\"color:slategray;max-height:100px;overflow:hidden\" \n",
       "onclick=\"\n",
       "if (this.style.maxHeight === 'none') \n",
       "    this.style.maxHeight = '100px';\n",
       "else\n",
       "    this.style.maxHeight = 'none'; \n",
       "\">val print : ('a, Format.formatter, unit) format -&gt; 'a = &lt;fun&gt;\n",
       "</pre>"
      ]
     },
     "execution_count": 2,
     "metadata": {},
     "output_type": "execute_result"
    }
   ],
   "source": [
    "let print = Format.printf;;"
   ]
  },
  {
   "cell_type": "markdown",
   "metadata": {},
   "source": [
    "### Représentations d'un graphe\n",
    "\n",
    "Les sommets d'un graphe seront des entiers, et les poids des arêtes seront aussi des entiers.\n",
    "Les graphes sont stockés par liste d'adjacence."
   ]
  },
  {
   "cell_type": "code",
   "execution_count": 3,
   "metadata": {},
   "outputs": [
    {
     "data": {
      "text/html": [
       "<pre style=\"color:slategray;max-height:100px;overflow:hidden\" \n",
       "onclick=\"\n",
       "if (this.style.maxHeight === 'none') \n",
       "    this.style.maxHeight = '100px';\n",
       "else\n",
       "    this.style.maxHeight = 'none'; \n",
       "\">type sommet = int\n",
       "</pre>"
      ]
     },
     "execution_count": 3,
     "metadata": {},
     "output_type": "execute_result"
    },
    {
     "data": {
      "text/html": [
       "<pre style=\"color:slategray;max-height:100px;overflow:hidden\" \n",
       "onclick=\"\n",
       "if (this.style.maxHeight === 'none') \n",
       "    this.style.maxHeight = '100px';\n",
       "else\n",
       "    this.style.maxHeight = 'none'; \n",
       "\">type poids = int\n",
       "</pre>"
      ]
     },
     "execution_count": 3,
     "metadata": {},
     "output_type": "execute_result"
    },
    {
     "data": {
      "text/html": [
       "<pre style=\"color:slategray;max-height:100px;overflow:hidden\" \n",
       "onclick=\"\n",
       "if (this.style.maxHeight === 'none') \n",
       "    this.style.maxHeight = '100px';\n",
       "else\n",
       "    this.style.maxHeight = 'none'; \n",
       "\">type graphe = sommet list * (sommet * poids * sommet) list\n",
       "</pre>"
      ]
     },
     "execution_count": 3,
     "metadata": {},
     "output_type": "execute_result"
    }
   ],
   "source": [
    "type sommet = int;;\n",
    "\n",
    "type poids = int;;\n",
    "\n",
    "type graphe = (sommet list) * ( (sommet * poids * sommet) list);;"
   ]
  },
  {
   "cell_type": "markdown",
   "metadata": {},
   "source": [
    "### Fonctions utilitaires"
   ]
  },
  {
   "cell_type": "markdown",
   "metadata": {},
   "source": [
    "Pour créer une liste de sommets."
   ]
  },
  {
   "cell_type": "code",
   "execution_count": 4,
   "metadata": {},
   "outputs": [
    {
     "data": {
      "text/html": [
       "<pre style=\"color:slategray;max-height:100px;overflow:hidden\" \n",
       "onclick=\"\n",
       "if (this.style.maxHeight === 'none') \n",
       "    this.style.maxHeight = '100px';\n",
       "else\n",
       "    this.style.maxHeight = 'none'; \n",
       "\">val range : int -&gt; int list = &lt;fun&gt;\n",
       "</pre>"
      ]
     },
     "execution_count": 4,
     "metadata": {},
     "output_type": "execute_result"
    },
    {
     "data": {
      "text/html": [
       "<pre style=\"color:slategray;max-height:100px;overflow:hidden\" \n",
       "onclick=\"\n",
       "if (this.style.maxHeight === 'none') \n",
       "    this.style.maxHeight = '100px';\n",
       "else\n",
       "    this.style.maxHeight = 'none'; \n",
       "\">- : int list = [1; 2; 3; 4; 5; 6; 7; 8; 9; 10; 11; 12; 13; 14]\n",
       "</pre>"
      ]
     },
     "execution_count": 4,
     "metadata": {},
     "output_type": "execute_result"
    },
    {
     "data": {
      "text/html": [
       "<pre style=\"color:slategray;max-height:100px;overflow:hidden\" \n",
       "onclick=\"\n",
       "if (this.style.maxHeight === 'none') \n",
       "    this.style.maxHeight = '100px';\n",
       "else\n",
       "    this.style.maxHeight = 'none'; \n",
       "\">- : int list = [1; 2; 3; 4]\n",
       "</pre>"
      ]
     },
     "execution_count": 4,
     "metadata": {},
     "output_type": "execute_result"
    }
   ],
   "source": [
    "(** range n = [1; 2; ...; n] *)\n",
    "let range (n : int) : int list =\n",
    "    let rec aux = function  (* Tail recursive : OK *)\n",
    "        0 -> [] | n -> n :: (aux (n-1))\n",
    "    in\n",
    "    List.rev (aux n)\n",
    ";;\n",
    "\n",
    "(** Tests *)\n",
    "range 14;;\n",
    "range 4;;"
   ]
  },
  {
   "cell_type": "markdown",
   "metadata": {},
   "source": [
    "On a besoin de tester si `element` est dans le tableau `tab`, en $\\mathcal{O}(n)$ si `n = Array.length tab`."
   ]
  },
  {
   "cell_type": "code",
   "execution_count": 5,
   "metadata": {},
   "outputs": [
    {
     "data": {
      "text/html": [
       "<pre style=\"color:slategray;max-height:100px;overflow:hidden\" \n",
       "onclick=\"\n",
       "if (this.style.maxHeight === 'none') \n",
       "    this.style.maxHeight = '100px';\n",
       "else\n",
       "    this.style.maxHeight = 'none'; \n",
       "\">val arraymem : 'a -&gt; 'a array -&gt; bool = &lt;fun&gt;\n",
       "</pre>"
      ]
     },
     "execution_count": 5,
     "metadata": {},
     "output_type": "execute_result"
    },
    {
     "data": {
      "text/html": [
       "<pre style=\"color:slategray;max-height:100px;overflow:hidden\" \n",
       "onclick=\"\n",
       "if (this.style.maxHeight === 'none') \n",
       "    this.style.maxHeight = '100px';\n",
       "else\n",
       "    this.style.maxHeight = 'none'; \n",
       "\">- : bool = true\n",
       "</pre>"
      ]
     },
     "execution_count": 5,
     "metadata": {},
     "output_type": "execute_result"
    },
    {
     "data": {
      "text/html": [
       "<pre style=\"color:slategray;max-height:100px;overflow:hidden\" \n",
       "onclick=\"\n",
       "if (this.style.maxHeight === 'none') \n",
       "    this.style.maxHeight = '100px';\n",
       "else\n",
       "    this.style.maxHeight = 'none'; \n",
       "\">- : bool = false\n",
       "</pre>"
      ]
     },
     "execution_count": 5,
     "metadata": {},
     "output_type": "execute_result"
    }
   ],
   "source": [
    "let arraymem (element : 'a) (tab : 'a array) : bool =\n",
    "    List.mem element (Array.to_list tab)\n",
    ";;\n",
    "\n",
    "(** Tests *)\n",
    "arraymem 11 (Array.of_list (range 12));;  (* true *)\n",
    "arraymem 14 (Array.of_list (range 12));;  (* false *)"
   ]
  },
  {
   "cell_type": "markdown",
   "metadata": {},
   "source": [
    "On peut onstruire un graphe en liste d'adjacence, à partir d'une matrice d'adjacence `tabs`, facilement :"
   ]
  },
  {
   "cell_type": "code",
   "execution_count": 6,
   "metadata": {},
   "outputs": [
    {
     "data": {
      "text/html": [
       "<pre style=\"color:slategray;max-height:100px;overflow:hidden\" \n",
       "onclick=\"\n",
       "if (this.style.maxHeight === 'none') \n",
       "    this.style.maxHeight = '100px';\n",
       "else\n",
       "    this.style.maxHeight = 'none'; \n",
       "\">val construire_graphe : int -&gt; poids array array -&gt; graphe = &lt;fun&gt;\n",
       "</pre>"
      ]
     },
     "execution_count": 6,
     "metadata": {},
     "output_type": "execute_result"
    }
   ],
   "source": [
    "let construire_graphe (n : int) (tabs : poids array array) : graphe =\n",
    "    let sommets = range n\n",
    "        and res = ref [] in (** Accumulateur pour la liste des arêtes. *)\n",
    "    for i = 0 to n-1 do\n",
    "        for j = 0 to n-1 do\n",
    "            for k = 0 to n-1 do\n",
    "                if ( (arraymem k tabs.(i)) && (arraymem k tabs.(j)) ) then\n",
    "                    res := (i, k, j) :: !res;\n",
    "            done;\n",
    "        done;\n",
    "    done;\n",
    "    (sommets, !res);\n",
    ";;"
   ]
  },
  {
   "cell_type": "markdown",
   "metadata": {},
   "source": [
    "> On utilise un accumulateur `res = ref []` qui est une *référence* sur une liste, d'abord vide, puis complétée petit à petit (en ajoutant une valeur en tête de liste, pour rester efficace)."
   ]
  },
  {
   "cell_type": "markdown",
   "metadata": {},
   "source": [
    "### Automates finis et automates multiples\n",
    "\n",
    "On représente un *automate fini* avec le type abstrait, venant tout droit de la définition formelle mathématique, $A = < Q, I, F, \\delta >$."
   ]
  },
  {
   "cell_type": "code",
   "execution_count": 7,
   "metadata": {},
   "outputs": [
    {
     "data": {
      "text/html": [
       "<pre style=\"color:slategray;max-height:100px;overflow:hidden\" \n",
       "onclick=\"\n",
       "if (this.style.maxHeight === 'none') \n",
       "    this.style.maxHeight = '100px';\n",
       "else\n",
       "    this.style.maxHeight = 'none'; \n",
       "\">type arete = sommet * sommet\n",
       "</pre>"
      ]
     },
     "execution_count": 7,
     "metadata": {},
     "output_type": "execute_result"
    },
    {
     "data": {
      "text/html": [
       "<pre style=\"color:slategray;max-height:100px;overflow:hidden\" \n",
       "onclick=\"\n",
       "if (this.style.maxHeight === 'none') \n",
       "    this.style.maxHeight = '100px';\n",
       "else\n",
       "    this.style.maxHeight = 'none'; \n",
       "\">type automate = sommet list * sommet list * sommet list * arete list\n",
       "</pre>"
      ]
     },
     "execution_count": 7,
     "metadata": {},
     "output_type": "execute_result"
    }
   ],
   "source": [
    "type arete = (sommet * sommet);;\n",
    "\n",
    "type automate = (sommet list) * (sommet list) * (sommet list) * (arete list) ;;"
   ]
  },
  {
   "cell_type": "markdown",
   "metadata": {},
   "source": [
    "On peut calculer la liste des paires $(t_i, t_j)$ pour $t_i$,$t_j$ dans $\\mathrm{tab}$ et $i < j$."
   ]
  },
  {
   "cell_type": "code",
   "execution_count": 8,
   "metadata": {},
   "outputs": [
    {
     "data": {
      "text/html": [
       "<pre style=\"color:slategray;max-height:100px;overflow:hidden\" \n",
       "onclick=\"\n",
       "if (this.style.maxHeight === 'none') \n",
       "    this.style.maxHeight = '100px';\n",
       "else\n",
       "    this.style.maxHeight = 'none'; \n",
       "\">val liste_des_paires : 'a array -&gt; ('a * 'a) list = &lt;fun&gt;\n",
       "</pre>"
      ]
     },
     "execution_count": 8,
     "metadata": {},
     "output_type": "execute_result"
    }
   ],
   "source": [
    "let liste_des_paires (tab : 'a array) : (('a * 'a) list) =\n",
    "    let n = Array.length tab\n",
    "    and res = ref [] in\n",
    "    for i=0 to n-1 do\n",
    "        for j=i+1 to n-1 do\n",
    "            res := (tab.(i), tab.(j)) :: !res;\n",
    "        done;\n",
    "    done;\n",
    "    !res @ [(tab.(n-1), tab.(0))];\n",
    ";;"
   ]
  },
  {
   "cell_type": "markdown",
   "metadata": {},
   "source": [
    "On peut construire l'automate donné par ses sommets :"
   ]
  },
  {
   "cell_type": "code",
   "execution_count": 9,
   "metadata": {},
   "outputs": [
    {
     "data": {
      "text/html": [
       "<pre style=\"color:slategray;max-height:100px;overflow:hidden\" \n",
       "onclick=\"\n",
       "if (this.style.maxHeight === 'none') \n",
       "    this.style.maxHeight = '100px';\n",
       "else\n",
       "    this.style.maxHeight = 'none'; \n",
       "\">val construire_automate : sommet array -&gt; automate = &lt;fun&gt;\n",
       "</pre>"
      ]
     },
     "execution_count": 9,
     "metadata": {},
     "output_type": "execute_result"
    }
   ],
   "source": [
    "let construire_automate (tab: sommet array) : automate =\n",
    "    ( (Array.to_list tab), [tab.(0)], [], (liste_des_paires tab) )\n",
    ";;"
   ]
  },
  {
   "cell_type": "markdown",
   "metadata": {},
   "source": [
    "Et maintenant, on va devoir travailler avec des multi-automates, venant du produit des automates de chaque robot."
   ]
  },
  {
   "cell_type": "code",
   "execution_count": 10,
   "metadata": {},
   "outputs": [
    {
     "data": {
      "text/html": [
       "<pre style=\"color:slategray;max-height:100px;overflow:hidden\" \n",
       "onclick=\"\n",
       "if (this.style.maxHeight === 'none') \n",
       "    this.style.maxHeight = '100px';\n",
       "else\n",
       "    this.style.maxHeight = 'none'; \n",
       "\">type multisommet = sommet list\n",
       "</pre>"
      ]
     },
     "execution_count": 10,
     "metadata": {},
     "output_type": "execute_result"
    },
    {
     "data": {
      "text/html": [
       "<pre style=\"color:slategray;max-height:100px;overflow:hidden\" \n",
       "onclick=\"\n",
       "if (this.style.maxHeight === 'none') \n",
       "    this.style.maxHeight = '100px';\n",
       "else\n",
       "    this.style.maxHeight = 'none'; \n",
       "\">type multiarete = multisommet * multisommet\n",
       "</pre>"
      ]
     },
     "execution_count": 10,
     "metadata": {},
     "output_type": "execute_result"
    }
   ],
   "source": [
    "type multisommet = sommet list ;;\n",
    "type multiarete = (multisommet * multisommet);;"
   ]
  },
  {
   "cell_type": "markdown",
   "metadata": {},
   "source": [
    "Le type représentant un multi automate fini est simplement $A = < QQ, II, FF, \\delta' >$, où $QQ, II, FF$ sont des listes de multi-sommets, qui sont eux-mêmes des couples (des listes) de sommets."
   ]
  },
  {
   "cell_type": "code",
   "execution_count": 11,
   "metadata": {},
   "outputs": [
    {
     "data": {
      "text/html": [
       "<pre style=\"color:slategray;max-height:100px;overflow:hidden\" \n",
       "onclick=\"\n",
       "if (this.style.maxHeight === 'none') \n",
       "    this.style.maxHeight = '100px';\n",
       "else\n",
       "    this.style.maxHeight = 'none'; \n",
       "\">type multiautomate =\n",
       "    multisommet list * multisommet list * multisommet list * multiarete list\n",
       "</pre>"
      ]
     },
     "execution_count": 11,
     "metadata": {},
     "output_type": "execute_result"
    }
   ],
   "source": [
    "type multiautomate =\n",
    "    (multisommet list)     (* QQ, états *)\n",
    "    * (multisommet list)   (* II, états initiaux *)\n",
    "    * (multisommet list)   (* FF, états finaux *)\n",
    "    * (multiarete list)    (* multi-transitions *)\n",
    ";;"
   ]
  },
  {
   "cell_type": "markdown",
   "metadata": {},
   "source": [
    "On peut travailler avec les paires de multi-sommets et de multi-arêtes, pour construire le multi-automate."
   ]
  },
  {
   "cell_type": "code",
   "execution_count": 12,
   "metadata": {},
   "outputs": [
    {
     "data": {
      "text/html": [
       "<pre style=\"color:slategray;max-height:100px;overflow:hidden\" \n",
       "onclick=\"\n",
       "if (this.style.maxHeight === 'none') \n",
       "    this.style.maxHeight = '100px';\n",
       "else\n",
       "    this.style.maxHeight = 'none'; \n",
       "\">val paires_multisommet : 'a list -&gt; 'a list list -&gt; 'a list list = &lt;fun&gt;\n",
       "</pre>"
      ]
     },
     "execution_count": 12,
     "metadata": {},
     "output_type": "execute_result"
    }
   ],
   "source": [
    "let rec paires_multisommet (l1 : 'a list) (l2 : 'a list list) : 'a list list =\n",
    "    match l2 with\n",
    "    | [] -> []\n",
    "    | a :: l2' ->\n",
    "        (List.map (fun e -> (e :: a)) l1) @ (paires_multisommet l1 l2')\n",
    ";;"
   ]
  },
  {
   "cell_type": "markdown",
   "metadata": {},
   "source": [
    "En faisant pareil avec les multi-arêtes."
   ]
  },
  {
   "cell_type": "code",
   "execution_count": 13,
   "metadata": {},
   "outputs": [
    {
     "data": {
      "text/html": [
       "<pre style=\"color:slategray;max-height:100px;overflow:hidden\" \n",
       "onclick=\"\n",
       "if (this.style.maxHeight === 'none') \n",
       "    this.style.maxHeight = '100px';\n",
       "else\n",
       "    this.style.maxHeight = 'none'; \n",
       "\">val multisommet_of_sommet : 'a list -&gt; 'a list list = &lt;fun&gt;\n",
       "</pre>"
      ]
     },
     "execution_count": 13,
     "metadata": {},
     "output_type": "execute_result"
    }
   ],
   "source": [
    "let multisommet_of_sommet (l1 : 'a list) : 'a list list =\n",
    "    List.map (fun e -> [e]) l1\n",
    ";;"
   ]
  },
  {
   "cell_type": "code",
   "execution_count": 19,
   "metadata": {},
   "outputs": [
    {
     "data": {
      "text/html": [
       "<pre style=\"color:slategray;max-height:100px;overflow:hidden\" \n",
       "onclick=\"\n",
       "if (this.style.maxHeight === 'none') \n",
       "    this.style.maxHeight = '100px';\n",
       "else\n",
       "    this.style.maxHeight = 'none'; \n",
       "\">val paires_multiarete :\n",
       "  ('a * 'b) list -&gt; ('a list * 'b list) list -&gt; ('a list * 'b list) list =\n",
       "  &lt;fun&gt;\n",
       "</pre>"
      ]
     },
     "execution_count": 19,
     "metadata": {},
     "output_type": "execute_result"
    }
   ],
   "source": [
    "let rec paires_multiarete\n",
    "        (l1 : ('a * 'b) list)\n",
    "        (l2 : (('a list) * ('b list)) list)\n",
    "        : ((('a list) * ('b list)) list) =\n",
    "    match l2 with\n",
    "    | [] -> []\n",
    "    | (u, v) :: l2' ->\n",
    "        (List.map (\n",
    "            fun (uu, vv) -> (uu :: u, vv :: v)\n",
    "        ) l1)\n",
    "        @ (paires_multiarete l1 l2')\n",
    ";;"
   ]
  },
  {
   "cell_type": "code",
   "execution_count": 20,
   "metadata": {},
   "outputs": [
    {
     "data": {
      "text/html": [
       "<pre style=\"color:slategray;max-height:100px;overflow:hidden\" \n",
       "onclick=\"\n",
       "if (this.style.maxHeight === 'none') \n",
       "    this.style.maxHeight = '100px';\n",
       "else\n",
       "    this.style.maxHeight = 'none'; \n",
       "\">val multiarete_of_arete : ('a * 'b) list -&gt; ('a list * 'b list) list = &lt;fun&gt;\n",
       "</pre>"
      ]
     },
     "execution_count": 20,
     "metadata": {},
     "output_type": "execute_result"
    }
   ],
   "source": [
    "let multiarete_of_arete (l2 : ('a * 'b) list)\n",
    "    : (('a list * 'b list) list) =\n",
    "    List.map (fun (u,v) -> ([u], [v])) l2\n",
    ";;"
   ]
  },
  {
   "cell_type": "markdown",
   "metadata": {},
   "source": [
    "### Automate produit\n",
    "Maintenant, on peut calculer explicitement l'automate produit, *sans simplification*.\n",
    "\n",
    "La fonction suivante est assez simple, mais longue : il s'agit juste de créer des couples d'états, pour $QQ, II, FF$ et $\\delta'$."
   ]
  },
  {
   "cell_type": "code",
   "execution_count": 21,
   "metadata": {},
   "outputs": [
    {
     "data": {
      "text/html": [
       "<pre style=\"color:slategray;max-height:100px;overflow:hidden\" \n",
       "onclick=\"\n",
       "if (this.style.maxHeight === 'none') \n",
       "    this.style.maxHeight = '100px';\n",
       "else\n",
       "    this.style.maxHeight = 'none'; \n",
       "\">val automate_produit : automate list -&gt; multiautomate = &lt;fun&gt;\n",
       "</pre>"
      ]
     },
     "execution_count": 21,
     "metadata": {},
     "output_type": "execute_result"
    }
   ],
   "source": [
    "let rec automate_produit (autlist: automate list) : multiautomate =\n",
    "    match autlist with\n",
    "    | [] ->\n",
    "        ( [], [], [], [] )  (** automate vide *)\n",
    "    | [(q1, i1, f1, d1)] ->\n",
    "        (\n",
    "            (multisommet_of_sommet q1),\n",
    "            (multisommet_of_sommet i1),\n",
    "            (multisommet_of_sommet f1),\n",
    "            (multiarete_of_arete   d1)\n",
    "        )  (** Produit d'un seul automate. *)\n",
    "    | (q1, i1, f1, d1) :: autlist2 ->\n",
    "        (* Pas récursif terminal, pas grave *)\n",
    "        let (qq2, ii2, ff2, dd2) = (automate_produit autlist2) in\n",
    "        (\n",
    "            (paires_multisommet q1 qq2),\n",
    "            (paires_multisommet i1 ii2),\n",
    "            (paires_multisommet f1 ff2),\n",
    "            (paires_multiarete  d1 dd2)\n",
    "        )\n",
    ";;"
   ]
  },
  {
   "cell_type": "markdown",
   "metadata": {},
   "source": [
    "Calculer l'automate produit depuis tabs est rapide :"
   ]
  },
  {
   "cell_type": "code",
   "execution_count": 22,
   "metadata": {},
   "outputs": [
    {
     "data": {
      "text/html": [
       "<pre style=\"color:slategray;max-height:100px;overflow:hidden\" \n",
       "onclick=\"\n",
       "if (this.style.maxHeight === 'none') \n",
       "    this.style.maxHeight = '100px';\n",
       "else\n",
       "    this.style.maxHeight = 'none'; \n",
       "\">val construire_automate_produit : sommet array array -&gt; multiautomate = &lt;fun&gt;\n",
       "</pre>"
      ]
     },
     "execution_count": 22,
     "metadata": {},
     "output_type": "execute_result"
    }
   ],
   "source": [
    "let construire_automate_produit (tabs: sommet array array) : multiautomate =\n",
    "  automate_produit (Array.to_list (Array.map construire_automate tabs))\n",
    ";;"
   ]
  },
  {
   "cell_type": "markdown",
   "metadata": {},
   "source": [
    "On peut ensuite vérifier s'il sera bloqué, simplement en vérifiant qu'il existe (au moins) une transition à chaque état."
   ]
  },
  {
   "cell_type": "code",
   "execution_count": 24,
   "metadata": {},
   "outputs": [
    {
     "data": {
      "text/html": [
       "<pre style=\"color:slategray;max-height:100px;overflow:hidden\" \n",
       "onclick=\"\n",
       "if (this.style.maxHeight === 'none') \n",
       "    this.style.maxHeight = '100px';\n",
       "else\n",
       "    this.style.maxHeight = 'none'; \n",
       "\">val nest_pas_bloque : multiautomate -&gt; bool = &lt;fun&gt;\n",
       "</pre>"
      ]
     },
     "execution_count": 24,
     "metadata": {},
     "output_type": "execute_result"
    }
   ],
   "source": [
    "let nest_pas_bloque (maut: multiautomate) : bool =\n",
    "  let (qq, _, _, dd) = maut in\n",
    "  List.for_all (fun qi -> List.mem_assoc qi dd) qq\n",
    ";;"
   ]
  },
  {
   "cell_type": "markdown",
   "metadata": {},
   "source": [
    "### Transitions et simulations"
   ]
  },
  {
   "cell_type": "markdown",
   "metadata": {},
   "source": [
    "La fonction suivante lit la table de multi-transition $\\delta'$ du multi-automate et renvoie l'état correspondant à $u$, l'état courant.\n",
    "\n",
    "En fait, c'est la fonction cruciale de la solution implémentée dans cette partie.\n",
    "\n",
    "Notez que deux tests sont effectués, avec `assert`, pour être sûr qu'une transition existe (et d'après la modélisation et les hypothèses du texte, une unique transition existe à chaque état)."
   ]
  },
  {
   "cell_type": "code",
   "execution_count": 25,
   "metadata": {},
   "outputs": [
    {
     "data": {
      "text/html": [
       "<pre style=\"color:slategray;max-height:100px;overflow:hidden\" \n",
       "onclick=\"\n",
       "if (this.style.maxHeight === 'none') \n",
       "    this.style.maxHeight = '100px';\n",
       "else\n",
       "    this.style.maxHeight = 'none'; \n",
       "\">val transition : multiautomate -&gt; multisommet -&gt; multisommet = &lt;fun&gt;\n",
       "</pre>"
      ]
     },
     "execution_count": 25,
     "metadata": {},
     "output_type": "execute_result"
    }
   ],
   "source": [
    "let transition (maut: multiautomate) u =\n",
    "    let (qq, _, _, dd) = maut in\n",
    "    assert (List.mem u qq);\n",
    "    assert (List.mem_assoc u dd);\n",
    "    List.assoc u dd\n",
    ";;"
   ]
  },
  {
   "cell_type": "markdown",
   "metadata": {},
   "source": [
    "On a besoin de récupérer l'état initial."
   ]
  },
  {
   "cell_type": "code",
   "execution_count": 26,
   "metadata": {},
   "outputs": [
    {
     "data": {
      "text/html": [
       "<pre style=\"color:slategray;max-height:100px;overflow:hidden\" \n",
       "onclick=\"\n",
       "if (this.style.maxHeight === 'none') \n",
       "    this.style.maxHeight = '100px';\n",
       "else\n",
       "    this.style.maxHeight = 'none'; \n",
       "\">val etat_initial : 'a array array -&gt; 'a list = &lt;fun&gt;\n",
       "</pre>"
      ]
     },
     "execution_count": 26,
     "metadata": {},
     "output_type": "execute_result"
    }
   ],
   "source": [
    "let etat_initial tabs = Array.to_list (Array.map (fun tab -> tab.(0)) tabs) ;;"
   ]
  },
  {
   "cell_type": "markdown",
   "metadata": {},
   "source": [
    "Pour visualiser les transitions, on va afficher une représentation simplifiée de l'automate, à l'étape $i$."
   ]
  },
  {
   "cell_type": "code",
   "execution_count": 27,
   "metadata": {},
   "outputs": [
    {
     "data": {
      "text/html": [
       "<pre style=\"color:slategray;max-height:100px;overflow:hidden\" \n",
       "onclick=\"\n",
       "if (this.style.maxHeight === 'none') \n",
       "    this.style.maxHeight = '100px';\n",
       "else\n",
       "    this.style.maxHeight = 'none'; \n",
       "\">val affiche_etat : ?i:int -&gt; int list -&gt; unit = &lt;fun&gt;\n",
       "</pre>"
      ]
     },
     "execution_count": 27,
     "metadata": {},
     "output_type": "execute_result"
    }
   ],
   "source": [
    "let affiche_etat ?(i=0) u =\n",
    "  print \"Etape i = %i: \" i;\n",
    "  List.iter (fun x -> (print \"%i, \" x)) u;\n",
    "  print \"\\n\"\n",
    ";;"
   ]
  },
  {
   "cell_type": "markdown",
   "metadata": {},
   "source": [
    "### Il faut simuler l'évolution de l'automate durant n étapes\n",
    "\n",
    "C'est très facile, il suffit d'enchaîner $n$ fois la fonction `transition`.\n",
    "Pas besoin d'une fonction récursive, une boucle `for` suffit !"
   ]
  },
  {
   "cell_type": "code",
   "execution_count": 31,
   "metadata": {},
   "outputs": [
    {
     "data": {
      "text/html": [
       "<pre style=\"color:slategray;max-height:100px;overflow:hidden\" \n",
       "onclick=\"\n",
       "if (this.style.maxHeight === 'none') \n",
       "    this.style.maxHeight = '100px';\n",
       "else\n",
       "    this.style.maxHeight = 'none'; \n",
       "\">val simule : int -&gt; sommet array array -&gt; unit -&gt; multisommet = &lt;fun&gt;\n",
       "</pre>"
      ]
     },
     "execution_count": 31,
     "metadata": {},
     "output_type": "execute_result"
    }
   ],
   "source": [
    "let simule (n : int) (tabs : sommet array array) () : multisommet =\n",
    "    print \"\\nDébut simulations :  \\n\";\n",
    "    let maut = construire_automate_produit tabs in\n",
    "    let u = ref (etat_initial tabs) in\n",
    "    for i = 0 to n-1 do\n",
    "        affiche_etat ~i:i !u;\n",
    "        print \"  --> transition\\n\";\n",
    "        u := transition maut !u;\n",
    "    done;\n",
    "    affiche_etat ~i:n !u;\n",
    "    !u\n",
    ";;"
   ]
  },
  {
   "cell_type": "markdown",
   "metadata": {},
   "source": [
    "### Exemple 1\n",
    "\n",
    "On commence avec le premier exemple du texte, avec trois robots $R_1, R_2, R_3$, qui ont comme tableaux de rendez-vous $T_1 = [1, 3]$, $T_2 = [2, 1]$ et $T_3 = [3, 2]$.\n",
    "\n",
    "Ce système n'est pas bloqué, mais aucun rendez-vous n'est réalisé.\n",
    "\n",
    "![Premier exemple de robots](images/robots_exemple1.png)"
   ]
  },
  {
   "cell_type": "code",
   "execution_count": 32,
   "metadata": {},
   "outputs": [
    {
     "name": "stdout",
     "output_type": "stream",
     "text": [
      "\n",
      "Simulation 1:\n",
      "=============\n",
      "Début simulations :  \n",
      "Etape i = 0: 1, 2, 3, \n",
      "  --> transition\n",
      "Etape i = 1: 3, 1, 2, \n",
      "  --> transition\n",
      "Etape i = 2: 1, 2, 3, \n",
      "  --> transition\n",
      "Etape i = 3: 3, 1, 2, \n"
     ]
    },
    {
     "data": {
      "text/html": [
       "<pre style=\"color:slategray;max-height:100px;overflow:hidden\" \n",
       "onclick=\"\n",
       "if (this.style.maxHeight === 'none') \n",
       "    this.style.maxHeight = '100px';\n",
       "else\n",
       "    this.style.maxHeight = 'none'; \n",
       "\">- : unit = ()\n",
       "</pre>"
      ]
     },
     "execution_count": 32,
     "metadata": {},
     "output_type": "execute_result"
    },
    {
     "data": {
      "text/html": [
       "<pre style=\"color:slategray;max-height:100px;overflow:hidden\" \n",
       "onclick=\"\n",
       "if (this.style.maxHeight === 'none') \n",
       "    this.style.maxHeight = '100px';\n",
       "else\n",
       "    this.style.maxHeight = 'none'; \n",
       "\">- : multisommet = [3; 1; 2]\n",
       "</pre>"
      ]
     },
     "execution_count": 32,
     "metadata": {},
     "output_type": "execute_result"
    }
   ],
   "source": [
    "print \"\\nSimulation 1:\\n=============\";;\n",
    "let n = 3\n",
    "and tabs = [| [|1; 3|]; [|2; 1|]; [|3; 2|]|]\n",
    "in simule n tabs ();;"
   ]
  },
  {
   "cell_type": "markdown",
   "metadata": {},
   "source": [
    "### Exemple 2\n",
    "\n",
    "On peut aussi s'intéresser au second exemple du texte :\n",
    "\n",
    "![Second exemple de robots](images/robots_exemple2.png)"
   ]
  },
  {
   "cell_type": "markdown",
   "metadata": {},
   "source": [
    "Là aussi, aucun rendez-vous n'est réalisé si on commence aux mauvais états."
   ]
  },
  {
   "cell_type": "code",
   "execution_count": 33,
   "metadata": {},
   "outputs": [
    {
     "name": "stdout",
     "output_type": "stream",
     "text": [
      "\n",
      "Simulation 2:\n",
      "=============\n",
      "Début simulations :  \n",
      "Etape i = 0: 1, 2, 3, 4, \n",
      "  --> transition\n",
      "Etape i = 1: 4, 1, 2, 3, \n",
      "  --> transition\n",
      "Etape i = 2: 1, 2, 3, 4, \n",
      "  --> transition\n",
      "Etape i = 3: 4, 1, 2, 3, \n",
      "  --> transition\n",
      "Etape i = 4: 1, 2, 3, 4, \n"
     ]
    },
    {
     "data": {
      "text/html": [
       "<pre style=\"color:slategray;max-height:100px;overflow:hidden\" \n",
       "onclick=\"\n",
       "if (this.style.maxHeight === 'none') \n",
       "    this.style.maxHeight = '100px';\n",
       "else\n",
       "    this.style.maxHeight = 'none'; \n",
       "\">- : unit = ()\n",
       "</pre>"
      ]
     },
     "execution_count": 33,
     "metadata": {},
     "output_type": "execute_result"
    },
    {
     "data": {
      "text/html": [
       "<pre style=\"color:slategray;max-height:100px;overflow:hidden\" \n",
       "onclick=\"\n",
       "if (this.style.maxHeight === 'none') \n",
       "    this.style.maxHeight = '100px';\n",
       "else\n",
       "    this.style.maxHeight = 'none'; \n",
       "\">- : multisommet = [1; 2; 3; 4]\n",
       "</pre>"
      ]
     },
     "execution_count": 33,
     "metadata": {},
     "output_type": "execute_result"
    }
   ],
   "source": [
    "print \"\\nSimulation 2:\\n=============\";;\n",
    "let n = 4\n",
    "and tabs = [| [|1; 4|]; [|2; 1|]; [|3; 2|]; [|4; 3|]|]\n",
    "in simule n tabs ();;"
   ]
  },
  {
   "cell_type": "markdown",
   "metadata": {},
   "source": [
    "Par contre, avec l'ordre des rendez-vous par indice croissants :"
   ]
  },
  {
   "cell_type": "code",
   "execution_count": 34,
   "metadata": {},
   "outputs": [
    {
     "name": "stdout",
     "output_type": "stream",
     "text": [
      "\n",
      "Simulation 3:\n",
      "=============\n",
      "Début simulations :  \n",
      "Etape i = 0: 1, 1, 2, 3, \n",
      "  --> transition\n",
      "Etape i = 1: 4, 2, 3, 4, \n",
      "  --> transition\n",
      "Etape i = 2: 1, 1, 2, 3, \n",
      "  --> transition\n",
      "Etape i = 3: 4, 2, 3, 4, \n",
      "  --> transition\n",
      "Etape i = 4: 1, 1, 2, 3, \n"
     ]
    },
    {
     "data": {
      "text/html": [
       "<pre style=\"color:slategray;max-height:100px;overflow:hidden\" \n",
       "onclick=\"\n",
       "if (this.style.maxHeight === 'none') \n",
       "    this.style.maxHeight = '100px';\n",
       "else\n",
       "    this.style.maxHeight = 'none'; \n",
       "\">- : unit = ()\n",
       "</pre>"
      ]
     },
     "execution_count": 34,
     "metadata": {},
     "output_type": "execute_result"
    },
    {
     "data": {
      "text/html": [
       "<pre style=\"color:slategray;max-height:100px;overflow:hidden\" \n",
       "onclick=\"\n",
       "if (this.style.maxHeight === 'none') \n",
       "    this.style.maxHeight = '100px';\n",
       "else\n",
       "    this.style.maxHeight = 'none'; \n",
       "\">- : multisommet = [1; 1; 2; 3]\n",
       "</pre>"
      ]
     },
     "execution_count": 34,
     "metadata": {},
     "output_type": "execute_result"
    }
   ],
   "source": [
    "print \"\\nSimulation 3:\\n=============\";;\n",
    "let n = 4\n",
    "and tabs = [| [|1; 4|]; [|1; 2|]; [|2; 3|]; [|3; 4|]|]\n",
    "in simule n tabs ();;"
   ]
  },
  {
   "cell_type": "markdown",
   "metadata": {},
   "source": [
    "- Là, le rendez-vous $L_1$ est effectué, une fois sur deux (entre $R_1$ et $R_2$), et le rendez-vous $L_4$ est effectué, une fois sur deux aussi (entre $R_1$ et $R_4$).\n",
    "- Les rendez-vous $L_2$ et $L_3$ ne sont pas effectués."
   ]
  },
  {
   "cell_type": "markdown",
   "metadata": {},
   "source": [
    "----\n",
    "## Réponse à l'exercice requis, seconde approche\n",
    "> Merci à Romain Dubourg (2017) pour son code, à peine modifié ici.\n",
    "\n",
    "Cette deuxième solution est bien plus concise, en utilisant une approche plus directe."
   ]
  },
  {
   "cell_type": "markdown",
   "metadata": {},
   "source": [
    "### Choix des structures de données\n",
    "En utilisant des tableaux, `int array`, au lieu de listes, pour représenter les états $u$ on peut modifier l'état *en place* !"
   ]
  },
  {
   "cell_type": "code",
   "execution_count": 35,
   "metadata": {},
   "outputs": [
    {
     "data": {
      "text/html": [
       "<pre style=\"color:slategray;max-height:100px;overflow:hidden\" \n",
       "onclick=\"\n",
       "if (this.style.maxHeight === 'none') \n",
       "    this.style.maxHeight = '100px';\n",
       "else\n",
       "    this.style.maxHeight = 'none'; \n",
       "\">type etat = int array\n",
       "</pre>"
      ]
     },
     "execution_count": 35,
     "metadata": {},
     "output_type": "execute_result"
    },
    {
     "data": {
      "text/html": [
       "<pre style=\"color:slategray;max-height:100px;overflow:hidden\" \n",
       "onclick=\"\n",
       "if (this.style.maxHeight === 'none') \n",
       "    this.style.maxHeight = '100px';\n",
       "else\n",
       "    this.style.maxHeight = 'none'; \n",
       "\">type liste_rdv = int array array\n",
       "</pre>"
      ]
     },
     "execution_count": 35,
     "metadata": {},
     "output_type": "execute_result"
    }
   ],
   "source": [
    "type etat = int array;;\n",
    "type liste_rdv = (int array) array;;"
   ]
  },
  {
   "cell_type": "markdown",
   "metadata": {},
   "source": [
    "On peut facilement trouver la première position de `x` dans une liste et dans un tableau et `-1` sinon."
   ]
  },
  {
   "cell_type": "code",
   "execution_count": 37,
   "metadata": {},
   "outputs": [
    {
     "data": {
      "text/html": [
       "<pre style=\"color:slategray;max-height:100px;overflow:hidden\" \n",
       "onclick=\"\n",
       "if (this.style.maxHeight === 'none') \n",
       "    this.style.maxHeight = '100px';\n",
       "else\n",
       "    this.style.maxHeight = 'none'; \n",
       "\">val trouve : int -&gt; int list -&gt; int = &lt;fun&gt;\n",
       "</pre>"
      ]
     },
     "execution_count": 37,
     "metadata": {},
     "output_type": "execute_result"
    }
   ],
   "source": [
    "let trouve (x:int) (a:int list) : int =\n",
    "    let rec aux (x:int) (a:int list) (i : int) : int =\n",
    "        match a with\n",
    "        | [] -> -1\n",
    "        | t :: _ when (t = x) -> i\n",
    "        | _ :: q -> aux x q (i+1)\n",
    "    in\n",
    "    aux x a 0\n",
    ";;"
   ]
  },
  {
   "cell_type": "code",
   "execution_count": 38,
   "metadata": {},
   "outputs": [
    {
     "data": {
      "text/html": [
       "<pre style=\"color:slategray;max-height:100px;overflow:hidden\" \n",
       "onclick=\"\n",
       "if (this.style.maxHeight === 'none') \n",
       "    this.style.maxHeight = '100px';\n",
       "else\n",
       "    this.style.maxHeight = 'none'; \n",
       "\">val trouve_array : int -&gt; int array -&gt; int = &lt;fun&gt;\n",
       "</pre>"
      ]
     },
     "execution_count": 38,
     "metadata": {},
     "output_type": "execute_result"
    }
   ],
   "source": [
    "let trouve_array (x : int) (a : int array) : int =\n",
    "    trouve x (Array.to_list a)\n",
    ";;"
   ]
  },
  {
   "cell_type": "markdown",
   "metadata": {},
   "source": [
    "On a besoin de pouvoir obtenir la liste des paires de robots pouvant réaliser un rendez-vous."
   ]
  },
  {
   "cell_type": "code",
   "execution_count": 40,
   "metadata": {},
   "outputs": [
    {
     "data": {
      "text/html": [
       "<pre style=\"color:slategray;max-height:100px;overflow:hidden\" \n",
       "onclick=\"\n",
       "if (this.style.maxHeight === 'none') \n",
       "    this.style.maxHeight = '100px';\n",
       "else\n",
       "    this.style.maxHeight = 'none'; \n",
       "\">val rdv : etat -&gt; (int * int) list = &lt;fun&gt;\n",
       "</pre>"
      ]
     },
     "execution_count": 40,
     "metadata": {},
     "output_type": "execute_result"
    }
   ],
   "source": [
    "let rdv (u : etat) : ((int * int) list) = \n",
    "    let n = Array.length u in\n",
    "    let ls = ref [] in\n",
    "    for k = 0 to n - 1 do\n",
    "        let i = trouve_array u.(k)\n",
    "            (Array.sub u (k + 1) (n - (k + 1)))\n",
    "        in\n",
    "        if i >= 0 then\n",
    "            ls := (k, i + k + 1) :: !ls;\n",
    "    done;\n",
    "    !ls\n",
    ";;"
   ]
  },
  {
   "cell_type": "markdown",
   "metadata": {},
   "source": [
    "Étant donné un état et une paire de robots pouvant réaliser un rendez-vous, la fonction suivante le réalise, en modifiant *en place* l'état $u$.\n",
    "\n",
    "C'est bien plus simple que de traiter avec une approche fonctionnelle.\n",
    "\n",
    "Pour une fonction comme ça, il faut absolument :\n",
    "\n",
    "- utiliser des variables intermédiaires,\n",
    "- et des noms de variables un peu explicites (attention aux `1`, `i`, `I` et `l` qui se ressemblent beaucoup au tableau !)."
   ]
  },
  {
   "cell_type": "code",
   "execution_count": 44,
   "metadata": {},
   "outputs": [
    {
     "data": {
      "text/html": [
       "<pre style=\"color:slategray;max-height:100px;overflow:hidden\" \n",
       "onclick=\"\n",
       "if (this.style.maxHeight === 'none') \n",
       "    this.style.maxHeight = '100px';\n",
       "else\n",
       "    this.style.maxHeight = 'none'; \n",
       "\">val realise_rdv : int * int -&gt; etat -&gt; liste_rdv -&gt; etat = &lt;fun&gt;\n",
       "</pre>"
      ]
     },
     "execution_count": 44,
     "metadata": {},
     "output_type": "execute_result"
    }
   ],
   "source": [
    "let realise_rdv (xy : int * int) (u : etat) (lr : liste_rdv) : etat =\n",
    "  let x, y = xy in\n",
    "  let ux = u.(x) and uy = u.(y) in\n",
    "  let rx, ry = lr.(x), lr.(y) in\n",
    "  u.(x) <- rx.(((trouve_array ux rx) + 1) mod (Array.length rx));\n",
    "  u.(y) <- ry.(((trouve_array uy ry) + 1) mod (Array.length ry));\n",
    "  u\n",
    ";;"
   ]
  },
  {
   "cell_type": "markdown",
   "metadata": {},
   "source": [
    "### Fonction `transition`\n",
    "Et enfin, on calcule l'état suivant $u_2$ à partir de l'état $u_1$, en appliquant la fonction `realise_rdv` à chaque état qui peut être modifié."
   ]
  },
  {
   "cell_type": "code",
   "execution_count": 45,
   "metadata": {},
   "outputs": [
    {
     "data": {
      "text/html": [
       "<pre style=\"color:slategray;max-height:100px;overflow:hidden\" \n",
       "onclick=\"\n",
       "if (this.style.maxHeight === 'none') \n",
       "    this.style.maxHeight = '100px';\n",
       "else\n",
       "    this.style.maxHeight = 'none'; \n",
       "\">val transition : etat -&gt; liste_rdv -&gt; etat = &lt;fun&gt;\n",
       "</pre>"
      ]
     },
     "execution_count": 45,
     "metadata": {},
     "output_type": "execute_result"
    }
   ],
   "source": [
    "let transition (u1 : etat) (l : liste_rdv) : etat =\n",
    "    let ls = rdv u1 in\n",
    "    let rec aux (u2:etat) (l1:(int*int) list) (l2:liste_rdv) : etat =\n",
    "        match l1 with\n",
    "        | [] -> u2\n",
    "        | t :: q -> aux (realise_rdv t u2 l2) q l2\n",
    "    in\n",
    "    aux u1 ls l\n",
    ";;"
   ]
  },
  {
   "cell_type": "markdown",
   "metadata": {},
   "source": [
    "On effectue `n` transitions successives, non pas avec une approche récursive (qui ne serait pas récursive terminale, et donc avec une mémoire de pile d'appel linéaire en $\\mathcal{O}(n)$), mais avec une simple boucle `for`."
   ]
  },
  {
   "cell_type": "code",
   "execution_count": 46,
   "metadata": {},
   "outputs": [
    {
     "data": {
      "text/html": [
       "<pre style=\"color:slategray;max-height:100px;overflow:hidden\" \n",
       "onclick=\"\n",
       "if (this.style.maxHeight === 'none') \n",
       "    this.style.maxHeight = '100px';\n",
       "else\n",
       "    this.style.maxHeight = 'none'; \n",
       "\">val n_transitions_trop_couteux : etat -&gt; liste_rdv -&gt; int -&gt; etat = &lt;fun&gt;\n",
       "</pre>"
      ]
     },
     "execution_count": 46,
     "metadata": {},
     "output_type": "execute_result"
    }
   ],
   "source": [
    "let rec n_transitions_trop_couteux (u : etat) (l : liste_rdv) (n : int) : etat =\n",
    "    if (n = 0) then\n",
    "        u\n",
    "    else\n",
    "        n_transitions_trop_couteux (transition u l) l (n-1)\n",
    ";;"
   ]
  },
  {
   "cell_type": "code",
   "execution_count": 49,
   "metadata": {},
   "outputs": [
    {
     "data": {
      "text/html": [
       "<pre style=\"color:slategray;max-height:100px;overflow:hidden\" \n",
       "onclick=\"\n",
       "if (this.style.maxHeight === 'none') \n",
       "    this.style.maxHeight = '100px';\n",
       "else\n",
       "    this.style.maxHeight = 'none'; \n",
       "\">val n_transitions : etat -&gt; liste_rdv -&gt; int -&gt; etat = &lt;fun&gt;\n",
       "</pre>"
      ]
     },
     "execution_count": 49,
     "metadata": {},
     "output_type": "execute_result"
    }
   ],
   "source": [
    "let n_transitions (u : etat) (l : liste_rdv) (n : int) : etat =\n",
    "    let u0 = ref u in\n",
    "    for x = 1 to n do\n",
    "        u0 := transition u l  (* u est changé en place *)\n",
    "    done;\n",
    "    !u0\n",
    ";;\n"
   ]
  },
  {
   "cell_type": "markdown",
   "metadata": {},
   "source": [
    "### Plein d'exemples\n",
    "\n",
    "Avec l'exemple donné à l'oral, qui est un peu différent de celui du texte.\n",
    "\n",
    "Quatre robots, $R_0$, $R_1$, $R_2$, $R_3$, ont comme liste de rendez-vous successifs, $T_0 = [0, 1, 2]$, $T_1 = [0]$, $T_2 = [1, 3]$ et $T_3 = [2, 3]$."
   ]
  },
  {
   "cell_type": "code",
   "execution_count": 50,
   "metadata": {},
   "outputs": [
    {
     "data": {
      "text/html": [
       "<pre style=\"color:slategray;max-height:100px;overflow:hidden\" \n",
       "onclick=\"\n",
       "if (this.style.maxHeight === 'none') \n",
       "    this.style.maxHeight = '100px';\n",
       "else\n",
       "    this.style.maxHeight = 'none'; \n",
       "\">val ex1 : int array array = [|[|0; 1; 2|]; [|0|]; [|1; 3|]; [|2; 3|]|]\n",
       "</pre>"
      ]
     },
     "execution_count": 50,
     "metadata": {},
     "output_type": "execute_result"
    },
    {
     "data": {
      "text/html": [
       "<pre style=\"color:slategray;max-height:100px;overflow:hidden\" \n",
       "onclick=\"\n",
       "if (this.style.maxHeight === 'none') \n",
       "    this.style.maxHeight = '100px';\n",
       "else\n",
       "    this.style.maxHeight = 'none'; \n",
       "\">val ex1_1 : int array = [|0; 0; 1; 2|]\n",
       "</pre>"
      ]
     },
     "execution_count": 50,
     "metadata": {},
     "output_type": "execute_result"
    },
    {
     "data": {
      "text/html": [
       "<pre style=\"color:slategray;max-height:100px;overflow:hidden\" \n",
       "onclick=\"\n",
       "if (this.style.maxHeight === 'none') \n",
       "    this.style.maxHeight = '100px';\n",
       "else\n",
       "    this.style.maxHeight = 'none'; \n",
       "\">- : etat = [|0; 0; 3; 3|]\n",
       "</pre>"
      ]
     },
     "execution_count": 50,
     "metadata": {},
     "output_type": "execute_result"
    }
   ],
   "source": [
    "let ex1 = [| [|0; 1; 2|]; [|0|]; [|1; 3|]; [|2; 3|] |];;\n",
    "\n",
    "let ex1_1 = [| 0; 0; 1; 2 |];;\n",
    "let _ = n_transitions ex1_1 ex1 3;;"
   ]
  },
  {
   "cell_type": "markdown",
   "metadata": {},
   "source": [
    "C'est trivial, mais il peut être utile de vérifier que `n_transitions 3` fait pareil que trois appels à `transition` :"
   ]
  },
  {
   "cell_type": "code",
   "execution_count": 51,
   "metadata": {},
   "outputs": [
    {
     "data": {
      "text/html": [
       "<pre style=\"color:slategray;max-height:100px;overflow:hidden\" \n",
       "onclick=\"\n",
       "if (this.style.maxHeight === 'none') \n",
       "    this.style.maxHeight = '100px';\n",
       "else\n",
       "    this.style.maxHeight = 'none'; \n",
       "\">val ex1_1 : int array = [|0; 0; 1; 2|]\n",
       "</pre>"
      ]
     },
     "execution_count": 51,
     "metadata": {},
     "output_type": "execute_result"
    },
    {
     "data": {
      "text/html": [
       "<pre style=\"color:slategray;max-height:100px;overflow:hidden\" \n",
       "onclick=\"\n",
       "if (this.style.maxHeight === 'none') \n",
       "    this.style.maxHeight = '100px';\n",
       "else\n",
       "    this.style.maxHeight = 'none'; \n",
       "\">- : etat = [|1; 0; 1; 2|]\n",
       "</pre>"
      ]
     },
     "execution_count": 51,
     "metadata": {},
     "output_type": "execute_result"
    },
    {
     "data": {
      "text/html": [
       "<pre style=\"color:slategray;max-height:100px;overflow:hidden\" \n",
       "onclick=\"\n",
       "if (this.style.maxHeight === 'none') \n",
       "    this.style.maxHeight = '100px';\n",
       "else\n",
       "    this.style.maxHeight = 'none'; \n",
       "\">- : etat = [|2; 0; 3; 2|]\n",
       "</pre>"
      ]
     },
     "execution_count": 51,
     "metadata": {},
     "output_type": "execute_result"
    },
    {
     "data": {
      "text/html": [
       "<pre style=\"color:slategray;max-height:100px;overflow:hidden\" \n",
       "onclick=\"\n",
       "if (this.style.maxHeight === 'none') \n",
       "    this.style.maxHeight = '100px';\n",
       "else\n",
       "    this.style.maxHeight = 'none'; \n",
       "\">- : etat = [|0; 0; 3; 3|]\n",
       "</pre>"
      ]
     },
     "execution_count": 51,
     "metadata": {},
     "output_type": "execute_result"
    }
   ],
   "source": [
    "let ex1_1 = [| 0; 0; 1; 2 |];;\n",
    "let _ = transition ex1_1 ex1;;\n",
    "let _ = transition ex1_1 ex1;;\n",
    "let _ = transition ex1_1 ex1;;"
   ]
  },
  {
   "cell_type": "markdown",
   "metadata": {},
   "source": [
    "Avec un autre état initial :"
   ]
  },
  {
   "cell_type": "code",
   "execution_count": 53,
   "metadata": {},
   "outputs": [
    {
     "data": {
      "text/html": [
       "<pre style=\"color:slategray;max-height:100px;overflow:hidden\" \n",
       "onclick=\"\n",
       "if (this.style.maxHeight === 'none') \n",
       "    this.style.maxHeight = '100px';\n",
       "else\n",
       "    this.style.maxHeight = 'none'; \n",
       "\">val ex1_2 : int array = [|0; 0; 3; 2|]\n",
       "</pre>"
      ]
     },
     "execution_count": 53,
     "metadata": {},
     "output_type": "execute_result"
    },
    {
     "data": {
      "text/html": [
       "<pre style=\"color:slategray;max-height:100px;overflow:hidden\" \n",
       "onclick=\"\n",
       "if (this.style.maxHeight === 'none') \n",
       "    this.style.maxHeight = '100px';\n",
       "else\n",
       "    this.style.maxHeight = 'none'; \n",
       "\">- : etat = [|1; 0; 3; 2|]\n",
       "</pre>"
      ]
     },
     "execution_count": 53,
     "metadata": {},
     "output_type": "execute_result"
    },
    {
     "data": {
      "text/html": [
       "<pre style=\"color:slategray;max-height:100px;overflow:hidden\" \n",
       "onclick=\"\n",
       "if (this.style.maxHeight === 'none') \n",
       "    this.style.maxHeight = '100px';\n",
       "else\n",
       "    this.style.maxHeight = 'none'; \n",
       "\">- : etat = [|1; 0; 3; 2|]\n",
       "</pre>"
      ]
     },
     "execution_count": 53,
     "metadata": {},
     "output_type": "execute_result"
    },
    {
     "data": {
      "text/html": [
       "<pre style=\"color:slategray;max-height:100px;overflow:hidden\" \n",
       "onclick=\"\n",
       "if (this.style.maxHeight === 'none') \n",
       "    this.style.maxHeight = '100px';\n",
       "else\n",
       "    this.style.maxHeight = 'none'; \n",
       "\">- : etat = [|1; 0; 3; 2|]\n",
       "</pre>"
      ]
     },
     "execution_count": 53,
     "metadata": {},
     "output_type": "execute_result"
    }
   ],
   "source": [
    "let ex1_2 = [| 0; 0; 3; 2 |];;\n",
    "\n",
    "let _ = transition ex1_2 ex1;;\n",
    "let _ = transition ex1_2 ex1;; (* On bloque !*)\n",
    "let _ = transition ex1_2 ex1;; (* On bloque !*)"
   ]
  },
  {
   "cell_type": "markdown",
   "metadata": {},
   "source": [
    "Et avec encore un autre état initial :"
   ]
  },
  {
   "cell_type": "code",
   "execution_count": 58,
   "metadata": {},
   "outputs": [
    {
     "data": {
      "text/html": [
       "<pre style=\"color:slategray;max-height:100px;overflow:hidden\" \n",
       "onclick=\"\n",
       "if (this.style.maxHeight === 'none') \n",
       "    this.style.maxHeight = '100px';\n",
       "else\n",
       "    this.style.maxHeight = 'none'; \n",
       "\">val ex1_3 : int array = [|0; 0; 3; 3|]\n",
       "</pre>"
      ]
     },
     "execution_count": 58,
     "metadata": {},
     "output_type": "execute_result"
    },
    {
     "data": {
      "text/html": [
       "<pre style=\"color:slategray;max-height:100px;overflow:hidden\" \n",
       "onclick=\"\n",
       "if (this.style.maxHeight === 'none') \n",
       "    this.style.maxHeight = '100px';\n",
       "else\n",
       "    this.style.maxHeight = 'none'; \n",
       "\">- : etat = [|1; 0; 1; 2|]\n",
       "</pre>"
      ]
     },
     "execution_count": 58,
     "metadata": {},
     "output_type": "execute_result"
    },
    {
     "data": {
      "text/html": [
       "<pre style=\"color:slategray;max-height:100px;overflow:hidden\" \n",
       "onclick=\"\n",
       "if (this.style.maxHeight === 'none') \n",
       "    this.style.maxHeight = '100px';\n",
       "else\n",
       "    this.style.maxHeight = 'none'; \n",
       "\">- : etat = [|2; 0; 3; 2|]\n",
       "</pre>"
      ]
     },
     "execution_count": 58,
     "metadata": {},
     "output_type": "execute_result"
    },
    {
     "data": {
      "text/html": [
       "<pre style=\"color:slategray;max-height:100px;overflow:hidden\" \n",
       "onclick=\"\n",
       "if (this.style.maxHeight === 'none') \n",
       "    this.style.maxHeight = '100px';\n",
       "else\n",
       "    this.style.maxHeight = 'none'; \n",
       "\">- : etat = [|0; 0; 3; 3|]\n",
       "</pre>"
      ]
     },
     "execution_count": 58,
     "metadata": {},
     "output_type": "execute_result"
    },
    {
     "data": {
      "text/html": [
       "<pre style=\"color:slategray;max-height:100px;overflow:hidden\" \n",
       "onclick=\"\n",
       "if (this.style.maxHeight === 'none') \n",
       "    this.style.maxHeight = '100px';\n",
       "else\n",
       "    this.style.maxHeight = 'none'; \n",
       "\">- : etat = [|1; 0; 1; 2|]\n",
       "</pre>"
      ]
     },
     "execution_count": 58,
     "metadata": {},
     "output_type": "execute_result"
    }
   ],
   "source": [
    "let ex1_3 = [| 0; 0; 3; 3 |];;\n",
    "\n",
    "let _ = transition ex1_3 ex1;;\n",
    "let _ = transition ex1_3 ex1;;\n",
    "let _ = transition ex1_3 ex1;; (* On a un cycle de taille 3 *)\n",
    "let _ = transition ex1_3 ex1;;"
   ]
  },
  {
   "cell_type": "markdown",
   "metadata": {},
   "source": [
    "Enfin, un dernier exemple, pour visualiser le fonctionnement de la fonction `realise_rdv`."
   ]
  },
  {
   "cell_type": "code",
   "execution_count": 59,
   "metadata": {},
   "outputs": [
    {
     "data": {
      "text/html": [
       "<pre style=\"color:slategray;max-height:100px;overflow:hidden\" \n",
       "onclick=\"\n",
       "if (this.style.maxHeight === 'none') \n",
       "    this.style.maxHeight = '100px';\n",
       "else\n",
       "    this.style.maxHeight = 'none'; \n",
       "\">val ex : int array = [|1; 2; 1; 4; 4|]\n",
       "</pre>"
      ]
     },
     "execution_count": 59,
     "metadata": {},
     "output_type": "execute_result"
    },
    {
     "data": {
      "text/html": [
       "<pre style=\"color:slategray;max-height:100px;overflow:hidden\" \n",
       "onclick=\"\n",
       "if (this.style.maxHeight === 'none') \n",
       "    this.style.maxHeight = '100px';\n",
       "else\n",
       "    this.style.maxHeight = 'none'; \n",
       "\">- : (int * int) list = [(3, 4); (0, 2)]\n",
       "</pre>"
      ]
     },
     "execution_count": 59,
     "metadata": {},
     "output_type": "execute_result"
    }
   ],
   "source": [
    "let ex = [| 1; 2; 1; 4; 4 |];;\n",
    "let _ = rdv ex "
   ]
  },
  {
   "cell_type": "code",
   "execution_count": 60,
   "metadata": {},
   "outputs": [
    {
     "data": {
      "text/html": [
       "<pre style=\"color:slategray;max-height:100px;overflow:hidden\" \n",
       "onclick=\"\n",
       "if (this.style.maxHeight === 'none') \n",
       "    this.style.maxHeight = '100px';\n",
       "else\n",
       "    this.style.maxHeight = 'none'; \n",
       "\">val u : int array = [|0; 0; 1|]\n",
       "</pre>"
      ]
     },
     "execution_count": 60,
     "metadata": {},
     "output_type": "execute_result"
    },
    {
     "data": {
      "text/html": [
       "<pre style=\"color:slategray;max-height:100px;overflow:hidden\" \n",
       "onclick=\"\n",
       "if (this.style.maxHeight === 'none') \n",
       "    this.style.maxHeight = '100px';\n",
       "else\n",
       "    this.style.maxHeight = 'none'; \n",
       "\">val l : int array array = [|[|0; 2|]; [|1; 2|]; [|2; 0|]|]\n",
       "</pre>"
      ]
     },
     "execution_count": 60,
     "metadata": {},
     "output_type": "execute_result"
    },
    {
     "data": {
      "text/html": [
       "<pre style=\"color:slategray;max-height:100px;overflow:hidden\" \n",
       "onclick=\"\n",
       "if (this.style.maxHeight === 'none') \n",
       "    this.style.maxHeight = '100px';\n",
       "else\n",
       "    this.style.maxHeight = 'none'; \n",
       "\">- : etat = [|2; 1; 1|]\n",
       "</pre>"
      ]
     },
     "execution_count": 60,
     "metadata": {},
     "output_type": "execute_result"
    }
   ],
   "source": [
    "let u = [| 0; 0; 1 |];;\n",
    "let l = [| [|0; 2|]; [|1; 2|]; [|2; 0|] |];;\n",
    "let _ = realise_rdv (0, 1) u l"
   ]
  },
  {
   "cell_type": "markdown",
   "metadata": {},
   "source": [
    "----\n",
    "## Conclusion\n",
    "\n",
    "Voilà pour la question obligatoire de programmation :\n",
    "\n",
    "- on a adopté la modélisation du texte (dans la 1ère approche) et aussi une autre modélisation (2ème approche),\n",
    "- on a traité l'exemple du texte, ou un exemple très proche.\n",
    "- on a fait des exemples et *on les garde* dans ce qu'on présente au jury.\n",
    "- on n'a pas essayé de faire *un peu plus*, mais on aurait très bien pu (avec les chaînes de Markov ou les temps d'attentes, par exemple).\n",
    "\n",
    "> Bien-sûr, ce petit notebook ne se prétend pas être une solution optimale, ni exhaustive.\n",
    "\n",
    "> Merci à Romain pour son implémentation, sur laquelle la seconde approche est basée."
   ]
  },
  {
   "cell_type": "markdown",
   "metadata": {
    "collapsed": true
   },
   "source": [
    "----\n",
    "## Une autre approche avec des chaînes de Markov\n",
    "\n",
    "Quand j'aurais le temps, j'implémenterai une troisième modélisation, avec des matrices et des [chaînes de Markov](https://fr.wikipedia.org/wiki/Cha%C3%AEne_de_Markov).\n",
    "\n",
    "L'idée de base vient de l'observation suivante : ajouter de l'aléa dans les déplacements des robots devraient permettre de s'assurer (avec forte probabilité) que tous les rendez-vous sont bien effectués."
   ]
  },
  {
   "cell_type": "markdown",
   "metadata": {},
   "source": [
    "### Opérations matrice-vecteur\n",
    "Avec un produit scalaire simple, et un appel à `Array.init`, on peut facilement effectuer un produit matrice-vecteur.\n",
    "\n",
    "$$ \\mathrm{dot}(\\mathbf{x}, \\mathbf{y}) := \\mathbf{x} . \\mathbf{y} = \\sum_{i=0}^{n-1} x_i \\times y_i $$\n",
    "$$ \\mathbf{A} \\times \\mathbf{x} := \\begin{bmatrix}\n",
    "    A_0 . \\mathbf{x} \\\\\n",
    "    \\dots \\\\\n",
    "    A_{n-1} . \\mathbf{x} \\\\\n",
    "\\end{bmatrix}. $$"
   ]
  },
  {
   "cell_type": "code",
   "execution_count": 1,
   "metadata": {},
   "outputs": [
    {
     "data": {
      "text/html": [
       "<pre style=\"color:slategray;max-height:100px;overflow:hidden\" \n",
       "onclick=\"\n",
       "if (this.style.maxHeight === 'none') \n",
       "    this.style.maxHeight = '100px';\n",
       "else\n",
       "    this.style.maxHeight = 'none'; \n",
       "\">val dot : float array -&gt; float array -&gt; float = &lt;fun&gt;\n",
       "</pre>"
      ]
     },
     "execution_count": 1,
     "metadata": {},
     "output_type": "execute_result"
    }
   ],
   "source": [
    "let dot (x : float array) (y : float array) : float =\n",
    "    let n = Array.length x in\n",
    "    let acc = ref 0. in\n",
    "    for i = 0 to n - 1 do\n",
    "        acc := (!acc) +. (x.(i) *. y.(i))\n",
    "    done;\n",
    "    !acc\n",
    ";;"
   ]
  },
  {
   "cell_type": "code",
   "execution_count": 2,
   "metadata": {},
   "outputs": [
    {
     "data": {
      "text/html": [
       "<pre style=\"color:slategray;max-height:100px;overflow:hidden\" \n",
       "onclick=\"\n",
       "if (this.style.maxHeight === 'none') \n",
       "    this.style.maxHeight = '100px';\n",
       "else\n",
       "    this.style.maxHeight = 'none'; \n",
       "\">- : float = 14.\n",
       "</pre>"
      ]
     },
     "execution_count": 2,
     "metadata": {},
     "output_type": "execute_result"
    }
   ],
   "source": [
    "dot [| 1.; 2.; 3. |] [| 1.; 2.; 3. |];;\n",
    "(* = 14 = 1 * 1 + 2 * 2 + 3 * 3 = 1 + 4 + 9 *)"
   ]
  },
  {
   "cell_type": "markdown",
   "metadata": {},
   "source": [
    "Et maintenant pour le produit matrice-vecteur :"
   ]
  },
  {
   "cell_type": "code",
   "execution_count": 3,
   "metadata": {},
   "outputs": [
    {
     "data": {
      "text/html": [
       "<pre style=\"color:slategray;max-height:100px;overflow:hidden\" \n",
       "onclick=\"\n",
       "if (this.style.maxHeight === 'none') \n",
       "    this.style.maxHeight = '100px';\n",
       "else\n",
       "    this.style.maxHeight = 'none'; \n",
       "\">val right_mult : float array array -&gt; float array -&gt; float array = &lt;fun&gt;\n",
       "</pre>"
      ]
     },
     "execution_count": 3,
     "metadata": {},
     "output_type": "execute_result"
    }
   ],
   "source": [
    "let right_mult (a : float array array) (x : float array) : float array =\n",
    "    Array.init (Array.length x) (fun i ->\n",
    "        dot a.(i) x\n",
    "    )\n",
    ";;"
   ]
  },
  {
   "cell_type": "markdown",
   "metadata": {},
   "source": [
    "Par exemple, définissons une matrice et un vecteur, utilisés ici et après."
   ]
  },
  {
   "cell_type": "code",
   "execution_count": 49,
   "metadata": {},
   "outputs": [
    {
     "data": {
      "text/html": [
       "<pre style=\"color:slategray;max-height:100px;overflow:hidden\" \n",
       "onclick=\"\n",
       "if (this.style.maxHeight === 'none') \n",
       "    this.style.maxHeight = '100px';\n",
       "else\n",
       "    this.style.maxHeight = 'none'; \n",
       "\">val a : float array array =\n",
       "  [|[|0.4; 0.3; 0.3|]; [|0.3; 0.4; 0.3|]; [|0.3; 0.3; 0.4|]|]\n",
       "</pre>"
      ]
     },
     "execution_count": 49,
     "metadata": {},
     "output_type": "execute_result"
    },
    {
     "data": {
      "text/html": [
       "<pre style=\"color:slategray;max-height:100px;overflow:hidden\" \n",
       "onclick=\"\n",
       "if (this.style.maxHeight === 'none') \n",
       "    this.style.maxHeight = '100px';\n",
       "else\n",
       "    this.style.maxHeight = 'none'; \n",
       "\">val x : float array = [|0.; 1.; 0.|]\n",
       "</pre>"
      ]
     },
     "execution_count": 49,
     "metadata": {},
     "output_type": "execute_result"
    },
    {
     "data": {
      "text/html": [
       "<pre style=\"color:slategray;max-height:100px;overflow:hidden\" \n",
       "onclick=\"\n",
       "if (this.style.maxHeight === 'none') \n",
       "    this.style.maxHeight = '100px';\n",
       "else\n",
       "    this.style.maxHeight = 'none'; \n",
       "\">val y : float array = [|0.2; 0.3; 0.5|]\n",
       "</pre>"
      ]
     },
     "execution_count": 49,
     "metadata": {},
     "output_type": "execute_result"
    }
   ],
   "source": [
    "let a = [|\n",
    "            [| 0.4; 0.3; 0.3 |];\n",
    "            [| 0.3; 0.4; 0.3 |];\n",
    "            [| 0.3; 0.3; 0.4 |]\n",
    "    |]\n",
    ";;\n",
    "\n",
    "let x = [| 0.; 1.; 0. |];;  (* etat 2 *)\n",
    "let y = [| 0.2; 0.3; 0.5 |];;"
   ]
  },
  {
   "cell_type": "code",
   "execution_count": 50,
   "metadata": {},
   "outputs": [
    {
     "data": {
      "text/html": [
       "<pre style=\"color:slategray;max-height:100px;overflow:hidden\" \n",
       "onclick=\"\n",
       "if (this.style.maxHeight === 'none') \n",
       "    this.style.maxHeight = '100px';\n",
       "else\n",
       "    this.style.maxHeight = 'none'; \n",
       "\">- : float array = [|0.3; 0.4; 0.3|]\n",
       "</pre>"
      ]
     },
     "execution_count": 50,
     "metadata": {},
     "output_type": "execute_result"
    },
    {
     "data": {
      "text/html": [
       "<pre style=\"color:slategray;max-height:100px;overflow:hidden\" \n",
       "onclick=\"\n",
       "if (this.style.maxHeight === 'none') \n",
       "    this.style.maxHeight = '100px';\n",
       "else\n",
       "    this.style.maxHeight = 'none'; \n",
       "\">- : float array = [|0.32; 0.32999999999999996; 0.35|]\n",
       "</pre>"
      ]
     },
     "execution_count": 50,
     "metadata": {},
     "output_type": "execute_result"
    }
   ],
   "source": [
    "right_mult a x;;\n",
    "right_mult a y;;"
   ]
  },
  {
   "cell_type": "markdown",
   "metadata": {},
   "source": [
    "### Simuler une étape d'une chaîne de Markov ?\n",
    "Le module [`Random`](http://caml.inria.fr/pub/docs/manual-ocaml/libref/Random.html) va être utile."
   ]
  },
  {
   "cell_type": "code",
   "execution_count": 9,
   "metadata": {},
   "outputs": [
    {
     "data": {
      "text/html": [
       "<pre style=\"color:slategray;max-height:100px;overflow:hidden\" \n",
       "onclick=\"\n",
       "if (this.style.maxHeight === 'none') \n",
       "    this.style.maxHeight = '100px';\n",
       "else\n",
       "    this.style.maxHeight = 'none'; \n",
       "\">- : unit = ()\n",
       "</pre>"
      ]
     },
     "execution_count": 9,
     "metadata": {},
     "output_type": "execute_result"
    }
   ],
   "source": [
    "Random.self_init ();;"
   ]
  },
  {
   "cell_type": "markdown",
   "metadata": {},
   "source": [
    "Etant donné une distribution discrète $\\pi = (\\pi_1,\\dots,\\pi_N)$ sur $\\{1,\\dots,N\\}$, la fonction suivante permet de générer un indice $i$ tel que\n",
    "$$ \\mathbb{P}(i = k) = \\pi_k, \\forall k \\in \\{1,\\dots,N\\}.$$"
   ]
  },
  {
   "cell_type": "code",
   "execution_count": 72,
   "metadata": {},
   "outputs": [
    {
     "data": {
      "text/html": [
       "<pre style=\"color:slategray;max-height:100px;overflow:hidden\" \n",
       "onclick=\"\n",
       "if (this.style.maxHeight === 'none') \n",
       "    this.style.maxHeight = '100px';\n",
       "else\n",
       "    this.style.maxHeight = 'none'; \n",
       "\">val weight_sampling : float array -&gt; unit -&gt; int = &lt;fun&gt;\n",
       "</pre>"
      ]
     },
     "execution_count": 72,
     "metadata": {},
     "output_type": "execute_result"
    }
   ],
   "source": [
    "let weight_sampling (pi : float array) () =\n",
    "    let p = Random.float 1. in\n",
    "    let i = ref (-1) in\n",
    "    let acc = ref 0. in\n",
    "    while !acc < p do\n",
    "        incr i;\n",
    "        acc := (!acc) +. pi.(!i);\n",
    "    done;\n",
    "    !i\n",
    ";;"
   ]
  },
  {
   "cell_type": "markdown",
   "metadata": {},
   "source": [
    "Par exemple :"
   ]
  },
  {
   "cell_type": "code",
   "execution_count": 73,
   "metadata": {},
   "outputs": [
    {
     "data": {
      "text/html": [
       "<pre style=\"color:slategray;max-height:100px;overflow:hidden\" \n",
       "onclick=\"\n",
       "if (this.style.maxHeight === 'none') \n",
       "    this.style.maxHeight = '100px';\n",
       "else\n",
       "    this.style.maxHeight = 'none'; \n",
       "\">- : int array =\n",
       "[|0; 0; 2; 0; 2; 1; 2; 0; 2; 2; 2; 2; 0; 0; 2; 0; 0; 0; 1; 0; 2; 0; 1; 2; 2;\n",
       "  0; 0; 0; 1; 0; 0; 2; 0; 0; 2; 0; 0; 0; 0; 1; 2; 0; 0; 2; 2; 2; 0; 2; 0; 0;\n",
       "  0; 2; 0; 0; 2; 2; 0; 2; 0; 0; 0; 0; 0; 0; 0; 2; 0; 0; 0; 0; 2; 0; 2; 2; 0;\n",
       "  0; 1; 0; 0; 0; 0; 1; 0; 0; 2; 0; 2; 0; 2; 2; 1; 1; 2; 0; 0; 0; 0; 2; 0; 2|]\n",
       "</pre>"
      ]
     },
     "execution_count": 73,
     "metadata": {},
     "output_type": "execute_result"
    }
   ],
   "source": [
    "Array.init 100\n",
    "    (fun i -> weight_sampling [| 0.5; 0.1; 0.4 |] ())\n",
    ";;"
   ]
  },
  {
   "cell_type": "markdown",
   "metadata": {},
   "source": [
    "On peut utiliser cette fonction pour suivre une transition, aléatoire, sur une chaîne de Markov."
   ]
  },
  {
   "cell_type": "code",
   "execution_count": 150,
   "metadata": {},
   "outputs": [
    {
     "data": {
      "text/html": [
       "<pre style=\"color:slategray;max-height:100px;overflow:hidden\" \n",
       "onclick=\"\n",
       "if (this.style.maxHeight === 'none') \n",
       "    this.style.maxHeight = '100px';\n",
       "else\n",
       "    this.style.maxHeight = 'none'; \n",
       "\">val markov_1 : float array array -&gt; int -&gt; int = &lt;fun&gt;\n",
       "</pre>"
      ]
     },
     "execution_count": 150,
     "metadata": {},
     "output_type": "execute_result"
    }
   ],
   "source": [
    "let markov_1 (a : float array array) (i : int) : int =\n",
    "    let pi = a.(i) in\n",
    "    weight_sampling pi ()\n",
    ";;"
   ]
  },
  {
   "cell_type": "markdown",
   "metadata": {},
   "source": [
    "Avec l'exemple définit ci-dessus, on peut voir le résultat de $100$ transitions différentes depuis l'état $0$ :"
   ]
  },
  {
   "cell_type": "code",
   "execution_count": 81,
   "metadata": {},
   "outputs": [
    {
     "name": "stdout",
     "output_type": "stream",
     "text": [
      "00110122221011002010001000112212100101000221012011201220001121011220111021202202001111100002101212001"
     ]
    },
    {
     "data": {
      "text/html": [
       "<pre style=\"color:slategray;max-height:100px;overflow:hidden\" \n",
       "onclick=\"\n",
       "if (this.style.maxHeight === 'none') \n",
       "    this.style.maxHeight = '100px';\n",
       "else\n",
       "    this.style.maxHeight = 'none'; \n",
       "\">- : unit = ()\n",
       "</pre>"
      ]
     },
     "execution_count": 81,
     "metadata": {},
     "output_type": "execute_result"
    }
   ],
   "source": [
    "for _ = 0 to 100 do\n",
    "    print_int (markov_1 a 0);\n",
    "done;"
   ]
  },
  {
   "cell_type": "markdown",
   "metadata": {},
   "source": [
    "On peut suivre plusieurs transitions :"
   ]
  },
  {
   "cell_type": "code",
   "execution_count": 82,
   "metadata": {},
   "outputs": [
    {
     "data": {
      "text/html": [
       "<pre style=\"color:slategray;max-height:100px;overflow:hidden\" \n",
       "onclick=\"\n",
       "if (this.style.maxHeight === 'none') \n",
       "    this.style.maxHeight = '100px';\n",
       "else\n",
       "    this.style.maxHeight = 'none'; \n",
       "\">val markov_n : float array array -&gt; int -&gt; int -&gt; int = &lt;fun&gt;\n",
       "</pre>"
      ]
     },
     "execution_count": 82,
     "metadata": {},
     "output_type": "execute_result"
    }
   ],
   "source": [
    "let markov_n (a : float array) (etat : int) (n : int) : int =\n",
    "    let u = ref etat in\n",
    "    for _ = 0 to n-1 do\n",
    "        u := markov_1 a !u;\n",
    "    done;\n",
    "    !u\n",
    ";;"
   ]
  },
  {
   "cell_type": "code",
   "execution_count": 93,
   "metadata": {},
   "outputs": [
    {
     "data": {
      "text/html": [
       "<pre style=\"color:slategray;max-height:100px;overflow:hidden\" \n",
       "onclick=\"\n",
       "if (this.style.maxHeight === 'none') \n",
       "    this.style.maxHeight = '100px';\n",
       "else\n",
       "    this.style.maxHeight = 'none'; \n",
       "\">- : int = 2\n",
       "</pre>"
      ]
     },
     "execution_count": 93,
     "metadata": {},
     "output_type": "execute_result"
    }
   ],
   "source": [
    "markov_n a 0 10;"
   ]
  },
  {
   "cell_type": "markdown",
   "metadata": {},
   "source": [
    "Et pour un vecteur d'état, c'est pareil :"
   ]
  },
  {
   "cell_type": "code",
   "execution_count": 108,
   "metadata": {},
   "outputs": [
    {
     "data": {
      "text/html": [
       "<pre style=\"color:slategray;max-height:100px;overflow:hidden\" \n",
       "onclick=\"\n",
       "if (this.style.maxHeight === 'none') \n",
       "    this.style.maxHeight = '100px';\n",
       "else\n",
       "    this.style.maxHeight = 'none'; \n",
       "\">val markovs_n : float array array -&gt; int array -&gt; int -&gt; int array = &lt;fun&gt;\n",
       "</pre>"
      ]
     },
     "execution_count": 108,
     "metadata": {},
     "output_type": "execute_result"
    }
   ],
   "source": [
    "let markovs_n (a : float array array) (etats : int array) (n : int) : int array =\n",
    "    Array.map (fun u -> markov_n a.(u) u n) etats\n",
    ";;"
   ]
  },
  {
   "cell_type": "code",
   "execution_count": 109,
   "metadata": {},
   "outputs": [
    {
     "data": {
      "text/html": [
       "<pre style=\"color:slategray;max-height:100px;overflow:hidden\" \n",
       "onclick=\"\n",
       "if (this.style.maxHeight === 'none') \n",
       "    this.style.maxHeight = '100px';\n",
       "else\n",
       "    this.style.maxHeight = 'none'; \n",
       "\">- : int array = [|1; 1; 0|]\n",
       "</pre>"
      ]
     },
     "execution_count": 109,
     "metadata": {},
     "output_type": "execute_result"
    }
   ],
   "source": [
    "markovs_n a [|0; 1; 2|] 10;"
   ]
  },
  {
   "cell_type": "markdown",
   "metadata": {},
   "source": [
    "### Modéliser nos robots avec une chaîne de Markov\n",
    "\n",
    "Plutôt que d'imposer à chaque robot un ordre fixe de ses rendez-vous, on va leur donner une probabilité uniforme d'aller, après un rendez-vous, à n'importe lequel de leur rendez-vous.\n",
    "\n",
    "- Cela demande de transformer la liste $T_1,\\dots,T_n$ de rendez-vous en une matrice de transition de chaîne de Markov.\n",
    "- Et ensuite de simuler la chaîne de Markov, parant d'un vecteur d'états initiaux $[ T_1[0], \\dots, T_n[0] ]$."
   ]
  },
  {
   "cell_type": "code",
   "execution_count": 95,
   "metadata": {
    "scrolled": true
   },
   "outputs": [
    {
     "data": {
      "text/html": [
       "<pre style=\"color:slategray;max-height:100px;overflow:hidden\" \n",
       "onclick=\"\n",
       "if (this.style.maxHeight === 'none') \n",
       "    this.style.maxHeight = '100px';\n",
       "else\n",
       "    this.style.maxHeight = 'none'; \n",
       "\">- : int -&gt; int -&gt; 'a -&gt; 'a array array = &lt;fun&gt;\n",
       "</pre>"
      ]
     },
     "execution_count": 95,
     "metadata": {},
     "output_type": "execute_result"
    },
    {
     "data": {
      "text/html": [
       "<pre style=\"color:slategray;max-height:100px;overflow:hidden\" \n",
       "onclick=\"\n",
       "if (this.style.maxHeight === 'none') \n",
       "    this.style.maxHeight = '100px';\n",
       "else\n",
       "    this.style.maxHeight = 'none'; \n",
       "\">- : ('a -&gt; unit) -&gt; 'a array -&gt; unit = &lt;fun&gt;\n",
       "</pre>"
      ]
     },
     "execution_count": 95,
     "metadata": {},
     "output_type": "execute_result"
    }
   ],
   "source": [
    "Array.make_matrix;;\n",
    "Array.iter;;"
   ]
  },
  {
   "cell_type": "code",
   "execution_count": 101,
   "metadata": {},
   "outputs": [
    {
     "data": {
      "text/html": [
       "<pre style=\"color:slategray;max-height:100px;overflow:hidden\" \n",
       "onclick=\"\n",
       "if (this.style.maxHeight === 'none') \n",
       "    this.style.maxHeight = '100px';\n",
       "else\n",
       "    this.style.maxHeight = 'none'; \n",
       "\">val mat_proba_depuis_rdv : int array array -&gt; float array array = &lt;fun&gt;\n",
       "</pre>"
      ]
     },
     "execution_count": 101,
     "metadata": {},
     "output_type": "execute_result"
    }
   ],
   "source": [
    "let mat_proba_depuis_rdv (ts : int array array) : float array array =\n",
    "    let n = Array.length ts in\n",
    "    let a = Array.make_matrix n n 0. in\n",
    "    for i = 0 to n-1 do\n",
    "        (* Pour le robot R_i, ses rendez-vous T_i sont ts.(i) *)\n",
    "        let m = Array.length ts.(i) in\n",
    "        let p_i = 1. /. (float_of_int m) in\n",
    "        (* Pour chaque rendez-vous L_j dans T_i, remplir a.(i).(j) par 1/m *)\n",
    "        for j = 0 to m-1 do\n",
    "            a.(i).(ts.(i).(j)) <- p_i;\n",
    "        done;\n",
    "    done;\n",
    "    a\n",
    ";;"
   ]
  },
  {
   "cell_type": "markdown",
   "metadata": {},
   "source": [
    "Avec les fonctions précédentes, on peut faire évoluer le système."
   ]
  },
  {
   "cell_type": "code",
   "execution_count": 111,
   "metadata": {},
   "outputs": [
    {
     "data": {
      "text/html": [
       "<pre style=\"color:slategray;max-height:100px;overflow:hidden\" \n",
       "onclick=\"\n",
       "if (this.style.maxHeight === 'none') \n",
       "    this.style.maxHeight = '100px';\n",
       "else\n",
       "    this.style.maxHeight = 'none'; \n",
       "\">val simule_markov_robots : int array array -&gt; int array -&gt; int -&gt; int array =\n",
       "  &lt;fun&gt;\n",
       "</pre>"
      ]
     },
     "execution_count": 111,
     "metadata": {},
     "output_type": "execute_result"
    }
   ],
   "source": [
    "let simule_markov_robots (ts : int array array)\n",
    "    (etats : int array) (n : int)\n",
    "    : int array =\n",
    "    let a = mat_proba_depuis_rdv ts in\n",
    "    markovs_n a etats n\n",
    ";;"
   ]
  },
  {
   "cell_type": "markdown",
   "metadata": {},
   "source": [
    "### Exemple\n",
    "On commence avec le premier exemple du texte, avec trois robots $R_1, R_2, R_3$, qui ont comme tableaux de rendez-vous $T_1 = [1, 3]$, $T_2 = [2, 1]$ et $T_3 = [3, 2]$.\n",
    "\n",
    "Ce système n'est pas bloqué, mais aucun rendez-vous n'est réalisé avec l'approche statique.\n",
    "L'approche probabiliste permettra, espérons, de résoudre ce problème.\n",
    "\n",
    "![Premier exemple de robots](images/robots_exemple1.png)"
   ]
  },
  {
   "cell_type": "code",
   "execution_count": 104,
   "metadata": {},
   "outputs": [
    {
     "data": {
      "text/html": [
       "<pre style=\"color:slategray;max-height:100px;overflow:hidden\" \n",
       "onclick=\"\n",
       "if (this.style.maxHeight === 'none') \n",
       "    this.style.maxHeight = '100px';\n",
       "else\n",
       "    this.style.maxHeight = 'none'; \n",
       "\">val rdv : int array array = [|[|0; 2|]; [|1; 2|]; [|2; 1|]|]\n",
       "</pre>"
      ]
     },
     "execution_count": 104,
     "metadata": {},
     "output_type": "execute_result"
    }
   ],
   "source": [
    "let rdv = [| [|0; 2|]; [|1; 2|]; [|2; 1|]|] ;;"
   ]
  },
  {
   "cell_type": "markdown",
   "metadata": {},
   "source": [
    "On peut écrire une fonction qui récupère l'état initial dans lequel se trouve chaque robot (le texte donnait comme convention d'utiliser le premier de chaque liste)."
   ]
  },
  {
   "cell_type": "code",
   "execution_count": 113,
   "metadata": {},
   "outputs": [
    {
     "data": {
      "text/html": [
       "<pre style=\"color:slategray;max-height:100px;overflow:hidden\" \n",
       "onclick=\"\n",
       "if (this.style.maxHeight === 'none') \n",
       "    this.style.maxHeight = '100px';\n",
       "else\n",
       "    this.style.maxHeight = 'none'; \n",
       "\">val premier_etat : int array array -&gt; int array = &lt;fun&gt;\n",
       "</pre>"
      ]
     },
     "execution_count": 113,
     "metadata": {},
     "output_type": "execute_result"
    }
   ],
   "source": [
    "let premier_etat (rdvs : int array array) : int array =\n",
    "    Array.init (Array.length rdvs) (fun i -> rdvs.(i).(0))\n",
    ";;"
   ]
  },
  {
   "cell_type": "code",
   "execution_count": 114,
   "metadata": {},
   "outputs": [
    {
     "data": {
      "text/html": [
       "<pre style=\"color:slategray;max-height:100px;overflow:hidden\" \n",
       "onclick=\"\n",
       "if (this.style.maxHeight === 'none') \n",
       "    this.style.maxHeight = '100px';\n",
       "else\n",
       "    this.style.maxHeight = 'none'; \n",
       "\">val etat : int array = [|0; 1; 2|]\n",
       "</pre>"
      ]
     },
     "execution_count": 114,
     "metadata": {},
     "output_type": "execute_result"
    }
   ],
   "source": [
    "let etat = premier_etat rdv;;"
   ]
  },
  {
   "cell_type": "markdown",
   "metadata": {},
   "source": [
    "On vérifie la matrice de transition produite par `mat_proba_depuis_rdv` :"
   ]
  },
  {
   "cell_type": "code",
   "execution_count": 105,
   "metadata": {},
   "outputs": [
    {
     "data": {
      "text/html": [
       "<pre style=\"color:slategray;max-height:100px;overflow:hidden\" \n",
       "onclick=\"\n",
       "if (this.style.maxHeight === 'none') \n",
       "    this.style.maxHeight = '100px';\n",
       "else\n",
       "    this.style.maxHeight = 'none'; \n",
       "\">- : float array array =\n",
       "[|[|0.5; 0.; 0.5|]; [|0.; 0.5; 0.5|]; [|0.; 0.5; 0.5|]|]\n",
       "</pre>"
      ]
     },
     "execution_count": 105,
     "metadata": {},
     "output_type": "execute_result"
    }
   ],
   "source": [
    "mat_proba_depuis_rdv rdv;;"
   ]
  },
  {
   "cell_type": "markdown",
   "metadata": {},
   "source": [
    "Et enfin on peut simuler le système, par exemple pour juste une étape, plusieurs fois (pour bien visualiser)."
   ]
  },
  {
   "cell_type": "code",
   "execution_count": 117,
   "metadata": {},
   "outputs": [
    {
     "data": {
      "text/html": [
       "<pre style=\"color:slategray;max-height:100px;overflow:hidden\" \n",
       "onclick=\"\n",
       "if (this.style.maxHeight === 'none') \n",
       "    this.style.maxHeight = '100px';\n",
       "else\n",
       "    this.style.maxHeight = 'none'; \n",
       "\">- : int array = [|0; 1; 2|]\n",
       "</pre>"
      ]
     },
     "execution_count": 117,
     "metadata": {},
     "output_type": "execute_result"
    }
   ],
   "source": [
    "simule_markov_robots rdv etat 0;;  (* rien à faire ! *)"
   ]
  },
  {
   "cell_type": "code",
   "execution_count": 128,
   "metadata": {},
   "outputs": [
    {
     "data": {
      "text/html": [
       "<pre style=\"color:slategray;max-height:100px;overflow:hidden\" \n",
       "onclick=\"\n",
       "if (this.style.maxHeight === 'none') \n",
       "    this.style.maxHeight = '100px';\n",
       "else\n",
       "    this.style.maxHeight = 'none'; \n",
       "\">- : int array = [|0; 2; 2|]\n",
       "</pre>"
      ]
     },
     "execution_count": 128,
     "metadata": {},
     "output_type": "execute_result"
    }
   ],
   "source": [
    "simule_markov_robots rdv etat 1;;"
   ]
  },
  {
   "cell_type": "code",
   "execution_count": 142,
   "metadata": {},
   "outputs": [
    {
     "data": {
      "text/html": [
       "<pre style=\"color:slategray;max-height:100px;overflow:hidden\" \n",
       "onclick=\"\n",
       "if (this.style.maxHeight === 'none') \n",
       "    this.style.maxHeight = '100px';\n",
       "else\n",
       "    this.style.maxHeight = 'none'; \n",
       "\">val print : ('a, out_channel, unit) format -&gt; 'a = &lt;fun&gt;\n",
       "</pre>"
      ]
     },
     "execution_count": 142,
     "metadata": {},
     "output_type": "execute_result"
    }
   ],
   "source": [
    "let print = Printf.printf;;"
   ]
  },
  {
   "cell_type": "code",
   "execution_count": 146,
   "metadata": {},
   "outputs": [
    {
     "data": {
      "text/html": [
       "<pre style=\"color:slategray;max-height:100px;overflow:hidden\" \n",
       "onclick=\"\n",
       "if (this.style.maxHeight === 'none') \n",
       "    this.style.maxHeight = '100px';\n",
       "else\n",
       "    this.style.maxHeight = 'none'; \n",
       "\">val affiche_etat : int array -&gt; unit = &lt;fun&gt;\n",
       "</pre>"
      ]
     },
     "execution_count": 146,
     "metadata": {},
     "output_type": "execute_result"
    }
   ],
   "source": [
    "let affiche_etat (etat : int array) =\n",
    "    Array.iter (fun u -> print \"%i \" u) etat;\n",
    "    print \"\\n\";\n",
    ";;"
   ]
  },
  {
   "cell_type": "code",
   "execution_count": 147,
   "metadata": {},
   "outputs": [
    {
     "name": "stdout",
     "output_type": "stream",
     "text": [
      "0 1 2 \n"
     ]
    },
    {
     "data": {
      "text/html": [
       "<pre style=\"color:slategray;max-height:100px;overflow:hidden\" \n",
       "onclick=\"\n",
       "if (this.style.maxHeight === 'none') \n",
       "    this.style.maxHeight = '100px';\n",
       "else\n",
       "    this.style.maxHeight = 'none'; \n",
       "\">- : unit = ()\n",
       "</pre>"
      ]
     },
     "execution_count": 147,
     "metadata": {},
     "output_type": "execute_result"
    }
   ],
   "source": [
    "affiche_etat etat;;"
   ]
  },
  {
   "cell_type": "code",
   "execution_count": 149,
   "metadata": {},
   "outputs": [
    {
     "name": "stdout",
     "output_type": "stream",
     "text": [
      "0 1 2 \n",
      "2 1 1 \n",
      "2 2 1 \n",
      "2 1 1 \n",
      "1 1 2 \n",
      "2 1 2 \n",
      "1 1 2 \n",
      "1 2 2 \n",
      "1 2 2 \n",
      "1 1 1 \n",
      "1 1 1 \n"
     ]
    },
    {
     "data": {
      "text/html": [
       "<pre style=\"color:slategray;max-height:100px;overflow:hidden\" \n",
       "onclick=\"\n",
       "if (this.style.maxHeight === 'none') \n",
       "    this.style.maxHeight = '100px';\n",
       "else\n",
       "    this.style.maxHeight = 'none'; \n",
       "\">- : unit = ()\n",
       "</pre>"
      ]
     },
     "execution_count": 149,
     "metadata": {},
     "output_type": "execute_result"
    }
   ],
   "source": [
    "let u = ref etat in\n",
    "for _ = 0 to 10 do\n",
    "    affiche_etat !u;\n",
    "    u := simule_markov_robots rdv !u 1;\n",
    "done;"
   ]
  },
  {
   "cell_type": "markdown",
   "metadata": {},
   "source": [
    "On constate que des rendez-vous ont bien été effectués !\n",
    "\n",
    "Par contre, cette approche probabiliste simple viole une des hypothèses clés : il peut y avoir plus de deux robots en même temps au même rendez-vous !"
   ]
  },
  {
   "cell_type": "markdown",
   "metadata": {},
   "source": [
    "### Conclusion de cette approche par des chaînes de Markov\n",
    "\n",
    "**ATTENTION** je n'ai pas fini, je me suis loupé !\n",
    "\n",
    "Il faut évidemment avoir une chaîne de Markov *par robot* !!"
   ]
  }
 ],
 "metadata": {
  "kernelspec": {
   "display_name": "OCaml",
   "language": "ocaml",
   "name": "iocaml-kernel"
  },
  "language_info": {
   "name": "ocaml",
   "version": "4.1.0"
  },
  "toc": {
   "colors": {
    "hover_highlight": "#DAA520",
    "running_highlight": "#FF0000",
    "selected_highlight": "#FFD700"
   },
   "moveMenuLeft": true,
   "nav_menu": {
    "height": "289px",
    "width": "252px"
   },
   "navigate_menu": true,
   "number_sections": true,
   "sideBar": true,
   "threshold": 4,
   "toc_cell": true,
   "toc_position": {
    "height": "506px",
    "left": "0px",
    "right": "1031px",
    "top": "116px",
    "width": "249px"
   },
   "toc_section_display": "block",
   "toc_window_display": true
  }
 },
 "nbformat": 4,
 "nbformat_minor": 2
}
