{
 "cells": [
  {
   "cell_type": "markdown",
   "metadata": {},
   "source": [
    "# Table des matières\n",
    "* [1. Agrégation externe de mathématiques](#1.-Agrégation-externe-de-mathématiques)\n",
    "\t* [1.1 Leçon orale, option informatique](#1.1-Leçon-orale,-option-informatique)\n",
    "* [2. Calcul du plus long sous mot commun](#2.-Calcul-du-plus-long-sous-mot-commun)\n",
    "\t* &nbsp;\n",
    "\t\t* [2.0.1 Implémentation d'un développement pour les leçons 906, 907.](#2.0.1-Implémentation-d'un-développement-pour-les-leçons-906,-907.)\n",
    "\t\t* [2.0.2 Références :](#2.0.2-Références-:)\n",
    "\t\t* [2.0.3 Applications, généralisations :](#2.0.3-Applications,-généralisations-:)\n",
    "* [3. Algorithme naïf (exponentiel)](#3.-Algorithme-naïf-%28exponentiel%29)\n",
    "\t* [3.1 Détecter si $u$ est sous mot de $y$](#3.1-Détecter-si-$u$-est-sous-mot-de-$y$)\n",
    "\t* [3.2 Trouver *un* sous-mot de longueur ``k``](#3.2-Trouver-*un*-sous-mot-de-longueur-k)\n",
    "\t* [3.3 Sous-mot de longueur maximale (version naïve)](#3.3-Sous-mot-de-longueur-maximale-%28version-naïve%29)\n",
    "* [4. Méthode gloutonne (programmation dynamique)](#4.-Méthode-gloutonne-%28programmation-dynamique%29)\n",
    "\t* [4.1 Programmation dynamique, sans optimisation mémoire](#4.1-Programmation-dynamique,-sans-optimisation-mémoire)\n",
    "\t* [4.2 Utilisation d'une matrice *creuse*](#4.2-Utilisation-d'une-matrice-*creuse*)\n",
    "\t\t* [4.2.1 Version condensée](#4.2.1-Version-condensée)\n",
    "* [5. Calcule de la plus longue sous-séquence commune](#5.-Calcule-de-la-plus-longue-sous-séquence-commune)\n",
    "\t* [5.1 Vérifier qu'une sous-séquence est une bonne sous-séquence](#5.1-Vérifier-qu'une-sous-séquence-est-une-bonne-sous-séquence)\n",
    "\t* [5.2 Algorithme pour la plus longue sous-séquence](#5.2-Algorithme-pour-la-plus-longue-sous-séquence)\n",
    "\t\t* [5.2.1 Exemple, venant du développement](#5.2.1-Exemple,-venant-du-développement)\n",
    "\t\t* [5.2.2 Autres exemples](#5.2.2-Autres-exemples)\n"
   ]
  },
  {
   "cell_type": "markdown",
   "metadata": {},
   "source": [
    "# 1. Agrégation externe de mathématiques"
   ]
  },
  {
   "cell_type": "markdown",
   "metadata": {},
   "source": [
    "## 1.1 Leçon orale, option informatique"
   ]
  },
  {
   "cell_type": "markdown",
   "metadata": {},
   "source": [
    "> - Ce [notebook Jupyter](http://jupyter.org/) est une implémentation d'un algorithme constituant un développement pour l'option informatique de l'agrégation externe de mathématiques.\n",
    "> - Il s'agit du calcul du [plus long sous mot commun](https://fr.wikipedia.org/wiki/Plus_longue_sous-séquence_commune).\n",
    "> - Cette implémentation (partielle) a été rédigée par [Lilian Besson](http://perso.crans.org/besson/) ([sur GitHub ?](https://github.com/Naereen/), [sur Bitbucket ?](https://bitbucket.org/lbesson)), et [est open-source](https://github.com/Naereen/notebooks/blob/master/agreg/Plus%20long%20sous%20mot%20commun%20%28python3%29.ipynb).\n",
    "\n",
    "> #### Feedbacks?\n",
    "> - Vous avez trouvé un bug ? → [Signalez-le moi svp !](https://github.com/Naereen/notebooks/issues/new), merci d'avance.\n",
    "> - Vous avez une question ? → [Posez la svp !](https://github.com/Naereen/ama.fr) [![Ask Me Anything](https://img.shields.io/badge/ask%20me-anything-1abc9c.svg)](https://github.com/Naereen/ama.fr)\n",
    "\n",
    "----"
   ]
  },
  {
   "cell_type": "markdown",
   "metadata": {},
   "source": [
    "# 2. Calcul du plus long sous mot commun"
   ]
  },
  {
   "cell_type": "markdown",
   "metadata": {},
   "source": [
    "### 2.0.1 Implémentation d'un développement pour les leçons 906, 907."
   ]
  },
  {
   "cell_type": "markdown",
   "metadata": {},
   "source": [
    "On présente ici un algorithme de programmation dynamique pour **le calcul du plus long sous mot commun** (attention, c'est différent de la plus longue sous séquence commune !).\n",
    "\n",
    "Étant donnés deux mots $X = x_1 \\dots x_m$ et $Y = y_1 \\dots y_n$ sur un alphabet $\\Sigma$, on cherche à savoir quel est le plus long sous-mot commun à $X$ et $Y$.\n",
    "Un sous-mot correspond à un morceau commun aux deux mots : on extraie de **façon consécutive** une sous-séquence de $x$ et $y$ et elles doivent être égales : $u = x_{i_0} \\dots x_{i_0 + k} = y_{j_0} \\dots y_{j_0 + k} = v$ !\n",
    "\n",
    "La solution naïve est d’énumérer tous les sous-mots de $X$, et de regarder ensuite s'ils sont aussi sous-mots de\n",
    "$Y$, mais cette solution est inefficace : il y a $\\mathcal{O}(2^m)$ sous-mots de X...\n",
    "\n",
    "L'objectif est donc d'obtenir un algorithme plus efficace, si possible polynomial en $m = |X|$ et $n = |Y|$ (il sera en $\\mathcal{O}(m n)$)."
   ]
  },
  {
   "cell_type": "markdown",
   "metadata": {},
   "source": [
    "### 2.0.2 Références :"
   ]
  },
  {
   "cell_type": "markdown",
   "metadata": {},
   "source": [
    "- Bien traité dans [\"Cormen\", Ch15.4 p341](https://catalogue.ens-cachan.fr/cgi-bin/koha/opac-detail.pl?biblionumber=15671),\n",
    "- Esquissé dans [\"Aho, Hopcroft, Ullman\", Ch5.6 p192](https://catalogue.ens-cachan.fr/cgi-bin/koha/opac-detail.pl?biblionumber=35831),\n",
    "- [Dévéloppement tapé en PDF ici](http://minerve.bretagne.ens-cachan.fr/images/Dvt_plsc.pdf)."
   ]
  },
  {
   "cell_type": "markdown",
   "metadata": {},
   "source": [
    "### 2.0.3 Applications, généralisations :"
   ]
  },
  {
   "cell_type": "markdown",
   "metadata": {},
   "source": [
    "- Un généralisation est le calcul de la plus longue sous-sequence commune, pour lequel on ne se restreint plus à extraire de façon consécutive (ca semble plus compliqué, mais le même algorithme permet de régler le problème avec la même complexité, en fait).\n",
    "- On peut citer en application la comparaison de chaînes d'ADN, mais aussi la commande ``diff`` des systèmes GNU/Linux.\n",
    "- Généralisation : aucune chance d'avoir un algorithme aussi efficace s'il s'agit de trouver le plus long sous mot commun à $K$ chaînes de caractères (et en fait, le probleme général est $\\mathcal{NP}$, en le nombre de chaînes, [comme expliqué ici (en anglais)](https://en.wikipedia.org/wiki/Longest_common_subsequence_problem#Complexity)).\n",
    "\n",
    "----"
   ]
  },
  {
   "cell_type": "markdown",
   "metadata": {},
   "source": [
    "# 3. Algorithme naïf (exponentiel)"
   ]
  },
  {
   "cell_type": "markdown",
   "metadata": {},
   "source": [
    "On va d'abord montrer rapidement une implémentation simple de l'algorithme naïf, pour ensuite vérifier que l'algorithme plus complexe fonctionne aussi bien."
   ]
  },
  {
   "cell_type": "markdown",
   "metadata": {},
   "source": [
    "## 3.1 Détecter si $u$ est sous mot de $y$"
   ]
  },
  {
   "cell_type": "markdown",
   "metadata": {},
   "source": [
    "L'objectif de toutes les fonctions suivantes est de proscrire toute recopie de chaines (*slicing*, ``x[i:j]``), qui sont très couteuse."
   ]
  },
  {
   "cell_type": "code",
   "execution_count": 1,
   "metadata": {
    "collapsed": true
   },
   "outputs": [],
   "source": [
    "def indiceSousMotAux(u, n, k, y, m, i, delta=0):\n",
    "    \"\"\" Fonction tail-récursive qui trouve l'indice j tel que u[k:k+n] = y[i+j:i+j+n], ou -1 en cas d'échec.\"\"\"\n",
    "    # print(\"{}indiceSousMotAux(u = {}, n = {}, k = {}, y = {}, m = {}, i = {}, delta = {})\".format('  '*delta, u, n, k, y, m, i, delta))  # DEBUG\n",
    "    if n == 0:  # Mot vide, commun partout, par defaut on donne 0\n",
    "        return 0\n",
    "    else:       # Mot pas vide\n",
    "        if k >= len(u) or i >= m:  # On a cherché trop loin, échec\n",
    "            return -1         # -1 signifie échec\n",
    "        elif u[k] == y[i]:    # Lettre en commun\n",
    "            if delta == n - 1:    # On a fini, on a trouvé !\n",
    "                return i - n + 1  # i est l'indice de la derniere lettre ici\n",
    "            else:  # On continue de chercher, une lettre de moins\n",
    "                return indiceSousMotAux(u, n, k + 1, y, m, i + 1, delta=delta+1)\n",
    "        else:      # On recommence a chercher en i+1\n",
    "            return indiceSousMotAux(u, n, k - delta, y, m, i + 1)\n",
    "\n",
    "\n",
    "def indiceSousMot(u, y):\n",
    "    \"\"\" En O(|u|), trouve l'indice j tel que u = y[j:j+|u|], ou -1 en cas d'échec.\"\"\"\n",
    "    return indiceSousMotAux(u, len(u), 0, y, len(y), 0)\n",
    "\n",
    "\n",
    "def estSousMot(u, y):\n",
    "    \"\"\" Vérifie en O(|u|) si u est sous-mot de y.\"\"\"\n",
    "    return indiceSousMotAux(u, len(u), 0, y, len(y), 0) >= 0"
   ]
  },
  {
   "cell_type": "markdown",
   "metadata": {},
   "source": [
    "Quelques tests :"
   ]
  },
  {
   "cell_type": "code",
   "execution_count": 2,
   "metadata": {
    "collapsed": false,
    "scrolled": true
   },
   "outputs": [
    {
     "name": "stdout",
     "output_type": "stream",
     "text": [
      "Le mot u = 'cde' est sous-mot de y = 'abcdefghijklmnopqrstuvwxyz', a partir de l'indice i = 2.\n",
      "Le mot u = 'cde' n'est pas sous-mot de y = 'abcDefghijklmnopqrstuvwxyz'.\n"
     ]
    }
   ],
   "source": [
    "def test_estSousMot(u, y):\n",
    "    \"\"\" Teste et affiche. \"\"\"\n",
    "    i = indiceSousMot(u, y)\n",
    "    if i >= 0:\n",
    "        print(\"Le mot u = '{}' est sous-mot de y = '{}', a partir de l'indice i = {}.\".format(u, y, i))\n",
    "    else:\n",
    "        print(\"Le mot u = '{}' n'est pas sous-mot de y = '{}'.\".format(u, y))        \n",
    "\n",
    "\n",
    "u = \"cde\"\n",
    "y1 = \"abcdefghijklmnopqrstuvwxyz\"\n",
    "test_estSousMot(u, y1)  # True\n",
    "\n",
    "y2 = \"abcDefghijklmnopqrstuvwxyz\"\n",
    "test_estSousMot(u, y2)  # False"
   ]
  },
  {
   "cell_type": "markdown",
   "metadata": {},
   "source": [
    "## 3.2 Trouver *un* sous-mot de longueur ``k``"
   ]
  },
  {
   "cell_type": "markdown",
   "metadata": {},
   "source": [
    "On peut chercher **tous** les sous-mots de longueur ``k`` dans ``x`` et regarder si l'**un d'entre eux** est inclus dans y (on s'arrête dès qu'on en a trouvé un) :"
   ]
  },
  {
   "cell_type": "code",
   "execution_count": 3,
   "metadata": {
    "collapsed": false
   },
   "outputs": [],
   "source": [
    "def aSousMotDeLongueur(x, y, k):\n",
    "    \"\"\" Trouve le premier sous-mot de x de longueur k et renvoit i, j, u, ou échoue avec une ValueError. \"\"\"\n",
    "    imax = len(x) - k + 1\n",
    "    # Les sous mots seront x0..xk-1, .., ximax-1,..,xn-1\n",
    "    for debut in range(imax):\n",
    "        j = indiceSousMotAux(x, k, debut, y, len(y), 0)\n",
    "        if j >= 0:\n",
    "            return debut, debut + j, x[debut:debut+k]\n",
    "    # Pas trouvé !\n",
    "    raise ValueError(\"Aucun sous-mot de longueur k = {} de x = '{}' n'est dans y = '{}'.\".format(k, x, y))"
   ]
  },
  {
   "cell_type": "markdown",
   "metadata": {},
   "source": [
    "Un test :"
   ]
  },
  {
   "cell_type": "code",
   "execution_count": 4,
   "metadata": {
    "collapsed": false,
    "scrolled": true
   },
   "outputs": [
    {
     "name": "stdout",
     "output_type": "stream",
     "text": [
      "==> Sous-mot de longueur k = 0 de x = 'aabcde' dans y = 'aABcdE' : u = '' en indice i = 0 pour x et j = 0 pour y.\n",
      "==> Sous-mot de longueur k = 1 de x = 'aabcde' dans y = 'aABcdE' : u = 'a' en indice i = 0 pour x et j = 0 pour y.\n",
      "==> Sous-mot de longueur k = 2 de x = 'aabcde' dans y = 'aABcdE' : u = 'cd' en indice i = 3 pour x et j = 6 pour y.\n",
      "==> Aucun sous-mot de longueur k = 3 de x = 'aabcde' n'est dans y = 'aABcdE'.\n",
      "==> Aucun sous-mot de longueur k = 4 de x = 'aabcde' n'est dans y = 'aABcdE'.\n",
      "==> Aucun sous-mot de longueur k = 5 de x = 'aabcde' n'est dans y = 'aABcdE'.\n",
      "==> Aucun sous-mot de longueur k = 6 de x = 'aabcde' n'est dans y = 'aABcdE'.\n",
      "==> Sous-mot de longueur k = 0 de x = 'aabffcde' dans y = 'aABGGGGGcdE' : u = '' en indice i = 0 pour x et j = 0 pour y.\n",
      "==> Sous-mot de longueur k = 1 de x = 'aabffcde' dans y = 'aABGGGGGcdE' : u = 'a' en indice i = 0 pour x et j = 0 pour y.\n",
      "==> Sous-mot de longueur k = 2 de x = 'aabffcde' dans y = 'aABGGGGGcdE' : u = 'cd' en indice i = 5 pour x et j = 13 pour y.\n",
      "==> Aucun sous-mot de longueur k = 3 de x = 'aabffcde' n'est dans y = 'aABGGGGGcdE'.\n",
      "==> Aucun sous-mot de longueur k = 4 de x = 'aabffcde' n'est dans y = 'aABGGGGGcdE'.\n",
      "==> Aucun sous-mot de longueur k = 5 de x = 'aabffcde' n'est dans y = 'aABGGGGGcdE'.\n",
      "==> Aucun sous-mot de longueur k = 6 de x = 'aabffcde' n'est dans y = 'aABGGGGGcdE'.\n",
      "==> Aucun sous-mot de longueur k = 7 de x = 'aabffcde' n'est dans y = 'aABGGGGGcdE'.\n",
      "==> Aucun sous-mot de longueur k = 8 de x = 'aabffcde' n'est dans y = 'aABGGGGGcdE'.\n"
     ]
    }
   ],
   "source": [
    "def test_aSousMotDeLongueur(x, y, k):\n",
    "    \"\"\" Teste et affiche. \"\"\"\n",
    "    try:\n",
    "        i, j, u = aSousMotDeLongueur(x, y, k)\n",
    "        print(\"==> Sous-mot de longueur k = {} de x = '{}' dans y = '{}' : u = '{}' en indice i = {} pour x et j = {} pour y.\".format(k, x, y, u, i, j))\n",
    "    except ValueError:\n",
    "        print(\"==> Aucun sous-mot de longueur k = {} de x = '{}' n'est dans y = '{}'.\".format(k, x, y))\n",
    "\n",
    "x = \"aabcde\"\n",
    "y = \"aABcdE\"\n",
    "for k in range(0, min(len(x), len(y)) + 1):\n",
    "    test_aSousMotDeLongueur(x, y, k)\n",
    "\n",
    "x = \"aabffcde\"\n",
    "y = \"aABGGGGGcdE\"\n",
    "for k in range(0, min(len(x), len(y)) + 1):\n",
    "    test_aSousMotDeLongueur(x, y, k)"
   ]
  },
  {
   "cell_type": "markdown",
   "metadata": {},
   "source": [
    "## 3.3 Sous-mot de longueur maximale (version naïve)"
   ]
  },
  {
   "cell_type": "code",
   "execution_count": 5,
   "metadata": {
    "collapsed": true
   },
   "outputs": [],
   "source": [
    "def _sousMotMax(x, y, verb=True):\n",
    "    \"\"\" |x| doit etre plus petit que |y|.\"\"\"\n",
    "    k = len(x)\n",
    "    while k >= 0:\n",
    "        if verb:\n",
    "            print(\"  On essaie de trouver un sous-mot commun à x = '{}' et y = '{}' de taille k = {} ...\".format(x, y, k))\n",
    "        try:\n",
    "            i, j, u = aSousMotDeLongueur(x, y, k)\n",
    "            if verb:\n",
    "                print(\"  ==> On a un sous-mot commun à x = '{}' et y = '{}' de taille k = {} : u = '{}' (i = {}, j = {}) !\".format(x, y, k, u, i, j))\n",
    "            return i, j, u\n",
    "        except ValueError:\n",
    "            if verb:\n",
    "                print(\"  ==> Aucun sous-mot commun à x = '{}' et y = '{}' de taille k = {} ...\".format(x, y, k))\n",
    "        k -= 1\n",
    "\n",
    "            \n",
    "def sousMotMax(x, y, verb=True):\n",
    "    \"\"\" Trouve un sous-mot de longueur maximale (le plus à gauche possible de x et y), en temps exponentiel en n = |x|.\"\"\"\n",
    "    if len(x) <= len(y):\n",
    "        return _sousMotMax(x, y, verb=verb)\n",
    "    else:\n",
    "        return _sousMotMax(y, x, verb=verb)"
   ]
  },
  {
   "cell_type": "markdown",
   "metadata": {},
   "source": [
    "Quelques tests :"
   ]
  },
  {
   "cell_type": "code",
   "execution_count": 6,
   "metadata": {
    "collapsed": false
   },
   "outputs": [
    {
     "data": {
      "text/plain": [
       "(9, 18, '123456abc')"
      ]
     },
     "execution_count": 6,
     "metadata": {},
     "output_type": "execute_result"
    }
   ],
   "source": [
    "x = \"abcABCabc123456abcABCabc99\"\n",
    "y = \"abcDEFdef123456abcDEFdef9999\"\n",
    "sousMotMax(x, y, verb=False)"
   ]
  },
  {
   "cell_type": "code",
   "execution_count": 7,
   "metadata": {
    "collapsed": false
   },
   "outputs": [
    {
     "name": "stdout",
     "output_type": "stream",
     "text": [
      "  On essaie de trouver un sous-mot commun à x = 'abcABCabc' et y = 'abcDEFdef' de taille k = 9 ...\n",
      "  ==> Aucun sous-mot commun à x = 'abcABCabc' et y = 'abcDEFdef' de taille k = 9 ...\n",
      "  On essaie de trouver un sous-mot commun à x = 'abcABCabc' et y = 'abcDEFdef' de taille k = 8 ...\n",
      "  ==> Aucun sous-mot commun à x = 'abcABCabc' et y = 'abcDEFdef' de taille k = 8 ...\n",
      "  On essaie de trouver un sous-mot commun à x = 'abcABCabc' et y = 'abcDEFdef' de taille k = 7 ...\n",
      "  ==> Aucun sous-mot commun à x = 'abcABCabc' et y = 'abcDEFdef' de taille k = 7 ...\n",
      "  On essaie de trouver un sous-mot commun à x = 'abcABCabc' et y = 'abcDEFdef' de taille k = 6 ...\n",
      "  ==> Aucun sous-mot commun à x = 'abcABCabc' et y = 'abcDEFdef' de taille k = 6 ...\n",
      "  On essaie de trouver un sous-mot commun à x = 'abcABCabc' et y = 'abcDEFdef' de taille k = 5 ...\n",
      "  ==> Aucun sous-mot commun à x = 'abcABCabc' et y = 'abcDEFdef' de taille k = 5 ...\n",
      "  On essaie de trouver un sous-mot commun à x = 'abcABCabc' et y = 'abcDEFdef' de taille k = 4 ...\n",
      "  ==> Aucun sous-mot commun à x = 'abcABCabc' et y = 'abcDEFdef' de taille k = 4 ...\n",
      "  On essaie de trouver un sous-mot commun à x = 'abcABCabc' et y = 'abcDEFdef' de taille k = 3 ...\n",
      "  ==> On a un sous-mot commun à x = 'abcABCabc' et y = 'abcDEFdef' de taille k = 3 : u = 'abc' (i = 0, j = 0) !\n"
     ]
    },
    {
     "data": {
      "text/plain": [
       "(0, 0, 'abc')"
      ]
     },
     "execution_count": 7,
     "metadata": {},
     "output_type": "execute_result"
    }
   ],
   "source": [
    "x = \"abcABCabc\"\n",
    "y = \"abcDEFdef\"\n",
    "sousMotMax(x, y)"
   ]
  },
  {
   "cell_type": "markdown",
   "metadata": {},
   "source": [
    "# 4. Méthode gloutonne (programmation dynamique)"
   ]
  },
  {
   "cell_type": "markdown",
   "metadata": {},
   "source": [
    "On passe désormais à la seconde approche, qui sera bien plus efficace (et qui montrera que le probleme du plus long sous-mot commun de deux mots est dans $\\mathcal{P}$)."
   ]
  },
  {
   "cell_type": "markdown",
   "metadata": {},
   "source": [
    "Cette approche a l'avantage d'être bien plus efficace, mais aussi plus simple à coder.\n",
    "On a juste besoin d'une matrice de taille $(|x|+1)(|y|+1)$ (un ``numpy.array``, pour être plus efficace qu'une liste de liste), et quelques boucles ``for``."
   ]
  },
  {
   "cell_type": "code",
   "execution_count": 8,
   "metadata": {
    "collapsed": true
   },
   "outputs": [],
   "source": [
    "# On a besoin du module numpy. Cf. http://numpy.org/ pour l'installer si besoin\n",
    "import numpy as np"
   ]
  },
  {
   "cell_type": "markdown",
   "metadata": {},
   "source": [
    "## 4.1 Programmation dynamique, sans optimisation mémoire"
   ]
  },
  {
   "cell_type": "markdown",
   "metadata": {},
   "source": [
    "La fonction ci-dessous procède en 4 étapes :\n",
    "\n",
    "1. Initialisation de la matrice ``longueurs``, pleine de $0$ et de taille $(n+1) \\times (m+1)$ où $y := |x|$ et $m := |y|$,\n",
    "2. Calcul \"bottom-up\" de la matrice ``longueurs``, par l'équation suivante :\n",
    "    $$ \\mathrm{longueurs}[i, j] = 1 + \\mathrm{longueurs}[i-1, j-1] \\; \\text{si} \\; x[i-1] = y[i-1]. $$\n",
    "3. Calcul de la longueur maximale d'une correspondance entre ``x`` et ``y``, par un simple parcours (``longueur_max``), et calcul des indices de début de cette coresspondance maximale (= plus long sous-mot !), ``idebut`` et ``jdebut``.\n",
    "4. (optionnel) On vérifie que ``x[idebut : idebut + longueur_max]`` = ``y[jdebut : jdebut + longueur_max]``.\n",
    "\n",
    "\n",
    "On commence en utilisant une matrice, pleine de $0$ (ie. une matrice nulle).\n",
    "Comme on va le voir dans les exemples ci-dessous, en pratique cette matrice restera presque \"vide\", consommant beaucoup de memoire ($\\mathcal{O}(n m)$) inutilement.\n",
    "La version suivante sera optimisée (en utilisant une matrice *sparse*, ie. creuse)."
   ]
  },
  {
   "cell_type": "markdown",
   "metadata": {},
   "source": [
    "Cet algorithme sera en :\n",
    "\n",
    "- $\\mathcal{O}(n m)$ en mémoire, dans tous les cas (mais on peut faire mieux),\n",
    "- $\\mathcal{O}(n m)$ en temps, dans tous les cas (et on ne peut pas faire mieux).\n",
    "\n",
    "----"
   ]
  },
  {
   "cell_type": "code",
   "execution_count": 9,
   "metadata": {
    "collapsed": true
   },
   "outputs": [],
   "source": [
    "def sousMotMaxGlouton(x, y, verb=False, verifie=True):\n",
    "    \"\"\" Calcule le plus long sous-mot commun a x et y, par programmation dynamique.\n",
    "    \n",
    "        - affiche un peu ce qu'il se passe si verb=True,\n",
    "        - vérifie que le sous-mot commun est bien un bon sous-mot commun si verifie=True.\n",
    "    \"\"\"\n",
    "    def message(*args):\n",
    "        if verb:\n",
    "            print(*args) \n",
    "    # 1. et 2. Initialisation et construction Matrice longueurs\n",
    "    n = len(x)\n",
    "    m = len(y)\n",
    "    message(\"\\n1. Initialisation de la look-up matrice longueurs de taille (n+1, m+1) : n = {} m = {} ...\".format(n, m))\n",
    "    longueurs = np.zeros((n+1, m+1), dtype=int)\n",
    "    message(\"2. Construction bottom-up de la loop-up matrice longueurs ...\")\n",
    "    for i in range(1, n+1):\n",
    "        for j in range(1, m+1):\n",
    "            if x[i-1] == y[j-1]:\n",
    "                longueurs[i, j] = 1 + longueurs[i-1, j-1]\n",
    "                message(\"      Correspondance en cours, u[{}] = {} et v[{}] = {}, de longueur courante {} ...\".format(i-1, x[i-1], j-1, y[j-1], longueurs[i, j]))\n",
    "    # 3. Utilisation de la matrice longueurs\n",
    "    iFin, jFin = 0, 0\n",
    "    longueur_max = -1  # Pas encore\n",
    "    message(\"3. Calcul de la position du plus long sous mot via la matrice longueurs ...\")\n",
    "    for i in range(0, n+1):\n",
    "        for j in range(0, m+1):\n",
    "            if longueur_max < longueurs[i, j]:\n",
    "                longueur_max = longueurs[i, j]\n",
    "                iFin, jFin = i, j\n",
    "    # Note : avec les fonctions numpy np.max et np.argmax on pourrait faire ça plus vite (pour des matrices) :\n",
    "    # longueur_max = np.max(longueurs)\n",
    "    # iFin, jFin = np.unravel_index(np.argmax(longueurs), np.shape(longueurs))\n",
    "    # Calcul des indices de debut\n",
    "    iDebut, jDebut = iFin - longueur_max, jFin - longueur_max\n",
    "    message(\"4. On a obtenu iDebut = {} et jDebut = {} et longueur_max = {} ...\".format(iDebut, jDebut, longueur_max))\n",
    "\n",
    "    # 4. Vérification\n",
    "    if verifie:\n",
    "        xSous = x[iDebut: iDebut + longueur_max]\n",
    "        ySous = y[jDebut: jDebut + longueur_max]\n",
    "        message(\"      Sous-mot dans x = {}, et sous-mot dans y = {} ...\".format(xSous, ySous))\n",
    "        assert xSous == ySous, \"Erreur, xSous et ySous sont différents !\"\n",
    "    \n",
    "    leSousMot = x[iDebut: iDebut + longueur_max]\n",
    "    return iDebut, jDebut, leSousMot, longueurs"
   ]
  },
  {
   "cell_type": "markdown",
   "metadata": {},
   "source": [
    "On peut faire quelques tests, comme pour l'approche initiale."
   ]
  },
  {
   "cell_type": "code",
   "execution_count": 10,
   "metadata": {
    "collapsed": false
   },
   "outputs": [
    {
     "name": "stdout",
     "output_type": "stream",
     "text": [
      "\n",
      "1. Initialisation de la look-up matrice longueurs de taille (n+1, m+1) : n = 6 m = 7 ...\n",
      "2. Construction bottom-up de la loop-up matrice longueurs ...\n",
      "      Correspondance en cours, u[0] = B et v[1] = B, de longueur courante 1 ...\n",
      "      Correspondance en cours, u[0] = B et v[3] = B, de longueur courante 1 ...\n",
      "      Correspondance en cours, u[0] = B et v[6] = B, de longueur courante 1 ...\n",
      "      Correspondance en cours, u[1] = D et v[4] = D, de longueur courante 2 ...\n",
      "      Correspondance en cours, u[2] = C et v[2] = C, de longueur courante 1 ...\n",
      "      Correspondance en cours, u[3] = A et v[0] = A, de longueur courante 1 ...\n",
      "      Correspondance en cours, u[3] = A et v[5] = A, de longueur courante 1 ...\n",
      "      Correspondance en cours, u[4] = B et v[1] = B, de longueur courante 2 ...\n",
      "      Correspondance en cours, u[4] = B et v[3] = B, de longueur courante 1 ...\n",
      "      Correspondance en cours, u[4] = B et v[6] = B, de longueur courante 2 ...\n",
      "      Correspondance en cours, u[5] = A et v[0] = A, de longueur courante 1 ...\n",
      "      Correspondance en cours, u[5] = A et v[5] = A, de longueur courante 1 ...\n",
      "3. Calcul de la position du plus long sous mot via la matrice longueurs ...\n",
      "4. On a obtenu iDebut = 0 et jDebut = 3 et longueur_max = 2 ...\n",
      "      Sous-mot dans x = BD, et sous-mot dans y = BD ...\n"
     ]
    },
    {
     "data": {
      "text/plain": [
       "(0, 3, 'BD', array([[0, 0, 0, 0, 0, 0, 0, 0],\n",
       "        [0, 0, 1, 0, 1, 0, 0, 1],\n",
       "        [0, 0, 0, 0, 0, 2, 0, 0],\n",
       "        [0, 0, 0, 1, 0, 0, 0, 0],\n",
       "        [0, 1, 0, 0, 0, 0, 1, 0],\n",
       "        [0, 0, 2, 0, 1, 0, 0, 2],\n",
       "        [0, 1, 0, 0, 0, 0, 1, 0]]))"
      ]
     },
     "execution_count": 10,
     "metadata": {},
     "output_type": "execute_result"
    }
   ],
   "source": [
    "x = \"BDCABA\"\n",
    "y = \"ABCBDAB\"\n",
    "sousMotMaxGlouton(x, y, verb=True)"
   ]
  },
  {
   "cell_type": "code",
   "execution_count": 11,
   "metadata": {
    "collapsed": false
   },
   "outputs": [
    {
     "name": "stdout",
     "output_type": "stream",
     "text": [
      "\n",
      "1. Initialisation de la look-up matrice longueurs de taille (n+1, m+1) : n = 26 m = 28 ...\n",
      "2. Construction bottom-up de la loop-up matrice longueurs ...\n",
      "      Correspondance en cours, u[0] = a et v[0] = a, de longueur courante 1 ...\n",
      "      Correspondance en cours, u[0] = a et v[15] = a, de longueur courante 1 ...\n",
      "      Correspondance en cours, u[1] = b et v[1] = b, de longueur courante 2 ...\n",
      "      Correspondance en cours, u[1] = b et v[16] = b, de longueur courante 2 ...\n",
      "      Correspondance en cours, u[2] = c et v[2] = c, de longueur courante 3 ...\n",
      "      Correspondance en cours, u[2] = c et v[17] = c, de longueur courante 3 ...\n",
      "      Correspondance en cours, u[6] = a et v[0] = a, de longueur courante 1 ...\n",
      "      Correspondance en cours, u[6] = a et v[15] = a, de longueur courante 1 ...\n",
      "      Correspondance en cours, u[7] = b et v[1] = b, de longueur courante 2 ...\n",
      "      Correspondance en cours, u[7] = b et v[16] = b, de longueur courante 2 ...\n",
      "      Correspondance en cours, u[8] = c et v[2] = c, de longueur courante 3 ...\n",
      "      Correspondance en cours, u[8] = c et v[17] = c, de longueur courante 3 ...\n",
      "      Correspondance en cours, u[9] = 1 et v[9] = 1, de longueur courante 1 ...\n",
      "      Correspondance en cours, u[10] = 2 et v[10] = 2, de longueur courante 2 ...\n",
      "      Correspondance en cours, u[11] = 3 et v[11] = 3, de longueur courante 3 ...\n",
      "      Correspondance en cours, u[12] = 4 et v[12] = 4, de longueur courante 4 ...\n",
      "      Correspondance en cours, u[13] = 5 et v[13] = 5, de longueur courante 5 ...\n",
      "      Correspondance en cours, u[14] = 6 et v[14] = 6, de longueur courante 6 ...\n",
      "      Correspondance en cours, u[15] = a et v[0] = a, de longueur courante 1 ...\n",
      "      Correspondance en cours, u[15] = a et v[15] = a, de longueur courante 7 ...\n",
      "      Correspondance en cours, u[16] = b et v[1] = b, de longueur courante 2 ...\n",
      "      Correspondance en cours, u[16] = b et v[16] = b, de longueur courante 8 ...\n",
      "      Correspondance en cours, u[17] = c et v[2] = c, de longueur courante 3 ...\n",
      "      Correspondance en cours, u[17] = c et v[17] = c, de longueur courante 9 ...\n",
      "      Correspondance en cours, u[21] = a et v[0] = a, de longueur courante 1 ...\n",
      "      Correspondance en cours, u[21] = a et v[15] = a, de longueur courante 1 ...\n",
      "      Correspondance en cours, u[22] = b et v[1] = b, de longueur courante 2 ...\n",
      "      Correspondance en cours, u[22] = b et v[16] = b, de longueur courante 2 ...\n",
      "      Correspondance en cours, u[23] = c et v[2] = c, de longueur courante 3 ...\n",
      "      Correspondance en cours, u[23] = c et v[17] = c, de longueur courante 3 ...\n",
      "      Correspondance en cours, u[24] = 9 et v[24] = 9, de longueur courante 1 ...\n",
      "      Correspondance en cours, u[24] = 9 et v[25] = 9, de longueur courante 1 ...\n",
      "      Correspondance en cours, u[24] = 9 et v[26] = 9, de longueur courante 1 ...\n",
      "      Correspondance en cours, u[24] = 9 et v[27] = 9, de longueur courante 1 ...\n",
      "      Correspondance en cours, u[25] = 9 et v[24] = 9, de longueur courante 1 ...\n",
      "      Correspondance en cours, u[25] = 9 et v[25] = 9, de longueur courante 2 ...\n",
      "      Correspondance en cours, u[25] = 9 et v[26] = 9, de longueur courante 2 ...\n",
      "      Correspondance en cours, u[25] = 9 et v[27] = 9, de longueur courante 2 ...\n",
      "3. Calcul de la position du plus long sous mot via la matrice longueurs ...\n",
      "4. On a obtenu iDebut = 9 et jDebut = 9 et longueur_max = 9 ...\n",
      "      Sous-mot dans x = 123456abc, et sous-mot dans y = 123456abc ...\n"
     ]
    },
    {
     "data": {
      "text/plain": [
       "(9,\n",
       " 9,\n",
       " '123456abc',\n",
       " array([[0, 0, 0, 0, 0, 0, 0, 0, 0, 0, 0, 0, 0, 0, 0, 0, 0, 0, 0, 0, 0, 0,\n",
       "         0, 0, 0, 0, 0, 0, 0],\n",
       "        [0, 1, 0, 0, 0, 0, 0, 0, 0, 0, 0, 0, 0, 0, 0, 0, 1, 0, 0, 0, 0, 0,\n",
       "         0, 0, 0, 0, 0, 0, 0],\n",
       "        [0, 0, 2, 0, 0, 0, 0, 0, 0, 0, 0, 0, 0, 0, 0, 0, 0, 2, 0, 0, 0, 0,\n",
       "         0, 0, 0, 0, 0, 0, 0],\n",
       "        [0, 0, 0, 3, 0, 0, 0, 0, 0, 0, 0, 0, 0, 0, 0, 0, 0, 0, 3, 0, 0, 0,\n",
       "         0, 0, 0, 0, 0, 0, 0],\n",
       "        [0, 0, 0, 0, 0, 0, 0, 0, 0, 0, 0, 0, 0, 0, 0, 0, 0, 0, 0, 0, 0, 0,\n",
       "         0, 0, 0, 0, 0, 0, 0],\n",
       "        [0, 0, 0, 0, 0, 0, 0, 0, 0, 0, 0, 0, 0, 0, 0, 0, 0, 0, 0, 0, 0, 0,\n",
       "         0, 0, 0, 0, 0, 0, 0],\n",
       "        [0, 0, 0, 0, 0, 0, 0, 0, 0, 0, 0, 0, 0, 0, 0, 0, 0, 0, 0, 0, 0, 0,\n",
       "         0, 0, 0, 0, 0, 0, 0],\n",
       "        [0, 1, 0, 0, 0, 0, 0, 0, 0, 0, 0, 0, 0, 0, 0, 0, 1, 0, 0, 0, 0, 0,\n",
       "         0, 0, 0, 0, 0, 0, 0],\n",
       "        [0, 0, 2, 0, 0, 0, 0, 0, 0, 0, 0, 0, 0, 0, 0, 0, 0, 2, 0, 0, 0, 0,\n",
       "         0, 0, 0, 0, 0, 0, 0],\n",
       "        [0, 0, 0, 3, 0, 0, 0, 0, 0, 0, 0, 0, 0, 0, 0, 0, 0, 0, 3, 0, 0, 0,\n",
       "         0, 0, 0, 0, 0, 0, 0],\n",
       "        [0, 0, 0, 0, 0, 0, 0, 0, 0, 0, 1, 0, 0, 0, 0, 0, 0, 0, 0, 0, 0, 0,\n",
       "         0, 0, 0, 0, 0, 0, 0],\n",
       "        [0, 0, 0, 0, 0, 0, 0, 0, 0, 0, 0, 2, 0, 0, 0, 0, 0, 0, 0, 0, 0, 0,\n",
       "         0, 0, 0, 0, 0, 0, 0],\n",
       "        [0, 0, 0, 0, 0, 0, 0, 0, 0, 0, 0, 0, 3, 0, 0, 0, 0, 0, 0, 0, 0, 0,\n",
       "         0, 0, 0, 0, 0, 0, 0],\n",
       "        [0, 0, 0, 0, 0, 0, 0, 0, 0, 0, 0, 0, 0, 4, 0, 0, 0, 0, 0, 0, 0, 0,\n",
       "         0, 0, 0, 0, 0, 0, 0],\n",
       "        [0, 0, 0, 0, 0, 0, 0, 0, 0, 0, 0, 0, 0, 0, 5, 0, 0, 0, 0, 0, 0, 0,\n",
       "         0, 0, 0, 0, 0, 0, 0],\n",
       "        [0, 0, 0, 0, 0, 0, 0, 0, 0, 0, 0, 0, 0, 0, 0, 6, 0, 0, 0, 0, 0, 0,\n",
       "         0, 0, 0, 0, 0, 0, 0],\n",
       "        [0, 1, 0, 0, 0, 0, 0, 0, 0, 0, 0, 0, 0, 0, 0, 0, 7, 0, 0, 0, 0, 0,\n",
       "         0, 0, 0, 0, 0, 0, 0],\n",
       "        [0, 0, 2, 0, 0, 0, 0, 0, 0, 0, 0, 0, 0, 0, 0, 0, 0, 8, 0, 0, 0, 0,\n",
       "         0, 0, 0, 0, 0, 0, 0],\n",
       "        [0, 0, 0, 3, 0, 0, 0, 0, 0, 0, 0, 0, 0, 0, 0, 0, 0, 0, 9, 0, 0, 0,\n",
       "         0, 0, 0, 0, 0, 0, 0],\n",
       "        [0, 0, 0, 0, 0, 0, 0, 0, 0, 0, 0, 0, 0, 0, 0, 0, 0, 0, 0, 0, 0, 0,\n",
       "         0, 0, 0, 0, 0, 0, 0],\n",
       "        [0, 0, 0, 0, 0, 0, 0, 0, 0, 0, 0, 0, 0, 0, 0, 0, 0, 0, 0, 0, 0, 0,\n",
       "         0, 0, 0, 0, 0, 0, 0],\n",
       "        [0, 0, 0, 0, 0, 0, 0, 0, 0, 0, 0, 0, 0, 0, 0, 0, 0, 0, 0, 0, 0, 0,\n",
       "         0, 0, 0, 0, 0, 0, 0],\n",
       "        [0, 1, 0, 0, 0, 0, 0, 0, 0, 0, 0, 0, 0, 0, 0, 0, 1, 0, 0, 0, 0, 0,\n",
       "         0, 0, 0, 0, 0, 0, 0],\n",
       "        [0, 0, 2, 0, 0, 0, 0, 0, 0, 0, 0, 0, 0, 0, 0, 0, 0, 2, 0, 0, 0, 0,\n",
       "         0, 0, 0, 0, 0, 0, 0],\n",
       "        [0, 0, 0, 3, 0, 0, 0, 0, 0, 0, 0, 0, 0, 0, 0, 0, 0, 0, 3, 0, 0, 0,\n",
       "         0, 0, 0, 0, 0, 0, 0],\n",
       "        [0, 0, 0, 0, 0, 0, 0, 0, 0, 0, 0, 0, 0, 0, 0, 0, 0, 0, 0, 0, 0, 0,\n",
       "         0, 0, 0, 1, 1, 1, 1],\n",
       "        [0, 0, 0, 0, 0, 0, 0, 0, 0, 0, 0, 0, 0, 0, 0, 0, 0, 0, 0, 0, 0, 0,\n",
       "         0, 0, 0, 1, 2, 2, 2]]))"
      ]
     },
     "execution_count": 11,
     "metadata": {},
     "output_type": "execute_result"
    }
   ],
   "source": [
    "x = \"abcABCabc123456abcABCabc99\"\n",
    "y = \"abcDEFdef123456abcDEFdef9999\"\n",
    "sousMotMaxGlouton(x, y, verb=True)"
   ]
  },
  {
   "cell_type": "markdown",
   "metadata": {},
   "source": [
    "On commence à constater que la matrice `longueurs` est toujours presque remplie de zéros, même après tous les calculs ! Peut-être qu'on peut faire mieux, niveau espace de stockage (complexité en mémoire), pour éviter de stocker un nombre trop grand de zéros inutiles. Une version améliorée est présentée ci-dessous, on parvient à diminuer grandement la complexité (moyenne) en mémoire en utilisant une structure intelligente de matrice *\"creuse\"*."
   ]
  },
  {
   "cell_type": "code",
   "execution_count": 12,
   "metadata": {
    "collapsed": false,
    "scrolled": false
   },
   "outputs": [
    {
     "name": "stdout",
     "output_type": "stream",
     "text": [
      "\n",
      "1. Initialisation de la look-up matrice longueurs de taille (n+1, m+1) : n = 12 m = 16 ...\n",
      "2. Construction bottom-up de la loop-up matrice longueurs ...\n",
      "      Correspondance en cours, u[1] = b et v[1] = b, de longueur courante 1 ...\n",
      "      Correspondance en cours, u[3] = Z et v[10] = Z, de longueur courante 1 ...\n",
      "      Correspondance en cours, u[4] = Z et v[10] = Z, de longueur courante 1 ...\n",
      "      Correspondance en cours, u[5] = d et v[3] = d, de longueur courante 1 ...\n",
      "      Correspondance en cours, u[7] = F et v[5] = F, de longueur courante 1 ...\n",
      "      Correspondance en cours, u[8] = G et v[6] = G, de longueur courante 2 ...\n",
      "3. Calcul de la position du plus long sous mot via la matrice longueurs ...\n",
      "4. On a obtenu iDebut = 7 et jDebut = 5 et longueur_max = 2 ...\n",
      "      Sous-mot dans x = FG, et sous-mot dans y = FG ...\n"
     ]
    },
    {
     "data": {
      "text/plain": [
       "(7, 5, 'FG', array([[0, 0, 0, 0, 0, 0, 0, 0, 0, 0, 0, 0, 0, 0, 0, 0, 0],\n",
       "        [0, 0, 0, 0, 0, 0, 0, 0, 0, 0, 0, 0, 0, 0, 0, 0, 0],\n",
       "        [0, 0, 1, 0, 0, 0, 0, 0, 0, 0, 0, 0, 0, 0, 0, 0, 0],\n",
       "        [0, 0, 0, 0, 0, 0, 0, 0, 0, 0, 0, 0, 0, 0, 0, 0, 0],\n",
       "        [0, 0, 0, 0, 0, 0, 0, 0, 0, 0, 0, 1, 0, 0, 0, 0, 0],\n",
       "        [0, 0, 0, 0, 0, 0, 0, 0, 0, 0, 0, 1, 0, 0, 0, 0, 0],\n",
       "        [0, 0, 0, 0, 1, 0, 0, 0, 0, 0, 0, 0, 0, 0, 0, 0, 0],\n",
       "        [0, 0, 0, 0, 0, 0, 0, 0, 0, 0, 0, 0, 0, 0, 0, 0, 0],\n",
       "        [0, 0, 0, 0, 0, 0, 1, 0, 0, 0, 0, 0, 0, 0, 0, 0, 0],\n",
       "        [0, 0, 0, 0, 0, 0, 0, 2, 0, 0, 0, 0, 0, 0, 0, 0, 0],\n",
       "        [0, 0, 0, 0, 0, 0, 0, 0, 0, 0, 0, 0, 0, 0, 0, 0, 0],\n",
       "        [0, 0, 0, 0, 0, 0, 0, 0, 0, 0, 0, 0, 0, 0, 0, 0, 0],\n",
       "        [0, 0, 0, 0, 0, 0, 0, 0, 0, 0, 0, 0, 0, 0, 0, 0, 0]]))"
      ]
     },
     "execution_count": 12,
     "metadata": {},
     "output_type": "execute_result"
    }
   ],
   "source": [
    "x = \"abcZZdeFG597\"\n",
    "y = \"AbCdEFG413ZAQCWQ\"\n",
    "sousMotMaxGlouton(x, y, verb=True)"
   ]
  },
  {
   "cell_type": "markdown",
   "metadata": {},
   "source": [
    "## 4.2 Utilisation d'une matrice *creuse*"
   ]
  },
  {
   "cell_type": "markdown",
   "metadata": {},
   "source": [
    "On va utiliser le module [``scipy.sparse``](https://docs.scipy.org/doc/scipy/reference/sparse.html) pour utiliser un codage efficace pour cette matrice ``longueurs`` : un codage dit creux qui permettra de ne pas stocker tous ces zéros inutiles."
   ]
  },
  {
   "cell_type": "code",
   "execution_count": 13,
   "metadata": {
    "collapsed": true
   },
   "outputs": [],
   "source": [
    "from scipy.sparse import lil_matrix"
   ]
  },
  {
   "cell_type": "markdown",
   "metadata": {},
   "source": [
    "On utilise la structure ``lil_matrix`` (``lil`` pour *\"LInked List\"*), car c'est la plus efficace quant la matrice change de structure *sparse* (on rajoute des valeurs non-nulles au fur et à mesure de sa construction).\n",
    "\n",
    "Exemple :"
   ]
  },
  {
   "cell_type": "code",
   "execution_count": 14,
   "metadata": {
    "collapsed": false
   },
   "outputs": [
    {
     "name": "stdout",
     "output_type": "stream",
     "text": [
      "I_12 pleine :\n",
      " [[ 1.  0.  0.  0.  0.  0.  0.  0.  0.  0.  0.  0.]\n",
      " [ 0.  1.  0.  0.  0.  0.  0.  0.  0.  0.  0.  0.]\n",
      " [ 0.  0.  1.  0.  0.  0.  0.  0.  0.  0.  0.  0.]\n",
      " [ 0.  0.  0.  1.  0.  0.  0.  0.  0.  0.  0.  0.]\n",
      " [ 0.  0.  0.  0.  1.  0.  0.  0.  0.  0.  0.  0.]\n",
      " [ 0.  0.  0.  0.  0.  1.  0.  0.  0.  0.  0.  0.]\n",
      " [ 0.  0.  0.  0.  0.  0.  1.  0.  0.  0.  0.  0.]\n",
      " [ 0.  0.  0.  0.  0.  0.  0.  1.  0.  0.  0.  0.]\n",
      " [ 0.  0.  0.  0.  0.  0.  0.  0.  1.  0.  0.  0.]\n",
      " [ 0.  0.  0.  0.  0.  0.  0.  0.  0.  1.  0.  0.]\n",
      " [ 0.  0.  0.  0.  0.  0.  0.  0.  0.  0.  1.  0.]\n",
      " [ 0.  0.  0.  0.  0.  0.  0.  0.  0.  0.  0.  1.]]\n",
      "I_12 creuse :\n",
      "   (0, 0)\t1.0\n",
      "  (1, 1)\t1.0\n",
      "  (2, 2)\t1.0\n",
      "  (3, 3)\t1.0\n",
      "  (4, 4)\t1.0\n",
      "  (5, 5)\t1.0\n",
      "  (6, 6)\t1.0\n",
      "  (7, 7)\t1.0\n",
      "  (8, 8)\t1.0\n",
      "  (9, 9)\t1.0\n",
      "  (10, 10)\t1.0\n",
      "  (11, 11)\t1.0\n"
     ]
    },
    {
     "data": {
      "text/plain": [
       "<12x12 sparse matrix of type '<class 'numpy.float64'>'\n",
       "\twith 12 stored elements in LInked List format>"
      ]
     },
     "execution_count": 14,
     "metadata": {},
     "output_type": "execute_result"
    }
   ],
   "source": [
    "print(\"I_12 pleine :\\n\", np.eye(12))\n",
    "I12 = lil_matrix(np.eye(12))\n",
    "print(\"I_12 creuse :\\n\", I12)\n",
    "I12"
   ]
  },
  {
   "cell_type": "code",
   "execution_count": 15,
   "metadata": {
    "collapsed": false
   },
   "outputs": [
    {
     "name": "stdout",
     "output_type": "stream",
     "text": [
      "Taille de I_12 creuse = 12\n"
     ]
    }
   ],
   "source": [
    "print(\"Taille de I_12 creuse =\", I12.size)"
   ]
  },
  {
   "cell_type": "markdown",
   "metadata": {},
   "source": [
    "On peut prendre exactement la même fonction, et changer la ligne qui crée la matrice ``longueurs`` : on ajoute un appel à ``lil_matrix`` pour en faire une matrice creuse.\n",
    "\n",
    "Et voilà comment on passe, en une ligne, de $\\mathcal{O}(n m)$ en mémoire dans tous les cas à un $\\mathcal{O}(n m)$ dans le pire des cas et $\\mathcal{O}(\\sum \\text{longueur des sous-mots de x et y})$ dans tous les cas (en moyenne, ce sera $\\mathcal{O}(\\min(n, m))$ au pire).\n",
    "Notez que ce sera un poil moins efficace, mais on garde la complexité en temps en $\\mathcal{O}(n m)$ de toute façon."
   ]
  },
  {
   "cell_type": "code",
   "execution_count": 16,
   "metadata": {
    "collapsed": true
   },
   "outputs": [],
   "source": [
    "def sousMotMaxGloutonCreux(x, y, verb=False, verifie=True):\n",
    "    \"\"\" Calcule le plus long sous-mot commun a x et y, par programmation dynamique.\n",
    "    \n",
    "        - affiche un peu ce qu'il se passe si verb=True,\n",
    "        - vérifie que le sous-mot commun est bien un bon sous-mot commun si verifie=True.\n",
    "    \"\"\"\n",
    "    def message(*args):\n",
    "        if verb:\n",
    "            print(*args) \n",
    "    # 1. et 2. Initialisation et construction Matrice longueurs\n",
    "    n = len(x)\n",
    "    m = len(y)\n",
    "    message(\"\\n1. Initialisation de la look-up matrice longueurs, creuse de taille (n+1, m+1) : n = {} m = {} ...\".format(n, m))\n",
    "    longueurs = lil_matrix(np.zeros((n+1, m+1), dtype=int))\n",
    "    message(\"2. Construction bottom-up de la loop-up matrice longueurs ...\")\n",
    "    for i in range(1, n+1):\n",
    "        for j in range(1, m+1):\n",
    "            if x[i-1] == y[j-1]:\n",
    "                longueurs[i, j] = 1 + longueurs[i-1, j-1]\n",
    "                message(\"      Correspondance en cours, u[{}] = {} et v[{}] = {}, de longueur courante {} ...\".format(i-1, x[i-1], j-1, y[j-1], longueurs[i, j]))\n",
    "    # 3. Utilisation de la matrice longueurs\n",
    "    iFin, jFin = 0, 0\n",
    "    longueur_max = -1  # Pas encore\n",
    "    message(\"3. Calcul de la position du plus long sous mot via la matrice longueurs ...\")\n",
    "    for i in range(0, n+1):\n",
    "        for j in range(0, m+1):\n",
    "            if longueur_max < longueurs[i, j]:\n",
    "                longueur_max = longueurs[i, j]\n",
    "                iFin, jFin = i, j\n",
    "    # Calcul des indices de debut\n",
    "    iDebut, jDebut = iFin - longueur_max, jFin - longueur_max\n",
    "    message(\"4. On a obtenu iDebut = {} et jDebut = {} et longueur_max = {} ...\".format(iDebut, jDebut, longueur_max))\n",
    "\n",
    "    # 4. Vérification\n",
    "    if verifie:\n",
    "        xSous = x[iDebut: iDebut + longueur_max]\n",
    "        ySous = y[jDebut: jDebut + longueur_max]\n",
    "        message(\"      Sous-mot dans x = {}, et sous-mot dans y = {} ...\".format(xSous, ySous))\n",
    "        assert xSous == ySous, \"Erreur, xSous et ySous sont différents !\"\n",
    "    \n",
    "    leSousMot = x[iDebut: iDebut + longueur_max]\n",
    "    return iDebut, jDebut, leSousMot, longueurs"
   ]
  },
  {
   "cell_type": "markdown",
   "metadata": {},
   "source": [
    "On peut faire quelques exemples en plus, et on calcule aussi la taille de la matrice creuse ``longueurs`` (pour comparer a la taille de la matrice pleine de la fonction d'avant) :"
   ]
  },
  {
   "cell_type": "code",
   "execution_count": 17,
   "metadata": {
    "collapsed": false,
    "scrolled": false
   },
   "outputs": [
    {
     "name": "stdout",
     "output_type": "stream",
     "text": [
      "\n",
      "1. Initialisation de la look-up matrice longueurs, creuse de taille (n+1, m+1) : n = 28 m = 38 ...\n",
      "2. Construction bottom-up de la loop-up matrice longueurs ...\n",
      "      Correspondance en cours, u[0] = a et v[0] = a, de longueur courante 1 ...\n",
      "      Correspondance en cours, u[0] = a et v[25] = a, de longueur courante 1 ...\n",
      "      Correspondance en cours, u[1] = b et v[1] = b, de longueur courante 2 ...\n",
      "      Correspondance en cours, u[1] = b et v[26] = b, de longueur courante 2 ...\n",
      "      Correspondance en cours, u[2] = 0 et v[12] = 0, de longueur courante 1 ...\n",
      "      Correspondance en cours, u[2] = 0 et v[16] = 0, de longueur courante 1 ...\n",
      "      Correspondance en cours, u[3] = c et v[10] = c, de longueur courante 1 ...\n",
      "      Correspondance en cours, u[3] = c et v[27] = c, de longueur courante 1 ...\n",
      "      Correspondance en cours, u[6] = C et v[5] = C, de longueur courante 1 ...\n",
      "      Correspondance en cours, u[7] = 0 et v[12] = 0, de longueur courante 1 ...\n",
      "      Correspondance en cours, u[7] = 0 et v[16] = 0, de longueur courante 1 ...\n",
      "      Correspondance en cours, u[8] = a et v[0] = a, de longueur courante 1 ...\n",
      "      Correspondance en cours, u[8] = a et v[25] = a, de longueur courante 1 ...\n",
      "      Correspondance en cours, u[9] = b et v[1] = b, de longueur courante 2 ...\n",
      "      Correspondance en cours, u[9] = b et v[26] = b, de longueur courante 2 ...\n",
      "      Correspondance en cours, u[10] = c et v[10] = c, de longueur courante 1 ...\n",
      "      Correspondance en cours, u[10] = c et v[27] = c, de longueur courante 3 ...\n",
      "      Correspondance en cours, u[11] = 1 et v[19] = 1, de longueur courante 1 ...\n",
      "      Correspondance en cours, u[12] = 2 et v[20] = 2, de longueur courante 2 ...\n",
      "      Correspondance en cours, u[13] = 3 et v[21] = 3, de longueur courante 3 ...\n",
      "      Correspondance en cours, u[14] = 4 et v[22] = 4, de longueur courante 4 ...\n",
      "      Correspondance en cours, u[15] = 5 et v[23] = 5, de longueur courante 5 ...\n",
      "      Correspondance en cours, u[16] = 6 et v[24] = 6, de longueur courante 6 ...\n",
      "      Correspondance en cours, u[17] = a et v[0] = a, de longueur courante 1 ...\n",
      "      Correspondance en cours, u[17] = a et v[25] = a, de longueur courante 7 ...\n",
      "      Correspondance en cours, u[18] = b et v[1] = b, de longueur courante 2 ...\n",
      "      Correspondance en cours, u[18] = b et v[26] = b, de longueur courante 8 ...\n",
      "      Correspondance en cours, u[19] = c et v[10] = c, de longueur courante 1 ...\n",
      "      Correspondance en cours, u[19] = c et v[27] = c, de longueur courante 9 ...\n",
      "      Correspondance en cours, u[22] = C et v[5] = C, de longueur courante 1 ...\n",
      "      Correspondance en cours, u[23] = a et v[0] = a, de longueur courante 1 ...\n",
      "      Correspondance en cours, u[23] = a et v[25] = a, de longueur courante 1 ...\n",
      "      Correspondance en cours, u[24] = b et v[1] = b, de longueur courante 2 ...\n",
      "      Correspondance en cours, u[24] = b et v[26] = b, de longueur courante 2 ...\n",
      "      Correspondance en cours, u[25] = c et v[10] = c, de longueur courante 1 ...\n",
      "      Correspondance en cours, u[25] = c et v[27] = c, de longueur courante 3 ...\n",
      "      Correspondance en cours, u[26] = 9 et v[34] = 9, de longueur courante 1 ...\n",
      "      Correspondance en cours, u[26] = 9 et v[35] = 9, de longueur courante 1 ...\n",
      "      Correspondance en cours, u[26] = 9 et v[36] = 9, de longueur courante 1 ...\n",
      "      Correspondance en cours, u[26] = 9 et v[37] = 9, de longueur courante 1 ...\n",
      "      Correspondance en cours, u[27] = 9 et v[34] = 9, de longueur courante 1 ...\n",
      "      Correspondance en cours, u[27] = 9 et v[35] = 9, de longueur courante 2 ...\n",
      "      Correspondance en cours, u[27] = 9 et v[36] = 9, de longueur courante 2 ...\n",
      "      Correspondance en cours, u[27] = 9 et v[37] = 9, de longueur courante 2 ...\n",
      "3. Calcul de la position du plus long sous mot via la matrice longueurs ...\n",
      "4. On a obtenu iDebut = 11 et jDebut = 19 et longueur_max = 9 ...\n",
      "      Sous-mot dans x = 123456abc, et sous-mot dans y = 123456abc ...\n",
      "Taille de la matrice pleine = (n+1)(m+1) = 1131\n",
      "Taille de la matrice creuse longueurs = 44\n"
     ]
    }
   ],
   "source": [
    "x = \"ab0cABC0abc123456abcABCabc99\"\n",
    "y = \"abZQXCVQDScD0EFd0ef123456abcDEFdef9999\"\n",
    "iDebut, jDebut, sousxy, longueurs = sousMotMaxGloutonCreux(x, y, verb=True)\n",
    "print(\"Taille de la matrice pleine = (n+1)(m+1) =\", (len(x) + 1) * (len(y) + 1))\n",
    "print(\"Taille de la matrice creuse longueurs =\", longueurs.size)"
   ]
  },
  {
   "cell_type": "markdown",
   "metadata": {},
   "source": [
    "Ici, sur deux mots de tailles raisonnables (``x = \"ab0cABC0abc123456abcABCabc99\"`` et ``y = \"abZQXCVQDScD0EFd0ef123456abcDEFdef9999\"``), on passe d'une matrice pleine de taille ``1131`` entiers à une matrice creuse de taille ``44`` entiers : le gain est considérable ! "
   ]
  },
  {
   "cell_type": "code",
   "execution_count": 18,
   "metadata": {
    "collapsed": false
   },
   "outputs": [
    {
     "name": "stdout",
     "output_type": "stream",
     "text": [
      "\n",
      "1. Initialisation de la look-up matrice longueurs, creuse de taille (n+1, m+1) : n = 12 m = 16 ...\n",
      "2. Construction bottom-up de la loop-up matrice longueurs ...\n",
      "      Correspondance en cours, u[1] = b et v[1] = b, de longueur courante 1 ...\n",
      "      Correspondance en cours, u[3] = Z et v[10] = Z, de longueur courante 1 ...\n",
      "      Correspondance en cours, u[4] = Z et v[10] = Z, de longueur courante 1 ...\n",
      "      Correspondance en cours, u[5] = d et v[3] = d, de longueur courante 1 ...\n",
      "      Correspondance en cours, u[7] = F et v[5] = F, de longueur courante 1 ...\n",
      "      Correspondance en cours, u[8] = G et v[6] = G, de longueur courante 2 ...\n",
      "3. Calcul de la position du plus long sous mot via la matrice longueurs ...\n",
      "4. On a obtenu iDebut = 7 et jDebut = 5 et longueur_max = 2 ...\n",
      "      Sous-mot dans x = FG, et sous-mot dans y = FG ...\n",
      "Taille de la matrice pleine = (n+1)(m+1) = 221\n",
      "Taille de la matrice creuse longueurs = 6\n"
     ]
    }
   ],
   "source": [
    "x = \"abcZZdeFG597\"\n",
    "y = \"AbCdEFG413ZAQCWQ\"\n",
    "iDebut, jDebut, sousxy, longueurs = sousMotMaxGloutonCreux(x, y, verb=True)\n",
    "print(\"Taille de la matrice pleine = (n+1)(m+1) =\", (len(x) + 1) * (len(y) + 1))\n",
    "print(\"Taille de la matrice creuse longueurs =\", longueurs.size)"
   ]
  },
  {
   "cell_type": "markdown",
   "metadata": {},
   "source": [
    "Avec des mots ``x`` et ``y`` plus longs, le gain en mémoire induit par le codage creux est encore plus impressionnant :"
   ]
  },
  {
   "cell_type": "code",
   "execution_count": 19,
   "metadata": {
    "collapsed": false,
    "scrolled": false
   },
   "outputs": [
    {
     "name": "stdout",
     "output_type": "stream",
     "text": [
      "Taille de la matrice pleine = (n+1)(m+1) = 44215\n",
      "Taille de la matrice creuse longueurs = 1046\n"
     ]
    }
   ],
   "source": [
    "x = \"ab0cABC0abc123456abcABCabc99abcZZdeFG597abcZZdeFG597abcZZdeFG597abcZZdeFG597aethjrynghù*ejgodknùebjtzinhmodgkùjihrznhumbajzdgihbjmnaekrzùdbnvkzriùnodgkl ojzirnùodk bùgbznùod1249721325414765132486513486565465klfrzinhbùodfskl p*bjùdkl nbdnù\"\n",
    "y = \"abZQXCVQDScD0EFd0ef123456abcDEFdef9999AbCdEFG413ZAQCWQAbCdEFG413ZAQCWQAbCdEFG413ZAQCWQAbCdEFG413ZAQCWQAbCdEFG413ZAQCWQzrthekĝbùpbgmhbgdmv hubznemr1249721325414765132486513486565465ebgd\"\n",
    "iDebut, jDebut, sousxy, longueurs = sousMotMaxGloutonCreux(x, y, verb=False)\n",
    "print(\"Taille de la matrice pleine = (n+1)(m+1) =\", (len(x) + 1) * (len(y) + 1))\n",
    "print(\"Taille de la matrice creuse longueurs =\", longueurs.size)"
   ]
  },
  {
   "cell_type": "markdown",
   "metadata": {},
   "source": [
    "### 4.2.1 Version condensée"
   ]
  },
  {
   "cell_type": "markdown",
   "metadata": {},
   "source": [
    "Le code de cette fonction `sousMotMaxGloutonCreux` peut sembler un peu long, mais sans messages ni commentaires il est vraiment court et simple :"
   ]
  },
  {
   "cell_type": "code",
   "execution_count": 20,
   "metadata": {
    "collapsed": true
   },
   "outputs": [],
   "source": [
    "def sousMotMaxGloutonCreux2(x, y):\n",
    "    n = len(x)\n",
    "    m = len(y)\n",
    "    \n",
    "    longueurs = lil_matrix(np.zeros((n+1, m+1), dtype=int))\n",
    "    for i in range(1, n+1):\n",
    "        for j in range(1, m+1):\n",
    "            if x[i-1] == y[j-1]:\n",
    "                longueurs[i, j] = 1 + longueurs[i-1, j-1]\n",
    "    \n",
    "    iFin, jFin = 0, 0\n",
    "    longueur_max = -1  # Pas encore\n",
    "    for i in range(0, n+1):\n",
    "        for j in range(0, m+1):\n",
    "            if longueur_max < longueurs[i, j]:\n",
    "                longueur_max = longueurs[i, j]\n",
    "                iFin, jFin = i, j\n",
    "    iDebut, jDebut = iFin - longueur_max, jFin - longueur_max\n",
    "\n",
    "    leSousMot = x[iDebut: iDebut + longueur_max]\n",
    "    return iDebut, jDebut, leSousMot, longueurs"
   ]
  },
  {
   "cell_type": "markdown",
   "metadata": {},
   "source": [
    "Et le même exemple donne pareil :"
   ]
  },
  {
   "cell_type": "code",
   "execution_count": 21,
   "metadata": {
    "collapsed": false
   },
   "outputs": [
    {
     "name": "stdout",
     "output_type": "stream",
     "text": [
      "Taille de la matrice pleine = (n+1)(m+1) = 44215\n",
      "Taille de la matrice creuse longueurs = 1046\n",
      "Sous-mot : 1249721325414765132486513486565465\n"
     ]
    }
   ],
   "source": [
    "x = \"ab0cABC0abc123456abcABCabc99abcZZdeFG597abcZZdeFG597abcZZdeFG597abcZZdeFG597aethjrynghù*ejgodknùebjtzinhmodgkùjihrznhumbajzdgihbjmnaekrzùdbnvkzriùnodgkl ojzirnùodk bùgbznùod1249721325414765132486513486565465klfrzinhbùodfskl p*bjùdkl nbdnù\"\n",
    "y = \"abZQXCVQDScD0EFd0ef123456abcDEFdef9999AbCdEFG413ZAQCWQAbCdEFG413ZAQCWQAbCdEFG413ZAQCWQAbCdEFG413ZAQCWQAbCdEFG413ZAQCWQzrthekĝbùpbgmhbgdmv hubznemr1249721325414765132486513486565465ebgd\"\n",
    "iDebut, jDebut, sousxy, longueurs = sousMotMaxGloutonCreux2(x, y)\n",
    "print(\"Taille de la matrice pleine = (n+1)(m+1) =\", (len(x) + 1) * (len(y) + 1))\n",
    "print(\"Taille de la matrice creuse longueurs =\", longueurs.size)\n",
    "print(\"Sous-mot :\", sousxy)"
   ]
  },
  {
   "cell_type": "markdown",
   "metadata": {},
   "source": [
    "----"
   ]
  },
  {
   "cell_type": "markdown",
   "metadata": {},
   "source": [
    "# 5. Calcule de la plus longue sous-séquence commune"
   ]
  },
  {
   "cell_type": "markdown",
   "metadata": {},
   "source": [
    "Maintenant qu'on a fait tout ca, on peut implementer, de facon tres semblable, l'algorithme glouton pour le calcul de la plus longue sous-séquence commune.\n",
    "\n",
    "Dans cet autre problème, on cherche des sous-séquences et plus des sous-mots, donc on peut extraire de facon non consécutives.\n",
    "Le développement d'agrégation devrait concerner le second problème, qui est plus intéressant:\n",
    "Par exemple, voici une version tapée en PDF : http://minerve.bretagne.ens-cachan.fr/images/Dvt_plsc.pdf."
   ]
  },
  {
   "cell_type": "markdown",
   "metadata": {},
   "source": [
    "## 5.1 Vérifier qu'une sous-séquence est une bonne sous-séquence"
   ]
  },
  {
   "cell_type": "markdown",
   "metadata": {},
   "source": [
    "On commencer par écrire une petite fonction qui permet de vérifier rapidement qu'une chaine est une sous-séquence d'une autre, juste en regardant la définition."
   ]
  },
  {
   "cell_type": "code",
   "execution_count": 22,
   "metadata": {
    "collapsed": true
   },
   "outputs": [],
   "source": [
    "def estSousSeq(seq, x, verb=True, indices=True):\n",
    "    \"\"\" Verifie en temps O(|seq| |x|) que seq est une bonne sous-sequence de x.\n",
    "    \"\"\"\n",
    "    result = False\n",
    "    indices_x = []\n",
    "    try:\n",
    "        i = -1\n",
    "        for l in seq:\n",
    "            j = i+1 + x[i+1:].index(l)\n",
    "            indices_x.append(j)\n",
    "            i = j\n",
    "        result = True\n",
    "    except Exception as e:\n",
    "        if verb:\n",
    "            print(\"Erreur dans estSousSeq(seq = {}, x = {}):\\n{}\".format(seq, x, e))\n",
    "    if indices:\n",
    "        return result, indices_x\n",
    "    else:\n",
    "        return result"
   ]
  },
  {
   "cell_type": "markdown",
   "metadata": {},
   "source": [
    "## 5.2 Algorithme pour la plus longue sous-séquence"
   ]
  },
  {
   "cell_type": "markdown",
   "metadata": {},
   "source": [
    "On adapte l'algorithme du plus long sous-mot pour détecter les séquences aussi.\n",
    "Cf. le PDF page 2/3.\n",
    "\n",
    "TODO meilleures explications"
   ]
  },
  {
   "cell_type": "code",
   "execution_count": 23,
   "metadata": {
    "collapsed": true
   },
   "outputs": [],
   "source": [
    "def utiliseTableOrigines_x(x, origines, i, j, accu=''):\n",
    "    \"\"\" Renvoie la sous-séquence de x codée dans la table origines. Cf. PDF (Algorithme 2).\n",
    "    \n",
    "        - Calcul tail récursif (stocké dans la variable accu).\n",
    "    \"\"\"\n",
    "    # print(\"  utiliseTableOrigines(x = {}, origines, i = {}, j = {}, accu = {}) : origines[i, j] = {} ...\".format(x, i, j, accu, origines[i, j]))  # DEBUG\n",
    "    if i == 0 or j == 0:\n",
    "        return accu\n",
    "    if origines[i, j] == '↖':    # Vraie correspondance, on ajoute une lettre !\n",
    "        return utiliseTableOrigines_x(x, origines, i-1, j-1, x[i-1] + accu)\n",
    "    elif origines[i, j] == '↑':  # Fausse correspondance, on continue a gauche...\n",
    "        return utiliseTableOrigines_x(x, origines, i-1, j, accu)\n",
    "    elif origines[i, j] == '←':  # Fausse correspondance, on continue en haut...\n",
    "        return utiliseTableOrigines_x(x, origines, i, j-1, accu)\n",
    "    else:\n",
    "        raise ValueError(\"Erreur dans la table 'origines', invalide pour le mot x = {} ...\".format(x))\n",
    "\n",
    "\n",
    "def utiliseTableOrigines_y(x, origines, i, j, accu=''):\n",
    "    \"\"\" Renvoie la sous-séquence de y codée dans la table origines. Cf. PDF (Algorithme 2).\n",
    "    \n",
    "        - Calcul tail récursif (stocké dans la variable accu).\n",
    "    \"\"\"\n",
    "    # print(\"  utiliseTableOrigines(y = {}, origines, i = {}, j = {}, accu = {}) : origines[i, j] = {} ...\".format(y, i, j, accu, origines[i, j]))  # DEBUG\n",
    "    if i == 0 or j == 0:\n",
    "        return accu\n",
    "    if origines[i, j] == '↖':    # Vraie correspondance, on ajoute une lettre !\n",
    "        return utiliseTableOrigines_y(x, origines, i-1, j-1, y[j-1] + accu)\n",
    "    elif origines[i, j] == '↑':  # Fausse correspondance, on continue a gauche...\n",
    "        return utiliseTableOrigines_y(x, origines, i-1, j, accu)\n",
    "    elif origines[i, j] == '←':  # Fausse correspondance, on continue en haut...\n",
    "        return utiliseTableOrigines_y(x, origines, i, j-1, accu)\n",
    "    else:\n",
    "        raise ValueError(\"Erreur dans la table 'origines', invalide pour le mot y = {} ...\".format(y))"
   ]
  },
  {
   "cell_type": "markdown",
   "metadata": {},
   "source": [
    "TODO meilleures explications"
   ]
  },
  {
   "cell_type": "code",
   "execution_count": 24,
   "metadata": {
    "collapsed": false
   },
   "outputs": [],
   "source": [
    "def sousMotSeqGlouton(x, y, verb=False, verifie=True):\n",
    "    \"\"\" Calcule la plus longue sous-mot séquence a x et y, par programmation dynamique.\n",
    "    \n",
    "        - affiche un peu ce qu'il se passe si verb=True,\n",
    "        - vérifie que la sous-séquence commun est bien une bonne sous-séquence commune si verifie=True,\n",
    "        - renvoie laSousSeq, longueurs, origines, indices_x, indices_y si verifie=False,\n",
    "        - renvoie laSousSeq, longueurs, origines, indices_x, indices_y si verifie=True.\n",
    "    \"\"\"\n",
    "    def message(*args):\n",
    "        if verb:\n",
    "            print(*args) \n",
    "    # 1. et 2. Initialisation et construction Matrice longueurs\n",
    "    n = len(x)\n",
    "    m = len(y)\n",
    "    message(\"\\n1. Initialisation des look-up matrices longueurs et origines de taille (n+1, m+1) : n = {} m = {} ...\".format(n, m))\n",
    "    longueurs = np.zeros((n+1, m+1), dtype=int)     # Matrice c du dev en PDF\n",
    "    origines = np.array([[' '] * (m+1)] * (n+1), dtype=str)  # Matrice b du dev en PDF\n",
    "    # Note : on pourrait utiliser un codage a base d'entier, 0 1 2 3 pour ' ' '←' '↑' '↖' mais c'est moins joli...\n",
    "    message(\"2. Construction bottom-up des loop-up matrices longueurs et origines ...\")\n",
    "    for i in range(1, n+1):\n",
    "        for j in range(1, m+1):\n",
    "            if x[i-1] == y[j-1]:\n",
    "                longueurs[i, j] = 1 + longueurs[i-1, j-1]\n",
    "                origines[i, j] = '↖'\n",
    "                message(\"      Vraie correspondance en cours, u[{}] = {} et v[{}] = {}, de longueur courante {} ...\".format(i-1, x[i-1], j-1, y[j-1], longueurs[i, j]))\n",
    "            elif longueurs[i-1, j] >= longueurs[i, j-1]:\n",
    "                longueurs[i, j] = longueurs[i-1, j]\n",
    "                origines[i, j] = '↑'\n",
    "                message(\"      Correspondance gauche (u) en cours, u[{}] = {} et v[{}] = {}, de pseudo-longueur courante {} ...\".format(i-1, x[i-1], j-1, y[j-1], longueurs[i, j]))\n",
    "            else:\n",
    "                longueurs[i, j] = longueurs[i, j-1]\n",
    "                origines[i, j] = '←'\n",
    "                message(\"      Correspondance haute (v) en cours, u[{}] = {} et v[{}] = {}, de pseudo-longueur courante {} ...\".format(i-1, x[i-1], j-1, y[j-1], longueurs[i, j]))\n",
    "\n",
    "    # 3. Utilisation de la matrice longueurs\n",
    "    laSousSeq = utiliseTableOrigines_x(x, origines, n, m, accu='')\n",
    "\n",
    "    # 4. Vérification\n",
    "    if verifie:\n",
    "        res_x, indices_x = estSousSeq(laSousSeq, x, indices=True)\n",
    "        if not res_x:\n",
    "            raise ValueError(\"Erreur: La séquence {} de x (aux indices {}) n'est pas une bonne sous-séquence de x = {}.\".format(laSousSeq, indices_x, x))\n",
    "        \n",
    "        laSousSeq_y = utiliseTableOrigines_y(y, origines, n, m, accu='')\n",
    "        if laSousSeq != laSousSeq_y:\n",
    "            raise ValueError(\"Erreur: La sous-séquence {} de x est différente de celle de y : {} ...\".format(laSousSeq, laSousSeq_y))\n",
    "\n",
    "        res_y, indices_y = estSousSeq(laSousSeq, y, indices=True)\n",
    "        if not res_y:\n",
    "            raise ValueError(\"Erreur: La séquence {} de y (aux indices {}) n'est pas une bonne sous-séquence de y = {}.\".format(laSousSeq, indices_y, y))\n",
    "        \n",
    "        # Fini !\n",
    "        return laSousSeq, longueurs, origines, indices_x, indices_y\n",
    "    else:\n",
    "        return laSousSeq, longueurs, origines"
   ]
  },
  {
   "cell_type": "markdown",
   "metadata": {},
   "source": [
    "---"
   ]
  },
  {
   "cell_type": "markdown",
   "metadata": {},
   "source": [
    "### 5.2.1 Exemple, venant du développement"
   ]
  },
  {
   "cell_type": "markdown",
   "metadata": {},
   "source": [
    "Blabla"
   ]
  },
  {
   "cell_type": "code",
   "execution_count": 25,
   "metadata": {
    "collapsed": false
   },
   "outputs": [
    {
     "name": "stdout",
     "output_type": "stream",
     "text": [
      "Sous-seq de taille 4 valant BCBA ...\n",
      "   - aux indices [1, 2, 3, 5] pour x = ABCBDAB ...\n",
      "   - aux indices [0, 2, 4, 5] pour y = BDCABA ...\n",
      "Et la table longueurs vaut :\n",
      " [[0 0 0 0 0 0 0]\n",
      " [0 0 0 0 1 1 1]\n",
      " [0 1 1 1 1 2 2]\n",
      " [0 1 1 2 2 2 2]\n",
      " [0 1 1 2 2 3 3]\n",
      " [0 1 2 2 2 3 3]\n",
      " [0 1 2 2 3 3 4]\n",
      " [0 1 2 2 3 4 4]] ...\n",
      "Et la table origines vaut :\n",
      " [[' ' ' ' ' ' ' ' ' ' ' ' ' ']\n",
      " [' ' '↑' '↑' '↑' '↖' '←' '↖']\n",
      " [' ' '↖' '←' '←' '↑' '↖' '←']\n",
      " [' ' '↑' '↑' '↖' '←' '↑' '↑']\n",
      " [' ' '↖' '↑' '↑' '↑' '↖' '←']\n",
      " [' ' '↑' '↖' '↑' '↑' '↑' '↑']\n",
      " [' ' '↑' '↑' '↑' '↖' '↑' '↖']\n",
      " [' ' '↖' '↑' '↑' '↑' '↖' '↑']] ...\n"
     ]
    }
   ],
   "source": [
    "x = \"ABCBDAB\"\n",
    "y = \"BDCABA\"\n",
    "laSousSeq, longueurs, origines, indices_x, indices_y = sousMotSeqGlouton(x, y, verifie=True)\n",
    "print(\"Sous-seq de taille\", len(laSousSeq), \"valant\", laSousSeq, \"...\")\n",
    "print(\"   - aux indices\", indices_x, \"pour x =\", x, \"...\")\n",
    "print(\"   - aux indices\", indices_y, \"pour y =\", y, \"...\")\n",
    "print(\"Et la table longueurs vaut :\\n\", longueurs, \"...\")\n",
    "print(\"Et la table origines vaut :\\n\", origines, \"...\")"
   ]
  },
  {
   "cell_type": "markdown",
   "metadata": {},
   "source": [
    "### 5.2.2 Autres exemples"
   ]
  },
  {
   "cell_type": "markdown",
   "metadata": {},
   "source": [
    "TODO"
   ]
  },
  {
   "cell_type": "markdown",
   "metadata": {},
   "source": [
    "----\n",
    "\n",
    "> *C'est tout pour aujourd'hui les amis !*\n",
    "> [Allez voir d'autres notebooks](https://github.com/Naereen/notebooks/tree/master/agreg) si vous voulez."
   ]
  }
 ],
 "metadata": {
  "kernelspec": {
   "display_name": "Python 3",
   "language": "python",
   "name": "python3"
  },
  "language_info": {
   "codemirror_mode": {
    "name": "ipython",
    "version": 3
   },
   "file_extension": ".py",
   "mimetype": "text/x-python",
   "name": "python",
   "nbconvert_exporter": "python",
   "pygments_lexer": "ipython3",
   "version": "3.4.3+"
  }
 },
 "nbformat": 4,
 "nbformat_minor": 0
}
