{
 "cells": [
  {
   "cell_type": "markdown",
   "metadata": {},
   "source": [
    "# Agrégation externe de mathématiques\n",
    "## Leçon orale, option informatique\n",
    "\n",
    "> - Ce [notebook Jupyter](http://jupyter.org/) est une implémentation d'un algorithme constituant un développement pour l'option informatique de l'agrégation externe de mathématiques.\n",
    "> - Il s'agit du calcul du [plus long sous mot commun](https://fr.wikipedia.org/wiki/Plus_longue_sous-séquence_commune).\n",
    "> - Cette implémentation (partielle) a été rédigée par [Lilian Besson](http://perso.crans.org/besson/) ([sur GitHub ?](https://github.com/Naereen/), [sur Bitbucket ?](https://bitbucket.org/lbesson)), et [est open-source](https://github.com/Naereen/notebooks/blob/master/agreg/Plus%20long%20sous%20mot%20commun%20%28python3%29.ipynb).\n",
    "\n",
    "> #### Feedbacks?\n",
    "> - Vous avez trouvé un bug ? → [Signalez-le moi svp !](https://github.com/Naereen/notebooks/issues/new), merci d'avance.\n",
    "> - Vous avez une question ? → [Posez la svp !](https://github.com/Naereen/ama.fr) [![Ask Me Anything](https://img.shields.io/badge/ask%20me-anything-1abc9c.svg)](https://github.com/Naereen/ama.fr)\n",
    "\n",
    "----"
   ]
  },
  {
   "cell_type": "markdown",
   "metadata": {},
   "source": [
    "# Calcul du plus long sous mot commun\n",
    "### Implémentation d'un développement pour les leçons 906, 907.\n",
    "\n",
    "On présente ici un algorithme de programmation dynamique pour le calcul du plus long sous mot commun (aussi parfois appelé la plus longue sous séquence commune).\n",
    "\n",
    "Étant donnés deux mots $X = x_1 \\dots x_m$ et $Y = y_1 \\dots y_n$ sur un alphabet $\\Sigma$, on cherche à savoir quel est le plus long sous-mot commun à $X$ et $Y$.\n",
    "\n",
    "La solution naïve est d’énumérer tous les sous-mots de $X$, et de regarder ensuite s'ils sont aussi sous-mots de\n",
    "$Y$, mais cette solution est inefficace : il y a $2^m$ sous-mots de X.\n",
    "\n",
    "L'objectif est donc d'obtenir un algorithme plus efficace, polynomial en $m = |X|$ et $n = |Y|$.\n",
    "\n",
    "### Références :\n",
    "- Bien traité dans [\"Cormen\", Ch15.4 p341](https://catalogue.ens-cachan.fr/cgi-bin/koha/opac-detail.pl?biblionumber=15671),\n",
    "- Esquissé dans [\"Aho, Hopcroft, Ullman\", Ch5.6 p192](https://catalogue.ens-cachan.fr/cgi-bin/koha/opac-detail.pl?biblionumber=35831),\n",
    "- [Dévéloppement tapé en PDF ici](http://minerve.bretagne.ens-cachan.fr/images/Dvt_plsc.pdf).\n",
    "\n",
    "### Applications, généralisation :\n",
    "- On peut citer en application la comparaison de chaînes d'ADN, mais aussi la commande ``diff`` des systèmes GNU/Linux.\n",
    "- Généralisation : aucune chance d'avoir un algorithme aussi efficace s'il s'agit de trouver le plus long sous mot commun à $K$ chaînes de caractères (et en fait, le probleme général est $\\mathcal{NP}$, en le nombre de chaînes, [comme expliqué ici (en anglais)](https://en.wikipedia.org/wiki/Longest_common_subsequence_problem#Complexity)).\n",
    "\n",
    "----"
   ]
  },
  {
   "cell_type": "markdown",
   "metadata": {},
   "source": [
    "# 1. Algorithme naïf (exponentiel)\n",
    "On va d'abord montrer rapidement une implémentation simple de l'algorithme naïf, pour ensuite vérifier que l'algorithme plus complexe fonctionne aussi bien.\n",
    "\n",
    "## 1.1. Détecter si $u$ est sous mot de $y$\n",
    "L'objectif de toutes les fonctions suivantes est de proscrire toute recopie de chaines (*slicing*, ``x[i:j]``), qui sont très couteuse."
   ]
  },
  {
   "cell_type": "code",
   "execution_count": 1,
   "metadata": {
    "collapsed": true
   },
   "outputs": [],
   "source": [
    "def indiceSousMotAux(u, n, k, y, m, i, delta=0):\n",
    "    \"\"\" Fonction tail-récursive qui trouve l'indice j tel que u[k:k+n] = y[i+j:i+j+n], ou -1 en cas d'échec.\"\"\"\n",
    "    # print(\"{}indiceSousMotAux(u = {}, n = {}, k = {}, y = {}, m = {}, i = {}, delta = {})\".format('  '*delta, u, n, k, y, m, i, delta))  # DEBUG\n",
    "    if n == 0:  # Mot vide, commun partout, par defaut on donne 0\n",
    "        return 0\n",
    "    else:       # Mot pas vide\n",
    "        if k >= len(u) or i >= m:  # On a cherché trop loin, échec\n",
    "            return -1         # -1 signifie échec\n",
    "        elif u[k] == y[i]:    # Lettre en commun\n",
    "            if delta == n - 1:    # On a fini, on a trouvé !\n",
    "                return i - n + 1  # i est l'indice de la derniere lettre ici\n",
    "            else:  # On continue de chercher, une lettre de moins\n",
    "                return indiceSousMotAux(u, n, k + 1, y, m, i + 1, delta=delta+1)\n",
    "        else:      # On recommence a chercher en i+1\n",
    "            return indiceSousMotAux(u, n, k - delta, y, m, i + 1)\n",
    "\n",
    "\n",
    "def indiceSousMot(u, y):\n",
    "    \"\"\" En O(|u|), trouve l'indice j tel que u = y[j:j+|u|], ou -1 en cas d'échec.\"\"\"\n",
    "    return indiceSousMotAux(u, len(u), 0, y, len(y), 0)\n",
    "\n",
    "\n",
    "def estSousMot(u, y):\n",
    "    \"\"\" Vérifie en O(|u|) si u est sous-mot de y.\"\"\"\n",
    "    return indiceSousMotAux(u, len(u), 0, y, len(y), 0) >= 0"
   ]
  },
  {
   "cell_type": "markdown",
   "metadata": {},
   "source": [
    "Quelques tests :"
   ]
  },
  {
   "cell_type": "code",
   "execution_count": 2,
   "metadata": {
    "collapsed": false,
    "scrolled": true
   },
   "outputs": [
    {
     "name": "stdout",
     "output_type": "stream",
     "text": [
      "Le mot u = 'cde' est sous-mot de y = 'abcdefghijklmnopqrstuvwxyz', a partir de l'indice i = 2.\n",
      "Le mot u = 'cde' n'est pas sous-mot de y = 'abcDefghijklmnopqrstuvwxyz'.\n"
     ]
    }
   ],
   "source": [
    "def test_estSousMot(u, y):\n",
    "    \"\"\" Teste et affiche. \"\"\"\n",
    "    i = indiceSousMot(u, y)\n",
    "    if i >= 0:\n",
    "        print(\"Le mot u = '{}' est sous-mot de y = '{}', a partir de l'indice i = {}.\".format(u, y, i))\n",
    "    else:\n",
    "        print(\"Le mot u = '{}' n'est pas sous-mot de y = '{}'.\".format(u, y))        \n",
    "\n",
    "\n",
    "u = \"cde\"\n",
    "y1 = \"abcdefghijklmnopqrstuvwxyz\"\n",
    "test_estSousMot(u, y1)  # True\n",
    "\n",
    "y2 = \"abcDefghijklmnopqrstuvwxyz\"\n",
    "test_estSousMot(u, y2)  # False"
   ]
  },
  {
   "cell_type": "markdown",
   "metadata": {},
   "source": [
    "## 1.2. Trouver *un* sous-mot de longueur ``k``\n",
    "On peut chercher **tous** les sous-mots de longueur ``k`` dans ``x`` et regarder si l'**un d'entre eux** est inclus dans y (on s'arrête dès qu'on en a trouvé un) :"
   ]
  },
  {
   "cell_type": "code",
   "execution_count": 3,
   "metadata": {
    "collapsed": false
   },
   "outputs": [],
   "source": [
    "def aSousMotDeLongueur(x, y, k):\n",
    "    \"\"\" Trouve le premier sous-mot de x de longueur k et renvoit i, j, u, ou échoue avec une ValueError. \"\"\"\n",
    "    imax = len(x) - k + 1\n",
    "    # Les sous mots seront x0..xk-1, .., ximax-1,..,xn-1\n",
    "    for debut in range(imax):\n",
    "        j = indiceSousMotAux(x, k, debut, y, len(y), 0)\n",
    "        if j >= 0:\n",
    "            return debut, debut + j, x[debut:debut+k]\n",
    "    # Pas trouvé !\n",
    "    raise ValueError(\"Aucun sous-mot de longueur k = {} de x = '{}' n'est dans y = '{}'.\".format(k, x, y))"
   ]
  },
  {
   "cell_type": "markdown",
   "metadata": {},
   "source": [
    "Un test :"
   ]
  },
  {
   "cell_type": "code",
   "execution_count": 4,
   "metadata": {
    "collapsed": false,
    "scrolled": true
   },
   "outputs": [
    {
     "name": "stdout",
     "output_type": "stream",
     "text": [
      "==> Sous-mot de longueur k = 0 de x = 'aabcde' dans y = 'aABcdE' : u = '' en indice i = 0 pour x et j = 0 pour y.\n",
      "==> Sous-mot de longueur k = 1 de x = 'aabcde' dans y = 'aABcdE' : u = 'a' en indice i = 0 pour x et j = 0 pour y.\n",
      "==> Sous-mot de longueur k = 2 de x = 'aabcde' dans y = 'aABcdE' : u = 'cd' en indice i = 3 pour x et j = 6 pour y.\n",
      "==> Aucun sous-mot de longueur k = 3 de x = 'aabcde' n'est dans y = 'aABcdE'.\n",
      "==> Aucun sous-mot de longueur k = 4 de x = 'aabcde' n'est dans y = 'aABcdE'.\n",
      "==> Aucun sous-mot de longueur k = 5 de x = 'aabcde' n'est dans y = 'aABcdE'.\n",
      "==> Aucun sous-mot de longueur k = 6 de x = 'aabcde' n'est dans y = 'aABcdE'.\n",
      "==> Sous-mot de longueur k = 0 de x = 'aabffcde' dans y = 'aABGGGGGcdE' : u = '' en indice i = 0 pour x et j = 0 pour y.\n",
      "==> Sous-mot de longueur k = 1 de x = 'aabffcde' dans y = 'aABGGGGGcdE' : u = 'a' en indice i = 0 pour x et j = 0 pour y.\n",
      "==> Sous-mot de longueur k = 2 de x = 'aabffcde' dans y = 'aABGGGGGcdE' : u = 'cd' en indice i = 5 pour x et j = 13 pour y.\n",
      "==> Aucun sous-mot de longueur k = 3 de x = 'aabffcde' n'est dans y = 'aABGGGGGcdE'.\n",
      "==> Aucun sous-mot de longueur k = 4 de x = 'aabffcde' n'est dans y = 'aABGGGGGcdE'.\n",
      "==> Aucun sous-mot de longueur k = 5 de x = 'aabffcde' n'est dans y = 'aABGGGGGcdE'.\n",
      "==> Aucun sous-mot de longueur k = 6 de x = 'aabffcde' n'est dans y = 'aABGGGGGcdE'.\n",
      "==> Aucun sous-mot de longueur k = 7 de x = 'aabffcde' n'est dans y = 'aABGGGGGcdE'.\n",
      "==> Aucun sous-mot de longueur k = 8 de x = 'aabffcde' n'est dans y = 'aABGGGGGcdE'.\n"
     ]
    }
   ],
   "source": [
    "def test_aSousMotDeLongueur(x, y, k):\n",
    "    \"\"\" Teste et affiche. \"\"\"\n",
    "    try:\n",
    "        i, j, u = aSousMotDeLongueur(x, y, k)\n",
    "        print(\"==> Sous-mot de longueur k = {} de x = '{}' dans y = '{}' : u = '{}' en indice i = {} pour x et j = {} pour y.\".format(k, x, y, u, i, j))\n",
    "    except ValueError:\n",
    "        print(\"==> Aucun sous-mot de longueur k = {} de x = '{}' n'est dans y = '{}'.\".format(k, x, y))\n",
    "\n",
    "x = \"aabcde\"\n",
    "y = \"aABcdE\"\n",
    "for k in range(0, min(len(x), len(y)) + 1):\n",
    "    test_aSousMotDeLongueur(x, y, k)\n",
    "\n",
    "x = \"aabffcde\"\n",
    "y = \"aABGGGGGcdE\"\n",
    "for k in range(0, min(len(x), len(y)) + 1):\n",
    "    test_aSousMotDeLongueur(x, y, k)"
   ]
  },
  {
   "cell_type": "markdown",
   "metadata": {},
   "source": [
    "## 1.3. Sous-mot de longueur maximale (version naïve)"
   ]
  },
  {
   "cell_type": "code",
   "execution_count": 9,
   "metadata": {
    "collapsed": true
   },
   "outputs": [],
   "source": [
    "def sousMotMax_1(x, y, verb=True):\n",
    "    \"\"\" |x| doit etre plus petit que |y|.\"\"\"\n",
    "    k = len(x)\n",
    "    while k >= 0:\n",
    "        if verb:\n",
    "            print(\"  On essaie de trouver un sous-mot commun à x = '{}' et y = '{}' de taille k = {} ...\".format(x, y, k))\n",
    "        try:\n",
    "            i, j, u = aSousMotDeLongueur(x, y, k)\n",
    "            if verb:\n",
    "                print(\"  ==> On a un sous-mot commun à x = '{}' et y = '{}' de taille k = {} : u = '{}' (i = {}, j = {}) !\".format(x, y, k, u, i, j))\n",
    "            return i, j, u\n",
    "        except ValueError:\n",
    "            if verb:\n",
    "                print(\"  ==> Aucun sous-mot commun à x = '{}' et y = '{}' de taille k = {} ...\".format(x, y, k))\n",
    "        k -= 1\n",
    "\n",
    "            \n",
    "def sousMotMax1(x, y, verb=True):\n",
    "    \"\"\" Trouve un sous-mot de longueur maximale (le plus à gauche possible de x et y), en temps exponentiel en n = |x|.\"\"\"\n",
    "    if len(x) <= len(y):\n",
    "        return sousMotMax_1(x, y, verb=verb)\n",
    "    else:\n",
    "        return sousMotMax_1(y, x, verb=verb)"
   ]
  },
  {
   "cell_type": "markdown",
   "metadata": {},
   "source": [
    "Quelques tests :"
   ]
  },
  {
   "cell_type": "code",
   "execution_count": 13,
   "metadata": {
    "collapsed": false
   },
   "outputs": [
    {
     "data": {
      "text/plain": [
       "(9, 18, '123456abc')"
      ]
     },
     "execution_count": 13,
     "metadata": {},
     "output_type": "execute_result"
    }
   ],
   "source": [
    "x = \"abcABCabc123456abcABCabc99\"\n",
    "y = \"abcDEFdef123456abcDEFdef9999\"\n",
    "sousMotMax1(x, y, verb=False)"
   ]
  },
  {
   "cell_type": "code",
   "execution_count": 12,
   "metadata": {
    "collapsed": false
   },
   "outputs": [
    {
     "name": "stdout",
     "output_type": "stream",
     "text": [
      "  On essaie de trouver un sous-mot commun à x = 'abcABCabc' et y = 'abcDEFdef' de taille k = 9 ...\n",
      "  ==> Aucun sous-mot commun à x = 'abcABCabc' et y = 'abcDEFdef' de taille k = 9 ...\n",
      "  On essaie de trouver un sous-mot commun à x = 'abcABCabc' et y = 'abcDEFdef' de taille k = 8 ...\n",
      "  ==> Aucun sous-mot commun à x = 'abcABCabc' et y = 'abcDEFdef' de taille k = 8 ...\n",
      "  On essaie de trouver un sous-mot commun à x = 'abcABCabc' et y = 'abcDEFdef' de taille k = 7 ...\n",
      "  ==> Aucun sous-mot commun à x = 'abcABCabc' et y = 'abcDEFdef' de taille k = 7 ...\n",
      "  On essaie de trouver un sous-mot commun à x = 'abcABCabc' et y = 'abcDEFdef' de taille k = 6 ...\n",
      "  ==> Aucun sous-mot commun à x = 'abcABCabc' et y = 'abcDEFdef' de taille k = 6 ...\n",
      "  On essaie de trouver un sous-mot commun à x = 'abcABCabc' et y = 'abcDEFdef' de taille k = 5 ...\n",
      "  ==> Aucun sous-mot commun à x = 'abcABCabc' et y = 'abcDEFdef' de taille k = 5 ...\n",
      "  On essaie de trouver un sous-mot commun à x = 'abcABCabc' et y = 'abcDEFdef' de taille k = 4 ...\n",
      "  ==> Aucun sous-mot commun à x = 'abcABCabc' et y = 'abcDEFdef' de taille k = 4 ...\n",
      "  On essaie de trouver un sous-mot commun à x = 'abcABCabc' et y = 'abcDEFdef' de taille k = 3 ...\n",
      "  ==> On a un sous-mot commun à x = 'abcABCabc' et y = 'abcDEFdef' de taille k = 3 : u = 'abc' (i = 0, j = 0) !\n"
     ]
    },
    {
     "data": {
      "text/plain": [
       "(0, 0, 'abc')"
      ]
     },
     "execution_count": 12,
     "metadata": {},
     "output_type": "execute_result"
    }
   ],
   "source": [
    "x = \"abcABCabc\"\n",
    "y = \"abcDEFdef\"\n",
    "sousMotMax1(x, y)"
   ]
  },
  {
   "cell_type": "markdown",
   "metadata": {},
   "source": [
    "----\n",
    "\n",
    "> *C'est tout pour aujourd'hui les amis !*\n",
    "> [Allez voir d'autres notebooks](https://github.com/Naereen/notebooks/tree/master/agreg) si vous voulez."
   ]
  }
 ],
 "metadata": {
  "kernelspec": {
   "display_name": "Python 3",
   "language": "python",
   "name": "python3"
  },
  "language_info": {
   "codemirror_mode": {
    "name": "ipython",
    "version": 3
   },
   "file_extension": ".py",
   "mimetype": "text/x-python",
   "name": "python",
   "nbconvert_exporter": "python",
   "pygments_lexer": "ipython3",
   "version": "3.4.3+"
  }
 },
 "nbformat": 4,
 "nbformat_minor": 0
}
