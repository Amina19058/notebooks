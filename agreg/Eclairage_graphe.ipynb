{
 "cells": [
  {
   "cell_type": "markdown",
   "metadata": {
    "toc": "true"
   },
   "source": [
    "# Table of Contents\n",
    " <p><div class=\"lev1 toc-item\"><a href=\"#Texte-d'oral-de-modélisation---Agrégation-Option-Informatique\" data-toc-modified-id=\"Texte-d'oral-de-modélisation---Agrégation-Option-Informatique-1\"><span class=\"toc-item-num\">1&nbsp;&nbsp;</span>Texte d'oral de modélisation - Agrégation Option Informatique</a></div><div class=\"lev2 toc-item\"><a href=\"#Préparation-à-l'agrégation---ENS-de-Rennes,-2016-17\" data-toc-modified-id=\"Préparation-à-l'agrégation---ENS-de-Rennes,-2016-17-11\"><span class=\"toc-item-num\">1.1&nbsp;&nbsp;</span>Préparation à l'agrégation - ENS de Rennes, 2016-17</a></div><div class=\"lev2 toc-item\"><a href=\"#À-propos-de-ce-document\" data-toc-modified-id=\"À-propos-de-ce-document-12\"><span class=\"toc-item-num\">1.2&nbsp;&nbsp;</span>À propos de ce document</a></div><div class=\"lev2 toc-item\"><a href=\"#Question-de-programmation\" data-toc-modified-id=\"Question-de-programmation-13\"><span class=\"toc-item-num\">1.3&nbsp;&nbsp;</span>Question de programmation</a></div><div class=\"lev3 toc-item\"><a href=\"#Exercice\" data-toc-modified-id=\"Exercice-131\"><span class=\"toc-item-num\">1.3.1&nbsp;&nbsp;</span>Exercice</a></div><div class=\"lev3 toc-item\"><a href=\"#Besoin-de-plusieurs-exemples\" data-toc-modified-id=\"Besoin-de-plusieurs-exemples-132\"><span class=\"toc-item-num\">1.3.2&nbsp;&nbsp;</span>Besoin de plusieurs exemples</a></div><div class=\"lev2 toc-item\"><a href=\"#Solution\" data-toc-modified-id=\"Solution-14\"><span class=\"toc-item-num\">1.4&nbsp;&nbsp;</span>Solution</a></div><div class=\"lev3 toc-item\"><a href=\"#Représentation-du-graphe-et-de-la-proposition-d'éclairage\" data-toc-modified-id=\"Représentation-du-graphe-et-de-la-proposition-d'éclairage-141\"><span class=\"toc-item-num\">1.4.1&nbsp;&nbsp;</span>Représentation du graphe et de la proposition d'éclairage</a></div><div class=\"lev3 toc-item\"><a href=\"#Vérification\" data-toc-modified-id=\"Vérification-142\"><span class=\"toc-item-num\">1.4.2&nbsp;&nbsp;</span>Vérification</a></div><div class=\"lev3 toc-item\"><a href=\"#Exemples\" data-toc-modified-id=\"Exemples-143\"><span class=\"toc-item-num\">1.4.3&nbsp;&nbsp;</span>Exemples</a></div><div class=\"lev4 toc-item\"><a href=\"#Pour-des-éclairages-valides.\" data-toc-modified-id=\"Pour-des-éclairages-valides.-1431\"><span class=\"toc-item-num\">1.4.3.1&nbsp;&nbsp;</span>Pour des éclairages valides.</a></div><div class=\"lev4 toc-item\"><a href=\"#Pour-des-éclairages-non-valides-:\" data-toc-modified-id=\"Pour-des-éclairages-non-valides-:-1432\"><span class=\"toc-item-num\">1.4.3.2&nbsp;&nbsp;</span>Pour des éclairages non valides :</a></div><div class=\"lev3 toc-item\"><a href=\"#Bonus-:-vérifier-que-le-graphe-est-valide\" data-toc-modified-id=\"Bonus-:-vérifier-que-le-graphe-est-valide-144\"><span class=\"toc-item-num\">1.4.4&nbsp;&nbsp;</span>Bonus : vérifier que le graphe est valide</a></div><div class=\"lev2 toc-item\"><a href=\"#Bonus-:-énumération-de-tous-les-éclairages-possibles\" data-toc-modified-id=\"Bonus-:-énumération-de-tous-les-éclairages-possibles-15\"><span class=\"toc-item-num\">1.5&nbsp;&nbsp;</span>Bonus : énumération de tous les éclairages possibles</a></div><div class=\"lev3 toc-item\"><a href=\"#Énumération-des-éclairages-possibles\" data-toc-modified-id=\"Énumération-des-éclairages-possibles-151\"><span class=\"toc-item-num\">1.5.1&nbsp;&nbsp;</span>Énumération des éclairages possibles</a></div><div class=\"lev3 toc-item\"><a href=\"#Trouver-un-éclairage-optimal\" data-toc-modified-id=\"Trouver-un-éclairage-optimal-152\"><span class=\"toc-item-num\">1.5.2&nbsp;&nbsp;</span>Trouver un éclairage optimal</a></div><div class=\"lev3 toc-item\"><a href=\"#Exemples\" data-toc-modified-id=\"Exemples-153\"><span class=\"toc-item-num\">1.5.3&nbsp;&nbsp;</span>Exemples</a></div><div class=\"lev2 toc-item\"><a href=\"#Complexités-en-temps-et-espace-(bonus)\" data-toc-modified-id=\"Complexités-en-temps-et-espace-(bonus)-16\"><span class=\"toc-item-num\">1.6&nbsp;&nbsp;</span>Complexités en temps et espace (bonus)</a></div><div class=\"lev3 toc-item\"><a href=\"#En-temps\" data-toc-modified-id=\"En-temps-161\"><span class=\"toc-item-num\">1.6.1&nbsp;&nbsp;</span>En temps</a></div><div class=\"lev3 toc-item\"><a href=\"#En-espace\" data-toc-modified-id=\"En-espace-162\"><span class=\"toc-item-num\">1.6.2&nbsp;&nbsp;</span>En espace</a></div><div class=\"lev2 toc-item\"><a href=\"#Conclusion\" data-toc-modified-id=\"Conclusion-17\"><span class=\"toc-item-num\">1.7&nbsp;&nbsp;</span>Conclusion</a></div><div class=\"lev3 toc-item\"><a href=\"#Qualités\" data-toc-modified-id=\"Qualités-171\"><span class=\"toc-item-num\">1.7.1&nbsp;&nbsp;</span>Qualités</a></div><div class=\"lev3 toc-item\"><a href=\"#Défauts\" data-toc-modified-id=\"Défauts-172\"><span class=\"toc-item-num\">1.7.2&nbsp;&nbsp;</span>Défauts</a></div><div class=\"lev3 toc-item\"><a href=\"#Ouverture\" data-toc-modified-id=\"Ouverture-173\"><span class=\"toc-item-num\">1.7.3&nbsp;&nbsp;</span>Ouverture</a></div>"
   ]
  },
  {
   "cell_type": "markdown",
   "metadata": {},
   "source": [
    "# Texte d'oral de modélisation - Agrégation Option Informatique\n",
    "## Préparation à l'agrégation - ENS de Rennes, 2016-17\n",
    "- *Date* : 22 mai 2017\n",
    "- *Auteur* : [Lilian Besson](https://GitHub.com/Naereen/notebooks/)\n",
    "- *Texte*: Annale 2012, [\"Éclairage graphe\" (public2012-D1)](http://agreg.org/Textes/public2012-D1.pdf)"
   ]
  },
  {
   "cell_type": "markdown",
   "metadata": {},
   "source": [
    "## À propos de ce document\n",
    "- Ceci est une *proposition* de correction, partielle et probablement non-optimale, pour la partie implémentation d'un [texte d'annale de l'agrégation de mathématiques, option informatique](http://Agreg.org/Textes/).\n",
    "- Ce document est un [notebook Jupyter](https://www.Jupyter.org/), et [est open-source sous Licence MIT sur GitHub](https://github.com/Naereen/notebooks/tree/master/agreg/), comme les autres solutions de textes de modélisation que [j](https://GitHub.com/Naereen)'ai écrite cette année.\n",
    "- L'implémentation sera faite en OCaml, version 4+ :"
   ]
  },
  {
   "cell_type": "code",
   "execution_count": 1,
   "metadata": {
    "scrolled": true
   },
   "outputs": [
    {
     "name": "stdout",
     "output_type": "stream",
     "text": [
      "The OCaml toplevel, version 4.02.3\n"
     ]
    },
    {
     "data": {
      "text/html": [
       "<pre style=\"color:slategray;max-height:100px;overflow:hidden\" \n",
       "onclick=\"\n",
       "if (this.style.maxHeight === 'none') \n",
       "    this.style.maxHeight = '100px';\n",
       "else\n",
       "    this.style.maxHeight = 'none'; \n",
       "\">- : int = 0\n",
       "</pre>"
      ]
     },
     "execution_count": 1,
     "metadata": {},
     "output_type": "execute_result"
    }
   ],
   "source": [
    "Sys.command \"ocaml -version\";;"
   ]
  },
  {
   "cell_type": "markdown",
   "metadata": {},
   "source": [
    "----\n",
    "## Question de programmation\n",
    "La question de programmation pour ce texte était donnée au tout début, à la page 2 :\n",
    "\n",
    "### Exercice\n",
    "\n",
    "> Dans le langage de votre choix, implémenter un programme qui étant donnés un graphe et une proposition d’éclairage des lampadaires teste si celle-ci est correcte, *i.e.*, si toutes les rues sont bien éclairées.\n",
    "\n",
    "> Le tester sur différents exemples bien choisis (on pourra justifier la/les structures de données utilisée).\n",
    "\n",
    "### Besoin de plusieurs exemples\n",
    "Pour une fois, on vois bien que le jury *exige* de tester la fonction sur *plusieurs* exemples."
   ]
  },
  {
   "cell_type": "markdown",
   "metadata": {},
   "source": [
    "----\n",
    "## Solution\n"
   ]
  },
  {
   "cell_type": "markdown",
   "metadata": {},
   "source": [
    "### Représentation du graphe et de la proposition d'éclairage\n",
    "\n",
    "Les graphes ici seront constitués de *places* (= sommets), reliés entre elles par des *rues* (= arêtes).\n",
    "\n",
    "Pour vérifier un éclairage, donné sous forme d'une liste de places, on va devoir vérifier que chaque rue est connectée à une place éclairée.\n",
    "\n",
    "Une approche très simple, en trois étapes :\n",
    "\n",
    "1. compter le nombre de rues,\n",
    "2. pour chaque place éclairée, compter le nombre de rues qui en partent (et qui sont donc éclairées),\n",
    "3. s'il y a (au moins) une rue non éclairée, renvoyer `false`, sinon renvoyer `true`.\n",
    "\n",
    "Pour être efficace, il faut pouvoir accéder efficacement aux rues qui partent de chaque place (et il suffit de les compter, si on sait qu'elles sont uniques dans la représentation).\n",
    "\n",
    "$\\implies$ À partir de ce constat, on opte pour une représentation du graphe par **liste d'adjacence**.\n",
    "\n",
    "- Comme les graphes sont non orientés, chaque arête est présente deux fois dans la représentation du graphe : l'arête $u \\leftrightarrow v$ est présente comme $v \\in V[u]$ (les places voisines de $u$), et $u \\in V[v]$ (les places voisines de $v$).\n",
    "\n",
    "- Le fait que les graphes soient planaires n'apportent rien à la représentation.\n",
    "\n",
    "- Par simplicité, on va représenter les places par leur numéros (on pourra aussi prendre des chaînes de caractères, comme `\"Place de l'étoile\"`, `\"Nation\"`, `\"Champd de Mars\"` etc, mais c'est plus long à écrire)."
   ]
  },
  {
   "cell_type": "code",
   "execution_count": 7,
   "metadata": {
    "scrolled": true
   },
   "outputs": [
    {
     "data": {
      "text/html": [
       "<pre style=\"color:slategray;max-height:100px;overflow:hidden\" \n",
       "onclick=\"\n",
       "if (this.style.maxHeight === 'none') \n",
       "    this.style.maxHeight = '100px';\n",
       "else\n",
       "    this.style.maxHeight = 'none'; \n",
       "\">type place = int\n",
       "</pre>"
      ]
     },
     "execution_count": 7,
     "metadata": {},
     "output_type": "execute_result"
    },
    {
     "data": {
      "text/html": [
       "<pre style=\"color:slategray;max-height:100px;overflow:hidden\" \n",
       "onclick=\"\n",
       "if (this.style.maxHeight === 'none') \n",
       "    this.style.maxHeight = '100px';\n",
       "else\n",
       "    this.style.maxHeight = 'none'; \n",
       "\">type rues = place list\n",
       "</pre>"
      ]
     },
     "execution_count": 7,
     "metadata": {},
     "output_type": "execute_result"
    }
   ],
   "source": [
    "type place = int;;\n",
    "type rues = place list;;"
   ]
  },
  {
   "cell_type": "code",
   "execution_count": 10,
   "metadata": {},
   "outputs": [
    {
     "data": {
      "text/html": [
       "<pre style=\"color:slategray;max-height:100px;overflow:hidden\" \n",
       "onclick=\"\n",
       "if (this.style.maxHeight === 'none') \n",
       "    this.style.maxHeight = '100px';\n",
       "else\n",
       "    this.style.maxHeight = 'none'; \n",
       "\">type ville = rues list\n",
       "</pre>"
      ]
     },
     "execution_count": 10,
     "metadata": {},
     "output_type": "execute_result"
    }
   ],
   "source": [
    "type ville = rues list;;"
   ]
  },
  {
   "cell_type": "markdown",
   "metadata": {},
   "source": [
    "On donne tout de suite un exemple de graphe, en prenant le 3ème exemple de la Figure 1 du texte.\n",
    "\n",
    "![Graphes de la Figure 1 du texte](images/ville_eclairee_1.png)"
   ]
  },
  {
   "cell_type": "code",
   "execution_count": 127,
   "metadata": {},
   "outputs": [
    {
     "data": {
      "text/html": [
       "<pre style=\"color:slategray;max-height:100px;overflow:hidden\" \n",
       "onclick=\"\n",
       "if (this.style.maxHeight === 'none') \n",
       "    this.style.maxHeight = '100px';\n",
       "else\n",
       "    this.style.maxHeight = 'none'; \n",
       "\">val graphe1 : ville =\n",
       "  [[2]; [2; 3; 6]; [0; 1]; [1; 4]; [3; 5]; [1; 4; 6; 8]; [1; 5; 7]; [6; 8];\n",
       "   [5; 7]]\n",
       "</pre>"
      ]
     },
     "execution_count": 127,
     "metadata": {},
     "output_type": "execute_result"
    }
   ],
   "source": [
    "let graphe1 : ville = [\n",
    "    [2];           (* place 0 *)\n",
    "    [2; 3; 6];     (* place 1 *)\n",
    "    [0; 1];        (* place 2 *)\n",
    "    [1; 4];        (* place 3 *)\n",
    "    [3; 5];        (* place 4 *)\n",
    "    [1; 4; 6; 8];  (* place 5 *)\n",
    "    [1; 5; 7];     (* place 6 *)\n",
    "    [6; 8];        (* place 7 *)\n",
    "    [5; 7];        (* place 8 *)\n",
    "];;"
   ]
  },
  {
   "cell_type": "markdown",
   "metadata": {},
   "source": [
    "On a besoin que les indices commence à $0$ et jusqu'à $n-1$ (où $n$ est le nombre de places), puisque la liste des rues utilisent implicitement la numérotation des places."
   ]
  },
  {
   "cell_type": "code",
   "execution_count": 128,
   "metadata": {},
   "outputs": [
    {
     "data": {
      "text/html": [
       "<pre style=\"color:slategray;max-height:100px;overflow:hidden\" \n",
       "onclick=\"\n",
       "if (this.style.maxHeight === 'none') \n",
       "    this.style.maxHeight = '100px';\n",
       "else\n",
       "    this.style.maxHeight = 'none'; \n",
       "\">type eclairage = place list\n",
       "</pre>"
      ]
     },
     "execution_count": 128,
     "metadata": {},
     "output_type": "execute_result"
    }
   ],
   "source": [
    "type eclairage = place list;;"
   ]
  },
  {
   "cell_type": "markdown",
   "metadata": {},
   "source": [
    "Trois exemples d'éclairages, deux satisfaisant donc l'un trivialement, et l'autre non satisfaisant :"
   ]
  },
  {
   "cell_type": "code",
   "execution_count": 129,
   "metadata": {},
   "outputs": [
    {
     "data": {
      "text/html": [
       "<pre style=\"color:slategray;max-height:100px;overflow:hidden\" \n",
       "onclick=\"\n",
       "if (this.style.maxHeight === 'none') \n",
       "    this.style.maxHeight = '100px';\n",
       "else\n",
       "    this.style.maxHeight = 'none'; \n",
       "\">val eclairage1_sat : eclairage = [0; 1; 2; 3; 4; 5; 6; 7; 8]\n",
       "</pre>"
      ]
     },
     "execution_count": 129,
     "metadata": {},
     "output_type": "execute_result"
    },
    {
     "data": {
      "text/html": [
       "<pre style=\"color:slategray;max-height:100px;overflow:hidden\" \n",
       "onclick=\"\n",
       "if (this.style.maxHeight === 'none') \n",
       "    this.style.maxHeight = '100px';\n",
       "else\n",
       "    this.style.maxHeight = 'none'; \n",
       "\">val eclairage2_sat : eclairage = [1; 2; 3; 5; 6; 8]\n",
       "</pre>"
      ]
     },
     "execution_count": 129,
     "metadata": {},
     "output_type": "execute_result"
    }
   ],
   "source": [
    "let eclairage1_sat : eclairage = [\n",
    "    0; 1; 2; 3; 4; 5; 6; 7; 8\n",
    "];;\n",
    "\n",
    "let eclairage2_sat : eclairage = [\n",
    "    1; 2; 3; 5; 6; 8\n",
    "];;"
   ]
  },
  {
   "cell_type": "code",
   "execution_count": 130,
   "metadata": {},
   "outputs": [
    {
     "data": {
      "text/html": [
       "<pre style=\"color:slategray;max-height:100px;overflow:hidden\" \n",
       "onclick=\"\n",
       "if (this.style.maxHeight === 'none') \n",
       "    this.style.maxHeight = '100px';\n",
       "else\n",
       "    this.style.maxHeight = 'none'; \n",
       "\">val eclairage1_nonsat : eclairage = [2; 4; 8]\n",
       "</pre>"
      ]
     },
     "execution_count": 130,
     "metadata": {},
     "output_type": "execute_result"
    },
    {
     "data": {
      "text/html": [
       "<pre style=\"color:slategray;max-height:100px;overflow:hidden\" \n",
       "onclick=\"\n",
       "if (this.style.maxHeight === 'none') \n",
       "    this.style.maxHeight = '100px';\n",
       "else\n",
       "    this.style.maxHeight = 'none'; \n",
       "\">val eclairage2_nonsat : eclairage = [1; 2; 3; 5; 6]\n",
       "</pre>"
      ]
     },
     "execution_count": 130,
     "metadata": {},
     "output_type": "execute_result"
    }
   ],
   "source": [
    "let eclairage1_nonsat : eclairage = [\n",
    "    2; 4; 8\n",
    "];;\n",
    "\n",
    "let eclairage2_nonsat : eclairage = [\n",
    "    1; 2; 3; 5; 6\n",
    "];;"
   ]
  },
  {
   "cell_type": "markdown",
   "metadata": {},
   "source": [
    "### Vérification\n",
    "\n",
    "On pourrait écrire une première fonction pour vérifier que le graphe est bien valide, selon la représentation décrite ci-dessus, en vérifiant :\n",
    "- que les places forment bien l'ensemble $\\{0,\\dots,n-1\\}$,\n",
    "- que chaque rue n'est présente qu'une fois dans les listes d'adjacences $V[u]$,\n",
    "- qu'aucune place inconnue n'est dans une liste $V[u]$,\n",
    "- et que le graphe est bien symétrique non-orienté, i.e., que $u \\in V[u] \\Leftrightarrow v \\in V[u]$.\n",
    "\n",
    "... Mais le sujet n'exige rien de tout ça, donc on passe directement à la question demandée."
   ]
  },
  {
   "cell_type": "markdown",
   "metadata": {},
   "source": [
    "Quelques fonctions utiles :"
   ]
  },
  {
   "cell_type": "code",
   "execution_count": 131,
   "metadata": {},
   "outputs": [
    {
     "data": {
      "text/html": [
       "<pre style=\"color:slategray;max-height:100px;overflow:hidden\" \n",
       "onclick=\"\n",
       "if (this.style.maxHeight === 'none') \n",
       "    this.style.maxHeight = '100px';\n",
       "else\n",
       "    this.style.maxHeight = 'none'; \n",
       "\">val somme : int list -&gt; int = &lt;fun&gt;\n",
       "</pre>"
      ]
     },
     "execution_count": 131,
     "metadata": {},
     "output_type": "execute_result"
    }
   ],
   "source": [
    "let somme =\n",
    "    List.fold_left (+) 0\n",
    ";;"
   ]
  },
  {
   "cell_type": "markdown",
   "metadata": {},
   "source": [
    "On met en place, facilement, l'algorithme décrit plus haut.\n",
    "Une approche très simple, en trois étapes :\n",
    "\n",
    "1. compter le nombre de rues,\n",
    "2. pour chaque place éclairée, compter le nombre de rues qui en partent (et qui sont donc éclairées),\n",
    "3. s'il y a (au moins) une rue non éclairée, renvoyer `false`, sinon renvoyer `true`.\n"
   ]
  },
  {
   "cell_type": "markdown",
   "metadata": {},
   "source": [
    "Il y a une finesse : en comptant une fois les rues dont les deux côtés sont éclairés, et deux fois les rues dont un seul côté est éclairé, on peut comparer au nombre de rues comptées doubles.\n",
    "\n",
    "C'est légérement sous-optimal, comme on va devoir vérifier (en temps linéaire en la de l'éclairage) si chaque rue a un ou deux côté éclairés.\n",
    "Mais on gagne en mémoire puisqu'on a n'a pas à construire une représentation de toutes les rues."
   ]
  },
  {
   "cell_type": "code",
   "execution_count": 132,
   "metadata": {},
   "outputs": [
    {
     "data": {
      "text/html": [
       "<pre style=\"color:slategray;max-height:100px;overflow:hidden\" \n",
       "onclick=\"\n",
       "if (this.style.maxHeight === 'none') \n",
       "    this.style.maxHeight = '100px';\n",
       "else\n",
       "    this.style.maxHeight = 'none'; \n",
       "\">val compte_simple_ou_double : place -&gt; rues -&gt; eclairage -&gt; int = &lt;fun&gt;\n",
       "</pre>"
      ]
     },
     "execution_count": 132,
     "metadata": {},
     "output_type": "execute_result"
    }
   ],
   "source": [
    "let compte_simple_ou_double (ici : place) (voisines : rues) (proposition : eclairage) =\n",
    "    somme\n",
    "    (List.map (fun voisine -> \n",
    "        if List.mem voisine proposition\n",
    "        then 1\n",
    "        else 2\n",
    "    ) voisines)\n",
    ";;"
   ]
  },
  {
   "cell_type": "code",
   "execution_count": 133,
   "metadata": {},
   "outputs": [
    {
     "data": {
      "text/html": [
       "<pre style=\"color:slategray;max-height:100px;overflow:hidden\" \n",
       "onclick=\"\n",
       "if (this.style.maxHeight === 'none') \n",
       "    this.style.maxHeight = '100px';\n",
       "else\n",
       "    this.style.maxHeight = 'none'; \n",
       "\">val verifie_eclairage : ville -&gt; eclairage -&gt; bool * int * int = &lt;fun&gt;\n",
       "</pre>"
      ]
     },
     "execution_count": 133,
     "metadata": {},
     "output_type": "execute_result"
    }
   ],
   "source": [
    "let verifie_eclairage (graphe : ville) (proposition : eclairage) : bool =\n",
    "    (* 1. compter le nombre de rues *)\n",
    "    let nombre_rues =\n",
    "        List.fold_left (fun a b -> a + (List.length b)) 0 (graphe)\n",
    "        (* (List.length (List.flatten graphe)) *)\n",
    "    in\n",
    "    (* 2. pour chaque place *éclairée*, compter le nombre de rues qui en partent *)\n",
    "    let nombre_rues_eclairees =\n",
    "        somme\n",
    "        (List.map (fun place_eclairee ->\n",
    "            compte_simple_ou_double\n",
    "            place_eclairee\n",
    "            (List.nth graphe place_eclairee)\n",
    "            proposition\n",
    "        ) proposition)\n",
    "    in\n",
    "    (* 3. s'il y a (au moins) une rue non éclairée, renvoyer [false], sinon renvoyer [true] *)\n",
    "    nombre_rues <= nombre_rues_eclairees\n",
    ";;"
   ]
  },
  {
   "cell_type": "markdown",
   "metadata": {},
   "source": [
    "### Exemples\n",
    "\n",
    "Avec le graphe définit plus haut, et les deux propositions d'éclairages :"
   ]
  },
  {
   "cell_type": "code",
   "execution_count": 134,
   "metadata": {},
   "outputs": [
    {
     "data": {
      "text/html": [
       "<pre style=\"color:slategray;max-height:100px;overflow:hidden\" \n",
       "onclick=\"\n",
       "if (this.style.maxHeight === 'none') \n",
       "    this.style.maxHeight = '100px';\n",
       "else\n",
       "    this.style.maxHeight = 'none'; \n",
       "\">- : ville =\n",
       "[[2]; [2; 3; 6]; [0; 1]; [1; 4]; [3; 5]; [1; 4; 6; 8]; [1; 5; 7]; [6; 8];\n",
       " [5; 7]]\n",
       "</pre>"
      ]
     },
     "execution_count": 134,
     "metadata": {},
     "output_type": "execute_result"
    }
   ],
   "source": [
    "graphe1;;"
   ]
  },
  {
   "cell_type": "markdown",
   "metadata": {},
   "source": [
    "#### Pour des éclairages valides.\n",
    "\n",
    "- Le premier est trivialement valide, on éclaire toutes les places donc toutes les rues sont bien éclairées."
   ]
  },
  {
   "cell_type": "code",
   "execution_count": 135,
   "metadata": {},
   "outputs": [
    {
     "data": {
      "text/html": [
       "<pre style=\"color:slategray;max-height:100px;overflow:hidden\" \n",
       "onclick=\"\n",
       "if (this.style.maxHeight === 'none') \n",
       "    this.style.maxHeight = '100px';\n",
       "else\n",
       "    this.style.maxHeight = 'none'; \n",
       "\">- : eclairage = [0; 1; 2; 3; 4; 5; 6; 7; 8]\n",
       "</pre>"
      ]
     },
     "execution_count": 135,
     "metadata": {},
     "output_type": "execute_result"
    },
    {
     "data": {
      "text/html": [
       "<pre style=\"color:slategray;max-height:100px;overflow:hidden\" \n",
       "onclick=\"\n",
       "if (this.style.maxHeight === 'none') \n",
       "    this.style.maxHeight = '100px';\n",
       "else\n",
       "    this.style.maxHeight = 'none'; \n",
       "\">- : rues list =\n",
       "[[2]; [2; 3; 6]; [0; 1]; [1; 4]; [3; 5]; [1; 4; 6; 8]; [1; 5; 7]; [6; 8];\n",
       " [5; 7]]\n",
       "</pre>"
      ]
     },
     "execution_count": 135,
     "metadata": {},
     "output_type": "execute_result"
    },
    {
     "data": {
      "text/html": [
       "<pre style=\"color:slategray;max-height:100px;overflow:hidden\" \n",
       "onclick=\"\n",
       "if (this.style.maxHeight === 'none') \n",
       "    this.style.maxHeight = '100px';\n",
       "else\n",
       "    this.style.maxHeight = 'none'; \n",
       "\">- : bool * int * int = (true, 21, 21)\n",
       "</pre>"
      ]
     },
     "execution_count": 135,
     "metadata": {},
     "output_type": "execute_result"
    }
   ],
   "source": [
    "eclairage1_sat;;\n",
    "List.map (fun place_eclairee -> List.nth graphe1 place_eclairee) eclairage1_sat;;\n",
    "\n",
    "verifie_eclairage graphe1 eclairage1_sat;;    (* true *)"
   ]
  },
  {
   "cell_type": "markdown",
   "metadata": {},
   "source": [
    "- Le second est moins trivial, mais en vérifiant à la main sur le graphe on voit qu'il fonctionne.\n",
    "  + On a juste éteint la place $0$, mais l'arête $0-1$ reste éclairée par la place $1$,\n",
    "  + la place $4$ mais les arêtes $3-4$ et $4-5$ sont éclairées par les places $3$ et $5$,\n",
    "  + et la place $7$ mais les arêtes $6-7$ et $7-8$ sont éclairées par les places $6$ et $8$."
   ]
  },
  {
   "cell_type": "code",
   "execution_count": 136,
   "metadata": {},
   "outputs": [
    {
     "data": {
      "text/html": [
       "<pre style=\"color:slategray;max-height:100px;overflow:hidden\" \n",
       "onclick=\"\n",
       "if (this.style.maxHeight === 'none') \n",
       "    this.style.maxHeight = '100px';\n",
       "else\n",
       "    this.style.maxHeight = 'none'; \n",
       "\">- : eclairage = [1; 2; 3; 5; 6; 8]\n",
       "</pre>"
      ]
     },
     "execution_count": 136,
     "metadata": {},
     "output_type": "execute_result"
    },
    {
     "data": {
      "text/html": [
       "<pre style=\"color:slategray;max-height:100px;overflow:hidden\" \n",
       "onclick=\"\n",
       "if (this.style.maxHeight === 'none') \n",
       "    this.style.maxHeight = '100px';\n",
       "else\n",
       "    this.style.maxHeight = 'none'; \n",
       "\">- : rues list = [[2; 3; 6]; [0; 1]; [1; 4]; [1; 4; 6; 8]; [1; 5; 7]; [5; 7]]\n",
       "</pre>"
      ]
     },
     "execution_count": 136,
     "metadata": {},
     "output_type": "execute_result"
    },
    {
     "data": {
      "text/html": [
       "<pre style=\"color:slategray;max-height:100px;overflow:hidden\" \n",
       "onclick=\"\n",
       "if (this.style.maxHeight === 'none') \n",
       "    this.style.maxHeight = '100px';\n",
       "else\n",
       "    this.style.maxHeight = 'none'; \n",
       "\">- : bool * int * int = (true, 21, 21)\n",
       "</pre>"
      ]
     },
     "execution_count": 136,
     "metadata": {},
     "output_type": "execute_result"
    }
   ],
   "source": [
    "eclairage2_sat;;\n",
    "List.map (fun place_eclairee -> List.nth graphe1 place_eclairee) eclairage2_sat;;\n",
    "\n",
    "verifie_eclairage graphe1 eclairage2_sat;;    (* true *)"
   ]
  },
  {
   "cell_type": "code",
   "execution_count": 142,
   "metadata": {},
   "outputs": [
    {
     "data": {
      "text/html": [
       "<pre style=\"color:slategray;max-height:100px;overflow:hidden\" \n",
       "onclick=\"\n",
       "if (this.style.maxHeight === 'none') \n",
       "    this.style.maxHeight = '100px';\n",
       "else\n",
       "    this.style.maxHeight = 'none'; \n",
       "\">val eclairage3_sat : eclairage = [2; 3; 5; 6; 7]\n",
       "</pre>"
      ]
     },
     "execution_count": 142,
     "metadata": {},
     "output_type": "execute_result"
    },
    {
     "data": {
      "text/html": [
       "<pre style=\"color:slategray;max-height:100px;overflow:hidden\" \n",
       "onclick=\"\n",
       "if (this.style.maxHeight === 'none') \n",
       "    this.style.maxHeight = '100px';\n",
       "else\n",
       "    this.style.maxHeight = 'none'; \n",
       "\">- : rues list = [[0; 1]; [1; 4]; [1; 4; 6; 8]; [1; 5; 7]; [6; 8]]\n",
       "</pre>"
      ]
     },
     "execution_count": 142,
     "metadata": {},
     "output_type": "execute_result"
    },
    {
     "data": {
      "text/html": [
       "<pre style=\"color:slategray;max-height:100px;overflow:hidden\" \n",
       "onclick=\"\n",
       "if (this.style.maxHeight === 'none') \n",
       "    this.style.maxHeight = '100px';\n",
       "else\n",
       "    this.style.maxHeight = 'none'; \n",
       "\">- : bool * int * int = (true, 21, 22)\n",
       "</pre>"
      ]
     },
     "execution_count": 142,
     "metadata": {},
     "output_type": "execute_result"
    }
   ],
   "source": [
    "let eclairage3_sat : eclairage = [\n",
    "    2; 3; 5; 6; 7;\n",
    "];;\n",
    "\n",
    "List.map (fun place_eclairee -> List.nth graphe1 place_eclairee) eclairage3_sat;;\n",
    "\n",
    "verifie_eclairage graphe1 eclairage3_sat;;    (* true *)"
   ]
  },
  {
   "cell_type": "markdown",
   "metadata": {},
   "source": [
    "#### Pour des éclairages non valides :\n",
    "\n",
    "- Clairement, le premier est trop gourmand et on a éteint trop de place."
   ]
  },
  {
   "cell_type": "code",
   "execution_count": 143,
   "metadata": {},
   "outputs": [
    {
     "data": {
      "text/html": [
       "<pre style=\"color:slategray;max-height:100px;overflow:hidden\" \n",
       "onclick=\"\n",
       "if (this.style.maxHeight === 'none') \n",
       "    this.style.maxHeight = '100px';\n",
       "else\n",
       "    this.style.maxHeight = 'none'; \n",
       "\">- : eclairage = [2; 4; 8]\n",
       "</pre>"
      ]
     },
     "execution_count": 143,
     "metadata": {},
     "output_type": "execute_result"
    },
    {
     "data": {
      "text/html": [
       "<pre style=\"color:slategray;max-height:100px;overflow:hidden\" \n",
       "onclick=\"\n",
       "if (this.style.maxHeight === 'none') \n",
       "    this.style.maxHeight = '100px';\n",
       "else\n",
       "    this.style.maxHeight = 'none'; \n",
       "\">- : rues list = [[0; 1]; [3; 5]; [5; 7]]\n",
       "</pre>"
      ]
     },
     "execution_count": 143,
     "metadata": {},
     "output_type": "execute_result"
    },
    {
     "data": {
      "text/html": [
       "<pre style=\"color:slategray;max-height:100px;overflow:hidden\" \n",
       "onclick=\"\n",
       "if (this.style.maxHeight === 'none') \n",
       "    this.style.maxHeight = '100px';\n",
       "else\n",
       "    this.style.maxHeight = 'none'; \n",
       "\">- : bool * int * int = (false, 21, 12)\n",
       "</pre>"
      ]
     },
     "execution_count": 143,
     "metadata": {},
     "output_type": "execute_result"
    }
   ],
   "source": [
    "eclairage1_nonsat;;\n",
    "List.map (fun place_eclairee -> List.nth graphe1 place_eclairee) eclairage1_nonsat;;\n",
    "\n",
    "verifie_eclairage graphe1 eclairage1_nonsat;;   (* false *)"
   ]
  },
  {
   "cell_type": "markdown",
   "metadata": {},
   "source": [
    "- Le second semble bon, mais la rue $8-9$ par exemple est éteinte."
   ]
  },
  {
   "cell_type": "code",
   "execution_count": 144,
   "metadata": {},
   "outputs": [
    {
     "data": {
      "text/html": [
       "<pre style=\"color:slategray;max-height:100px;overflow:hidden\" \n",
       "onclick=\"\n",
       "if (this.style.maxHeight === 'none') \n",
       "    this.style.maxHeight = '100px';\n",
       "else\n",
       "    this.style.maxHeight = 'none'; \n",
       "\">- : eclairage = [1; 2; 3; 5; 6]\n",
       "</pre>"
      ]
     },
     "execution_count": 144,
     "metadata": {},
     "output_type": "execute_result"
    },
    {
     "data": {
      "text/html": [
       "<pre style=\"color:slategray;max-height:100px;overflow:hidden\" \n",
       "onclick=\"\n",
       "if (this.style.maxHeight === 'none') \n",
       "    this.style.maxHeight = '100px';\n",
       "else\n",
       "    this.style.maxHeight = 'none'; \n",
       "\">- : rues list = [[2; 3; 6]; [0; 1]; [1; 4]; [1; 4; 6; 8]; [1; 5; 7]]\n",
       "</pre>"
      ]
     },
     "execution_count": 144,
     "metadata": {},
     "output_type": "execute_result"
    },
    {
     "data": {
      "text/html": [
       "<pre style=\"color:slategray;max-height:100px;overflow:hidden\" \n",
       "onclick=\"\n",
       "if (this.style.maxHeight === 'none') \n",
       "    this.style.maxHeight = '100px';\n",
       "else\n",
       "    this.style.maxHeight = 'none'; \n",
       "\">- : bool * int * int = (false, 21, 19)\n",
       "</pre>"
      ]
     },
     "execution_count": 144,
     "metadata": {},
     "output_type": "execute_result"
    }
   ],
   "source": [
    "eclairage2_nonsat;;\n",
    "List.map (fun place_eclairee -> List.nth graphe1 place_eclairee) eclairage2_nonsat;;\n",
    "\n",
    "verifie_eclairage graphe1 eclairage2_nonsat;;   (* false *)"
   ]
  },
  {
   "cell_type": "markdown",
   "metadata": {},
   "source": [
    "### Bonus : vérifier que le graphe est valide\n",
    "Bon... par acquis de conscience, on implémente l'étape de vérification évoquée plus haut.\n",
    "\n",
    "D'abord, quelques fonctions utiles :"
   ]
  },
  {
   "cell_type": "code",
   "execution_count": 21,
   "metadata": {},
   "outputs": [
    {
     "data": {
      "text/html": [
       "<pre style=\"color:slategray;max-height:100px;overflow:hidden\" \n",
       "onclick=\"\n",
       "if (this.style.maxHeight === 'none') \n",
       "    this.style.maxHeight = '100px';\n",
       "else\n",
       "    this.style.maxHeight = 'none'; \n",
       "\">val max_liste : int list -&gt; int = &lt;fun&gt;\n",
       "</pre>"
      ]
     },
     "execution_count": 21,
     "metadata": {},
     "output_type": "execute_result"
    }
   ],
   "source": [
    "let max_liste (liste : int list) : int =\n",
    "    List.fold_left max (-max_int) liste\n",
    ";;"
   ]
  },
  {
   "cell_type": "code",
   "execution_count": 22,
   "metadata": {},
   "outputs": [
    {
     "data": {
      "text/html": [
       "<pre style=\"color:slategray;max-height:100px;overflow:hidden\" \n",
       "onclick=\"\n",
       "if (this.style.maxHeight === 'none') \n",
       "    this.style.maxHeight = '100px';\n",
       "else\n",
       "    this.style.maxHeight = 'none'; \n",
       "\">- : int = 123\n",
       "</pre>"
      ]
     },
     "execution_count": 22,
     "metadata": {},
     "output_type": "execute_result"
    }
   ],
   "source": [
    "max_liste [123; 12; 1];;"
   ]
  },
  {
   "cell_type": "code",
   "execution_count": 27,
   "metadata": {},
   "outputs": [
    {
     "data": {
      "text/html": [
       "<pre style=\"color:slategray;max-height:100px;overflow:hidden\" \n",
       "onclick=\"\n",
       "if (this.style.maxHeight === 'none') \n",
       "    this.style.maxHeight = '100px';\n",
       "else\n",
       "    this.style.maxHeight = 'none'; \n",
       "\">val max_liste_liste : int list list -&gt; int = &lt;fun&gt;\n",
       "</pre>"
      ]
     },
     "execution_count": 27,
     "metadata": {},
     "output_type": "execute_result"
    }
   ],
   "source": [
    "let max_liste_liste (listeliste : int list list) : int =\n",
    "    max_liste (List.flatten listeliste) \n",
    ";;"
   ]
  },
  {
   "cell_type": "code",
   "execution_count": 28,
   "metadata": {},
   "outputs": [
    {
     "data": {
      "text/html": [
       "<pre style=\"color:slategray;max-height:100px;overflow:hidden\" \n",
       "onclick=\"\n",
       "if (this.style.maxHeight === 'none') \n",
       "    this.style.maxHeight = '100px';\n",
       "else\n",
       "    this.style.maxHeight = 'none'; \n",
       "\">- : int = 1234\n",
       "</pre>"
      ]
     },
     "execution_count": 28,
     "metadata": {},
     "output_type": "execute_result"
    }
   ],
   "source": [
    "max_liste_liste [[123; 12; 1]; [1234; 13]];;"
   ]
  },
  {
   "cell_type": "code",
   "execution_count": 30,
   "metadata": {
    "scrolled": true
   },
   "outputs": [
    {
     "data": {
      "text/html": [
       "<pre style=\"color:slategray;max-height:100px;overflow:hidden\" \n",
       "onclick=\"\n",
       "if (this.style.maxHeight === 'none') \n",
       "    this.style.maxHeight = '100px';\n",
       "else\n",
       "    this.style.maxHeight = 'none'; \n",
       "\">- : bool = true\n",
       "</pre>"
      ]
     },
     "execution_count": 30,
     "metadata": {},
     "output_type": "execute_result"
    }
   ],
   "source": [
    "List.for_all (fun x -> (0 <= x) && (x < 1235)) (List.flatten [[123; 12; 1]; [1234; 13]])"
   ]
  },
  {
   "cell_type": "code",
   "execution_count": 34,
   "metadata": {},
   "outputs": [
    {
     "data": {
      "text/html": [
       "<pre style=\"color:slategray;max-height:100px;overflow:hidden\" \n",
       "onclick=\"\n",
       "if (this.style.maxHeight === 'none') \n",
       "    this.style.maxHeight = '100px';\n",
       "else\n",
       "    this.style.maxHeight = 'none'; \n",
       "\">val compte_occurences : int list -&gt; int -&gt; int = &lt;fun&gt;\n",
       "</pre>"
      ]
     },
     "execution_count": 34,
     "metadata": {},
     "output_type": "execute_result"
    }
   ],
   "source": [
    "let compte_occurences (liste : int list) (x : int) =\n",
    "    let rec aux xs x acc =\n",
    "        match xs with\n",
    "        | [] -> acc\n",
    "        | y :: ys when y == x -> aux ys x (acc + 1)\n",
    "        | _ :: ys -> aux ys x acc\n",
    "    in\n",
    "    aux liste x 0\n",
    ";;"
   ]
  },
  {
   "cell_type": "code",
   "execution_count": 36,
   "metadata": {},
   "outputs": [
    {
     "data": {
      "text/html": [
       "<pre style=\"color:slategray;max-height:100px;overflow:hidden\" \n",
       "onclick=\"\n",
       "if (this.style.maxHeight === 'none') \n",
       "    this.style.maxHeight = '100px';\n",
       "else\n",
       "    this.style.maxHeight = 'none'; \n",
       "\">- : int = 1\n",
       "</pre>"
      ]
     },
     "execution_count": 36,
     "metadata": {},
     "output_type": "execute_result"
    },
    {
     "data": {
      "text/html": [
       "<pre style=\"color:slategray;max-height:100px;overflow:hidden\" \n",
       "onclick=\"\n",
       "if (this.style.maxHeight === 'none') \n",
       "    this.style.maxHeight = '100px';\n",
       "else\n",
       "    this.style.maxHeight = 'none'; \n",
       "\">- : int = 0\n",
       "</pre>"
      ]
     },
     "execution_count": 36,
     "metadata": {},
     "output_type": "execute_result"
    },
    {
     "data": {
      "text/html": [
       "<pre style=\"color:slategray;max-height:100px;overflow:hidden\" \n",
       "onclick=\"\n",
       "if (this.style.maxHeight === 'none') \n",
       "    this.style.maxHeight = '100px';\n",
       "else\n",
       "    this.style.maxHeight = 'none'; \n",
       "\">- : int = 2\n",
       "</pre>"
      ]
     },
     "execution_count": 36,
     "metadata": {},
     "output_type": "execute_result"
    }
   ],
   "source": [
    "compte_occurences [1; 2; 3; 4; 5] 1;;\n",
    "compte_occurences [1; 2; 3; 4; 5] 10;;\n",
    "compte_occurences [1; 2; 3; 4; 5; 1; 6; 7] 1;;"
   ]
  },
  {
   "cell_type": "markdown",
   "metadata": {},
   "source": [
    "Puis, la vérification annoncée :"
   ]
  },
  {
   "cell_type": "code",
   "execution_count": 95,
   "metadata": {},
   "outputs": [
    {
     "data": {
      "text/html": [
       "<pre style=\"color:slategray;max-height:100px;overflow:hidden\" \n",
       "onclick=\"\n",
       "if (this.style.maxHeight === 'none') \n",
       "    this.style.maxHeight = '100px';\n",
       "else\n",
       "    this.style.maxHeight = 'none'; \n",
       "\">val graphe_valide : ville -&gt; bool = &lt;fun&gt;\n",
       "</pre>"
      ]
     },
     "execution_count": 95,
     "metadata": {},
     "output_type": "execute_result"
    }
   ],
   "source": [
    "let graphe_valide (graphe : ville) : bool =\n",
    "    let n = max_liste_liste graphe in\n",
    "    (* D'abord, on vérifie qu'il y a exactement n + 1 listes de places voisines *)\n",
    "    let test1 =\n",
    "        (List.length graphe) = (n + 1)\n",
    "    in\n",
    "    (* Ensuite, on vérifie que toutes les places voisines sont bien dans des places valides *)\n",
    "    let test2 =\n",
    "        List.for_all (\n",
    "            fun x -> (0 <= x) && (x <= n)\n",
    "        ) (List.flatten graphe)\n",
    "    in\n",
    "    (* Enfin, on vérifie qu'une place voisine v n'est présente qu'une fois dans V[u] *)\n",
    "    let test3 =\n",
    "        List.for_all (\n",
    "            fun voisines -> List.for_all (\n",
    "                fun place ->\n",
    "                    (compte_occurences voisines place) = 1\n",
    "            ) voisines\n",
    "        ) graphe\n",
    "    in\n",
    "    (* test1, test2, test3 *)\n",
    "    test1 && test2 && test3\n",
    ";;"
   ]
  },
  {
   "cell_type": "code",
   "execution_count": 46,
   "metadata": {},
   "outputs": [
    {
     "data": {
      "text/html": [
       "<pre style=\"color:slategray;max-height:100px;overflow:hidden\" \n",
       "onclick=\"\n",
       "if (this.style.maxHeight === 'none') \n",
       "    this.style.maxHeight = '100px';\n",
       "else\n",
       "    this.style.maxHeight = 'none'; \n",
       "\">- : ville =\n",
       "[[2]; [2; 3; 6]; [0; 1]; [1; 3]; [3; 5]; [1; 4; 6; 8]; [1; 5; 7]; [6; 8];\n",
       " [5; 7]]\n",
       "</pre>"
      ]
     },
     "execution_count": 46,
     "metadata": {},
     "output_type": "execute_result"
    }
   ],
   "source": [
    "graphe1;;"
   ]
  },
  {
   "cell_type": "code",
   "execution_count": 47,
   "metadata": {},
   "outputs": [
    {
     "data": {
      "text/html": [
       "<pre style=\"color:slategray;max-height:100px;overflow:hidden\" \n",
       "onclick=\"\n",
       "if (this.style.maxHeight === 'none') \n",
       "    this.style.maxHeight = '100px';\n",
       "else\n",
       "    this.style.maxHeight = 'none'; \n",
       "\">- : bool = true\n",
       "</pre>"
      ]
     },
     "execution_count": 47,
     "metadata": {},
     "output_type": "execute_result"
    }
   ],
   "source": [
    "graphe_valide graphe1;;"
   ]
  },
  {
   "cell_type": "markdown",
   "metadata": {},
   "source": [
    "On doit aussi tester trois cas de graphes qui contredisent un de chaque test :"
   ]
  },
  {
   "cell_type": "markdown",
   "metadata": {},
   "source": [
    "- S'il manque une place dans la liste d'adjacence :"
   ]
  },
  {
   "cell_type": "code",
   "execution_count": 89,
   "metadata": {},
   "outputs": [
    {
     "data": {
      "text/html": [
       "<pre style=\"color:slategray;max-height:100px;overflow:hidden\" \n",
       "onclick=\"\n",
       "if (this.style.maxHeight === 'none') \n",
       "    this.style.maxHeight = '100px';\n",
       "else\n",
       "    this.style.maxHeight = 'none'; \n",
       "\">val graphe2 : ville =\n",
       "  [[2]; [2; 3; 6]; [0; 1]; [1; 3]; [3; 5]; [1; 4; 6; 8]; [1; 5; 7]; [6; 8]]\n",
       "</pre>"
      ]
     },
     "execution_count": 89,
     "metadata": {},
     "output_type": "execute_result"
    }
   ],
   "source": [
    "let graphe2 : ville = [\n",
    "    [2];           (* place 0 *)\n",
    "    [2; 3; 6];     (* place 1 *)\n",
    "    [0; 1];        (* place 2 *)\n",
    "    [1; 3];        (* place 3 *)\n",
    "    [3; 5];        (* place 4 *)\n",
    "    [1; 4; 6; 8];  (* place 5 *)\n",
    "    [1; 5; 7];     (* place 6 *)\n",
    "    [6; 8];        (* place 7 *)\n",
    "                   (* place 8 absente ! *)\n",
    "];;"
   ]
  },
  {
   "cell_type": "code",
   "execution_count": 90,
   "metadata": {},
   "outputs": [
    {
     "data": {
      "text/html": [
       "<pre style=\"color:slategray;max-height:100px;overflow:hidden\" \n",
       "onclick=\"\n",
       "if (this.style.maxHeight === 'none') \n",
       "    this.style.maxHeight = '100px';\n",
       "else\n",
       "    this.style.maxHeight = 'none'; \n",
       "\">- : bool = false\n",
       "</pre>"
      ]
     },
     "execution_count": 90,
     "metadata": {},
     "output_type": "execute_result"
    }
   ],
   "source": [
    "graphe_valide graphe2;;"
   ]
  },
  {
   "cell_type": "markdown",
   "metadata": {},
   "source": [
    "- Si la liste d'adjacence est trop grande :"
   ]
  },
  {
   "cell_type": "code",
   "execution_count": 93,
   "metadata": {},
   "outputs": [
    {
     "data": {
      "text/html": [
       "<pre style=\"color:slategray;max-height:100px;overflow:hidden\" \n",
       "onclick=\"\n",
       "if (this.style.maxHeight === 'none') \n",
       "    this.style.maxHeight = '100px';\n",
       "else\n",
       "    this.style.maxHeight = 'none'; \n",
       "\">val graphe3 : ville =\n",
       "  [[2]; [2; 3; 6]; [0; 1]; [1; 3]; [3; 5]; [1; 4; 6; 8]; [1; 5; 7]; [6; 8];\n",
       "   [5; 7]; [5; 7]]\n",
       "</pre>"
      ]
     },
     "execution_count": 93,
     "metadata": {},
     "output_type": "execute_result"
    }
   ],
   "source": [
    "let graphe3 : ville = [\n",
    "    [2];           (* place 0 *)\n",
    "    [2; 3; 6];     (* place 1 *)\n",
    "    [0; 1];        (* place 2 *)\n",
    "    [1; 3];        (* place 3 *)\n",
    "    [3; 5];        (* place 4 *)\n",
    "    [1; 4; 6; 8];  (* place 5 *)\n",
    "    [1; 5; 7];     (* place 6 *)\n",
    "    [6; 8];        (* place 7 *)\n",
    "    [5; 7];        (* place 8 absente ! *)\n",
    "    [5; 7]         (* place 9 ?! *)\n",
    "];;"
   ]
  },
  {
   "cell_type": "code",
   "execution_count": 94,
   "metadata": {},
   "outputs": [
    {
     "data": {
      "text/html": [
       "<pre style=\"color:slategray;max-height:100px;overflow:hidden\" \n",
       "onclick=\"\n",
       "if (this.style.maxHeight === 'none') \n",
       "    this.style.maxHeight = '100px';\n",
       "else\n",
       "    this.style.maxHeight = 'none'; \n",
       "\">- : bool = false\n",
       "</pre>"
      ]
     },
     "execution_count": 94,
     "metadata": {},
     "output_type": "execute_result"
    }
   ],
   "source": [
    "graphe_valide graphe3;;"
   ]
  },
  {
   "cell_type": "markdown",
   "metadata": {},
   "source": [
    "- Si une des places voisines n'est pas valide :"
   ]
  },
  {
   "cell_type": "code",
   "execution_count": 97,
   "metadata": {},
   "outputs": [
    {
     "data": {
      "text/html": [
       "<pre style=\"color:slategray;max-height:100px;overflow:hidden\" \n",
       "onclick=\"\n",
       "if (this.style.maxHeight === 'none') \n",
       "    this.style.maxHeight = '100px';\n",
       "else\n",
       "    this.style.maxHeight = 'none'; \n",
       "\">val graphe4 : ville =\n",
       "  [[2]; [2; 3; 6]; [0; 1]; [1; 3]; [3; 5]; [1; 4; 6; 8]; [1; 5; 7]; [6; 8];\n",
       "   [50]]\n",
       "</pre>"
      ]
     },
     "execution_count": 97,
     "metadata": {},
     "output_type": "execute_result"
    }
   ],
   "source": [
    "let graphe4 : ville = [\n",
    "    [2];           (* place 0 *)\n",
    "    [2; 3; 6];     (* place 1 *)\n",
    "    [0; 1];        (* place 2 *)\n",
    "    [1; 3];        (* place 3 *)\n",
    "    [3; 5];        (* place 4 *)\n",
    "    [1; 4; 6; 8];  (* place 5 *)\n",
    "    [1; 5; 7];     (* place 6 *)\n",
    "    [6; 8];        (* place 7 *)\n",
    "    [50]           (* place 8 -> 50 ?! *)\n",
    "];;"
   ]
  },
  {
   "cell_type": "code",
   "execution_count": 98,
   "metadata": {},
   "outputs": [
    {
     "data": {
      "text/html": [
       "<pre style=\"color:slategray;max-height:100px;overflow:hidden\" \n",
       "onclick=\"\n",
       "if (this.style.maxHeight === 'none') \n",
       "    this.style.maxHeight = '100px';\n",
       "else\n",
       "    this.style.maxHeight = 'none'; \n",
       "\">- : bool = false\n",
       "</pre>"
      ]
     },
     "execution_count": 98,
     "metadata": {},
     "output_type": "execute_result"
    }
   ],
   "source": [
    "graphe_valide graphe4;;"
   ]
  },
  {
   "cell_type": "markdown",
   "metadata": {},
   "source": [
    "- Et enfin, si une des listes d'adjacence contient deux fois la même place voisine :"
   ]
  },
  {
   "cell_type": "code",
   "execution_count": 99,
   "metadata": {},
   "outputs": [
    {
     "data": {
      "text/html": [
       "<pre style=\"color:slategray;max-height:100px;overflow:hidden\" \n",
       "onclick=\"\n",
       "if (this.style.maxHeight === 'none') \n",
       "    this.style.maxHeight = '100px';\n",
       "else\n",
       "    this.style.maxHeight = 'none'; \n",
       "\">val graphe5 : ville =\n",
       "  [[2]; [2; 3; 6]; [0; 1]; [1; 3]; [3; 5]; [1; 4; 6; 8]; [1; 5; 7]; [6; 8];\n",
       "   [5; 7; 5]]\n",
       "</pre>"
      ]
     },
     "execution_count": 99,
     "metadata": {},
     "output_type": "execute_result"
    }
   ],
   "source": [
    "let graphe5 : ville = [\n",
    "    [2];           (* place 0 *)\n",
    "    [2; 3; 6];     (* place 1 *)\n",
    "    [0; 1];        (* place 2 *)\n",
    "    [1; 3];        (* place 3 *)\n",
    "    [3; 5];        (* place 4 *)\n",
    "    [1; 4; 6; 8];  (* place 5 *)\n",
    "    [1; 5; 7];     (* place 6 *)\n",
    "    [6; 8];        (* place 7 *)\n",
    "    [5; 7; 5]      (* place 8 -> 5 deux fois ! *)\n",
    "];;"
   ]
  },
  {
   "cell_type": "code",
   "execution_count": 100,
   "metadata": {},
   "outputs": [
    {
     "data": {
      "text/html": [
       "<pre style=\"color:slategray;max-height:100px;overflow:hidden\" \n",
       "onclick=\"\n",
       "if (this.style.maxHeight === 'none') \n",
       "    this.style.maxHeight = '100px';\n",
       "else\n",
       "    this.style.maxHeight = 'none'; \n",
       "\">- : bool = false\n",
       "</pre>"
      ]
     },
     "execution_count": 100,
     "metadata": {},
     "output_type": "execute_result"
    }
   ],
   "source": [
    "graphe_valide graphe5;;"
   ]
  },
  {
   "cell_type": "markdown",
   "metadata": {},
   "source": [
    "----\n",
    "## Bonus : énumération de tous les éclairages possibles\n",
    "\n",
    "Pour de tous petits graphes, on peut suivre l'approche naïve qui consiste à énumérer toutes les possibilités, et renvoyer celle de nombre de lampadaires minimal.\n",
    "\n",
    "On pourra ensuite vérifier avec la fonction précédente que l'éclairage donné est bien valide."
   ]
  },
  {
   "cell_type": "markdown",
   "metadata": {},
   "source": [
    "> <span style=\"color:red;\">FIXME write it!</span>"
   ]
  },
  {
   "cell_type": "markdown",
   "metadata": {},
   "source": [
    "### Énumération des éclairages possibles\n",
    "\n",
    "Un éclairage est un sous-ensemble, potentiellement vide, de $\\{0,\\dots,n-1\\}$.\n",
    "Il y en a $2^n$ en tout.\n",
    "\n",
    "Comment les générer efficacement ?"
   ]
  },
  {
   "cell_type": "code",
   "execution_count": null,
   "metadata": {
    "collapsed": true
   },
   "outputs": [],
   "source": []
  },
  {
   "cell_type": "code",
   "execution_count": null,
   "metadata": {
    "collapsed": true
   },
   "outputs": [],
   "source": []
  },
  {
   "cell_type": "code",
   "execution_count": null,
   "metadata": {
    "collapsed": true
   },
   "outputs": [],
   "source": []
  },
  {
   "cell_type": "markdown",
   "metadata": {},
   "source": [
    "### Trouver un éclairage optimal"
   ]
  },
  {
   "cell_type": "code",
   "execution_count": null,
   "metadata": {
    "collapsed": true
   },
   "outputs": [],
   "source": []
  },
  {
   "cell_type": "code",
   "execution_count": null,
   "metadata": {
    "collapsed": true
   },
   "outputs": [],
   "source": []
  },
  {
   "cell_type": "code",
   "execution_count": null,
   "metadata": {
    "collapsed": true
   },
   "outputs": [],
   "source": []
  },
  {
   "cell_type": "markdown",
   "metadata": {},
   "source": [
    "### Exemples"
   ]
  },
  {
   "cell_type": "code",
   "execution_count": null,
   "metadata": {
    "collapsed": true
   },
   "outputs": [],
   "source": []
  },
  {
   "cell_type": "code",
   "execution_count": null,
   "metadata": {
    "collapsed": true
   },
   "outputs": [],
   "source": []
  },
  {
   "cell_type": "code",
   "execution_count": null,
   "metadata": {
    "collapsed": true
   },
   "outputs": [],
   "source": []
  },
  {
   "cell_type": "markdown",
   "metadata": {},
   "source": [
    "----\n",
    "## Complexités en temps et espace (bonus)\n",
    "\n",
    "Il est toujours utile de préciser, rapidement à l'oral et/ou dans le code (un commentaire suffit) les complexité (ou ordre de grandeur) des fonctions exigées par l'énoncé.\n",
    "\n",
    "> Le*s* complexité*s* ? Oui, il ne faut pas oublier l'espace (trop souvent négligé !).\n",
    "\n",
    "Si vous n'êtes pas sûr ou ne savez pas comment le justifier, mieux vaut marquer :\n",
    "\n",
    "> « Probablement en $\\mathcal{O}(n)$ en temps et en espace. »\n",
    "\n",
    "que de marquer :\n",
    "\n",
    "> « En $\\mathcal{O}(n^2)$ en temps et en espace. »"
   ]
  },
  {
   "cell_type": "markdown",
   "metadata": {},
   "source": [
    "### En temps\n",
    "- La fonction de vérification proposée est linéaire en temps en le nombre de rues. C'est optimal pour vérifier que toutes les rues sont bien éclairées."
   ]
  },
  {
   "cell_type": "markdown",
   "metadata": {},
   "source": [
    "### En espace\n",
    "- La fonction de vérification proposée est aussi linéaire en espace en la taille du graphe."
   ]
  },
  {
   "cell_type": "markdown",
   "metadata": {},
   "source": [
    "----\n",
    "## Conclusion\n",
    "\n",
    "Voilà pour la question obligatoire de programmation.\n",
    "\n",
    "### Qualités\n",
    "- On a décomposé le problème en sous-fonctions,\n",
    "- on a fait des exemples et *on les garde* dans ce qu'on présente au jury,\n",
    "- on a testé la fonction exigée sur différents exemples.\n",
    "\n",
    "### Défauts\n",
    "- ?\n",
    "\n",
    "### Ouverture\n",
    "> Bien-sûr, ce petit notebook ne se prétend pas être une solution optimale, ni exhaustive."
   ]
  }
 ],
 "metadata": {
  "kernelspec": {
   "display_name": "OCaml",
   "language": "ocaml",
   "name": "iocaml-kernel"
  },
  "language_info": {
   "name": "ocaml",
   "version": "4.1.0"
  },
  "notify_time": "10",
  "toc": {
   "colors": {
    "hover_highlight": "#DAA520",
    "running_highlight": "#FF0000",
    "selected_highlight": "#FFD700"
   },
   "moveMenuLeft": true,
   "nav_menu": {
    "height": "429px",
    "width": "251px"
   },
   "navigate_menu": true,
   "number_sections": true,
   "sideBar": true,
   "threshold": 4,
   "toc_cell": true,
   "toc_position": {
    "height": "598px",
    "left": "0px",
    "right": "1258.47px",
    "top": "117px",
    "width": "212px"
   },
   "toc_section_display": "block",
   "toc_window_display": true
  }
 },
 "nbformat": 4,
 "nbformat_minor": 2
}
