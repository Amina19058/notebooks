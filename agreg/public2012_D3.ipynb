{
 "cells": [
  {
   "cell_type": "markdown",
   "metadata": {},
   "source": [
    "# Agrégation externe de mathématiques, texte d’exercice diffusé en 2012\n",
    "## Épreuve de modélisation, option informatique\n",
    "\n",
    "> - Ce [notebook Jupyter](http://jupyter.org/) est une correction [non officielle](https://github.com/Naereen/notebooks/tree/master/agreg) d'un texte de modélisation pour l'option informatique de l'agrégation externe de mathématiques.\n",
    "> - Il s'agit du texte [public2012-D3](http://agreg.org/Textes/public2012-D3.pdf).\n",
    "> - Cette tentative de correction partielle a été rédigée par [Lilian Besson](http://perso.crans.org/besson/) ([sur GitHub ?](https://github.com/Naereen/), [sur Bitbucket ?](https://bitbucket.org/lbesson)), et [est open-source](https://github.com/Naereen/notebooks/blob/master/agreg/public2012_D3.ipynb).\n",
    "\n",
    "> #### Feedbacks?\n",
    "> - Vous avez trouvé un bug ? -> [Signalez-le moi svp !](https://github.com/Naereen/notebooks/issues/new), merci d'avance.\n",
    "> - Vous avez une question ? -> [Posez la svp !](https://github.com/Naereen/ama.fr) [![Ask Me Anything](https://img.shields.io/badge/ask%20me-anything-1abc9c.svg)](https://github.com/Naereen/ama.fr)\n",
    "\n",
    "----"
   ]
  },
  {
   "cell_type": "markdown",
   "metadata": {},
   "source": [
    "## *Proposition* d'implémentation, en [Python 3](https://docs.python.org/3/)\n",
    "### Pour [l'option informatique (D)](http://www.dit.ens-rennes.fr/agregation-option-d/programme-de-l-option-informatique-de-l-agregation-de-mathematiques-48358.kjsp) de l'[agrégation de mathématiques](http://agreg.org/) (en France). \n",
    "\n",
    "**Attention** : ce document ne prétend pas être LA correction du texte, mais **un exemple de solution**.\n",
    "\n",
    "----"
   ]
  },
  {
   "cell_type": "markdown",
   "metadata": {},
   "source": [
    "## 0. Dépendances et importation de modules"
   ]
  },
  {
   "cell_type": "code",
   "execution_count": 89,
   "metadata": {
    "collapsed": true
   },
   "outputs": [],
   "source": [
    "import numpy as np\n",
    "import numpy.random as random\n",
    "import matplotlib.pyplot as plt"
   ]
  },
  {
   "cell_type": "markdown",
   "metadata": {},
   "source": [
    "## 1. Jeux de Nim\n",
    "### Représentation des configurations\n",
    "On va d'abord écrire une fonction toute simple qui affiche une configuration, en mode texte.\n",
    "Si on a le temps, on en fera une qui affiche joliment dans une fenêtre graphique (avec [matplotlib](http://www.matplotlib.org))."
   ]
  },
  {
   "cell_type": "code",
   "execution_count": 80,
   "metadata": {
    "collapsed": true
   },
   "outputs": [],
   "source": [
    "def print_nim(configuration):\n",
    "    \"\"\" Affiche une configuration, donnée sous forme d'une liste d'entiers. \"\"\"\n",
    "    for i, nb in enumerate(configuration):\n",
    "        print(i, ':', '!' * nb)"
   ]
  },
  {
   "cell_type": "markdown",
   "metadata": {},
   "source": [
    "On peut définir et afficher deux exemples de configuration d'un jeu de Nim, venant de la figure 1."
   ]
  },
  {
   "cell_type": "code",
   "execution_count": 81,
   "metadata": {
    "collapsed": false
   },
   "outputs": [
    {
     "name": "stdout",
     "output_type": "stream",
     "text": [
      "0 : !\n",
      "1 : !!!\n",
      "2 : !!!!!\n"
     ]
    }
   ],
   "source": [
    "a = [1, 3, 5]\n",
    "print_nim(a)"
   ]
  },
  {
   "cell_type": "code",
   "execution_count": 82,
   "metadata": {
    "collapsed": false
   },
   "outputs": [
    {
     "name": "stdout",
     "output_type": "stream",
     "text": [
      "0 : !\n",
      "1 : !!!\n",
      "2 : !!\n"
     ]
    }
   ],
   "source": [
    "b = [1, 3, 2]\n",
    "print_nim(b)"
   ]
  },
  {
   "cell_type": "markdown",
   "metadata": {},
   "source": [
    "### Fonction de Sprague-Grundy pour le jeu de Nim\n",
    "Elle est donnée par le corollaire 1. en page 6/7 du texte.\n",
    "On a besoin du **xor** (*\"ou exclusif\"*, cf [cette page](https://fr.wikipedia.org/wiki/Fonction_OU_exclusif)), obtenu en Python avec l'opérateur ``^`` :\n",
    "\n",
    "$$ \\gamma(\\mathrm{Nim}(x_1, \\dots, x_k)) := \\bigoplus_{i=1}^{k} x_i = x_1 \\oplus \\dots \\oplus x_k. $$"
   ]
  },
  {
   "cell_type": "markdown",
   "metadata": {},
   "source": [
    "Petit rappel sur cette fonction **xor** :"
   ]
  },
  {
   "cell_type": "code",
   "execution_count": 59,
   "metadata": {
    "collapsed": false
   },
   "outputs": [
    {
     "name": "stdout",
     "output_type": "stream",
     "text": [
      "False XOR False = False ^ False = False\n",
      "False XOR  True = False ^  True =  True\n",
      " True XOR False =  True ^ False =  True\n",
      " True XOR  True =  True ^  True = False\n"
     ]
    }
   ],
   "source": [
    "from itertools import product\n",
    "\n",
    "for b1, b2 in product([False, True], repeat=2):\n",
    "    print(\"{!s:>5} XOR {!s:>5} = {!s:>5} ^ {!s:>5} = {!s:>5}\".format(b1, b2, b1, b2, b1 ^ b2))\n",
    "# Ce morceau de code est un peu fancy mais concis et joli, cf. https://pyformat.info/#string_pad_align"
   ]
  },
  {
   "cell_type": "markdown",
   "metadata": {},
   "source": [
    "D'apres le corollaire 1., il suffit d'appliquer un **xor** à chaque valeur du tableau pour calculer $\\gamma$ :"
   ]
  },
  {
   "cell_type": "code",
   "execution_count": 60,
   "metadata": {
    "collapsed": false
   },
   "outputs": [],
   "source": [
    "def gamma(configuration):\n",
    "    \"\"\" Fonction gamma de Sprague-Grundy pour le jeu de Nim. \"\"\"\n",
    "    resultat = 0\n",
    "    for nb in configuration:\n",
    "        resultat = (resultat ^ nb) % 2  # On reste binaire\n",
    "    return resultat"
   ]
  },
  {
   "cell_type": "code",
   "execution_count": 61,
   "metadata": {
    "collapsed": false
   },
   "outputs": [
    {
     "name": "stdout",
     "output_type": "stream",
     "text": [
      "Gamma(a) = 1\n",
      "Gamma(b) = 0\n"
     ]
    }
   ],
   "source": [
    "print(\"Gamma(a) =\", gamma(a))\n",
    "print(\"Gamma(b) =\", gamma(b))"
   ]
  },
  {
   "cell_type": "markdown",
   "metadata": {},
   "source": [
    "### Déterminer un coup à jouer selon une stratégie gagnante (s'il y en a une)\n",
    "On suit l'algorithme proposé par le texte, qui utilise la fonction $\\gamma$ sur la configuration pour savoir s'il y a une stratégie ou non (d'après la proposition 5.), et ensuite si elle existe on doit trouver un coup qui ammene $\\gamma$ à 0.\n",
    "\n",
    "On a d'abord besoin d'une exception pour signaler s'il n'y a pas de stratégie gagnante, et du calcul du nombre minimal d'allumette à enlever."
   ]
  },
  {
   "cell_type": "code",
   "execution_count": 62,
   "metadata": {
    "collapsed": true
   },
   "outputs": [],
   "source": [
    "class PasDeStratGagnante(Exception):\n",
    "    \"\"\" Exception renvoyée s'il n'y a pas de stratégie gagnante. \"\"\"\n",
    "    pass"
   ]
  },
  {
   "cell_type": "code",
   "execution_count": 63,
   "metadata": {
    "collapsed": true
   },
   "outputs": [],
   "source": [
    "def tronquer(n):\n",
    "    \"\"\" Calcule le nombre minimum d'allumette à enlever.\"\"\"\n",
    "    return 2 ** int(np.floor(np.log2(n)))"
   ]
  },
  {
   "cell_type": "code",
   "execution_count": 64,
   "metadata": {
    "collapsed": false
   },
   "outputs": [
    {
     "data": {
      "text/plain": [
       "4"
      ]
     },
     "execution_count": 64,
     "metadata": {},
     "output_type": "execute_result"
    }
   ],
   "source": [
    "tronquer(5)  # = 4"
   ]
  },
  {
   "cell_type": "code",
   "execution_count": 65,
   "metadata": {
    "collapsed": false
   },
   "outputs": [
    {
     "data": {
      "text/plain": [
       "8"
      ]
     },
     "execution_count": 65,
     "metadata": {},
     "output_type": "execute_result"
    }
   ],
   "source": [
    "tronquer(13)  # = 8"
   ]
  },
  {
   "cell_type": "markdown",
   "metadata": {},
   "source": [
    "#### Stratégie optimale"
   ]
  },
  {
   "cell_type": "code",
   "execution_count": 168,
   "metadata": {
    "collapsed": true
   },
   "outputs": [],
   "source": [
    "def optimal(configuration, joueur=0):\n",
    "    \"\"\" Essaie de trouver un coup à jouer pour le joueur 0 ou 1, et renvoit la configuration modifiée.\"\"\"\n",
    "    g = gamma(configuration)\n",
    "    if g == 0:\n",
    "        print(\"Il n'y a pas de stratégie gagnante !\")\n",
    "        raise PasDeStratGagnante  # On quitte\n",
    "    print(\"Il y a une stratégie gagnante... Trouvons la !\")\n",
    "    # On chercher le coup à jouer : la ligne la plus longue...\n",
    "    position_max = 0  #  est d'indice position_max\n",
    "    nb_max = configuration[0]  # et a nb_max allumette(s)\n",
    "    for j, nb in enumerate(configuration):\n",
    "        if nb > nb_max:\n",
    "            position_max = j\n",
    "            nb_max = nb\n",
    "    a_enlever = tronquer(nb_max)\n",
    "    # On applique ce coup\n",
    "    print(\"Le joueur courant\", joueur, \"a choisis de retirer\", a_enlever, \"allumettes à la rangée numéro\", position_max)\n",
    "    nouvelle_configuration = configuration[:]\n",
    "    nouvelle_configuration[position_max] -= a_enlever\n",
    "    return nouvelle_configuration"
   ]
  },
  {
   "cell_type": "markdown",
   "metadata": {},
   "source": [
    "On peut tester cette fonction sur nos deux configuration a et b :"
   ]
  },
  {
   "cell_type": "code",
   "execution_count": 169,
   "metadata": {
    "collapsed": false
   },
   "outputs": [
    {
     "name": "stdout",
     "output_type": "stream",
     "text": [
      "0 : !\n",
      "1 : !!!\n",
      "2 : !!!!!\n",
      "Il y a une stratégie gagnante... Trouvons la !\n",
      "Le joueur courant 0 a choisis de retirer 4 allumettes à la rangée numéro 2\n",
      "0 : !\n",
      "1 : !!!\n",
      "2 : !\n"
     ]
    }
   ],
   "source": [
    "print_nim(a)\n",
    "print_nim(optimal(a, joueur=0))  # Ca joue"
   ]
  },
  {
   "cell_type": "code",
   "execution_count": 170,
   "metadata": {
    "collapsed": false
   },
   "outputs": [
    {
     "name": "stdout",
     "output_type": "stream",
     "text": [
      "0 : !\n",
      "1 : !!!\n",
      "2 : !!\n",
      "Il n'y a pas de stratégie gagnante !\n"
     ]
    },
    {
     "ename": "PasDeStratGagnante",
     "evalue": "",
     "output_type": "error",
     "traceback": [
      "\u001b[1;31m---------------------------------------------------------------------------\u001b[0m",
      "\u001b[1;31mPasDeStratGagnante\u001b[0m                        Traceback (most recent call last)",
      "\u001b[1;32m<ipython-input-170-47da47747e0e>\u001b[0m in \u001b[0;36m<module>\u001b[1;34m()\u001b[0m\n\u001b[0;32m      1\u001b[0m \u001b[0mprint_nim\u001b[0m\u001b[1;33m(\u001b[0m\u001b[0mb\u001b[0m\u001b[1;33m)\u001b[0m\u001b[1;33m\u001b[0m\u001b[0m\n\u001b[1;32m----> 2\u001b[1;33m \u001b[0mprint_nim\u001b[0m\u001b[1;33m(\u001b[0m\u001b[0moptimal\u001b[0m\u001b[1;33m(\u001b[0m\u001b[0mb\u001b[0m\u001b[1;33m,\u001b[0m \u001b[0mjoueur\u001b[0m\u001b[1;33m=\u001b[0m\u001b[1;36m0\u001b[0m\u001b[1;33m)\u001b[0m\u001b[1;33m)\u001b[0m  \u001b[1;31m# Pas de stratégie gagnante ici !\u001b[0m\u001b[1;33m\u001b[0m\u001b[0m\n\u001b[0m",
      "\u001b[1;32m<ipython-input-168-adbbbeeb8e44>\u001b[0m in \u001b[0;36moptimal\u001b[1;34m(configuration, joueur)\u001b[0m\n\u001b[0;32m      4\u001b[0m     \u001b[1;32mif\u001b[0m \u001b[0mg\u001b[0m \u001b[1;33m==\u001b[0m \u001b[1;36m0\u001b[0m\u001b[1;33m:\u001b[0m\u001b[1;33m\u001b[0m\u001b[0m\n\u001b[0;32m      5\u001b[0m         \u001b[0mprint\u001b[0m\u001b[1;33m(\u001b[0m\u001b[1;34m\"Il n'y a pas de stratégie gagnante !\"\u001b[0m\u001b[1;33m)\u001b[0m\u001b[1;33m\u001b[0m\u001b[0m\n\u001b[1;32m----> 6\u001b[1;33m         \u001b[1;32mraise\u001b[0m \u001b[0mPasDeStratGagnante\u001b[0m\u001b[1;33m\u001b[0m\u001b[0m\n\u001b[0m\u001b[0;32m      7\u001b[0m     \u001b[0mprint\u001b[0m\u001b[1;33m(\u001b[0m\u001b[1;34m\"Il y a une stratégie gagnante... Trouvons la !\"\u001b[0m\u001b[1;33m)\u001b[0m\u001b[1;33m\u001b[0m\u001b[0m\n\u001b[0;32m      8\u001b[0m     \u001b[1;31m# On chercher le coup à jouer : la ligne la plus longue...\u001b[0m\u001b[1;33m\u001b[0m\u001b[1;33m\u001b[0m\u001b[0m\n",
      "\u001b[1;31mPasDeStratGagnante\u001b[0m: "
     ]
    }
   ],
   "source": [
    "print_nim(b)\n",
    "print_nim(optimal(b, joueur=0))  # Pas de stratégie gagnante ici !"
   ]
  },
  {
   "cell_type": "markdown",
   "metadata": {},
   "source": [
    "### Stratégie stupide\n",
    "Dans le but de comparer cette fonction qui implémente une stratégie optimale, on implémente aussi une stratégie complétement aléatoire (\"Dummy player\")."
   ]
  },
  {
   "cell_type": "code",
   "execution_count": 145,
   "metadata": {
    "collapsed": true
   },
   "outputs": [],
   "source": [
    "def stupide(configuration, joueur=0):\n",
    "    \"\"\" Choisit un coup aléatoire (uniforme) pour le joueur 0 ou 1, et renvoit la configuration modifiée.\"\"\"\n",
    "    # On choisit le coup à jouer : ligne random, nb d'allumette(s) random...\n",
    "    lignes_non_vides = [i for i, c in enumerate(configuration) if c > 0]\n",
    "    position_random = random.choice(lignes_non_vides)\n",
    "    print(\"Le joueur\", joueur, \"aléatoire uniforme a choisis de regarder la ligne\", position_random)\n",
    "    total = configuration[position_random]\n",
    "    a_enlever = random.randint(1, 1 + total)\n",
    "    print(\"Le joueur\", joueur, \"aléatoire uniforme a choisis de retirer\", a_enlever, \"allumettes parmi les\", total, \"disponibles\")\n",
    "    # On applique ce coup\n",
    "    nouvelle_configuration = configuration[:]\n",
    "    nouvelle_configuration[position_random] -= a_enlever\n",
    "    return nouvelle_configuration"
   ]
  },
  {
   "cell_type": "markdown",
   "metadata": {},
   "source": [
    "On peut ainsi faire un exemple de début de partie entre deux joueurs \"stupides\" :"
   ]
  },
  {
   "cell_type": "code",
   "execution_count": 146,
   "metadata": {
    "collapsed": false
   },
   "outputs": [
    {
     "name": "stdout",
     "output_type": "stream",
     "text": [
      "0 : !\n",
      "1 : !!!\n",
      "2 : !!!!!\n",
      "Le joueur 0 aléatoire uniforme a choisis de regarder la ligne 0\n",
      "Le joueur 0 aléatoire uniforme a choisis de retirer 1 allumettes parmi les 1 disponibles\n",
      "0 : \n",
      "1 : !!!\n",
      "2 : !!!!!\n",
      "Le joueur 1 aléatoire uniforme a choisis de regarder la ligne 2\n",
      "Le joueur 1 aléatoire uniforme a choisis de retirer 1 allumettes parmi les 5 disponibles\n",
      "0 : \n",
      "1 : !!!\n",
      "2 : !!!!\n",
      "Le joueur 0 aléatoire uniforme a choisis de regarder la ligne 2\n",
      "Le joueur 0 aléatoire uniforme a choisis de retirer 4 allumettes parmi les 4 disponibles\n",
      "0 : \n",
      "1 : !!!\n",
      "2 : \n"
     ]
    }
   ],
   "source": [
    "random.seed(0)  # Assure la reproductibilité des résultats.\n",
    "a0 = a  # Debut du jeu\n",
    "print_nim(a0)\n",
    "a1 = stupide(a0, joueur=0)\n",
    "print_nim(a1)\n",
    "a2 = stupide(a1, joueur=1)\n",
    "print_nim(a2)\n",
    "a3 = stupide(a2, joueur=0)\n",
    "print_nim(a3)\n",
    "# ... etc"
   ]
  },
  {
   "cell_type": "markdown",
   "metadata": {},
   "source": [
    "On peut aussi faire le meme exemple de début de partie entre un joueur \"optimal\" et un joueur \"stupide\" :"
   ]
  },
  {
   "cell_type": "code",
   "execution_count": 171,
   "metadata": {
    "collapsed": false
   },
   "outputs": [
    {
     "name": "stdout",
     "output_type": "stream",
     "text": [
      "0 : !\n",
      "1 : !!!\n",
      "2 : !!!!!\n",
      "Il y a une stratégie gagnante... Trouvons la !\n",
      "Le joueur courant 0 a choisis de retirer 4 allumettes à la rangée numéro 2\n",
      "0 : !\n",
      "1 : !!!\n",
      "2 : !\n",
      "Le joueur 1 aléatoire uniforme a choisis de regarder la ligne 0\n",
      "Le joueur 1 aléatoire uniforme a choisis de retirer 1 allumettes parmi les 1 disponibles\n",
      "0 : \n",
      "1 : !!!\n",
      "2 : !\n"
     ]
    }
   ],
   "source": [
    "random.seed(0)  # Assure la reproductibilité des résultats.\n",
    "a0 = a  # Debut du jeu\n",
    "print_nim(a0)\n",
    "a1 = optimal(a0, joueur=0)\n",
    "print_nim(a1)\n",
    "a2 = stupide(a1, joueur=1)\n",
    "print_nim(a2)\n",
    "# ... etc"
   ]
  },
  {
   "cell_type": "markdown",
   "metadata": {},
   "source": [
    "### Un bonus : *simulation du jeu*\n",
    "Maintenant qu'on dispose d'un joueur stupide et d'un joueur optimal, on peut rapidement coder une petite fonction qui les fera s'affronter (même si c'est un peu cruel envers le pauvre joueur \"stupide\" purement aléatoire !)."
   ]
  },
  {
   "cell_type": "code",
   "execution_count": 148,
   "metadata": {
    "collapsed": true
   },
   "outputs": [],
   "source": [
    "class Perdu(Exception):\n",
    "    \"\"\" Représente le joueur numero i qui a perdu.\"\"\"\n",
    "    def __init__(self, numero):\n",
    "        self.numero = numero\n",
    "\n",
    "    def __str__(self):\n",
    "        return \"Le joueur {} a perdu !\".format(self.numero)"
   ]
  },
  {
   "cell_type": "markdown",
   "metadata": {},
   "source": [
    "La fonction ``simule`` va jouer la partie, en partant de la configuration donnée, en commençant par le joueur ``numero`` et pour un certain nombre de coups joués (``nb_coups``).\n",
    "Si on ne donne pas ce nombre de coups, le nombre total d'allumette est utilisé (sachant qu'une partie se termine souvent par une exception ``PasDeStratGagnante`` lorsque le joueur optimal ne peut plus gagner)."
   ]
  },
  {
   "cell_type": "code",
   "execution_count": 172,
   "metadata": {
    "collapsed": true
   },
   "outputs": [],
   "source": [
    "def simule(configuration, numero=0, nb_coups=None):\n",
    "    \"\"\" Simule le jeu de Nim, alternant un joeur malin et un joueur stupide. \"\"\"\n",
    "    config = configuration[:]  # On ne change pas la liste donnee en argument !\n",
    "    # Si on n'a pas donne le nb de coups max, on calcule une borne :\n",
    "    if nb_coups is None:\n",
    "        nb_coups = sum(configuration)\n",
    "    print(\"Début de la simulation pour maximum\", nb_coups, \"coups.\")\n",
    "    # On lance la simulation\n",
    "    for coup in range(1, 1 + nb_coups):\n",
    "        print(\"\\n# Tour numéro\", coup)\n",
    "        print_nim(config)\n",
    "        # On perd si on ne peut plus enlever d'allumettes\n",
    "        if sum(config) == 0:\n",
    "            raise Perdu(numero)\n",
    "        else:\n",
    "            if numero == 0:  # Joueur malin\n",
    "                config = optimal(config, joueur=numero)\n",
    "            else:  # Joueur stupide\n",
    "                config = stupide(config, joueur=numero)\n",
    "        # Joueur suivant\n",
    "        numero = int(not numero)  # 0 -> 1, 1 -> 0\n",
    "    # A la fin, la configuration finale est renvoyée.\n",
    "    return config"
   ]
  },
  {
   "cell_type": "markdown",
   "metadata": {},
   "source": [
    "On peut finalement implementer une jolie fonction qui simule en partant du joueur ``0`` (comme le vrai jeu de Nim) et interprète l'exception renvoyée pour afficher l'issue du jeu :"
   ]
  },
  {
   "cell_type": "code",
   "execution_count": 173,
   "metadata": {
    "collapsed": false
   },
   "outputs": [],
   "source": [
    "def nim(configuration):\n",
    "    try:\n",
    "        simule(configuration)\n",
    "    except PasDeStratGagnante:\n",
    "        print(\"==> Blocage car le joueur 0 n'a pas pu trouver de coup gagnant, il déclare forfait (le pleutre !).\")\n",
    "    except Perdu as e:\n",
    "        print(\"==> Le joueur\", e.numero, \"a perdu.\")"
   ]
  },
  {
   "cell_type": "code",
   "execution_count": 118,
   "metadata": {
    "collapsed": false
   },
   "outputs": [
    {
     "name": "stdout",
     "output_type": "stream",
     "text": [
      "Début de la simulation pour maximum 9 coups.\n",
      "\n",
      "# Tour numéro 1\n",
      "0 : !\n",
      "1 : !!!\n",
      "2 : !!!!!\n",
      "Il y a une stratégie gagnante... Trouvons la !\n",
      "Le joueur courant 0 choisis de retirer 4 allumettes à la rangée numéro 2\n",
      "\n",
      "# Tour numéro 2\n",
      "0 : !\n",
      "1 : !!!\n",
      "2 : !\n",
      "Le joueur 1 aléatoire uniforme a choisis de regarder la ligne 1\n",
      "Le joueur 1 aléatoire uniforme a choisis de retirer 2 allumettes parmi les 3 disponibles\n",
      "\n",
      "# Tour numéro 3\n",
      "0 : !\n",
      "1 : !\n",
      "2 : !\n",
      "Il y a une stratégie gagnante... Trouvons la !\n",
      "Le joueur courant 0 choisis de retirer 1 allumettes à la rangée numéro 0\n",
      "\n",
      "# Tour numéro 4\n",
      "0 : \n",
      "1 : !\n",
      "2 : !\n",
      "Le joueur 1 aléatoire uniforme a choisis de regarder la ligne 2\n",
      "Le joueur 1 aléatoire uniforme a choisis de retirer 1 allumettes parmi les 1 disponibles\n",
      "\n",
      "# Tour numéro 5\n",
      "0 : \n",
      "1 : !\n",
      "2 : \n",
      "Il y a une stratégie gagnante... Trouvons la !\n",
      "Le joueur courant 0 choisis de retirer 1 allumettes à la rangée numéro 1\n",
      "\n",
      "# Tour numéro 6\n",
      "0 : \n",
      "1 : \n",
      "2 : \n",
      "==> Le joueur 1 a perdu.\n"
     ]
    }
   ],
   "source": [
    "nim(a)"
   ]
  },
  {
   "cell_type": "code",
   "execution_count": 174,
   "metadata": {
    "collapsed": false
   },
   "outputs": [
    {
     "name": "stdout",
     "output_type": "stream",
     "text": [
      "Début de la simulation pour maximum 6 coups.\n",
      "\n",
      "# Tour numéro 1\n",
      "0 : !\n",
      "1 : !!!\n",
      "2 : !!\n",
      "Il n'y a pas de stratégie gagnante !\n",
      "==> Blocage car le joueur 0 n'a pas pu trouver de coup gagnant, il déclare forfait (le pleutre !).\n"
     ]
    }
   ],
   "source": [
    "nim(b)"
   ]
  },
  {
   "cell_type": "markdown",
   "metadata": {},
   "source": [
    "### Configuration aléatoire\n",
    "On peut écrire une fonction qui génére une configuration aléatoire, et ensuite lancer notre simulation ``nim()`` dessus, pour voir ce que ca donne sur une configuration plus grande."
   ]
  },
  {
   "cell_type": "code",
   "execution_count": 175,
   "metadata": {
    "collapsed": true
   },
   "outputs": [],
   "source": [
    "def config_aleatoire(nb_ligne, nb_max_allumette):\n",
    "    \"\"\" Configuration aléatoire, chaque ligne est uniformément tirée dans [1, nb_max_allumette] (bornes incluses).\"\"\"\n",
    "    return list(random.randint(1, 1 + nb_max_allumette, nb_ligne))"
   ]
  },
  {
   "cell_type": "code",
   "execution_count": 184,
   "metadata": {
    "collapsed": false,
    "scrolled": false
   },
   "outputs": [
    {
     "name": "stdout",
     "output_type": "stream",
     "text": [
      "Configuration random c :\n",
      "0 : !!!!\n",
      "1 : !\n",
      "2 : !!\n",
      "3 : !!!!\n",
      "Début de la simulation pour maximum 11 coups.\n",
      "\n",
      "# Tour numéro 1\n",
      "0 : !!!!\n",
      "1 : !\n",
      "2 : !!\n",
      "3 : !!!!\n",
      "Il y a une stratégie gagnante... Trouvons la !\n",
      "Le joueur courant 0 a choisis de retirer 4 allumettes à la rangée numéro 0\n",
      "\n",
      "# Tour numéro 2\n",
      "0 : \n",
      "1 : !\n",
      "2 : !!\n",
      "3 : !!!!\n",
      "Le joueur 1 aléatoire uniforme a choisis de regarder la ligne 2\n",
      "Le joueur 1 aléatoire uniforme a choisis de retirer 2 allumettes parmi les 2 disponibles\n",
      "\n",
      "# Tour numéro 3\n",
      "0 : \n",
      "1 : !\n",
      "2 : \n",
      "3 : !!!!\n",
      "Il y a une stratégie gagnante... Trouvons la !\n",
      "Le joueur courant 0 a choisis de retirer 4 allumettes à la rangée numéro 3\n",
      "\n",
      "# Tour numéro 4\n",
      "0 : \n",
      "1 : !\n",
      "2 : \n",
      "3 : \n",
      "Le joueur 1 aléatoire uniforme a choisis de regarder la ligne 1\n",
      "Le joueur 1 aléatoire uniforme a choisis de retirer 1 allumettes parmi les 1 disponibles\n",
      "\n",
      "# Tour numéro 5\n",
      "0 : \n",
      "1 : \n",
      "2 : \n",
      "3 : \n",
      "==> Le joueur 0 a perdu.\n"
     ]
    }
   ],
   "source": [
    "c = config_aleatoire(4, 4)\n",
    "print(\"Configuration random c :\")\n",
    "print_nim(c)\n",
    "nim(c)"
   ]
  },
  {
   "cell_type": "markdown",
   "metadata": {},
   "source": [
    "*Oui, c'est la honte, le joueur 0 (qui utilise une stratégie optimale) vient de perdre en 5 coups face à un joueur aléatoire...*"
   ]
  },
  {
   "cell_type": "markdown",
   "metadata": {},
   "source": [
    "----\n",
    "\n",
    "## Conclusion\n",
    "C'est tout ce que j'avais eu le temps d'implémenter durant les 4h de préparation (texte préparé en juin 2014 dans les vraies conditions en oraux blanc, code initial en OCaml mais je n'ai rien changé).\n",
    "\n",
    "Quelques remarques :\n",
    "\n",
    "- durant l'épreuve de modélisation, vous êtes libres de faire ce que vous voulez, la seule partie requise est dans le paragraphe **Exercice de programmation** (ici, il s'agissait d'implémenter une fonction similaire à ``optimal()`` (cf. plus haut).\n",
    "- les quelques développements supplémentaires traites ci-dessus (stratégie stupide, configuration aléatoire, simulation de jeu), ne sont qu'une suggestion de ce qui pouvait être fait sur ce texte,\n",
    "- d'autres suggestions sont possibles, si vous avez des idées, [envoyez-moi vos notebooks !](https://github.com/Naereen/notebooks/pulls)\n",
    "\n",
    "## Attention :\n",
    "Les 40 minutes de passage au tableau ne doivent PAS être uniquement consacrée à la présentation de vos expériences sur l'ordinateur !\n",
    "\n",
    "Il faut aussi :\n",
    "\n",
    "- faire une introduction générale (citer des mots clés),\n",
    "- présenter le plan de votre présentation,\n",
    "- introduire les notations, les objectifs et les résultats donnés par le texte,\n",
    "- prouver ou exposer des développements **theoriques** personnels (à choisir parmi la liste proposée, mais pas seulement),\n",
    "- etc."
   ]
  },
  {
   "cell_type": "markdown",
   "metadata": {},
   "source": [
    "----\n",
    "\n",
    "> *C'est tout pour aujourd'hui les amis !*\n",
    "> [Allez voir d'autres notebooks](../) si vous voulez."
   ]
  }
 ],
 "metadata": {
  "kernelspec": {
   "display_name": "Python 3",
   "language": "python",
   "name": "python3"
  },
  "language_info": {
   "codemirror_mode": {
    "name": "ipython",
    "version": 3
   },
   "file_extension": ".py",
   "mimetype": "text/x-python",
   "name": "python",
   "nbconvert_exporter": "python",
   "pygments_lexer": "ipython3",
   "version": "3.4.3+"
  }
 },
 "nbformat": 4,
 "nbformat_minor": 0
}
