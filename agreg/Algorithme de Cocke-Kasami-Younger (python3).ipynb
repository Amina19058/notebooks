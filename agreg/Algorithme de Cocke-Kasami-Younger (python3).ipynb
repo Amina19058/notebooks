{
 "cells": [
  {
   "cell_type": "markdown",
   "metadata": {},
   "source": [
    "# Agrégation externe de mathématiques, texte d’exercice diffusé en 2012\n",
    "## Leçon orale, option informatique\n",
    "\n",
    "> - Ce [notebook Jupyter](http://jupyter.org/) est une implémentation d'un algorithme constituant un développement pour l'option informatique de l'agrégation externe de mathématiques.\n",
    "> - Il s'agit de l'[algorithme de Cocke-Kasami-Younger](https://fr.wikipedia.org/wiki/Algorithme_de_Cocke-Younger-Kasami).\n",
    "> - Cette implémentation (partielle) a été rédigée par [Lilian Besson](http://perso.crans.org/besson/) ([sur GitHub ?](https://github.com/Naereen/), [sur Bitbucket ?](https://bitbucket.org/lbesson)), et [est open-source](https://github.com/Naereen/notebooks/blob/master/agreg/Algorithme%20de%20Cocke-Kasami-Younger%20%28python3%29.ipynb).\n",
    "\n",
    "> #### Feedbacks?\n",
    "> - Vous avez trouvé un bug ? → [Signalez-le moi svp !](https://github.com/Naereen/notebooks/issues/new), merci d'avance.\n",
    "> - Vous avez une question ? → [Posez la svp !](https://github.com/Naereen/ama.fr) [![Ask Me Anything](https://img.shields.io/badge/ask%20me-anything-1abc9c.svg)](https://github.com/Naereen/ama.fr)\n",
    "\n",
    "----"
   ]
  },
  {
   "cell_type": "markdown",
   "metadata": {},
   "source": [
    "# Algorithme de Cocke-Kasami-Younger\n",
    "### Implémentation d'un développement pour les lecons 906, 907, 910, 923.\n",
    "\n",
    "L'algorithme de Cocke-Kasami-Younger (CYK) permet de résoudre le problème du mot en temps $\\mathcal{O}(|w|^3)$, par programmation dynamique.\n",
    "La grammaire $G$ doit déjà avoir été mise en forme de [forme normale de Chomsky](https://fr.wikipedia.org/wiki/Forme_normale_de_Chomsky), ce qui prend un temps $\\mathcal{O}(|G|^2)$ et produit une grammaire équivalente $G'$ de taille $\\mathcal{O}(|G|^2)$ en partant de $G$ (qui doit être bien formée). \n",
    "\n",
    "### Références :\n",
    "- [Cocke-Kasami-Younger sur Wikipedia](https://fr.wikipedia.org/wiki/Algorithme_de_Cocke-Younger-Kasami),\n",
    "- Bien traité dans [\"Hopcroft, Ullman\", Ch7.4.4, p298](https://catalogue.ens-cachan.fr/cgi-bin/koha/opac-detail.pl?biblionumber=23694),\n",
    "- Esquissé dans [\"Carton\", Ex4.7 Fig4.2 p170](https://catalogue.ens-cachan.fr/cgi-bin/koha/opac-detail.pl?biblionumber=41719),\n",
    "- [Développement tapé en PDF par Theo Pierron (2014)](http://perso.eleves.ens-rennes.fr/~tpier758/agreg/dvpt/info/CYK.pdf),\n",
    "- [Ces slides d'un cours sur les langages et les grammaires](http://pageperso.lif.univ-mrs.fr/~alexis.nasr/Ens/M2/pcfg.pdf).\n",
    "\n",
    "----"
   ]
  },
  {
   "cell_type": "markdown",
   "metadata": {},
   "source": [
    "<h2 id=\"tocheading\">Contenu</h2>\n",
    "<div id=\"toc\"></div>"
   ]
  },
  {
   "cell_type": "code",
   "execution_count": 1,
   "metadata": {
    "collapsed": false
   },
   "outputs": [
    {
     "data": {
      "application/javascript": [
       "// https://github.com/kmahelona/ipython_notebook_goodies#1-table-of-contents\n",
       "$.getScript('https://kmahelona.github.io/ipython_notebook_goodies/ipython_notebook_toc.js')"
      ],
      "text/plain": [
       "<IPython.core.display.Javascript object>"
      ]
     },
     "metadata": {},
     "output_type": "display_data"
    }
   ],
   "source": [
    "%%javascript\n",
    "// https://github.com/kmahelona/ipython_notebook_goodies#1-table-of-contents\n",
    "$.getScript('https://kmahelona.github.io/ipython_notebook_goodies/ipython_notebook_toc.js')"
   ]
  },
  {
   "cell_type": "markdown",
   "metadata": {},
   "source": [
    "## 1. Classes pour répresenter une grammaire\n",
    "Au lieu de types formels définis en OCaml, on utilise des classes en Python, pour répresenter une grammaire (pas seulement en forme normale de Chomsky mais dans une forme un peu plus générale)."
   ]
  },
  {
   "cell_type": "markdown",
   "metadata": {},
   "source": [
    "### Du typage en Python ?!\n",
    "Mais comme je veux frimer en utilisant des types formels, on va utiliser des [annotations de types en Python](https://www.python.org/dev/peps/pep-0484/).\n",
    "C'est assez nouveau, disponible **à partir de Python 3.5**. Si vous voulez en savoir plus, une bonne première lecture peut être [cette page](https://mypy.readthedocs.io/en/latest/builtin_types.html).\n",
    "\n",
    "*Note :* ces annotations de types ne sont PAS nécessaires."
   ]
  },
  {
   "cell_type": "code",
   "execution_count": 4,
   "metadata": {
    "collapsed": false
   },
   "outputs": [],
   "source": [
    "# On a besoin de listes et de tuples\n",
    "from typing import List, Tuple  # Module disponible en Python version >= 3.5"
   ]
  },
  {
   "cell_type": "markdown",
   "metadata": {},
   "source": [
    "On définit les types qui nous intéressent :"
   ]
  },
  {
   "cell_type": "code",
   "execution_count": 5,
   "metadata": {
    "collapsed": false
   },
   "outputs": [],
   "source": [
    "# Type pour une variable, juste une chaine, e.g. 'X' ou 'S'\n",
    "Var = str\n",
    "# Type pour un alphabet\n",
    "Alphabet = List[Var]\n",
    "# Type pour une règle : un symbole transformé en une liste de symboles\n",
    "Regle = Tuple[Var, List[Var]]"
   ]
  },
  {
   "cell_type": "markdown",
   "metadata": {},
   "source": [
    "*Note :* ces annotations de types ne sont là que pour illustrer et aider le programmeur, Python reste un langage dynamiquement typé (i.e. on fait ce qu'on veut...)."
   ]
  },
  {
   "cell_type": "markdown",
   "metadata": {},
   "source": [
    "### La classe ``Grammaire``\n",
    "Une grammaire $G$ est définie par :\n",
    "\n",
    "- $\\Sigma$ son alphabet de production, qui sont les lettres dans les mots produits à la fin, e.g., $\\Sigma = \\{ a, b\\}$,\n",
    "- $V$ son alphabet de travail, qui sont les lettres utilisées dans la génération de mots, mais pas dans les mots à la fin, e.g., $V = \\{S, A\\}$,\n",
    "- $S$ est le symbole de travail initial,\n",
    "- $R$ est un ensemble de règles, qui sont de la forme $U \\rightarrow x_1 \\dots x_n$ pour $U \\in V$ une variable de travail (***pas* de production**), et $x_1, \\dots, x_n$ sont variables de production ou de travail (dans $\\Sigma \\cup V$), e.g., $R = \\{ S \\rightarrow \\varepsilon, S \\rightarrow A S b, A \\rightarrow a, A \\rightarrow a a \\}$.\n",
    "\n",
    "\n",
    "Et ainsi on peut definir un classe ``Grammaire``, qui n'est rien d'autre qu'un moyen d'encapsuler ces différentes valeurs $\\Sigma$, $V$, $S$, et $R$ (en OCaml, ce serait un type avec des champs d'enregistrement, défini par exemple par ``type grammar = { sigma : string list; v: string list; s: string; r: (string, strin list) list; };;``).\n",
    "\n",
    "On ajoute aussi une méthode ``__str__`` à cette classe ``Grammaire`` pour afficher la grammaire joliment."
   ]
  },
  {
   "cell_type": "code",
   "execution_count": 6,
   "metadata": {
    "collapsed": false
   },
   "outputs": [],
   "source": [
    "class Grammaire(object):\n",
    "    \"\"\" Type pour les grammaires algébriques (en forme de Chomsky). \"\"\"\n",
    "    def __init__(self, sigma: Alphabet, v: Alphabet, s: Var, r: List[Regle], nom=\"G\"):\n",
    "        \"\"\" Grammaire en forme de Chomsky :\n",
    "            - sigma : alphabet de production, type Alphabet,\n",
    "            - v : alphabet de travail, type Alphabet,\n",
    "            - s : symbol initial, type Var,\n",
    "            - r : liste de règles, type List[Regle].\n",
    "        \"\"\"\n",
    "        # On se contente de stocker les champs :\n",
    "        self.sigma = sigma\n",
    "        self.v = v\n",
    "        self.s = s\n",
    "        self.r = r\n",
    "        self.nom = nom\n",
    "        \n",
    "    def __str__(self) -> str:\n",
    "        \"\"\" Permet d'afficher une grammaire.\"\"\"\n",
    "        str_regles = ', '.join(\n",
    "            \"{} -> {}\".format(regle[0], ''.join(regle[1]) if regle[1] else 'ε')\n",
    "            for regle in self.r\n",
    "        )\n",
    "        return r\"\"\"Grammaire {} :\n",
    "    - Alphabet Σ = {},\n",
    "    - Non terminaux V = {},\n",
    "    - Symbole initial : '{}',\n",
    "    - Règles : {}.\"\"\".format(self.nom, set(self.sigma), set(self.v), self.s, str_regles)"
   ]
  },
  {
   "cell_type": "markdown",
   "metadata": {},
   "source": [
    "### Premier exemple de grammaire (non-Chomsky)\n",
    "On commence avec un premier exemple basique, la grammaire $G_1$ avec pour seule règle : $S \\rightarrow aSb \\;|\\; \\varepsilon$.\n",
    "C'est la grammaire naturelle, bien formée, pour les mots de la forme $a^n b^n$ pour tout $n \\geq 0$.\n",
    "Cf. [cet exemple sur Wikipedia](https://fr.wikipedia.org/wiki/Grammaire_non_contextuelle#Exemple_1).\n",
    "Par contre, elle n'est pas en forme normale de Chomsky."
   ]
  },
  {
   "cell_type": "code",
   "execution_count": 7,
   "metadata": {
    "collapsed": false
   },
   "outputs": [
    {
     "name": "stdout",
     "output_type": "stream",
     "text": [
      "Grammaire G1 :\n",
      "    - Alphabet Σ = {'b', 'a'},\n",
      "    - Non terminaux V = {'S'},\n",
      "    - Symbole initial : 'S',\n",
      "    - Règles : S -> ε, S -> aSb.\n"
     ]
    }
   ],
   "source": [
    "g1 = Grammaire(\n",
    "    ['a', 'b'],  # Alphabet de production\n",
    "    ['S'],       # Alphabet de travail\n",
    "    'S',         # Symbole initial (un seul)\n",
    "    [            # Règles\n",
    "        ('S', []),  # S -> ε\n",
    "        ('S', ['a', 'S', 'b']),  # S -> a S b\n",
    "    ],\n",
    "    nom=\"G1\"\n",
    ")\n",
    "print(g1)"
   ]
  },
  {
   "cell_type": "markdown",
   "metadata": {},
   "source": [
    "### Second exemple de grammaire (non-Chomsky)\n",
    "Voici un autre exemple basique, la grammaire $G_2$ qui engendre les expressions arithmétiques\n",
    "en trois variables $x$, $y$ et $z$, correctement parenthésées.\n",
    "Une seule règle de production, ou une union de règle de production, suffit :\n",
    "    $$ S \\rightarrow x \\;|\\; y \\;|\\; z \\;|\\; S+S \\;|\\; S-S \\;|\\; S∗S \\;|\\; S/S \\;|\\; (S). $$\n",
    "\n",
    "Cf. [cet autre exemple sur Wikipedia](https://fr.wikipedia.org/wiki/Grammaire_non_contextuelle#Exemple_2)."
   ]
  },
  {
   "cell_type": "code",
   "execution_count": 12,
   "metadata": {
    "collapsed": false
   },
   "outputs": [
    {
     "name": "stdout",
     "output_type": "stream",
     "text": [
      "Grammaire G2 :\n",
      "    - Alphabet Σ = {'y', '-', '/', '+', 'x', 'z', '(', ')', '*'},\n",
      "    - Non terminaux V = {'S'},\n",
      "    - Symbole initial : 'S',\n",
      "    - Règles : S -> x, S -> y, S -> z, S -> S+S, S -> S-S, S -> S*S, S -> S/S, S -> (S).\n"
     ]
    }
   ],
   "source": [
    "g2 = Grammaire(\n",
    "    ['x', 'y', 'z', '+', '-', '*', '/', '(', ')'],  # Alphabet de production\n",
    "    ['S'],  # Alphabet de travail\n",
    "    'S',    # Symbole initial (un seul)\n",
    "    [       # Règles\n",
    "        ('S', ['x']),            # S -> x\n",
    "        ('S', ['y']),            # S -> y\n",
    "        ('S', ['z']),            # S -> z\n",
    "        ('S', ['S', '+', 'S']),  # S -> S + S\n",
    "        ('S', ['S', '-', 'S']),  # S -> S - S\n",
    "        ('S', ['S', '*', 'S']),  # S -> S * S\n",
    "        ('S', ['S', '/', 'S']),  # S -> S / S\n",
    "        ('S', ['(', 'S', ')']),   # S -> (S)\n",
    "    ],\n",
    "    nom=\"G2\"\n",
    ")\n",
    "print(g2)"
   ]
  },
  {
   "cell_type": "markdown",
   "metadata": {},
   "source": [
    "### Dernier exemple de grammaire\n",
    "Voici un dernier exemple, moins basique, la grammaire $G_3$ qui engendre des phrases \"simples\" (et très limitées) en anglais.\n",
    "[Inspirée de cet exemple sur Wikipedia (en anglais)](https://en.wikipedia.org/wiki/CYK_algorithm#Example).\n",
    "Cette grammaire $G_3$ est sous forme normale de Chomsky."
   ]
  },
  {
   "cell_type": "code",
   "execution_count": 8,
   "metadata": {
    "collapsed": false,
    "scrolled": true
   },
   "outputs": [
    {
     "name": "stdout",
     "output_type": "stream",
     "text": [
      "Grammaire G3 :\n",
      "    - Alphabet Σ = {'an ', 'she ', 'fish ', 'a ', 'with ', 'ork ', 'eats ', 'fork ', 'sword '},\n",
      "    - Non terminaux V = {'NP ', 'S', 'PP ', 'P ', 'VP ', 'NVo ', 'V ', 'DetVo ', 'N ', 'Det '},\n",
      "    - Symbole initial : 'S',\n",
      "    - Règles : S -> NP VP , VP  -> VP PP , VP  -> V NP , PP  -> P NP , NP  -> Det N , NP  -> DetVo NVo , VP  -> eats , NP  -> she , V  -> eats , P  -> with , N  -> fish , N  -> fork , N  -> sword , NVo  -> ork , Det  -> a , DetVo  -> an .\n"
     ]
    }
   ],
   "source": [
    "g3 = Grammaire(\n",
    "    # Alphabet de production, des vrais mots anglais (avec une espace pour que la phrase soit lisible\n",
    "    ['she ', 'eats ', 'with ', 'fish ', 'fork ', 'a ', 'an ', 'ork ', 'sword '],\n",
    "    # Alphabet de travail, des catégories de mots : V pour verbes, P pour pronom etc.\n",
    "    ['S', 'NP ', 'VP ', 'PP ', 'V ', 'Det ', 'DetVo ', 'N ', 'NVo ', 'P '],\n",
    "    # Det = a : déterminant\n",
    "    # DetVo = an : déterminant avant un nom commençant par une voyelle\n",
    "    # N = (fish, fork, sword) : un nom\n",
    "    # NVo = ork : un nom commençant par une voyelle\n",
    "    # NP = she | a (fish, fork, sword) | an ork : un sujet\n",
    "    # V = eats : verbe conjugué\n",
    "    # P = with : conjonction de coordination\n",
    "    # VP = eats : verbe conjugué suivi d'un objet\n",
    "    # PP : with NP : complément d'objet direct\n",
    "    'S',    # Symbole initial (un seul)\n",
    "    [       # Règles\n",
    "        # Règles de constuction de phrase\n",
    "        ( 'S',      ['NP ', 'VP '] ),      # 'S'  -> 'NP' 'VP'\n",
    "        ( 'VP ',    ['VP ', 'PP '] ),      # 'VP' -> 'VP' 'PP'\n",
    "        ( 'VP ',    ['V ', 'NP '] ),       # 'VP' -> 'V' 'NP'\n",
    "        ( 'PP ',    ['P ', 'NP '] ),       # 'PP' -> 'P' 'NP'\n",
    "        ( 'NP ',    ['Det ', 'N '] ),      # 'NP' -> 'Det' 'N'\n",
    "        ( 'NP ',    ['DetVo ', 'NVo '] ),  # 'NP' -> 'DetVo' 'NVo'\n",
    "        # Règles de création de mots\n",
    "        ( 'VP ',    ['eats '] ),   # 'VP'    -> 'eats '\n",
    "        ( 'NP ',    ['she '] ),    # 'NP'    -> 'she '\n",
    "        ( 'V ',     ['eats '] ),   # 'V'     -> 'eats '\n",
    "        ( 'P ',     ['with '] ),   # 'P'     -> 'with '\n",
    "        ( 'N ',     ['fish '] ),   # 'N'     -> 'fish '\n",
    "        ( 'N ',     ['fork '] ),   # 'N'     -> 'fork '\n",
    "        ( 'N ',     ['sword '] ),  # 'N'     -> 'sword '\n",
    "        ( 'NVo ',   ['ork '] ),    # 'NVo'   -> 'ork '\n",
    "        ( 'Det ',   ['a '] ),      # 'Det'   -> 'a '\n",
    "        ( 'DetVo ', ['an '] ),     # 'DetVo' -> 'an '\n",
    "    ],\n",
    "    nom=\"G3\"\n",
    ")\n",
    "print(g3)"
   ]
  },
  {
   "cell_type": "markdown",
   "metadata": {},
   "source": [
    "Nous utiliserons ces exemples de grammaire plus tard, pour vérifier que nos fonctions sont correctement écrites.\n",
    "\n",
    "----"
   ]
  },
  {
   "cell_type": "markdown",
   "metadata": {},
   "source": [
    "## 2. Vérifier qu'une grammaire est bien formée\n",
    "On veut pouvoir vérifier qu'une grammaire $G$ (i.e., un objet instance de ``Grammaire``) est bien formée (cf. votre cours de langage formel pour une définition propre) :\n",
    "\n",
    "- $S$ doit être une variable de travail, i.e., $S \\in V$,\n",
    "- Les variables de production et les variables de travail doivent être distinctes, i.e., $\\Sigma \\cap V = \\emptyset$,\n",
    "- Pour chaque règle, $r = A \\rightarrow w$, les membres gauches des règles sont réduits à une seule variable de travail, et les membres droits sont des mots, vides ou constitués de variables de production ou de travail, i.e., $A \\in V$, et $w \\in (\\Sigma \\cup V)^{\\star}$,\n",
    "\n",
    "On vérifie ça facilement avec la fonction suivante :"
   ]
  },
  {
   "cell_type": "code",
   "execution_count": 13,
   "metadata": {
    "collapsed": false
   },
   "outputs": [],
   "source": [
    "def estBienFormee(self: Grammaire) -> bool:\n",
    "    \"\"\" Vérifie que G est bien formée. \"\"\"\n",
    "    sigma, v, s, regles = set(self.sigma), set(self.v), self.s, self.r\n",
    "    tests = [\n",
    "        s in v,  # s est bien une variable de travail\n",
    "        sigma.isdisjoint(v),  # Lettres et variables de travail sont disjointes\n",
    "        all(\n",
    "            regle[0] in v  # Les membres gauches de règles sont des variables\n",
    "            and  # Les membres droits de règles sont des variables ou des lettres\n",
    "            all(r in sigma | v for r in regle[1])\n",
    "            for regle in regles\n",
    "        )\n",
    "    ]\n",
    "    return all(tests)\n",
    "\n",
    "# On ajoute la fonction comme une méthode (au cas où...)\n",
    "Grammaire.estBienFormee = estBienFormee"
   ]
  },
  {
   "cell_type": "code",
   "execution_count": 14,
   "metadata": {
    "collapsed": false
   },
   "outputs": [
    {
     "name": "stdout",
     "output_type": "stream",
     "text": [
      "Grammaire G1 :\n",
      "    - Alphabet Σ = {'b', 'a'},\n",
      "    - Non terminaux V = {'S'},\n",
      "    - Symbole initial : 'S',\n",
      "    - Règles : S -> ε, S -> aSb.\n",
      "La grammaire G1 est-elle bien formée ? True\n",
      "\n",
      "Grammaire G2 :\n",
      "    - Alphabet Σ = {'y', '-', '/', '+', 'x', 'z', '(', ')', '*'},\n",
      "    - Non terminaux V = {'S'},\n",
      "    - Symbole initial : 'S',\n",
      "    - Règles : S -> x, S -> y, S -> z, S -> S+S, S -> S-S, S -> S*S, S -> S/S, S -> (S).\n",
      "La grammaire G2 est-elle bien formée ? True\n",
      "\n",
      "Grammaire G3 :\n",
      "    - Alphabet Σ = {'an ', 'she ', 'fish ', 'a ', 'with ', 'ork ', 'eats ', 'fork ', 'sword '},\n",
      "    - Non terminaux V = {'NP ', 'S', 'PP ', 'P ', 'VP ', 'NVo ', 'V ', 'DetVo ', 'N ', 'Det '},\n",
      "    - Symbole initial : 'S',\n",
      "    - Règles : S -> NP VP , VP  -> VP PP , VP  -> V NP , PP  -> P NP , NP  -> Det N , NP  -> DetVo NVo , VP  -> eats , NP  -> she , V  -> eats , P  -> with , N  -> fish , N  -> fork , N  -> sword , NVo  -> ork , Det  -> a , DetVo  -> an .\n",
      "La grammaire G3 est-elle bien formée ? True\n",
      "\n"
     ]
    }
   ],
   "source": [
    "for g in [g1, g2, g3]:\n",
    "    print(g)\n",
    "    print(\"La grammaire\", g.nom, \"est-elle bien formée ?\", estBienFormee(g))\n",
    "    print()"
   ]
  },
  {
   "cell_type": "markdown",
   "metadata": {},
   "source": [
    "On peut définir une autre grammaire qui n'est pas bien formée, pour voir.\n",
    "Cette grammaire $G_4$ engendre les mots de la forme $a^{n+k} b^n$ pour $n,k \\in \\mathbb{N}$, mais on lui donne une règle de dédoublement des $a$ : $a \\rightarrow a a$ (notez que $a$, une variable de production, est à gauche d'une règle)."
   ]
  },
  {
   "cell_type": "code",
   "execution_count": 11,
   "metadata": {
    "collapsed": false,
    "scrolled": true
   },
   "outputs": [
    {
     "name": "stdout",
     "output_type": "stream",
     "text": [
      "Grammaire G4 :\n",
      "    - Alphabet Σ = {'a', 'b'},\n",
      "    - Non terminaux V = {'S'},\n",
      "    - Symbole initial : 'S',\n",
      "    - Règles : S -> ε, S -> aSb, a -> aa.\n",
      "La grammaire G4 est-elle bien formée ? False\n"
     ]
    }
   ],
   "source": [
    "g4 = Grammaire(\n",
    "    ['a', 'b'],  # Alphabet de production\n",
    "    ['S'],       # Alphabet de travail\n",
    "    'S',         # Symbole initial (un seul)\n",
    "    [            # Règles\n",
    "        ('S', []),               # S -> ε\n",
    "        ('S', ['a', 'S', 'b']),  # S -> a S b\n",
    "        ('a', ['a', 'a']),       # a -> a a, cette règle n'est pas en forme normale\n",
    "    ],\n",
    "    nom=\"G4\"\n",
    ")\n",
    "print(g4)\n",
    "print(\"La grammaire\", g4.nom, \"est-elle bien formée ?\", estBienFormee(g4))"
   ]
  },
  {
   "cell_type": "markdown",
   "metadata": {},
   "source": [
    "Juste par curiosité, la voici transformée pour devenir bien formée, ici on a juste eu besoin d'ajouter une variable de travail $A$ qui peut donner $a$ ou $A A$ :"
   ]
  },
  {
   "cell_type": "code",
   "execution_count": 15,
   "metadata": {
    "collapsed": false,
    "scrolled": true
   },
   "outputs": [
    {
     "name": "stdout",
     "output_type": "stream",
     "text": [
      "Grammaire G5 :\n",
      "    - Alphabet Σ = {'b', 'a'},\n",
      "    - Non terminaux V = {'S', 'A'},\n",
      "    - Symbole initial : 'S',\n",
      "    - Règles : S -> ε, S -> ASb, A -> AA, A -> a.\n",
      "La grammaire G5 est-elle bien formée ? True\n"
     ]
    }
   ],
   "source": [
    "g5 = Grammaire(\n",
    "    ['a', 'b'],  # Alphabet de production\n",
    "    ['S', 'A'],  # Alphabet de travail\n",
    "    'S',         # Symbole initial (un seul)\n",
    "    [            # Règles\n",
    "        ('S', []),               # S -> ε\n",
    "        ('S', ['A', 'S', 'b']),  # S -> A S b\n",
    "        ('A', ['A', 'A']),       # A -> A A, voila comment on gère a -> a a\n",
    "        ('A', ['a']),            # A -> a\n",
    "    ],\n",
    "    nom=\"G5\"\n",
    ")\n",
    "print(g5)\n",
    "print(\"La grammaire\", g5.nom, \"est-elle bien formée ?\", estBienFormee(g5))"
   ]
  },
  {
   "cell_type": "markdown",
   "metadata": {},
   "source": [
    "## 3. Vérifier qu'une grammaire est en forme normale de Chomsky\n",
    "On veut maintenant pouvoir vérifier qu'une grammaire $G$ (i.e., un objet instance de ``Grammaire``) est bien en forme normale de Chomsky.\n",
    "En effet, l'algorithme CKY n'a aucune chance de fonctionner si la grammaire n'est pas sous la bonne forme.\n",
    "\n",
    "Pour que $G$ soit en forme normale de Chomsky :\n",
    "- elle doit d'abord être bien formée (cf. ci-dessus),\n",
    "- et chaque règle doit être\n",
    "   - soit de la forme $S \\rightarrow \\varepsilon$,\n",
    "   - soit de la forme $A \\rightarrow a$ pour $(A, a)$ dans $V \\times \\Sigma$, soit $A \\rightarrow B C$ pour $(A, B, C)$ dans $V × (V \\setminus \\{S\\})^2$ (aucune production de $S$ le symbole initial).\n",
    "   \n",
    "On vérifie ça facilement, point par point, dans la fonction suivante :"
   ]
  },
  {
   "cell_type": "code",
   "execution_count": 16,
   "metadata": {
    "collapsed": true
   },
   "outputs": [],
   "source": [
    "def estChomsky(self: Grammaire) -> bool:\n",
    "    \"\"\" Vérifie que G est sous forme normale de Chomksy. \"\"\"\n",
    "    sigma, v, s, regles = set(self.sigma), set(self.v), self.s, self.r\n",
    "    estBienChomsky = all(\n",
    "        (   # S -> epsilon\n",
    "            regle[0] == s and not regle[1]\n",
    "        ) or (  # A -> a\n",
    "            len(regle[1]) == 1\n",
    "            and regle[1][0] in sigma  # a in Sigma\n",
    "        ) or (  # A -> B C\n",
    "            len(regle[1]) == 2\n",
    "            and regle[1][0] in v - {s}  # B in V \\ {S}\n",
    "            and regle[1][1] in v - {s}  # C in V \\ {S}\n",
    "        )\n",
    "        for regle in regles\n",
    "    )\n",
    "    return estBienChomsky and estBienFormee(self)\n",
    "\n",
    "# On ajoute la fonction comme une méthode (au cas où...)\n",
    "Grammaire.estChomsky = estChomsky"
   ]
  },
  {
   "cell_type": "markdown",
   "metadata": {},
   "source": [
    "On peut tester avec les cinq grammaires definies plus haut ($G_1$, $G_2$, $G_3$, $G_4$, $G_5$).\n",
    "Seule la grammaire $G_3$ est de Chomsky."
   ]
  },
  {
   "cell_type": "code",
   "execution_count": 14,
   "metadata": {
    "collapsed": false
   },
   "outputs": [
    {
     "name": "stdout",
     "output_type": "stream",
     "text": [
      "Grammaire G1 :\n",
      "    - Alphabet Σ = {'a', 'b'},\n",
      "    - Non terminaux V = {'S'},\n",
      "    - Symbole initial : 'S',\n",
      "    - Règles : S -> ε, S -> aSb.\n",
      "La grammaire G1 est-elle de bien formée ? True\n",
      "La grammaire G1 est-elle de Chomsky ? False\n",
      "\n",
      "Grammaire G2 :\n",
      "    - Alphabet Σ = {'y', '*', ')', '(', '+', 'x', '/', 'z', '-'},\n",
      "    - Non terminaux V = {'S'},\n",
      "    - Symbole initial : 'S',\n",
      "    - Règles : S -> x, S -> y, S -> z, S -> S+S, S -> S-S, S -> S*S, S -> S/S, S -> (S).\n",
      "La grammaire G2 est-elle de bien formée ? True\n",
      "La grammaire G2 est-elle de Chomsky ? False\n",
      "\n",
      "Grammaire G3 :\n",
      "    - Alphabet Σ = {'fish ', 'an ', 'eats ', 'she ', 'fork ', 'ork ', 'sword ', 'a ', 'with '},\n",
      "    - Non terminaux V = {'NP ', 'PP ', 'V ', 'Det ', 'DetVo ', 'P ', 'S', 'N ', 'VP ', 'NVo '},\n",
      "    - Symbole initial : 'S',\n",
      "    - Règles : S -> NP VP , VP  -> VP PP , VP  -> V NP , PP  -> P NP , NP  -> Det N , NP  -> DetVo NVo , VP  -> eats , NP  -> she , V  -> eats , P  -> with , N  -> fish , N  -> fork , N  -> sword , NVo  -> ork , Det  -> a , DetVo  -> an .\n",
      "La grammaire G3 est-elle de bien formée ? True\n",
      "La grammaire G3 est-elle de Chomsky ? True\n",
      "\n",
      "Grammaire G4 :\n",
      "    - Alphabet Σ = {'a', 'b'},\n",
      "    - Non terminaux V = {'S'},\n",
      "    - Symbole initial : 'S',\n",
      "    - Règles : S -> ε, S -> aSb, a -> aa.\n",
      "La grammaire G4 est-elle de bien formée ? False\n",
      "La grammaire G4 est-elle de Chomsky ? False\n",
      "\n",
      "Grammaire G5 :\n",
      "    - Alphabet Σ = {'a', 'b'},\n",
      "    - Non terminaux V = {'A', 'S'},\n",
      "    - Symbole initial : 'S',\n",
      "    - Règles : S -> ε, S -> ASb, A -> AA, A -> a.\n",
      "La grammaire G5 est-elle de bien formée ? True\n",
      "La grammaire G5 est-elle de Chomsky ? False\n",
      "\n"
     ]
    }
   ],
   "source": [
    "for g in [g1, g2, g3, g4, g5]:\n",
    "    print(g)\n",
    "    print(\"La grammaire\", g.nom, \"est-elle de bien formée ?\", estBienFormee(g))\n",
    "    print(\"La grammaire\", g.nom, \"est-elle de Chomsky ?\", estChomsky(g))\n",
    "    print()"
   ]
  },
  {
   "cell_type": "markdown",
   "metadata": {},
   "source": [
    "À la main, on peut transformer $G_5$ pour la mettre en forme de Chomsky (et après, on passe à CYK)."
   ]
  },
  {
   "cell_type": "code",
   "execution_count": 17,
   "metadata": {
    "collapsed": false
   },
   "outputs": [
    {
     "name": "stdout",
     "output_type": "stream",
     "text": [
      "Grammaire G6 :\n",
      "    - Alphabet Σ = {'b', 'a'},\n",
      "    - Non terminaux V = {'A', 'S', 'B', 'T', 'U'},\n",
      "    - Symbole initial : 'S',\n",
      "    - Règles : S -> ε, S -> AB, S -> TB, T -> AU, U -> AB, U -> TB, A -> AA, A -> a, B -> b.\n",
      "La grammaire G6 est-elle bien formée ? True\n",
      "La grammaire G6 est-elle de Chomsky ? True\n"
     ]
    }
   ],
   "source": [
    "g6 = Grammaire(\n",
    "    ['a', 'b'],            # Alphabet de production\n",
    "    ['S', 'T', 'U', 'A', 'B'],  # Alphabet de travail\n",
    "    'S',                   # Symbole initial (un seul)\n",
    "    [                      # Règles\n",
    "        ('S', []),               # S -> ε, on efface S si on veut produire le mot vide\n",
    "        ('S', ['A', 'B']),       # S -> A B, si on veut mettre un seul B\n",
    "        ('S', ['T', 'B']),       # S -> T B, on met un B\n",
    "        ('T', ['A', 'U']),       # T -> A U, force à mettre un A des qu'on a mis un B\n",
    "        ('U', ['A', 'B']),       # U -> A B, S et U ont le même rôle\n",
    "        ('U', ['T', 'B']),       # U -> T B, S et U ont le même rôle\n",
    "        ('A', ['A', 'A']),       # A -> A A, voila comment on gère a -> a a\n",
    "        ('A', ['a']),            # A -> a, production de lettre\n",
    "        ('B', ['b']),            # B -> b, production de lettre\n",
    "    ],\n",
    "    nom=\"G6\"\n",
    ")\n",
    "print(g6)\n",
    "print(\"La grammaire\", g6.nom, \"est-elle bien formée ?\", estBienFormee(g6))\n",
    "print(\"La grammaire\", g6.nom, \"est-elle de Chomsky ?\", estChomsky(g6))"
   ]
  },
  {
   "cell_type": "markdown",
   "metadata": {},
   "source": [
    "## 4. (enfin) L'algorithme de Cocke-Kasami-Younger\n",
    "On passe *enfin* à l'algorithme de Cocke-Kasami-Younger.\n",
    "\n",
    "L'algorithme va prendre une grammaire $G$, bien formée, de taille $|G|$ (definie comme la somme des longueurs de $\\Sigma$ et $V$ et la somme des tailles des règles), ainsi qu'un mot $w$ de taille $n = |w|$ (**attention**, ce n'est pas une ``str`` mais une liste de variables ``List[Var]``, i.e., une liste de ``str``).\n",
    "\n",
    "Le but est de vérifier si le mot $w$ peut être engendrée par la grammaire $G$, i.e., de déterminer si $w \\in L(G)$.\n",
    "Pour le détail de fonctionnement, cf. le code Python ci dessous, ou [la page Wikipedia](https://fr.wikipedia.org/wiki/Algorithme_de_Cocke-Younger-Kasami).\n",
    "\n",
    "L'algorithme aura :\n",
    "\n",
    "- une complexité en mémoire en $\\mathcal{O}(|G| + |w|^2)$,\n",
    "- une complexité en temps en $\\mathcal{O}(|G| \\times |w|^3)$, ce qui montrera que le problème du mot pour les grammaires en forme de Chomsky est dans $\\mathcal{P}$ (en temps polynomial, c'est déjà cool) et en temps raisonnable (cubique en $n = |w|$, c'est encore mieux !).\n",
    "\n",
    "On va utiliser une table de hachage ``E`` contiendra, à la fin du calcul, les $E_{i, j}$ définis par :\n",
    "$$ E_{i, j} := \\{ A \\in V : w[i, j] \\in L_G(A) \\}.$$\n",
    "Ou l'on a noté $w[i, j] = w_i \\dots w_j$ le sous-mot d'indices $i,\\dots,j$, et $L_G(A)$ le langage engendré par $G$ en partant du symbole $A$ (et pas du symbole initial $S$).\n",
    "\n",
    "*Note :* la table de hachage n'est pas vraiment requise, une liste de liste fonctionnerait aussi mais la notation en serait moins proche de celle utilisée en maths."
   ]
  },
  {
   "cell_type": "code",
   "execution_count": 18,
   "metadata": {
    "collapsed": false
   },
   "outputs": [],
   "source": [
    "def cocke_kasami_younger(self, w):\n",
    "    \"\"\" Vérifie si le mot w est dans L(G). \"\"\"\n",
    "    assert estChomsky(self), \"Erreur : {} n'est pas en forme de Chomsky, l'algorithme de Cocke-Kasami-Younger ne fonctionnera pas.\".format(self.nom)\n",
    "    sigma, v, s, regles = set(self.sigma), set(self.v), self.s, self.r\n",
    "    n = len(w)\n",
    "    E = dict()  # De taille n^2\n",
    "    # Cas special pour tester si le mot vide est dans L(G)\n",
    "    if n == 0:\n",
    "        return (s, []) in regles, E\n",
    "    # Boucle en O(n^2)\n",
    "    for i in range(n):\n",
    "        for j in range(n):\n",
    "            E[(i, j)] = set()\n",
    "    # Boucle en O(n x |G|)\n",
    "    for i in range(n):\n",
    "        for regle in regles:\n",
    "            # Si regle est de la forme : A -> a\n",
    "            if len(regle[1]) == 1:\n",
    "                A = regle[0]\n",
    "                a = regle[1][0]\n",
    "                if w[i] == a:  # Notez que c'est le seul moment ou utilise le mot w !\n",
    "                    E[(i, i)] = E[(i, i)] | {A}\n",
    "    # Boucle en O(n^3 x |G|)\n",
    "    for d in range(1, n):          # Longueur du morceau\n",
    "        for i in range(n - d):     # Début du morceau\n",
    "            j = i + d              # Fin du morceau, on regarde w[i]..w[j]\n",
    "            for k in range(i, j):  # Parcourt du morceau, ..w[k].., sans la fin\n",
    "                for regle in regles:\n",
    "                    # Si regle est de la forme A -> B C\n",
    "                    if len(regle[1]) == 2:\n",
    "                        A = regle[0]\n",
    "                        B, C = regle[1]\n",
    "                        if B in E[(i, k)] and C in E[(k + 1, j)]:\n",
    "                            E[(i, j)] = E[(i, j)] | {A}\n",
    "    # On a finit, il suffit maintenant d'utiliser la table créee par programmation dynamique\n",
    "    return s in E[(0, n - 1)], E\n",
    "\n",
    "# On ajoute la fonction comme une méthode (au cas où...)\n",
    "Grammaire.genere = cocke_kasami_younger"
   ]
  },
  {
   "cell_type": "markdown",
   "metadata": {},
   "source": [
    "----\n",
    "\n",
    "## 4. Exemples\n",
    "On présente ici des exemples d'utilisation de cette fonction ``cocke_kasami_younger`` avec les grammaires $G_i$ présentées plus haut et quelques examples de mots $w$."
   ]
  },
  {
   "cell_type": "code",
   "execution_count": 19,
   "metadata": {
    "collapsed": true
   },
   "outputs": [],
   "source": [
    "def testeMot(g, w):\n",
    "    \"\"\" Joli affichage pour un test \"\"\"\n",
    "    print(\"# Test si w in L(G) :\")\n",
    "    print(\"  Pour\", g.nom, \"et w =\", w)\n",
    "    estDansLG, E = cocke_kasami_younger(g, w)\n",
    "    if estDansLG:\n",
    "        print(\"  ==> Ce mot est bien engendré par G !\")\n",
    "    else:\n",
    "        print(\"  ==> Ce mot n'est pas engendré par G !\")\n",
    "    return estDansLG, E"
   ]
  },
  {
   "cell_type": "markdown",
   "metadata": {},
   "source": [
    "### 4.1. Avec $G_3$"
   ]
  },
  {
   "cell_type": "code",
   "execution_count": 20,
   "metadata": {
    "collapsed": false
   },
   "outputs": [
    {
     "name": "stdout",
     "output_type": "stream",
     "text": [
      "Grammaire G3 :\n",
      "    - Alphabet Σ = {'an ', 'she ', 'fish ', 'a ', 'with ', 'ork ', 'eats ', 'fork ', 'sword '},\n",
      "    - Non terminaux V = {'NP ', 'S', 'PP ', 'P ', 'VP ', 'NVo ', 'V ', 'DetVo ', 'N ', 'Det '},\n",
      "    - Symbole initial : 'S',\n",
      "    - Règles : S -> NP VP , VP  -> VP PP , VP  -> V NP , PP  -> P NP , NP  -> Det N , NP  -> DetVo NVo , VP  -> eats , NP  -> she , V  -> eats , P  -> with , N  -> fish , N  -> fork , N  -> sword , NVo  -> ork , Det  -> a , DetVo  -> an .\n",
      "True\n"
     ]
    }
   ],
   "source": [
    "print(g3)\n",
    "print(estChomsky(g3))"
   ]
  },
  {
   "cell_type": "code",
   "execution_count": 21,
   "metadata": {
    "collapsed": false
   },
   "outputs": [
    {
     "name": "stdout",
     "output_type": "stream",
     "text": [
      "# Test si w in L(G) :\n",
      "  Pour G3 et w = ['she ', 'eats ', 'a ', 'fish ', 'with ', 'a ', 'fork ']\n",
      "  ==> Ce mot est bien engendré par G !\n"
     ]
    }
   ],
   "source": [
    "w1 = [ \"she \", \"eats \", \"a \", \"fish \", \"with \", \"a \", \"fork \" ]  # True\n",
    "estDansLG1, E1 = testeMot(g3, w1)"
   ]
  },
  {
   "cell_type": "markdown",
   "metadata": {},
   "source": [
    "Pour cet exemple, on peut afficher la table ``E`` (en ne montrant que les cases qui ont un $E_{i, j}$ non-vide) :"
   ]
  },
  {
   "cell_type": "code",
   "execution_count": 22,
   "metadata": {
    "collapsed": false
   },
   "outputs": [
    {
     "name": "stdout",
     "output_type": "stream",
     "text": [
      "{(1, 3): {'VP '}, (6, 6): {'N '}, (1, 6): {'VP '}, (0, 3): {'S'}, (5, 5): {'Det '}, (0, 6): {'S'}, (4, 4): {'P '}, (5, 6): {'NP '}, (3, 3): {'N '}, (1, 1): {'VP ', 'V '}, (0, 0): {'NP '}, (2, 2): {'Det '}, (0, 1): {'S'}, (4, 6): {'PP '}, (2, 3): {'NP '}}\n"
     ]
    }
   ],
   "source": [
    "for k in E1.copy():\n",
    "    if k in E1 and not E1[k]:  # On retire les clés qui ont un E[(i, j)] vide\n",
    "        del(E1[k])\n",
    "print(E1)"
   ]
  },
  {
   "cell_type": "markdown",
   "metadata": {},
   "source": [
    "----"
   ]
  },
  {
   "cell_type": "code",
   "execution_count": 21,
   "metadata": {
    "collapsed": false,
    "scrolled": false
   },
   "outputs": [
    {
     "name": "stdout",
     "output_type": "stream",
     "text": [
      "# Test si w in L(G) :\n",
      "  Pour G3 et w = ['she ', 'attacks ', 'a ', 'fish ', 'with ', 'a ', 'fork ']\n",
      "  ==> Ce mot n'est pas engendré par G !\n"
     ]
    }
   ],
   "source": [
    "w2 = [ \"she \", \"attacks \", \"a \", \"fish \", \"with \", \"a \", \"fork \" ]  # False\n",
    "estDansLG2, E2 = testeMot(g3, w2)"
   ]
  },
  {
   "cell_type": "code",
   "execution_count": 22,
   "metadata": {
    "collapsed": false
   },
   "outputs": [
    {
     "name": "stdout",
     "output_type": "stream",
     "text": [
      "# Test si w in L(G) :\n",
      "  Pour G3 et w = ['she ', 'eats ', 'an ', 'ork ', 'with ', 'a ', 'sword ']\n",
      "  ==> Ce mot est bien engendré par G !\n"
     ]
    }
   ],
   "source": [
    "w3 = [ \"she \", \"eats \", \"an \", \"ork \", \"with \", \"a \", \"sword \" ]  # True\n",
    "estDansLG3, E3 = testeMot(g3, w3)"
   ]
  },
  {
   "cell_type": "markdown",
   "metadata": {},
   "source": [
    "D'autres exemples :"
   ]
  },
  {
   "cell_type": "code",
   "execution_count": 23,
   "metadata": {
    "collapsed": false
   },
   "outputs": [
    {
     "name": "stdout",
     "output_type": "stream",
     "text": [
      "# Test si w in L(G) :\n",
      "  Pour G3 et w = ['she ', 'eats ', 'an ', 'fish ', 'with ', 'a ', 'fork ']\n",
      "  ==> Ce mot n'est pas engendré par G !\n",
      "# Test si w in L(G) :\n",
      "  Pour G3 et w = ['she ', 'eat ', 'a ', 'fish ', 'with ', 'a ', 'fork ']\n",
      "  ==> Ce mot n'est pas engendré par G !\n",
      "# Test si w in L(G) :\n",
      "  Pour G3 et w = ['she ', 'eats ', 'a ', 'fish ', 'with ', 'a ', 'fish ', 'with ', 'a ', 'fish ', 'with ', 'a ', 'fish ', 'with ', 'a ', 'fish ']\n",
      "  ==> Ce mot est bien engendré par G !\n"
     ]
    }
   ],
   "source": [
    "w4 = [ \"she \", \"eats \", \"an \", \"fish \", \"with \", \"a \", \"fork \" ]  # False\n",
    "estDansLG4, E4 = testeMot(g3, w4)\n",
    "w5 = [ \"she \", \"eat \", \"a \", \"fish \", \"with \", \"a \", \"fork \" ]  # False\n",
    "estDansLG5, E5 = testeMot(g3, w5)\n",
    "w6 = [ \"she \", \"eats \", \"a \", \"fish \", \"with \", \"a \", \"fish \" , \"with \", \"a \", \"fish \" , \"with \", \"a \", \"fish \" , \"with \", \"a \", \"fish \" ]  # True\n",
    "estDansLG6, E6 = testeMot(g3, w6)"
   ]
  },
  {
   "cell_type": "markdown",
   "metadata": {},
   "source": [
    "### 4.2. Avec $G_6$"
   ]
  },
  {
   "cell_type": "code",
   "execution_count": 24,
   "metadata": {
    "collapsed": false
   },
   "outputs": [
    {
     "name": "stdout",
     "output_type": "stream",
     "text": [
      "Grammaire G6 :\n",
      "    - Alphabet Σ = {'a', 'b'},\n",
      "    - Non terminaux V = {'T', 'U', 'B', 'A', 'S'},\n",
      "    - Symbole initial : 'S',\n",
      "    - Règles : S -> ε, S -> AB, S -> TB, T -> AU, U -> AB, U -> TB, A -> AA, A -> a, B -> b.\n",
      "# Test si w in L(G) :\n",
      "  Pour G6 et w = []\n",
      "  ==> Ce mot est bien engendré par G !\n",
      "# Test si w in L(G) :\n",
      "  Pour G6 et w = ['a', 'b']\n",
      "  ==> Ce mot est bien engendré par G !\n",
      "# Test si w in L(G) :\n",
      "  Pour G6 et w = ['a', 'a', 'a', 'b', 'b', 'b']\n",
      "  ==> Ce mot est bien engendré par G !\n",
      "# Test si w in L(G) :\n",
      "  Pour G6 et w = ['a', 'a', 'a', 'a', 'b', 'b', 'b']\n",
      "  ==> Ce mot est bien engendré par G !\n",
      "# Test si w in L(G) :\n",
      "  Pour G6 et w = ['a', 'a', 'a', 'a', 'a', 'a', 'a', 'a', 'a', 'a', 'b', 'b', 'b', 'b', 'b', 'b']\n",
      "  ==> Ce mot est bien engendré par G !\n",
      "# Test si w in L(G) :\n",
      "  Pour G6 et w = ['a', 'b', 'a']\n",
      "  ==> Ce mot n'est pas engendré par G !\n",
      "# Test si w in L(G) :\n",
      "  Pour G6 et w = ['a', 'a', 'a', 'b', 'b', 'b', 'b']\n",
      "  ==> Ce mot n'est pas engendré par G !\n",
      "# Test si w in L(G) :\n",
      "  Pour G6 et w = ['c']\n",
      "  ==> Ce mot n'est pas engendré par G !\n",
      "# Test si w in L(G) :\n",
      "  Pour G6 et w = ['a', 'a', 'a', 'c']\n",
      "  ==> Ce mot n'est pas engendré par G !\n"
     ]
    }
   ],
   "source": [
    "print(g6)\n",
    "for w in [ [], ['a', 'b'], ['a', 'a', 'a', 'b', 'b', 'b'],  # True, True, True\n",
    "          ['a', 'a', 'a', 'a', 'b', 'b', 'b'],  # True\n",
    "          ['a', 'a', 'a', 'a', 'a', 'a', 'a', 'a', 'a', 'a', 'b', 'b', 'b', 'b', 'b', 'b'],  # True\n",
    "          ['a', 'b', 'a'], ['a', 'a', 'a', 'b', 'b', 'b', 'b'],  # False, False\n",
    "          ['c'], ['a', 'a', 'a', 'c'],  # False, False\n",
    "         ]:\n",
    "    testeMot(g6, w)"
   ]
  },
  {
   "cell_type": "markdown",
   "metadata": {},
   "source": [
    "----\n",
    "\n",
    "## 5. Mise en forme normale de Chomsky *(bonus)*\n",
    "On pourrait aussi implémenter la mise en forme normale de Chomsky, comme exposée et provuée dans le développement.\n",
    "\n",
    "La preuve faite dans le développement garantit que la fonction ci-dessous transforme une grammaire $G$ en grammaire équivalente $G'$, avec l'éventuelle perte du mot vide $\\varepsilon$ :\n",
    "$$ L(G') = L(G) \\setminus \\{ \\varepsilon \\}. $$\n",
    "\n",
    "L'algorithme aura :\n",
    "\n",
    "- une complexité en mémoire en $\\mathcal{O}(|G|)$,\n",
    "- une complexité en temps en $\\mathcal{O}(|G| |\\Sigma_G|)$.\n",
    "\n",
    "TODO : finish it !"
   ]
  },
  {
   "cell_type": "code",
   "execution_count": 25,
   "metadata": {
    "collapsed": true
   },
   "outputs": [],
   "source": [
    "from copy import copy, deepcopy"
   ]
  },
  {
   "cell_type": "code",
   "execution_count": 23,
   "metadata": {
    "collapsed": true
   },
   "outputs": [],
   "source": [
    "def miseChomsky(self):\n",
    "    \"\"\" Met en forme normale de Chomsky la grammaire self, qui doit être bien formée.\n",
    "    \n",
    "    - On suppose que l'alphabet Sigma est dans {a,..,z},\n",
    "    - On suppose que l'alphabet v est dans {A,..,Z}.\n",
    "    \"\"\"\n",
    "    assert estBienFormee(self), \"Erreur : {} n'est pas en bien formée, la mise en forme normale de Chomsky ne fonctionnera pas.\".format(self.nom)\n",
    "    sigma, v, s, regles = set(self.sigma), set(self.v), self.s, self.r\n",
    "    if estChomsky(self):\n",
    "        print(\"Info : la grammaire {} est déjà en forme normale de Chomsky, il n'y a rien à faire.\".format(self.nom))\n",
    "        return Grammaire(sigma, v, s, regles)\n",
    "    assert sigma < set(chr(i) for i in range(ord('a'), ord('z') + 1)), \"Erreur : {} n'a pas ses lettres de production Sigma dans 'a'..'z' ...\".format(self.nom)\n",
    "    assert v < set(chr(i) for i in range(ord('A'), ord('Z') + 1)), \"Erreur : {} n'a pas ses lettres de travail V dans 'A'..'Z' ...\".format(self.nom)\n",
    "\n",
    "    # Algorithme en deux étapes, G --> G2, puis G2 --> G3\n",
    "    \n",
    "    # 1. G --> G2 : On ajoute des variables de travail et on substitue a -> V_a dans les autres règles\n",
    "    # On pose les attributs de G2, qui vont être changés\n",
    "    sigma2 = list(sigma)\n",
    "    v2 = set(v)\n",
    "    s2 = s\n",
    "    regles2 = []\n",
    "\n",
    "    for a in sigma:\n",
    "        V_a = 'V_{}'.format(a)\n",
    "        v2.add(V_a)\n",
    "        regles2.append([V_a, [a]])  # Ajout de la règle V_a -> a (production de la lettre correspondante)\n",
    "        # FIXME this substitution should be for all a and not just this one\n",
    "        substitution = lambda b: V_a if b == a else b\n",
    "        substitutionSurListe = lambda lb: [substitution(b) for b in lb]\n",
    "        for regle in regles:\n",
    "            S = regle[0]\n",
    "            w = regle[1]\n",
    "            if len(w) > 0:  # Si ce n'est pas une règle A -> epsilon\n",
    "                regles2.append([S, substitutionSurListe(w)])\n",
    "    nom2 = self.nom + \"'\"\n",
    "    print(Grammaire(list(sigma2), list(v2), s2, regles2, nom=nom2))\n",
    "    \n",
    "    # 2. G2 --> G3 : On découpe les règles A -> A1..An qui ont n > 2\n",
    "    # On pose les attributs de G3, qui vont être changés\n",
    "    sigma3 = list(sigma2)\n",
    "    v3 = set(v2)\n",
    "    s3 = s2\n",
    "    regles3 = []\n",
    "    \n",
    "    for k, regle in enumerate(regles2):\n",
    "        S = regle[0]\n",
    "        w = regle[1]  # w = S1 .. Sn\n",
    "        n = len(w)\n",
    "        if n > 2:\n",
    "            Si_prime = lambda Si: 'S_{%d, %s}' % (k, Si)  # Ajouter le k dans le nom assure que les nouvelles variables de travail sont toutes uniques\n",
    "            # Premiere règle : S -> S_1 S'_2\n",
    "            regles3.append([S, [w[0], Si_prime(w[1])]])\n",
    "            v3.add(Si_prime(w[1]))\n",
    "            for i in range(1, len(w) - 1):\n",
    "                # Pour chaque règle intermédiaire : S'_i -> S_i  S'_{i+1}\n",
    "                regles3.append([Si_prime(w[i]), [w[i], Si_prime(w[i + 1])]])\n",
    "                v3.add(Si_prime(w[i]))\n",
    "                v3.add(Si_prime(w[i + 1]))\n",
    "            # Dernière règle : S'_{n-1} -> S_{n-1} S_n\n",
    "            regles3.append([Si_prime(w[n - 2]), [w[n - 2], w[n - 1]]])\n",
    "            v3.add(Si_prime(w[n - 2]))\n",
    "        else:\n",
    "            regles3.append([S, w])\n",
    "    # Terminé\n",
    "    nom3 = self.nom + \"''\"\n",
    "    return Grammaire(list(sigma3), list(v3), s3, regles3, nom=nom3)"
   ]
  },
  {
   "cell_type": "markdown",
   "metadata": {},
   "source": [
    "### Exemple pour $G_1$"
   ]
  },
  {
   "cell_type": "code",
   "execution_count": 24,
   "metadata": {
    "collapsed": false,
    "scrolled": false
   },
   "outputs": [
    {
     "name": "stdout",
     "output_type": "stream",
     "text": [
      "Grammaire G1 :\n",
      "    - Alphabet Σ = {'b', 'a'},\n",
      "    - Non terminaux V = {'S'},\n",
      "    - Symbole initial : 'S',\n",
      "    - Règles : S -> ε, S -> aSb.\n",
      "\n",
      "(Non) La grammaire G1 est-elle de Chomsky ? False\n",
      "\n",
      "On essaie de la mettre sous forme normale de Chomksy...\n",
      "\n",
      "Grammaire G1' :\n",
      "    - Alphabet Σ = {'b', 'a'},\n",
      "    - Non terminaux V = {'S', 'V_b', 'V_a'},\n",
      "    - Symbole initial : 'S',\n",
      "    - Règles : V_b -> b, S -> aSV_b, V_a -> a, S -> V_aSb.\n",
      "Grammaire G1'' :\n",
      "    - Alphabet Σ = {'b', 'a'},\n",
      "    - Non terminaux V = {'S', 'S_{1, V_b}', 'S_{3, S}', 'V_a', 'S_{1, S}', 'S_{3, b}', 'V_b'},\n",
      "    - Symbole initial : 'S',\n",
      "    - Règles : V_b -> b, S -> aS_{1, S}, S_{1, S} -> SS_{1, V_b}, S_{1, S} -> SV_b, V_a -> a, S -> V_aS_{3, S}, S_{3, S} -> SS_{3, b}, S_{3, S} -> Sb.\n",
      "\n",
      "  ==> La grammaire G1'' est-elle de Chomsky ? False\n"
     ]
    }
   ],
   "source": [
    "print(g1)\n",
    "print(\"\\n(Non) La grammaire\", g1.nom, \"est-elle de Chomsky ?\", estChomsky(g1))\n",
    "print(\"\\nOn essaie de la mettre sous forme normale de Chomksy...\\n\")\n",
    "g1_Chom = miseChomsky(g1)\n",
    "print(g1_Chom)\n",
    "print(\"\\n  ==> La grammaire\", g1_Chom.nom, \"est-elle de Chomsky ?\", estChomsky(g1_Chom))"
   ]
  },
  {
   "cell_type": "markdown",
   "metadata": {},
   "source": [
    "----\n",
    "\n",
    "> *C'est tout pour aujourd'hui les amis !*\n",
    "> [Allez voir d'autres notebooks](https://github.com/Naereen/notebooks/tree/master/agreg) si vous voulez."
   ]
  }
 ],
 "metadata": {
  "kernelspec": {
   "display_name": "Python 3",
   "language": "python",
   "name": "python3"
  },
  "language_info": {
   "codemirror_mode": {
    "name": "ipython",
    "version": 3
   },
   "file_extension": ".py",
   "mimetype": "text/x-python",
   "name": "python",
   "nbconvert_exporter": "python",
   "pygments_lexer": "ipython3",
   "version": "3.4.3+"
  }
 },
 "nbformat": 4,
 "nbformat_minor": 0
}
