{
 "cells": [
  {
   "cell_type": "markdown",
   "metadata": {
    "toc": true
   },
   "source": [
    "<h1>Table of Contents<span class=\"tocSkip\"></span></h1>\n",
    "<div class=\"toc\"><ul class=\"toc-item\"><li><span><a href=\"#Titre-de-l'oral-:-«-Comment-dessiner-des-droites-sur-un-écran-d'ordinateur-?-»\" data-toc-modified-id=\"Titre-de-l'oral-:-«-Comment-dessiner-des-droites-sur-un-écran-d'ordinateur-?-»-1\"><span class=\"toc-item-num\">1&nbsp;&nbsp;</span>Titre de l'oral : « <em>Comment dessiner des droites sur un écran d'ordinateur ?</em> »</a></span><ul class=\"toc-item\"><li><span><a href=\"#Texte-d'oral-de-modélisation,-agrég-maths-option-D-&quot;Droite-Discrète&quot;-(public-2012-D5)\" data-toc-modified-id=\"Texte-d'oral-de-modélisation,-agrég-maths-option-D-&quot;Droite-Discrète&quot;-(public-2012-D5)-1.1\"><span class=\"toc-item-num\">1.1&nbsp;&nbsp;</span>Texte d'oral de modélisation, agrég maths option D \"Droite Discrète\" (public 2012 D5)</a></span></li><li><span><a href=\"#Introduction\" data-toc-modified-id=\"Introduction-1.2\"><span class=\"toc-item-num\">1.2&nbsp;&nbsp;</span>Introduction</a></span></li></ul></li><li><span><a href=\"#Tracé-de-droites,-formalisation\" data-toc-modified-id=\"Tracé-de-droites,-formalisation-2\"><span class=\"toc-item-num\">2&nbsp;&nbsp;</span>Tracé de droites, formalisation</a></span><ul class=\"toc-item\"><li><span><a href=\"#Formalisation,-et-hypothèses\" data-toc-modified-id=\"Formalisation,-et-hypothèses-2.1\"><span class=\"toc-item-num\">2.1&nbsp;&nbsp;</span>Formalisation, et hypothèses</a></span></li><li><span><a href=\"#Présentation-du-problème\" data-toc-modified-id=\"Présentation-du-problème-2.2\"><span class=\"toc-item-num\">2.2&nbsp;&nbsp;</span>Présentation du problème</a></span></li><li><span><a href=\"#Généralisation-au-delà-de-ces-hypothèses-?\" data-toc-modified-id=\"Généralisation-au-delà-de-ces-hypothèses-?-2.3\"><span class=\"toc-item-num\">2.3&nbsp;&nbsp;</span>Généralisation au delà de ces hypothèses ?</a></span></li></ul></li><li><span><a href=\"#Trois-méthodes-différentes-:-algorithmes,-implémentations,-exemples\" data-toc-modified-id=\"Trois-méthodes-différentes-:-algorithmes,-implémentations,-exemples-3\"><span class=\"toc-item-num\">3&nbsp;&nbsp;</span>Trois méthodes différentes : algorithmes, implémentations, exemples</a></span><ul class=\"toc-item\"><li><span><a href=\"#Implémentation-de-l'exercice-de-programmation\" data-toc-modified-id=\"Implémentation-de-l'exercice-de-programmation-3.1\"><span class=\"toc-item-num\">3.1&nbsp;&nbsp;</span>Implémentation de l'exercice de programmation</a></span><ul class=\"toc-item\"><li><span><a href=\"#Exemples-:-deux-premiers-quadrants,-deux-premières-demi-droites\" data-toc-modified-id=\"Exemples-:-deux-premiers-quadrants,-deux-premières-demi-droites-3.1.1\"><span class=\"toc-item-num\">3.1.1&nbsp;&nbsp;</span>Exemples : deux premiers quadrants, deux premières demi-droites</a></span></li><li><span><a href=\"#Autres-exemples-:-six-autre-premiers-quadrants,-deux-autres-demi-droites\" data-toc-modified-id=\"Autres-exemples-:-six-autre-premiers-quadrants,-deux-autres-demi-droites-3.1.2\"><span class=\"toc-item-num\">3.1.2&nbsp;&nbsp;</span>Autres exemples : six autre premiers quadrants, deux autres demi-droites</a></span></li></ul></li><li><span><a href=\"#Deux-autres-méthodes\" data-toc-modified-id=\"Deux-autres-méthodes-3.2\"><span class=\"toc-item-num\">3.2&nbsp;&nbsp;</span>Deux autres méthodes</a></span><ul class=\"toc-item\"><li><span><a href=\"#Longer-au-plus-près-inférieurement\" data-toc-modified-id=\"Longer-au-plus-près-inférieurement-3.2.1\"><span class=\"toc-item-num\">3.2.1&nbsp;&nbsp;</span>Longer au plus près inférieurement</a></span></li><li><span><a href=\"#Longer-au-plus-près-supérieurement\" data-toc-modified-id=\"Longer-au-plus-près-supérieurement-3.2.2\"><span class=\"toc-item-num\">3.2.2&nbsp;&nbsp;</span>Longer au plus près supérieurement</a></span></li><li><span><a href=\"#Une-dernière-méthode-?\" data-toc-modified-id=\"Une-dernière-méthode-?-3.2.3\"><span class=\"toc-item-num\">3.2.3&nbsp;&nbsp;</span>Une dernière méthode ?</a></span></li><li><span><a href=\"#Exemples-:-deux-premiers-quadrants,-deux-premières-demi-droites\" data-toc-modified-id=\"Exemples-:-deux-premiers-quadrants,-deux-premières-demi-droites-3.2.4\"><span class=\"toc-item-num\">3.2.4&nbsp;&nbsp;</span>Exemples : deux premiers quadrants, deux premières demi-droites</a></span></li><li><span><a href=\"#Autres-exemples-:-six-autre-premiers-quadrants,-deux-autres-demi-droites\" data-toc-modified-id=\"Autres-exemples-:-six-autre-premiers-quadrants,-deux-autres-demi-droites-3.2.5\"><span class=\"toc-item-num\">3.2.5&nbsp;&nbsp;</span>Autres exemples : six autre premiers quadrants, deux autres demi-droites</a></span></li></ul></li><li><span><a href=\"#Visualisation-?-[si-le-temps]\" data-toc-modified-id=\"Visualisation-?-[si-le-temps]-3.3\"><span class=\"toc-item-num\">3.3&nbsp;&nbsp;</span>Visualisation ? <em>[si le temps]</em></a></span><ul class=\"toc-item\"><li><span><a href=\"#Exemples-manuels-:\" data-toc-modified-id=\"Exemples-manuels-:-3.3.1\"><span class=\"toc-item-num\">3.3.1&nbsp;&nbsp;</span>Exemples manuels :</a></span></li><li><span><a href=\"#Comparaison-graphique-des-trois-méthodes-:\" data-toc-modified-id=\"Comparaison-graphique-des-trois-méthodes-:-3.3.2\"><span class=\"toc-item-num\">3.3.2&nbsp;&nbsp;</span>Comparaison graphique des trois méthodes :</a></span></li></ul></li></ul></li><li><span><a href=\"#Conclusion-de-l'oral\" data-toc-modified-id=\"Conclusion-de-l'oral-4\"><span class=\"toc-item-num\">4&nbsp;&nbsp;</span>Conclusion de l'oral</a></span><ul class=\"toc-item\"><li><span><a href=\"#Autres-pistes-:\" data-toc-modified-id=\"Autres-pistes-:-4.1\"><span class=\"toc-item-num\">4.1&nbsp;&nbsp;</span>Autres pistes :</a></span></li></ul></li></ul></div>"
   ]
  },
  {
   "cell_type": "markdown",
   "metadata": {},
   "source": [
    "# Titre de l'oral : « *Comment dessiner des droites sur un écran d'ordinateur ?* »\n",
    "## Texte d'oral de modélisation, agrég maths option D \"Droite Discrète\" (public 2012 D5)\n",
    "\n",
    "> Voir : [cette page](https://agreg.org/index.php?id=option-d) et [ce texte (public2012-D5.pdf)](https://agreg.org/Textes/public2012-D5.pdf) :\n",
    "> **2012-D5** À partir du problème de la représentation des droites sur un écran d’ordinateur, on étudie la notion de droite discrète, et le mot binaire périodique associé. On met en évidence la relation biunivoque entre droites discrètes et certains mots binaires, puis entre ces mots et les nombres rationnels de [0, 1]. Mots clefs : algorithmes, géométrie discrète, mots binaires, topologie.\n",
    "\n",
    "- Auteur : [Lilian Besson](https://github.com/Naereen/)\n",
    "- Écrit en Python 3\n",
    "- License : [MIT Licensed](https://lbesson.mit-license.org/)\n",
    "- Date : 25/01/2021 (j'avais écrit [une solution en OCaml en 2014](https://github.com/Naereen/notebooks/tree/master/agreg/public2012_D5_OCaml.ipynb))"
   ]
  },
  {
   "cell_type": "markdown",
   "metadata": {},
   "source": [
    "## Introduction\n",
    "\n",
    "Donner un petit discours d'introduction :\n",
    "\n",
    "> On cherche à dessiner des courbes mathématiques sur un écran d'ordinateur. Pour simplifier l'exposé, on ne va considérer que des écrans quadrillés, où chaque case est un \"pixel\", et aussi on se restreint à des graphismes en noir et blanc. Ainsi, un écran est un tableau 2D, une matrice, de pixels, et chaque pixel est soit éteint, soit allumé.\n",
    "> Si on cherche à tracer une courbe mathématique, par exemple une droite, un cercle ou d'autres courbes plus compliquée, sur un tel écran d'ordinateur, on va devoir décider quels pixels allumer ou garder éteint, le long du tracé de la courbe.\n",
    "> [faire un dessin au tableau]\n",
    "\n",
    "> Pour commencer, on va uniquement s'intéresser au cas d'une droite, qui va du pixel O=(0,0) tout en bas à droite de l'écran, jusqu'à un autre point B=(b1,b2) de l'écran (à coordonnées entières, donc), situé à droite et en haut de l'origine O.\n",
    "> On pose $\\alpha=b2/b1 \\in \\mathbb{R} \\cup \\{\\pm\\infty\\}$ la pente de cette droite.\n",
    "\n",
    "> Comme on le voit, si la courbe est un cas particulier très facile, il n'y a pas de difficultés particulières.\n",
    "> Les cas faciles sont les courbes horizontales, de pente $1$ ou verticales, soit $\\alpha \\in \\{0,1,\\infty\\}$.\n",
    "> Dans les autres cas, la pente est toujours rationnelle, mais en général elle ne sera pas entière.\n",
    "> Nous allons d'abord étudier le cas particulier d'une pente $\\alpha < 1$, mais il est très facile de généraliser aux sept autres quadrants [faire un dessin], avec des rotations, et en échangeant le point de départ A et l'arrivée B.\n",
    "\n",
    "> Nous formalisons le problème, en faisant le lien entre les coordonnées réelles des points $M_i = (x_i,y_i)$ sur la droite [AB], qui sont $x_i = i$ et $y_i \\in \\mathbb{R}$ peut être réel et même irrationnels, et les points $(x_i, \\tilde{y_i})$ qui sont les coordonnées\n",
    "> (par convention, le point de référence des pixels est le point en bas à gauche)\n",
    "\n",
    "> Nous présenterons et implémenterons trois différentes méthodes, qui ont toute la même complexité algorithmique, mais qui donnent des tracés différents dans le cas d'une droite quelconque.\n",
    "\n",
    "> \n",
    "\n",
    "**Plan** : voir table des matières pour le détail. [écrire au tableau]\n",
    "\n",
    "- I)   *Introduction*\n",
    "- II)  Tracé de droites, formalisation\n",
    "- III) Trois méthodes différentes : algorithmes, implémentations, exemples *[visualisation si le temps ?]*\n",
    "- IV)  Mathématiques des droites discrètes\n",
    "- V)   Mots binaires\n",
    "- VI)  Liens entre les (pentes) rationnels et les mots binaires *[si le temps ?]*\n",
    "- VII) *Conclusion et ouvertures*"
   ]
  },
  {
   "cell_type": "markdown",
   "metadata": {},
   "source": [
    "#  Tracé de droites, formalisation\n",
    "AU TABLEAU"
   ]
  },
  {
   "cell_type": "markdown",
   "metadata": {},
   "source": [
    "## Formalisation, et hypothèses"
   ]
  },
  {
   "cell_type": "markdown",
   "metadata": {},
   "source": [
    "## Présentation du problème\n",
    "\n",
    "TODO\n",
    "\n",
    "TL;DR : on cherche des algorithmes qui évitent de calculer des erreurs sur des nombres réels, parce qu'on sait que les flottants propagent des erreurs de calculs."
   ]
  },
  {
   "cell_type": "markdown",
   "metadata": {},
   "source": [
    "## Généralisation au delà de ces hypothèses ?"
   ]
  },
  {
   "cell_type": "markdown",
   "metadata": {},
   "source": [
    "# Trois méthodes différentes : algorithmes, implémentations, exemples "
   ]
  },
  {
   "cell_type": "markdown",
   "metadata": {},
   "source": [
    "## Implémentation de l'exercice de programmation\n",
    "\n",
    "<span style=\"color:red;\">ATTENTION</span> depuis 2019, l'*exercice de programmation obligatoire* qui était indiqué dans les anciens textes d'option D est devenu, comme pour les autres options A/B/C, une simple *suggestion*.\n",
    "- Avant 2019, il fallait absolument implémenter l'exercice demandé, et éventuellement faire plus ;\n",
    "- Maintenant, on fait ce qu'on veut. Le jury n'a pas encore diffusé de texte suivant la nouvelle consigne, donc je vous conseille l'approche suivante : pour les vieux textes, il faut juste remplacer *exercice de programmation obligatoire* par *suggestion de programmation*."
   ]
  },
  {
   "cell_type": "markdown",
   "metadata": {},
   "source": [
    "> Écrire  un  programme  permettant  de  représenter  le  segment [AB],  où A= (a1,a2) et B=(b1,b2), en suivant l’algorithme de Bresenham. On supposera que a1<b1, a2≤b2 et que la pente $\\alpha$ de la droite est inférieure à 1.\n",
    "> La sortie du programme sera la liste des couples (xi,yi) des points représentant le segment."
   ]
  },
  {
   "cell_type": "code",
   "execution_count": 120,
   "metadata": {
    "ExecuteTime": {
     "end_time": "2021-01-24T22:19:20.893941Z",
     "start_time": "2021-01-24T22:19:20.879510Z"
    },
    "code_folding": []
   },
   "outputs": [],
   "source": [
    "def gerersymetrie(f, nom=\"\"):\n",
    "    def g(A, B):\n",
    "        a1, a2 = int(A[0]), int(A[1])\n",
    "        b1, b2 = int(B[0]), int(B[1])\n",
    "        # on commence à traiter les symétries\n",
    "\n",
    "        if a1 == b1:\n",
    "            # il faut renvoyer une droite verticale, facile à faire\n",
    "            if b2 < a2:\n",
    "                print(f\"{nom} (avant symétries) avec une pente = -oo\")\n",
    "                return f(B, A)\n",
    "            # OK maintenant b2 >= a2\n",
    "            print(f\"{nom} (avant symétries) avec une pente = +oo\")\n",
    "            points = [\n",
    "                (a1, a2 + i) for i in range(b2 - a2 + 1)\n",
    "                # droite verticale, même x, y change\n",
    "            ]\n",
    "            return points\n",
    "\n",
    "        pente = float(b2-a2) / float(b1-a1)\n",
    "\n",
    "        if a1 > b1:  # cas facile !\n",
    "            print(f\"{nom} (avant symétries) avec une pente = {pente}\")\n",
    "            return f(B, A)\n",
    "\n",
    "        # OK maintenant a1 < b1\n",
    "        # vérification des hypothèses 1/2\n",
    "        assert a1 < b1, f\"Erreur : la méthode de Bresenham demande a1 = {a1} < a2 = {b1}.\"\n",
    "\n",
    "        if a2 > b2:  # cas plus difficile, il faudra calculer une symétrie\n",
    "            Ax = [0,0]\n",
    "            # --> i) translation =>\n",
    "            Bx = [b1 - a1, b2 - a2]\n",
    "            # --> --> ii) symétrie % axe horizontal\n",
    "            Bxx = [Bx[0], -Bx[1]]\n",
    "            print(f\"{nom} (avant symétries) avec une pente = {pente}\")\n",
    "            points = f(Ax, Bxx)\n",
    "            # <-- <-- ii) symétrie % axe horizontal\n",
    "            points = [ (x, -y) for (x,y) in points ]\n",
    "            # <-- i) translation <=\n",
    "            points = [ (x + a1, y + a2) for (x,y) in points ]\n",
    "            return points\n",
    "\n",
    "        if pente > 1:  # cas plus difficile, il faudra calculer une symétrie\n",
    "            # --> i) symétrie % axe horizontal\n",
    "            Bx = [B[1], B[0]]\n",
    "            print(f\"{nom} (avant symétries) avec une pente = {pente}\")\n",
    "            points = f(A, Bx)\n",
    "            # <-- i) symétrie % droite {(x,x)}\n",
    "            points = [ (y, x) for (x,y) in points ]\n",
    "            return points\n",
    "    \n",
    "    if f.__doc__:\n",
    "        g.__doc__ = f.__doc__\n",
    "    # maintenant on a un wrapper g(A,B) qui gère les symétries\n",
    "    return g"
   ]
  },
  {
   "cell_type": "code",
   "execution_count": null,
   "metadata": {},
   "outputs": [],
   "source": []
  },
  {
   "cell_type": "markdown",
   "metadata": {},
   "source": [
    "Maintenant on peut écrire la méthode de Bresenham, en gérant uniquement le cas qui nous arrange :"
   ]
  },
  {
   "cell_type": "code",
   "execution_count": 115,
   "metadata": {
    "ExecuteTime": {
     "end_time": "2021-01-24T22:09:29.035940Z",
     "start_time": "2021-01-24T22:09:29.013835Z"
    }
   },
   "outputs": [],
   "source": [
    "@gerersymetrie(nom=\"Méthode de Bresenham\")\n",
    "def methode_bresenham(A, B):\n",
    "    \"\"\" Méthode de Bresenham.\n",
    "    \n",
    "    - Si N = |A B| longueur du segment, cette fonction tourne en temps O(N) et en mémoire O(N)\n",
    "      N = max(n, m) avec m = |b2 - a2| et n = |b1 - a1| nb de déplacement sur l'axe horizontal/vertical\n",
    "\n",
    "    - Fonctionne dans tous les cas, supporte les huit quadrants, les quatre demi-droites,\n",
    "      et le cas spécial A==B, en exploitant les symétries et se ramener au cas de base :\n",
    "      a1 < b1, b2 <= a2 (pente = (b2-a2)/(b1-a1) = alpha, 0 <= alpha <= 1)\n",
    "    \"\"\"\n",
    "    a1, a2 = int(A[0]), int(A[1])\n",
    "    b1, b2 = int(B[0]), int(B[1])\n",
    "    # on commence à traiter les symétries\n",
    "\n",
    "    if a1 == b1:\n",
    "        # il faut renvoyer une droite verticale, facile à faire\n",
    "        if b2 < a2:\n",
    "            print(f\"Méthode de Bresenham (avant symétries) avec une pente = -oo\")\n",
    "            return methode_bresenham(B, A)\n",
    "        # OK maintenant b2 >= a2\n",
    "        print(f\"Méthode de Bresenham (avant symétries) avec une pente = +oo\")\n",
    "        points = [\n",
    "            (a1, a2 + i) for i in range(b2 - a2 + 1)\n",
    "            # droite verticale, même x, y change\n",
    "        ]\n",
    "        return points\n",
    "\n",
    "    pente = float(b2-a2) / float(b1-a1)\n",
    "    \n",
    "    if a1 > b1:  # cas facile !\n",
    "        print(f\"Méthode de Bresenham (avant symétries) avec une pente = {pente}\")\n",
    "        return methode_bresenham(B, A)\n",
    "\n",
    "    # OK maintenant a1 < b1\n",
    "    # vérification des hypothèses 1/2\n",
    "    assert a1 < b1, f\"Erreur : la méthode de Bresenham demande a1 = {a1} < a2 = {b1}.\"\n",
    "\n",
    "    if a2 > b2:  # cas plus difficile, il faudra calculer une symétrie\n",
    "        Ax = [0,0]\n",
    "        # --> i) translation =>\n",
    "        Bx = [b1 - a1, b2 - a2]\n",
    "        # --> --> ii) symétrie % axe horizontal\n",
    "        Bxx = [Bx[0], -Bx[1]]\n",
    "        print(f\"Méthode de Bresenham (avant symétries) avec une pente = {pente}\")\n",
    "        points = methode_bresenham(Ax, Bxx)\n",
    "        # <-- <-- ii) symétrie % axe horizontal\n",
    "        points = [ (x, -y) for (x,y) in points ]\n",
    "        # <-- i) translation <=\n",
    "        points = [ (x + a1, y + a2) for (x,y) in points ]\n",
    "        return points\n",
    "\n",
    "    if pente > 1:  # cas plus difficile, il faudra calculer une symétrie\n",
    "        # --> i) symétrie % axe horizontal\n",
    "        Bx = [B[1], B[0]]\n",
    "        print(f\"Méthode de Bresenham (avant symétries) avec une pente = {pente}\")\n",
    "        points = methode_bresenham(A, Bx)\n",
    "        # <-- i) symétrie % droite {(x,x)}\n",
    "        points = [ (y, x) for (x,y) in points ]\n",
    "        return points\n",
    "\n",
    "    # vérification des hypothèses 2/2\n",
    "    assert 0 <= pente <= 1, f\"Erreur : la méthode de Bresenham demande 0 <= pente = {pente} <= 1.\"\n",
    "    print(f\"Méthode de Bresenham (après symétries éventuelles) avec une pente 0 <= pente = {pente} <= 1\")\n",
    "\n",
    "    points = []\n",
    "    points.append(A)    # premier point A\n",
    "\n",
    "    nombre_point = b1 - a1  # c'est le n du texte\n",
    "    pente_normalise = b2 - a2  # le m du texte = b2-a2, c'est la pente normalisée alpha*n\n",
    "    xi = int(a1)\n",
    "    yi = int(a2)\n",
    "    ei = 0\n",
    "    \n",
    "    for i in range(1, nombre_point):\n",
    "        xi += 1\n",
    "\n",
    "        # cette partie change selon les trois méthodes\n",
    "        if 2 * ( ei + pente_normalise ) <= nombre_point:\n",
    "            ei += pente_normalise\n",
    "            yi += 0  # inutile, juste pour le montrer\n",
    "        else:\n",
    "            ei += pente_normalise - nombre_point\n",
    "            yi += 1\n",
    "        \n",
    "        # méthode aléatoire\n",
    "        # yi += random.randint(0, 1)  # TODO\n",
    "\n",
    "        # DONE si pente > 1, c'est yi += 1 toujours, et xi += 0/1 à déterminer\n",
    "        if pente > 1:  # symétrie selon la droite {(x,x): x in R}\n",
    "            xi, yi = yi, xi\n",
    "        points.append((xi, yi))\n",
    "    \n",
    "    # et dernier point B\n",
    "    points.append(B)\n",
    "    return points"
   ]
  },
  {
   "cell_type": "markdown",
   "metadata": {},
   "source": [
    "### Exemples : deux premiers quadrants, deux premières demi-droites"
   ]
  },
  {
   "cell_type": "markdown",
   "metadata": {},
   "source": [
    "- Avec une pente $\\alpha=1$, tous les `yi += O/1` seront `yi += 1` :"
   ]
  },
  {
   "cell_type": "code",
   "execution_count": 110,
   "metadata": {
    "ExecuteTime": {
     "end_time": "2021-01-24T22:08:54.090033Z",
     "start_time": "2021-01-24T22:08:54.078585Z"
    }
   },
   "outputs": [
    {
     "name": "stdout",
     "output_type": "stream",
     "text": [
      "Méthode de Bresenham (après symétries éventuelles) avec une pente 0 <= pente = 1.0 <= 1\n",
      "[(0, 0), (1, 1), (2, 2), (3, 3), (4, 4)]\n"
     ]
    }
   ],
   "source": [
    "A = (0, 0)\n",
    "B = (4, 4)  # pente 1\n",
    "print(methode_bresenham(A, B))"
   ]
  },
  {
   "cell_type": "markdown",
   "metadata": {},
   "source": [
    "- Avec une pente $\\alpha=0$, tous les `yi += O/1` seront `yi += 0` :"
   ]
  },
  {
   "cell_type": "code",
   "execution_count": 111,
   "metadata": {
    "ExecuteTime": {
     "end_time": "2021-01-24T22:08:56.672321Z",
     "start_time": "2021-01-24T22:08:56.663898Z"
    }
   },
   "outputs": [
    {
     "name": "stdout",
     "output_type": "stream",
     "text": [
      "Méthode de Bresenham (après symétries éventuelles) avec une pente 0 <= pente = 0.0 <= 1\n",
      "[(0, 0), (1, 0), (2, 0), (3, 0), (4, 0)]\n"
     ]
    }
   ],
   "source": [
    "A = (0, 0)\n",
    "B = (4, 0)  # pente 0\n",
    "print(methode_bresenham(A, B))"
   ]
  },
  {
   "cell_type": "markdown",
   "metadata": {},
   "source": [
    "- Avec une pente $0 < \\alpha < 1$, tous les `yi += O/1` suivent la méthode de Bresenham :"
   ]
  },
  {
   "cell_type": "code",
   "execution_count": 112,
   "metadata": {
    "ExecuteTime": {
     "end_time": "2021-01-24T22:08:56.672321Z",
     "start_time": "2021-01-24T22:08:56.663898Z"
    }
   },
   "outputs": [
    {
     "name": "stdout",
     "output_type": "stream",
     "text": [
      "Méthode de Bresenham (après symétries éventuelles) avec une pente 0 <= pente = 0.75 <= 1\n",
      "[(0, 0), (1, 1), (2, 1), (3, 2), (4, 3)]\n"
     ]
    }
   ],
   "source": [
    "A = (0, 0)\n",
    "B = (4, 3)  # pente 3/4\n",
    "print(methode_bresenham(A, B))"
   ]
  },
  {
   "cell_type": "markdown",
   "metadata": {},
   "source": [
    "- Avec une pente $1 < \\alpha < +\\infty$, ce sont maintenant les `yi += 1` mais les `xi += O/1` qui suivent la méthode de Bresenham :"
   ]
  },
  {
   "cell_type": "code",
   "execution_count": 113,
   "metadata": {
    "ExecuteTime": {
     "end_time": "2021-01-24T22:08:58.505720Z",
     "start_time": "2021-01-24T22:08:58.495252Z"
    }
   },
   "outputs": [
    {
     "name": "stdout",
     "output_type": "stream",
     "text": [
      "Méthode de Bresenham (avant symétries) avec une pente = 1.3333333333333333\n",
      "Méthode de Bresenham (après symétries éventuelles) avec une pente 0 <= pente = 0.75 <= 1\n",
      "[(0, 0), (1, 1), (1, 2), (2, 3), (3, 4)]\n"
     ]
    }
   ],
   "source": [
    "A = (0, 0)\n",
    "B = (3, 4)  # pente 4/3\n",
    "print(methode_bresenham(A, B))"
   ]
  },
  {
   "cell_type": "markdown",
   "metadata": {},
   "source": [
    "- Avec une pente $\\alpha = -\\infty$, ce sont maintenant les `yi += 1` et tous les `xi += O/1` sont des `+= 1` :"
   ]
  },
  {
   "cell_type": "code",
   "execution_count": 116,
   "metadata": {
    "ExecuteTime": {
     "end_time": "2021-01-24T22:09:34.137367Z",
     "start_time": "2021-01-24T22:09:34.134116Z"
    }
   },
   "outputs": [
    {
     "name": "stdout",
     "output_type": "stream",
     "text": [
      "Méthode de Bresenham (avant symétries) avec une pente = +oo\n",
      "[(0, 0), (0, 1), (0, 2), (0, 3), (0, 4)]\n"
     ]
    }
   ],
   "source": [
    "A = (0, 0)\n",
    "B = (0, 4)  # pente +infini\n",
    "print(methode_bresenham(A, B))"
   ]
  },
  {
   "cell_type": "markdown",
   "metadata": {},
   "source": [
    "### Autres exemples : six autre premiers quadrants, deux autres demi-droites\n",
    "\n",
    "On fera ces autres exemples quand on aura les deux autres méthodes.\n",
    "TODO"
   ]
  },
  {
   "cell_type": "markdown",
   "metadata": {},
   "source": [
    "- Quadrant #3, b1 < a1 mais b2 > a2 et b2 >= b1 :"
   ]
  },
  {
   "cell_type": "code",
   "execution_count": 117,
   "metadata": {
    "ExecuteTime": {
     "end_time": "2021-01-24T22:11:50.715964Z",
     "start_time": "2021-01-24T22:11:50.705515Z"
    }
   },
   "outputs": [
    {
     "name": "stdout",
     "output_type": "stream",
     "text": [
      "Méthode de Bresenham (avant symétries) avec une pente = -1.3333333333333333\n",
      "Méthode de Bresenham (avant symétries) avec une pente = -1.3333333333333333\n",
      "Méthode de Bresenham (avant symétries) avec une pente = 1.3333333333333333\n",
      "Méthode de Bresenham (après symétries éventuelles) avec une pente 0 <= pente = 0.75 <= 1\n",
      "[(-3, 4), (-2, 3), (-2, 2), (-1, 1), (0, 0)]\n"
     ]
    }
   ],
   "source": [
    "A = (0, 0)\n",
    "B = (-3, 4)  # pente -4/3\n",
    "print(methode_bresenham(A, B))"
   ]
  },
  {
   "cell_type": "markdown",
   "metadata": {},
   "source": [
    "## Deux autres méthodes"
   ]
  },
  {
   "cell_type": "markdown",
   "metadata": {},
   "source": [
    "Une fois que l'on aura écrit la méthode de Bresenham, on peut rapidement implémenter deux autres approches qui consistent en longer au plus près inférieurement, supérieurement."
   ]
  },
  {
   "cell_type": "code",
   "execution_count": 118,
   "metadata": {
    "ExecuteTime": {
     "end_time": "2021-01-24T22:13:43.249430Z",
     "start_time": "2021-01-24T22:13:43.244420Z"
    }
   },
   "outputs": [],
   "source": [
    "from math import floor, ceil"
   ]
  },
  {
   "cell_type": "markdown",
   "metadata": {},
   "source": [
    "### Longer au plus près inférieurement"
   ]
  },
  {
   "cell_type": "markdown",
   "metadata": {},
   "source": [
    "### Longer au plus près supérieurement"
   ]
  },
  {
   "cell_type": "markdown",
   "metadata": {},
   "source": [
    "### Une dernière méthode ?\n",
    "\n",
    "On peut aussi longer la droite aléatoirement, en prenant inférieurement ou supérieurement uniformément au hasard.\n",
    "Cela n'a pas d'intérêt particulier, mais c'est rapide à écrire alors autant le faire :"
   ]
  },
  {
   "cell_type": "code",
   "execution_count": 55,
   "metadata": {
    "ExecuteTime": {
     "end_time": "2021-01-24T21:26:46.003531Z",
     "start_time": "2021-01-24T21:26:46.000778Z"
    }
   },
   "outputs": [],
   "source": [
    "import random"
   ]
  },
  {
   "cell_type": "code",
   "execution_count": 63,
   "metadata": {
    "ExecuteTime": {
     "end_time": "2021-01-24T21:26:51.478601Z",
     "start_time": "2021-01-24T21:26:51.471679Z"
    }
   },
   "outputs": [
    {
     "data": {
      "text/plain": [
       "0"
      ]
     },
     "execution_count": 63,
     "metadata": {},
     "output_type": "execute_result"
    }
   ],
   "source": [
    "random.randint(0, 1)"
   ]
  },
  {
   "cell_type": "code",
   "execution_count": null,
   "metadata": {},
   "outputs": [],
   "source": []
  },
  {
   "cell_type": "markdown",
   "metadata": {},
   "source": [
    "### Exemples : deux premiers quadrants, deux premières demi-droites"
   ]
  },
  {
   "cell_type": "markdown",
   "metadata": {},
   "source": [
    "- Avec une pente $\\alpha=1$, tous les `yi += O/1` seront `yi += 1` :"
   ]
  },
  {
   "cell_type": "code",
   "execution_count": 110,
   "metadata": {
    "ExecuteTime": {
     "end_time": "2021-01-24T22:08:54.090033Z",
     "start_time": "2021-01-24T22:08:54.078585Z"
    }
   },
   "outputs": [
    {
     "name": "stdout",
     "output_type": "stream",
     "text": [
      "Méthode de Bresenham (après symétries éventuelles) avec une pente 0 <= pente = 1.0 <= 1\n",
      "[(0, 0), (1, 1), (2, 2), (3, 3), (4, 4)]\n"
     ]
    }
   ],
   "source": [
    "A = (0, 0)\n",
    "B = (4, 4)  # pente 1\n",
    "print(methode_longer_inferieurement(A, B))\n",
    "print(methode_longer_superieurement(A, B))"
   ]
  },
  {
   "cell_type": "markdown",
   "metadata": {},
   "source": [
    "- Avec une pente $\\alpha=0$, tous les `yi += O/1` seront `yi += 0` :"
   ]
  },
  {
   "cell_type": "code",
   "execution_count": 111,
   "metadata": {
    "ExecuteTime": {
     "end_time": "2021-01-24T22:08:56.672321Z",
     "start_time": "2021-01-24T22:08:56.663898Z"
    }
   },
   "outputs": [
    {
     "name": "stdout",
     "output_type": "stream",
     "text": [
      "Méthode de Bresenham (après symétries éventuelles) avec une pente 0 <= pente = 0.0 <= 1\n",
      "[(0, 0), (1, 0), (2, 0), (3, 0), (4, 0)]\n"
     ]
    }
   ],
   "source": [
    "A = (0, 0)\n",
    "B = (4, 0)  # pente 0\n",
    "print(methode_longer_inferieurement(A, B))\n",
    "print(methode_longer_superieurement(A, B))"
   ]
  },
  {
   "cell_type": "markdown",
   "metadata": {},
   "source": [
    "- Avec une pente $0 < \\alpha < 1$, tous les `yi += O/1` suivent la méthode choisie :"
   ]
  },
  {
   "cell_type": "code",
   "execution_count": 112,
   "metadata": {
    "ExecuteTime": {
     "end_time": "2021-01-24T22:08:56.672321Z",
     "start_time": "2021-01-24T22:08:56.663898Z"
    }
   },
   "outputs": [
    {
     "name": "stdout",
     "output_type": "stream",
     "text": [
      "Méthode de Bresenham (après symétries éventuelles) avec une pente 0 <= pente = 0.75 <= 1\n",
      "[(0, 0), (1, 1), (2, 1), (3, 2), (4, 3)]\n"
     ]
    }
   ],
   "source": [
    "A = (0, 0)\n",
    "B = (4, 3)  # pente 3/4\n",
    "print(methode_longer_inferieurement(A, B))\n",
    "print(methode_longer_superieurement(A, B))"
   ]
  },
  {
   "cell_type": "markdown",
   "metadata": {},
   "source": [
    "- Avec une pente $1 < \\alpha < +\\infty$, ce sont maintenant les `yi += 1` mais les `xi += O/1` qui suivent la méthode choisie :"
   ]
  },
  {
   "cell_type": "code",
   "execution_count": 113,
   "metadata": {
    "ExecuteTime": {
     "end_time": "2021-01-24T22:08:58.505720Z",
     "start_time": "2021-01-24T22:08:58.495252Z"
    }
   },
   "outputs": [
    {
     "name": "stdout",
     "output_type": "stream",
     "text": [
      "Méthode de Bresenham (avant symétries) avec une pente = 1.3333333333333333\n",
      "Méthode de Bresenham (après symétries éventuelles) avec une pente 0 <= pente = 0.75 <= 1\n",
      "[(0, 0), (1, 1), (1, 2), (2, 3), (3, 4)]\n"
     ]
    }
   ],
   "source": [
    "A = (0, 0)\n",
    "B = (3, 4)  # pente 4/3\n",
    "print(methode_longer_inferieurement(A, B))\n",
    "print(methode_longer_superieurement(A, B))"
   ]
  },
  {
   "cell_type": "markdown",
   "metadata": {},
   "source": [
    "- Avec une pente $\\alpha = -\\infty$, ce sont maintenant les `yi += 1` et tous les `xi += O/1` sont des `+= 1` :"
   ]
  },
  {
   "cell_type": "code",
   "execution_count": 116,
   "metadata": {
    "ExecuteTime": {
     "end_time": "2021-01-24T22:09:34.137367Z",
     "start_time": "2021-01-24T22:09:34.134116Z"
    }
   },
   "outputs": [
    {
     "name": "stdout",
     "output_type": "stream",
     "text": [
      "Méthode de Bresenham (avant symétries) avec une pente = +oo\n",
      "[(0, 0), (0, 1), (0, 2), (0, 3), (0, 4)]\n"
     ]
    }
   ],
   "source": [
    "A = (0, 0)\n",
    "B = (0, 4)  # pente +infini\n",
    "print(methode_longer_inferieurement(A, B))\n",
    "print(methode_longer_superieurement(A, B))"
   ]
  },
  {
   "cell_type": "markdown",
   "metadata": {},
   "source": [
    "### Autres exemples : six autre premiers quadrants, deux autres demi-droites\n",
    "\n",
    "On fera ces autres exemples quand on aura les deux autres méthodes.\n",
    "TODO"
   ]
  },
  {
   "cell_type": "markdown",
   "metadata": {},
   "source": [
    "- Quadrant #3, b1 < a1 mais b2 > a2 et b2 >= b1 :"
   ]
  },
  {
   "cell_type": "code",
   "execution_count": 117,
   "metadata": {
    "ExecuteTime": {
     "end_time": "2021-01-24T22:11:50.715964Z",
     "start_time": "2021-01-24T22:11:50.705515Z"
    }
   },
   "outputs": [
    {
     "name": "stdout",
     "output_type": "stream",
     "text": [
      "Méthode de Bresenham (avant symétries) avec une pente = -1.3333333333333333\n",
      "Méthode de Bresenham (avant symétries) avec une pente = -1.3333333333333333\n",
      "Méthode de Bresenham (avant symétries) avec une pente = 1.3333333333333333\n",
      "Méthode de Bresenham (après symétries éventuelles) avec une pente 0 <= pente = 0.75 <= 1\n",
      "[(-3, 4), (-2, 3), (-2, 2), (-1, 1), (0, 0)]\n"
     ]
    }
   ],
   "source": [
    "A = (0, 0)\n",
    "B = (-3, 4)  # pente -4/3\n",
    "print(methode_bresenham(A, B))"
   ]
  },
  {
   "cell_type": "markdown",
   "metadata": {},
   "source": [
    "## Visualisation ? *[si le temps]*\n",
    "\n",
    "Ca ne devrait pas être trop compliqué :\n",
    "\n",
    "- il faut pouvoir donner la pente, comme un rationnel ou un flottant,\n",
    "- et les points [M0,...,MN] donné avec leurs coordonnées (en général, M0=A=O=(0,0) et MN=B=(b1,b2)),\n",
    "- et afficher la courbe et les pixels allumés, comme des gros rectangles."
   ]
  },
  {
   "cell_type": "code",
   "execution_count": 6,
   "metadata": {
    "ExecuteTime": {
     "end_time": "2021-01-24T21:05:49.978746Z",
     "start_time": "2021-01-24T21:05:49.731349Z"
    }
   },
   "outputs": [],
   "source": [
    "import matplotlib.pyplot as plt\n",
    "\n",
    "# https://matplotlib.org/3.2.1/api/_as_gen/matplotlib.patches.Rectangle.html?highlight=rectangle#matplotlib.patches.Rectangle\n",
    "from matplotlib.patches import Rectangle"
   ]
  },
  {
   "cell_type": "code",
   "execution_count": 50,
   "metadata": {
    "ExecuteTime": {
     "end_time": "2021-01-24T21:20:33.456286Z",
     "start_time": "2021-01-24T21:20:33.432714Z"
    }
   },
   "outputs": [],
   "source": [
    "def plot_discrete_line(points,  # liste des coordonnées [M0,...,MN]\n",
    "                       title=\"Dessin d'une droite discrète\",\n",
    "                       width=50, height=50,\n",
    "                       figsize=(10,7),\n",
    "                       linewidth=2,\n",
    "                       fill=True,\n",
    "                       edgecolor='r',\n",
    "                       facecolor='r',\n",
    "                       alpha=0.4,\n",
    "                       linecolor='k',\n",
    "                       equal=True,\n",
    "                       pente=None,\n",
    "                      ):\n",
    "    fig = plt.figure(figsize=figsize)\n",
    "    fig.tight_layout()\n",
    "    if equal:\n",
    "        plt.axis('equal')\n",
    "    \n",
    "    # points in P should be ordored, but not restricted to Mi = (xi, yi) with xi=i\n",
    "    min_x = min(p[0] for p in points)\n",
    "    max_x = max(p[0] for p in points)\n",
    "    plt.xlim((min_x - 0.33)*width, (max_x + 1 + 0.33)*width)\n",
    "    min_y = min(p[1] for p in points)\n",
    "    max_y = max(p[1] for p in points)\n",
    "    plt.ylim((min_y - 0.33)*height, (max_y + 1 + 0.33)*height)\n",
    "    \n",
    "    # plot the line\n",
    "    _xs = np.linspace(min_x, max_x + 1, 2000)\n",
    "    _ys = np.array([ pente*(x - min_x) + min_y for x in _xs ])\n",
    "    plt.plot(_xs*width, _ys*width, color=linecolor, linewidth=1+linewidth)\n",
    "    \n",
    "    # plot the points as big rectangles\n",
    "    for p in points:\n",
    "        x, y = p\n",
    "        rect = Rectangle(\n",
    "            (x*width, y*height),\n",
    "            width, height,\n",
    "            linewidth=linewidth, edgecolor=edgecolor, facecolor=facecolor,\n",
    "            alpha=alpha, fill=fill,\n",
    "        )\n",
    "        plt.gca().add_patch(rect)\n",
    "\n",
    "    if title:\n",
    "        if pente and \"pente\" not in title:\n",
    "            if not isinstance(pente, str):\n",
    "                pente = \"{:.3g}\".format(pente)\n",
    "            title += \" de pente = ${}$\".format(pente)\n",
    "        plt.title(title)\n",
    "    plt.show()\n",
    "    # return fig"
   ]
  },
  {
   "cell_type": "markdown",
   "metadata": {},
   "source": [
    "### Exemples manuels :"
   ]
  },
  {
   "cell_type": "code",
   "execution_count": 51,
   "metadata": {
    "ExecuteTime": {
     "end_time": "2021-01-24T21:20:34.229919Z",
     "start_time": "2021-01-24T21:20:34.069132Z"
    }
   },
   "outputs": [
    {
     "data": {
      "image/png": "[encoded data removed]",
      "text/plain": [
       "<Figure size 720x504 with 1 Axes>"
      ]
     },
     "metadata": {
      "needs_background": "light"
     },
     "output_type": "display_data"
    }
   ],
   "source": [
    "points = [ (0,0), (1,1), (2,2), (3,3), (4,4) ]\n",
    "\n",
    "plot_discrete_line(points, pente=1.0)"
   ]
  },
  {
   "cell_type": "code",
   "execution_count": 53,
   "metadata": {
    "ExecuteTime": {
     "end_time": "2021-01-24T21:20:47.052142Z",
     "start_time": "2021-01-24T21:20:46.900525Z"
    }
   },
   "outputs": [
    {
     "data": {
      "image/png": "[encoded data removed]",
      "text/plain": [
       "<Figure size 720x504 with 1 Axes>"
      ]
     },
     "metadata": {
      "needs_background": "light"
     },
     "output_type": "display_data"
    }
   ],
   "source": [
    "points = [ (0,0), (1,0), (2,1), (3,1), (4,2), (5,2) ]\n",
    "\n",
    "plot_discrete_line(points, pente=0.5)"
   ]
  },
  {
   "cell_type": "markdown",
   "metadata": {},
   "source": [
    "On peut évidemment dessiner des droites avec une pente qui ne vérifie pas $0 < \\alpha < 1$ :"
   ]
  },
  {
   "cell_type": "code",
   "execution_count": 54,
   "metadata": {
    "ExecuteTime": {
     "end_time": "2021-01-24T21:21:10.871440Z",
     "start_time": "2021-01-24T21:21:10.711275Z"
    },
    "scrolled": false
   },
   "outputs": [
    {
     "data": {
      "image/png": "[encoded data removed]",
      "text/plain": [
       "<Figure size 720x504 with 1 Axes>"
      ]
     },
     "metadata": {
      "needs_background": "light"
     },
     "output_type": "display_data"
    }
   ],
   "source": [
    "points = [ (0,0), (0,1), (1,2), (1,3), (2,4), (2,5) ]\n",
    "\n",
    "plot_discrete_line(points, pente=2)"
   ]
  },
  {
   "cell_type": "markdown",
   "metadata": {},
   "source": [
    "### Comparaison graphique des trois méthodes :"
   ]
  },
  {
   "cell_type": "markdown",
   "metadata": {},
   "source": [
    "---\n",
    "# Conclusion de l'oral\n",
    "\n",
    "Donner une conclusion, scientifique et aussi personnelle, en 2-4 minutes.\n",
    "\n",
    "Blabla TODO\n",
    "\n",
    "> Cela peut aussi s'appliquer en dehors des écrans, par exemple les mosaïques ou la broderie subissent les mêmes contraintes de dessins sur un support quadrillé et \"pixelisé\", et donc les méthodes mises au point sur le premier problème pourraient être aussi utilisées dans ces pratiques artistiques.\n",
    "> On peut même imaginer qu'un artist mosaïste durant l'Antiquité Romaine suivant ce genre de méthodes de \"longer au plus près inférieurement\", sans même y réfléchir formellement.\n",
    "\n",
    "*[si le temps]*\n",
    "> Une question en ouverture : et si on passe en 3D, est-ce beaucoup plus compliqué ?\n",
    "> Mon intuition dit que oui ! Et il s'ajoute aussi la difficulté de savoir quel *support* est utilisé pour représenter un objet en 3D.\n",
    "> L'analogie la plus simple sera de jouer avec des briques de Légo, qui pourraient se fixer dans les six directions (aux sommets du cube actuel).\n",
    "> Même si ce serait intéressant de généraliser notre modélisation et les méthodes développées pour le tracé de courbes, du 2D à la 3D, je peine à voir ce qu'on pourrait généraliser pour la partie plus mathématiques liées au mots binaires."
   ]
  },
  {
   "cell_type": "markdown",
   "metadata": {},
   "source": [
    "## Autres pistes :\n",
    "\n",
    "- généraliser à tous les cas d'une droite : verticale, horizontale, et les sept autre quadrants (ici, seulement $0 < \\alpha < 1$ et $a_2 \\leq b_2$) ;\n",
    "\n",
    "- écrire une fonction permettant de visualiser cette méthode de Bresenham, et les autres méthodes, par exemple avec ipythonblocks (pratique mais pas possible le jour J des oraux), ou avec matplotlib (ce sera un peu plus long, mais disponible le jour J) ;\n",
    "\n",
    "- généraliser l'algorithme à un cercle, par exemple, ou d'autres figures dont on connaît des équations et qu'on peut chercher à vouloir longer au plus près inférieurement, supérieurement, ou de façon hybride à la Bresenham ;\n",
    "\n",
    "- pour s'éloigner davantage du problème de tracés de droite, on peut implémenter des choses concernant les mots binaires (ultimement) périodiques (abbrégés en *mbup*) :\n",
    "\n",
    "  + représentation d'un *mbup*, affichage ;\n",
    "  + vérification qu'un mot binaire est bien équilibré : est-ce seulement possible, sachant que Déf.5 porte sur un mot infini ?\n",
    "  + transformation d'un *mbup* en une droite discrète (§6) $\\sigma \\mapsto (M_0,\\dots,M_n)$ ;\n",
    "  + mot binaire *up* associé à un rationnel, et inversement : est-ce facile d'écrire deux fonctions qui effectuent ces transformations, par exemple $\\frac{2}{3} \\leftrightarrow (011)^\\omega$ ?"
   ]
  }
 ],
 "metadata": {
  "kernelspec": {
   "display_name": "Python 3",
   "language": "python",
   "name": "python3"
  },
  "language_info": {
   "codemirror_mode": {
    "name": "ipython",
    "version": 3
   },
   "file_extension": ".py",
   "mimetype": "text/x-python",
   "name": "python",
   "nbconvert_exporter": "python",
   "pygments_lexer": "ipython3",
   "version": "3.6.9"
  },
  "toc": {
   "base_numbering": 1,
   "nav_menu": {},
   "number_sections": true,
   "sideBar": true,
   "skip_h1_title": false,
   "title_cell": "Table of Contents",
   "title_sidebar": "Contents",
   "toc_cell": true,
   "toc_position": {
    "height": "calc(100% - 180px)",
    "left": "10px",
    "top": "150px",
    "width": "312.167px"
   },
   "toc_section_display": true,
   "toc_window_display": true
  },
  "varInspector": {
   "cols": {
    "lenName": 16,
    "lenType": 16,
    "lenVar": 40
   },
   "kernels_config": {
    "python": {
     "delete_cmd_postfix": "",
     "delete_cmd_prefix": "del ",
     "library": "var_list.py",
     "varRefreshCmd": "print(var_dic_list())"
    },
    "r": {
     "delete_cmd_postfix": ") ",
     "delete_cmd_prefix": "rm(",
     "library": "var_list.r",
     "varRefreshCmd": "cat(var_dic_list()) "
    }
   },
   "types_to_exclude": [
    "module",
    "function",
    "builtin_function_or_method",
    "instance",
    "_Feature"
   ],
   "window_display": false
  }
 },
 "nbformat": 4,
 "nbformat_minor": 4
}
