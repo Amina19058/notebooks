{
 "cells": [
  {
   "cell_type": "markdown",
   "metadata": {
    "deletable": true,
    "editable": true,
    "toc": "true"
   },
   "source": [
    "# Table of Contents\n",
    " <p><div class=\"lev1 toc-item\"><a href=\"#Texte-d'oral-de-modélisation---Agrégation-Option-Informatique\" data-toc-modified-id=\"Texte-d'oral-de-modélisation---Agrégation-Option-Informatique-1\"><span class=\"toc-item-num\">1&nbsp;&nbsp;</span>Texte d'oral de modélisation - Agrégation Option Informatique</a></div><div class=\"lev2 toc-item\"><a href=\"#Préparation-à-l'agrégation---ENS-de-Rennes,-2016-17\" data-toc-modified-id=\"Préparation-à-l'agrégation---ENS-de-Rennes,-2016-17-11\"><span class=\"toc-item-num\">1.1&nbsp;&nbsp;</span>Préparation à l'agrégation - ENS de Rennes, 2016-17</a></div><div class=\"lev2 toc-item\"><a href=\"#À-propos-de-ce-document\" data-toc-modified-id=\"À-propos-de-ce-document-12\"><span class=\"toc-item-num\">1.2&nbsp;&nbsp;</span>À propos de ce document</a></div><div class=\"lev2 toc-item\"><a href=\"#Implémentation\" data-toc-modified-id=\"Implémentation-13\"><span class=\"toc-item-num\">1.3&nbsp;&nbsp;</span>Implémentation</a></div><div class=\"lev3 toc-item\"><a href=\"#Une-bonne-structure-de-donnée-pour-des-intervalles-et-des-graphes-d'intervales\" data-toc-modified-id=\"Une-bonne-structure-de-donnée-pour-des-intervalles-et-des-graphes-d'intervales-131\"><span class=\"toc-item-num\">1.3.1&nbsp;&nbsp;</span>Une bonne structure de donnée pour des intervalles et des graphes d'intervales</a></div><div class=\"lev3 toc-item\"><a href=\"#Algorithme-de-coloriage-de-graphe-d'intervalles\" data-toc-modified-id=\"Algorithme-de-coloriage-de-graphe-d'intervalles-132\"><span class=\"toc-item-num\">1.3.2&nbsp;&nbsp;</span>Algorithme de coloriage de graphe d'intervalles</a></div><div class=\"lev2 toc-item\"><a href=\"#Exemples\" data-toc-modified-id=\"Exemples-14\"><span class=\"toc-item-num\">1.4&nbsp;&nbsp;</span>Exemples</a></div><div class=\"lev3 toc-item\"><a href=\"#Le-problème-des-frigos\" data-toc-modified-id=\"Le-problème-des-frigos-141\"><span class=\"toc-item-num\">1.4.1&nbsp;&nbsp;</span>Le problème des frigos</a></div><div class=\"lev3 toc-item\"><a href=\"#Le-problème-du-CSA\" data-toc-modified-id=\"Le-problème-du-CSA-142\"><span class=\"toc-item-num\">1.4.2&nbsp;&nbsp;</span>Le problème du CSA</a></div><div class=\"lev3 toc-item\"><a href=\"#Le-problème-du-wagon-restaurant\" data-toc-modified-id=\"Le-problème-du-wagon-restaurant-143\"><span class=\"toc-item-num\">1.4.3&nbsp;&nbsp;</span>Le problème du wagon restaurant</a></div><div class=\"lev2 toc-item\"><a href=\"#Bonus\" data-toc-modified-id=\"Bonus-15\"><span class=\"toc-item-num\">1.5&nbsp;&nbsp;</span>Bonus</a></div><div class=\"lev3 toc-item\"><a href=\"#Visualisation-des-graphes-définis-dans-les-exemples\" data-toc-modified-id=\"Visualisation-des-graphes-définis-dans-les-exemples-151\"><span class=\"toc-item-num\">1.5.1&nbsp;&nbsp;</span>Visualisation des graphes définis dans les exemples</a></div><div class=\"lev2 toc-item\"><a href=\"#Conclusion\" data-toc-modified-id=\"Conclusion-16\"><span class=\"toc-item-num\">1.6&nbsp;&nbsp;</span>Conclusion</a></div>"
   ]
  },
  {
   "cell_type": "markdown",
   "metadata": {
    "deletable": true,
    "editable": true
   },
   "source": [
    "# Texte d'oral de modélisation - Agrégation Option Informatique\n",
    "## Préparation à l'agrégation - ENS de Rennes, 2016-17\n",
    "- *Date* : 3 avril 2017\n",
    "- *Auteur* : [Lilian Besson](https://GitHub.com/Naereen/notebooks/)\n",
    "- *Texte*: Annale 2017, \"Crime Parfait\""
   ]
  },
  {
   "cell_type": "markdown",
   "metadata": {
    "deletable": true,
    "editable": true
   },
   "source": [
    "## À propos de ce document\n",
    "- Ceci est une *proposition* de correction, partielle et probablement non-optimale, pour un la partie implémentation d'un [texte d'annale de l'agrégation de mathématiques, option informatique](http://Agreg.org/Textes/).\n",
    "- Ce document est un [notebook Jupyter](https://www.Jupyter.org/), et [est open-source sous Licence MIT sur GitHub](https://github.com/Naereen/notebooks/tree/master/agreg/), comme les autres solutions de textes de modélisation que [j](https://GitHub.com/Naereen)'ai écrite cette année.\n",
    "- L'implémentation sera faite en OCaml, version 4+ :"
   ]
  },
  {
   "cell_type": "code",
   "execution_count": 14,
   "metadata": {
    "collapsed": false,
    "deletable": true,
    "editable": true
   },
   "outputs": [
    {
     "name": "stdout",
     "output_type": "stream",
     "text": [
      "The OCaml toplevel, version 4.02.3\n"
     ]
    },
    {
     "data": {
      "text/html": [
       "<pre style=\"color:slategray;max-height:100px;overflow:hidden\" \n",
       "onclick=\"\n",
       "if (this.style.maxHeight === 'none') \n",
       "    this.style.maxHeight = '100px';\n",
       "else\n",
       "    this.style.maxHeight = 'none'; \n",
       "\">- : int = 0\n",
       "</pre>"
      ]
     },
     "execution_count": 14,
     "metadata": {},
     "output_type": "execute_result"
    }
   ],
   "source": [
    "Sys.command \"ocaml -version\";;"
   ]
  },
  {
   "cell_type": "markdown",
   "metadata": {
    "deletable": true,
    "editable": true
   },
   "source": [
    "----\n",
    "## Implémentation\n",
    "La question d'implémentation était la question 2) en page 7.\n",
    "\n",
    "> « Proposer une structure de donnée adaptée pour représenter un graphe d'intervalles dont une représentation sous forme de famille d’intervalles est connue.\n",
    "> Implémenter de manière efficace l’algorithme de coloriage de graphes d'intervalles et illustrer cet algorithme sur une application bien choisie citée dans le texte. »\n",
    "\n",
    "Nous allons donc d'abord définir une structure de donnée pour une famille d'intervalles ainsi que pour un graphe d'intervalle, ainsi qu'une fonction convertissant l'un en l'autre.\n",
    "\n",
    "Cela permettra de facilement définr les différents exemples du texte, et de les résoudre."
   ]
  },
  {
   "cell_type": "markdown",
   "metadata": {
    "deletable": true,
    "editable": true
   },
   "source": [
    "### Une bonne structure de donnée pour des intervalles et des graphes d'intervales\n",
    "\n",
    "- Pour des **intervalles** à valeurs réelles, on se restreint par convénience à des valeurs entières."
   ]
  },
  {
   "cell_type": "code",
   "execution_count": 2,
   "metadata": {
    "collapsed": false,
    "deletable": true,
    "editable": true
   },
   "outputs": [
    {
     "data": {
      "text/html": [
       "<pre style=\"color:slategray;max-height:100px;overflow:hidden\" \n",
       "onclick=\"\n",
       "if (this.style.maxHeight === 'none') \n",
       "    this.style.maxHeight = '100px';\n",
       "else\n",
       "    this.style.maxHeight = 'none'; \n",
       "\">type intervalle = int * int\n",
       "</pre>"
      ]
     },
     "execution_count": 2,
     "metadata": {},
     "output_type": "execute_result"
    },
    {
     "data": {
      "text/html": [
       "<pre style=\"color:slategray;max-height:100px;overflow:hidden\" \n",
       "onclick=\"\n",
       "if (this.style.maxHeight === 'none') \n",
       "    this.style.maxHeight = '100px';\n",
       "else\n",
       "    this.style.maxHeight = 'none'; \n",
       "\">type intervalles = intervalle list\n",
       "</pre>"
      ]
     },
     "execution_count": 2,
     "metadata": {},
     "output_type": "execute_result"
    }
   ],
   "source": [
    "type intervalle = (int * int);;\n",
    "type intervalles = intervalle list;;"
   ]
  },
  {
   "cell_type": "markdown",
   "metadata": {
    "deletable": true,
    "editable": true
   },
   "source": [
    "- Pour des **graphes d'intervalles**, on utilise une simple représentation sous forme de liste d'adjacence, plus facile à mettre en place en OCaml qu'une représentation sous forme de matrice."
   ]
  },
  {
   "cell_type": "code",
   "execution_count": 3,
   "metadata": {
    "collapsed": false,
    "deletable": true,
    "editable": true
   },
   "outputs": [
    {
     "data": {
      "text/html": [
       "<pre style=\"color:slategray;max-height:100px;overflow:hidden\" \n",
       "onclick=\"\n",
       "if (this.style.maxHeight === 'none') \n",
       "    this.style.maxHeight = '100px';\n",
       "else\n",
       "    this.style.maxHeight = 'none'; \n",
       "\">type sommet = int\n",
       "</pre>"
      ]
     },
     "execution_count": 3,
     "metadata": {},
     "output_type": "execute_result"
    },
    {
     "data": {
      "text/html": [
       "<pre style=\"color:slategray;max-height:100px;overflow:hidden\" \n",
       "onclick=\"\n",
       "if (this.style.maxHeight === 'none') \n",
       "    this.style.maxHeight = '100px';\n",
       "else\n",
       "    this.style.maxHeight = 'none'; \n",
       "\">type voisins = sommet list\n",
       "</pre>"
      ]
     },
     "execution_count": 3,
     "metadata": {},
     "output_type": "execute_result"
    },
    {
     "data": {
      "text/html": [
       "<pre style=\"color:slategray;max-height:100px;overflow:hidden\" \n",
       "onclick=\"\n",
       "if (this.style.maxHeight === 'none') \n",
       "    this.style.maxHeight = '100px';\n",
       "else\n",
       "    this.style.maxHeight = 'none'; \n",
       "\">type graphe_intervalle = voisins list\n",
       "</pre>"
      ]
     },
     "execution_count": 3,
     "metadata": {},
     "output_type": "execute_result"
    }
   ],
   "source": [
    "type sommet = int;;\n",
    "type voisins = sommet list;;\n",
    "type graphe_intervalle = voisins list;;"
   ]
  },
  {
   "cell_type": "markdown",
   "metadata": {
    "deletable": true,
    "editable": true
   },
   "source": [
    "- On peut rapidement écrire une fonction qui va convertir une liste d'intervalle (`intervalles`) en un graphe d'intervalle."
   ]
  },
  {
   "cell_type": "code",
   "execution_count": 4,
   "metadata": {
    "collapsed": false,
    "deletable": true,
    "editable": true
   },
   "outputs": [
    {
     "data": {
      "text/html": [
       "<pre style=\"color:slategray;max-height:100px;overflow:hidden\" \n",
       "onclick=\"\n",
       "if (this.style.maxHeight === 'none') \n",
       "    this.style.maxHeight = '100px';\n",
       "else\n",
       "    this.style.maxHeight = 'none'; \n",
       "\">val graphe_depuis_intervalles : intervalles -&gt; graphe_intervalle = &lt;fun&gt;\n",
       "</pre>"
      ]
     },
     "execution_count": 4,
     "metadata": {},
     "output_type": "execute_result"
    }
   ],
   "source": [
    "let graphe_depuis_intervalles (intvls : intervalles) : graphe_intervalle =\n",
    "    let n = List.length intvls in                   (* Nomber de sommet *)\n",
    "    let array_intvls = Array.of_list intvls in      (* Tableau des intervalles *)\n",
    "    let index_intvls = Array.to_list (\n",
    "        Array.init n (fun i -> (\n",
    "            array_intvls.(i), i)                    (* Associe un intervalle à son indice *)\n",
    "        )\n",
    "    ) in\n",
    "    let gr = List.map (fun (a, b) ->                (* Pour chaque intervalle [a, b] *)\n",
    "        List.filter (fun (x, y) ->                  (* On ajoute [x, y] s'il intersecte [a, b] *)\n",
    "            (x, y) <> (a, b)                        (* Intervalle différent *)\n",
    "            && not ( (b < x) || (y < a) )           (* pas x---y a---b ni a---b x---y *)\n",
    "        ) intvls\n",
    "    ) intvls in\n",
    "    (* On transforme la liste de liste d'intervalles en une liste de liste d'entiers *)\n",
    "    List.map (fun voisins ->\n",
    "        List.map (fun sommet ->                     (* Grace au tableau index_intvls *)\n",
    "            List.assoc sommet index_intvls\n",
    "        ) voisins\n",
    "    ) gr\n",
    ";;"
   ]
  },
  {
   "cell_type": "markdown",
   "metadata": {
    "deletable": true,
    "editable": true
   },
   "source": [
    "### Algorithme de coloriage de graphe d'intervalles\n",
    "\n",
    "> Étant donné un graphe $G = (V, E)$, on cherche un entier $n$ minimal et une fonction $c : V \\to \\{1, \\cdots, n\\}$ telle que si $(v_1 , v_2) \\in E$, alors $c(v_1) \\neq c(v_2)$.\n",
    "\n",
    "On suit les indications de l'énoncé pour implémenter facilement cet algorithme.\n",
    "\n",
    "> Une *heuristique* simple pour résoudre ce problème consiste à appliquer l’algorithme glouton suivant :\n",
    "> - tant qu'il reste reste des sommets non coloriés,\n",
    ">    + en choisir un\n",
    ">    + et le colorier avec le plus petit entier qui n’apparait pas dans les voisins déjà coloriés.\n",
    "\n",
    "\n",
    "> En choisissant bien le nouveau sommet à colorier à chaque fois, cette heuristique se révelle optimale pour les graphes d’intervalles.\n",
    "\n",
    "On peut d'abord définir un type de donnée pour un coloriage, sous la forme d'une liste de couple d'intervalle et de couleur.\n",
    "Ainsi, `List.assoc` peut être utilisée pour donner le coloriage de chaque intervalle."
   ]
  },
  {
   "cell_type": "code",
   "execution_count": 88,
   "metadata": {
    "collapsed": false
   },
   "outputs": [
    {
     "data": {
      "text/html": [
       "<pre style=\"color:slategray;max-height:100px;overflow:hidden\" \n",
       "onclick=\"\n",
       "if (this.style.maxHeight === 'none') \n",
       "    this.style.maxHeight = '100px';\n",
       "else\n",
       "    this.style.maxHeight = 'none'; \n",
       "\">type couleur = int\n",
       "</pre>"
      ]
     },
     "execution_count": 88,
     "metadata": {},
     "output_type": "execute_result"
    },
    {
     "data": {
      "text/html": [
       "<pre style=\"color:slategray;max-height:100px;overflow:hidden\" \n",
       "onclick=\"\n",
       "if (this.style.maxHeight === 'none') \n",
       "    this.style.maxHeight = '100px';\n",
       "else\n",
       "    this.style.maxHeight = 'none'; \n",
       "\">type coloriage = (intervalle * couleur) list\n",
       "</pre>"
      ]
     },
     "execution_count": 88,
     "metadata": {},
     "output_type": "execute_result"
    },
    {
     "data": {
      "text/html": [
       "<pre style=\"color:slategray;max-height:100px;overflow:hidden\" \n",
       "onclick=\"\n",
       "if (this.style.maxHeight === 'none') \n",
       "    this.style.maxHeight = '100px';\n",
       "else\n",
       "    this.style.maxHeight = 'none'; \n",
       "\">val coloriage_depuis_couleurs : intervalles -&gt; couleur array -&gt; coloriage =\n",
       "  &lt;fun&gt;\n",
       "</pre>"
      ]
     },
     "execution_count": 88,
     "metadata": {},
     "output_type": "execute_result"
    },
    {
     "data": {
      "text/html": [
       "<pre style=\"color:slategray;max-height:100px;overflow:hidden\" \n",
       "onclick=\"\n",
       "if (this.style.maxHeight === 'none') \n",
       "    this.style.maxHeight = '100px';\n",
       "else\n",
       "    this.style.maxHeight = 'none'; \n",
       "\">- : 'a -&gt; ('a * 'b) list -&gt; 'b = &lt;fun&gt;\n",
       "</pre>"
      ]
     },
     "execution_count": 88,
     "metadata": {},
     "output_type": "execute_result"
    }
   ],
   "source": [
    "type couleur = int;;\n",
    "type coloriage = (intervalle * couleur) list;;\n",
    "\n",
    "let coloriage_depuis_couleurs (intvl : intervalles) (c : couleur array) : coloriage =\n",
    "    Array.to_list (Array.init (Array.length c) (fun i -> (List.nth intvl i), c.(i)));;\n",
    "\n",
    "List.assoc;;"
   ]
  },
  {
   "cell_type": "markdown",
   "metadata": {},
   "source": [
    "Ensuite, l'ordre partiel sur les intervalles est défini comme ça :\n",
    "\n",
    "$$ I = (a,b) <_i J=(x, y) \\Longleftrightarrow a < x $$"
   ]
  },
  {
   "cell_type": "code",
   "execution_count": 46,
   "metadata": {
    "collapsed": false
   },
   "outputs": [
    {
     "data": {
      "text/html": [
       "<pre style=\"color:slategray;max-height:100px;overflow:hidden\" \n",
       "onclick=\"\n",
       "if (this.style.maxHeight === 'none') \n",
       "    this.style.maxHeight = '100px';\n",
       "else\n",
       "    this.style.maxHeight = 'none'; \n",
       "\">val ordre_partiel : intervalle -&gt; intervalle -&gt; bool = &lt;fun&gt;\n",
       "</pre>"
      ]
     },
     "execution_count": 46,
     "metadata": {},
     "output_type": "execute_result"
    }
   ],
   "source": [
    "let ordre_partiel ((a, b) : intervalle) ((x, y) : intervalle) =\n",
    "    a < x\n",
    ";;"
   ]
  },
  {
   "cell_type": "markdown",
   "metadata": {},
   "source": [
    "On a ensuite besoin d'une fonction qui va calculer l'inf de $\\mathbb{N} \\setminus \\{x : x \\in \\mathrm{valeurs} \\}$:"
   ]
  },
  {
   "cell_type": "code",
   "execution_count": 71,
   "metadata": {
    "collapsed": false
   },
   "outputs": [
    {
     "data": {
      "text/html": [
       "<pre style=\"color:slategray;max-height:100px;overflow:hidden\" \n",
       "onclick=\"\n",
       "if (this.style.maxHeight === 'none') \n",
       "    this.style.maxHeight = '100px';\n",
       "else\n",
       "    this.style.maxHeight = 'none'; \n",
       "\">val inf_N_minus : int list -&gt; int = &lt;fun&gt;\n",
       "</pre>"
      ]
     },
     "execution_count": 71,
     "metadata": {},
     "output_type": "execute_result"
    }
   ],
   "source": [
    "let inf_N_minus valeurs =\n",
    "    let res = ref 0 in\n",
    "    while List.mem !res valeurs do\n",
    "        incr res;\n",
    "    done;\n",
    "    !res\n",
    ";;"
   ]
  },
  {
   "cell_type": "code",
   "execution_count": 74,
   "metadata": {
    "collapsed": false
   },
   "outputs": [
    {
     "data": {
      "text/html": [
       "<pre style=\"color:slategray;max-height:100px;overflow:hidden\" \n",
       "onclick=\"\n",
       "if (this.style.maxHeight === 'none') \n",
       "    this.style.maxHeight = '100px';\n",
       "else\n",
       "    this.style.maxHeight = 'none'; \n",
       "\">- : int = 2\n",
       "</pre>"
      ]
     },
     "execution_count": 74,
     "metadata": {},
     "output_type": "execute_result"
    },
    {
     "data": {
      "text/html": [
       "<pre style=\"color:slategray;max-height:100px;overflow:hidden\" \n",
       "onclick=\"\n",
       "if (this.style.maxHeight === 'none') \n",
       "    this.style.maxHeight = '100px';\n",
       "else\n",
       "    this.style.maxHeight = 'none'; \n",
       "\">- : int = 7\n",
       "</pre>"
      ]
     },
     "execution_count": 74,
     "metadata": {},
     "output_type": "execute_result"
    }
   ],
   "source": [
    "inf_N_minus [0; 1; 3];;  (* 2 *)\n",
    "inf_N_minus [0; 1; 2; 3; 4; 5; 6; 10];; (* 7 *)"
   ]
  },
  {
   "cell_type": "markdown",
   "metadata": {},
   "source": [
    "Enfin, on a besoin d'une fonction pour trouver l'intervalle $I \\in V$, minimal pour $<_i$, tel que $c(I) = +\\infty$."
   ]
  },
  {
   "cell_type": "code",
   "execution_count": 78,
   "metadata": {
    "collapsed": false
   },
   "outputs": [
    {
     "data": {
      "text/html": [
       "<pre style=\"color:slategray;max-height:100px;overflow:hidden\" \n",
       "onclick=\"\n",
       "if (this.style.maxHeight === 'none') \n",
       "    this.style.maxHeight = '100px';\n",
       "else\n",
       "    this.style.maxHeight = 'none'; \n",
       "\">val trouve_min_interval :\n",
       "  intervalle list -&gt; coloriage -&gt; couleur -&gt; intervalle = &lt;fun&gt;\n",
       "</pre>"
      ]
     },
     "execution_count": 78,
     "metadata": {},
     "output_type": "execute_result"
    }
   ],
   "source": [
    "let trouve_min_interval intvl (c : coloriage) (inf : couleur) =\n",
    "    let colorie inter = List.assoc inter c in\n",
    "    (* D'abord on extraie {I : c(I) = +oo} *)\n",
    "    let intvl2 = List.filter (fun i -> (colorie i) = inf) intvl in\n",
    "    (* Puis on parcourt la liste et on garde le plus petit pour l'ordre *)\n",
    "    let i0 = ref 0 in\n",
    "    for j = 1 to (List.length intvl2) - 1 do\n",
    "        if ordre_partiel (List.nth intvl2 j) (List.nth intvl2 !i0) then\n",
    "            i0 := j;\n",
    "    done;\n",
    "    List.nth intvl2 !i0;\n",
    ";;"
   ]
  },
  {
   "cell_type": "markdown",
   "metadata": {},
   "source": [
    "Et donc tout cela permet de finir l'algorithme, tel que décrit dans le texte :"
   ]
  },
  {
   "cell_type": "code",
   "execution_count": 106,
   "metadata": {
    "collapsed": false,
    "deletable": true,
    "editable": true
   },
   "outputs": [
    {
     "data": {
      "text/html": [
       "<pre style=\"color:slategray;max-height:100px;overflow:hidden\" \n",
       "onclick=\"\n",
       "if (this.style.maxHeight === 'none') \n",
       "    this.style.maxHeight = '100px';\n",
       "else\n",
       "    this.style.maxHeight = 'none'; \n",
       "\">val coloriage_intervalles : intervalles -&gt; coloriage = &lt;fun&gt;\n",
       "</pre>"
      ]
     },
     "execution_count": 106,
     "metadata": {},
     "output_type": "execute_result"
    }
   ],
   "source": [
    "let coloriage_intervalles (intvl : intervalles) : coloriage =\n",
    "    let n = List.length intvl in   (* Nombre d'intervalles *)\n",
    "    let array_intvls = Array.of_list intvl in      (* Tableau des intervalles *)\n",
    "    let index_intvls = Array.to_list (\n",
    "        Array.init n (fun i -> (\n",
    "            array_intvls.(i), i)                    (* Associe un intervalle à son indice *)\n",
    "        )\n",
    "    ) in\n",
    "    let gr = graphe_depuis_intervalles intvl in\n",
    "    let inf = n + 10000 in           (* Grande valeur, pour +oo *)\n",
    "    let c = Array.make n inf in      (* Liste des couleurs, c(I) = +oo pour tout I *)\n",
    "    let maxarray = Array.fold_left max (-inf - 10000) in\n",
    "    while maxarray c = inf do      (* Il reste un I in V tel que c(I) = +oo *)\n",
    "        begin\n",
    "            (* On choisit un I minimal pour ordre_partiel tel que c(I) = +oo *)\n",
    "            let coloriage = (coloriage_depuis_couleurs intvl c) in\n",
    "            let colorie inter = List.assoc inter coloriage in\n",
    "            let inter = trouve_min_interval intvl coloriage inf in\n",
    "            let i = List.assoc inter index_intvls in\n",
    "            let adj_de_I = List.map (fun j -> List.nth intvl j) (List.nth gr i) in\n",
    "            let valeurs = List.map colorie adj_de_I in\n",
    "            c.(i) <- inf_N_minus valeurs;   (* c(I) = inf(N - {c(J) : J adjacent a I} ) *)\n",
    "        end;\n",
    "    done;\n",
    "    coloriage_depuis_couleurs intvl c;\n",
    ";;"
   ]
  },
  {
   "cell_type": "markdown",
   "metadata": {
    "deletable": true,
    "editable": true
   },
   "source": [
    "----\n",
    "## Exemples\n",
    "On traite ici les trois exemples proposés."
   ]
  },
  {
   "cell_type": "markdown",
   "metadata": {
    "deletable": true,
    "editable": true
   },
   "source": [
    "### Le problème des frigos\n",
    "> Dans un grand hopital, les réductions de financement public poussent le gestionnaire du service d'immunologie à faire des économies sur le nombre de frigos à acheter pour stocker les vaccins. A peu de chose près, il lui faut stocker les vaccins suivants :\n",
    "\n",
    "> | Numéro | Nom du vaccin | Température de conservation\n",
    "| :-----: | :------------ | -------------------------: |\n",
    "| 0 | Rougeole-Rubéole-Oreillons (RRO) | $4 \\cdots 12$ °C\n",
    "| 1 | BCG                              | $8 \\cdots 15$ °C\n",
    "| 2 | Di-Te-Per                        | $0 \\cdots 20$ °C\n",
    "| 3 | Anti-polio                       | $2 \\cdots 3$ °C\n",
    "| 4 | Anti-hépatite B                  | $-3 \\cdots 6$ °C\n",
    "| 5 | Anti-amarile                     | $-10 \\cdots 10$ °C\n",
    "| 6 | Variole                          | $6 \\cdots 20$ °C\n",
    "| 7 | Varicelle                        | $-5 \\cdots 2$ °C\n",
    "| 8 | Antihaemophilus                  | $-2 \\cdots 8$ °C\n",
    "\n",
    "> Combien le gestionaire doit-il acheter de frigos, et sur quelles températures doit-il les régler ?"
   ]
  },
  {
   "cell_type": "code",
   "execution_count": 23,
   "metadata": {
    "collapsed": false,
    "deletable": true,
    "editable": true
   },
   "outputs": [
    {
     "data": {
      "text/html": [
       "<pre style=\"color:slategray;max-height:100px;overflow:hidden\" \n",
       "onclick=\"\n",
       "if (this.style.maxHeight === 'none') \n",
       "    this.style.maxHeight = '100px';\n",
       "else\n",
       "    this.style.maxHeight = 'none'; \n",
       "\">val vaccins : intervalles =\n",
       "  [(4, 12); (8, 15); (0, 20); (2, 3); (-3, 6); (-10, 10); (6, 20); (-5, 2);\n",
       "   (-2, 8)]\n",
       "</pre>"
      ]
     },
     "execution_count": 23,
     "metadata": {},
     "output_type": "execute_result"
    }
   ],
   "source": [
    "let vaccins : intervalles = [\n",
    "    (4, 12);\n",
    "    (8, 15);\n",
    "    (0, 20);\n",
    "    (2, 3);\n",
    "    (-3, 6);\n",
    "    (-10, 10);\n",
    "    (6, 20);\n",
    "    (-5, 2);\n",
    "    (-2, 8)\n",
    "]"
   ]
  },
  {
   "cell_type": "code",
   "execution_count": 7,
   "metadata": {
    "collapsed": false,
    "deletable": true,
    "editable": true
   },
   "outputs": [
    {
     "data": {
      "text/html": [
       "<pre style=\"color:slategray;max-height:100px;overflow:hidden\" \n",
       "onclick=\"\n",
       "if (this.style.maxHeight === 'none') \n",
       "    this.style.maxHeight = '100px';\n",
       "else\n",
       "    this.style.maxHeight = 'none'; \n",
       "\">val graphe_vaccins : graphe_intervalle =\n",
       "  [[1; 2; 4; 5; 6; 8]; [0; 2; 5; 6; 8]; [0; 1; 3; 4; 5; 6; 7; 8];\n",
       "   [2; 4; 5; 7; 8]; [0; 2; 3; 5; 6; 7; 8]; [0; 1; 2; 3; 4; 6; 7; 8];\n",
       "   [0; 1; 2; 4; 5; 8]; [2; 3; 4; 5; 8]; [0; 1; 2; 3; 4; 5; 6; 7]]\n",
       "</pre>"
      ]
     },
     "execution_count": 7,
     "metadata": {},
     "output_type": "execute_result"
    }
   ],
   "source": [
    "let graphe_vaccins = graphe_depuis_intervalles vaccins;;"
   ]
  },
  {
   "cell_type": "markdown",
   "metadata": {},
   "source": [
    "![images/vaccins.png](images/vaccins.png)\n",
    "> Graphe d'intervalle pour le problème des frigos et des vaccins."
   ]
  },
  {
   "cell_type": "code",
   "execution_count": 107,
   "metadata": {
    "collapsed": false,
    "deletable": true,
    "editable": true
   },
   "outputs": [
    {
     "data": {
      "text/html": [
       "<pre style=\"color:slategray;max-height:100px;overflow:hidden\" \n",
       "onclick=\"\n",
       "if (this.style.maxHeight === 'none') \n",
       "    this.style.maxHeight = '100px';\n",
       "else\n",
       "    this.style.maxHeight = 'none'; \n",
       "\">- : coloriage =\n",
       "[((4, 12), 1); ((8, 15), 2); ((0, 20), 4); ((2, 3), 5); ((-3, 6), 2);\n",
       " ((-10, 10), 0); ((6, 20), 5); ((-5, 2), 1); ((-2, 8), 3)]\n",
       "</pre>"
      ]
     },
     "execution_count": 107,
     "metadata": {},
     "output_type": "execute_result"
    }
   ],
   "source": [
    "coloriage_intervalles vaccins;;"
   ]
  },
  {
   "cell_type": "markdown",
   "metadata": {},
   "source": [
    "### Le problème du CSA\n",
    "\n",
    "> Le Conseil Supérieur de l’Audiovisuel doit attribuer de nouvelles bandes de fréquences d’émission pour la stéréophonie numérique sous-terraine (SNS).\n",
    "> Cette technologie de pointe étant encore à l'état expérimental, les appareils capables d'émettre ne peuvent utiliser que les bandes de fréquences FM suivantes :\n",
    "\n",
    "> | Bandes de fréquence | Intervalle (kHz) |\n",
    "| :-----------------: | ---------: |\n",
    "| 0 | $32 \\cdots 36$ |\n",
    "| 1 | $24 \\cdots 30$ |\n",
    "| 2 | $28 \\cdots 33$ |\n",
    "| 3 | $22 \\cdots 26$ |\n",
    "| 4 | $20 \\cdots 25$ |\n",
    "| 5 | $30 \\cdots 33$ |\n",
    "| 6 | $31 \\cdots 34$ |\n",
    "| 7 | $27 \\cdots 31$ |\n",
    "\n",
    "> Quelles bandes de fréquences doit-on retenir pour permettre à le plus d'appareils possibles d'être utilisés, sachant que deux appareils dont les bandes de fréquences s'intersectent pleinement (pas juste sur les extrémités) sont incompatibles."
   ]
  },
  {
   "cell_type": "code",
   "execution_count": 31,
   "metadata": {
    "collapsed": false
   },
   "outputs": [
    {
     "data": {
      "text/html": [
       "<pre style=\"color:slategray;max-height:100px;overflow:hidden\" \n",
       "onclick=\"\n",
       "if (this.style.maxHeight === 'none') \n",
       "    this.style.maxHeight = '100px';\n",
       "else\n",
       "    this.style.maxHeight = 'none'; \n",
       "\">val csa : intervalles =\n",
       "  [(32, 36); (24, 30); (28, 33); (22, 26); (20, 25); (30, 33); (31, 34);\n",
       "   (27, 31)]\n",
       "</pre>"
      ]
     },
     "execution_count": 31,
     "metadata": {},
     "output_type": "execute_result"
    }
   ],
   "source": [
    "let csa : intervalles = [\n",
    "    (32, 36);\n",
    "    (24, 30);\n",
    "    (28, 33);\n",
    "    (22, 26);\n",
    "    (20, 25);\n",
    "    (30, 33);\n",
    "    (31, 34);\n",
    "    (27, 31)\n",
    "];;"
   ]
  },
  {
   "cell_type": "code",
   "execution_count": 32,
   "metadata": {
    "collapsed": false
   },
   "outputs": [
    {
     "data": {
      "text/html": [
       "<pre style=\"color:slategray;max-height:100px;overflow:hidden\" \n",
       "onclick=\"\n",
       "if (this.style.maxHeight === 'none') \n",
       "    this.style.maxHeight = '100px';\n",
       "else\n",
       "    this.style.maxHeight = 'none'; \n",
       "\">val graphe_csa : graphe_intervalle =\n",
       "  [[2; 5; 6]; [2; 3; 4; 5; 7]; [0; 1; 5; 6; 7]; [1; 4]; [1; 3];\n",
       "   [0; 1; 2; 6; 7]; [0; 2; 5; 7]; [1; 2; 5; 6]]\n",
       "</pre>"
      ]
     },
     "execution_count": 32,
     "metadata": {},
     "output_type": "execute_result"
    }
   ],
   "source": [
    "let graphe_csa = graphe_depuis_intervalles csa;;"
   ]
  },
  {
   "cell_type": "markdown",
   "metadata": {},
   "source": [
    "![images/csa.png](images/csa.png)\n",
    "> Graphe d'intervalle pour le problème du CSA."
   ]
  },
  {
   "cell_type": "code",
   "execution_count": 108,
   "metadata": {
    "collapsed": false
   },
   "outputs": [
    {
     "data": {
      "text/html": [
       "<pre style=\"color:slategray;max-height:100px;overflow:hidden\" \n",
       "onclick=\"\n",
       "if (this.style.maxHeight === 'none') \n",
       "    this.style.maxHeight = '100px';\n",
       "else\n",
       "    this.style.maxHeight = 'none'; \n",
       "\">- : coloriage =\n",
       "[((32, 36), 0); ((24, 30), 2); ((28, 33), 1); ((22, 26), 1); ((20, 25), 0);\n",
       " ((30, 33), 3); ((31, 34), 2); ((27, 31), 0)]\n",
       "</pre>"
      ]
     },
     "execution_count": 108,
     "metadata": {},
     "output_type": "execute_result"
    }
   ],
   "source": [
    "coloriage_intervalles csa;;"
   ]
  },
  {
   "cell_type": "markdown",
   "metadata": {},
   "source": [
    "### Le problème du wagon restaurant\n",
    "\n",
    "> Le chef de train de l'Orient Express doit aménager le wagon restaurant avant le départ du train. Ce wagon est assez petit et doit être le moins encombré de tables possibles, mais il faut prévoir suffisemment de tables pour accueillir toutes personnes qui ont réservé :\n",
    "\n",
    "> | Numéro | Personnage(s) | Heures de dîner | En secondes |\n",
    "| :----------------- | --------- | :---------: | :---------: |\n",
    "| 0 | Le baron et la baronne Von Haussplatz  | 19h30 .. 20h14  | $1170 \\cdots 1214$\n",
    "| 1 | Le général Cook                        | 20h30 .. 21h59  | $1230 \\cdots 1319$\n",
    "| 2 | Les époux Steinberg                    | 19h .. 19h59    | $1140 \\cdots 1199$\n",
    "| 3 | La duchesse de Colombart               | 20h15 .. 20h59  | $1215 \\cdots 1259$\n",
    "| 4 | Le marquis de Carquamba                | 21h .. 21h59    | $1260 \\cdots 1319$\n",
    "| 5 | La Vociafiore                          | 19h15 .. 20h29  | $1155 \\cdots 1229$\n",
    "| 6 | Le colonel Ferdinand                   | 20h .. 20h59    | $1200 \\cdots 1259$\n",
    "\n",
    "\n",
    "> Combien de tables le chef de train doit-il prévoir ?"
   ]
  },
  {
   "cell_type": "code",
   "execution_count": 38,
   "metadata": {
    "collapsed": false
   },
   "outputs": [
    {
     "data": {
      "text/html": [
       "<pre style=\"color:slategray;max-height:100px;overflow:hidden\" \n",
       "onclick=\"\n",
       "if (this.style.maxHeight === 'none') \n",
       "    this.style.maxHeight = '100px';\n",
       "else\n",
       "    this.style.maxHeight = 'none'; \n",
       "\">val restaurant : (int * int) list =\n",
       "  [(1170, 1214); (1230, 1319); (1140, 1199); (1215, 1259); (1260, 1319);\n",
       "   (1155, 1229); (1200, 1259)]\n",
       "</pre>"
      ]
     },
     "execution_count": 38,
     "metadata": {},
     "output_type": "execute_result"
    }
   ],
   "source": [
    "let restaurant = [\n",
    "    (1170, 1214);\n",
    "    (1230, 1319);\n",
    "    (1140, 1199);\n",
    "    (1215, 1259);\n",
    "    (1260, 1319);\n",
    "    (1155, 1229);\n",
    "    (1200, 1259)\n",
    "];;"
   ]
  },
  {
   "cell_type": "code",
   "execution_count": 39,
   "metadata": {
    "collapsed": false
   },
   "outputs": [
    {
     "data": {
      "text/html": [
       "<pre style=\"color:slategray;max-height:100px;overflow:hidden\" \n",
       "onclick=\"\n",
       "if (this.style.maxHeight === 'none') \n",
       "    this.style.maxHeight = '100px';\n",
       "else\n",
       "    this.style.maxHeight = 'none'; \n",
       "\">val graphe_restaurant : graphe_intervalle =\n",
       "  [[2; 5; 6]; [3; 4; 6]; [0; 5]; [1; 5; 6]; [1]; [0; 2; 3; 6]; [0; 1; 3; 5]]\n",
       "</pre>"
      ]
     },
     "execution_count": 39,
     "metadata": {},
     "output_type": "execute_result"
    }
   ],
   "source": [
    "let graphe_restaurant = graphe_depuis_intervalles restaurant;;"
   ]
  },
  {
   "cell_type": "markdown",
   "metadata": {},
   "source": [
    "![images/restaurant.png](images/restaurant.png)\n",
    "> Graphe d'intervalle pour le problème du wagon restaurant."
   ]
  },
  {
   "cell_type": "code",
   "execution_count": 109,
   "metadata": {
    "collapsed": false
   },
   "outputs": [
    {
     "data": {
      "text/html": [
       "<pre style=\"color:slategray;max-height:100px;overflow:hidden\" \n",
       "onclick=\"\n",
       "if (this.style.maxHeight === 'none') \n",
       "    this.style.maxHeight = '100px';\n",
       "else\n",
       "    this.style.maxHeight = 'none'; \n",
       "\">- : coloriage =\n",
       "[((1170, 1214), 2); ((1230, 1319), 1); ((1140, 1199), 0); ((1215, 1259), 2);\n",
       " ((1260, 1319), 0); ((1155, 1229), 1); ((1200, 1259), 0)]\n",
       "</pre>"
      ]
     },
     "execution_count": 109,
     "metadata": {},
     "output_type": "execute_result"
    }
   ],
   "source": [
    "coloriage_intervalles restaurant;;"
   ]
  },
  {
   "cell_type": "markdown",
   "metadata": {
    "deletable": true,
    "editable": true
   },
   "source": [
    "----\n",
    "## Bonus"
   ]
  },
  {
   "cell_type": "markdown",
   "metadata": {
    "deletable": true,
    "editable": true
   },
   "source": [
    "### Visualisation des graphes définis dans les exemples\n",
    "\n",
    "- J'utilise une petite fonction facile à écrire, qui convertit un graphe (`int list list`) en une chaîne de caractère au format [DOT Graph](http://www.graphviz.org/doc/info/lang.html).\n",
    "- Ensuite, un appel `dot -Tpng ...` en ligne de commande convertit ce graphe en une image, que j'inclus ensuite manuellement."
   ]
  },
  {
   "cell_type": "code",
   "execution_count": 105,
   "metadata": {
    "collapsed": false,
    "deletable": true,
    "editable": true
   },
   "outputs": [
    {
     "data": {
      "text/html": [
       "<pre style=\"color:slategray;max-height:100px;overflow:hidden\" \n",
       "onclick=\"\n",
       "if (this.style.maxHeight === 'none') \n",
       "    this.style.maxHeight = '100px';\n",
       "else\n",
       "    this.style.maxHeight = 'none'; \n",
       "\">val graph_to_dotgraph :\n",
       "  ?graphname:string -&gt;\n",
       "  ?directed:bool -&gt; ?verb:bool -&gt; ?onetoone:bool -&gt; int list list -&gt; string =\n",
       "  &lt;fun&gt;\n",
       "</pre>"
      ]
     },
     "execution_count": 105,
     "metadata": {},
     "output_type": "execute_result"
    }
   ],
   "source": [
    "(** Transforme un [graph] en une chaîne représentant un graphe décrit par le langage DOT,\n",
    "    voir http://en.wikipedia.org/wiki/DOT_language pour plus de détails sur ce langage.\n",
    "\n",
    "    @param graphname Donne le nom du graphe tel que précisé pour DOT\n",
    "    @param directed Vrai si le graphe doit être dirigé (c'est le cas ici) faux sinon. Change le style des arêtes ([->] ou [--])\n",
    "    @param verb Affiche tout dans le terminal.\n",
    "    @param onetoone Si on veut afficher le graphe en mode carré (échelle 1:1). Parfois bizarre, parfois génial.\n",
    "*)\n",
    "let graph_to_dotgraph ?(graphname = \"graphname\") ?(coloriage = None) ?(directed = false) ?(verb = false) ?(onetoone = false) (glist : int list list) =\n",
    "    let res = ref \"\" in\n",
    "    let log s =\n",
    "        if verb then print_string s; (** Si [verb] affiche dans le terminal le résultat du graphe. *)\n",
    "        res := !res ^ s\n",
    "    in\n",
    "    log (if directed then \"digraph \" else \"graph \");\n",
    "    log graphname; log \" {\";\n",
    "    if onetoone then\n",
    "        log \"\\n   size=\\\"1,1\\\";\";\n",
    "    let g = Array.of_list (List.map Array.of_list glist) in\n",
    "    (** On affiche directement les arc, un à un. *)\n",
    "    for i = 0 to (Array.length g) - 1 do\n",
    "        for j = 0 to (Array.length g.(i)) - 1 do\n",
    "            if i < g.(i).(j) then\n",
    "                log (\"\\n   \\\"\"\n",
    "                ^ (string_of_int i) ^ \"\\\" \"\n",
    "                ^ (if directed then \"->\" else \"--\")\n",
    "                ^ \" \\\"\" ^ (string_of_int g.(i).(j)) ^ \"\\\"\"\n",
    "                );\n",
    "        done;\n",
    "    done;\n",
    "    log \"\\n}\\n// generated by OCaml with the function graphe_to_dotgraph.\";\n",
    "!res;;"
   ]
  },
  {
   "cell_type": "code",
   "execution_count": 18,
   "metadata": {
    "collapsed": false,
    "deletable": true,
    "editable": true
   },
   "outputs": [
    {
     "data": {
      "text/html": [
       "<pre style=\"color:slategray;max-height:100px;overflow:hidden\" \n",
       "onclick=\"\n",
       "if (this.style.maxHeight === 'none') \n",
       "    this.style.maxHeight = '100px';\n",
       "else\n",
       "    this.style.maxHeight = 'none'; \n",
       "\">val ecrire_sortie : out_channel -&gt; bytes -&gt; unit = &lt;fun&gt;\n",
       "</pre>"
      ]
     },
     "execution_count": 18,
     "metadata": {},
     "output_type": "execute_result"
    },
    {
     "data": {
      "text/html": [
       "<pre style=\"color:slategray;max-height:100px;overflow:hidden\" \n",
       "onclick=\"\n",
       "if (this.style.maxHeight === 'none') \n",
       "    this.style.maxHeight = '100px';\n",
       "else\n",
       "    this.style.maxHeight = 'none'; \n",
       "\">val ecrire_dans_fichier : chaine:bytes -&gt; adresse:string -&gt; unit = &lt;fun&gt;\n",
       "</pre>"
      ]
     },
     "execution_count": 18,
     "metadata": {},
     "output_type": "execute_result"
    }
   ],
   "source": [
    "(** Fonction ecrire_sortie : plus pratique que output. *)\n",
    "let ecrire_sortie monoutchanel machaine =\n",
    "    output monoutchanel machaine 0 (String.length machaine);\n",
    "    flush monoutchanel;;\n",
    "\n",
    "(** Fonction ecrire_dans_fichier : pour écrire la chaine dans le fichier à l'adresse renseignée. *)\n",
    "let ecrire_dans_fichier ~chaine ~adresse =\n",
    "    let mon_out_channel = open_out adresse in\n",
    "    ecrire_sortie mon_out_channel chaine;\n",
    "    close_out mon_out_channel;;\n"
   ]
  },
  {
   "cell_type": "code",
   "execution_count": 40,
   "metadata": {
    "collapsed": false,
    "deletable": true,
    "editable": true
   },
   "outputs": [
    {
     "data": {
      "text/html": [
       "<pre style=\"color:slategray;max-height:100px;overflow:hidden\" \n",
       "onclick=\"\n",
       "if (this.style.maxHeight === 'none') \n",
       "    this.style.maxHeight = '100px';\n",
       "else\n",
       "    this.style.maxHeight = 'none'; \n",
       "\">val s_graphe_vaccins : string =\n",
       "  &quot;graph vaccins {\\n   \\&quot;0\\&quot; -- \\&quot;1\\&quot;\\n   \\&quot;0\\&quot; -- \\&quot;2\\&quot;\\n   \\&quot;0\\&quot; -- \\&quot;4\\&quot;\\n   \\&quot;0\\&quot; -- \\&quot;5\\&quot;\\n   \\&quot;0\\&quot; -- \\&quot;6\\&quot;\\n   \\&quot;0\\&quot; -- \\&quot;8\\&quot;\\n   \\&quot;1\\&quot; -- \\&quot;2\\&quot;\\n   \\&quot;1\\&quot; -- \\&quot;5\\&quot;\\n   \\&quot;1\\&quot; -- \\&quot;6\\&quot;\\n   \\&quot;1\\&quot; -- \\&quot;8\\&quot;\\n   \\&quot;2\\&quot; -- \\&quot;3\\&quot;\\n   \\&quot;2\\&quot; -- \\&quot;4\\&quot;\\n   \\&quot;2\\&quot; -- \\&quot;5\\&quot;\\n   \\&quot;2\\&quot; -- \\&quot;6\\&quot;\\n   \\&quot;2\\&quot; -- \\&quot;7\\&quot;\\n   \\&quot;2\\&quot; -- \\&quot;8\\&quot;\\n   \\&quot;3\\&quot; -- \\&quot;4\\&quot;\\n   \\&quot;3\\&quot; -- \\&quot;5\\&quot;\\n   \\&quot;3\\&quot; -- \\&quot;7\\&quot;\\n   \\&quot;3\\&quot; -- \\&quot;8\\&quot;\\n   \\&quot;4\\&quot; -- \\&quot;5\\&quot;\\n   \\&quot;4\\&quot; -- \\&quot;6\\&quot;\\n   \\&quot;4\\&quot; -- \\&quot;7\\&quot;\\n   \\&quot;4\\&quot; -- \\&quot;8\\&quot;\\n   \\&quot;5\\&quot; -- \\&quot;6\\&quot;\\n   \\&quot;5\\&quot; -- \\&quot;7\\&quot;\\n   \\&quot;5\\&quot; -- \\&quot;8\\&quot;\\n   \\&quot;6\\&quot; -- \\&quot;8\\&quot;\\n   \\&quot;7\\&quot; -- \\&quot;8\\&quot;\\n}\\n// generated by OCaml with the function graphe_to_dotgraph.&quot;\n",
       "</pre>"
      ]
     },
     "execution_count": 40,
     "metadata": {},
     "output_type": "execute_result"
    },
    {
     "data": {
      "text/html": [
       "<pre style=\"color:slategray;max-height:100px;overflow:hidden\" \n",
       "onclick=\"\n",
       "if (this.style.maxHeight === 'none') \n",
       "    this.style.maxHeight = '100px';\n",
       "else\n",
       "    this.style.maxHeight = 'none'; \n",
       "\">val s_graphe_csa : string =\n",
       "  &quot;graph csa {\\n   \\&quot;0\\&quot; -- \\&quot;2\\&quot;\\n   \\&quot;0\\&quot; -- \\&quot;5\\&quot;\\n   \\&quot;0\\&quot; -- \\&quot;6\\&quot;\\n   \\&quot;1\\&quot; -- \\&quot;2\\&quot;\\n   \\&quot;1\\&quot; -- \\&quot;3\\&quot;\\n   \\&quot;1\\&quot; -- \\&quot;4\\&quot;\\n   \\&quot;1\\&quot; -- \\&quot;5\\&quot;\\n   \\&quot;1\\&quot; -- \\&quot;7\\&quot;\\n   \\&quot;2\\&quot; -- \\&quot;5\\&quot;\\n   \\&quot;2\\&quot; -- \\&quot;6\\&quot;\\n   \\&quot;2\\&quot; -- \\&quot;7\\&quot;\\n   \\&quot;3\\&quot; -- \\&quot;4\\&quot;\\n   \\&quot;5\\&quot; -- \\&quot;6\\&quot;\\n   \\&quot;5\\&quot; -- \\&quot;7\\&quot;\\n   \\&quot;6\\&quot; -- \\&quot;7\\&quot;\\n}\\n// generated by OCaml with the function graphe_to_dotgraph.&quot;\n",
       "</pre>"
      ]
     },
     "execution_count": 40,
     "metadata": {},
     "output_type": "execute_result"
    },
    {
     "data": {
      "text/html": [
       "<pre style=\"color:slategray;max-height:100px;overflow:hidden\" \n",
       "onclick=\"\n",
       "if (this.style.maxHeight === 'none') \n",
       "    this.style.maxHeight = '100px';\n",
       "else\n",
       "    this.style.maxHeight = 'none'; \n",
       "\">val s_graphe_restaurant : string =\n",
       "  &quot;graph restaurant {\\n   \\&quot;0\\&quot; -- \\&quot;2\\&quot;\\n   \\&quot;0\\&quot; -- \\&quot;5\\&quot;\\n   \\&quot;0\\&quot; -- \\&quot;6\\&quot;\\n   \\&quot;1\\&quot; -- \\&quot;3\\&quot;\\n   \\&quot;1\\&quot; -- \\&quot;4\\&quot;\\n   \\&quot;1\\&quot; -- \\&quot;6\\&quot;\\n   \\&quot;2\\&quot; -- \\&quot;5\\&quot;\\n   \\&quot;3\\&quot; -- \\&quot;5\\&quot;\\n   \\&quot;3\\&quot; -- \\&quot;6\\&quot;\\n   \\&quot;5\\&quot; -- \\&quot;6\\&quot;\\n}\\n// generated by OCaml with the function graphe_to_dotgraph.&quot;\n",
       "</pre>"
      ]
     },
     "execution_count": 40,
     "metadata": {},
     "output_type": "execute_result"
    }
   ],
   "source": [
    "let s_graphe_vaccins = graph_to_dotgraph ~graphname:\"vaccins\" ~directed:false ~verb:false graphe_vaccins;;\n",
    "let s_graphe_csa = graph_to_dotgraph ~graphname:\"csa\" ~directed:false ~verb:false graphe_csa;;\n",
    "let s_graphe_restaurant = graph_to_dotgraph ~graphname:\"restaurant\" ~directed:false ~verb:false graphe_restaurant;;"
   ]
  },
  {
   "cell_type": "code",
   "execution_count": 41,
   "metadata": {
    "collapsed": false
   },
   "outputs": [
    {
     "data": {
      "text/html": [
       "<pre style=\"color:slategray;max-height:100px;overflow:hidden\" \n",
       "onclick=\"\n",
       "if (this.style.maxHeight === 'none') \n",
       "    this.style.maxHeight = '100px';\n",
       "else\n",
       "    this.style.maxHeight = 'none'; \n",
       "\">- : unit = ()\n",
       "</pre>"
      ]
     },
     "execution_count": 41,
     "metadata": {},
     "output_type": "execute_result"
    },
    {
     "data": {
      "text/html": [
       "<pre style=\"color:slategray;max-height:100px;overflow:hidden\" \n",
       "onclick=\"\n",
       "if (this.style.maxHeight === 'none') \n",
       "    this.style.maxHeight = '100px';\n",
       "else\n",
       "    this.style.maxHeight = 'none'; \n",
       "\">- : unit = ()\n",
       "</pre>"
      ]
     },
     "execution_count": 41,
     "metadata": {},
     "output_type": "execute_result"
    },
    {
     "data": {
      "text/html": [
       "<pre style=\"color:slategray;max-height:100px;overflow:hidden\" \n",
       "onclick=\"\n",
       "if (this.style.maxHeight === 'none') \n",
       "    this.style.maxHeight = '100px';\n",
       "else\n",
       "    this.style.maxHeight = 'none'; \n",
       "\">- : unit = ()\n",
       "</pre>"
      ]
     },
     "execution_count": 41,
     "metadata": {},
     "output_type": "execute_result"
    }
   ],
   "source": [
    "ecrire_dans_fichier ~chaine:s_graphe_vaccins ~adresse:\"/tmp/vaccins.dot\" ;;\n",
    "(* Sys.command \"fdp -Tpng /tmp/vaccins.dot > images/vaccins.png\";; *)\n",
    "\n",
    "ecrire_dans_fichier ~chaine:s_graphe_csa ~adresse:\"/tmp/csa.dot\" ;;\n",
    "(* Sys.command \"fdp -Tpng /tmp/csa.dot > images/csa.png\";; *)\n",
    "\n",
    "ecrire_dans_fichier ~chaine:s_graphe_restaurant ~adresse:\"/tmp/restaurant.dot\" ;;\n",
    "(* Sys.command \"fdp -Tpng /tmp/restaurant.dot > images/restaurant.png\";; *)"
   ]
  },
  {
   "cell_type": "markdown",
   "metadata": {
    "deletable": true,
    "editable": true
   },
   "source": [
    "----\n",
    "## Conclusion"
   ]
  },
  {
   "cell_type": "code",
   "execution_count": null,
   "metadata": {
    "collapsed": true
   },
   "outputs": [],
   "source": []
  }
 ],
 "metadata": {
  "kernelspec": {
   "display_name": "OCaml",
   "language": "ocaml",
   "name": "iocaml-kernel"
  },
  "language_info": {
   "name": "ocaml",
   "version": "4.1.0"
  },
  "toc": {
   "colors": {
    "hover_highlight": "#DAA520",
    "running_highlight": "#FF0000",
    "selected_highlight": "#FFD700"
   },
   "moveMenuLeft": true,
   "nav_menu": {
    "height": "289px",
    "width": "252px"
   },
   "navigate_menu": true,
   "number_sections": true,
   "sideBar": true,
   "threshold": 4,
   "toc_cell": true,
   "toc_position": {
    "height": "704px",
    "left": "0px",
    "right": "1223px",
    "top": "124px",
    "width": "249px"
   },
   "toc_section_display": "block",
   "toc_window_display": true
  }
 },
 "nbformat": 4,
 "nbformat_minor": 2
}
