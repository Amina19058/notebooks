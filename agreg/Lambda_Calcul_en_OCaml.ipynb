{
 "cells": [
  {
   "cell_type": "markdown",
   "metadata": {
    "toc": "true"
   },
   "source": [
    "# Table of Contents\n",
    " <p><div class=\"lev1 toc-item\"><a href=\"#$\\lambda$-calcul-implémenté-en-OCaml\" data-toc-modified-id=\"$\\lambda$-calcul-implémenté-en-OCaml-1\"><span class=\"toc-item-num\">1&nbsp;&nbsp;</span><span class=\"MathJax_Preview\" style=\"color: inherit;\"></span><span class=\"MathJax\" id=\"MathJax-Element-449-Frame\" tabindex=\"0\" style=\"position: relative;\" data-mathml=\"<math xmlns=&quot;http://www.w3.org/1998/Math/MathML&quot;><mi>&amp;#x03BB;</mi></math>\" role=\"presentation\"><nobr aria-hidden=\"true\"><span class=\"math\" id=\"MathJax-Span-3280\" role=\"math\" style=\"width: 0.587em; display: inline-block;\"><span style=\"display: inline-block; position: relative; width: 0.465em; height: 0px; font-size: 124%;\"><span style=\"position: absolute; clip: rect(1.71em, 1000.44em, 2.59em, -1000em); top: -2.481em; left: 0em;\"><span class=\"mrow\" id=\"MathJax-Span-3281\"><span class=\"mi\" id=\"MathJax-Span-3282\" style=\"font-family: STIXMathJax_Main; font-style: italic;\">λ</span></span><span style=\"display: inline-block; width: 0px; height: 2.481em;\"></span></span></span><span style=\"display: inline-block; overflow: hidden; vertical-align: -0.058em; border-left: 0px solid; width: 0px; height: 0.937em;\"></span></span></nobr><span class=\"MJX_Assistive_MathML\" role=\"presentation\"><math xmlns=\"http://www.w3.org/1998/Math/MathML\"><mi>λ</mi></math></span></span><script type=\"math/tex\" id=\"MathJax-Element-449\">\\lambda</script>-calcul implémenté en OCaml</a></div><div class=\"lev2 toc-item\"><a href=\"#Expressions\" data-toc-modified-id=\"Expressions-11\"><span class=\"toc-item-num\">1.1&nbsp;&nbsp;</span>Expressions</a></div><div class=\"lev2 toc-item\"><a href=\"#But-?\" data-toc-modified-id=\"But-?-12\"><span class=\"toc-item-num\">1.2&nbsp;&nbsp;</span>But ?</a></div><div class=\"lev2 toc-item\"><a href=\"#Grammaire\" data-toc-modified-id=\"Grammaire-13\"><span class=\"toc-item-num\">1.3&nbsp;&nbsp;</span>Grammaire</a></div><div class=\"lev2 toc-item\"><a href=\"#L'identité\" data-toc-modified-id=\"L'identité-14\"><span class=\"toc-item-num\">1.4&nbsp;&nbsp;</span>L'identité</a></div><div class=\"lev2 toc-item\"><a href=\"#Conditionnelles\" data-toc-modified-id=\"Conditionnelles-15\"><span class=\"toc-item-num\">1.5&nbsp;&nbsp;</span>Conditionnelles</a></div><div class=\"lev2 toc-item\"><a href=\"#Nombres\" data-toc-modified-id=\"Nombres-16\"><span class=\"toc-item-num\">1.6&nbsp;&nbsp;</span>Nombres</a></div><div class=\"lev2 toc-item\"><a href=\"#Test-d'inégalité\" data-toc-modified-id=\"Test-d'inégalité-17\"><span class=\"toc-item-num\">1.7&nbsp;&nbsp;</span>Test d'inégalité</a></div><div class=\"lev2 toc-item\"><a href=\"#Successeurs\" data-toc-modified-id=\"Successeurs-18\"><span class=\"toc-item-num\">1.8&nbsp;&nbsp;</span>Successeurs</a></div><div class=\"lev2 toc-item\"><a href=\"#Prédecesseurs\" data-toc-modified-id=\"Prédecesseurs-19\"><span class=\"toc-item-num\">1.9&nbsp;&nbsp;</span>Prédecesseurs</a></div><div class=\"lev2 toc-item\"><a href=\"#Addition\" data-toc-modified-id=\"Addition-110\"><span class=\"toc-item-num\">1.10&nbsp;&nbsp;</span>Addition</a></div><div class=\"lev2 toc-item\"><a href=\"#Multiplication\" data-toc-modified-id=\"Multiplication-111\"><span class=\"toc-item-num\">1.11&nbsp;&nbsp;</span>Multiplication</a></div><div class=\"lev2 toc-item\"><a href=\"#Paires\" data-toc-modified-id=\"Paires-112\"><span class=\"toc-item-num\">1.12&nbsp;&nbsp;</span>Paires</a></div><div class=\"lev2 toc-item\"><a href=\"#Listes\" data-toc-modified-id=\"Listes-113\"><span class=\"toc-item-num\">1.13&nbsp;&nbsp;</span>Listes</a></div><div class=\"lev2 toc-item\"><a href=\"#La-fonction-U\" data-toc-modified-id=\"La-fonction-U-114\"><span class=\"toc-item-num\">1.14&nbsp;&nbsp;</span>La fonction U</a></div><div class=\"lev2 toc-item\"><a href=\"#La-récursion-via-la-fonction-Y\" data-toc-modified-id=\"La-récursion-via-la-fonction-Y-115\"><span class=\"toc-item-num\">1.15&nbsp;&nbsp;</span>La récursion via la fonction Y</a></div>"
   ]
  },
  {
   "cell_type": "markdown",
   "metadata": {},
   "source": [
    "# $\\lambda$-calcul implémenté en OCaml\n",
    "\n",
    "Ce notebook est inspiré de [ce post de blog du Professeur Matt Might](http://matt.might.net/articles/python-church-y-combinator/), qui implémente un mini langage de programmation en $\\lambda$-calcul, en Python.\n",
    "Je vais faire la même chose en OCaml.\n",
    "\n",
    "## Expressions\n",
    "On rappelle que les expressions du [Lambda calcul](https://fr.wikipedia.org/wiki/Lambda-calcul), ou $\\lambda$-calcul, sont les suivantes :\n",
    "$$ \\begin{cases}\n",
    "x, y, z & \\text{(des variables)} \\\\\n",
    "u v & \\text{(application de deux termes}\\, u, v\\; \\text{)} \\\\\n",
    "\\lambda x. v & \\text{(lambda-function prenant la variable}\\; x \\;\\text{et le terme}\\; v \\;\\text{)}\n",
    "\\end{cases} $$\n",
    "\n",
    "## But ?\n",
    "Le but ne va pas être de les représenter comme ça avec des types formels en Caml, mais plutôt d'utiliser les constructions de Caml, respectivement `u(v)` et `fun x -> v` pour l'application et les fonctions anonymes, et encoder des fonctionnalités de plus haut niveau dans ce langage réduit.\n",
    "\n",
    "## Grammaire\n",
    "Avec une grammaire BNF, si `<var>` désigne un nom d'expression valide (on se limitera à des noms en miniscules consistitués des 26 lettres `a,b,..,z`) :\n",
    "\n",
    "    <exp> ::= <var>\n",
    "    | <exp>(<exp>)\n",
    "    | fun <var> -> <exp>\n",
    "    | (<exp>)"
   ]
  },
  {
   "cell_type": "markdown",
   "metadata": {},
   "source": [
    "## L'identité"
   ]
  },
  {
   "cell_type": "code",
   "execution_count": 44,
   "metadata": {},
   "outputs": [
    {
     "data": {
      "text/plain": [
       "val identite : 'a -> 'a = <fun>\n"
      ]
     },
     "execution_count": 44,
     "metadata": {},
     "output_type": "execute_result"
    }
   ],
   "source": [
    "let identite = fun x -> x ;;"
   ]
  },
  {
   "cell_type": "markdown",
   "metadata": {},
   "source": [
    "## Conditionnelles\n",
    "La conditionnelle est `si cond alors valeur_vraie sinon valeur_fausse`."
   ]
  },
  {
   "cell_type": "code",
   "execution_count": 5,
   "metadata": {},
   "outputs": [
    {
     "data": {
      "text/plain": [
       "val si : ('a -> 'b -> 'c) -> 'a -> 'b -> 'c = <fun>\n"
      ]
     },
     "execution_count": 5,
     "metadata": {},
     "output_type": "execute_result"
    }
   ],
   "source": [
    "let si = fun cond valeur_vraie valeur_fausse -> cond valeur_vraie valeur_fausse ;;"
   ]
  },
  {
   "cell_type": "markdown",
   "metadata": {},
   "source": [
    "C'est très simple, du moment qu'on s'assure que `cond` est soit `vrai` soit `faux` tels que définis par leur comportement :\n",
    "\n",
    "    si vrai e1 e2 == e1\n",
    "    si faux e1 e2 == e2"
   ]
  },
  {
   "cell_type": "code",
   "execution_count": 48,
   "metadata": {},
   "outputs": [
    {
     "name": "stderr",
     "output_type": "stream",
     "text": [
      "File \"[48]\", line 1, characters 28-41:\n",
      "Warning 27: unused variable valeur_fausse.\n"
     ]
    },
    {
     "data": {
      "text/plain": [
       "val vrai : 'a -> 'b -> 'a = <fun>\n"
      ]
     },
     "execution_count": 48,
     "metadata": {},
     "output_type": "execute_result"
    },
    {
     "data": {
      "text/plain": [
       "val faux : 'a -> 'b -> 'b = <fun>\n"
      ]
     },
     "execution_count": 48,
     "metadata": {},
     "output_type": "execute_result"
    },
    {
     "name": "stderr",
     "output_type": "stream",
     "text": [
      "File \"[48]\", line 2, characters 15-27:\n",
      "Warning 27: unused variable valeur_vraie.\n"
     ]
    }
   ],
   "source": [
    "let vrai = fun valeur_vraie valeur_fausse -> valeur_vraie ;;\n",
    "let faux = fun valeur_vraie valeur_fausse -> valeur_fausse ;;"
   ]
  },
  {
   "cell_type": "markdown",
   "metadata": {},
   "source": [
    "La négation est facile !"
   ]
  },
  {
   "cell_type": "code",
   "execution_count": 110,
   "metadata": {},
   "outputs": [
    {
     "data": {
      "text/plain": [
       "val non : ('a -> 'b -> 'c) -> 'b -> 'a -> 'c = <fun>\n"
      ]
     },
     "execution_count": 110,
     "metadata": {},
     "output_type": "execute_result"
    }
   ],
   "source": [
    "let non = fun v x y -> v y x;;"
   ]
  },
  {
   "cell_type": "markdown",
   "metadata": {},
   "source": [
    "En fait, on va forcer une évaluation paresseuse, comme ça si l'une des deux expressions ne terminent pas, l'évaluation fonctionne quand même."
   ]
  },
  {
   "cell_type": "code",
   "execution_count": 49,
   "metadata": {},
   "outputs": [
    {
     "name": "stderr",
     "output_type": "stream",
     "text": [
      "File \"[49]\", line 1, characters 38-51:\n",
      "Warning 27: unused variable valeur_fausse.\n"
     ]
    },
    {
     "data": {
      "text/plain": [
       "val vrai_paresseux : (unit -> 'a) -> 'b -> 'a = <fun>\n"
      ]
     },
     "execution_count": 49,
     "metadata": {},
     "output_type": "execute_result"
    },
    {
     "name": "stderr",
     "output_type": "stream",
     "text": [
      "File \"[49]\", line 2, characters 25-37:\n",
      "Warning 27: unused variable valeur_vraie.\n"
     ]
    },
    {
     "data": {
      "text/plain": [
       "val faux_paresseux : 'a -> (unit -> 'b) -> 'b = <fun>\n"
      ]
     },
     "execution_count": 49,
     "metadata": {},
     "output_type": "execute_result"
    }
   ],
   "source": [
    "let vrai_paresseux = fun valeur_vraie valeur_fausse -> valeur_vraie () ;;\n",
    "let faux_paresseux = fun valeur_vraie valeur_fausse -> valeur_fausse () ;;"
   ]
  },
  {
   "cell_type": "markdown",
   "metadata": {},
   "source": [
    "Pour rendre paresseux un terme, rien de plus simple !"
   ]
  },
  {
   "cell_type": "code",
   "execution_count": 50,
   "metadata": {},
   "outputs": [
    {
     "data": {
      "text/plain": [
       "val paresseux : 'a -> unit -> 'a = <fun>\n"
      ]
     },
     "execution_count": 50,
     "metadata": {},
     "output_type": "execute_result"
    }
   ],
   "source": [
    "let paresseux = fun f -> fun () -> f ;;"
   ]
  },
  {
   "cell_type": "markdown",
   "metadata": {},
   "source": [
    "## Nombres\n",
    "La représentation de Church consiste a écrire $n$ comme $\\lambda f. \\lambda z. f^n z$."
   ]
  },
  {
   "cell_type": "code",
   "execution_count": 56,
   "metadata": {},
   "outputs": [
    {
     "data": {
      "text/plain": [
       "type 'a nombres = ('a -> 'a) -> 'a -> 'a\n"
      ]
     },
     "execution_count": 56,
     "metadata": {},
     "output_type": "execute_result"
    },
    {
     "data": {
      "text/plain": [
       "type entiers_church = (int -> int) -> int -> int\n"
      ]
     },
     "execution_count": 56,
     "metadata": {},
     "output_type": "execute_result"
    }
   ],
   "source": [
    "type 'a nombres = ('a -> 'a) -> 'a -> 'a;;  (* inutilisé *)\n",
    "type entiers_church = (int -> int) -> int -> int;;"
   ]
  },
  {
   "cell_type": "markdown",
   "metadata": {},
   "source": [
    "$0$ est trivialement $\\lambda f. \\lambda z. z$ :"
   ]
  },
  {
   "cell_type": "code",
   "execution_count": 57,
   "metadata": {},
   "outputs": [
    {
     "name": "stderr",
     "output_type": "stream",
     "text": [
      "File \"[57]\", line 1, characters 16-17:\n",
      "Warning 27: unused variable f.\n"
     ]
    },
    {
     "data": {
      "text/plain": [
       "val zero : ('a -> 'a) -> 'a -> 'a = <fun>\n"
      ]
     },
     "execution_count": 57,
     "metadata": {},
     "output_type": "execute_result"
    }
   ],
   "source": [
    "let zero = fun (f : ('a -> 'a)) (z : 'a) -> z ;;"
   ]
  },
  {
   "cell_type": "markdown",
   "metadata": {},
   "source": [
    "$1$ est $\\lambda f. \\lambda z. f z$ :"
   ]
  },
  {
   "cell_type": "code",
   "execution_count": 59,
   "metadata": {},
   "outputs": [
    {
     "data": {
      "text/plain": [
       "val un : ('a -> 'a) -> 'a -> 'a = <fun>\n"
      ]
     },
     "execution_count": 59,
     "metadata": {},
     "output_type": "execute_result"
    }
   ],
   "source": [
    "let un = fun (f : ('a -> 'a)) -> f ;;"
   ]
  },
  {
   "cell_type": "markdown",
   "metadata": {},
   "source": [
    "Avec l'opérateur de composition, l'écriture des entiers suivants est facile."
   ]
  },
  {
   "cell_type": "code",
   "execution_count": 20,
   "metadata": {},
   "outputs": [
    {
     "data": {
      "text/plain": [
       "val compose : ('a -> 'b) -> ('c -> 'a) -> 'c -> 'b = <fun>\n"
      ]
     },
     "execution_count": 20,
     "metadata": {},
     "output_type": "execute_result"
    }
   ],
   "source": [
    "let compose = fun f g x -> f (g x);;"
   ]
  },
  {
   "cell_type": "code",
   "execution_count": 58,
   "metadata": {},
   "outputs": [
    {
     "data": {
      "text/plain": [
       "val deux : ('a -> 'a) -> 'a -> 'a = <fun>\n"
      ]
     },
     "execution_count": 58,
     "metadata": {},
     "output_type": "execute_result"
    },
    {
     "data": {
      "text/plain": [
       "val trois : ('a -> 'a) -> 'a -> 'a = <fun>\n"
      ]
     },
     "execution_count": 58,
     "metadata": {},
     "output_type": "execute_result"
    },
    {
     "data": {
      "text/plain": [
       "val quatre : ('a -> 'a) -> 'a -> 'a = <fun>\n"
      ]
     },
     "execution_count": 58,
     "metadata": {},
     "output_type": "execute_result"
    }
   ],
   "source": [
    "let deux = fun f -> compose f f;;  (* == compose f (un f) *)\n",
    "let trois = fun f -> compose f (deux f) ;;\n",
    "let quatre = fun f -> compose f (trois f) ;;\n",
    "(* etc *)"
   ]
  },
  {
   "cell_type": "markdown",
   "metadata": {},
   "source": [
    "On peut généraliser ça, avec une fonction qui transforme un entier (`int`) de Caml en un entier de Church :"
   ]
  },
  {
   "cell_type": "code",
   "execution_count": 14,
   "metadata": {},
   "outputs": [
    {
     "data": {
      "text/plain": [
       "val entierChurch : int -> ('a -> 'a) -> 'a -> 'a = <fun>\n"
      ]
     },
     "execution_count": 14,
     "metadata": {},
     "output_type": "execute_result"
    }
   ],
   "source": [
    "let rec entierChurch (n : int) =\n",
    "    fun f z -> if n = 0 then z else f ((entierChurch (n-1)) f z)\n",
    ";;"
   ]
  },
  {
   "cell_type": "markdown",
   "metadata": {},
   "source": [
    "Par exemple :"
   ]
  },
  {
   "cell_type": "code",
   "execution_count": 34,
   "metadata": {},
   "outputs": [
    {
     "data": {
      "text/plain": [
       "- : int = 0\n"
      ]
     },
     "execution_count": 34,
     "metadata": {},
     "output_type": "execute_result"
    },
    {
     "data": {
      "text/plain": [
       "- : int = 7\n"
      ]
     },
     "execution_count": 34,
     "metadata": {},
     "output_type": "execute_result"
    },
    {
     "data": {
      "text/plain": [
       "- : int = 8\n"
      ]
     },
     "execution_count": 34,
     "metadata": {},
     "output_type": "execute_result"
    }
   ],
   "source": [
    "(entierChurch 0) (fun x -> x + 1) 0;; (* 0 *)\n",
    "(entierChurch 7) (fun x -> x + 1) 0;; (* 7 *)\n",
    "(entierChurch 3) (fun x -> 2*x) 1;; (* 8 *)"
   ]
  },
  {
   "cell_type": "markdown",
   "metadata": {},
   "source": [
    "Et une fonction qui fait l'inverse (note : cette fonction n'est *pas* un $\\lambda$-terme) :"
   ]
  },
  {
   "cell_type": "code",
   "execution_count": 55,
   "metadata": {},
   "outputs": [
    {
     "data": {
      "text/plain": [
       "val entierNatif : ((int -> int) -> int -> int) -> int = <fun>\n"
      ]
     },
     "execution_count": 55,
     "metadata": {},
     "output_type": "execute_result"
    }
   ],
   "source": [
    "let entierNatif c : int =\n",
    "    c (fun x -> x + 1) 0\n",
    ";;"
   ]
  },
  {
   "cell_type": "markdown",
   "metadata": {},
   "source": [
    "Un petit test :"
   ]
  },
  {
   "cell_type": "code",
   "execution_count": 53,
   "metadata": {
    "scrolled": true
   },
   "outputs": [
    {
     "data": {
      "text/plain": [
       "- : int = 0\n"
      ]
     },
     "execution_count": 53,
     "metadata": {},
     "output_type": "execute_result"
    },
    {
     "data": {
      "text/plain": [
       "- : int = 1\n"
      ]
     },
     "execution_count": 53,
     "metadata": {},
     "output_type": "execute_result"
    }
   ],
   "source": [
    "entierNatif (si vrai zero un);; (* 0 *)\n",
    "entierNatif (si faux zero un);; (* 1 *)"
   ]
  },
  {
   "cell_type": "code",
   "execution_count": 54,
   "metadata": {},
   "outputs": [
    {
     "data": {
      "text/plain": [
       "- : int = 100\n"
      ]
     },
     "execution_count": 54,
     "metadata": {},
     "output_type": "execute_result"
    }
   ],
   "source": [
    "entierNatif (entierChurch 100);; (* 100 *)"
   ]
  },
  {
   "cell_type": "markdown",
   "metadata": {},
   "source": [
    "## Test d'inégalité\n",
    "On a besoin de pouvoir tester si $n \\leq 0$ (ou $n = 0$) en fait."
   ]
  },
  {
   "cell_type": "code",
   "execution_count": 104,
   "metadata": {},
   "outputs": [
    {
     "name": "stderr",
     "output_type": "stream",
     "text": [
      "File \"[104]\", line 2, characters 29-30:\n",
      "Warning 27: unused variable z.\n"
     ]
    },
    {
     "data": {
      "text/plain": [
       "val estnul : (('a -> 'b -> 'c -> 'c) -> ('d -> 'e -> 'd) -> 'f) -> 'f = <fun>\n"
      ]
     },
     "execution_count": 104,
     "metadata": {},
     "output_type": "execute_result"
    }
   ],
   "source": [
    "(* prend un lambda f lambda z. ... est donne vrai ssi n = 0 ou faux sinon *)\n",
    "let estnul = fun n -> n (fun z -> faux) (vrai);;"
   ]
  },
  {
   "cell_type": "code",
   "execution_count": 108,
   "metadata": {},
   "outputs": [
    {
     "name": "stderr",
     "output_type": "stream",
     "text": [
      "File \"[108]\", line 2, characters 32-33:\n",
      "Warning 27: unused variable z.\n"
     ]
    },
    {
     "data": {
      "text/plain": [
       "val estnonnul : (('a -> 'b -> 'c -> 'b) -> ('d -> 'e -> 'e) -> 'f) -> 'f =\n",
       "  <fun>\n"
      ]
     },
     "execution_count": 108,
     "metadata": {},
     "output_type": "execute_result"
    }
   ],
   "source": [
    "(* prend un lambda f lambda z. ... est donne vrai ssi n > 0 ou faux sinon *)\n",
    "let estnonnul = fun n -> n (fun z -> vrai) (faux);;"
   ]
  },
  {
   "cell_type": "code",
   "execution_count": 107,
   "metadata": {},
   "outputs": [
    {
     "data": {
      "text/plain": [
       "- : int = 0\n"
      ]
     },
     "execution_count": 107,
     "metadata": {},
     "output_type": "execute_result"
    },
    {
     "data": {
      "text/plain": [
       "- : int = 1\n"
      ]
     },
     "execution_count": 107,
     "metadata": {},
     "output_type": "execute_result"
    },
    {
     "data": {
      "text/plain": [
       "- : int = 1\n"
      ]
     },
     "execution_count": 107,
     "metadata": {},
     "output_type": "execute_result"
    }
   ],
   "source": [
    "entierNatif (si (estnul zero) zero un);; (* 0 *)\n",
    "entierNatif (si (estnul un)   zero un);; (* 1 *)\n",
    "entierNatif (si (estnul deux) zero un);; (* 1 *)"
   ]
  },
  {
   "cell_type": "code",
   "execution_count": 109,
   "metadata": {},
   "outputs": [
    {
     "data": {
      "text/plain": [
       "- : int = 1\n"
      ]
     },
     "execution_count": 109,
     "metadata": {},
     "output_type": "execute_result"
    },
    {
     "data": {
      "text/plain": [
       "- : int = 0\n"
      ]
     },
     "execution_count": 109,
     "metadata": {},
     "output_type": "execute_result"
    },
    {
     "data": {
      "text/plain": [
       "- : int = 0\n"
      ]
     },
     "execution_count": 109,
     "metadata": {},
     "output_type": "execute_result"
    }
   ],
   "source": [
    "entierNatif (si (estnonnul zero) zero un);; (* 0 *)\n",
    "entierNatif (si (estnonnul un)   zero un);; (* 1 *)\n",
    "entierNatif (si (estnonnul deux) zero un);; (* 1 *)"
   ]
  },
  {
   "cell_type": "code",
   "execution_count": 111,
   "metadata": {},
   "outputs": [
    {
     "data": {
      "text/plain": [
       "- : int = 1\n"
      ]
     },
     "execution_count": 111,
     "metadata": {},
     "output_type": "execute_result"
    },
    {
     "data": {
      "text/plain": [
       "- : int = 0\n"
      ]
     },
     "execution_count": 111,
     "metadata": {},
     "output_type": "execute_result"
    },
    {
     "data": {
      "text/plain": [
       "- : int = 0\n"
      ]
     },
     "execution_count": 111,
     "metadata": {},
     "output_type": "execute_result"
    }
   ],
   "source": [
    "entierNatif (si (non (estnul zero)) zero un);; (* 0 *)\n",
    "entierNatif (si (non (estnul un))   zero un);; (* 1 *)\n",
    "entierNatif (si (non (estnul deux)) zero un);; (* 1 *)"
   ]
  },
  {
   "cell_type": "markdown",
   "metadata": {},
   "source": [
    "## Successeurs\n",
    "Vue la représentation de Churc, $n+1$ consiste a appliquer l'argument $f$ une fois de plus :\n",
    "$f^{n+1}(z) = f (f^n(z))$."
   ]
  },
  {
   "cell_type": "code",
   "execution_count": 38,
   "metadata": {},
   "outputs": [
    {
     "data": {
      "text/plain": [
       "val succ : (('a -> 'b) -> 'c -> 'a) -> ('a -> 'b) -> 'c -> 'b = <fun>\n"
      ]
     },
     "execution_count": 38,
     "metadata": {},
     "output_type": "execute_result"
    }
   ],
   "source": [
    "let succ = fun n f z -> f ((n f) z) ;;"
   ]
  },
  {
   "cell_type": "code",
   "execution_count": 113,
   "metadata": {},
   "outputs": [
    {
     "data": {
      "text/plain": [
       "- : int = 2\n"
      ]
     },
     "execution_count": 113,
     "metadata": {},
     "output_type": "execute_result"
    }
   ],
   "source": [
    "entierNatif (succ un);; (* 2 *)"
   ]
  },
  {
   "cell_type": "markdown",
   "metadata": {},
   "source": [
    "## Prédecesseurs\n",
    "Vue la représentation de Churc, $n-1$ n'existe pas pour $0$ et pour $n$ non nul il s'agit du terme qui attend $f$ et $x$ et applique $n-1$ $f$ fois à $x$."
   ]
  },
  {
   "cell_type": "code",
   "execution_count": 132,
   "metadata": {},
   "outputs": [
    {
     "data": {
      "text/plain": [
       "- : ('a -> 'b -> 'c) -> 'a -> 'b -> 'c = <fun>\n"
      ]
     },
     "execution_count": 132,
     "metadata": {},
     "output_type": "execute_result"
    }
   ],
   "source": [
    "si"
   ]
  },
  {
   "cell_type": "code",
   "execution_count": 129,
   "metadata": {},
   "outputs": [
    {
     "ename": "error",
     "evalue": "error",
     "output_type": "error",
     "traceback": [
      "\u001b[31mFile \"[129]\", line 1, characters 46-51:\nError: This expression has type\n         (('a -> 'b -> 'c -> 'c) -> ('d -> 'e -> 'd) -> 'f) -> 'g -> 'h\n       but an expression was expected of type 'f\n       The type variable 'f occurs inside\n       (('a -> 'b -> 'c -> 'c) -> ('d -> 'e -> 'd) -> 'f) -> 'g -> 'h\n\u001b[0m"
     ]
    }
   ],
   "source": [
    "let pred = fun n -> si (estnul n) (fun f z -> n f z) (fun f z -> n f z);;"
   ]
  },
  {
   "cell_type": "code",
   "execution_count": 125,
   "metadata": {},
   "outputs": [
    {
     "data": {
      "text/plain": [
       "- : int = 1\n"
      ]
     },
     "execution_count": 125,
     "metadata": {},
     "output_type": "execute_result"
    }
   ],
   "source": [
    "entierNatif (pred deux);; (* 1 *)"
   ]
  },
  {
   "cell_type": "code",
   "execution_count": 124,
   "metadata": {},
   "outputs": [
    {
     "data": {
      "text/plain": [
       "- : int = 1\n"
      ]
     },
     "execution_count": 124,
     "metadata": {},
     "output_type": "execute_result"
    }
   ],
   "source": [
    "entierNatif (pred trois);; (* 1 *)"
   ]
  },
  {
   "cell_type": "markdown",
   "metadata": {},
   "source": [
    "## Addition\n",
    "\n",
    "Pour ajouter $n$ et $m$, il faut appliquer une fonction $f$ $n$ fois puis $m$ fois : $f^{n+m}(z) = f^n(f^m(z))$."
   ]
  },
  {
   "cell_type": "code",
   "execution_count": 60,
   "metadata": {},
   "outputs": [
    {
     "data": {
      "text/plain": [
       "val somme : ('a -> 'b -> 'c) -> ('a -> 'd -> 'b) -> 'a -> 'd -> 'c = <fun>\n"
      ]
     },
     "execution_count": 60,
     "metadata": {},
     "output_type": "execute_result"
    }
   ],
   "source": [
    "let somme = fun n m f z -> n(f)( m(f)(z));;"
   ]
  },
  {
   "cell_type": "code",
   "execution_count": 61,
   "metadata": {},
   "outputs": [
    {
     "data": {
      "text/plain": [
       "val cinq : ('_a -> '_a) -> '_a -> '_a = <fun>\n"
      ]
     },
     "execution_count": 61,
     "metadata": {},
     "output_type": "execute_result"
    }
   ],
   "source": [
    "let cinq = somme deux trois ;;"
   ]
  },
  {
   "cell_type": "code",
   "execution_count": 62,
   "metadata": {},
   "outputs": [
    {
     "data": {
      "text/plain": [
       "- : int = 5\n"
      ]
     },
     "execution_count": 62,
     "metadata": {},
     "output_type": "execute_result"
    }
   ],
   "source": [
    "entierNatif cinq;;"
   ]
  },
  {
   "cell_type": "code",
   "execution_count": 67,
   "metadata": {},
   "outputs": [
    {
     "data": {
      "text/plain": [
       "val sept : (int -> int) -> int -> int = <fun>\n"
      ]
     },
     "execution_count": 67,
     "metadata": {},
     "output_type": "execute_result"
    }
   ],
   "source": [
    "let sept = somme cinq deux ;;"
   ]
  },
  {
   "cell_type": "code",
   "execution_count": 68,
   "metadata": {},
   "outputs": [
    {
     "data": {
      "text/plain": [
       "- : int = 7\n"
      ]
     },
     "execution_count": 68,
     "metadata": {},
     "output_type": "execute_result"
    }
   ],
   "source": [
    "entierNatif sept;;"
   ]
  },
  {
   "cell_type": "markdown",
   "metadata": {},
   "source": [
    "## Multiplication\n",
    "\n",
    "Pour multiplier $n$ et $m$, il faut appliquer le codage de $n$ exactement $m$ fois : $f^{nm}(z) = (f^n(f^n(...(f^n(z))...))$."
   ]
  },
  {
   "cell_type": "code",
   "execution_count": 71,
   "metadata": {},
   "outputs": [
    {
     "data": {
      "text/plain": [
       "val produit : ('a -> 'b) -> ('b -> 'c -> 'd) -> 'a -> 'c -> 'd = <fun>\n"
      ]
     },
     "execution_count": 71,
     "metadata": {},
     "output_type": "execute_result"
    }
   ],
   "source": [
    "let produit = fun n m f z -> m(n(f))(z);;"
   ]
  },
  {
   "cell_type": "markdown",
   "metadata": {},
   "source": [
    "On peut faire encore mieux avec l'opérateur de composition :"
   ]
  },
  {
   "cell_type": "code",
   "execution_count": 80,
   "metadata": {},
   "outputs": [
    {
     "data": {
      "text/plain": [
       "val produit : ('a -> 'b) -> ('b -> 'c) -> 'a -> 'c = <fun>\n"
      ]
     },
     "execution_count": 80,
     "metadata": {},
     "output_type": "execute_result"
    }
   ],
   "source": [
    "let produit = fun n m -> compose m n;;"
   ]
  },
  {
   "cell_type": "code",
   "execution_count": 78,
   "metadata": {},
   "outputs": [
    {
     "data": {
      "text/plain": [
       "val six : ('_a -> '_a) -> '_a -> '_a = <fun>\n"
      ]
     },
     "execution_count": 78,
     "metadata": {},
     "output_type": "execute_result"
    }
   ],
   "source": [
    "let six = produit deux trois ;;"
   ]
  },
  {
   "cell_type": "code",
   "execution_count": 79,
   "metadata": {},
   "outputs": [
    {
     "data": {
      "text/plain": [
       "- : int = 6\n"
      ]
     },
     "execution_count": 79,
     "metadata": {},
     "output_type": "execute_result"
    }
   ],
   "source": [
    "entierNatif six;;"
   ]
  },
  {
   "cell_type": "code",
   "execution_count": 75,
   "metadata": {},
   "outputs": [
    {
     "data": {
      "text/plain": [
       "val huit : ('_a -> '_a) -> '_a -> '_a = <fun>\n"
      ]
     },
     "execution_count": 75,
     "metadata": {},
     "output_type": "execute_result"
    }
   ],
   "source": [
    "let huit = produit deux quatre ;;"
   ]
  },
  {
   "cell_type": "code",
   "execution_count": 76,
   "metadata": {},
   "outputs": [
    {
     "data": {
      "text/plain": [
       "- : int = 8\n"
      ]
     },
     "execution_count": 76,
     "metadata": {},
     "output_type": "execute_result"
    }
   ],
   "source": [
    "entierNatif huit;;"
   ]
  },
  {
   "cell_type": "markdown",
   "metadata": {},
   "source": [
    "## Paires\n",
    "\n",
    "On va écrire un constructeur de paires, `pair a b` qui sera comme `(a, b)`, et deux destructeurs, `gauche` et `droite`, qui vérifient :\n",
    "\n",
    "    gauche (pair a b) == a\n",
    "    droite (pair a b) == b"
   ]
  },
  {
   "cell_type": "code",
   "execution_count": 81,
   "metadata": {},
   "outputs": [
    {
     "data": {
      "text/plain": [
       "val pair : 'a -> 'b -> ('a -> 'b -> 'c) -> 'c = <fun>\n"
      ]
     },
     "execution_count": 81,
     "metadata": {},
     "output_type": "execute_result"
    }
   ],
   "source": [
    "let pair = fun a b -> fun f -> f(a)(b);;"
   ]
  },
  {
   "cell_type": "code",
   "execution_count": 82,
   "metadata": {},
   "outputs": [
    {
     "name": "stderr",
     "output_type": "stream",
     "text": [
      "File \"[82]\", line 1, characters 30-31:\n",
      "Warning 27: unused variable b.\n"
     ]
    },
    {
     "data": {
      "text/plain": [
       "val gauche : (('a -> 'b -> 'a) -> 'c) -> 'c = <fun>\n"
      ]
     },
     "execution_count": 82,
     "metadata": {},
     "output_type": "execute_result"
    },
    {
     "name": "stderr",
     "output_type": "stream",
     "text": [
      "File \"[82]\", line 2, characters 28-29:\n",
      "Warning 27: unused variable a.\n"
     ]
    },
    {
     "data": {
      "text/plain": [
       "val droite : (('a -> 'b -> 'b) -> 'c) -> 'c = <fun>\n"
      ]
     },
     "execution_count": 82,
     "metadata": {},
     "output_type": "execute_result"
    }
   ],
   "source": [
    "let gauche = fun p -> p(fun a b -> a);;\n",
    "let droite = fun p -> p(fun a b -> b);;"
   ]
  },
  {
   "cell_type": "code",
   "execution_count": 84,
   "metadata": {},
   "outputs": [
    {
     "data": {
      "text/plain": [
       "- : int = 0\n"
      ]
     },
     "execution_count": 84,
     "metadata": {},
     "output_type": "execute_result"
    },
    {
     "data": {
      "text/plain": [
       "- : int = 1\n"
      ]
     },
     "execution_count": 84,
     "metadata": {},
     "output_type": "execute_result"
    }
   ],
   "source": [
    "entierNatif (gauche (pair zero un));;\n",
    "entierNatif (droite (pair zero un));;"
   ]
  },
  {
   "cell_type": "markdown",
   "metadata": {},
   "source": [
    "## Listes\n",
    "\n",
    "Pour construire des listes (simplement chaînées), on a besoin d'une valeur pour la liste vide, `listevide`, d'un constructeur pour une liste `cons`, un prédicat pour la liste vide `estvide`, un accesseur `tete` et `queue`, et avec les contraintes suivantes (avec `vrai`, `faux` définis comme plus haut) :\n",
    "\n",
    "    estvide (listevide) == vrai\n",
    "    estvide (cons tt qu) == faux\n",
    "    \n",
    "    tete (cons tt qu) == tt\n",
    "    queue (cons tt qu) == qu\n",
    "\n",
    "On va stocker tout ça avec des fonctions qui attendront deux arguments (deux fonctions - rappel tout est fonction en $\\lambda$-calcul), l'une appellée si la liste est vide, l'autre si la liste n'est pas vide."
   ]
  },
  {
   "cell_type": "code",
   "execution_count": 85,
   "metadata": {},
   "outputs": [
    {
     "name": "stderr",
     "output_type": "stream",
     "text": [
      "File \"[85]\", line 1, characters 28-38:\n",
      "Warning 27: unused variable surpasvide.\n"
     ]
    },
    {
     "data": {
      "text/plain": [
       "val listevide : (unit -> 'a) -> 'b -> 'a = <fun>\n"
      ]
     },
     "execution_count": 85,
     "metadata": {},
     "output_type": "execute_result"
    }
   ],
   "source": [
    "let listevide = fun survide surpasvide -> survide();;"
   ]
  },
  {
   "cell_type": "code",
   "execution_count": 86,
   "metadata": {},
   "outputs": [
    {
     "name": "stderr",
     "output_type": "stream",
     "text": [
      "File \"[86]\", line 1, characters 28-35:\n",
      "Warning 27: unused variable survide.\n"
     ]
    },
    {
     "data": {
      "text/plain": [
       "val cons : 'a -> 'b -> 'c -> ('a -> 'b -> 'd) -> 'd = <fun>\n"
      ]
     },
     "execution_count": 86,
     "metadata": {},
     "output_type": "execute_result"
    }
   ],
   "source": [
    "let cons = fun hd tl -> fun survide surpasvide -> surpasvide hd tl;;"
   ]
  },
  {
   "cell_type": "markdown",
   "metadata": {},
   "source": [
    "Avec cette construction, `estvide` est assez simple : `survide` est `() -> vrai` et `surpasvide` est `tt qu -> faux`."
   ]
  },
  {
   "cell_type": "code",
   "execution_count": 92,
   "metadata": {},
   "outputs": [
    {
     "name": "stderr",
     "output_type": "stream",
     "text": [
      "File \"[92]\", line 1, characters 55-57:\n",
      "Warning 27: unused variable tt.\n",
      "File \"[92]\", line 1, characters 58-60:\n",
      "Warning 27: unused variable qu.\n"
     ]
    },
    {
     "data": {
      "text/plain": [
       "val estvide :\n",
       "  ((unit -> 'a -> 'b -> 'a) -> ('c -> 'd -> 'e -> 'f -> 'f) -> 'g) -> 'g =\n",
       "  <fun>\n"
      ]
     },
     "execution_count": 92,
     "metadata": {},
     "output_type": "execute_result"
    }
   ],
   "source": [
    "let estvide = fun liste -> liste (fun () -> vrai) (fun tt qu -> faux);;"
   ]
  },
  {
   "cell_type": "markdown",
   "metadata": {},
   "source": [
    "Deux tests :"
   ]
  },
  {
   "cell_type": "code",
   "execution_count": 91,
   "metadata": {},
   "outputs": [
    {
     "data": {
      "text/plain": [
       "- : int = 1\n"
      ]
     },
     "execution_count": 91,
     "metadata": {},
     "output_type": "execute_result"
    },
    {
     "data": {
      "text/plain": [
       "- : int = 0\n"
      ]
     },
     "execution_count": 91,
     "metadata": {},
     "output_type": "execute_result"
    }
   ],
   "source": [
    "entierNatif (si (estvide (listevide)) un zero);; (* estvide listevide == vrai *)\n",
    "entierNatif (si (estvide (cons un listevide)) un zero);; (* estvide (cons un listevide) == faux *)"
   ]
  },
  {
   "cell_type": "markdown",
   "metadata": {},
   "source": [
    "Et pour les deux extracteurs, c'est très facile avec cet encodage."
   ]
  },
  {
   "cell_type": "code",
   "execution_count": null,
   "metadata": {},
   "outputs": [],
   "source": []
  },
  {
   "cell_type": "code",
   "execution_count": 93,
   "metadata": {},
   "outputs": [
    {
     "data": {
      "text/plain": [
       "val tete : (('a -> 'a) -> ('b -> 'c -> 'b) -> 'd) -> 'd = <fun>\n"
      ]
     },
     "execution_count": 93,
     "metadata": {},
     "output_type": "execute_result"
    },
    {
     "name": "stderr",
     "output_type": "stream",
     "text": [
      "File \"[93]\", line 1, characters 45-47:\n",
      "Warning 27: unused variable qu.\n",
      "File \"[93]\", line 2, characters 43-45:\n",
      "Warning 27: unused variable tt.\n"
     ]
    },
    {
     "data": {
      "text/plain": [
       "val queue : (('a -> 'a) -> ('b -> 'c -> 'c) -> 'd) -> 'd = <fun>\n"
      ]
     },
     "execution_count": 93,
     "metadata": {},
     "output_type": "execute_result"
    }
   ],
   "source": [
    "let tete = fun liste -> liste (vide) (fun tt qu -> tt);;\n",
    "let queue = fun liste -> liste (vide) (fun tt qu -> qu);;"
   ]
  },
  {
   "cell_type": "code",
   "execution_count": 96,
   "metadata": {},
   "outputs": [
    {
     "data": {
      "text/plain": [
       "- : int = 1\n"
      ]
     },
     "execution_count": 96,
     "metadata": {},
     "output_type": "execute_result"
    },
    {
     "data": {
      "text/plain": [
       "- : int = 1\n"
      ]
     },
     "execution_count": 96,
     "metadata": {},
     "output_type": "execute_result"
    }
   ],
   "source": [
    "entierNatif (tete (cons un listevide));;\n",
    "entierNatif (tete (queue (cons un (cons un listevide))));;"
   ]
  },
  {
   "cell_type": "markdown",
   "metadata": {},
   "source": [
    "## La fonction U\n",
    "\n",
    "C'est le premier indice que le $\\lambda$-calcul peut être utilisé comme modèle de calcul : le terme $U : f \\to f(f)$ ne termine pas si on l'applique à lui-même.\n",
    "\n",
    "Mais ce sera la faiblesse de l'utilisation de Caml : ce terme ne peut être correctement typé !"
   ]
  },
  {
   "cell_type": "code",
   "execution_count": 98,
   "metadata": {},
   "outputs": [
    {
     "ename": "error",
     "evalue": "error",
     "output_type": "error",
     "traceback": [
      "\u001b[31mFile \"[98]\", line 1, characters 19-22:\nError: This expression has type 'a -> 'b\n       but an expression was expected of type 'a\n       The type variable 'a occurs inside 'a -> 'b\n\u001b[0m"
     ]
    }
   ],
   "source": [
    "let u = fun f -> f (f);;"
   ]
  },
  {
   "cell_type": "markdown",
   "metadata": {},
   "source": [
    "A noter que même dans un langage non typé (par exemple Python), on peut définir $U$ mais son exécution échouera, soit à caude d'un dépassement de pile, soit parce qu'elle ne termine pas."
   ]
  },
  {
   "cell_type": "markdown",
   "metadata": {},
   "source": [
    "## La récursion via la fonction Y\n",
    "\n",
    "La fonction $Y$ trouve le point fixe d'une autre fonction.\n",
    "C'est très utile pour définir des fonctions par récurrence.\n",
    "\n",
    "Par exemple, la factorielle est le point fixe de la fonction suivante :\n",
    "\"$\\lambda f. \\lambda n. 1$ si $n \\leq 0$ sinon $n * f(n-1)$\" (écrite dans un langage plus haut niveau, pas en $\\lambda$-calcul).\n",
    "\n",
    "$Y$ satisfait ces contraintes : $Y(F) = f$ et $f = F(f)$.\n",
    "Donc $Y(F) = F(Y(F))$ et donc $Y = \\lambda F. F(Y(F))$. Mais ce premier essai ne marche pas."
   ]
  },
  {
   "cell_type": "code",
   "execution_count": 102,
   "metadata": {},
   "outputs": [
    {
     "data": {
      "text/plain": [
       "val y : ('a -> 'a) -> 'a = <fun>\n"
      ]
     },
     "execution_count": 102,
     "metadata": {},
     "output_type": "execute_result"
    }
   ],
   "source": [
    "let rec y = fun f -> f (y(f));;"
   ]
  },
  {
   "cell_type": "code",
   "execution_count": null,
   "metadata": {},
   "outputs": [],
   "source": [
    "let rec fact_non_rec = fun f n -> si () (un) (produit n)"
   ]
  },
  {
   "cell_type": "code",
   "execution_count": 112,
   "metadata": {},
   "outputs": [
    {
     "ename": "error",
     "evalue": "error",
     "output_type": "error",
     "traceback": [
      "\u001b[31mFile \"[112]\", line 1, characters 0-3:\nError: Unbound value mul\n\u001b[0m"
     ]
    }
   ],
   "source": []
  },
  {
   "cell_type": "code",
   "execution_count": 101,
   "metadata": {},
   "outputs": [
    {
     "data": {
      "text/plain": [
       "val y : (('a -> 'b) -> 'a -> 'b) -> 'a -> 'b = <fun>\n"
      ]
     },
     "execution_count": 101,
     "metadata": {},
     "output_type": "execute_result"
    }
   ],
   "source": [
    "let rec y = fun f -> f (fun x -> y(f)(x));;"
   ]
  },
  {
   "cell_type": "code",
   "execution_count": null,
   "metadata": {},
   "outputs": [],
   "source": []
  }
 ],
 "metadata": {
  "kernelspec": {
   "display_name": "OCaml 4.04.2",
   "language": "OCaml",
   "name": "ocaml-jupyter"
  },
  "language_info": {
   "codemirror_mode": "text/x-ocaml",
   "file_extension": ".ml",
   "mimetype": "text/x-ocaml",
   "name": "OCaml",
   "nbconverter_exporter": null,
   "pygments_lexer": "OCaml",
   "version": "4.04.2"
  },
  "toc": {
   "colors": {
    "hover_highlight": "#DAA520",
    "running_highlight": "#FF0000",
    "selected_highlight": "#FFD700"
   },
   "moveMenuLeft": true,
   "nav_menu": {
    "height": "364px",
    "width": "251px"
   },
   "navigate_menu": true,
   "number_sections": true,
   "sideBar": true,
   "threshold": 4,
   "toc_cell": true,
   "toc_section_display": "block",
   "toc_window_display": false
  }
 },
 "nbformat": 4,
 "nbformat_minor": 2
}
