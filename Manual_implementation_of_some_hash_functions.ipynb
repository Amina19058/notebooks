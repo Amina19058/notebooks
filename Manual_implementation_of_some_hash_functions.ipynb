{
 "cells": [
  {
   "cell_type": "markdown",
   "metadata": {
    "toc": "true"
   },
   "source": [
    "# Table of Contents\n",
    " <p><div class=\"lev1 toc-item\"><a href=\"#Manual-implementation-of-some-hash-functions\" data-toc-modified-id=\"Manual-implementation-of-some-hash-functions-1\"><span class=\"toc-item-num\">1&nbsp;&nbsp;</span>Manual implementation of some hash functions</a></div><div class=\"lev2 toc-item\"><a href=\"#What-is-a-hash-function?\" data-toc-modified-id=\"What-is-a-hash-function?-11\"><span class=\"toc-item-num\">1.1&nbsp;&nbsp;</span>What is a hash function?</a></div><div class=\"lev2 toc-item\"><a href=\"#Common-API-for-the-different-classes\" data-toc-modified-id=\"Common-API-for-the-different-classes-12\"><span class=\"toc-item-num\">1.2&nbsp;&nbsp;</span>Common API for the different classes</a></div><div class=\"lev2 toc-item\"><a href=\"#Checking-the-the-hashlib-module-in-Python-standard-library\" data-toc-modified-id=\"Checking-the-the-hashlib-module-in-Python-standard-library-13\"><span class=\"toc-item-num\">1.3&nbsp;&nbsp;</span>Checking the <a href=\"https://docs.python.org/3/library/hashlib.html\" target=\"_blank\">the <code>hashlib</code> module in Python standard library</a></a></div><div class=\"lev2 toc-item\"><a href=\"#First-stupid-example:-a-stupid-hashing-function\" data-toc-modified-id=\"First-stupid-example:-a-stupid-hashing-function-14\"><span class=\"toc-item-num\">1.4&nbsp;&nbsp;</span>First stupid example: a stupid hashing function</a></div><div class=\"lev2 toc-item\"><a href=\"#First-real-example:-the-MD5-hashing-function\" data-toc-modified-id=\"First-real-example:-the-MD5-hashing-function-15\"><span class=\"toc-item-num\">1.5&nbsp;&nbsp;</span>First real example: the MD5 hashing function</a></div><div class=\"lev3 toc-item\"><a href=\"#Useful-functions-for-the-MD5-algorithm\" data-toc-modified-id=\"Useful-functions-for-the-MD5-algorithm-151\"><span class=\"toc-item-num\">1.5.1&nbsp;&nbsp;</span>Useful functions for the MD5 algorithm</a></div><div class=\"lev3 toc-item\"><a href=\"#The-MD5-class\" data-toc-modified-id=\"The-MD5-class-152\"><span class=\"toc-item-num\">1.5.2&nbsp;&nbsp;</span>The <code>MD5</code> class</a></div><div class=\"lev3 toc-item\"><a href=\"#First-check-on-MD5\" data-toc-modified-id=\"First-check-on-MD5-153\"><span class=\"toc-item-num\">1.5.3&nbsp;&nbsp;</span>First check on MD5</a></div><div class=\"lev3 toc-item\"><a href=\"#A-less-stupid-check-on-MD5\" data-toc-modified-id=\"A-less-stupid-check-on-MD5-154\"><span class=\"toc-item-num\">1.5.4&nbsp;&nbsp;</span>A less stupid check on MD5</a></div><div class=\"lev3 toc-item\"><a href=\"#Trying-1000-random-examples\" data-toc-modified-id=\"Trying-1000-random-examples-155\"><span class=\"toc-item-num\">1.5.5&nbsp;&nbsp;</span>Trying 1000 random examples</a></div><div class=\"lev2 toc-item\"><a href=\"#Second-real-example:-the-SHA-1-hashing-function\" data-toc-modified-id=\"Second-real-example:-the-SHA-1-hashing-function-16\"><span class=\"toc-item-num\">1.6&nbsp;&nbsp;</span>Second real example: the SHA-1 hashing function</a></div><div class=\"lev3 toc-item\"><a href=\"#Useful-functions-the-SHA-1-algorithm\" data-toc-modified-id=\"Useful-functions-the-SHA-1-algorithm-161\"><span class=\"toc-item-num\">1.6.1&nbsp;&nbsp;</span>Useful functions the SHA-1 algorithm</a></div><div class=\"lev3 toc-item\"><a href=\"#The-SHA1-class\" data-toc-modified-id=\"The-SHA1-class-162\"><span class=\"toc-item-num\">1.6.2&nbsp;&nbsp;</span>The <code>SHA1</code> class</a></div><div class=\"lev3 toc-item\"><a href=\"#First-check-on-SHA-1\" data-toc-modified-id=\"First-check-on-SHA-1-163\"><span class=\"toc-item-num\">1.6.3&nbsp;&nbsp;</span>First check on SHA-1</a></div><div class=\"lev3 toc-item\"><a href=\"#A-less-stupid-check-on-SHA-1\" data-toc-modified-id=\"A-less-stupid-check-on-SHA-1-164\"><span class=\"toc-item-num\">1.6.4&nbsp;&nbsp;</span>A less stupid check on SHA-1</a></div><div class=\"lev3 toc-item\"><a href=\"#Trying-1000-random-examples\" data-toc-modified-id=\"Trying-1000-random-examples-165\"><span class=\"toc-item-num\">1.6.5&nbsp;&nbsp;</span>Trying 1000 random examples</a></div><div class=\"lev2 toc-item\"><a href=\"#Third-real-example:-the-SHA-2-hashing-function\" data-toc-modified-id=\"Third-real-example:-the-SHA-2-hashing-function-17\"><span class=\"toc-item-num\">1.7&nbsp;&nbsp;</span>Third real example: the SHA-2 hashing function</a></div><div class=\"lev3 toc-item\"><a href=\"#Useful-functions-the-SHA-2-algorithm\" data-toc-modified-id=\"Useful-functions-the-SHA-2-algorithm-171\"><span class=\"toc-item-num\">1.7.1&nbsp;&nbsp;</span>Useful functions the SHA-2 algorithm</a></div><div class=\"lev3 toc-item\"><a href=\"#The-SHA2-class\" data-toc-modified-id=\"The-SHA2-class-172\"><span class=\"toc-item-num\">1.7.2&nbsp;&nbsp;</span>The <code>SHA2</code> class</a></div><div class=\"lev3 toc-item\"><a href=\"#First-check-on-SHA-2\" data-toc-modified-id=\"First-check-on-SHA-2-173\"><span class=\"toc-item-num\">1.7.3&nbsp;&nbsp;</span>First check on SHA-2</a></div><div class=\"lev3 toc-item\"><a href=\"#A-less-stupid-check-on-SHA-2\" data-toc-modified-id=\"A-less-stupid-check-on-SHA-2-174\"><span class=\"toc-item-num\">1.7.4&nbsp;&nbsp;</span>A less stupid check on SHA-2</a></div><div class=\"lev3 toc-item\"><a href=\"#Trying-1000-random-examples\" data-toc-modified-id=\"Trying-1000-random-examples-175\"><span class=\"toc-item-num\">1.7.5&nbsp;&nbsp;</span>Trying 1000 random examples</a></div><div class=\"lev2 toc-item\"><a href=\"#Comparison-:-MD5-vs-SHA-1-vs-SHA-2\" data-toc-modified-id=\"Comparison-:-MD5-vs-SHA-1-vs-SHA-2-18\"><span class=\"toc-item-num\">1.8&nbsp;&nbsp;</span>Comparison : MD5 vs SHA-1 vs SHA-2</a></div><div class=\"lev2 toc-item\"><a href=\"#Bonus-:-SHA-2-variants\" data-toc-modified-id=\"Bonus-:-SHA-2-variants-19\"><span class=\"toc-item-num\">1.9&nbsp;&nbsp;</span>Bonus : SHA-2 variants</a></div><div class=\"lev2 toc-item\"><a href=\"#Conclusion\" data-toc-modified-id=\"Conclusion-110\"><span class=\"toc-item-num\">1.10&nbsp;&nbsp;</span>Conclusion</a></div>"
   ]
  },
  {
   "cell_type": "markdown",
   "metadata": {},
   "source": [
    "# Manual implementation of some hash functions\n",
    "\n",
    "This small [Jupyter notebook](https://www.Jupyter.org/) is a short experiment, to see if I can implement the some basic [Hashing functions](https://en.wikipedia.org/wiki/Hash_function), more specifically [cryptographic hashing functions](https://en.wikipedia.org/wiki/Cryptographic_hash_function), like `MD5`, `SHA1`, etc\n",
    "\n",
    "And then I want compare my manual implementations with the functions implemented in [the `hashlib` module in Python standard library](https://docs.python.org/3/library/hashlib.html).\n",
    "Ideally, my implementation should work exactly like the reference one, only slower!\n",
    "\n",
    "\n",
    "- *Reference*: Wikipedia pages on [Hash functions](https://en.wikipedia.org/wiki/Hash_function), [MD5](https://en.wikipedia.org/wiki/MD5), and [SHA1](https://en.wikipedia.org/wiki/SHA1), as well as [the `hashlib` module in Python standard library](https://docs.python.org/3/library/hashlib.html).\n",
    "- *Date*: 13 May 2017 (first part about MD5), 19 June 2017 (second part about SHA1).\n",
    "- *Author*: [Lilian Besson](https://GitHub.com/Naereen/notebooks).\n",
    "- *License*: [MIT Licensed](https://LBesson.MIT-License.org/)."
   ]
  },
  {
   "cell_type": "markdown",
   "metadata": {},
   "source": [
    "----\n",
    "## What is a hash function?\n",
    "> TL;DR : [Hash functions](https://en.wikipedia.org/wiki/Hash_function) and [cryptographic hashing functions](https://en.wikipedia.org/wiki/Cryptographic_hash_function) on Wikipedia."
   ]
  },
  {
   "cell_type": "markdown",
   "metadata": {},
   "source": [
    "----\n",
    "## Common API for the different classes\n",
    "\n",
    "I will copy the API proposed by [the `hashlib` module in Python standard library](https://docs.python.org/3/library/hashlib.html), so it will be very easy to compare my implementations with the one provided with your default [Python](https://www.Python.org/) installation."
   ]
  },
  {
   "cell_type": "code",
   "execution_count": 1,
   "metadata": {
    "collapsed": true
   },
   "outputs": [],
   "source": [
    "class Hash(object):\n",
    "    \"\"\" Common class for all hash methods.\n",
    "    \n",
    "    It copies the one of the hashlib module (https://docs.python.org/3.5/library/hashlib.html).\n",
    "    \"\"\"\n",
    "    \n",
    "    def __init__(self, *args, **kwargs):\n",
    "        \"\"\" Create the Hash object.\"\"\"\n",
    "        self.digest_size = 0  # https://docs.python.org/3.5/library/hashlib.html#hashlib.hash.digest_size\n",
    "        self.block_size  = 0  # https://docs.python.org/3.5/library/hashlib.html#hashlib.hash.block_size\n",
    "        self.name = self.__class__.__name__      # https://docs.python.org/3.5/library/hashlib.html#hashlib.hash.name\n",
    "\n",
    "    def __str__(self):\n",
    "        return self.name\n",
    "        \n",
    "    def update(self, arg):\n",
    "        \"\"\" Update the hash object with the object arg, which must be interpretable as a buffer of bytes.\"\"\"\n",
    "        pass\n",
    "\n",
    "    def digest(self):\n",
    "        \"\"\" Return the digest of the data passed to the update() method so far. This is a bytes object of size digest_size which may contain bytes in the whole range from 0 to 255.\"\"\"\n",
    "        return b\"\"\n",
    "\n",
    "    def hexdigest(self):\n",
    "        \"\"\" Like digest() except the digest is returned as a string object of double length, containing only hexadecimal digits. This may be used to exchange the value safely in email or other non-binary environments.\"\"\"\n",
    "        return self.digest().hex()"
   ]
  },
  {
   "cell_type": "markdown",
   "metadata": {},
   "source": [
    "----\n",
    "## Checking the [the `hashlib` module in Python standard library](https://docs.python.org/3/library/hashlib.html)"
   ]
  },
  {
   "cell_type": "code",
   "execution_count": 2,
   "metadata": {
    "collapsed": true
   },
   "outputs": [],
   "source": [
    "import hashlib"
   ]
  },
  {
   "cell_type": "markdown",
   "metadata": {},
   "source": [
    "We can check [the available algorithms](https://docs.python.org/3.5/library/hashlib.html#hashlib.algorithms_available), some of them being [guaranteed to be on any platform](https://docs.python.org/3.5/library/hashlib.html#hashlib.algorithms_guaranteed), some are not."
   ]
  },
  {
   "cell_type": "code",
   "execution_count": 3,
   "metadata": {},
   "outputs": [
    {
     "data": {
      "text/plain": [
       "['dsaEncryption',\n",
       " 'SHA224',\n",
       " 'sha1',\n",
       " 'ripemd160',\n",
       " 'sha224',\n",
       " 'DSA-SHA',\n",
       " 'DSA',\n",
       " 'md5',\n",
       " 'MD5',\n",
       " 'SHA384',\n",
       " 'whirlpool',\n",
       " 'sha512',\n",
       " 'sha384',\n",
       " 'SHA256',\n",
       " 'dsaWithSHA',\n",
       " 'sha',\n",
       " 'MD4',\n",
       " 'SHA',\n",
       " 'SHA512',\n",
       " 'sha256',\n",
       " 'ecdsa-with-SHA1',\n",
       " 'RIPEMD160',\n",
       " 'md4',\n",
       " 'SHA1']"
      ]
     },
     "execution_count": 3,
     "metadata": {},
     "output_type": "execute_result"
    }
   ],
   "source": [
    "list(hashlib.algorithms_available)"
   ]
  },
  {
   "cell_type": "markdown",
   "metadata": {},
   "source": [
    "I will need at least these ones:"
   ]
  },
  {
   "cell_type": "code",
   "execution_count": 4,
   "metadata": {
    "collapsed": true
   },
   "outputs": [],
   "source": [
    "assert 'MD5' in hashlib.algorithms_available\n",
    "assert 'SHA1' in hashlib.algorithms_available"
   ]
  },
  {
   "cell_type": "code",
   "execution_count": 61,
   "metadata": {},
   "outputs": [
    {
     "name": "stdout",
     "output_type": "stream",
     "text": [
      "For MD5  : the block size is 64 and the digest size is 16.\n",
      "For SHA1 : the block size is 64 and the digest size is 20.\n"
     ]
    }
   ],
   "source": [
    "for name, s in zip(('MD5', 'SHA1'), (hashlib.md5(), hashlib.sha1())):\n",
    "    print(\"For {:<4} : the block size is {} and the digest size is {}.\".format(name, s.block_size, s.digest_size))"
   ]
  },
  {
   "cell_type": "markdown",
   "metadata": {},
   "source": [
    "----\n",
    "## First stupid example: a stupid hashing function\n",
    "\n",
    "This \"stupid\" hashing function will use `digest_size` of 128 bytes, and compute it by ... just looking at the first 128 bytes of the input data.\n",
    "\n",
    "This is just to check the API and how to read from a bytes buffer."
   ]
  },
  {
   "cell_type": "code",
   "execution_count": 5,
   "metadata": {
    "collapsed": true
   },
   "outputs": [],
   "source": [
    "class HeaderHash(Hash):\n",
    "    \"\"\" This \"stupid\" hashing function will use `digest_size` of 128 bytes, and compute it by ... just looking at the first 128 bytes of the input data.\n",
    "    \"\"\"\n",
    "    \n",
    "    def __init__(self):\n",
    "        # Common part\n",
    "        self.digest_size = 16\n",
    "        self.block_size  = 16\n",
    "        self.name = \"Header\"\n",
    "        # Specific part\n",
    "        self._data = b\"\"\n",
    "\n",
    "    def update(self, arg):\n",
    "        \"\"\" Update the hash object with the object arg, which must be interpretable as a buffer of bytes.\"\"\"\n",
    "        if len(self._data) == 0:\n",
    "            self._data = arg[:self.block_size]\n",
    "\n",
    "    def digest(self):\n",
    "        \"\"\" Return the digest of the data passed to the update() method so far. This is a bytes object of size digest_size which may contain bytes in the whole range from 0 to 255.\"\"\"\n",
    "        return self._data"
   ]
  },
  {
   "cell_type": "markdown",
   "metadata": {},
   "source": [
    "Let us try it:"
   ]
  },
  {
   "cell_type": "code",
   "execution_count": 6,
   "metadata": {
    "collapsed": true
   },
   "outputs": [],
   "source": [
    "h1 = HeaderHash()"
   ]
  },
  {
   "cell_type": "code",
   "execution_count": 7,
   "metadata": {},
   "outputs": [
    {
     "data": {
      "text/plain": [
       "<__main__.HeaderHash at 0x7f2d6446c780>"
      ]
     },
     "execution_count": 7,
     "metadata": {},
     "output_type": "execute_result"
    },
    {
     "name": "stdout",
     "output_type": "stream",
     "text": [
      "Header\n"
     ]
    }
   ],
   "source": [
    "h1\n",
    "print(h1)"
   ]
  },
  {
   "cell_type": "markdown",
   "metadata": {},
   "source": [
    "Let us use some toy data, to test here and after."
   ]
  },
  {
   "cell_type": "code",
   "execution_count": 8,
   "metadata": {
    "collapsed": true
   },
   "outputs": [],
   "source": [
    "data = b\"0123456789ABCDEFGHIJKLMNOPQRSTUVWXYZ\" * 100"
   ]
  },
  {
   "cell_type": "code",
   "execution_count": 9,
   "metadata": {},
   "outputs": [
    {
     "data": {
      "text/plain": [
       "b'0123456789ABCDEF'"
      ]
     },
     "execution_count": 9,
     "metadata": {},
     "output_type": "execute_result"
    }
   ],
   "source": [
    "h1.update(data)\n",
    "h1.digest()"
   ]
  },
  {
   "cell_type": "code",
   "execution_count": 10,
   "metadata": {},
   "outputs": [
    {
     "data": {
      "text/plain": [
       "'30313233343536373839414243444546'"
      ]
     },
     "execution_count": 10,
     "metadata": {},
     "output_type": "execute_result"
    },
    {
     "data": {
      "text/plain": [
       "32"
      ]
     },
     "execution_count": 10,
     "metadata": {},
     "output_type": "execute_result"
    }
   ],
   "source": [
    "h1.hexdigest()\n",
    "len(_)"
   ]
  },
  {
   "cell_type": "markdown",
   "metadata": {},
   "source": [
    "> Well... It seems to work, even if this first example is stupid."
   ]
  },
  {
   "cell_type": "markdown",
   "metadata": {},
   "source": [
    "----\n",
    "## First real example: the MD5 hashing function\n",
    "Let start with a simple one: [the MD5 hashing function](https://en.wikipedia.org/wiki/MD5), from Rivest in 1992.\n",
    "\n",
    "<center><span style=\"font-size: large; color: red;\">**Warning**: it is considered broken since at least 2012, never use it for security purposes.</span></center>"
   ]
  },
  {
   "cell_type": "markdown",
   "metadata": {},
   "source": [
    "### Useful functions for the MD5 algorithm\n",
    "Instead of writing the complete MD5 algorithm in the class below, I preferred to define here some useful functions, using [Bitwise operators](https://wiki.python.org/moin/BitwiseOperators)."
   ]
  },
  {
   "cell_type": "code",
   "execution_count": 11,
   "metadata": {
    "collapsed": true
   },
   "outputs": [],
   "source": [
    "def MD5_f1(b, c, d):\n",
    "    \"\"\" First ternary bitwise operation.\"\"\"\n",
    "    return ((b & c) | ((~b) & d)) & 0xFFFFFFFF\n",
    "\n",
    "def MD5_f2(b, c, d):\n",
    "    \"\"\" Second ternary bitwise operation.\"\"\"\n",
    "    return ((b & d) | (c & (~d))) & 0xFFFFFFFF\n",
    "\n",
    "def MD5_f3(b, c, d):\n",
    "    \"\"\" Third ternary bitwise operation.\"\"\"\n",
    "    return (b ^ c ^ d) & 0xFFFFFFFF\n",
    "\n",
    "def MD5_f4(b, c, d):\n",
    "    \"\"\" Forth ternary bitwise operation.\"\"\"\n",
    "    return (c ^ (b | (~d))) & 0xFFFFFFFF"
   ]
  },
  {
   "cell_type": "code",
   "execution_count": 12,
   "metadata": {
    "collapsed": true
   },
   "outputs": [],
   "source": [
    "def leftrotate(x, c):\n",
    "    \"\"\" Left rotate the number x by c bytes.\"\"\"\n",
    "    x &= 0xFFFFFFFF\n",
    "    return ((x << c) | (x >> (32 - c))) & 0xFFFFFFFF"
   ]
  },
  {
   "cell_type": "code",
   "execution_count": 13,
   "metadata": {
    "collapsed": true
   },
   "outputs": [],
   "source": [
    "from math import floor, sin"
   ]
  },
  {
   "cell_type": "markdown",
   "metadata": {},
   "source": [
    "### The `MD5` class"
   ]
  },
  {
   "cell_type": "markdown",
   "metadata": {},
   "source": [
    "It is a direct implementation of the pseudo-code, as given for instance on the Wikipedia page, or the original research article by Rivest."
   ]
  },
  {
   "cell_type": "code",
   "execution_count": 14,
   "metadata": {
    "collapsed": true
   },
   "outputs": [],
   "source": [
    "class MD5(Hash):\n",
    "    \"\"\"MD5 hashing, see https://en.wikipedia.org/wiki/MD5#Algorithm.\"\"\"\n",
    "    \n",
    "    def __init__(self):\n",
    "        self.name = \"MD5\"\n",
    "        self.block_size  = 64\n",
    "        self.digest_size = 16\n",
    "        # Internal data\n",
    "        s = [0] * 64\n",
    "        K = [0] * 64\n",
    "        # Initialize s, s specifies the per-round shift amounts\n",
    "        s[ 0:16] = [7, 12, 17, 22,  7, 12, 17, 22,  7, 12, 17, 22,  7, 12, 17, 22]\n",
    "        s[16:32] = [5,  9, 14, 20,  5,  9, 14, 20,  5,  9, 14, 20,  5,  9, 14, 20]\n",
    "        s[32:48] = [4, 11, 16, 23,  4, 11, 16, 23,  4, 11, 16, 23,  4, 11, 16, 23]\n",
    "        s[48:64] = [6, 10, 15, 21,  6, 10, 15, 21,  6, 10, 15, 21,  6, 10, 15, 21]\n",
    "        # Store it\n",
    "        self._s = s\n",
    "        # Use binary integer part of the sines of integers (Radians) as constants:\n",
    "        for i in range(64):\n",
    "            K[i] = floor(2**32 * abs(sin(i + 1))) & 0xFFFFFFFF\n",
    "        # Store it\n",
    "        self._K = K\n",
    "        # Initialize variables:\n",
    "        a0 = 0x67452301   # A\n",
    "        b0 = 0xefcdab89   # B\n",
    "        c0 = 0x98badcfe   # C\n",
    "        d0 = 0x10325476   # D\n",
    "        self.hash_pieces = [a0, b0, c0, d0]\n",
    "    \n",
    "    def update(self, arg):\n",
    "        s, K = self._s, self._K\n",
    "        a0, b0, c0, d0 = self.hash_pieces\n",
    "        # 1. Pre-processing\n",
    "        data = bytearray(arg)\n",
    "        orig_len_in_bits = (8 * len(data)) & 0xFFFFFFFFFFFFFFFF\n",
    "        # 1.a. Add a single '1' bit at the end of the input bits\n",
    "        data.append(0x80)\n",
    "        # 1.b. Padding with zeros as long as the input bits length ≡ 448 (mod 512)\n",
    "        while len(data) % 64 != 56:\n",
    "            data.append(0)\n",
    "        # 1.c. append original length in bits mod (2 pow 64) to message\n",
    "        data += orig_len_in_bits.to_bytes(8, byteorder='little')\n",
    "        assert len(data) % 64 == 0, \"Error in padding\"\n",
    "        # 2. Computations\n",
    "        # Process the message in successive 512-bit = 64-bytes chunks:\n",
    "        for offset in range(0, len(data), 64):\n",
    "            # 2.a. 512-bits = 64-bytes chunks\n",
    "            chunks = data[offset : offset + 64]\n",
    "            # 2.b. Break chunk into sixteen 32-bit = 4-bytes words M[j], 0 ≤ j ≤ 15\n",
    "            A, B, C, D = a0, b0, c0, d0\n",
    "            # 2.c. Main loop\n",
    "            for i in range(64):\n",
    "                if 0 <= i <= 15:\n",
    "                    F = MD5_f1(B, C, D)\n",
    "                    g = i\n",
    "                elif 16 <= i <= 31:\n",
    "                    F = MD5_f2(B, C, D)\n",
    "                    g = (5 * i + 1) % 16\n",
    "                elif 32 <= i <= 47:\n",
    "                    F = MD5_f3(B, C, D)\n",
    "                    g = (3 * i + 5) % 16\n",
    "                elif 48 <= i <= 63:\n",
    "                    F = MD5_f4(B, C, D)\n",
    "                    g = (7 * i) % 16\n",
    "                # Be wary of the below definitions of A, B, C, D\n",
    "                to_rotate = A + F + K[i] + int.from_bytes(chunks[4*g : 4*g+4], byteorder='little')\n",
    "                new_B = (B + leftrotate(to_rotate, s[i])) & 0xFFFFFFFF\n",
    "                A, B, C, D = D, new_B, B, C\n",
    "            # Add this chunk's hash to result so far:\n",
    "            a0 = (a0 + A) & 0xFFFFFFFF\n",
    "            b0 = (b0 + B) & 0xFFFFFFFF\n",
    "            c0 = (c0 + C) & 0xFFFFFFFF\n",
    "            d0 = (d0 + D) & 0xFFFFFFFF\n",
    "        # 3. Conclusion\n",
    "        self.hash_pieces = [a0, b0, c0, d0]\n",
    "\n",
    "    def digest(self):\n",
    "        return sum(x << (32 * i) for i, x in enumerate(self.hash_pieces))\n",
    "\n",
    "    def hexdigest(self):\n",
    "        \"\"\" Like digest() except the digest is returned as a string object of double length, containing only hexadecimal digits. This may be used to exchange the value safely in email or other non-binary environments.\"\"\"\n",
    "        digest = self.digest()\n",
    "        raw = digest.to_bytes(16, byteorder='little')\n",
    "        return '{:032x}'.format(int.from_bytes(raw, byteorder='big'))"
   ]
  },
  {
   "cell_type": "markdown",
   "metadata": {},
   "source": [
    "We can also write a function to directly compute the hex digest from some bytes data."
   ]
  },
  {
   "cell_type": "code",
   "execution_count": 15,
   "metadata": {
    "collapsed": true
   },
   "outputs": [],
   "source": [
    "def hash_MD5(data):\n",
    "    \"\"\" Shortcut function to directly receive the hex digest from MD5(data).\"\"\"\n",
    "    h = MD5()\n",
    "    if isinstance(data, str):\n",
    "        data = bytes(data, encoding='utf8')\n",
    "    h.update(data)\n",
    "    return h.hexdigest()"
   ]
  },
  {
   "cell_type": "markdown",
   "metadata": {},
   "source": [
    "<div style=\"text-align:right;\"><blockquote> *Note:* [This page helped for debugging](https://rosettacode.org/wiki/MD5/Implementation#Python).</blockquote></div>"
   ]
  },
  {
   "cell_type": "markdown",
   "metadata": {},
   "source": [
    "### First check on MD5\n",
    "\n",
    "Let us try it:"
   ]
  },
  {
   "cell_type": "code",
   "execution_count": 16,
   "metadata": {},
   "outputs": [
    {
     "data": {
      "text/plain": [
       "<__main__.MD5 at 0x7f2d64471470>"
      ]
     },
     "execution_count": 16,
     "metadata": {},
     "output_type": "execute_result"
    },
    {
     "name": "stdout",
     "output_type": "stream",
     "text": [
      "MD5\n"
     ]
    }
   ],
   "source": [
    "h2 = MD5()\n",
    "h2\n",
    "print(h2)"
   ]
  },
  {
   "cell_type": "code",
   "execution_count": 17,
   "metadata": {},
   "outputs": [
    {
     "data": {
      "text/plain": [
       "52666558089014014065978771967570616878"
      ]
     },
     "execution_count": 17,
     "metadata": {},
     "output_type": "execute_result"
    }
   ],
   "source": [
    "h2.update(data)\n",
    "h2.digest()"
   ]
  },
  {
   "cell_type": "code",
   "execution_count": 18,
   "metadata": {},
   "outputs": [
    {
     "data": {
      "text/plain": [
       "'2e224cd661b6b83e0f3a0a06cb359f27'"
      ]
     },
     "execution_count": 18,
     "metadata": {},
     "output_type": "execute_result"
    }
   ],
   "source": [
    "h2.hexdigest()"
   ]
  },
  {
   "cell_type": "markdown",
   "metadata": {},
   "source": [
    "### A less stupid check on MD5\n",
    "\n",
    "Let try the example from [MD5 Wikipedia page](https://en.wikipedia.org/wiki/MD5#MD5_hashes) :"
   ]
  },
  {
   "cell_type": "code",
   "execution_count": 19,
   "metadata": {},
   "outputs": [
    {
     "data": {
      "text/plain": [
       "'9e107d9d372bb6826bd81d3542a419d6'"
      ]
     },
     "execution_count": 19,
     "metadata": {},
     "output_type": "execute_result"
    }
   ],
   "source": [
    "hash_MD5(\"The quick brown fox jumps over the lazy dog\")\n",
    "assert hash_MD5(\"The quick brown fox jumps over the lazy dog\") == '9e107d9d372bb6826bd81d3542a419d6'"
   ]
  },
  {
   "cell_type": "markdown",
   "metadata": {},
   "source": [
    "Even a small change in the message will (with overwhelming probability) result in a mostly different hash, due to the [**avalanche effect**](https://en.wikipedia.org/wiki/Avalanche_effect). For example, adding a period to the end of the sentence:"
   ]
  },
  {
   "cell_type": "code",
   "execution_count": 20,
   "metadata": {},
   "outputs": [
    {
     "data": {
      "text/plain": [
       "'e4d909c290d0fb1ca068ffaddf22cbd0'"
      ]
     },
     "execution_count": 20,
     "metadata": {},
     "output_type": "execute_result"
    }
   ],
   "source": [
    "hash_MD5(\"The quick brown fox jumps over the lazy dog.\")\n",
    "assert hash_MD5(\"The quick brown fox jumps over the lazy dog.\") == 'e4d909c290d0fb1ca068ffaddf22cbd0'"
   ]
  },
  {
   "cell_type": "markdown",
   "metadata": {},
   "source": [
    "The hash of the zero-length string is:"
   ]
  },
  {
   "cell_type": "code",
   "execution_count": 21,
   "metadata": {},
   "outputs": [
    {
     "data": {
      "text/plain": [
       "'d41d8cd98f00b204e9800998ecf8427e'"
      ]
     },
     "execution_count": 21,
     "metadata": {},
     "output_type": "execute_result"
    }
   ],
   "source": [
    "hash_MD5(\"\")\n",
    "assert hash_MD5(\"\") == 'd41d8cd98f00b204e9800998ecf8427e'"
   ]
  },
  {
   "cell_type": "markdown",
   "metadata": {},
   "source": [
    "$\\implies$ We obtained the same result, OK our function works!"
   ]
  },
  {
   "cell_type": "markdown",
   "metadata": {},
   "source": [
    "### Trying 1000 random examples\n",
    "On a small sentence:"
   ]
  },
  {
   "cell_type": "code",
   "execution_count": 22,
   "metadata": {},
   "outputs": [
    {
     "data": {
      "text/plain": [
       "'0ad8cb82874690906cf732223adeebbe'"
      ]
     },
     "execution_count": 22,
     "metadata": {},
     "output_type": "execute_result"
    }
   ],
   "source": [
    "hash_MD5(\"My name is Zorro !\")"
   ]
  },
  {
   "cell_type": "code",
   "execution_count": 23,
   "metadata": {},
   "outputs": [
    {
     "data": {
      "text/plain": [
       "'0ad8cb82874690906cf732223adeebbe'"
      ]
     },
     "execution_count": 23,
     "metadata": {},
     "output_type": "execute_result"
    }
   ],
   "source": [
    "h = hashlib.md5()\n",
    "h.update(b\"My name is Zorro !\")\n",
    "h.hexdigest()"
   ]
  },
  {
   "cell_type": "markdown",
   "metadata": {},
   "source": [
    "It starts to look good."
   ]
  },
  {
   "cell_type": "code",
   "execution_count": 24,
   "metadata": {
    "collapsed": true
   },
   "outputs": [],
   "source": [
    "def true_hash_MD5(data):\n",
    "    h = hashlib.md5()\n",
    "    if isinstance(data, str):\n",
    "        data = bytes(data, encoding='utf8')\n",
    "    h.update(data)\n",
    "    return h.hexdigest()"
   ]
  },
  {
   "cell_type": "markdown",
   "metadata": {},
   "source": [
    "On some random data:"
   ]
  },
  {
   "cell_type": "code",
   "execution_count": 25,
   "metadata": {
    "collapsed": true
   },
   "outputs": [],
   "source": [
    "import numpy.random as nr\n",
    "alphabets = \"0123456789ABCDEFGHIJKLMNOPQRSTUVWXYZabcdefghijklmnopqrstuvwxyz\"\n",
    "\n",
    "def random_string(size=10000):\n",
    "    return ''.join(alphabets[nr.randint(len(alphabets))] for _ in range(size))"
   ]
  },
  {
   "cell_type": "code",
   "execution_count": 26,
   "metadata": {},
   "outputs": [
    {
     "data": {
      "text/plain": [
       "'LlHtBBxC6D'"
      ]
     },
     "execution_count": 26,
     "metadata": {},
     "output_type": "execute_result"
    }
   ],
   "source": [
    "random_string(10)"
   ]
  },
  {
   "cell_type": "code",
   "execution_count": 28,
   "metadata": {
    "collapsed": true
   },
   "outputs": [],
   "source": [
    "from tqdm import tqdm_notebook as tqdm"
   ]
  },
  {
   "cell_type": "code",
   "execution_count": 29,
   "metadata": {},
   "outputs": [
    {
     "data": {
      "application/vnd.jupyter.widget-view+json": {
       "model_id": "703c770b3bff4c1e9426a0b887a2ab78"
      }
     },
     "metadata": {},
     "output_type": "display_data"
    },
    {
     "name": "stdout",
     "output_type": "stream",
     "text": [
      "\n",
      "CPU times: user 32 s, sys: 64 ms, total: 32 s\n",
      "Wall time: 32 s\n"
     ]
    }
   ],
   "source": [
    "%%time\n",
    "for _ in tqdm(range(1000)):\n",
    "    x = random_string()\n",
    "    assert hash_MD5(x) == true_hash_MD5(x), \"Error: x = {} gave two different MD5 hashes: my implementation = {} != hashlib implementation = {}...\".format(x, hash_MD5(x), true_hash_MD5(x))"
   ]
  },
  {
   "cell_type": "markdown",
   "metadata": {},
   "source": [
    "----\n",
    "## Second real example: the SHA-1 hashing function"
   ]
  },
  {
   "cell_type": "markdown",
   "metadata": {},
   "source": [
    "Let now study and implement another hashing function, slightly harder to write but more secure: SHA1, \"Secure Hash Algorithm, version 1\".\n",
    "See [the SHA1 hashing function](https://en.wikipedia.org/wiki/SHA-1) on Wikipedia, if needed.\n",
    "\n",
    "<center><span style=\"font-size: large; color: red;\">**Warning**: it is considered broken since at least 2011, it is not advised to use it for real security purposes. SHA-2 or SHA-3 is better advised.</span></center>"
   ]
  },
  {
   "cell_type": "markdown",
   "metadata": {},
   "source": [
    "### Useful functions the SHA-1 algorithm"
   ]
  },
  {
   "cell_type": "markdown",
   "metadata": {},
   "source": [
    "Pretty similar to the ones used for the MD5 algorithm."
   ]
  },
  {
   "cell_type": "code",
   "execution_count": 30,
   "metadata": {
    "collapsed": true
   },
   "outputs": [],
   "source": [
    "def SHA1_f1(b, c, d):\n",
    "    \"\"\" First ternary bitwise operation.\"\"\"\n",
    "    return ((b & c) | ((~b) & d)) & 0xFFFFFFFF\n",
    "\n",
    "def SHA1_f2(b, c, d):\n",
    "    \"\"\" Second ternary bitwise operation.\"\"\"\n",
    "    return (b ^ c ^ d) & 0xFFFFFFFF\n",
    "\n",
    "def SHA1_f3(b, c, d):\n",
    "    \"\"\" Third ternary bitwise operation.\"\"\"\n",
    "    return ((b & c) | (b & d) | (c & d) ) & 0xFFFFFFFF\n",
    "\n",
    "def SHA1_f4(b, c, d):\n",
    "    \"\"\" Forth ternary bitwise operation, = SHA1_f1.\"\"\"\n",
    "    return (b ^ c ^ d) & 0xFFFFFFFF"
   ]
  },
  {
   "cell_type": "markdown",
   "metadata": {},
   "source": [
    "This is exactly like for MD5."
   ]
  },
  {
   "cell_type": "code",
   "execution_count": 145,
   "metadata": {
    "collapsed": true
   },
   "outputs": [],
   "source": [
    "def leftrotate(x, c):\n",
    "    \"\"\" Left rotate the number x by c bytes.\"\"\"\n",
    "    x &= 0xFFFFFFFF\n",
    "    return ((x << c) | (x >> (32 - c))) & 0xFFFFFFFF"
   ]
  },
  {
   "cell_type": "markdown",
   "metadata": {},
   "source": [
    "As SHA-1 plays with big-endian and little-endian integers, and at the end it requires a leftshift to combine the 5 hash pieces into one."
   ]
  },
  {
   "cell_type": "code",
   "execution_count": 146,
   "metadata": {
    "collapsed": true
   },
   "outputs": [],
   "source": [
    "def leftshift(x, c):\n",
    "    \"\"\" Left shift the number x by c bytes.\"\"\"\n",
    "    return x << c"
   ]
  },
  {
   "cell_type": "code",
   "execution_count": 32,
   "metadata": {
    "collapsed": true
   },
   "outputs": [],
   "source": [
    "from math import floor, sin"
   ]
  },
  {
   "cell_type": "markdown",
   "metadata": {},
   "source": [
    "### The `SHA1` class\n",
    "\n",
    "I will use a simple class, very similar to the class used for the MD5 algorithm (see above).\n",
    "It is a direct implementation of the pseudo-code, as given for instance on the Wikipedia page."
   ]
  },
  {
   "cell_type": "code",
   "execution_count": 147,
   "metadata": {
    "collapsed": true
   },
   "outputs": [],
   "source": [
    "class SHA1(Hash):\n",
    "    \"\"\"SHA1 hashing, see https://en.wikipedia.org/wiki/SHA-1#Algorithm.\"\"\"\n",
    "    \n",
    "    def __init__(self):\n",
    "        self.name        = \"SHA1\"\n",
    "        self.block_size  = 64\n",
    "        self.digest_size = 20\n",
    "        # Initialize variables\n",
    "        h0 = 0x67452301\n",
    "        h1 = 0xEFCDAB89\n",
    "        h2 = 0x98BADCFE\n",
    "        h3 = 0x10325476\n",
    "        h4 = 0xC3D2E1F0\n",
    "        # Store them\n",
    "        self.hash_pieces = [h0, h1, h2, h3, h4]\n",
    "    \n",
    "    def update(self, arg):\n",
    "        h0, h1, h2, h3, h4 = self.hash_pieces\n",
    "        # 1. Pre-processing, exactly like MD5\n",
    "        data = bytearray(arg)\n",
    "        orig_len_in_bits = (8 * len(data)) & 0xFFFFFFFFFFFFFFFF\n",
    "        # 1.a. Add a single '1' bit at the end of the input bits\n",
    "        data.append(0x80)\n",
    "        # 1.b. Padding with zeros as long as the input bits length ≡ 448 (mod 512)\n",
    "        while len(data) % 64 != 56:\n",
    "            data.append(0)\n",
    "        # 1.c. append original length in bits mod (2 pow 64) to message\n",
    "        data += orig_len_in_bits.to_bytes(8, byteorder='big')\n",
    "        assert len(data) % 64 == 0, \"Error in padding\"\n",
    "        # 2. Computations\n",
    "        # Process the message in successive 512-bit = 64-bytes chunks:\n",
    "        for offset in range(0, len(data), 64):\n",
    "            # 2.a. 512-bits = 64-bytes chunks\n",
    "            chunks = data[offset : offset + 64]\n",
    "            w = [0 for i in range(80)]\n",
    "            # 2.b. Break chunk into sixteen 32-bit = 4-bytes words w[i], 0 ≤ i ≤ 15\n",
    "            for i in range(16):\n",
    "                w[i] = int.from_bytes(chunks[4*i : 4*i + 4], byteorder='big')\n",
    "            # 2.c. Extend the sixteen 32-bit words into eighty 32-bit words\n",
    "            for i in range(16, 80):\n",
    "                w[i] = leftrotate(w[i-3] ^ w[i-8] ^ w[i-14] ^ w[i-16], 1)\n",
    "            # 2.d. Initialize hash value for this chunk\n",
    "            a, b, c, d, e = h0, h1, h2, h3, h4\n",
    "            # 2.e. Main loop, cf. http://www.faqs.org/rfcs/rfc3174.html\n",
    "            for i in range(80):\n",
    "                if 0 <= i <= 19 :\n",
    "                    f = SHA1_f1(b, c, d)\n",
    "                    k = 0x5A827999\n",
    "                elif 20 <= i <= 39 :\n",
    "                    f = SHA1_f2(b, c, d)\n",
    "                    k = 0x6ED9EBA1\n",
    "                elif 40 <= i <= 59 :\n",
    "                    f = SHA1_f3(b, c, d)\n",
    "                    k = 0x8F1BBCDC\n",
    "                elif 60 <= i <= 79 :\n",
    "                    f = SHA1_f4(b, c, d)\n",
    "                    k = 0xCA62C1D6\n",
    "\n",
    "                new_a = leftrotate(a, 5) + f + e + k + w[i] & 0xFFFFFFFF\n",
    "                new_c = leftrotate(b, 30)\n",
    "                # Rotate the 5 variables\n",
    "                a, b, c, d, e = new_a, a, new_c, c, d\n",
    "\n",
    "            # Add this chunk's hash to result so far:\n",
    "            h0 = (h0 + a) & 0xFFFFFFFF\n",
    "            h1 = (h1 + b) & 0xFFFFFFFF\n",
    "            h2 = (h2 + c) & 0xFFFFFFFF\n",
    "            h3 = (h3 + d) & 0xFFFFFFFF\n",
    "            h4 = (h4 + e) & 0xFFFFFFFF\n",
    "        # 3. Conclusion\n",
    "        self.hash_pieces = [h0, h1, h2, h3, h4]\n",
    "\n",
    "    def digest(self):\n",
    "        # h0, h1, h2, h3, h4 = self.hash_pieces\n",
    "        # return leftshift(h0, 128) | leftshift(h1, 96) | leftshift(h2, 64) | leftshift(h3, 32) | h4\n",
    "        return sum(leftshift(x, 32 * i) for i, x in enumerate(self.hash_pieces[::-1]))\n",
    "\n",
    "    def hexdigest(self):\n",
    "        \"\"\" Like digest() except the digest is returned as a string object of double length, containing only hexadecimal digits. This may be used to exchange the value safely in email or other non-binary environments.\"\"\"\n",
    "        digest = self.digest()\n",
    "        raw = digest.to_bytes(20, byteorder='big')\n",
    "        return '{:040x}'.format(int.from_bytes(raw, byteorder='big'))"
   ]
  },
  {
   "cell_type": "markdown",
   "metadata": {},
   "source": [
    "We can also write a function to directly compute the hex digest from some bytes data."
   ]
  },
  {
   "cell_type": "code",
   "execution_count": 148,
   "metadata": {
    "collapsed": true
   },
   "outputs": [],
   "source": [
    "def hash_SHA1(data):\n",
    "    \"\"\" Shortcut function to directly receive the hex digest from SHA1(data).\"\"\"\n",
    "    h = SHA1()\n",
    "    if isinstance(data, str):\n",
    "        data = bytes(data, encoding='utf8')\n",
    "    h.update(data)\n",
    "    return h.hexdigest()"
   ]
  },
  {
   "cell_type": "markdown",
   "metadata": {},
   "source": [
    "### First check on SHA-1\n",
    "\n",
    "Let us try it:"
   ]
  },
  {
   "cell_type": "code",
   "execution_count": 149,
   "metadata": {},
   "outputs": [
    {
     "data": {
      "text/plain": [
       "<__main__.SHA1 at 0x7f2d3f9745f8>"
      ]
     },
     "execution_count": 149,
     "metadata": {},
     "output_type": "execute_result"
    },
    {
     "name": "stdout",
     "output_type": "stream",
     "text": [
      "SHA1\n"
     ]
    }
   ],
   "source": [
    "h3 = SHA1()\n",
    "h3\n",
    "print(h3)"
   ]
  },
  {
   "cell_type": "code",
   "execution_count": 150,
   "metadata": {},
   "outputs": [
    {
     "data": {
      "text/plain": [
       "144539618284518333681008855956641116845695054279"
      ]
     },
     "execution_count": 150,
     "metadata": {},
     "output_type": "execute_result"
    }
   ],
   "source": [
    "h3.update(data)\n",
    "h3.digest()"
   ]
  },
  {
   "cell_type": "code",
   "execution_count": 151,
   "metadata": {},
   "outputs": [
    {
     "data": {
      "text/plain": [
       "'0b1100101010001011000010111000111101000100111010111100000100010111111110001010100111110000001000110111111011010111001110100001011101000111111000011000111000111'"
      ]
     },
     "execution_count": 151,
     "metadata": {},
     "output_type": "execute_result"
    },
    {
     "data": {
      "text/plain": [
       "159"
      ]
     },
     "execution_count": 151,
     "metadata": {},
     "output_type": "execute_result"
    }
   ],
   "source": [
    "digest = h3.digest()\n",
    "bin(digest)\n",
    "len(bin(digest))"
   ]
  },
  {
   "cell_type": "code",
   "execution_count": 152,
   "metadata": {},
   "outputs": [
    {
     "data": {
      "text/plain": [
       "'19516171e89d7822ff153e046fdae742e8fc31c7'"
      ]
     },
     "execution_count": 152,
     "metadata": {},
     "output_type": "execute_result"
    }
   ],
   "source": [
    "h3.hexdigest()"
   ]
  },
  {
   "cell_type": "markdown",
   "metadata": {},
   "source": [
    "### A less stupid check on SHA-1\n",
    "\n",
    "Let try the example from [SHA-1 Wikipedia page](https://en.wikipedia.org/wiki/SHA-1#SHA-1_hashes) :"
   ]
  },
  {
   "cell_type": "code",
   "execution_count": 153,
   "metadata": {},
   "outputs": [
    {
     "data": {
      "text/plain": [
       "'2fd4e1c67a2d28fced849ee1bb76e7391b93eb12'"
      ]
     },
     "execution_count": 153,
     "metadata": {},
     "output_type": "execute_result"
    }
   ],
   "source": [
    "hash_SHA1(\"The quick brown fox jumps over the lazy dog\")\n",
    "assert hash_SHA1(\"The quick brown fox jumps over the lazy dog\") == '2fd4e1c67a2d28fced849ee1bb76e7391b93eb12'"
   ]
  },
  {
   "cell_type": "markdown",
   "metadata": {},
   "source": [
    "Even a small change in the message will (with overwhelming probability) result in a mostly different hash, due to the [**avalanche effect**](https://en.wikipedia.org/wiki/Avalanche_effect). For example, changing one letter in the sentence:"
   ]
  },
  {
   "cell_type": "code",
   "execution_count": 134,
   "metadata": {},
   "outputs": [
    {
     "data": {
      "text/plain": [
       "'de9f2c7fd25e1b3afad3e85a0bd17d9b100db4b3'"
      ]
     },
     "execution_count": 134,
     "metadata": {},
     "output_type": "execute_result"
    }
   ],
   "source": [
    "hash_SHA1(\"The quick brown fox jumps over the lazy cog\")\n",
    "assert hash_SHA1(\"The quick brown fox jumps over the lazy cog\") == 'de9f2c7fd25e1b3afad3e85a0bd17d9b100db4b3'"
   ]
  },
  {
   "cell_type": "markdown",
   "metadata": {},
   "source": [
    "The hash of the zero-length string is:"
   ]
  },
  {
   "cell_type": "code",
   "execution_count": 135,
   "metadata": {},
   "outputs": [
    {
     "data": {
      "text/plain": [
       "'da39a3ee5e6b4b0d3255bfef95601890afd80709'"
      ]
     },
     "execution_count": 135,
     "metadata": {},
     "output_type": "execute_result"
    }
   ],
   "source": [
    "hash_SHA1(\"\")\n",
    "assert hash_SHA1(\"\") == 'da39a3ee5e6b4b0d3255bfef95601890afd80709'"
   ]
  },
  {
   "cell_type": "markdown",
   "metadata": {},
   "source": [
    "$\\implies$ We obtained the same result, OK our function works!"
   ]
  },
  {
   "cell_type": "markdown",
   "metadata": {},
   "source": [
    "### Trying 1000 random examples\n",
    "On a small sentence:"
   ]
  },
  {
   "cell_type": "code",
   "execution_count": 136,
   "metadata": {},
   "outputs": [
    {
     "data": {
      "text/plain": [
       "'1f475bf19d9e7dd6b3714164116392ee1e477ec5'"
      ]
     },
     "execution_count": 136,
     "metadata": {},
     "output_type": "execute_result"
    }
   ],
   "source": [
    "hash_SHA1(\"My name is Zorro !\")"
   ]
  },
  {
   "cell_type": "code",
   "execution_count": 137,
   "metadata": {},
   "outputs": [
    {
     "data": {
      "text/plain": [
       "'1f475bf19d9e7dd6b3714164116392ee1e477ec5'"
      ]
     },
     "execution_count": 137,
     "metadata": {},
     "output_type": "execute_result"
    }
   ],
   "source": [
    "h = hashlib.sha1()\n",
    "h.update(b\"My name is Zorro !\")\n",
    "h.hexdigest()"
   ]
  },
  {
   "cell_type": "markdown",
   "metadata": {},
   "source": [
    "It starts to look good."
   ]
  },
  {
   "cell_type": "code",
   "execution_count": 138,
   "metadata": {
    "collapsed": true
   },
   "outputs": [],
   "source": [
    "def true_hash_SHA1(data):\n",
    "    h = hashlib.sha1()\n",
    "    if isinstance(data, str):\n",
    "        data = bytes(data, encoding='utf8')\n",
    "    h.update(data)\n",
    "    return h.hexdigest()"
   ]
  },
  {
   "cell_type": "markdown",
   "metadata": {},
   "source": [
    "On some random data:"
   ]
  },
  {
   "cell_type": "code",
   "execution_count": 142,
   "metadata": {},
   "outputs": [
    {
     "data": {
      "text/plain": [
       "'QHp8bCRl5F'"
      ]
     },
     "execution_count": 142,
     "metadata": {},
     "output_type": "execute_result"
    }
   ],
   "source": [
    "random_string(10)"
   ]
  },
  {
   "cell_type": "code",
   "execution_count": 143,
   "metadata": {
    "collapsed": true
   },
   "outputs": [],
   "source": [
    "from tqdm import tqdm_notebook as tqdm"
   ]
  },
  {
   "cell_type": "code",
   "execution_count": 144,
   "metadata": {},
   "outputs": [
    {
     "data": {
      "application/vnd.jupyter.widget-view+json": {
       "model_id": "626e2315964b43839561ac14b63637e2"
      }
     },
     "metadata": {},
     "output_type": "display_data"
    },
    {
     "name": "stdout",
     "output_type": "stream",
     "text": [
      "\n",
      "CPU times: user 41.1 s, sys: 64 ms, total: 41.2 s\n",
      "Wall time: 41.3 s\n"
     ]
    }
   ],
   "source": [
    "%%time\n",
    "for _ in tqdm(range(1000)):\n",
    "    x = random_string()\n",
    "    assert hash_SHA1(x) == true_hash_SHA1(x), \"Error: x = {} gave two different SHA1 hashes: my implementation = {} != hashlib implementation = {}...\".format(x, hash_SHA1(x), true_hash_SHA1(x))"
   ]
  },
  {
   "cell_type": "markdown",
   "metadata": {},
   "source": [
    "----\n",
    "## Third real example: the SHA-2 hashing function"
   ]
  },
  {
   "cell_type": "markdown",
   "metadata": {},
   "source": [
    "Let now study and implement a last hashing function, again slightly harder to write but more secure: SHA-2, \"Secure Hash Algorithm, version 2\".\n",
    "See [the SHA1 hashing function](https://en.wikipedia.org/wiki/SHA-2) on Wikipedia, if needed.\n",
    "\n",
    "<center><span style=\"font-size: large; color: green;\">*Remark*: it is not (yet) considered broken, and it is the military standard for security and cryptographic hashing. SHA-3 is preferred for security purposes.</span></center>"
   ]
  },
  {
   "cell_type": "markdown",
   "metadata": {},
   "source": [
    "<center><span style=\"text-decoration: uppercase; font-size: xx-large; color: red;\">FIXME write the SHA-2 part!</span></center>"
   ]
  },
  {
   "cell_type": "markdown",
   "metadata": {},
   "source": [
    "### Useful functions the SHA-2 algorithm"
   ]
  },
  {
   "cell_type": "markdown",
   "metadata": {},
   "source": [
    "This is exactly like for MD5. But SHA-2 requires right-rotate as well."
   ]
  },
  {
   "cell_type": "code",
   "execution_count": 166,
   "metadata": {
    "collapsed": true
   },
   "outputs": [],
   "source": [
    "def leftrotate(x, c):\n",
    "    \"\"\" Left rotate the number x by c bytes.\"\"\"\n",
    "    x &= 0xFFFFFFFF\n",
    "    return ((x << c) | (x >> (32 - c))) & 0xFFFFFFFF\n",
    "\n",
    "def rightrotate(x, c):\n",
    "    \"\"\" Right rotate the number x by c bytes.\"\"\"\n",
    "    x &= 0xFFFFFFFF\n",
    "    return ((x >> c) | (x << (32 - c))) & 0xFFFFFFFF"
   ]
  },
  {
   "cell_type": "markdown",
   "metadata": {},
   "source": [
    "As SHA-2 plays with big-endian and little-endian integers, and at the end it requires a leftshift to combine the 5 hash pieces into one."
   ]
  },
  {
   "cell_type": "code",
   "execution_count": 165,
   "metadata": {
    "collapsed": true
   },
   "outputs": [],
   "source": [
    "def leftshift(x, c):\n",
    "    \"\"\" Left shift the number x by c bytes.\"\"\"\n",
    "    return x << c\n",
    "\n",
    "def rightshift(x, c):\n",
    "    \"\"\" Right shift the number x by c bytes.\"\"\"\n",
    "    return x >> c"
   ]
  },
  {
   "cell_type": "code",
   "execution_count": 163,
   "metadata": {
    "collapsed": true
   },
   "outputs": [],
   "source": [
    "from math import floor, sin"
   ]
  },
  {
   "cell_type": "markdown",
   "metadata": {},
   "source": [
    "### The `SHA2` class\n",
    "\n",
    "I will use a simple class, very similar to the class used for the SHA-1 algorithm (see above).\n",
    "It is a direct implementation of the pseudo-code, as given for instance on the Wikipedia page.\n",
    "\n",
    "I will only implement the simpler one, SHA-256, of digest size of 256 bits. Other variants are SHA-224, SHA-384, SHA-512 (and others include SHA-512/224, SHA-512/256)."
   ]
  },
  {
   "cell_type": "code",
   "execution_count": 253,
   "metadata": {},
   "outputs": [],
   "source": [
    "class SHA2(Hash):\n",
    "    \"\"\"SHA2 hashing, see https://en.wikipedia.org/wiki/SHA-2#Pseudocode.\"\"\"\n",
    "    \n",
    "    def __init__(self):\n",
    "        self.name        = \"SHA256\"\n",
    "        self.block_size  = 64\n",
    "        self.digest_size = 32\n",
    "        # Note 2: For each round, there is one round constant k[i] and one entry in the message schedule array w[i], 0 ≤ i ≤ 63\n",
    "        # Note 3: The compression function uses 8 working variables, a through h\n",
    "        # Note 4: Big-endian convention is used when expressing the constants in this pseudocode,\n",
    "        #         and when parsing message block data from bytes to words, for example,\n",
    "        #         the first word of the input message \"abc\" after padding is 0x61626380\n",
    "\n",
    "        # Initialize hash values:\n",
    "        # (first 32 bits of the fractional parts of the square roots of the first 8 primes 2..19):\n",
    "        h0 = 0x6a09e667\n",
    "        h1 = 0xbb67ae85\n",
    "        h2 = 0x3c6ef372\n",
    "        h3 = 0xa54ff53a\n",
    "        h4 = 0x510e527f\n",
    "        h5 = 0x9b05688c\n",
    "        h6 = 0x1f83d9ab\n",
    "        h7 = 0x5be0cd19\n",
    "        \n",
    "        # Initialize array of round constants:\n",
    "        # (first 32 bits of the fractional parts of the cube roots of the first 64 primes 2..311):\n",
    "        self.k = [\n",
    "            0x428a2f98, 0x71374491, 0xb5c0fbcf, 0xe9b5dba5, 0x3956c25b, 0x59f111f1, 0x923f82a4, 0xab1c5ed5,\n",
    "            0xd807aa98, 0x12835b01, 0x243185be, 0x550c7dc3, 0x72be5d74, 0x80deb1fe, 0x9bdc06a7, 0xc19bf174,\n",
    "            0xe49b69c1, 0xefbe4786, 0x0fc19dc6, 0x240ca1cc, 0x2de92c6f, 0x4a7484aa, 0x5cb0a9dc, 0x76f988da,\n",
    "            0x983e5152, 0xa831c66d, 0xb00327c8, 0xbf597fc7, 0xc6e00bf3, 0xd5a79147, 0x06ca6351, 0x14292967,\n",
    "            0x27b70a85, 0x2e1b2138, 0x4d2c6dfc, 0x53380d13, 0x650a7354, 0x766a0abb, 0x81c2c92e, 0x92722c85,\n",
    "            0xa2bfe8a1, 0xa81a664b, 0xc24b8b70, 0xc76c51a3, 0xd192e819, 0xd6990624, 0xf40e3585, 0x106aa070,\n",
    "            0x19a4c116, 0x1e376c08, 0x2748774c, 0x34b0bcb5, 0x391c0cb3, 0x4ed8aa4a, 0x5b9cca4f, 0x682e6ff3,\n",
    "            0x748f82ee, 0x78a5636f, 0x84c87814, 0x8cc70208, 0x90befffa, 0xa4506ceb, 0xbef9a3f7, 0xc67178f2\n",
    "           ]\n",
    "\n",
    "        # Store them\n",
    "        self.hash_pieces = [h0, h1, h2, h3, h4, h5, h6, h7]\n",
    "    \n",
    "    def update(self, arg):\n",
    "        h0, h1, h2, h3, h4, h5, h6, h7 = self.hash_pieces\n",
    "        # 1. Pre-processing, exactly like MD5\n",
    "        data = bytearray(arg)\n",
    "        orig_len_in_bits = (8 * len(data)) & 0xFFFFFFFFFFFFFFFF\n",
    "        # 1.a. Add a single '1' bit at the end of the input bits\n",
    "        data.append(0x80)\n",
    "        # 1.b. Padding with zeros as long as the input bits length ≡ 448 (mod 512)\n",
    "        while len(data) % 64 != 56:\n",
    "            data.append(0)\n",
    "        # 1.c. append original length in bits mod (2 pow 64) to message\n",
    "        data += orig_len_in_bits.to_bytes(8, byteorder='big')\n",
    "        assert len(data) % 64 == 0, \"Error in padding\"\n",
    "        # 2. Computations\n",
    "        # Process the message in successive 512-bit = 64-bytes chunks:\n",
    "        for offset in range(0, len(data), 64):\n",
    "            # 2.a. 512-bits = 64-bytes chunks\n",
    "            chunks = data[offset : offset + 64]\n",
    "            w = [0 for i in range(64)]\n",
    "            # 2.b. Break chunk into sixteen 32-bit = 4-bytes words w[i], 0 ≤ i ≤ 15\n",
    "            for i in range(16):\n",
    "                w[i] = int.from_bytes(chunks[4*i : 4*i + 4], byteorder='big')\n",
    "            # 2.c.  Extend the first 16 words into the remaining 48\n",
    "            #       words w[16..63] of the message schedule array:\n",
    "            for i in range(16, 64):\n",
    "                s0 = (rightrotate(w[i-15], 7) ^ rightrotate(w[i-15], 18) ^ rightshift(w[i-15], 3)) & 0xFFFFFFFF\n",
    "                s1 = (rightrotate(w[i-2], 17) ^ rightrotate(w[i-2], 19) ^ rightshift(w[i-2], 10)) & 0xFFFFFFFF\n",
    "                w[i] = (w[i-16] + s0 + w[i-7] + s1) & 0xFFFFFFFF\n",
    "            # 2.d. Initialize hash value for this chunk\n",
    "            a, b, c, d, e, f, g, h = h0, h1, h2, h3, h4, h5, h6, h7\n",
    "            # 2.e. Main loop, cf. https://tools.ietf.org/html/rfc6234\n",
    "            for i in range(64):\n",
    "                S1 = (rightrotate(e, 6) ^ rightrotate(e, 11) ^ rightrotate(e, 25)) & 0xFFFFFFFF\n",
    "                ch = ((e & f) ^ ((~e) & g)) & 0xFFFFFFFF\n",
    "                temp1 = (h + S1 + ch + self.k[i] + w[i]) & 0xFFFFFFFF\n",
    "                S0 = (rightrotate(a, 2) ^ rightrotate(a, 13) ^ rightrotate(a, 22)) & 0xFFFFFFFF\n",
    "                maj = ((a & b) ^ (a & c) ^ (b & c)) & 0xFFFFFFFF\n",
    "                temp2 = (S0 + maj) & 0xFFFFFFFF\n",
    "\n",
    "                new_a = (temp1 + temp2) & 0xFFFFFFFF\n",
    "                new_e = (d + temp1) & 0xFFFFFFFF\n",
    "                # Rotate the 8 variables\n",
    "                a, b, c, d, e, f, g, h = new_a, a, b, c, new_e, e, f, g\n",
    "\n",
    "            # Add this chunk's hash to result so far:\n",
    "            h0 = (h0 + a) & 0xFFFFFFFF\n",
    "            h1 = (h1 + b) & 0xFFFFFFFF\n",
    "            h2 = (h2 + c) & 0xFFFFFFFF\n",
    "            h3 = (h3 + d) & 0xFFFFFFFF\n",
    "            h4 = (h4 + e) & 0xFFFFFFFF\n",
    "            h5 = (h5 + f) & 0xFFFFFFFF\n",
    "            h6 = (h6 + g) & 0xFFFFFFFF\n",
    "            h7 = (h7 + h) & 0xFFFFFFFF\n",
    "        # 3. Conclusion\n",
    "        self.hash_pieces = [h0, h1, h2, h3, h4, h5, h6, h7]\n",
    "\n",
    "    def digest(self):\n",
    "        # h0 append h1 append h2 append h3 append h4 append h5 append h6 append h7\n",
    "        return sum(leftshift(x, 32 * i) for i, x in enumerate(self.hash_pieces[::-1]))\n",
    "\n",
    "    def hexdigest(self):\n",
    "        \"\"\" Like digest() except the digest is returned as a string object of double length, containing only hexadecimal digits. This may be used to exchange the value safely in email or other non-binary environments.\"\"\"\n",
    "        digest = self.digest()\n",
    "        raw = digest.to_bytes(32, byteorder='big')\n",
    "        return '{:064x}'.format(int.from_bytes(raw, byteorder='big'))"
   ]
  },
  {
   "cell_type": "markdown",
   "metadata": {},
   "source": [
    "We can also write a function to directly compute the hex digest from some bytes data."
   ]
  },
  {
   "cell_type": "code",
   "execution_count": 254,
   "metadata": {
    "collapsed": true
   },
   "outputs": [],
   "source": [
    "def hash_SHA2(data):\n",
    "    \"\"\" Shortcut function to directly receive the hex digest from SHA2(data).\"\"\"\n",
    "    h = SHA2()\n",
    "    if isinstance(data, str):\n",
    "        data = bytes(data, encoding='utf8')\n",
    "    h.update(data)\n",
    "    return h.hexdigest()"
   ]
  },
  {
   "cell_type": "markdown",
   "metadata": {},
   "source": [
    "### First check on SHA-2\n",
    "\n",
    "Let us try it:"
   ]
  },
  {
   "cell_type": "code",
   "execution_count": 255,
   "metadata": {},
   "outputs": [
    {
     "data": {
      "text/plain": [
       "<__main__.SHA2 at 0x7f2d3f94f978>"
      ]
     },
     "execution_count": 255,
     "metadata": {},
     "output_type": "execute_result"
    },
    {
     "name": "stdout",
     "output_type": "stream",
     "text": [
      "SHA256\n"
     ]
    }
   ],
   "source": [
    "h4 = SHA2()\n",
    "h4\n",
    "print(h4)"
   ]
  },
  {
   "cell_type": "code",
   "execution_count": 256,
   "metadata": {},
   "outputs": [
    {
     "data": {
      "text/plain": [
       "72202089257263067108821672097406107534247682087137282803352466770222342186230"
      ]
     },
     "execution_count": 256,
     "metadata": {},
     "output_type": "execute_result"
    }
   ],
   "source": [
    "h4.update(data)\n",
    "h4.digest()"
   ]
  },
  {
   "cell_type": "code",
   "execution_count": 257,
   "metadata": {},
   "outputs": [
    {
     "data": {
      "text/plain": [
       "'0b1001111110100000111011110010111110100111101111001011110000000101110110010001110010001110000100110000100010010011011010011010001000100000100010011100101100000010000011011001000001010000011011101110100010000011010011001100011000001001110011111010010011110110'"
      ]
     },
     "execution_count": 257,
     "metadata": {},
     "output_type": "execute_result"
    },
    {
     "data": {
      "text/plain": [
       "258"
      ]
     },
     "execution_count": 257,
     "metadata": {},
     "output_type": "execute_result"
    }
   ],
   "source": [
    "digest = h4.digest()\n",
    "bin(digest)\n",
    "len(bin(digest))"
   ]
  },
  {
   "cell_type": "code",
   "execution_count": 258,
   "metadata": {},
   "outputs": [
    {
     "data": {
      "text/plain": [
       "'9fa0ef2fa7bcbc05d91c8e13089369a22089cb020d90506ee8834cc609cfa4f6'"
      ]
     },
     "execution_count": 258,
     "metadata": {},
     "output_type": "execute_result"
    }
   ],
   "source": [
    "h4.hexdigest()"
   ]
  },
  {
   "cell_type": "markdown",
   "metadata": {},
   "source": [
    "### A less stupid check on SHA-2\n",
    "\n",
    "Let try the example from [SHA-2 Wikipedia page](https://en.wikipedia.org/wiki/SHA-2#Test_vectors) :"
   ]
  },
  {
   "cell_type": "code",
   "execution_count": 259,
   "metadata": {},
   "outputs": [
    {
     "data": {
      "text/plain": [
       "'d7a8fbb307d7809469ca9abcb0082e4f8d5651e46d3cdb762d02d0bf37c9e592'"
      ]
     },
     "execution_count": 259,
     "metadata": {},
     "output_type": "execute_result"
    }
   ],
   "source": [
    "hash_SHA2(\"The quick brown fox jumps over the lazy dog\")\n",
    "assert hash_SHA2(\"The quick brown fox jumps over the lazy dog\") == 'd7a8fbb307d7809469ca9abcb0082e4f8d5651e46d3cdb762d02d0bf37c9e592'"
   ]
  },
  {
   "cell_type": "markdown",
   "metadata": {},
   "source": [
    "Even a small change in the message will (with overwhelming probability) result in a mostly different hash, due to the [**avalanche effect**](https://en.wikipedia.org/wiki/Avalanche_effect). For example, adding a period at the end of the sentence:"
   ]
  },
  {
   "cell_type": "code",
   "execution_count": 268,
   "metadata": {},
   "outputs": [
    {
     "data": {
      "text/plain": [
       "'ef537f25c895bfa782526529a9b63d97aa631564d5d789c2b765448c8635fb6c'"
      ]
     },
     "execution_count": 268,
     "metadata": {},
     "output_type": "execute_result"
    }
   ],
   "source": [
    "hash_SHA2(\"The quick brown fox jumps over the lazy dog.\")\n",
    "assert hash_SHA2(\"The quick brown fox jumps over the lazy dog.\") == 'ef537f25c895bfa782526529a9b63d97aa631564d5d789c2b765448c8635fb6c'"
   ]
  },
  {
   "cell_type": "markdown",
   "metadata": {},
   "source": [
    "The hash of the zero-length string is:"
   ]
  },
  {
   "cell_type": "code",
   "execution_count": 261,
   "metadata": {},
   "outputs": [
    {
     "data": {
      "text/plain": [
       "'e3b0c44298fc1c149afbf4c8996fb92427ae41e4649b934ca495991b7852b855'"
      ]
     },
     "execution_count": 261,
     "metadata": {},
     "output_type": "execute_result"
    }
   ],
   "source": [
    "hash_SHA2(\"\")\n",
    "assert hash_SHA2(\"\") == 'e3b0c44298fc1c149afbf4c8996fb92427ae41e4649b934ca495991b7852b855'"
   ]
  },
  {
   "cell_type": "markdown",
   "metadata": {},
   "source": [
    "$\\implies$ We obtained the same result, OK our function works!"
   ]
  },
  {
   "cell_type": "markdown",
   "metadata": {},
   "source": [
    "### Trying 1000 random examples\n",
    "On a small sentence:"
   ]
  },
  {
   "cell_type": "code",
   "execution_count": 263,
   "metadata": {},
   "outputs": [
    {
     "data": {
      "text/plain": [
       "'10a6dec377c28d2d34001c103760339f8d6ab02660d200d6014329b86253552c'"
      ]
     },
     "execution_count": 263,
     "metadata": {},
     "output_type": "execute_result"
    }
   ],
   "source": [
    "hash_SHA2(\"My name is Zorro !\")"
   ]
  },
  {
   "cell_type": "code",
   "execution_count": 262,
   "metadata": {},
   "outputs": [
    {
     "data": {
      "text/plain": [
       "'10a6dec377c28d2d34001c103760339f8d6ab02660d200d6014329b86253552c'"
      ]
     },
     "execution_count": 262,
     "metadata": {},
     "output_type": "execute_result"
    }
   ],
   "source": [
    "h = hashlib.sha256()\n",
    "h.update(b\"My name is Zorro !\")\n",
    "h.hexdigest()"
   ]
  },
  {
   "cell_type": "markdown",
   "metadata": {},
   "source": [
    "It starts to look good."
   ]
  },
  {
   "cell_type": "code",
   "execution_count": 264,
   "metadata": {
    "collapsed": true
   },
   "outputs": [],
   "source": [
    "def true_hash_SHA2(data):\n",
    "    h = hashlib.sha256()\n",
    "    if isinstance(data, str):\n",
    "        data = bytes(data, encoding='utf8')\n",
    "    h.update(data)\n",
    "    return h.hexdigest()"
   ]
  },
  {
   "cell_type": "markdown",
   "metadata": {},
   "source": [
    "On some random data:"
   ]
  },
  {
   "cell_type": "code",
   "execution_count": 265,
   "metadata": {},
   "outputs": [
    {
     "data": {
      "text/plain": [
       "'aE0w6AIsyg'"
      ]
     },
     "execution_count": 265,
     "metadata": {},
     "output_type": "execute_result"
    }
   ],
   "source": [
    "random_string(10)"
   ]
  },
  {
   "cell_type": "code",
   "execution_count": 266,
   "metadata": {
    "collapsed": true
   },
   "outputs": [],
   "source": [
    "from tqdm import tqdm_notebook as tqdm"
   ]
  },
  {
   "cell_type": "code",
   "execution_count": 267,
   "metadata": {},
   "outputs": [
    {
     "data": {
      "application/vnd.jupyter.widget-view+json": {
       "model_id": "d282963fe48548f38dbe980864c831e5"
      }
     },
     "metadata": {},
     "output_type": "display_data"
    },
    {
     "name": "stdout",
     "output_type": "stream",
     "text": [
      "\n",
      "CPU times: user 1min 6s, sys: 116 ms, total: 1min 6s\n",
      "Wall time: 1min 6s\n"
     ]
    }
   ],
   "source": [
    "%%time\n",
    "for _ in tqdm(range(1000)):\n",
    "    x = random_string()\n",
    "    assert hash_SHA2(x) == true_hash_SHA2(x), \"Error: x = {} gave two different SHA2 hashes: my implementation = {} != hashlib implementation = {}...\".format(x, hash_SHA2(x), true_hash_SHA2(x))"
   ]
  },
  {
   "cell_type": "markdown",
   "metadata": {},
   "source": [
    "----\n",
    "## Comparison : MD5 vs SHA-1 vs SHA-2\n",
    "\n",
    "It can be interesting to compare each hash functions, with respect to its time complexity."
   ]
  },
  {
   "cell_type": "code",
   "execution_count": 159,
   "metadata": {},
   "outputs": [
    {
     "name": "stdout",
     "output_type": "stream",
     "text": [
      "30.4 ms ± 1.76 ms per loop (mean ± std. dev. of 7 runs, 10 loops each)\n"
     ]
    }
   ],
   "source": [
    "def test_MD5():\n",
    "    x = random_string()\n",
    "    return hash_MD5(x) == true_hash_MD5(x)\n",
    "\n",
    "%timeit test_MD5()"
   ]
  },
  {
   "cell_type": "code",
   "execution_count": 160,
   "metadata": {},
   "outputs": [
    {
     "name": "stdout",
     "output_type": "stream",
     "text": [
      "38.3 ms ± 2.87 ms per loop (mean ± std. dev. of 7 runs, 10 loops each)\n"
     ]
    }
   ],
   "source": [
    "def test_SHA1():\n",
    "    x = random_string()\n",
    "    return hash_SHA1(x) == true_hash_SHA1(x)\n",
    "\n",
    "%timeit test_SHA1()"
   ]
  },
  {
   "cell_type": "code",
   "execution_count": 269,
   "metadata": {},
   "outputs": [
    {
     "name": "stdout",
     "output_type": "stream",
     "text": [
      "60.3 ms ± 592 µs per loop (mean ± std. dev. of 7 runs, 10 loops each)\n"
     ]
    }
   ],
   "source": [
    "def test_SHA2():\n",
    "    x = random_string()\n",
    "    return hash_SHA2(x) == true_hash_SHA2(x)\n",
    "\n",
    "%timeit test_SHA2()"
   ]
  },
  {
   "cell_type": "markdown",
   "metadata": {},
   "source": [
    "As expected, the MD5 hash is the fastest, and SHA-2 is slower than SHA-1."
   ]
  },
  {
   "cell_type": "markdown",
   "metadata": {},
   "source": [
    "----\n",
    "## Bonus : SHA-2 variants\n",
    "\n",
    "Now that we have implemented SHA-256, it should be quick to add the SHA-224 variant."
   ]
  },
  {
   "cell_type": "markdown",
   "metadata": {},
   "source": [
    "----\n",
    "## Conclusion"
   ]
  },
  {
   "cell_type": "markdown",
   "metadata": {},
   "source": [
    "Well, it was fun and interesting to implement these hashing functions, manually.\n",
    "Using [Python](https://www.Python.org) made it easy!\n",
    "\n",
    "[![made-with-jupyter](https://img.shields.io/badge/Made%20for-Jupyter%20notebook-1f425f.svg)](https://www.jupyter.org/)\n",
    "[![GitHub license](https://img.shields.io/github/license/Naereen/notebooks.svg)](https://github.com/Naereen/notebooks/blob/master/LICENSE.txt)\n",
    "[![forthebadge made-with-python](http://ForTheBadge.com/images/badges/made-with-python.svg)](https://www.python.org/) \n",
    "[![ForTheBadge built-with-science](http://ForTheBadge.com/images/badges/built-with-science.svg)](https://GitHub.com/Naereen/)\n",
    "[![ForTheBadge powered-by-electricity](http://ForTheBadge.com/images/badges/powered-by-electricity.svg)](http://ForTheBadge.com)"
   ]
  },
  {
   "cell_type": "markdown",
   "metadata": {},
   "source": [
    "> See [my GitHub `notebooks` project](https://GitHub.com/Naereen/notebooks/) for others notebooks."
   ]
  }
 ],
 "metadata": {
  "kernelspec": {
   "display_name": "Python 3",
   "language": "python",
   "name": "python3"
  },
  "language_info": {
   "codemirror_mode": {
    "name": "ipython",
    "version": 3
   },
   "file_extension": ".py",
   "mimetype": "text/x-python",
   "name": "python",
   "nbconvert_exporter": "python",
   "pygments_lexer": "ipython3",
   "version": "3.5.3"
  },
  "notify_time": "5",
  "toc": {
   "colors": {
    "hover_highlight": "#DAA520",
    "running_highlight": "#FF0000",
    "selected_highlight": "#FFD700"
   },
   "moveMenuLeft": true,
   "nav_menu": {
    "height": "303px",
    "width": "251px"
   },
   "navigate_menu": true,
   "number_sections": true,
   "sideBar": true,
   "threshold": 4,
   "toc_cell": true,
   "toc_position": {
    "height": "552px",
    "left": "0px",
    "right": "1164px",
    "top": "117px",
    "width": "212px"
   },
   "toc_section_display": "block",
   "toc_window_display": true
  }
 },
 "nbformat": 4,
 "nbformat_minor": 2
}
