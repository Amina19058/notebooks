{
 "cells": [
  {
   "cell_type": "markdown",
   "metadata": {
    "toc": "true"
   },
   "source": [
    "# Table of Contents\n",
    " <p><div class=\"lev1 toc-item\"><a href=\"#Manual-implementation-of-some-hash-functions\" data-toc-modified-id=\"Manual-implementation-of-some-hash-functions-1\"><span class=\"toc-item-num\">1&nbsp;&nbsp;</span>Manual implementation of some hash functions</a></div><div class=\"lev2 toc-item\"><a href=\"#What-is-a-hash-function?\" data-toc-modified-id=\"What-is-a-hash-function?-11\"><span class=\"toc-item-num\">1.1&nbsp;&nbsp;</span>What is a hash function?</a></div><div class=\"lev2 toc-item\"><a href=\"#Common-API-for-the-different-classes\" data-toc-modified-id=\"Common-API-for-the-different-classes-12\"><span class=\"toc-item-num\">1.2&nbsp;&nbsp;</span>Common API for the different classes</a></div><div class=\"lev2 toc-item\"><a href=\"#Checking-the-the-hashlib-module-in-Python-standard-library\" data-toc-modified-id=\"Checking-the-the-hashlib-module-in-Python-standard-library-13\"><span class=\"toc-item-num\">1.3&nbsp;&nbsp;</span>Checking the <a href=\"https://docs.python.org/3/library/hashlib.html\" target=\"_blank\">the <code>hashlib</code> module in Python standard library</a></a></div><div class=\"lev2 toc-item\"><a href=\"#First-stupid-example:-a-stupid-hashing-function\" data-toc-modified-id=\"First-stupid-example:-a-stupid-hashing-function-14\"><span class=\"toc-item-num\">1.4&nbsp;&nbsp;</span>First stupid example: a stupid hashing function</a></div><div class=\"lev2 toc-item\"><a href=\"#First-real-example:-the-MD5-hashing-function\" data-toc-modified-id=\"First-real-example:-the-MD5-hashing-function-15\"><span class=\"toc-item-num\">1.5&nbsp;&nbsp;</span>First real example: the MD5 hashing function</a></div><div class=\"lev3 toc-item\"><a href=\"#Useful-functions-for-the-MD5-algorithm\" data-toc-modified-id=\"Useful-functions-for-the-MD5-algorithm-151\"><span class=\"toc-item-num\">1.5.1&nbsp;&nbsp;</span>Useful functions for the MD5 algorithm</a></div><div class=\"lev3 toc-item\"><a href=\"#The-MD5-class\" data-toc-modified-id=\"The-MD5-class-152\"><span class=\"toc-item-num\">1.5.2&nbsp;&nbsp;</span>The <code>MD5</code> class</a></div><div class=\"lev3 toc-item\"><a href=\"#First-check-on-MD5\" data-toc-modified-id=\"First-check-on-MD5-153\"><span class=\"toc-item-num\">1.5.3&nbsp;&nbsp;</span>First check on MD5</a></div><div class=\"lev3 toc-item\"><a href=\"#A-less-stupid-check-on-MD5\" data-toc-modified-id=\"A-less-stupid-check-on-MD5-154\"><span class=\"toc-item-num\">1.5.4&nbsp;&nbsp;</span>A less stupid check on MD5</a></div><div class=\"lev3 toc-item\"><a href=\"#Trying-1000-random-examples\" data-toc-modified-id=\"Trying-1000-random-examples-155\"><span class=\"toc-item-num\">1.5.5&nbsp;&nbsp;</span>Trying 1000 random examples</a></div><div class=\"lev2 toc-item\"><a href=\"#Second-real-example:-the-SHA-1-hashing-function\" data-toc-modified-id=\"Second-real-example:-the-SHA-1-hashing-function-16\"><span class=\"toc-item-num\">1.6&nbsp;&nbsp;</span>Second real example: the SHA-1 hashing function</a></div><div class=\"lev3 toc-item\"><a href=\"#Useful-functions-the-SHA-1-algorithm\" data-toc-modified-id=\"Useful-functions-the-SHA-1-algorithm-161\"><span class=\"toc-item-num\">1.6.1&nbsp;&nbsp;</span>Useful functions the SHA-1 algorithm</a></div><div class=\"lev3 toc-item\"><a href=\"#The-SHA1-class\" data-toc-modified-id=\"The-SHA1-class-162\"><span class=\"toc-item-num\">1.6.2&nbsp;&nbsp;</span>The <code>SHA1</code> class</a></div><div class=\"lev3 toc-item\"><a href=\"#First-check-on-SHA-1\" data-toc-modified-id=\"First-check-on-SHA-1-163\"><span class=\"toc-item-num\">1.6.3&nbsp;&nbsp;</span>First check on SHA-1</a></div><div class=\"lev3 toc-item\"><a href=\"#A-less-stupid-check-on-SHA-1\" data-toc-modified-id=\"A-less-stupid-check-on-SHA-1-164\"><span class=\"toc-item-num\">1.6.4&nbsp;&nbsp;</span>A less stupid check on SHA-1</a></div><div class=\"lev3 toc-item\"><a href=\"#Trying-1000-random-examples\" data-toc-modified-id=\"Trying-1000-random-examples-165\"><span class=\"toc-item-num\">1.6.5&nbsp;&nbsp;</span>Trying 1000 random examples</a></div><div class=\"lev2 toc-item\"><a href=\"#Third-real-example:-the-SHA-2-hashing-function\" data-toc-modified-id=\"Third-real-example:-the-SHA-2-hashing-function-17\"><span class=\"toc-item-num\">1.7&nbsp;&nbsp;</span>Third real example: the SHA-2 hashing function</a></div><div class=\"lev3 toc-item\"><a href=\"#Useful-functions-the-SHA-2-algorithm\" data-toc-modified-id=\"Useful-functions-the-SHA-2-algorithm-171\"><span class=\"toc-item-num\">1.7.1&nbsp;&nbsp;</span>Useful functions the SHA-2 algorithm</a></div><div class=\"lev3 toc-item\"><a href=\"#The-SHA2-class\" data-toc-modified-id=\"The-SHA2-class-172\"><span class=\"toc-item-num\">1.7.2&nbsp;&nbsp;</span>The <code>SHA2</code> class</a></div><div class=\"lev3 toc-item\"><a href=\"#First-check-on-SHA-2\" data-toc-modified-id=\"First-check-on-SHA-2-173\"><span class=\"toc-item-num\">1.7.3&nbsp;&nbsp;</span>First check on SHA-2</a></div><div class=\"lev3 toc-item\"><a href=\"#A-less-stupid-check-on-SHA-2\" data-toc-modified-id=\"A-less-stupid-check-on-SHA-2-174\"><span class=\"toc-item-num\">1.7.4&nbsp;&nbsp;</span>A less stupid check on SHA-2</a></div><div class=\"lev3 toc-item\"><a href=\"#Trying-1000-random-examples\" data-toc-modified-id=\"Trying-1000-random-examples-175\"><span class=\"toc-item-num\">1.7.5&nbsp;&nbsp;</span>Trying 1000 random examples</a></div><div class=\"lev2 toc-item\"><a href=\"#Comparison-:-MD5-vs-SHA-1-vs-SHA-2\" data-toc-modified-id=\"Comparison-:-MD5-vs-SHA-1-vs-SHA-2-18\"><span class=\"toc-item-num\">1.8&nbsp;&nbsp;</span>Comparison : MD5 vs SHA-1 vs SHA-2</a></div><div class=\"lev2 toc-item\"><a href=\"#Conclusion\" data-toc-modified-id=\"Conclusion-19\"><span class=\"toc-item-num\">1.9&nbsp;&nbsp;</span>Conclusion</a></div>"
   ]
  },
  {
   "cell_type": "markdown",
   "metadata": {},
   "source": [
    "# Manual implementation of some hash functions\n",
    "\n",
    "This small [Jupyter notebook](https://www.Jupyter.org/) is a short experiment, to see if I can implement the some basic [Hashing functions](https://en.wikipedia.org/wiki/Hash_function), more specifically [cryptographic hashing functions](https://en.wikipedia.org/wiki/Cryptographic_hash_function), like `MD5`, `SHA1`, etc\n",
    "\n",
    "And then I want compare my manual implementations with the functions implemented in [the `hashlib` module in Python standard library](https://docs.python.org/3/library/hashlib.html).\n",
    "Ideally, my implementation should work exactly like the reference one, only slower!\n",
    "\n",
    "\n",
    "- *Reference*: Wikipedia pages on [Hash functions](https://en.wikipedia.org/wiki/Hash_function), [MD5](https://en.wikipedia.org/wiki/MD5), and [SHA1](https://en.wikipedia.org/wiki/SHA1), as well as [the `hashlib` module in Python standard library](https://docs.python.org/3/library/hashlib.html).\n",
    "- *Date*: 13 May 2017 (first part about MD5), 19 June 2017 (second part about SHA1).\n",
    "- *Author*: [Lilian Besson](https://GitHub.com/Naereen/notebooks).\n",
    "- *License*: [MIT Licensed](https://LBesson.MIT-License.org/)."
   ]
  },
  {
   "cell_type": "markdown",
   "metadata": {},
   "source": [
    "----\n",
    "## What is a hash function?\n",
    "> TL;DR : [Hash functions](https://en.wikipedia.org/wiki/Hash_function) and [cryptographic hashing functions](https://en.wikipedia.org/wiki/Cryptographic_hash_function) on Wikipedia."
   ]
  },
  {
   "cell_type": "markdown",
   "metadata": {},
   "source": [
    "----\n",
    "## Common API for the different classes\n",
    "\n",
    "I will copy the API proposed by [the `hashlib` module in Python standard library](https://docs.python.org/3/library/hashlib.html), so it will be very easy to compare my implementations with the one provided with your default [Python](https://www.Python.org/) installation."
   ]
  },
  {
   "cell_type": "code",
   "execution_count": 1,
   "metadata": {
    "collapsed": true
   },
   "outputs": [],
   "source": [
    "class Hash(object):\n",
    "    \"\"\" Common class for all hash methods.\n",
    "    \n",
    "    It copies the one of the hashlib module (https://docs.python.org/3.5/library/hashlib.html).\n",
    "    \"\"\"\n",
    "    \n",
    "    def __init__(self, *args, **kwargs):\n",
    "        \"\"\" Create the Hash object.\"\"\"\n",
    "        self.digest_size = 0  # https://docs.python.org/3.5/library/hashlib.html#hashlib.hash.digest_size\n",
    "        self.block_size  = 0  # https://docs.python.org/3.5/library/hashlib.html#hashlib.hash.block_size\n",
    "        self.name = self.__class__.__name__      # https://docs.python.org/3.5/library/hashlib.html#hashlib.hash.name\n",
    "\n",
    "    def __str__(self):\n",
    "        return self.name\n",
    "        \n",
    "    def update(self, arg):\n",
    "        \"\"\" Update the hash object with the object arg, which must be interpretable as a buffer of bytes.\"\"\"\n",
    "        pass\n",
    "\n",
    "    def digest(self):\n",
    "        \"\"\" Return the digest of the data passed to the update() method so far. This is a bytes object of size digest_size which may contain bytes in the whole range from 0 to 255.\"\"\"\n",
    "        return b\"\"\n",
    "\n",
    "    def hexdigest(self):\n",
    "        \"\"\" Like digest() except the digest is returned as a string object of double length, containing only hexadecimal digits. This may be used to exchange the value safely in email or other non-binary environments.\"\"\"\n",
    "        return self.digest().hex()"
   ]
  },
  {
   "cell_type": "markdown",
   "metadata": {},
   "source": [
    "----\n",
    "## Checking the [the `hashlib` module in Python standard library](https://docs.python.org/3/library/hashlib.html)"
   ]
  },
  {
   "cell_type": "code",
   "execution_count": 2,
   "metadata": {
    "collapsed": true
   },
   "outputs": [],
   "source": [
    "import hashlib"
   ]
  },
  {
   "cell_type": "markdown",
   "metadata": {},
   "source": [
    "We can check [the available algorithms](https://docs.python.org/3.5/library/hashlib.html#hashlib.algorithms_available), some of them being [guaranteed to be on any platform](https://docs.python.org/3.5/library/hashlib.html#hashlib.algorithms_guaranteed), some are not."
   ]
  },
  {
   "cell_type": "code",
   "execution_count": 3,
   "metadata": {},
   "outputs": [
    {
     "data": {
      "text/plain": [
       "['dsaEncryption',\n",
       " 'SHA224',\n",
       " 'sha1',\n",
       " 'ripemd160',\n",
       " 'sha224',\n",
       " 'DSA-SHA',\n",
       " 'DSA',\n",
       " 'md5',\n",
       " 'MD5',\n",
       " 'SHA384',\n",
       " 'whirlpool',\n",
       " 'sha512',\n",
       " 'sha384',\n",
       " 'SHA256',\n",
       " 'dsaWithSHA',\n",
       " 'sha',\n",
       " 'MD4',\n",
       " 'SHA',\n",
       " 'SHA512',\n",
       " 'sha256',\n",
       " 'ecdsa-with-SHA1',\n",
       " 'RIPEMD160',\n",
       " 'md4',\n",
       " 'SHA1']"
      ]
     },
     "execution_count": 3,
     "metadata": {},
     "output_type": "execute_result"
    }
   ],
   "source": [
    "list(hashlib.algorithms_available)"
   ]
  },
  {
   "cell_type": "markdown",
   "metadata": {},
   "source": [
    "I will need at least these ones:"
   ]
  },
  {
   "cell_type": "code",
   "execution_count": 4,
   "metadata": {
    "collapsed": true
   },
   "outputs": [],
   "source": [
    "assert 'MD5' in hashlib.algorithms_available\n",
    "assert 'SHA1' in hashlib.algorithms_available"
   ]
  },
  {
   "cell_type": "code",
   "execution_count": 61,
   "metadata": {},
   "outputs": [
    {
     "name": "stdout",
     "output_type": "stream",
     "text": [
      "For MD5  : the block size is 64 and the digest size is 16.\n",
      "For SHA1 : the block size is 64 and the digest size is 20.\n"
     ]
    }
   ],
   "source": [
    "for name, s in zip(('MD5', 'SHA1'), (hashlib.md5(), hashlib.sha1())):\n",
    "    print(\"For {:<4} : the block size is {} and the digest size is {}.\".format(name, s.block_size, s.digest_size))"
   ]
  },
  {
   "cell_type": "markdown",
   "metadata": {},
   "source": [
    "----\n",
    "## First stupid example: a stupid hashing function\n",
    "\n",
    "This \"stupid\" hashing function will use `digest_size` of 128 bytes, and compute it by ... just looking at the first 128 bytes of the input data.\n",
    "\n",
    "This is just to check the API and how to read from a bytes buffer."
   ]
  },
  {
   "cell_type": "code",
   "execution_count": 5,
   "metadata": {
    "collapsed": true
   },
   "outputs": [],
   "source": [
    "class HeaderHash(Hash):\n",
    "    \"\"\" This \"stupid\" hashing function will use `digest_size` of 128 bytes, and compute it by ... just looking at the first 128 bytes of the input data.\n",
    "    \"\"\"\n",
    "    \n",
    "    def __init__(self):\n",
    "        # Common part\n",
    "        self.digest_size = 16\n",
    "        self.block_size  = 16\n",
    "        self.name = \"Header\"\n",
    "        # Specific part\n",
    "        self._data = b\"\"\n",
    "\n",
    "    def update(self, arg):\n",
    "        \"\"\" Update the hash object with the object arg, which must be interpretable as a buffer of bytes.\"\"\"\n",
    "        if len(self._data) == 0:\n",
    "            self._data = arg[:self.block_size]\n",
    "\n",
    "    def digest(self):\n",
    "        \"\"\" Return the digest of the data passed to the update() method so far. This is a bytes object of size digest_size which may contain bytes in the whole range from 0 to 255.\"\"\"\n",
    "        return self._data"
   ]
  },
  {
   "cell_type": "markdown",
   "metadata": {},
   "source": [
    "Let us try it:"
   ]
  },
  {
   "cell_type": "code",
   "execution_count": 6,
   "metadata": {
    "collapsed": true
   },
   "outputs": [],
   "source": [
    "h1 = HeaderHash()"
   ]
  },
  {
   "cell_type": "code",
   "execution_count": 7,
   "metadata": {},
   "outputs": [
    {
     "data": {
      "text/plain": [
       "<__main__.HeaderHash at 0x7f2d6446c780>"
      ]
     },
     "execution_count": 7,
     "metadata": {},
     "output_type": "execute_result"
    },
    {
     "name": "stdout",
     "output_type": "stream",
     "text": [
      "Header\n"
     ]
    }
   ],
   "source": [
    "h1\n",
    "print(h1)"
   ]
  },
  {
   "cell_type": "markdown",
   "metadata": {},
   "source": [
    "Let us use some toy data, to test here and after."
   ]
  },
  {
   "cell_type": "code",
   "execution_count": 8,
   "metadata": {
    "collapsed": true
   },
   "outputs": [],
   "source": [
    "data = b\"0123456789ABCDEFGHIJKLMNOPQRSTUVWXYZ\" * 100"
   ]
  },
  {
   "cell_type": "code",
   "execution_count": 9,
   "metadata": {},
   "outputs": [
    {
     "data": {
      "text/plain": [
       "b'0123456789ABCDEF'"
      ]
     },
     "execution_count": 9,
     "metadata": {},
     "output_type": "execute_result"
    }
   ],
   "source": [
    "h1.update(data)\n",
    "h1.digest()"
   ]
  },
  {
   "cell_type": "code",
   "execution_count": 10,
   "metadata": {},
   "outputs": [
    {
     "data": {
      "text/plain": [
       "'30313233343536373839414243444546'"
      ]
     },
     "execution_count": 10,
     "metadata": {},
     "output_type": "execute_result"
    },
    {
     "data": {
      "text/plain": [
       "32"
      ]
     },
     "execution_count": 10,
     "metadata": {},
     "output_type": "execute_result"
    }
   ],
   "source": [
    "h1.hexdigest()\n",
    "len(_)"
   ]
  },
  {
   "cell_type": "markdown",
   "metadata": {},
   "source": [
    "> Well... It seems to work, even if this first example is stupid."
   ]
  },
  {
   "cell_type": "markdown",
   "metadata": {},
   "source": [
    "----\n",
    "## First real example: the MD5 hashing function\n",
    "Let start with a simple one: [the MD5 hashing function](https://en.wikipedia.org/wiki/MD5), from Rivest in 1992.\n",
    "\n",
    "<center><span style=\"font-size: large; color: red;\">**Warning**: it is considered broken since at least 2012, never use it for security purposes.</span></center>"
   ]
  },
  {
   "cell_type": "markdown",
   "metadata": {},
   "source": [
    "### Useful functions for the MD5 algorithm\n",
    "Instead of writing the complete MD5 algorithm in the class below, I preferred to define here some useful functions, using [Bitwise operators](https://wiki.python.org/moin/BitwiseOperators)."
   ]
  },
  {
   "cell_type": "code",
   "execution_count": 11,
   "metadata": {
    "collapsed": true
   },
   "outputs": [],
   "source": [
    "def MD5_f1(b, c, d):\n",
    "    \"\"\" First ternary bitwise operation.\"\"\"\n",
    "    return ((b & c) | ((~b) & d)) & 0xFFFFFFFF\n",
    "\n",
    "def MD5_f2(b, c, d):\n",
    "    \"\"\" Second ternary bitwise operation.\"\"\"\n",
    "    return ((b & d) | (c & (~d))) & 0xFFFFFFFF\n",
    "\n",
    "def MD5_f3(b, c, d):\n",
    "    \"\"\" Third ternary bitwise operation.\"\"\"\n",
    "    return (b ^ c ^ d) & 0xFFFFFFFF\n",
    "\n",
    "def MD5_f4(b, c, d):\n",
    "    \"\"\" Forth ternary bitwise operation.\"\"\"\n",
    "    return (c ^ (b | (~d))) & 0xFFFFFFFF"
   ]
  },
  {
   "cell_type": "code",
   "execution_count": 12,
   "metadata": {
    "collapsed": true
   },
   "outputs": [],
   "source": [
    "def leftrotate(x, c):\n",
    "    \"\"\" Left rotate the number x by c bytes.\"\"\"\n",
    "    x &= 0xFFFFFFFF\n",
    "    return ((x << c) | (x >> (32 - c))) & 0xFFFFFFFF"
   ]
  },
  {
   "cell_type": "code",
   "execution_count": 13,
   "metadata": {
    "collapsed": true
   },
   "outputs": [],
   "source": [
    "from math import floor, sin"
   ]
  },
  {
   "cell_type": "markdown",
   "metadata": {},
   "source": [
    "### The `MD5` class"
   ]
  },
  {
   "cell_type": "markdown",
   "metadata": {},
   "source": [
    "It is a direct implementation of the pseudo-code, as given for instance on the Wikipedia page, or the original research article by Rivest."
   ]
  },
  {
   "cell_type": "code",
   "execution_count": 14,
   "metadata": {
    "collapsed": true
   },
   "outputs": [],
   "source": [
    "class MD5(Hash):\n",
    "    \"\"\"MD5 hashing, see https://en.wikipedia.org/wiki/MD5#Algorithm.\"\"\"\n",
    "    \n",
    "    def __init__(self):\n",
    "        self.name = \"MD5\"\n",
    "        self.block_size  = 64\n",
    "        self.digest_size = 16\n",
    "        # Internal data\n",
    "        s = [0] * 64\n",
    "        K = [0] * 64\n",
    "        # Initialize s, s specifies the per-round shift amounts\n",
    "        s[ 0:16] = [7, 12, 17, 22,  7, 12, 17, 22,  7, 12, 17, 22,  7, 12, 17, 22]\n",
    "        s[16:32] = [5,  9, 14, 20,  5,  9, 14, 20,  5,  9, 14, 20,  5,  9, 14, 20]\n",
    "        s[32:48] = [4, 11, 16, 23,  4, 11, 16, 23,  4, 11, 16, 23,  4, 11, 16, 23]\n",
    "        s[48:64] = [6, 10, 15, 21,  6, 10, 15, 21,  6, 10, 15, 21,  6, 10, 15, 21]\n",
    "        # Store it\n",
    "        self._s = s\n",
    "        # Use binary integer part of the sines of integers (Radians) as constants:\n",
    "        for i in range(64):\n",
    "            K[i] = floor(2**32 * abs(sin(i + 1))) & 0xFFFFFFFF\n",
    "        # Store it\n",
    "        self._K = K\n",
    "        # Initialize variables:\n",
    "        a0 = 0x67452301   # A\n",
    "        b0 = 0xefcdab89   # B\n",
    "        c0 = 0x98badcfe   # C\n",
    "        d0 = 0x10325476   # D\n",
    "        self.hash_pieces = [a0, b0, c0, d0]\n",
    "    \n",
    "    def update(self, arg):\n",
    "        s, K = self._s, self._K\n",
    "        a0, b0, c0, d0 = self.hash_pieces\n",
    "        # 1. Pre-processing\n",
    "        data = bytearray(arg)\n",
    "        orig_len_in_bits = (8 * len(data)) & 0xFFFFFFFFFFFFFFFF\n",
    "        # 1.a. Add a single '1' bit at the end of the input bits\n",
    "        data.append(0x80)\n",
    "        # 1.b. Padding with zeros as long as the input bits length ≡ 448 (mod 512)\n",
    "        while len(data) % 64 != 56:\n",
    "            data.append(0)\n",
    "        # 1.c. append original length in bits mod (2 pow 64) to message\n",
    "        data += orig_len_in_bits.to_bytes(8, byteorder='little')\n",
    "        assert len(data) % 64 == 0, \"Error in padding\"\n",
    "        # 2. Computations\n",
    "        # Process the message in successive 512-bit = 64-bytes chunks:\n",
    "        for offset in range(0, len(data), 64):\n",
    "            # 2.a. 512-bits = 64-bytes chunks\n",
    "            chunks = data[offset : offset + 64]\n",
    "            # 2.b. Break chunk into sixteen 32-bit = 4-bytes words M[j], 0 ≤ j ≤ 15\n",
    "            A, B, C, D = a0, b0, c0, d0\n",
    "            # 2.c. Main loop\n",
    "            for i in range(64):\n",
    "                if 0 <= i <= 15:\n",
    "                    F = MD5_f1(B, C, D)\n",
    "                    g = i\n",
    "                elif 16 <= i <= 31:\n",
    "                    F = MD5_f2(B, C, D)\n",
    "                    g = (5 * i + 1) % 16\n",
    "                elif 32 <= i <= 47:\n",
    "                    F = MD5_f3(B, C, D)\n",
    "                    g = (3 * i + 5) % 16\n",
    "                elif 48 <= i <= 63:\n",
    "                    F = MD5_f4(B, C, D)\n",
    "                    g = (7 * i) % 16\n",
    "                # Be wary of the below definitions of A, B, C, D\n",
    "                to_rotate = A + F + K[i] + int.from_bytes(chunks[4*g : 4*g+4], byteorder='little')\n",
    "                new_B = (B + leftrotate(to_rotate, s[i])) & 0xFFFFFFFF\n",
    "                A, B, C, D = D, new_B, B, C\n",
    "            # Add this chunk's hash to result so far:\n",
    "            a0 = (a0 + A) & 0xFFFFFFFF\n",
    "            b0 = (b0 + B) & 0xFFFFFFFF\n",
    "            c0 = (c0 + C) & 0xFFFFFFFF\n",
    "            d0 = (d0 + D) & 0xFFFFFFFF\n",
    "        # 3. Conclusion\n",
    "        self.hash_pieces = [a0, b0, c0, d0]\n",
    "\n",
    "    def digest(self):\n",
    "        return sum(x << (32 * i) for i, x in enumerate(self.hash_pieces))\n",
    "\n",
    "    def hexdigest(self):\n",
    "        \"\"\" Like digest() except the digest is returned as a string object of double length, containing only hexadecimal digits. This may be used to exchange the value safely in email or other non-binary environments.\"\"\"\n",
    "        digest = self.digest()\n",
    "        raw = digest.to_bytes(16, byteorder='little')\n",
    "        return '{:032x}'.format(int.from_bytes(raw, byteorder='big'))"
   ]
  },
  {
   "cell_type": "markdown",
   "metadata": {},
   "source": [
    "We can also write a function to directly compute the hex digest from some bytes data."
   ]
  },
  {
   "cell_type": "code",
   "execution_count": 15,
   "metadata": {
    "collapsed": true
   },
   "outputs": [],
   "source": [
    "def hash_MD5(data):\n",
    "    \"\"\" Shortcut function to directly receive the hex digest from MD5(data).\"\"\"\n",
    "    h = MD5()\n",
    "    if isinstance(data, str):\n",
    "        data = bytes(data, encoding='utf8')\n",
    "    h.update(data)\n",
    "    return h.hexdigest()"
   ]
  },
  {
   "cell_type": "markdown",
   "metadata": {},
   "source": [
    "<div style=\"text-align:right;\"><blockquote> *Note:* [This page helped for debugging](https://rosettacode.org/wiki/MD5/Implementation#Python).</blockquote></div>"
   ]
  },
  {
   "cell_type": "markdown",
   "metadata": {},
   "source": [
    "### First check on MD5\n",
    "\n",
    "Let us try it:"
   ]
  },
  {
   "cell_type": "code",
   "execution_count": 16,
   "metadata": {},
   "outputs": [
    {
     "data": {
      "text/plain": [
       "<__main__.MD5 at 0x7f2d64471470>"
      ]
     },
     "execution_count": 16,
     "metadata": {},
     "output_type": "execute_result"
    },
    {
     "name": "stdout",
     "output_type": "stream",
     "text": [
      "MD5\n"
     ]
    }
   ],
   "source": [
    "h2 = MD5()\n",
    "h2\n",
    "print(h2)"
   ]
  },
  {
   "cell_type": "code",
   "execution_count": 17,
   "metadata": {},
   "outputs": [
    {
     "data": {
      "text/plain": [
       "52666558089014014065978771967570616878"
      ]
     },
     "execution_count": 17,
     "metadata": {},
     "output_type": "execute_result"
    }
   ],
   "source": [
    "h2.update(data)\n",
    "h2.digest()"
   ]
  },
  {
   "cell_type": "code",
   "execution_count": 18,
   "metadata": {},
   "outputs": [
    {
     "data": {
      "text/plain": [
       "'2e224cd661b6b83e0f3a0a06cb359f27'"
      ]
     },
     "execution_count": 18,
     "metadata": {},
     "output_type": "execute_result"
    }
   ],
   "source": [
    "h2.hexdigest()"
   ]
  },
  {
   "cell_type": "markdown",
   "metadata": {},
   "source": [
    "### A less stupid check on MD5\n",
    "\n",
    "Let try the example from [MD5 Wikipedia page](https://en.wikipedia.org/wiki/MD5#MD5_hashes) :"
   ]
  },
  {
   "cell_type": "code",
   "execution_count": 19,
   "metadata": {},
   "outputs": [
    {
     "data": {
      "text/plain": [
       "'9e107d9d372bb6826bd81d3542a419d6'"
      ]
     },
     "execution_count": 19,
     "metadata": {},
     "output_type": "execute_result"
    }
   ],
   "source": [
    "hash_MD5(\"The quick brown fox jumps over the lazy dog\")\n",
    "assert hash_MD5(\"The quick brown fox jumps over the lazy dog\") == '9e107d9d372bb6826bd81d3542a419d6'"
   ]
  },
  {
   "cell_type": "markdown",
   "metadata": {},
   "source": [
    "Even a small change in the message will (with overwhelming probability) result in a mostly different hash, due to the [**avalanche effect**](https://en.wikipedia.org/wiki/Avalanche_effect). For example, adding a period to the end of the sentence:"
   ]
  },
  {
   "cell_type": "code",
   "execution_count": 20,
   "metadata": {},
   "outputs": [
    {
     "data": {
      "text/plain": [
       "'e4d909c290d0fb1ca068ffaddf22cbd0'"
      ]
     },
     "execution_count": 20,
     "metadata": {},
     "output_type": "execute_result"
    }
   ],
   "source": [
    "hash_MD5(\"The quick brown fox jumps over the lazy dog.\")\n",
    "assert hash_MD5(\"The quick brown fox jumps over the lazy dog.\") == 'e4d909c290d0fb1ca068ffaddf22cbd0'"
   ]
  },
  {
   "cell_type": "markdown",
   "metadata": {},
   "source": [
    "The hash of the zero-length string is:"
   ]
  },
  {
   "cell_type": "code",
   "execution_count": 21,
   "metadata": {},
   "outputs": [
    {
     "data": {
      "text/plain": [
       "'d41d8cd98f00b204e9800998ecf8427e'"
      ]
     },
     "execution_count": 21,
     "metadata": {},
     "output_type": "execute_result"
    }
   ],
   "source": [
    "hash_MD5(\"\")\n",
    "assert hash_MD5(\"\") == 'd41d8cd98f00b204e9800998ecf8427e'"
   ]
  },
  {
   "cell_type": "markdown",
   "metadata": {},
   "source": [
    "$\\implies$ We obtained the same result, OK our function works!"
   ]
  },
  {
   "cell_type": "markdown",
   "metadata": {},
   "source": [
    "### Trying 1000 random examples\n",
    "On a small sentence:"
   ]
  },
  {
   "cell_type": "code",
   "execution_count": 22,
   "metadata": {},
   "outputs": [
    {
     "data": {
      "text/plain": [
       "'0ad8cb82874690906cf732223adeebbe'"
      ]
     },
     "execution_count": 22,
     "metadata": {},
     "output_type": "execute_result"
    }
   ],
   "source": [
    "hash_MD5(\"My name is Zorro !\")"
   ]
  },
  {
   "cell_type": "code",
   "execution_count": 23,
   "metadata": {},
   "outputs": [
    {
     "data": {
      "text/plain": [
       "'0ad8cb82874690906cf732223adeebbe'"
      ]
     },
     "execution_count": 23,
     "metadata": {},
     "output_type": "execute_result"
    }
   ],
   "source": [
    "h = hashlib.md5()\n",
    "h.update(b\"My name is Zorro !\")\n",
    "h.hexdigest()"
   ]
  },
  {
   "cell_type": "markdown",
   "metadata": {},
   "source": [
    "It starts to look good."
   ]
  },
  {
   "cell_type": "code",
   "execution_count": 24,
   "metadata": {
    "collapsed": true
   },
   "outputs": [],
   "source": [
    "def true_hash_MD5(data):\n",
    "    h = hashlib.md5()\n",
    "    if isinstance(data, str):\n",
    "        data = bytes(data, encoding='utf8')\n",
    "    h.update(data)\n",
    "    return h.hexdigest()"
   ]
  },
  {
   "cell_type": "markdown",
   "metadata": {},
   "source": [
    "On some random data:"
   ]
  },
  {
   "cell_type": "code",
   "execution_count": 25,
   "metadata": {
    "collapsed": true
   },
   "outputs": [],
   "source": [
    "import numpy.random as nr\n",
    "alphabets = \"0123456789ABCDEFGHIJKLMNOPQRSTUVWXYZabcdefghijklmnopqrstuvwxyz\"\n",
    "\n",
    "def random_string(size=10000):\n",
    "    return ''.join(alphabets[nr.randint(len(alphabets))] for _ in range(size))"
   ]
  },
  {
   "cell_type": "code",
   "execution_count": 26,
   "metadata": {},
   "outputs": [
    {
     "data": {
      "text/plain": [
       "'LlHtBBxC6D'"
      ]
     },
     "execution_count": 26,
     "metadata": {},
     "output_type": "execute_result"
    }
   ],
   "source": [
    "random_string(10)"
   ]
  },
  {
   "cell_type": "code",
   "execution_count": 28,
   "metadata": {
    "collapsed": true
   },
   "outputs": [],
   "source": [
    "from tqdm import tqdm_notebook as tqdm"
   ]
  },
  {
   "cell_type": "code",
   "execution_count": 29,
   "metadata": {},
   "outputs": [
    {
     "data": {
      "application/vnd.jupyter.widget-view+json": {
       "model_id": "703c770b3bff4c1e9426a0b887a2ab78"
      }
     },
     "metadata": {},
     "output_type": "display_data"
    },
    {
     "name": "stdout",
     "output_type": "stream",
     "text": [
      "\n",
      "CPU times: user 32 s, sys: 64 ms, total: 32 s\n",
      "Wall time: 32 s\n"
     ]
    }
   ],
   "source": [
    "%%time\n",
    "for _ in tqdm(range(1000)):\n",
    "    x = random_string()\n",
    "    assert hash_MD5(x) == true_hash_MD5(x), \"Error: x = {} gave two different MD5 hashes: my implementation = {} != hashlib implementation = {}...\".format(x, hash_MD5(x), true_hash_MD5(x))"
   ]
  },
  {
   "cell_type": "markdown",
   "metadata": {},
   "source": [
    "----\n",
    "## Second real example: the SHA-1 hashing function"
   ]
  },
  {
   "cell_type": "markdown",
   "metadata": {},
   "source": [
    "Let now study and implement another hashing function, slightly harder to write but more secure: SHA1, \"Secure Hash Algorithm, version 1\".\n",
    "See [the SHA1 hashing function](https://en.wikipedia.org/wiki/SHA-1) on Wikipedia, if needed.\n",
    "\n",
    "<center><span style=\"font-size: large; color: red;\">**Warning**: it is considered broken since at least 2011, it is not advised to use it for real security purposes. SHA-2 or SHA-3 is better advised.</span></center>"
   ]
  },
  {
   "cell_type": "markdown",
   "metadata": {},
   "source": [
    "### Useful functions the SHA-1 algorithm"
   ]
  },
  {
   "cell_type": "markdown",
   "metadata": {},
   "source": [
    "Pretty similar to the ones used for the MD5 algorithm."
   ]
  },
  {
   "cell_type": "code",
   "execution_count": 30,
   "metadata": {
    "collapsed": true
   },
   "outputs": [],
   "source": [
    "def SHA1_f1(b, c, d):\n",
    "    \"\"\" First ternary bitwise operation.\"\"\"\n",
    "    return ((b & c) | ((~b) & d)) & 0xFFFFFFFF\n",
    "\n",
    "def SHA1_f2(b, c, d):\n",
    "    \"\"\" Second ternary bitwise operation.\"\"\"\n",
    "    return (b ^ c ^ d) & 0xFFFFFFFF\n",
    "\n",
    "def SHA1_f3(b, c, d):\n",
    "    \"\"\" Third ternary bitwise operation.\"\"\"\n",
    "    return ((b & c) | (b & d) | (c & d) ) & 0xFFFFFFFF\n",
    "\n",
    "def SHA1_f4(b, c, d):\n",
    "    \"\"\" Forth ternary bitwise operation, = SHA1_f1.\"\"\"\n",
    "    return (b ^ c ^ d) & 0xFFFFFFFF"
   ]
  },
  {
   "cell_type": "markdown",
   "metadata": {},
   "source": [
    "This is exactly like for MD5."
   ]
  },
  {
   "cell_type": "code",
   "execution_count": 145,
   "metadata": {
    "collapsed": true
   },
   "outputs": [],
   "source": [
    "def leftrotate(x, c):\n",
    "    \"\"\" Left rotate the number x by c bytes.\"\"\"\n",
    "    x &= 0xFFFFFFFF\n",
    "    return ((x << c) | (x >> (32 - c))) & 0xFFFFFFFF"
   ]
  },
  {
   "cell_type": "markdown",
   "metadata": {},
   "source": [
    "As SHA-1 plays with big-endian and little-endian integers, and at the end it requires a leftshift to combine the 5 hash pieces into one."
   ]
  },
  {
   "cell_type": "code",
   "execution_count": 146,
   "metadata": {
    "collapsed": true
   },
   "outputs": [],
   "source": [
    "def leftshift(x, c):\n",
    "    \"\"\" Left shift the number x by c bytes.\"\"\"\n",
    "    return x << c"
   ]
  },
  {
   "cell_type": "code",
   "execution_count": 32,
   "metadata": {
    "collapsed": true
   },
   "outputs": [],
   "source": [
    "from math import floor, sin"
   ]
  },
  {
   "cell_type": "markdown",
   "metadata": {},
   "source": [
    "### The `SHA1` class\n",
    "\n",
    "I will use a simple class, very similar to the class used for the MD5 algorithm (see above).\n",
    "It is a direct implementation of the pseudo-code, as given for instance on the Wikipedia page."
   ]
  },
  {
   "cell_type": "code",
   "execution_count": 147,
   "metadata": {
    "collapsed": true
   },
   "outputs": [],
   "source": [
    "class SHA1(Hash):\n",
    "    \"\"\"SHA1 hashing, see https://en.wikipedia.org/wiki/SHA-1#Algorithm.\"\"\"\n",
    "    \n",
    "    def __init__(self):\n",
    "        self.name        = \"SHA1\"\n",
    "        self.block_size  = 64\n",
    "        self.digest_size = 20\n",
    "        # Initialize variables\n",
    "        h0 = 0x67452301\n",
    "        h1 = 0xEFCDAB89\n",
    "        h2 = 0x98BADCFE\n",
    "        h3 = 0x10325476\n",
    "        h4 = 0xC3D2E1F0\n",
    "        # Store them\n",
    "        self.hash_pieces = [h0, h1, h2, h3, h4]\n",
    "    \n",
    "    def update(self, arg):\n",
    "        h0, h1, h2, h3, h4 = self.hash_pieces\n",
    "        # 1. Pre-processing, exactly like MD5\n",
    "        data = bytearray(arg)\n",
    "        orig_len_in_bits = (8 * len(data)) & 0xFFFFFFFFFFFFFFFF\n",
    "        # 1.a. Add a single '1' bit at the end of the input bits\n",
    "        data.append(0x80)\n",
    "        # 1.b. Padding with zeros as long as the input bits length ≡ 448 (mod 512)\n",
    "        while len(data) % 64 != 56:\n",
    "            data.append(0)\n",
    "        # 1.c. append original length in bits mod (2 pow 64) to message\n",
    "        data += orig_len_in_bits.to_bytes(8, byteorder='big')\n",
    "        assert len(data) % 64 == 0, \"Error in padding\"\n",
    "        # 2. Computations\n",
    "        # Process the message in successive 512-bit = 64-bytes chunks:\n",
    "        for offset in range(0, len(data), 64):\n",
    "            # 2.a. 512-bits = 64-bytes chunks\n",
    "            chunks = data[offset : offset + 64]\n",
    "            w = [0 for i in range(80)]\n",
    "            # 2.b. Break chunk into sixteen 32-bit = 4-bytes words w[i], 0 ≤ i ≤ 15\n",
    "            for i in range(16):\n",
    "                w[i] = int.from_bytes(chunks[4*i : 4*i + 4], byteorder='big')\n",
    "            # 2.c. Extend the sixteen 32-bit words into eighty 32-bit words\n",
    "            for i in range(16, 80):\n",
    "                w[i] = leftrotate(w[i-3] ^ w[i-8] ^ w[i-14] ^ w[i-16], 1)\n",
    "            # 2.d. Initialize hash value for this chunk\n",
    "            a, b, c, d, e = h0, h1, h2, h3, h4\n",
    "            # 2.e. Main loop, cf. http://www.faqs.org/rfcs/rfc3174.html\n",
    "            for i in range(80):\n",
    "                if 0 <= i <= 19 :\n",
    "                    f = SHA1_f1(b, c, d)\n",
    "                    k = 0x5A827999\n",
    "                elif 20 <= i <= 39 :\n",
    "                    f = SHA1_f2(b, c, d)\n",
    "                    k = 0x6ED9EBA1\n",
    "                elif 40 <= i <= 59 :\n",
    "                    f = SHA1_f3(b, c, d)\n",
    "                    k = 0x8F1BBCDC\n",
    "                elif 60 <= i <= 79 :\n",
    "                    f = SHA1_f4(b, c, d)\n",
    "                    k = 0xCA62C1D6\n",
    "\n",
    "                new_a = leftrotate(a, 5) + f + e + k + w[i] & 0xFFFFFFFF\n",
    "                new_c = leftrotate(b, 30)\n",
    "                # Rotate the 5 variables\n",
    "                a, b, c, d, e = new_a, a, new_c, c, d\n",
    "\n",
    "            # Add this chunk's hash to result so far:\n",
    "            h0 = (h0 + a) & 0xFFFFFFFF\n",
    "            h1 = (h1 + b) & 0xFFFFFFFF\n",
    "            h2 = (h2 + c) & 0xFFFFFFFF\n",
    "            h3 = (h3 + d) & 0xFFFFFFFF\n",
    "            h4 = (h4 + e) & 0xFFFFFFFF\n",
    "        # 3. Conclusion\n",
    "        self.hash_pieces = [h0, h1, h2, h3, h4]\n",
    "\n",
    "    def digest(self):\n",
    "        # h0, h1, h2, h3, h4 = self.hash_pieces\n",
    "        # return leftshift(h0, 128) | leftshift(h1, 96) | leftshift(h2, 64) | leftshift(h3, 32) | h4\n",
    "        return sum(leftshift(x, 32 * i) for i, x in enumerate(self.hash_pieces[::-1]))\n",
    "\n",
    "    def hexdigest(self):\n",
    "        \"\"\" Like digest() except the digest is returned as a string object of double length, containing only hexadecimal digits. This may be used to exchange the value safely in email or other non-binary environments.\"\"\"\n",
    "        digest = self.digest()\n",
    "        raw = digest.to_bytes(20, byteorder='big')\n",
    "        return '{:040x}'.format(int.from_bytes(raw, byteorder='big'))"
   ]
  },
  {
   "cell_type": "markdown",
   "metadata": {},
   "source": [
    "We can also write a function to directly compute the hex digest from some bytes data."
   ]
  },
  {
   "cell_type": "code",
   "execution_count": 148,
   "metadata": {
    "collapsed": true
   },
   "outputs": [],
   "source": [
    "def hash_SHA1(data):\n",
    "    \"\"\" Shortcut function to directly receive the hex digest from SHA1(data).\"\"\"\n",
    "    h = SHA1()\n",
    "    if isinstance(data, str):\n",
    "        data = bytes(data, encoding='utf8')\n",
    "    h.update(data)\n",
    "    return h.hexdigest()"
   ]
  },
  {
   "cell_type": "markdown",
   "metadata": {},
   "source": [
    "### First check on SHA-1\n",
    "\n",
    "Let us try it:"
   ]
  },
  {
   "cell_type": "code",
   "execution_count": 149,
   "metadata": {},
   "outputs": [
    {
     "data": {
      "text/plain": [
       "<__main__.SHA1 at 0x7f2d3f9745f8>"
      ]
     },
     "execution_count": 149,
     "metadata": {},
     "output_type": "execute_result"
    },
    {
     "name": "stdout",
     "output_type": "stream",
     "text": [
      "SHA1\n"
     ]
    }
   ],
   "source": [
    "h3 = SHA1()\n",
    "h3\n",
    "print(h3)"
   ]
  },
  {
   "cell_type": "code",
   "execution_count": 150,
   "metadata": {},
   "outputs": [
    {
     "data": {
      "text/plain": [
       "144539618284518333681008855956641116845695054279"
      ]
     },
     "execution_count": 150,
     "metadata": {},
     "output_type": "execute_result"
    }
   ],
   "source": [
    "h3.update(data)\n",
    "h3.digest()"
   ]
  },
  {
   "cell_type": "code",
   "execution_count": 151,
   "metadata": {},
   "outputs": [
    {
     "data": {
      "text/plain": [
       "'0b1100101010001011000010111000111101000100111010111100000100010111111110001010100111110000001000110111111011010111001110100001011101000111111000011000111000111'"
      ]
     },
     "execution_count": 151,
     "metadata": {},
     "output_type": "execute_result"
    },
    {
     "data": {
      "text/plain": [
       "159"
      ]
     },
     "execution_count": 151,
     "metadata": {},
     "output_type": "execute_result"
    }
   ],
   "source": [
    "digest = h3.digest()\n",
    "bin(digest)\n",
    "len(bin(digest))"
   ]
  },
  {
   "cell_type": "code",
   "execution_count": 152,
   "metadata": {},
   "outputs": [
    {
     "data": {
      "text/plain": [
       "'19516171e89d7822ff153e046fdae742e8fc31c7'"
      ]
     },
     "execution_count": 152,
     "metadata": {},
     "output_type": "execute_result"
    }
   ],
   "source": [
    "h3.hexdigest()"
   ]
  },
  {
   "cell_type": "markdown",
   "metadata": {},
   "source": [
    "### A less stupid check on SHA-1\n",
    "\n",
    "Let try the example from [SHA-1 Wikipedia page](https://en.wikipedia.org/wiki/SHA-1#SHA-1_hashes) :"
   ]
  },
  {
   "cell_type": "code",
   "execution_count": 153,
   "metadata": {},
   "outputs": [
    {
     "data": {
      "text/plain": [
       "'2fd4e1c67a2d28fced849ee1bb76e7391b93eb12'"
      ]
     },
     "execution_count": 153,
     "metadata": {},
     "output_type": "execute_result"
    }
   ],
   "source": [
    "hash_SHA1(\"The quick brown fox jumps over the lazy dog\")\n",
    "assert hash_SHA1(\"The quick brown fox jumps over the lazy dog\") == '2fd4e1c67a2d28fced849ee1bb76e7391b93eb12'"
   ]
  },
  {
   "cell_type": "markdown",
   "metadata": {},
   "source": [
    "Even a small change in the message will (with overwhelming probability) result in a mostly different hash, due to the [**avalanche effect**](https://en.wikipedia.org/wiki/Avalanche_effect). For example, changing one letter in the sentence:"
   ]
  },
  {
   "cell_type": "code",
   "execution_count": 134,
   "metadata": {},
   "outputs": [
    {
     "data": {
      "text/plain": [
       "'de9f2c7fd25e1b3afad3e85a0bd17d9b100db4b3'"
      ]
     },
     "execution_count": 134,
     "metadata": {},
     "output_type": "execute_result"
    }
   ],
   "source": [
    "hash_SHA1(\"The quick brown fox jumps over the lazy cog\")\n",
    "assert hash_SHA1(\"The quick brown fox jumps over the lazy cog\") == 'de9f2c7fd25e1b3afad3e85a0bd17d9b100db4b3'"
   ]
  },
  {
   "cell_type": "markdown",
   "metadata": {},
   "source": [
    "The hash of the zero-length string is:"
   ]
  },
  {
   "cell_type": "code",
   "execution_count": 135,
   "metadata": {},
   "outputs": [
    {
     "data": {
      "text/plain": [
       "'da39a3ee5e6b4b0d3255bfef95601890afd80709'"
      ]
     },
     "execution_count": 135,
     "metadata": {},
     "output_type": "execute_result"
    }
   ],
   "source": [
    "hash_SHA1(\"\")\n",
    "assert hash_SHA1(\"\") == 'da39a3ee5e6b4b0d3255bfef95601890afd80709'"
   ]
  },
  {
   "cell_type": "markdown",
   "metadata": {},
   "source": [
    "$\\implies$ We obtained the same result, OK our function works!"
   ]
  },
  {
   "cell_type": "markdown",
   "metadata": {},
   "source": [
    "### Trying 1000 random examples\n",
    "On a small sentence:"
   ]
  },
  {
   "cell_type": "code",
   "execution_count": 136,
   "metadata": {},
   "outputs": [
    {
     "data": {
      "text/plain": [
       "'1f475bf19d9e7dd6b3714164116392ee1e477ec5'"
      ]
     },
     "execution_count": 136,
     "metadata": {},
     "output_type": "execute_result"
    }
   ],
   "source": [
    "hash_SHA1(\"My name is Zorro !\")"
   ]
  },
  {
   "cell_type": "code",
   "execution_count": 137,
   "metadata": {},
   "outputs": [
    {
     "data": {
      "text/plain": [
       "'1f475bf19d9e7dd6b3714164116392ee1e477ec5'"
      ]
     },
     "execution_count": 137,
     "metadata": {},
     "output_type": "execute_result"
    }
   ],
   "source": [
    "h = hashlib.sha1()\n",
    "h.update(b\"My name is Zorro !\")\n",
    "h.hexdigest()"
   ]
  },
  {
   "cell_type": "markdown",
   "metadata": {},
   "source": [
    "It starts to look good."
   ]
  },
  {
   "cell_type": "code",
   "execution_count": 138,
   "metadata": {
    "collapsed": true
   },
   "outputs": [],
   "source": [
    "def true_hash_SHA1(data):\n",
    "    h = hashlib.sha1()\n",
    "    if isinstance(data, str):\n",
    "        data = bytes(data, encoding='utf8')\n",
    "    h.update(data)\n",
    "    return h.hexdigest()"
   ]
  },
  {
   "cell_type": "markdown",
   "metadata": {},
   "source": [
    "On some random data:"
   ]
  },
  {
   "cell_type": "code",
   "execution_count": 142,
   "metadata": {},
   "outputs": [
    {
     "data": {
      "text/plain": [
       "'QHp8bCRl5F'"
      ]
     },
     "execution_count": 142,
     "metadata": {},
     "output_type": "execute_result"
    }
   ],
   "source": [
    "random_string(10)"
   ]
  },
  {
   "cell_type": "code",
   "execution_count": 143,
   "metadata": {
    "collapsed": true
   },
   "outputs": [],
   "source": [
    "from tqdm import tqdm_notebook as tqdm"
   ]
  },
  {
   "cell_type": "code",
   "execution_count": 144,
   "metadata": {},
   "outputs": [
    {
     "data": {
      "application/vnd.jupyter.widget-view+json": {
       "model_id": "626e2315964b43839561ac14b63637e2"
      }
     },
     "metadata": {},
     "output_type": "display_data"
    },
    {
     "name": "stdout",
     "output_type": "stream",
     "text": [
      "\n",
      "CPU times: user 41.1 s, sys: 64 ms, total: 41.2 s\n",
      "Wall time: 41.3 s\n"
     ]
    }
   ],
   "source": [
    "%%time\n",
    "for _ in tqdm(range(1000)):\n",
    "    x = random_string()\n",
    "    assert hash_SHA1(x) == true_hash_SHA1(x), \"Error: x = {} gave two different SHA1 hashes: my implementation = {} != hashlib implementation = {}...\".format(x, hash_SHA1(x), true_hash_SHA1(x))"
   ]
  },
  {
   "cell_type": "markdown",
   "metadata": {},
   "source": [
    "----\n",
    "## Third real example: the SHA-2 hashing function"
   ]
  },
  {
   "cell_type": "markdown",
   "metadata": {},
   "source": [
    "Let now study and implement a last hashing function, again slightly harder to write but more secure: SHA-2, \"Secure Hash Algorithm, version 2\".\n",
    "See [the SHA1 hashing function](https://en.wikipedia.org/wiki/SHA-2) on Wikipedia, if needed.\n",
    "\n",
    "<center><span style=\"font-size: large; color: green;\">*Remark*: it is not (yet) considered broken, and it is the military standard for security and cryptographic hashing. SHA-3 is preferred for security purposes.</span></center>"
   ]
  },
  {
   "cell_type": "markdown",
   "metadata": {},
   "source": [
    "<center><span style=\"text-decoration: uppercase; font-size: xx-large; color: red;\">FIXME write the SHA-2 part!</span></center>"
   ]
  },
  {
   "cell_type": "markdown",
   "metadata": {},
   "source": [
    "### Useful functions the SHA-2 algorithm"
   ]
  },
  {
   "cell_type": "markdown",
   "metadata": {},
   "source": [
    "Pretty similar to the ones used for the MD5 algorithm."
   ]
  },
  {
   "cell_type": "code",
   "execution_count": 154,
   "metadata": {
    "collapsed": true
   },
   "outputs": [],
   "source": [
    "def SHA2_f1(b, c, d):\n",
    "    \"\"\" First ternary bitwise operation.\"\"\"\n",
    "    return ((b & c) | ((~b) & d)) & 0xFFFFFFFF\n",
    "\n",
    "def SHA2_f2(b, c, d):\n",
    "    \"\"\" Second ternary bitwise operation.\"\"\"\n",
    "    return (b ^ c ^ d) & 0xFFFFFFFF\n",
    "\n",
    "def SHA2_f3(b, c, d):\n",
    "    \"\"\" Third ternary bitwise operation.\"\"\"\n",
    "    return ((b & c) | (b & d) | (c & d) ) & 0xFFFFFFFF\n",
    "\n",
    "def SHA2_f4(b, c, d):\n",
    "    \"\"\" Forth ternary bitwise operation, = SHA2_f1.\"\"\"\n",
    "    return (b ^ c ^ d) & 0xFFFFFFFF"
   ]
  },
  {
   "cell_type": "markdown",
   "metadata": {},
   "source": [
    "This is exactly like for MD5."
   ]
  },
  {
   "cell_type": "code",
   "execution_count": 145,
   "metadata": {
    "collapsed": true
   },
   "outputs": [],
   "source": [
    "def leftrotate(x, c):\n",
    "    \"\"\" Left rotate the number x by c bytes.\"\"\"\n",
    "    x &= 0xFFFFFFFF\n",
    "    return ((x << c) | (x >> (32 - c))) & 0xFFFFFFFF"
   ]
  },
  {
   "cell_type": "markdown",
   "metadata": {},
   "source": [
    "As SHA-2 plays with big-endian and little-endian integers, and at the end it requires a leftshift to combine the 5 hash pieces into one."
   ]
  },
  {
   "cell_type": "code",
   "execution_count": 146,
   "metadata": {
    "collapsed": true
   },
   "outputs": [],
   "source": [
    "def leftshift(x, c):\n",
    "    \"\"\" Left shift the number x by c bytes.\"\"\"\n",
    "    return x << c"
   ]
  },
  {
   "cell_type": "code",
   "execution_count": 32,
   "metadata": {
    "collapsed": true
   },
   "outputs": [],
   "source": [
    "from math import floor, sin"
   ]
  },
  {
   "cell_type": "markdown",
   "metadata": {},
   "source": [
    "### The `SHA2` class\n",
    "\n",
    "I will use a simple class, very similar to the class used for the SHA-1 algorithm (see above).\n",
    "It is a direct implementation of the pseudo-code, as given for instance on the Wikipedia page."
   ]
  },
  {
   "cell_type": "code",
   "execution_count": 156,
   "metadata": {
    "collapsed": true
   },
   "outputs": [],
   "source": [
    "class SHA2(Hash):\n",
    "    \"\"\"SHA2 hashing, see https://en.wikipedia.org/wiki/SHA-2#Pseudocode.\"\"\"\n",
    "    \n",
    "    def __init__(self):\n",
    "        raise ValueError(\"FIXME finish SHA-2 !\")\n",
    "        self.name        = \"SHA2\"\n",
    "        self.block_size  = 64\n",
    "        self.digest_size = 20\n",
    "        # Initialize variables\n",
    "        h0 = 0x67452301\n",
    "        h1 = 0xEFCDAB89\n",
    "        h2 = 0x98BADCFE\n",
    "        h3 = 0x10325476\n",
    "        h4 = 0xC3D2E1F0\n",
    "        # Store them\n",
    "        self.hash_pieces = [h0, h1, h2, h3, h4]\n",
    "    \n",
    "    def update(self, arg):\n",
    "        h0, h1, h2, h3, h4 = self.hash_pieces\n",
    "        # 1. Pre-processing, exactly like MD5\n",
    "        data = bytearray(arg)\n",
    "        orig_len_in_bits = (8 * len(data)) & 0xFFFFFFFFFFFFFFFF\n",
    "        # 1.a. Add a single '1' bit at the end of the input bits\n",
    "        data.append(0x80)\n",
    "        # 1.b. Padding with zeros as long as the input bits length ≡ 448 (mod 512)\n",
    "        while len(data) % 64 != 56:\n",
    "            data.append(0)\n",
    "        # 1.c. append original length in bits mod (2 pow 64) to message\n",
    "        data += orig_len_in_bits.to_bytes(8, byteorder='big')\n",
    "        assert len(data) % 64 == 0, \"Error in padding\"\n",
    "        # 2. Computations\n",
    "        # Process the message in successive 512-bit = 64-bytes chunks:\n",
    "        for offset in range(0, len(data), 64):\n",
    "            # 2.a. 512-bits = 64-bytes chunks\n",
    "            chunks = data[offset : offset + 64]\n",
    "            w = [0 for i in range(80)]\n",
    "            # 2.b. Break chunk into sixteen 32-bit = 4-bytes words w[i], 0 ≤ i ≤ 15\n",
    "            for i in range(16):\n",
    "                w[i] = int.from_bytes(chunks[4*i : 4*i + 4], byteorder='big')\n",
    "            # 2.c. Extend the sixteen 32-bit words into eighty 32-bit words\n",
    "            for i in range(16, 80):\n",
    "                w[i] = leftrotate(w[i-3] ^ w[i-8] ^ w[i-14] ^ w[i-16], 1)\n",
    "            # 2.d. Initialize hash value for this chunk\n",
    "            a, b, c, d, e = h0, h1, h2, h3, h4\n",
    "            # 2.e. Main loop, cf. http://www.faqs.org/rfcs/rfc3174.html\n",
    "            for i in range(80):\n",
    "                if 0 <= i <= 19 :\n",
    "                    f = SHA1_f1(b, c, d)\n",
    "                    k = 0x5A827999\n",
    "                elif 20 <= i <= 39 :\n",
    "                    f = SHA1_f2(b, c, d)\n",
    "                    k = 0x6ED9EBA1\n",
    "                elif 40 <= i <= 59 :\n",
    "                    f = SHA1_f3(b, c, d)\n",
    "                    k = 0x8F1BBCDC\n",
    "                elif 60 <= i <= 79 :\n",
    "                    f = SHA1_f4(b, c, d)\n",
    "                    k = 0xCA62C1D6\n",
    "\n",
    "                new_a = leftrotate(a, 5) + f + e + k + w[i] & 0xFFFFFFFF\n",
    "                new_c = leftrotate(b, 30)\n",
    "                # Rotate the 5 variables\n",
    "                a, b, c, d, e = new_a, a, new_c, c, d\n",
    "\n",
    "            # Add this chunk's hash to result so far:\n",
    "            h0 = (h0 + a) & 0xFFFFFFFF\n",
    "            h1 = (h1 + b) & 0xFFFFFFFF\n",
    "            h2 = (h2 + c) & 0xFFFFFFFF\n",
    "            h3 = (h3 + d) & 0xFFFFFFFF\n",
    "            h4 = (h4 + e) & 0xFFFFFFFF\n",
    "        # 3. Conclusion\n",
    "        self.hash_pieces = [h0, h1, h2, h3, h4]\n",
    "\n",
    "    def digest(self):\n",
    "        # h0, h1, h2, h3, h4 = self.hash_pieces\n",
    "        # return leftshift(h0, 128) | leftshift(h1, 96) | leftshift(h2, 64) | leftshift(h3, 32) | h4\n",
    "        return sum(leftshift(x, 32 * i) for i, x in enumerate(self.hash_pieces[::-1]))\n",
    "\n",
    "    def hexdigest(self):\n",
    "        \"\"\" Like digest() except the digest is returned as a string object of double length, containing only hexadecimal digits. This may be used to exchange the value safely in email or other non-binary environments.\"\"\"\n",
    "        digest = self.digest()\n",
    "        raw = digest.to_bytes(20, byteorder='big')\n",
    "        return '{:040x}'.format(int.from_bytes(raw, byteorder='big'))"
   ]
  },
  {
   "cell_type": "markdown",
   "metadata": {},
   "source": [
    "We can also write a function to directly compute the hex digest from some bytes data."
   ]
  },
  {
   "cell_type": "code",
   "execution_count": 157,
   "metadata": {
    "collapsed": true
   },
   "outputs": [],
   "source": [
    "def hash_SHA2(data):\n",
    "    \"\"\" Shortcut function to directly receive the hex digest from SHA2(data).\"\"\"\n",
    "    h = SHA2()\n",
    "    if isinstance(data, str):\n",
    "        data = bytes(data, encoding='utf8')\n",
    "    h.update(data)\n",
    "    return h.hexdigest()"
   ]
  },
  {
   "cell_type": "markdown",
   "metadata": {},
   "source": [
    "### First check on SHA-2\n",
    "\n",
    "Let us try it:"
   ]
  },
  {
   "cell_type": "code",
   "execution_count": 158,
   "metadata": {},
   "outputs": [
    {
     "ename": "ValueError",
     "evalue": "FIXME finish SHA-2 !",
     "output_type": "error",
     "traceback": [
      "\u001b[0;31m---------------------------------------------------------------------------\u001b[0m",
      "\u001b[0;31mValueError\u001b[0m                                Traceback (most recent call last)",
      "\u001b[0;32m<ipython-input-158-c294a88fd81f>\u001b[0m in \u001b[0;36m<module>\u001b[0;34m()\u001b[0m\n\u001b[0;32m----> 1\u001b[0;31m \u001b[0mh4\u001b[0m \u001b[0;34m=\u001b[0m \u001b[0mSHA2\u001b[0m\u001b[0;34m(\u001b[0m\u001b[0;34m)\u001b[0m\u001b[0;34m\u001b[0m\u001b[0m\n\u001b[0m\u001b[1;32m      2\u001b[0m \u001b[0mh4\u001b[0m\u001b[0;34m\u001b[0m\u001b[0m\n\u001b[1;32m      3\u001b[0m \u001b[0mprint\u001b[0m\u001b[0;34m(\u001b[0m\u001b[0mh4\u001b[0m\u001b[0;34m)\u001b[0m\u001b[0;34m\u001b[0m\u001b[0m\n",
      "\u001b[0;32m<ipython-input-156-13186ec41185>\u001b[0m in \u001b[0;36m__init__\u001b[0;34m(self)\u001b[0m\n\u001b[1;32m      3\u001b[0m \u001b[0;34m\u001b[0m\u001b[0m\n\u001b[1;32m      4\u001b[0m     \u001b[0;32mdef\u001b[0m \u001b[0m__init__\u001b[0m\u001b[0;34m(\u001b[0m\u001b[0mself\u001b[0m\u001b[0;34m)\u001b[0m\u001b[0;34m:\u001b[0m\u001b[0;34m\u001b[0m\u001b[0m\n\u001b[0;32m----> 5\u001b[0;31m         \u001b[0;32mraise\u001b[0m \u001b[0mValueError\u001b[0m\u001b[0;34m(\u001b[0m\u001b[0;34m\"FIXME finish SHA-2 !\"\u001b[0m\u001b[0;34m)\u001b[0m\u001b[0;34m\u001b[0m\u001b[0m\n\u001b[0m\u001b[1;32m      6\u001b[0m         \u001b[0mself\u001b[0m\u001b[0;34m.\u001b[0m\u001b[0mname\u001b[0m        \u001b[0;34m=\u001b[0m \u001b[0;34m\"SHA2\"\u001b[0m\u001b[0;34m\u001b[0m\u001b[0m\n\u001b[1;32m      7\u001b[0m         \u001b[0mself\u001b[0m\u001b[0;34m.\u001b[0m\u001b[0mblock_size\u001b[0m  \u001b[0;34m=\u001b[0m \u001b[0;36m64\u001b[0m\u001b[0;34m\u001b[0m\u001b[0m\n",
      "\u001b[0;31mValueError\u001b[0m: FIXME finish SHA-2 !"
     ]
    }
   ],
   "source": [
    "h4 = SHA2()\n",
    "h4\n",
    "print(h4)"
   ]
  },
  {
   "cell_type": "code",
   "execution_count": 150,
   "metadata": {},
   "outputs": [
    {
     "data": {
      "text/plain": [
       "144539618284518333681008855956641116845695054279"
      ]
     },
     "execution_count": 150,
     "metadata": {},
     "output_type": "execute_result"
    }
   ],
   "source": [
    "h4.update(data)\n",
    "h4.digest()"
   ]
  },
  {
   "cell_type": "code",
   "execution_count": 151,
   "metadata": {},
   "outputs": [
    {
     "data": {
      "text/plain": [
       "'0b1100101010001011000010111000111101000100111010111100000100010111111110001010100111110000001000110111111011010111001110100001011101000111111000011000111000111'"
      ]
     },
     "execution_count": 151,
     "metadata": {},
     "output_type": "execute_result"
    },
    {
     "data": {
      "text/plain": [
       "159"
      ]
     },
     "execution_count": 151,
     "metadata": {},
     "output_type": "execute_result"
    }
   ],
   "source": [
    "digest = h4.digest()\n",
    "bin(digest)\n",
    "len(bin(digest))"
   ]
  },
  {
   "cell_type": "code",
   "execution_count": 152,
   "metadata": {},
   "outputs": [
    {
     "data": {
      "text/plain": [
       "'19516171e89d7822ff153e046fdae742e8fc31c7'"
      ]
     },
     "execution_count": 152,
     "metadata": {},
     "output_type": "execute_result"
    }
   ],
   "source": [
    "h4.hexdigest()"
   ]
  },
  {
   "cell_type": "markdown",
   "metadata": {},
   "source": [
    "### A less stupid check on SHA-2\n",
    "\n",
    "Let try the example from [SHA-2 Wikipedia page](https://en.wikipedia.org/wiki/SHA-2#Test_vectors) :"
   ]
  },
  {
   "cell_type": "code",
   "execution_count": 153,
   "metadata": {},
   "outputs": [
    {
     "data": {
      "text/plain": [
       "'2fd4e1c67a2d28fced849ee1bb76e7391b93eb12'"
      ]
     },
     "execution_count": 153,
     "metadata": {},
     "output_type": "execute_result"
    }
   ],
   "source": [
    "hash_SHA2(\"The quick brown fox jumps over the lazy dog\")\n",
    "assert hash_SHA2(\"The quick brown fox jumps over the lazy dog\") == '2fd4e1c67a2d28fced849ee1bb76e7391b93eb12'"
   ]
  },
  {
   "cell_type": "markdown",
   "metadata": {},
   "source": [
    "Even a small change in the message will (with overwhelming probability) result in a mostly different hash, due to the [**avalanche effect**](https://en.wikipedia.org/wiki/Avalanche_effect). For example, changing one letter in the sentence:"
   ]
  },
  {
   "cell_type": "code",
   "execution_count": 134,
   "metadata": {},
   "outputs": [
    {
     "data": {
      "text/plain": [
       "'de9f2c7fd25e1b3afad3e85a0bd17d9b100db4b3'"
      ]
     },
     "execution_count": 134,
     "metadata": {},
     "output_type": "execute_result"
    }
   ],
   "source": [
    "hash_SHA2(\"The quick brown fox jumps over the lazy cog\")\n",
    "assert hash_SHA2(\"The quick brown fox jumps over the lazy cog\") == 'de9f2c7fd25e1b3afad3e85a0bd17d9b100db4b3'"
   ]
  },
  {
   "cell_type": "markdown",
   "metadata": {},
   "source": [
    "The hash of the zero-length string is:"
   ]
  },
  {
   "cell_type": "code",
   "execution_count": 135,
   "metadata": {},
   "outputs": [
    {
     "data": {
      "text/plain": [
       "'da39a3ee5e6b4b0d3255bfef95601890afd80709'"
      ]
     },
     "execution_count": 135,
     "metadata": {},
     "output_type": "execute_result"
    }
   ],
   "source": [
    "hash_SHA2(\"\")\n",
    "assert hash_SHA2(\"\") == 'da39a3ee5e6b4b0d3255bfef95601890afd80709'"
   ]
  },
  {
   "cell_type": "markdown",
   "metadata": {},
   "source": [
    "$\\implies$ We obtained the same result, OK our function works!"
   ]
  },
  {
   "cell_type": "markdown",
   "metadata": {},
   "source": [
    "### Trying 1000 random examples\n",
    "On a small sentence:"
   ]
  },
  {
   "cell_type": "code",
   "execution_count": 136,
   "metadata": {},
   "outputs": [
    {
     "data": {
      "text/plain": [
       "'1f475bf19d9e7dd6b3714164116392ee1e477ec5'"
      ]
     },
     "execution_count": 136,
     "metadata": {},
     "output_type": "execute_result"
    }
   ],
   "source": [
    "hash_SHA2(\"My name is Zorro !\")"
   ]
  },
  {
   "cell_type": "code",
   "execution_count": 137,
   "metadata": {},
   "outputs": [
    {
     "data": {
      "text/plain": [
       "'1f475bf19d9e7dd6b3714164116392ee1e477ec5'"
      ]
     },
     "execution_count": 137,
     "metadata": {},
     "output_type": "execute_result"
    }
   ],
   "source": [
    "h = hashlib.sha224()\n",
    "h.update(b\"My name is Zorro !\")\n",
    "h.hexdigest()"
   ]
  },
  {
   "cell_type": "markdown",
   "metadata": {},
   "source": [
    "It starts to look good."
   ]
  },
  {
   "cell_type": "code",
   "execution_count": 138,
   "metadata": {
    "collapsed": true
   },
   "outputs": [],
   "source": [
    "def true_hash_SHA2(data):\n",
    "    h = hashlib.sha224()\n",
    "    if isinstance(data, str):\n",
    "        data = bytes(data, encoding='utf8')\n",
    "    h.update(data)\n",
    "    return h.hexdigest()"
   ]
  },
  {
   "cell_type": "markdown",
   "metadata": {},
   "source": [
    "On some random data:"
   ]
  },
  {
   "cell_type": "code",
   "execution_count": 142,
   "metadata": {},
   "outputs": [
    {
     "data": {
      "text/plain": [
       "'QHp8bCRl5F'"
      ]
     },
     "execution_count": 142,
     "metadata": {},
     "output_type": "execute_result"
    }
   ],
   "source": [
    "random_string(10)"
   ]
  },
  {
   "cell_type": "code",
   "execution_count": 143,
   "metadata": {
    "collapsed": true
   },
   "outputs": [],
   "source": [
    "from tqdm import tqdm_notebook as tqdm"
   ]
  },
  {
   "cell_type": "code",
   "execution_count": 144,
   "metadata": {},
   "outputs": [
    {
     "data": {
      "application/vnd.jupyter.widget-view+json": {
       "model_id": "626e2315964b43839561ac14b63637e2"
      }
     },
     "metadata": {},
     "output_type": "display_data"
    },
    {
     "name": "stdout",
     "output_type": "stream",
     "text": [
      "\n",
      "CPU times: user 41.1 s, sys: 64 ms, total: 41.2 s\n",
      "Wall time: 41.3 s\n"
     ]
    }
   ],
   "source": [
    "%%time\n",
    "for _ in tqdm(range(1000)):\n",
    "    x = random_string()\n",
    "    assert hash_SHA2(x) == true_hash_SHA2(x), \"Error: x = {} gave two different SHA2 hashes: my implementation = {} != hashlib implementation = {}...\".format(x, hash_SHA2(x), true_hash_SHA2(x))"
   ]
  },
  {
   "cell_type": "markdown",
   "metadata": {},
   "source": [
    "----\n",
    "## Comparison : MD5 vs SHA-1 vs SHA-2\n",
    "\n",
    "It can be interesting to compare each hash functions, with respect to its time complexity."
   ]
  },
  {
   "cell_type": "code",
   "execution_count": 159,
   "metadata": {},
   "outputs": [
    {
     "name": "stdout",
     "output_type": "stream",
     "text": [
      "30.4 ms ± 1.76 ms per loop (mean ± std. dev. of 7 runs, 10 loops each)\n"
     ]
    }
   ],
   "source": [
    "def test_MD5():\n",
    "    x = random_string()\n",
    "    return hash_MD5(x) == true_hash_MD5(x)\n",
    "\n",
    "%timeit test_MD5()"
   ]
  },
  {
   "cell_type": "code",
   "execution_count": 160,
   "metadata": {},
   "outputs": [
    {
     "name": "stdout",
     "output_type": "stream",
     "text": [
      "38.3 ms ± 2.87 ms per loop (mean ± std. dev. of 7 runs, 10 loops each)\n"
     ]
    }
   ],
   "source": [
    "def test_SHA1():\n",
    "    x = random_string()\n",
    "    return hash_SHA1(x) == true_hash_SHA1(x)\n",
    "\n",
    "%timeit test_SHA1()"
   ]
  },
  {
   "cell_type": "code",
   "execution_count": null,
   "metadata": {
    "collapsed": true
   },
   "outputs": [],
   "source": [
    "def test_SHA2():\n",
    "    x = random_string()\n",
    "    return hash_SHA2(x) == true_hash_SHA2(x)\n",
    "\n",
    "%timeit test_SHA2()"
   ]
  },
  {
   "cell_type": "markdown",
   "metadata": {},
   "source": [
    "----\n",
    "## Conclusion"
   ]
  },
  {
   "cell_type": "markdown",
   "metadata": {},
   "source": [
    "Well, it was fun and interesting to implement these hashing functions, manually.\n",
    "Using [Python](https://www.Python.org) made it easy!\n",
    "\n",
    "[![made-with-jupyter](https://img.shields.io/badge/Made%20for-Jupyter%20notebook-1f425f.svg)](https://www.jupyter.org/)\n",
    "[![GitHub license](https://img.shields.io/github/license/Naereen/notebooks.svg)](https://github.com/Naereen/notebooks/blob/master/LICENSE.txt)\n",
    "[![forthebadge made-with-python](http://ForTheBadge.com/images/badges/made-with-python.svg)](https://www.python.org/) \n",
    "[![ForTheBadge built-with-science](http://ForTheBadge.com/images/badges/built-with-science.svg)](https://GitHub.com/Naereen/)\n",
    "[![ForTheBadge powered-by-electricity](http://ForTheBadge.com/images/badges/powered-by-electricity.svg)](http://ForTheBadge.com)"
   ]
  },
  {
   "cell_type": "markdown",
   "metadata": {},
   "source": [
    "> See [my GitHub `notebooks` project](https://GitHub.com/Naereen/notebooks/) for others notebooks."
   ]
  }
 ],
 "metadata": {
  "kernelspec": {
   "display_name": "Python 3",
   "language": "python",
   "name": "python3"
  },
  "language_info": {
   "codemirror_mode": {
    "name": "ipython",
    "version": 3
   },
   "file_extension": ".py",
   "mimetype": "text/x-python",
   "name": "python",
   "nbconvert_exporter": "python",
   "pygments_lexer": "ipython3",
   "version": "3.5.3"
  },
  "notify_time": "5",
  "toc": {
   "colors": {
    "hover_highlight": "#DAA520",
    "running_highlight": "#FF0000",
    "selected_highlight": "#FFD700"
   },
   "moveMenuLeft": true,
   "nav_menu": {
    "height": "303px",
    "width": "251px"
   },
   "navigate_menu": true,
   "number_sections": true,
   "sideBar": true,
   "threshold": 4,
   "toc_cell": true,
   "toc_position": {
    "height": "552px",
    "left": "0px",
    "right": "1164px",
    "top": "117px",
    "width": "212px"
   },
   "toc_section_display": "block",
   "toc_window_display": true
  }
 },
 "nbformat": 4,
 "nbformat_minor": 2
}
