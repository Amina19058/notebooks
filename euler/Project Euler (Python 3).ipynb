{
 "cells": [
  {
   "cell_type": "markdown",
   "metadata": {},
   "source": [
    "# [Project Euler](https://ProjectEuler.net)\n",
    "[This Python 3 notebook](Project%20Euler%20%28Python%203%29.ipynb) contains *some* solutions for the [Project Euler](https://ProjectEuler.net) challenge.\n",
    "\n",
    "### /!\\ **Warning:** do not spoil yourself the pleasure of solving these problems by yourself!\n",
    "\n",
    "[I (Lilian Besson)](http://perso.crans.org/besson/) started in February 2015, and worked occasionally on Project Euler problems in March and April 2015.\n",
    "I should try to work on it again, hence this notebook...\n",
    "\n",
    "![Badge giving the number of solved problems](https://ProjectEuler.net/profile/Naereen.png?h \"Badge giving the number of solved problems\")"
   ]
  },
  {
   "cell_type": "markdown",
   "metadata": {
    "collapsed": true
   },
   "source": [
    "---\n",
    "## [Problem 12 : Highly divisible triangular number](https://projecteuler.net/problem=12)"
   ]
  },
  {
   "cell_type": "code",
   "execution_count": 1,
   "metadata": {
    "ExecuteTime": {
     "end_time": "2020-10-13T13:23:50.355809Z",
     "start_time": "2020-10-13T13:23:49.916028Z"
    }
   },
   "outputs": [],
   "source": [
    "%load_ext Cython"
   ]
  },
  {
   "cell_type": "code",
   "execution_count": 2,
   "metadata": {
    "ExecuteTime": {
     "end_time": "2020-10-13T13:23:50.813947Z",
     "start_time": "2020-10-13T13:23:50.810013Z"
    }
   },
   "outputs": [],
   "source": [
    "from typing import List"
   ]
  },
  {
   "cell_type": "code",
   "execution_count": 3,
   "metadata": {
    "ExecuteTime": {
     "end_time": "2020-10-13T13:23:51.061823Z",
     "start_time": "2020-10-13T13:23:51.056472Z"
    }
   },
   "outputs": [],
   "source": [
    "def divisors(n: int) -> List[int]:\n",
    "    return [k for k in range(1, n+1) if n%k == 0]"
   ]
  },
  {
   "cell_type": "code",
   "execution_count": 4,
   "metadata": {
    "ExecuteTime": {
     "end_time": "2020-10-13T13:23:51.458315Z",
     "start_time": "2020-10-13T13:23:51.443096Z"
    }
   },
   "outputs": [
    {
     "data": {
      "text/plain": [
       "[1, 2, 4, 7, 14, 28]"
      ]
     },
     "execution_count": 4,
     "metadata": {},
     "output_type": "execute_result"
    }
   ],
   "source": [
    "divisors(28)"
   ]
  },
  {
   "cell_type": "code",
   "execution_count": 6,
   "metadata": {
    "ExecuteTime": {
     "end_time": "2020-10-13T13:23:55.161520Z",
     "start_time": "2020-10-13T13:23:55.152858Z"
    }
   },
   "outputs": [],
   "source": [
    "def number_of_divisors(n: int) -> int:\n",
    "    return len(divisors(n))"
   ]
  },
  {
   "cell_type": "code",
   "execution_count": 7,
   "metadata": {
    "ExecuteTime": {
     "end_time": "2020-10-13T13:23:59.014506Z",
     "start_time": "2020-10-13T13:23:59.010607Z"
    }
   },
   "outputs": [
    {
     "data": {
      "text/plain": [
       "6"
      ]
     },
     "execution_count": 7,
     "metadata": {},
     "output_type": "execute_result"
    }
   ],
   "source": [
    "number_of_divisors(28)"
   ]
  },
  {
   "cell_type": "code",
   "execution_count": 23,
   "metadata": {
    "ExecuteTime": {
     "end_time": "2020-10-13T13:27:47.676815Z",
     "start_time": "2020-10-13T13:27:47.666262Z"
    }
   },
   "outputs": [],
   "source": [
    "def int_sqrt(n: int) -> int:\n",
    "    if n <= 0: return 0\n",
    "    if n == 1: return 1\n",
    "    i = 0\n",
    "    while i*i <= n:\n",
    "        i += 1\n",
    "        if i*i == n: return i\n",
    "    return i-1"
   ]
  },
  {
   "cell_type": "code",
   "execution_count": 24,
   "metadata": {
    "ExecuteTime": {
     "end_time": "2020-10-13T13:27:47.981791Z",
     "start_time": "2020-10-13T13:27:47.907710Z"
    }
   },
   "outputs": [],
   "source": [
    "import math\n",
    "for i in range(10000):\n",
    "    assert int_sqrt(i) == math.floor(math.sqrt(i)), f\"{i}\""
   ]
  },
  {
   "cell_type": "code",
   "execution_count": 25,
   "metadata": {
    "ExecuteTime": {
     "end_time": "2020-10-13T13:27:48.131074Z",
     "start_time": "2020-10-13T13:27:48.127587Z"
    }
   },
   "outputs": [],
   "source": [
    "def number_of_divisors2(n: int) -> int:\n",
    "    c = 0\n",
    "    for k in range(1, n+1):\n",
    "        if n%k == 0:\n",
    "            c += 1\n",
    "    return c"
   ]
  },
  {
   "cell_type": "code",
   "execution_count": 26,
   "metadata": {
    "ExecuteTime": {
     "end_time": "2020-10-13T13:27:48.349530Z",
     "start_time": "2020-10-13T13:27:48.303472Z"
    }
   },
   "outputs": [],
   "source": [
    "for n in range(1000):\n",
    "    assert number_of_divisors(n) == number_of_divisors2(n)"
   ]
  },
  {
   "cell_type": "code",
   "execution_count": 34,
   "metadata": {
    "ExecuteTime": {
     "end_time": "2020-10-13T13:28:54.039244Z",
     "start_time": "2020-10-13T13:28:54.027156Z"
    }
   },
   "outputs": [],
   "source": [
    "def number_of_divisors3(n: int) -> int:\n",
    "    if n <= 0: return 0\n",
    "    if n == 1: return 1\n",
    "    c = 0\n",
    "    for k in range(1, int_sqrt(n)+1):\n",
    "        # print(f\"n = {n}, k = {k}, c = {c}\")\n",
    "        if n%k == 0:\n",
    "            c += 1 if k*k == n else 2\n",
    "    return c"
   ]
  },
  {
   "cell_type": "code",
   "execution_count": 36,
   "metadata": {
    "ExecuteTime": {
     "end_time": "2020-10-13T13:29:30.499386Z",
     "start_time": "2020-10-13T13:29:11.308794Z"
    }
   },
   "outputs": [
    {
     "name": "stdout",
     "output_type": "stream",
     "text": [
      "45.7 ms ± 585 µs per loop (mean ± std. dev. of 7 runs, 10 loops each)\n",
      "52.6 ms ± 1.22 ms per loop (mean ± std. dev. of 7 runs, 10 loops each)\n",
      "138 µs ± 1.49 µs per loop (mean ± std. dev. of 7 runs, 10000 loops each)\n"
     ]
    }
   ],
   "source": [
    "%timeit number_of_divisors(1000000)\n",
    "%timeit number_of_divisors2(1000000)\n",
    "%timeit number_of_divisors3(1000000)"
   ]
  },
  {
   "cell_type": "code",
   "execution_count": 35,
   "metadata": {
    "ExecuteTime": {
     "end_time": "2020-10-13T13:28:54.305768Z",
     "start_time": "2020-10-13T13:28:54.274594Z"
    }
   },
   "outputs": [],
   "source": [
    "for n in range(1000):\n",
    "    assert number_of_divisors(n) == number_of_divisors3(n), f\"{n}\""
   ]
  },
  {
   "cell_type": "code",
   "execution_count": 38,
   "metadata": {
    "ExecuteTime": {
     "end_time": "2020-10-13T13:31:16.830158Z",
     "start_time": "2020-10-13T13:31:16.408378Z"
    }
   },
   "outputs": [
    {
     "data": {
      "text/html": [
       "<!DOCTYPE html>\n",
       "<!-- Generated by Cython 0.29.21 -->\n",
       "<html>\n",
       "<head>\n",
       "    <meta http-equiv=\"Content-Type\" content=\"text/html; charset=utf-8\" />\n",
       "    <title>Cython: _cython_magic_b421ed9aa342829a2e7bf32576065354.pyx</title>\n",
       "    <style type=\"text/css\">\n",
       "    \n",
       "body.cython { font-family: courier; font-size: 12; }\n",
       "\n",
       ".cython.tag  {  }\n",
       ".cython.line { margin: 0em }\n",
       ".cython.code { font-size: 9; color: #444444; display: none; margin: 0px 0px 0px 8px; border-left: 8px none; }\n",
       "\n",
       ".cython.line .run { background-color: #B0FFB0; }\n",
       ".cython.line .mis { background-color: #FFB0B0; }\n",
       ".cython.code.run  { border-left: 8px solid #B0FFB0; }\n",
       ".cython.code.mis  { border-left: 8px solid #FFB0B0; }\n",
       "\n",
       ".cython.code .py_c_api  { color: red; }\n",
       ".cython.code .py_macro_api  { color: #FF7000; }\n",
       ".cython.code .pyx_c_api  { color: #FF3000; }\n",
       ".cython.code .pyx_macro_api  { color: #FF7000; }\n",
       ".cython.code .refnanny  { color: #FFA000; }\n",
       ".cython.code .trace  { color: #FFA000; }\n",
       ".cython.code .error_goto  { color: #FFA000; }\n",
       "\n",
       ".cython.code .coerce  { color: #008000; border: 1px dotted #008000 }\n",
       ".cython.code .py_attr { color: #FF0000; font-weight: bold; }\n",
       ".cython.code .c_attr  { color: #0000FF; }\n",
       ".cython.code .py_call { color: #FF0000; font-weight: bold; }\n",
       ".cython.code .c_call  { color: #0000FF; }\n",
       "\n",
       ".cython.score-0 {background-color: #FFFFff;}\n",
       ".cython.score-1 {background-color: #FFFFe7;}\n",
       ".cython.score-2 {background-color: #FFFFd4;}\n",
       ".cython.score-3 {background-color: #FFFFc4;}\n",
       ".cython.score-4 {background-color: #FFFFb6;}\n",
       ".cython.score-5 {background-color: #FFFFaa;}\n",
       ".cython.score-6 {background-color: #FFFF9f;}\n",
       ".cython.score-7 {background-color: #FFFF96;}\n",
       ".cython.score-8 {background-color: #FFFF8d;}\n",
       ".cython.score-9 {background-color: #FFFF86;}\n",
       ".cython.score-10 {background-color: #FFFF7f;}\n",
       ".cython.score-11 {background-color: #FFFF79;}\n",
       ".cython.score-12 {background-color: #FFFF73;}\n",
       ".cython.score-13 {background-color: #FFFF6e;}\n",
       ".cython.score-14 {background-color: #FFFF6a;}\n",
       ".cython.score-15 {background-color: #FFFF66;}\n",
       ".cython.score-16 {background-color: #FFFF62;}\n",
       ".cython.score-17 {background-color: #FFFF5e;}\n",
       ".cython.score-18 {background-color: #FFFF5b;}\n",
       ".cython.score-19 {background-color: #FFFF57;}\n",
       ".cython.score-20 {background-color: #FFFF55;}\n",
       ".cython.score-21 {background-color: #FFFF52;}\n",
       ".cython.score-22 {background-color: #FFFF4f;}\n",
       ".cython.score-23 {background-color: #FFFF4d;}\n",
       ".cython.score-24 {background-color: #FFFF4b;}\n",
       ".cython.score-25 {background-color: #FFFF48;}\n",
       ".cython.score-26 {background-color: #FFFF46;}\n",
       ".cython.score-27 {background-color: #FFFF44;}\n",
       ".cython.score-28 {background-color: #FFFF43;}\n",
       ".cython.score-29 {background-color: #FFFF41;}\n",
       ".cython.score-30 {background-color: #FFFF3f;}\n",
       ".cython.score-31 {background-color: #FFFF3e;}\n",
       ".cython.score-32 {background-color: #FFFF3c;}\n",
       ".cython.score-33 {background-color: #FFFF3b;}\n",
       ".cython.score-34 {background-color: #FFFF39;}\n",
       ".cython.score-35 {background-color: #FFFF38;}\n",
       ".cython.score-36 {background-color: #FFFF37;}\n",
       ".cython.score-37 {background-color: #FFFF36;}\n",
       ".cython.score-38 {background-color: #FFFF35;}\n",
       ".cython.score-39 {background-color: #FFFF34;}\n",
       ".cython.score-40 {background-color: #FFFF33;}\n",
       ".cython.score-41 {background-color: #FFFF32;}\n",
       ".cython.score-42 {background-color: #FFFF31;}\n",
       ".cython.score-43 {background-color: #FFFF30;}\n",
       ".cython.score-44 {background-color: #FFFF2f;}\n",
       ".cython.score-45 {background-color: #FFFF2e;}\n",
       ".cython.score-46 {background-color: #FFFF2d;}\n",
       ".cython.score-47 {background-color: #FFFF2c;}\n",
       ".cython.score-48 {background-color: #FFFF2b;}\n",
       ".cython.score-49 {background-color: #FFFF2b;}\n",
       ".cython.score-50 {background-color: #FFFF2a;}\n",
       ".cython.score-51 {background-color: #FFFF29;}\n",
       ".cython.score-52 {background-color: #FFFF29;}\n",
       ".cython.score-53 {background-color: #FFFF28;}\n",
       ".cython.score-54 {background-color: #FFFF27;}\n",
       ".cython.score-55 {background-color: #FFFF27;}\n",
       ".cython.score-56 {background-color: #FFFF26;}\n",
       ".cython.score-57 {background-color: #FFFF26;}\n",
       ".cython.score-58 {background-color: #FFFF25;}\n",
       ".cython.score-59 {background-color: #FFFF24;}\n",
       ".cython.score-60 {background-color: #FFFF24;}\n",
       ".cython.score-61 {background-color: #FFFF23;}\n",
       ".cython.score-62 {background-color: #FFFF23;}\n",
       ".cython.score-63 {background-color: #FFFF22;}\n",
       ".cython.score-64 {background-color: #FFFF22;}\n",
       ".cython.score-65 {background-color: #FFFF22;}\n",
       ".cython.score-66 {background-color: #FFFF21;}\n",
       ".cython.score-67 {background-color: #FFFF21;}\n",
       ".cython.score-68 {background-color: #FFFF20;}\n",
       ".cython.score-69 {background-color: #FFFF20;}\n",
       ".cython.score-70 {background-color: #FFFF1f;}\n",
       ".cython.score-71 {background-color: #FFFF1f;}\n",
       ".cython.score-72 {background-color: #FFFF1f;}\n",
       ".cython.score-73 {background-color: #FFFF1e;}\n",
       ".cython.score-74 {background-color: #FFFF1e;}\n",
       ".cython.score-75 {background-color: #FFFF1e;}\n",
       ".cython.score-76 {background-color: #FFFF1d;}\n",
       ".cython.score-77 {background-color: #FFFF1d;}\n",
       ".cython.score-78 {background-color: #FFFF1c;}\n",
       ".cython.score-79 {background-color: #FFFF1c;}\n",
       ".cython.score-80 {background-color: #FFFF1c;}\n",
       ".cython.score-81 {background-color: #FFFF1c;}\n",
       ".cython.score-82 {background-color: #FFFF1b;}\n",
       ".cython.score-83 {background-color: #FFFF1b;}\n",
       ".cython.score-84 {background-color: #FFFF1b;}\n",
       ".cython.score-85 {background-color: #FFFF1a;}\n",
       ".cython.score-86 {background-color: #FFFF1a;}\n",
       ".cython.score-87 {background-color: #FFFF1a;}\n",
       ".cython.score-88 {background-color: #FFFF1a;}\n",
       ".cython.score-89 {background-color: #FFFF19;}\n",
       ".cython.score-90 {background-color: #FFFF19;}\n",
       ".cython.score-91 {background-color: #FFFF19;}\n",
       ".cython.score-92 {background-color: #FFFF19;}\n",
       ".cython.score-93 {background-color: #FFFF18;}\n",
       ".cython.score-94 {background-color: #FFFF18;}\n",
       ".cython.score-95 {background-color: #FFFF18;}\n",
       ".cython.score-96 {background-color: #FFFF18;}\n",
       ".cython.score-97 {background-color: #FFFF17;}\n",
       ".cython.score-98 {background-color: #FFFF17;}\n",
       ".cython.score-99 {background-color: #FFFF17;}\n",
       ".cython.score-100 {background-color: #FFFF17;}\n",
       ".cython.score-101 {background-color: #FFFF16;}\n",
       ".cython.score-102 {background-color: #FFFF16;}\n",
       ".cython.score-103 {background-color: #FFFF16;}\n",
       ".cython.score-104 {background-color: #FFFF16;}\n",
       ".cython.score-105 {background-color: #FFFF16;}\n",
       ".cython.score-106 {background-color: #FFFF15;}\n",
       ".cython.score-107 {background-color: #FFFF15;}\n",
       ".cython.score-108 {background-color: #FFFF15;}\n",
       ".cython.score-109 {background-color: #FFFF15;}\n",
       ".cython.score-110 {background-color: #FFFF15;}\n",
       ".cython.score-111 {background-color: #FFFF15;}\n",
       ".cython.score-112 {background-color: #FFFF14;}\n",
       ".cython.score-113 {background-color: #FFFF14;}\n",
       ".cython.score-114 {background-color: #FFFF14;}\n",
       ".cython.score-115 {background-color: #FFFF14;}\n",
       ".cython.score-116 {background-color: #FFFF14;}\n",
       ".cython.score-117 {background-color: #FFFF14;}\n",
       ".cython.score-118 {background-color: #FFFF13;}\n",
       ".cython.score-119 {background-color: #FFFF13;}\n",
       ".cython.score-120 {background-color: #FFFF13;}\n",
       ".cython.score-121 {background-color: #FFFF13;}\n",
       ".cython.score-122 {background-color: #FFFF13;}\n",
       ".cython.score-123 {background-color: #FFFF13;}\n",
       ".cython.score-124 {background-color: #FFFF13;}\n",
       ".cython.score-125 {background-color: #FFFF12;}\n",
       ".cython.score-126 {background-color: #FFFF12;}\n",
       ".cython.score-127 {background-color: #FFFF12;}\n",
       ".cython.score-128 {background-color: #FFFF12;}\n",
       ".cython.score-129 {background-color: #FFFF12;}\n",
       ".cython.score-130 {background-color: #FFFF12;}\n",
       ".cython.score-131 {background-color: #FFFF12;}\n",
       ".cython.score-132 {background-color: #FFFF11;}\n",
       ".cython.score-133 {background-color: #FFFF11;}\n",
       ".cython.score-134 {background-color: #FFFF11;}\n",
       ".cython.score-135 {background-color: #FFFF11;}\n",
       ".cython.score-136 {background-color: #FFFF11;}\n",
       ".cython.score-137 {background-color: #FFFF11;}\n",
       ".cython.score-138 {background-color: #FFFF11;}\n",
       ".cython.score-139 {background-color: #FFFF11;}\n",
       ".cython.score-140 {background-color: #FFFF11;}\n",
       ".cython.score-141 {background-color: #FFFF10;}\n",
       ".cython.score-142 {background-color: #FFFF10;}\n",
       ".cython.score-143 {background-color: #FFFF10;}\n",
       ".cython.score-144 {background-color: #FFFF10;}\n",
       ".cython.score-145 {background-color: #FFFF10;}\n",
       ".cython.score-146 {background-color: #FFFF10;}\n",
       ".cython.score-147 {background-color: #FFFF10;}\n",
       ".cython.score-148 {background-color: #FFFF10;}\n",
       ".cython.score-149 {background-color: #FFFF10;}\n",
       ".cython.score-150 {background-color: #FFFF0f;}\n",
       ".cython.score-151 {background-color: #FFFF0f;}\n",
       ".cython.score-152 {background-color: #FFFF0f;}\n",
       ".cython.score-153 {background-color: #FFFF0f;}\n",
       ".cython.score-154 {background-color: #FFFF0f;}\n",
       ".cython.score-155 {background-color: #FFFF0f;}\n",
       ".cython.score-156 {background-color: #FFFF0f;}\n",
       ".cython.score-157 {background-color: #FFFF0f;}\n",
       ".cython.score-158 {background-color: #FFFF0f;}\n",
       ".cython.score-159 {background-color: #FFFF0f;}\n",
       ".cython.score-160 {background-color: #FFFF0f;}\n",
       ".cython.score-161 {background-color: #FFFF0e;}\n",
       ".cython.score-162 {background-color: #FFFF0e;}\n",
       ".cython.score-163 {background-color: #FFFF0e;}\n",
       ".cython.score-164 {background-color: #FFFF0e;}\n",
       ".cython.score-165 {background-color: #FFFF0e;}\n",
       ".cython.score-166 {background-color: #FFFF0e;}\n",
       ".cython.score-167 {background-color: #FFFF0e;}\n",
       ".cython.score-168 {background-color: #FFFF0e;}\n",
       ".cython.score-169 {background-color: #FFFF0e;}\n",
       ".cython.score-170 {background-color: #FFFF0e;}\n",
       ".cython.score-171 {background-color: #FFFF0e;}\n",
       ".cython.score-172 {background-color: #FFFF0e;}\n",
       ".cython.score-173 {background-color: #FFFF0d;}\n",
       ".cython.score-174 {background-color: #FFFF0d;}\n",
       ".cython.score-175 {background-color: #FFFF0d;}\n",
       ".cython.score-176 {background-color: #FFFF0d;}\n",
       ".cython.score-177 {background-color: #FFFF0d;}\n",
       ".cython.score-178 {background-color: #FFFF0d;}\n",
       ".cython.score-179 {background-color: #FFFF0d;}\n",
       ".cython.score-180 {background-color: #FFFF0d;}\n",
       ".cython.score-181 {background-color: #FFFF0d;}\n",
       ".cython.score-182 {background-color: #FFFF0d;}\n",
       ".cython.score-183 {background-color: #FFFF0d;}\n",
       ".cython.score-184 {background-color: #FFFF0d;}\n",
       ".cython.score-185 {background-color: #FFFF0d;}\n",
       ".cython.score-186 {background-color: #FFFF0d;}\n",
       ".cython.score-187 {background-color: #FFFF0c;}\n",
       ".cython.score-188 {background-color: #FFFF0c;}\n",
       ".cython.score-189 {background-color: #FFFF0c;}\n",
       ".cython.score-190 {background-color: #FFFF0c;}\n",
       ".cython.score-191 {background-color: #FFFF0c;}\n",
       ".cython.score-192 {background-color: #FFFF0c;}\n",
       ".cython.score-193 {background-color: #FFFF0c;}\n",
       ".cython.score-194 {background-color: #FFFF0c;}\n",
       ".cython.score-195 {background-color: #FFFF0c;}\n",
       ".cython.score-196 {background-color: #FFFF0c;}\n",
       ".cython.score-197 {background-color: #FFFF0c;}\n",
       ".cython.score-198 {background-color: #FFFF0c;}\n",
       ".cython.score-199 {background-color: #FFFF0c;}\n",
       ".cython.score-200 {background-color: #FFFF0c;}\n",
       ".cython.score-201 {background-color: #FFFF0c;}\n",
       ".cython.score-202 {background-color: #FFFF0c;}\n",
       ".cython.score-203 {background-color: #FFFF0b;}\n",
       ".cython.score-204 {background-color: #FFFF0b;}\n",
       ".cython.score-205 {background-color: #FFFF0b;}\n",
       ".cython.score-206 {background-color: #FFFF0b;}\n",
       ".cython.score-207 {background-color: #FFFF0b;}\n",
       ".cython.score-208 {background-color: #FFFF0b;}\n",
       ".cython.score-209 {background-color: #FFFF0b;}\n",
       ".cython.score-210 {background-color: #FFFF0b;}\n",
       ".cython.score-211 {background-color: #FFFF0b;}\n",
       ".cython.score-212 {background-color: #FFFF0b;}\n",
       ".cython.score-213 {background-color: #FFFF0b;}\n",
       ".cython.score-214 {background-color: #FFFF0b;}\n",
       ".cython.score-215 {background-color: #FFFF0b;}\n",
       ".cython.score-216 {background-color: #FFFF0b;}\n",
       ".cython.score-217 {background-color: #FFFF0b;}\n",
       ".cython.score-218 {background-color: #FFFF0b;}\n",
       ".cython.score-219 {background-color: #FFFF0b;}\n",
       ".cython.score-220 {background-color: #FFFF0b;}\n",
       ".cython.score-221 {background-color: #FFFF0b;}\n",
       ".cython.score-222 {background-color: #FFFF0a;}\n",
       ".cython.score-223 {background-color: #FFFF0a;}\n",
       ".cython.score-224 {background-color: #FFFF0a;}\n",
       ".cython.score-225 {background-color: #FFFF0a;}\n",
       ".cython.score-226 {background-color: #FFFF0a;}\n",
       ".cython.score-227 {background-color: #FFFF0a;}\n",
       ".cython.score-228 {background-color: #FFFF0a;}\n",
       ".cython.score-229 {background-color: #FFFF0a;}\n",
       ".cython.score-230 {background-color: #FFFF0a;}\n",
       ".cython.score-231 {background-color: #FFFF0a;}\n",
       ".cython.score-232 {background-color: #FFFF0a;}\n",
       ".cython.score-233 {background-color: #FFFF0a;}\n",
       ".cython.score-234 {background-color: #FFFF0a;}\n",
       ".cython.score-235 {background-color: #FFFF0a;}\n",
       ".cython.score-236 {background-color: #FFFF0a;}\n",
       ".cython.score-237 {background-color: #FFFF0a;}\n",
       ".cython.score-238 {background-color: #FFFF0a;}\n",
       ".cython.score-239 {background-color: #FFFF0a;}\n",
       ".cython.score-240 {background-color: #FFFF0a;}\n",
       ".cython.score-241 {background-color: #FFFF0a;}\n",
       ".cython.score-242 {background-color: #FFFF0a;}\n",
       ".cython.score-243 {background-color: #FFFF0a;}\n",
       ".cython.score-244 {background-color: #FFFF0a;}\n",
       ".cython.score-245 {background-color: #FFFF0a;}\n",
       ".cython.score-246 {background-color: #FFFF09;}\n",
       ".cython.score-247 {background-color: #FFFF09;}\n",
       ".cython.score-248 {background-color: #FFFF09;}\n",
       ".cython.score-249 {background-color: #FFFF09;}\n",
       ".cython.score-250 {background-color: #FFFF09;}\n",
       ".cython.score-251 {background-color: #FFFF09;}\n",
       ".cython.score-252 {background-color: #FFFF09;}\n",
       ".cython.score-253 {background-color: #FFFF09;}\n",
       ".cython.score-254 {background-color: #FFFF09;}\n",
       "pre { line-height: 125%; margin: 0; }\n",
       "td.linenos pre { color: #000000; background-color: #f0f0f0; padding: 0 5px 0 5px; }\n",
       "span.linenos { color: #000000; background-color: #f0f0f0; padding: 0 5px 0 5px; }\n",
       "td.linenos pre.special { color: #000000; background-color: #ffffc0; padding: 0 5px 0 5px; }\n",
       "span.linenos.special { color: #000000; background-color: #ffffc0; padding: 0 5px 0 5px; }\n",
       ".cython .hll { background-color: #ffffcc }\n",
       ".cython { background: #f8f8f8; }\n",
       ".cython .c { color: #408080; font-style: italic } /* Comment */\n",
       ".cython .err { border: 1px solid #FF0000 } /* Error */\n",
       ".cython .k { color: #008000; font-weight: bold } /* Keyword */\n",
       ".cython .o { color: #666666 } /* Operator */\n",
       ".cython .ch { color: #408080; font-style: italic } /* Comment.Hashbang */\n",
       ".cython .cm { color: #408080; font-style: italic } /* Comment.Multiline */\n",
       ".cython .cp { color: #BC7A00 } /* Comment.Preproc */\n",
       ".cython .cpf { color: #408080; font-style: italic } /* Comment.PreprocFile */\n",
       ".cython .c1 { color: #408080; font-style: italic } /* Comment.Single */\n",
       ".cython .cs { color: #408080; font-style: italic } /* Comment.Special */\n",
       ".cython .gd { color: #A00000 } /* Generic.Deleted */\n",
       ".cython .ge { font-style: italic } /* Generic.Emph */\n",
       ".cython .gr { color: #FF0000 } /* Generic.Error */\n",
       ".cython .gh { color: #000080; font-weight: bold } /* Generic.Heading */\n",
       ".cython .gi { color: #00A000 } /* Generic.Inserted */\n",
       ".cython .go { color: #888888 } /* Generic.Output */\n",
       ".cython .gp { color: #000080; font-weight: bold } /* Generic.Prompt */\n",
       ".cython .gs { font-weight: bold } /* Generic.Strong */\n",
       ".cython .gu { color: #800080; font-weight: bold } /* Generic.Subheading */\n",
       ".cython .gt { color: #0044DD } /* Generic.Traceback */\n",
       ".cython .kc { color: #008000; font-weight: bold } /* Keyword.Constant */\n",
       ".cython .kd { color: #008000; font-weight: bold } /* Keyword.Declaration */\n",
       ".cython .kn { color: #008000; font-weight: bold } /* Keyword.Namespace */\n",
       ".cython .kp { color: #008000 } /* Keyword.Pseudo */\n",
       ".cython .kr { color: #008000; font-weight: bold } /* Keyword.Reserved */\n",
       ".cython .kt { color: #B00040 } /* Keyword.Type */\n",
       ".cython .m { color: #666666 } /* Literal.Number */\n",
       ".cython .s { color: #BA2121 } /* Literal.String */\n",
       ".cython .na { color: #7D9029 } /* Name.Attribute */\n",
       ".cython .nb { color: #008000 } /* Name.Builtin */\n",
       ".cython .nc { color: #0000FF; font-weight: bold } /* Name.Class */\n",
       ".cython .no { color: #880000 } /* Name.Constant */\n",
       ".cython .nd { color: #AA22FF } /* Name.Decorator */\n",
       ".cython .ni { color: #999999; font-weight: bold } /* Name.Entity */\n",
       ".cython .ne { color: #D2413A; font-weight: bold } /* Name.Exception */\n",
       ".cython .nf { color: #0000FF } /* Name.Function */\n",
       ".cython .nl { color: #A0A000 } /* Name.Label */\n",
       ".cython .nn { color: #0000FF; font-weight: bold } /* Name.Namespace */\n",
       ".cython .nt { color: #008000; font-weight: bold } /* Name.Tag */\n",
       ".cython .nv { color: #19177C } /* Name.Variable */\n",
       ".cython .ow { color: #AA22FF; font-weight: bold } /* Operator.Word */\n",
       ".cython .w { color: #bbbbbb } /* Text.Whitespace */\n",
       ".cython .mb { color: #666666 } /* Literal.Number.Bin */\n",
       ".cython .mf { color: #666666 } /* Literal.Number.Float */\n",
       ".cython .mh { color: #666666 } /* Literal.Number.Hex */\n",
       ".cython .mi { color: #666666 } /* Literal.Number.Integer */\n",
       ".cython .mo { color: #666666 } /* Literal.Number.Oct */\n",
       ".cython .sa { color: #BA2121 } /* Literal.String.Affix */\n",
       ".cython .sb { color: #BA2121 } /* Literal.String.Backtick */\n",
       ".cython .sc { color: #BA2121 } /* Literal.String.Char */\n",
       ".cython .dl { color: #BA2121 } /* Literal.String.Delimiter */\n",
       ".cython .sd { color: #BA2121; font-style: italic } /* Literal.String.Doc */\n",
       ".cython .s2 { color: #BA2121 } /* Literal.String.Double */\n",
       ".cython .se { color: #BB6622; font-weight: bold } /* Literal.String.Escape */\n",
       ".cython .sh { color: #BA2121 } /* Literal.String.Heredoc */\n",
       ".cython .si { color: #BB6688; font-weight: bold } /* Literal.String.Interpol */\n",
       ".cython .sx { color: #008000 } /* Literal.String.Other */\n",
       ".cython .sr { color: #BB6688 } /* Literal.String.Regex */\n",
       ".cython .s1 { color: #BA2121 } /* Literal.String.Single */\n",
       ".cython .ss { color: #19177C } /* Literal.String.Symbol */\n",
       ".cython .bp { color: #008000 } /* Name.Builtin.Pseudo */\n",
       ".cython .fm { color: #0000FF } /* Name.Function.Magic */\n",
       ".cython .vc { color: #19177C } /* Name.Variable.Class */\n",
       ".cython .vg { color: #19177C } /* Name.Variable.Global */\n",
       ".cython .vi { color: #19177C } /* Name.Variable.Instance */\n",
       ".cython .vm { color: #19177C } /* Name.Variable.Magic */\n",
       ".cython .il { color: #666666 } /* Literal.Number.Integer.Long */\n",
       "    </style>\n",
       "</head>\n",
       "<body class=\"cython\">\n",
       "<p><span style=\"border-bottom: solid 1px grey;\">Generated by Cython 0.29.21</span></p>\n",
       "<p>\n",
       "    <span style=\"background-color: #FFFF00\">Yellow lines</span> hint at Python interaction.<br />\n",
       "    Click on a line that starts with a \"<code>+</code>\" to see the C code that Cython generated for it.\n",
       "</p>\n",
       "<div class=\"cython\"><pre class=\"cython line score-0\">&#xA0;<span class=\"\">01</span>: </pre>\n",
       "<pre class=\"cython line score-0\" onclick=\"(function(s){s.display=s.display==='block'?'none':'block'})(this.nextElementSibling.style)\">+<span class=\"\">02</span>: <span class=\"k\">cdef</span> <span class=\"kt\">int</span> <span class=\"nf\">int_sqrt</span><span class=\"p\">(</span><span class=\"nb\">int</span> <span class=\"n\">n</span><span class=\"p\">):</span></pre>\n",
       "<pre class='cython code score-0 '>static int __pyx_f_46_cython_magic_b421ed9aa342829a2e7bf32576065354_int_sqrt(int __pyx_v_n) {\n",
       "  int __pyx_v_i;\n",
       "  int __pyx_r;\n",
       "  <span class='refnanny'>__Pyx_RefNannyDeclarations</span>\n",
       "  <span class='refnanny'>__Pyx_RefNannySetupContext</span>(\"int_sqrt\", 0);\n",
       "/* … */\n",
       "  /* function exit code */\n",
       "  __pyx_L0:;\n",
       "  <span class='refnanny'>__Pyx_RefNannyFinishContext</span>();\n",
       "  return __pyx_r;\n",
       "}\n",
       "</pre><pre class=\"cython line score-0\" onclick=\"(function(s){s.display=s.display==='block'?'none':'block'})(this.nextElementSibling.style)\">+<span class=\"\">03</span>:     <span class=\"k\">if</span> <span class=\"n\">n</span> <span class=\"o\">&lt;=</span> <span class=\"mf\">0</span><span class=\"p\">:</span> <span class=\"k\">return</span> <span class=\"mf\">0</span></pre>\n",
       "<pre class='cython code score-0 '>  __pyx_t_1 = ((__pyx_v_n &lt;= 0) != 0);\n",
       "  if (__pyx_t_1) {\n",
       "    __pyx_r = 0;\n",
       "    goto __pyx_L0;\n",
       "  }\n",
       "</pre><pre class=\"cython line score-0\" onclick=\"(function(s){s.display=s.display==='block'?'none':'block'})(this.nextElementSibling.style)\">+<span class=\"\">04</span>:     <span class=\"k\">elif</span> <span class=\"n\">n</span> <span class=\"o\">==</span> <span class=\"mf\">1</span><span class=\"p\">:</span> <span class=\"k\">return</span> <span class=\"mf\">1</span></pre>\n",
       "<pre class='cython code score-0 '>  __pyx_t_1 = ((__pyx_v_n == 1) != 0);\n",
       "  if (__pyx_t_1) {\n",
       "    __pyx_r = 1;\n",
       "    goto __pyx_L0;\n",
       "  }\n",
       "</pre><pre class=\"cython line score-0\" onclick=\"(function(s){s.display=s.display==='block'?'none':'block'})(this.nextElementSibling.style)\">+<span class=\"\">05</span>:     <span class=\"k\">cdef</span> <span class=\"kt\">int</span> <span class=\"nf\">i</span> <span class=\"o\">=</span> <span class=\"mf\">0</span></pre>\n",
       "<pre class='cython code score-0 '>  __pyx_v_i = 0;\n",
       "</pre><pre class=\"cython line score-0\" onclick=\"(function(s){s.display=s.display==='block'?'none':'block'})(this.nextElementSibling.style)\">+<span class=\"\">06</span>:     <span class=\"k\">while</span> <span class=\"n\">i</span><span class=\"o\">*</span><span class=\"n\">i</span> <span class=\"o\">&lt;=</span> <span class=\"n\">n</span><span class=\"p\">:</span></pre>\n",
       "<pre class='cython code score-0 '>  while (1) {\n",
       "    __pyx_t_1 = (((__pyx_v_i * __pyx_v_i) &lt;= __pyx_v_n) != 0);\n",
       "    if (!__pyx_t_1) break;\n",
       "</pre><pre class=\"cython line score-0\" onclick=\"(function(s){s.display=s.display==='block'?'none':'block'})(this.nextElementSibling.style)\">+<span class=\"\">07</span>:         <span class=\"n\">i</span> <span class=\"o\">+=</span> <span class=\"mf\">1</span></pre>\n",
       "<pre class='cython code score-0 '>    __pyx_v_i = (__pyx_v_i + 1);\n",
       "</pre><pre class=\"cython line score-0\" onclick=\"(function(s){s.display=s.display==='block'?'none':'block'})(this.nextElementSibling.style)\">+<span class=\"\">08</span>:         <span class=\"k\">if</span> <span class=\"n\">i</span><span class=\"o\">*</span><span class=\"n\">i</span> <span class=\"o\">==</span> <span class=\"n\">n</span><span class=\"p\">:</span> <span class=\"k\">return</span> <span class=\"n\">i</span></pre>\n",
       "<pre class='cython code score-0 '>    __pyx_t_1 = (((__pyx_v_i * __pyx_v_i) == __pyx_v_n) != 0);\n",
       "    if (__pyx_t_1) {\n",
       "      __pyx_r = __pyx_v_i;\n",
       "      goto __pyx_L0;\n",
       "    }\n",
       "  }\n",
       "</pre><pre class=\"cython line score-0\" onclick=\"(function(s){s.display=s.display==='block'?'none':'block'})(this.nextElementSibling.style)\">+<span class=\"\">09</span>:     <span class=\"k\">return</span> <span class=\"n\">i</span><span class=\"o\">-</span><span class=\"mf\">1</span></pre>\n",
       "<pre class='cython code score-0 '>  __pyx_r = (__pyx_v_i - 1);\n",
       "  goto __pyx_L0;\n",
       "</pre><pre class=\"cython line score-0\">&#xA0;<span class=\"\">10</span>: </pre>\n",
       "<pre class=\"cython line score-7\" onclick=\"(function(s){s.display=s.display==='block'?'none':'block'})(this.nextElementSibling.style)\">+<span class=\"\">11</span>: <span class=\"k\">cdef</span> <span class=\"kt\">int</span> <span class=\"nf\">number_of_divisors</span><span class=\"p\">(</span><span class=\"nb\">int</span> <span class=\"n\">n</span><span class=\"p\">):</span></pre>\n",
       "<pre class='cython code score-7 '>static int __pyx_f_46_cython_magic_b421ed9aa342829a2e7bf32576065354_number_of_divisors(int __pyx_v_n) {\n",
       "  int __pyx_v_c;\n",
       "  PyObject *__pyx_v_k = NULL;\n",
       "  int __pyx_r;\n",
       "  <span class='refnanny'>__Pyx_RefNannyDeclarations</span>\n",
       "  <span class='refnanny'>__Pyx_RefNannySetupContext</span>(\"number_of_divisors\", 0);\n",
       "/* … */\n",
       "  /* function exit code */\n",
       "  __pyx_L1_error:;\n",
       "  <span class='pyx_macro_api'>__Pyx_XDECREF</span>(__pyx_t_2);\n",
       "  <span class='pyx_macro_api'>__Pyx_XDECREF</span>(__pyx_t_3);\n",
       "  <span class='pyx_macro_api'>__Pyx_XDECREF</span>(__pyx_t_6);\n",
       "  <span class='pyx_macro_api'>__Pyx_XDECREF</span>(__pyx_t_8);\n",
       "  <span class='pyx_c_api'>__Pyx_WriteUnraisable</span>(\"_cython_magic_b421ed9aa342829a2e7bf32576065354.number_of_divisors\", __pyx_clineno, __pyx_lineno, __pyx_filename, 1, 0);\n",
       "  __pyx_r = 0;\n",
       "  __pyx_L0:;\n",
       "  <span class='pyx_macro_api'>__Pyx_XDECREF</span>(__pyx_v_k);\n",
       "  <span class='refnanny'>__Pyx_RefNannyFinishContext</span>();\n",
       "  return __pyx_r;\n",
       "}\n",
       "</pre><pre class=\"cython line score-0\" onclick=\"(function(s){s.display=s.display==='block'?'none':'block'})(this.nextElementSibling.style)\">+<span class=\"\">12</span>:     <span class=\"k\">if</span> <span class=\"n\">n</span> <span class=\"o\">&lt;=</span> <span class=\"mf\">0</span><span class=\"p\">:</span> <span class=\"k\">return</span> <span class=\"mf\">0</span></pre>\n",
       "<pre class='cython code score-0 '>  __pyx_t_1 = ((__pyx_v_n &lt;= 0) != 0);\n",
       "  if (__pyx_t_1) {\n",
       "    __pyx_r = 0;\n",
       "    goto __pyx_L0;\n",
       "  }\n",
       "</pre><pre class=\"cython line score-0\" onclick=\"(function(s){s.display=s.display==='block'?'none':'block'})(this.nextElementSibling.style)\">+<span class=\"\">13</span>:     <span class=\"k\">elif</span> <span class=\"n\">n</span> <span class=\"o\">==</span> <span class=\"mf\">1</span><span class=\"p\">:</span> <span class=\"k\">return</span> <span class=\"mf\">1</span></pre>\n",
       "<pre class='cython code score-0 '>  __pyx_t_1 = ((__pyx_v_n == 1) != 0);\n",
       "  if (__pyx_t_1) {\n",
       "    __pyx_r = 1;\n",
       "    goto __pyx_L0;\n",
       "  }\n",
       "</pre><pre class=\"cython line score-0\" onclick=\"(function(s){s.display=s.display==='block'?'none':'block'})(this.nextElementSibling.style)\">+<span class=\"\">14</span>:     <span class=\"k\">cdef</span> <span class=\"kt\">int</span> <span class=\"nf\">c</span> <span class=\"o\">=</span> <span class=\"mf\">0</span></pre>\n",
       "<pre class='cython code score-0 '>  __pyx_v_c = 0;\n",
       "</pre><pre class=\"cython line score-57\" onclick=\"(function(s){s.display=s.display==='block'?'none':'block'})(this.nextElementSibling.style)\">+<span class=\"\">15</span>:     <span class=\"k\">for</span> <span class=\"n\">k</span> <span class=\"ow\">in</span> <span class=\"nb\">range</span><span class=\"p\">(</span><span class=\"mf\">1</span><span class=\"p\">,</span> <span class=\"n\">int_sqrt</span><span class=\"p\">(</span><span class=\"n\">n</span><span class=\"p\">)</span><span class=\"o\">+</span><span class=\"mf\">1</span><span class=\"p\">):</span></pre>\n",
       "<pre class='cython code score-57 '>  __pyx_t_2 = <span class='pyx_c_api'>__Pyx_PyInt_From_long</span>((__pyx_f_46_cython_magic_b421ed9aa342829a2e7bf32576065354_int_sqrt(__pyx_v_n) + 1));<span class='error_goto'> if (unlikely(!__pyx_t_2)) __PYX_ERR(0, 15, __pyx_L1_error)</span>\n",
       "  <span class='refnanny'>__Pyx_GOTREF</span>(__pyx_t_2);\n",
       "  __pyx_t_3 = <span class='py_c_api'>PyTuple_New</span>(2);<span class='error_goto'> if (unlikely(!__pyx_t_3)) __PYX_ERR(0, 15, __pyx_L1_error)</span>\n",
       "  <span class='refnanny'>__Pyx_GOTREF</span>(__pyx_t_3);\n",
       "  <span class='pyx_macro_api'>__Pyx_INCREF</span>(__pyx_int_1);\n",
       "  <span class='refnanny'>__Pyx_GIVEREF</span>(__pyx_int_1);\n",
       "  <span class='py_macro_api'>PyTuple_SET_ITEM</span>(__pyx_t_3, 0, __pyx_int_1);\n",
       "  <span class='refnanny'>__Pyx_GIVEREF</span>(__pyx_t_2);\n",
       "  <span class='py_macro_api'>PyTuple_SET_ITEM</span>(__pyx_t_3, 1, __pyx_t_2);\n",
       "  __pyx_t_2 = 0;\n",
       "  __pyx_t_2 = <span class='pyx_c_api'>__Pyx_PyObject_Call</span>(__pyx_builtin_range, __pyx_t_3, NULL);<span class='error_goto'> if (unlikely(!__pyx_t_2)) __PYX_ERR(0, 15, __pyx_L1_error)</span>\n",
       "  <span class='refnanny'>__Pyx_GOTREF</span>(__pyx_t_2);\n",
       "  <span class='pyx_macro_api'>__Pyx_DECREF</span>(__pyx_t_3); __pyx_t_3 = 0;\n",
       "  if (likely(<span class='py_c_api'>PyList_CheckExact</span>(__pyx_t_2)) || <span class='py_c_api'>PyTuple_CheckExact</span>(__pyx_t_2)) {\n",
       "    __pyx_t_3 = __pyx_t_2; <span class='pyx_macro_api'>__Pyx_INCREF</span>(__pyx_t_3); __pyx_t_4 = 0;\n",
       "    __pyx_t_5 = NULL;\n",
       "  } else {\n",
       "    __pyx_t_4 = -1; __pyx_t_3 = <span class='py_c_api'>PyObject_GetIter</span>(__pyx_t_2);<span class='error_goto'> if (unlikely(!__pyx_t_3)) __PYX_ERR(0, 15, __pyx_L1_error)</span>\n",
       "    <span class='refnanny'>__Pyx_GOTREF</span>(__pyx_t_3);\n",
       "    __pyx_t_5 = Py_TYPE(__pyx_t_3)-&gt;tp_iternext;<span class='error_goto'> if (unlikely(!__pyx_t_5)) __PYX_ERR(0, 15, __pyx_L1_error)</span>\n",
       "  }\n",
       "  <span class='pyx_macro_api'>__Pyx_DECREF</span>(__pyx_t_2); __pyx_t_2 = 0;\n",
       "  for (;;) {\n",
       "    if (likely(!__pyx_t_5)) {\n",
       "      if (likely(<span class='py_c_api'>PyList_CheckExact</span>(__pyx_t_3))) {\n",
       "        if (__pyx_t_4 &gt;= <span class='py_macro_api'>PyList_GET_SIZE</span>(__pyx_t_3)) break;\n",
       "        #if CYTHON_ASSUME_SAFE_MACROS &amp;&amp; !CYTHON_AVOID_BORROWED_REFS\n",
       "        __pyx_t_2 = <span class='py_macro_api'>PyList_GET_ITEM</span>(__pyx_t_3, __pyx_t_4); <span class='pyx_macro_api'>__Pyx_INCREF</span>(__pyx_t_2); __pyx_t_4++; if (unlikely(0 &lt; 0)) <span class='error_goto'>__PYX_ERR(0, 15, __pyx_L1_error)</span>\n",
       "        #else\n",
       "        __pyx_t_2 = <span class='py_macro_api'>PySequence_ITEM</span>(__pyx_t_3, __pyx_t_4); __pyx_t_4++;<span class='error_goto'> if (unlikely(!__pyx_t_2)) __PYX_ERR(0, 15, __pyx_L1_error)</span>\n",
       "        <span class='refnanny'>__Pyx_GOTREF</span>(__pyx_t_2);\n",
       "        #endif\n",
       "      } else {\n",
       "        if (__pyx_t_4 &gt;= <span class='py_macro_api'>PyTuple_GET_SIZE</span>(__pyx_t_3)) break;\n",
       "        #if CYTHON_ASSUME_SAFE_MACROS &amp;&amp; !CYTHON_AVOID_BORROWED_REFS\n",
       "        __pyx_t_2 = <span class='py_macro_api'>PyTuple_GET_ITEM</span>(__pyx_t_3, __pyx_t_4); <span class='pyx_macro_api'>__Pyx_INCREF</span>(__pyx_t_2); __pyx_t_4++; if (unlikely(0 &lt; 0)) <span class='error_goto'>__PYX_ERR(0, 15, __pyx_L1_error)</span>\n",
       "        #else\n",
       "        __pyx_t_2 = <span class='py_macro_api'>PySequence_ITEM</span>(__pyx_t_3, __pyx_t_4); __pyx_t_4++;<span class='error_goto'> if (unlikely(!__pyx_t_2)) __PYX_ERR(0, 15, __pyx_L1_error)</span>\n",
       "        <span class='refnanny'>__Pyx_GOTREF</span>(__pyx_t_2);\n",
       "        #endif\n",
       "      }\n",
       "    } else {\n",
       "      __pyx_t_2 = __pyx_t_5(__pyx_t_3);\n",
       "      if (unlikely(!__pyx_t_2)) {\n",
       "        PyObject* exc_type = <span class='py_c_api'>PyErr_Occurred</span>();\n",
       "        if (exc_type) {\n",
       "          if (likely(<span class='pyx_c_api'>__Pyx_PyErr_GivenExceptionMatches</span>(exc_type, PyExc_StopIteration))) <span class='py_c_api'>PyErr_Clear</span>();\n",
       "          else <span class='error_goto'>__PYX_ERR(0, 15, __pyx_L1_error)</span>\n",
       "        }\n",
       "        break;\n",
       "      }\n",
       "      <span class='refnanny'>__Pyx_GOTREF</span>(__pyx_t_2);\n",
       "    }\n",
       "    <span class='pyx_macro_api'>__Pyx_XDECREF_SET</span>(__pyx_v_k, __pyx_t_2);\n",
       "    __pyx_t_2 = 0;\n",
       "/* … */\n",
       "  }\n",
       "  <span class='pyx_macro_api'>__Pyx_DECREF</span>(__pyx_t_3); __pyx_t_3 = 0;\n",
       "</pre><pre class=\"cython line score-0\">&#xA0;<span class=\"\">16</span>:         <span class=\"c\"># print(f&quot;n = {n}, k = {k}, c = {c}&quot;)</span></pre>\n",
       "<pre class=\"cython line score-14\" onclick=\"(function(s){s.display=s.display==='block'?'none':'block'})(this.nextElementSibling.style)\">+<span class=\"\">17</span>:         <span class=\"k\">if</span> <span class=\"n\">n</span><span class=\"o\">%</span><span class=\"n\">k</span> <span class=\"o\">==</span> <span class=\"mf\">0</span><span class=\"p\">:</span></pre>\n",
       "<pre class='cython code score-14 '>    __pyx_t_2 = <span class='pyx_c_api'>__Pyx_PyInt_From_int</span>(__pyx_v_n);<span class='error_goto'> if (unlikely(!__pyx_t_2)) __PYX_ERR(0, 17, __pyx_L1_error)</span>\n",
       "    <span class='refnanny'>__Pyx_GOTREF</span>(__pyx_t_2);\n",
       "    __pyx_t_6 = <span class='py_c_api'>PyNumber_Remainder</span>(__pyx_t_2, __pyx_v_k);<span class='error_goto'> if (unlikely(!__pyx_t_6)) __PYX_ERR(0, 17, __pyx_L1_error)</span>\n",
       "    <span class='refnanny'>__Pyx_GOTREF</span>(__pyx_t_6);\n",
       "    <span class='pyx_macro_api'>__Pyx_DECREF</span>(__pyx_t_2); __pyx_t_2 = 0;\n",
       "    __pyx_t_2 = <span class='pyx_c_api'>__Pyx_PyInt_EqObjC</span>(__pyx_t_6, __pyx_int_0, 0, 0);<span class='error_goto'> if (unlikely(!__pyx_t_2)) __PYX_ERR(0, 17, __pyx_L1_error)</span>\n",
       "    <span class='refnanny'>__Pyx_GOTREF</span>(__pyx_t_2);\n",
       "    <span class='pyx_macro_api'>__Pyx_DECREF</span>(__pyx_t_6); __pyx_t_6 = 0;\n",
       "    __pyx_t_1 = <span class='pyx_c_api'>__Pyx_PyObject_IsTrue</span>(__pyx_t_2); if (unlikely(__pyx_t_1 &lt; 0)) <span class='error_goto'>__PYX_ERR(0, 17, __pyx_L1_error)</span>\n",
       "    <span class='pyx_macro_api'>__Pyx_DECREF</span>(__pyx_t_2); __pyx_t_2 = 0;\n",
       "    if (__pyx_t_1) {\n",
       "/* … */\n",
       "    }\n",
       "</pre><pre class=\"cython line score-17\" onclick=\"(function(s){s.display=s.display==='block'?'none':'block'})(this.nextElementSibling.style)\">+<span class=\"\">18</span>:             <span class=\"n\">c</span> <span class=\"o\">+=</span> <span class=\"mf\">1</span> <span class=\"k\">if</span> <span class=\"n\">k</span><span class=\"o\">*</span><span class=\"n\">k</span> <span class=\"o\">==</span> <span class=\"n\">n</span> <span class=\"k\">else</span> <span class=\"mf\">2</span></pre>\n",
       "<pre class='cython code score-17 '>      __pyx_t_2 = <span class='py_c_api'>PyNumber_Multiply</span>(__pyx_v_k, __pyx_v_k);<span class='error_goto'> if (unlikely(!__pyx_t_2)) __PYX_ERR(0, 18, __pyx_L1_error)</span>\n",
       "      <span class='refnanny'>__Pyx_GOTREF</span>(__pyx_t_2);\n",
       "      __pyx_t_6 = <span class='pyx_c_api'>__Pyx_PyInt_From_int</span>(__pyx_v_n);<span class='error_goto'> if (unlikely(!__pyx_t_6)) __PYX_ERR(0, 18, __pyx_L1_error)</span>\n",
       "      <span class='refnanny'>__Pyx_GOTREF</span>(__pyx_t_6);\n",
       "      __pyx_t_8 = <span class='py_c_api'>PyObject_RichCompare</span>(__pyx_t_2, __pyx_t_6, Py_EQ); <span class='refnanny'>__Pyx_XGOTREF</span>(__pyx_t_8);<span class='error_goto'> if (unlikely(!__pyx_t_8)) __PYX_ERR(0, 18, __pyx_L1_error)</span>\n",
       "      <span class='pyx_macro_api'>__Pyx_DECREF</span>(__pyx_t_2); __pyx_t_2 = 0;\n",
       "      <span class='pyx_macro_api'>__Pyx_DECREF</span>(__pyx_t_6); __pyx_t_6 = 0;\n",
       "      __pyx_t_1 = <span class='pyx_c_api'>__Pyx_PyObject_IsTrue</span>(__pyx_t_8); if (unlikely(__pyx_t_1 &lt; 0)) <span class='error_goto'>__PYX_ERR(0, 18, __pyx_L1_error)</span>\n",
       "      <span class='pyx_macro_api'>__Pyx_DECREF</span>(__pyx_t_8); __pyx_t_8 = 0;\n",
       "      if (__pyx_t_1) {\n",
       "        __pyx_t_7 = 1;\n",
       "      } else {\n",
       "        __pyx_t_7 = 2;\n",
       "      }\n",
       "      __pyx_v_c = (__pyx_v_c + __pyx_t_7);\n",
       "</pre><pre class=\"cython line score-0\" onclick=\"(function(s){s.display=s.display==='block'?'none':'block'})(this.nextElementSibling.style)\">+<span class=\"\">19</span>:     <span class=\"k\">return</span> <span class=\"n\">c</span></pre>\n",
       "<pre class='cython code score-0 '>  __pyx_r = __pyx_v_c;\n",
       "  goto __pyx_L0;\n",
       "</pre><pre class=\"cython line score-0\">&#xA0;<span class=\"\">20</span>: </pre>\n",
       "<pre class=\"cython line score-39\" onclick=\"(function(s){s.display=s.display==='block'?'none':'block'})(this.nextElementSibling.style)\">+<span class=\"\">21</span>: <span class=\"k\">def</span> <span class=\"nf\">first_highly_divisible_triangular_number</span><span class=\"p\">(</span><span class=\"nb\">int</span> <span class=\"n\">nb_of_divisors</span><span class=\"o\">=</span><span class=\"mf\">5</span><span class=\"p\">):</span></pre>\n",
       "<pre class='cython code score-39 '>/* Python wrapper */\n",
       "static PyObject *__pyx_pw_46_cython_magic_b421ed9aa342829a2e7bf32576065354_1first_highly_divisible_triangular_number(PyObject *__pyx_self, PyObject *__pyx_args, PyObject *__pyx_kwds); /*proto*/\n",
       "static PyMethodDef __pyx_mdef_46_cython_magic_b421ed9aa342829a2e7bf32576065354_1first_highly_divisible_triangular_number = {\"first_highly_divisible_triangular_number\", (PyCFunction)(void*)(PyCFunctionWithKeywords)__pyx_pw_46_cython_magic_b421ed9aa342829a2e7bf32576065354_1first_highly_divisible_triangular_number, METH_VARARGS|METH_KEYWORDS, 0};\n",
       "static PyObject *__pyx_pw_46_cython_magic_b421ed9aa342829a2e7bf32576065354_1first_highly_divisible_triangular_number(PyObject *__pyx_self, PyObject *__pyx_args, PyObject *__pyx_kwds) {\n",
       "  int __pyx_v_nb_of_divisors;\n",
       "  PyObject *__pyx_r = 0;\n",
       "  <span class='refnanny'>__Pyx_RefNannyDeclarations</span>\n",
       "  <span class='refnanny'>__Pyx_RefNannySetupContext</span>(\"first_highly_divisible_triangular_number (wrapper)\", 0);\n",
       "  {\n",
       "    static PyObject **__pyx_pyargnames[] = {&amp;__pyx_n_s_nb_of_divisors,0};\n",
       "    PyObject* values[1] = {0};\n",
       "    if (unlikely(__pyx_kwds)) {\n",
       "      Py_ssize_t kw_args;\n",
       "      const Py_ssize_t pos_args = <span class='py_macro_api'>PyTuple_GET_SIZE</span>(__pyx_args);\n",
       "      switch (pos_args) {\n",
       "        case  1: values[0] = <span class='py_macro_api'>PyTuple_GET_ITEM</span>(__pyx_args, 0);\n",
       "        CYTHON_FALLTHROUGH;\n",
       "        case  0: break;\n",
       "        default: goto __pyx_L5_argtuple_error;\n",
       "      }\n",
       "      kw_args = <span class='py_c_api'>PyDict_Size</span>(__pyx_kwds);\n",
       "      switch (pos_args) {\n",
       "        case  0:\n",
       "        if (kw_args &gt; 0) {\n",
       "          PyObject* value = <span class='pyx_c_api'>__Pyx_PyDict_GetItemStr</span>(__pyx_kwds, __pyx_n_s_nb_of_divisors);\n",
       "          if (value) { values[0] = value; kw_args--; }\n",
       "        }\n",
       "      }\n",
       "      if (unlikely(kw_args &gt; 0)) {\n",
       "        if (unlikely(<span class='pyx_c_api'>__Pyx_ParseOptionalKeywords</span>(__pyx_kwds, __pyx_pyargnames, 0, values, pos_args, \"first_highly_divisible_triangular_number\") &lt; 0)) <span class='error_goto'>__PYX_ERR(0, 21, __pyx_L3_error)</span>\n",
       "      }\n",
       "    } else {\n",
       "      switch (<span class='py_macro_api'>PyTuple_GET_SIZE</span>(__pyx_args)) {\n",
       "        case  1: values[0] = <span class='py_macro_api'>PyTuple_GET_ITEM</span>(__pyx_args, 0);\n",
       "        CYTHON_FALLTHROUGH;\n",
       "        case  0: break;\n",
       "        default: goto __pyx_L5_argtuple_error;\n",
       "      }\n",
       "    }\n",
       "    if (values[0]) {\n",
       "      __pyx_v_nb_of_divisors = <span class='pyx_c_api'>__Pyx_PyInt_As_int</span>(values[0]); if (unlikely((__pyx_v_nb_of_divisors == (int)-1) &amp;&amp; <span class='py_c_api'>PyErr_Occurred</span>())) <span class='error_goto'>__PYX_ERR(0, 21, __pyx_L3_error)</span>\n",
       "    } else {\n",
       "      __pyx_v_nb_of_divisors = ((int)5);\n",
       "    }\n",
       "  }\n",
       "  goto __pyx_L4_argument_unpacking_done;\n",
       "  __pyx_L5_argtuple_error:;\n",
       "  <span class='pyx_c_api'>__Pyx_RaiseArgtupleInvalid</span>(\"first_highly_divisible_triangular_number\", 0, 0, 1, <span class='py_macro_api'>PyTuple_GET_SIZE</span>(__pyx_args)); <span class='error_goto'>__PYX_ERR(0, 21, __pyx_L3_error)</span>\n",
       "  __pyx_L3_error:;\n",
       "  <span class='pyx_c_api'>__Pyx_AddTraceback</span>(\"_cython_magic_b421ed9aa342829a2e7bf32576065354.first_highly_divisible_triangular_number\", __pyx_clineno, __pyx_lineno, __pyx_filename);\n",
       "  <span class='refnanny'>__Pyx_RefNannyFinishContext</span>();\n",
       "  return NULL;\n",
       "  __pyx_L4_argument_unpacking_done:;\n",
       "  __pyx_r = __pyx_pf_46_cython_magic_b421ed9aa342829a2e7bf32576065354_first_highly_divisible_triangular_number(__pyx_self, __pyx_v_nb_of_divisors);\n",
       "  int __pyx_lineno = 0;\n",
       "  const char *__pyx_filename = NULL;\n",
       "  int __pyx_clineno = 0;\n",
       "\n",
       "  /* function exit code */\n",
       "  <span class='refnanny'>__Pyx_RefNannyFinishContext</span>();\n",
       "  return __pyx_r;\n",
       "}\n",
       "\n",
       "static PyObject *__pyx_pf_46_cython_magic_b421ed9aa342829a2e7bf32576065354_first_highly_divisible_triangular_number(CYTHON_UNUSED PyObject *__pyx_self, int __pyx_v_nb_of_divisors) {\n",
       "  int __pyx_v_triangular_number;\n",
       "  int __pyx_v_i;\n",
       "  PyObject *__pyx_r = NULL;\n",
       "  <span class='refnanny'>__Pyx_RefNannyDeclarations</span>\n",
       "  <span class='refnanny'>__Pyx_RefNannySetupContext</span>(\"first_highly_divisible_triangular_number\", 0);\n",
       "/* … */\n",
       "  /* function exit code */\n",
       "  __pyx_L1_error:;\n",
       "  <span class='pyx_macro_api'>__Pyx_XDECREF</span>(__pyx_t_2);\n",
       "  <span class='pyx_c_api'>__Pyx_AddTraceback</span>(\"_cython_magic_b421ed9aa342829a2e7bf32576065354.first_highly_divisible_triangular_number\", __pyx_clineno, __pyx_lineno, __pyx_filename);\n",
       "  __pyx_r = NULL;\n",
       "  __pyx_L0:;\n",
       "  <span class='refnanny'>__Pyx_XGIVEREF</span>(__pyx_r);\n",
       "  <span class='refnanny'>__Pyx_RefNannyFinishContext</span>();\n",
       "  return __pyx_r;\n",
       "}\n",
       "/* … */\n",
       "  __pyx_tuple_ = <span class='py_c_api'>PyTuple_Pack</span>(3, __pyx_n_s_nb_of_divisors, __pyx_n_s_triangular_number, __pyx_n_s_i);<span class='error_goto'> if (unlikely(!__pyx_tuple_)) __PYX_ERR(0, 21, __pyx_L1_error)</span>\n",
       "  <span class='refnanny'>__Pyx_GOTREF</span>(__pyx_tuple_);\n",
       "  <span class='refnanny'>__Pyx_GIVEREF</span>(__pyx_tuple_);\n",
       "/* … */\n",
       "  __pyx_t_1 = PyCFunction_NewEx(&amp;__pyx_mdef_46_cython_magic_b421ed9aa342829a2e7bf32576065354_1first_highly_divisible_triangular_number, NULL, __pyx_n_s_cython_magic_b421ed9aa342829a2e);<span class='error_goto'> if (unlikely(!__pyx_t_1)) __PYX_ERR(0, 21, __pyx_L1_error)</span>\n",
       "  <span class='refnanny'>__Pyx_GOTREF</span>(__pyx_t_1);\n",
       "  if (<span class='py_c_api'>PyDict_SetItem</span>(__pyx_d, __pyx_n_s_first_highly_divisible_triangula, __pyx_t_1) &lt; 0) <span class='error_goto'>__PYX_ERR(0, 21, __pyx_L1_error)</span>\n",
       "  <span class='pyx_macro_api'>__Pyx_DECREF</span>(__pyx_t_1); __pyx_t_1 = 0;\n",
       "</pre><pre class=\"cython line score-0\" onclick=\"(function(s){s.display=s.display==='block'?'none':'block'})(this.nextElementSibling.style)\">+<span class=\"\">22</span>:     <span class=\"k\">cdef</span> <span class=\"kt\">int</span> <span class=\"nf\">triangular_number</span> <span class=\"o\">=</span> <span class=\"mf\">1</span></pre>\n",
       "<pre class='cython code score-0 '>  __pyx_v_triangular_number = 1;\n",
       "</pre><pre class=\"cython line score-0\" onclick=\"(function(s){s.display=s.display==='block'?'none':'block'})(this.nextElementSibling.style)\">+<span class=\"\">23</span>:     <span class=\"k\">cdef</span> <span class=\"kt\">int</span> <span class=\"nf\">i</span> <span class=\"o\">=</span> <span class=\"mf\">2</span></pre>\n",
       "<pre class='cython code score-0 '>  __pyx_v_i = 2;\n",
       "</pre><pre class=\"cython line score-0\" onclick=\"(function(s){s.display=s.display==='block'?'none':'block'})(this.nextElementSibling.style)\">+<span class=\"\">24</span>:     <span class=\"k\">while</span> <span class=\"n\">number_of_divisors</span><span class=\"p\">(</span><span class=\"n\">triangular_number</span><span class=\"p\">)</span> <span class=\"o\">&lt;</span> <span class=\"n\">nb_of_divisors</span><span class=\"p\">:</span></pre>\n",
       "<pre class='cython code score-0 '>  while (1) {\n",
       "    __pyx_t_1 = ((__pyx_f_46_cython_magic_b421ed9aa342829a2e7bf32576065354_number_of_divisors(__pyx_v_triangular_number) &lt; __pyx_v_nb_of_divisors) != 0);\n",
       "    if (!__pyx_t_1) break;\n",
       "</pre><pre class=\"cython line score-0\" onclick=\"(function(s){s.display=s.display==='block'?'none':'block'})(this.nextElementSibling.style)\">+<span class=\"\">25</span>:         <span class=\"n\">triangular_number</span> <span class=\"o\">+=</span> <span class=\"n\">i</span></pre>\n",
       "<pre class='cython code score-0 '>    __pyx_v_triangular_number = (__pyx_v_triangular_number + __pyx_v_i);\n",
       "</pre><pre class=\"cython line score-0\" onclick=\"(function(s){s.display=s.display==='block'?'none':'block'})(this.nextElementSibling.style)\">+<span class=\"\">26</span>:         <span class=\"n\">i</span> <span class=\"o\">+=</span> <span class=\"mf\">1</span></pre>\n",
       "<pre class='cython code score-0 '>    __pyx_v_i = (__pyx_v_i + 1);\n",
       "  }\n",
       "</pre><pre class=\"cython line score-3\" onclick=\"(function(s){s.display=s.display==='block'?'none':'block'})(this.nextElementSibling.style)\">+<span class=\"\">27</span>:     <span class=\"k\">return</span> <span class=\"n\">triangular_number</span></pre>\n",
       "<pre class='cython code score-3 '>  <span class='pyx_macro_api'>__Pyx_XDECREF</span>(__pyx_r);\n",
       "  __pyx_t_2 = <span class='pyx_c_api'>__Pyx_PyInt_From_int</span>(__pyx_v_triangular_number);<span class='error_goto'> if (unlikely(!__pyx_t_2)) __PYX_ERR(0, 27, __pyx_L1_error)</span>\n",
       "  <span class='refnanny'>__Pyx_GOTREF</span>(__pyx_t_2);\n",
       "  __pyx_r = __pyx_t_2;\n",
       "  __pyx_t_2 = 0;\n",
       "  goto __pyx_L0;\n",
       "</pre></div></body></html>"
      ],
      "text/plain": [
       "<IPython.core.display.HTML object>"
      ]
     },
     "execution_count": 38,
     "metadata": {},
     "output_type": "execute_result"
    }
   ],
   "source": [
    "%%cython -a\n",
    "\n",
    "cdef int int_sqrt(int n):\n",
    "    if n <= 0: return 0\n",
    "    elif n == 1: return 1\n",
    "    cdef int i = 0\n",
    "    while i*i <= n:\n",
    "        i += 1\n",
    "        if i*i == n: return i\n",
    "    return i-1\n",
    "\n",
    "cdef int number_of_divisors(int n):\n",
    "    if n <= 0: return 0\n",
    "    elif n == 1: return 1\n",
    "    cdef int c = 0\n",
    "    for k in range(1, int_sqrt(n)+1):\n",
    "        # print(f\"n = {n}, k = {k}, c = {c}\")\n",
    "        if n%k == 0:\n",
    "            c += 1 if k*k == n else 2\n",
    "    return c\n",
    "\n",
    "def first_highly_divisible_triangular_number(int nb_of_divisors=5):\n",
    "    cdef int triangular_number = 1\n",
    "    cdef int i = 2\n",
    "    while number_of_divisors(triangular_number) < nb_of_divisors:\n",
    "        triangular_number += i\n",
    "        i += 1\n",
    "    return triangular_number"
   ]
  },
  {
   "cell_type": "code",
   "execution_count": 39,
   "metadata": {
    "ExecuteTime": {
     "end_time": "2020-10-13T13:31:34.047159Z",
     "start_time": "2020-10-13T13:31:34.042770Z"
    }
   },
   "outputs": [
    {
     "data": {
      "text/plain": [
       "28"
      ]
     },
     "execution_count": 39,
     "metadata": {},
     "output_type": "execute_result"
    }
   ],
   "source": [
    "first_highly_divisible_triangular_number(5)"
   ]
  },
  {
   "cell_type": "code",
   "execution_count": 40,
   "metadata": {
    "ExecuteTime": {
     "end_time": "2020-10-13T13:31:35.022158Z",
     "start_time": "2020-10-13T13:31:34.984775Z"
    }
   },
   "outputs": [
    {
     "data": {
      "text/plain": [
       "749700"
      ]
     },
     "execution_count": 40,
     "metadata": {},
     "output_type": "execute_result"
    }
   ],
   "source": [
    "first_highly_divisible_triangular_number(150)"
   ]
  },
  {
   "cell_type": "code",
   "execution_count": 41,
   "metadata": {
    "ExecuteTime": {
     "end_time": "2020-10-13T13:31:36.154452Z",
     "start_time": "2020-10-13T13:31:36.069503Z"
    }
   },
   "outputs": [
    {
     "data": {
      "text/plain": [
       "2031120"
      ]
     },
     "execution_count": 41,
     "metadata": {},
     "output_type": "execute_result"
    }
   ],
   "source": [
    "first_highly_divisible_triangular_number(200)"
   ]
  },
  {
   "cell_type": "code",
   "execution_count": 42,
   "metadata": {
    "ExecuteTime": {
     "end_time": "2020-10-13T13:31:38.727546Z",
     "start_time": "2020-10-13T13:31:38.650004Z"
    }
   },
   "outputs": [
    {
     "data": {
      "text/plain": [
       "2162160"
      ]
     },
     "execution_count": 42,
     "metadata": {},
     "output_type": "execute_result"
    }
   ],
   "source": [
    "first_highly_divisible_triangular_number(250)"
   ]
  },
  {
   "cell_type": "code",
   "execution_count": 43,
   "metadata": {
    "ExecuteTime": {
     "end_time": "2020-10-13T13:31:39.730018Z",
     "start_time": "2020-10-13T13:31:39.639065Z"
    }
   },
   "outputs": [
    {
     "data": {
      "text/plain": [
       "2162160"
      ]
     },
     "execution_count": 43,
     "metadata": {},
     "output_type": "execute_result"
    }
   ],
   "source": [
    "first_highly_divisible_triangular_number(300)"
   ]
  },
  {
   "cell_type": "code",
   "execution_count": 44,
   "metadata": {
    "ExecuteTime": {
     "end_time": "2020-10-13T13:31:40.904913Z",
     "start_time": "2020-10-13T13:31:40.316522Z"
    }
   },
   "outputs": [
    {
     "data": {
      "text/plain": [
       "17907120"
      ]
     },
     "execution_count": 44,
     "metadata": {},
     "output_type": "execute_result"
    }
   ],
   "source": [
    "first_highly_divisible_triangular_number(350)"
   ]
  },
  {
   "cell_type": "code",
   "execution_count": 45,
   "metadata": {
    "ExecuteTime": {
     "end_time": "2020-10-13T13:31:42.606304Z",
     "start_time": "2020-10-13T13:31:42.023299Z"
    }
   },
   "outputs": [
    {
     "data": {
      "text/plain": [
       "17907120"
      ]
     },
     "execution_count": 45,
     "metadata": {},
     "output_type": "execute_result"
    }
   ],
   "source": [
    "first_highly_divisible_triangular_number(400)"
   ]
  },
  {
   "cell_type": "code",
   "execution_count": 46,
   "metadata": {
    "ExecuteTime": {
     "end_time": "2020-10-13T13:31:43.642124Z",
     "start_time": "2020-10-13T13:31:43.063015Z"
    }
   },
   "outputs": [
    {
     "data": {
      "text/plain": [
       "17907120"
      ]
     },
     "execution_count": 46,
     "metadata": {},
     "output_type": "execute_result"
    }
   ],
   "source": [
    "first_highly_divisible_triangular_number(450)"
   ]
  },
  {
   "cell_type": "code",
   "execution_count": 47,
   "metadata": {
    "ExecuteTime": {
     "end_time": "2020-10-13T13:31:47.489599Z",
     "start_time": "2020-10-13T13:31:45.057586Z"
    }
   },
   "outputs": [
    {
     "data": {
      "text/plain": [
       "76576500"
      ]
     },
     "execution_count": 47,
     "metadata": {},
     "output_type": "execute_result"
    }
   ],
   "source": [
    "first_highly_divisible_triangular_number(500)"
   ]
  },
  {
   "cell_type": "markdown",
   "metadata": {},
   "source": [
    "That's slow if you test for divisors until n, but using this $\\lfloor \\sqrt{n} \\rfloor$ trick speeds it up!"
   ]
  },
  {
   "cell_type": "markdown",
   "metadata": {},
   "source": [
    "---\n",
    "## [Problem 19: Counting Sundays](https://projecteuler.net/problem=19)"
   ]
  },
  {
   "cell_type": "code",
   "execution_count": 3,
   "metadata": {
    "ExecuteTime": {
     "end_time": "2020-10-13T12:28:37.164133Z",
     "start_time": "2020-10-13T12:28:37.157399Z"
    }
   },
   "outputs": [],
   "source": [
    "from datetime import date, timedelta"
   ]
  },
  {
   "cell_type": "code",
   "execution_count": 4,
   "metadata": {
    "ExecuteTime": {
     "end_time": "2020-10-13T12:28:37.634837Z",
     "start_time": "2020-10-13T12:28:37.628947Z"
    }
   },
   "outputs": [],
   "source": [
    "def isSunday(current_date: date) -> bool:\n",
    "    current_iso_date = current_date.isocalendar()\n",
    "    weekday = current_iso_date[2]\n",
    "    return weekday == 7"
   ]
  },
  {
   "cell_type": "code",
   "execution_count": 5,
   "metadata": {
    "ExecuteTime": {
     "end_time": "2020-10-13T12:28:38.094044Z",
     "start_time": "2020-10-13T12:28:38.069973Z"
    }
   },
   "outputs": [
    {
     "name": "stdout",
     "output_type": "stream",
     "text": [
      "Between 1901-01-01 and 2000-12-31, there were 171 Sundays happening the first day of a month.\n"
     ]
    }
   ],
   "source": [
    "start_date = date(year=1901, month=1, day=1)\n",
    "current_date = start_date\n",
    "tomorrow = timedelta(days=+1)\n",
    "max_date = date(year=2000, month=12, day=31)\n",
    "number_of_sundays = 0\n",
    "\n",
    "while current_date <= max_date:\n",
    "    if current_date.day == 1:\n",
    "        if isSunday(current_date):\n",
    "            number_of_sundays += 1\n",
    "    current_date += tomorrow\n",
    "\n",
    "print(f\"Between {start_date} and {max_date}, there were {number_of_sundays} Sundays happening the first day of a month.\")"
   ]
  },
  {
   "cell_type": "markdown",
   "metadata": {},
   "source": [
    "==> 171"
   ]
  },
  {
   "cell_type": "markdown",
   "metadata": {},
   "source": [
    "---\n",
    "## [Problem 26: Reciprocal cycles](https://projecteuler.net/problem=36) TODO"
   ]
  },
  {
   "cell_type": "code",
   "execution_count": 1,
   "metadata": {
    "ExecuteTime": {
     "end_time": "2020-10-13T12:45:33.227422Z",
     "start_time": "2020-10-13T12:45:33.224352Z"
    }
   },
   "outputs": [],
   "source": [
    "import decimal\n",
    "D = decimal.Decimal"
   ]
  },
  {
   "cell_type": "markdown",
   "metadata": {},
   "source": [
    "Let's try with 1000 digits, and I'll just increase it if the solution is not good."
   ]
  },
  {
   "cell_type": "code",
   "execution_count": 4,
   "metadata": {
    "ExecuteTime": {
     "end_time": "2020-10-13T12:45:42.185140Z",
     "start_time": "2020-10-13T12:45:42.182992Z"
    }
   },
   "outputs": [],
   "source": [
    "decimal.getcontext().prec = 1000"
   ]
  },
  {
   "cell_type": "markdown",
   "metadata": {},
   "source": [
    "Example:"
   ]
  },
  {
   "cell_type": "code",
   "execution_count": 5,
   "metadata": {
    "ExecuteTime": {
     "end_time": "2020-10-13T12:45:42.885763Z",
     "start_time": "2020-10-13T12:45:42.874858Z"
    }
   },
   "outputs": [
    {
     "data": {
      "text/plain": [
       "Decimal('0.1428571428571428571428571428571428571428571428571428571428571428571428571428571428571428571428571428571428571428571428571428571428571428571428571428571428571428571428571428571428571428571428571428571428571428571428571428571428571428571428571428571428571428571428571428571428571428571428571428571428571428571428571428571428571428571428571428571428571428571428571428571428571428571428571428571428571428571428571428571428571428571428571428571428571428571428571428571428571428571428571428571428571428571428571428571428571428571428571428571428571428571428571428571428571428571428571428571428571428571428571428571428571428571428571428571428571428571428571428571428571428571428571428571428571428571428571428571428571428571428571428571428571428571428571428571428571428571428571428571428571428571428571428571428571428571428571428571428571428571428571428571428571428571428571428571428571428571428571428571428571428571428571428571428571428571428571428571428571428571428571428571428571428571428571428571428571429')"
      ]
     },
     "execution_count": 5,
     "metadata": {},
     "output_type": "execute_result"
    }
   ],
   "source": [
    "D('1') / D('7')"
   ]
  },
  {
   "cell_type": "markdown",
   "metadata": {},
   "source": [
    "How to detect a cycle and its length:"
   ]
  },
  {
   "cell_type": "code",
   "execution_count": 49,
   "metadata": {
    "ExecuteTime": {
     "end_time": "2020-10-13T12:55:46.482473Z",
     "start_time": "2020-10-13T12:55:46.468274Z"
    }
   },
   "outputs": [],
   "source": [
    "def detect_cycle_length_str_offset(s: str, offset: int=0) -> int:\n",
    "    s = s[offset:]\n",
    "    length = 1\n",
    "    n = len(s)\n",
    "    cycle = s[:length]\n",
    "    while length < n:\n",
    "        cut_size = n//length\n",
    "        if s[:cut_size * length] == cycle * cut_size:\n",
    "            return length\n",
    "        cycle += s[length]\n",
    "        length += 1\n",
    "    return 0"
   ]
  },
  {
   "cell_type": "code",
   "execution_count": 49,
   "metadata": {
    "ExecuteTime": {
     "end_time": "2020-10-13T12:55:46.482473Z",
     "start_time": "2020-10-13T12:55:46.468274Z"
    }
   },
   "outputs": [],
   "source": [
    "def detect_cycle_length_str(s: str, offset: int=0) -> int:\n",
    "    s = s[offset:]\n",
    "    length = 1\n",
    "    n = len(s)\n",
    "    cycle = s[:length]\n",
    "    while length < n:\n",
    "        cut_size = n//length\n",
    "        if s[:cut_size * length] == cycle * cut_size:\n",
    "            return length\n",
    "        cycle += s[length]\n",
    "        length += 1\n",
    "    return 0"
   ]
  },
  {
   "cell_type": "code",
   "execution_count": null,
   "metadata": {},
   "outputs": [],
   "source": []
  },
  {
   "cell_type": "code",
   "execution_count": 50,
   "metadata": {
    "ExecuteTime": {
     "end_time": "2020-10-13T12:55:46.968277Z",
     "start_time": "2020-10-13T12:55:46.960295Z"
    }
   },
   "outputs": [
    {
     "data": {
      "text/plain": [
       "6"
      ]
     },
     "execution_count": 50,
     "metadata": {},
     "output_type": "execute_result"
    }
   ],
   "source": [
    "detect_cycle_length_str('1428571428571428571428571429')\n",
    "# '142857' is a cycle so ==> 6"
   ]
  },
  {
   "cell_type": "code",
   "execution_count": 48,
   "metadata": {
    "ExecuteTime": {
     "end_time": "2020-10-13T12:55:25.974379Z",
     "start_time": "2020-10-13T12:55:25.961760Z"
    }
   },
   "outputs": [
    {
     "name": "stdout",
     "output_type": "stream",
     "text": [
      "\n",
      "offset = 0\n",
      "length = 1\n",
      "cut_size = 19\n",
      "s[offset : offset + cut_size * length] = 1666666666666666666\n",
      "cycle * cut_size = 1111111111111111111\n",
      "\n",
      "offset = 0\n",
      "length = 2\n",
      "cut_size = 9\n",
      "s[offset : offset + cut_size * length] = 166666666666666666\n",
      "cycle * cut_size = 161616161616161616\n",
      "\n",
      "offset = 0\n",
      "length = 3\n",
      "cut_size = 6\n",
      "s[offset : offset + cut_size * length] = 166666666666666666\n",
      "cycle * cut_size = 166166166166166166\n",
      "\n",
      "offset = 0\n",
      "length = 4\n",
      "cut_size = 4\n",
      "s[offset : offset + cut_size * length] = 1666666666666666\n",
      "cycle * cut_size = 1666166616661666\n",
      "\n",
      "offset = 0\n",
      "length = 5\n",
      "cut_size = 3\n",
      "s[offset : offset + cut_size * length] = 166666666666666\n",
      "cycle * cut_size = 166661666616666\n",
      "\n",
      "offset = 0\n",
      "length = 6\n",
      "cut_size = 3\n",
      "s[offset : offset + cut_size * length] = 166666666666666666\n",
      "cycle * cut_size = 166666166666166666\n",
      "\n",
      "offset = 0\n",
      "length = 7\n",
      "cut_size = 2\n",
      "s[offset : offset + cut_size * length] = 16666666666666\n",
      "cycle * cut_size = 16666661666666\n",
      "\n",
      "offset = 0\n",
      "length = 8\n",
      "cut_size = 2\n",
      "s[offset : offset + cut_size * length] = 1666666666666666\n",
      "cycle * cut_size = 1666666616666666\n",
      "\n",
      "offset = 0\n",
      "length = 9\n",
      "cut_size = 2\n",
      "s[offset : offset + cut_size * length] = 166666666666666666\n",
      "cycle * cut_size = 166666666166666666\n",
      "\n",
      "offset = 0\n",
      "length = 10\n",
      "cut_size = 1\n",
      "s[offset : offset + cut_size * length] = 1666666666\n",
      "cycle * cut_size = 1666666666\n",
      "10\n",
      "\n",
      "offset = 1\n",
      "length = 1\n",
      "cut_size = 18\n",
      "s[offset : offset + cut_size * length] = 666666666666666666\n",
      "cycle * cut_size = 666666666666666666\n",
      "1\n"
     ]
    }
   ],
   "source": [
    "print(detect_cycle_length_str('1666666666666666666', offset=0))\n",
    "print(detect_cycle_length_str('1666666666666666666', offset=1))"
   ]
  },
  {
   "cell_type": "code",
   "execution_count": 20,
   "metadata": {
    "ExecuteTime": {
     "end_time": "2020-10-13T12:48:55.464598Z",
     "start_time": "2020-10-13T12:48:55.453743Z"
    }
   },
   "outputs": [
    {
     "data": {
      "text/plain": [
       "6"
      ]
     },
     "execution_count": 20,
     "metadata": {},
     "output_type": "execute_result"
    }
   ],
   "source": [
    "detect_cycle_length_str('1428571428571428571428571428571428571428571428571428571428571428571428571428571428571428571428571428571428571428571428571428571428571428571428571428571428571428571428571428571428571428571428571428571428571428571428571428571428571428571428571428571428571428571428571428571428571428571428571428571428571428571428571428571428571428571428571428571428571428571428571428571428571428571428571428571428571428571428571428571428571428571428571428571428571428571428571428571428571428571428571428571428571428571428571428571428571428571428571428571428571428571428571428571428571428571428571428571428571428571428571428571428571428571428571428571428571428571428571428571428571428571428571428571428571428571428571428571428571428571428571428571428571428571428571428571428571428571428571428571428571428571428571428571428571428571428571428571428571428571428571428571428571428571428571428571428571428571428571428571428571428571428571428571428571428571428571428571428571428571428571428571428571428571428571428571428571429')\n",
    "# '142857' is a cycle so ==> 6"
   ]
  },
  {
   "cell_type": "markdown",
   "metadata": {},
   "source": [
    "How to detect a cycle in a decimal number of the form $\\frac{1}{d}$:"
   ]
  },
  {
   "cell_type": "code",
   "execution_count": 9,
   "metadata": {
    "ExecuteTime": {
     "end_time": "2020-10-13T12:45:58.085684Z",
     "start_time": "2020-10-13T12:45:58.081853Z"
    }
   },
   "outputs": [],
   "source": [
    "def detect_cycle_length(denominator: str, nominator: str='1') -> int:\n",
    "    x = D(nominator) / D(denominator)\n",
    "    s = str(x).split('.')[1]\n",
    "    return detect_cycle_length_str(s)"
   ]
  },
  {
   "cell_type": "code",
   "execution_count": 21,
   "metadata": {
    "ExecuteTime": {
     "end_time": "2020-10-13T12:49:18.522314Z",
     "start_time": "2020-10-13T12:49:18.511531Z"
    }
   },
   "outputs": [
    {
     "data": {
      "text/plain": [
       "6"
      ]
     },
     "execution_count": 21,
     "metadata": {},
     "output_type": "execute_result"
    }
   ],
   "source": [
    "detect_cycle_length('7')"
   ]
  },
  {
   "cell_type": "markdown",
   "metadata": {},
   "source": [
    "Now it's easy to find a number with maximum cycle length:"
   ]
  },
  {
   "cell_type": "code",
   "execution_count": 22,
   "metadata": {
    "ExecuteTime": {
     "end_time": "2020-10-13T12:49:27.454747Z",
     "start_time": "2020-10-13T12:49:27.449975Z"
    }
   },
   "outputs": [],
   "source": [
    "def number_with_longest_cycle(start: int=2, end: int=1000) -> int:\n",
    "    max_cycle_length = 0\n",
    "    candidate_d = None\n",
    "    for number in range(start, end):\n",
    "        cycle_length = detect_cycle_length(str(number))\n",
    "        if cycle_length > max_cycle_length:\n",
    "            candidate_d = number\n",
    "            max_cycle_length = cycle_length\n",
    "    return candidate_d, max_cycle_length"
   ]
  },
  {
   "cell_type": "code",
   "execution_count": 23,
   "metadata": {
    "ExecuteTime": {
     "end_time": "2020-10-13T12:49:27.906496Z",
     "start_time": "2020-10-13T12:49:27.899284Z"
    }
   },
   "outputs": [
    {
     "data": {
      "text/plain": [
       "(6, 501)"
      ]
     },
     "execution_count": 23,
     "metadata": {},
     "output_type": "execute_result"
    }
   ],
   "source": [
    "number_with_longest_cycle(start=2, end=11)\n",
    "# ==> 7, 6 as 1/7 has a cycle length of 6"
   ]
  },
  {
   "cell_type": "code",
   "execution_count": null,
   "metadata": {},
   "outputs": [],
   "source": [
    "number_with_longest_cycle(start=1, end=100)"
   ]
  },
  {
   "cell_type": "code",
   "execution_count": null,
   "metadata": {},
   "outputs": [],
   "source": [
    "number_with_longest_cycle(start=1, end=1000)"
   ]
  },
  {
   "cell_type": "markdown",
   "metadata": {},
   "source": [
    "I have not yet found a way to conclude. Working with strings and `decimal.Decimal` numbers is probably a wrong idea."
   ]
  },
  {
   "cell_type": "markdown",
   "metadata": {},
   "source": [
    "---\n",
    "## [Problem 32: Pandigital products](https://projecteuler.net/problem=32)"
   ]
  },
  {
   "cell_type": "code",
   "execution_count": 223,
   "metadata": {
    "ExecuteTime": {
     "end_time": "2020-10-13T20:46:35.134985Z",
     "start_time": "2020-10-13T20:46:35.128961Z"
    }
   },
   "outputs": [
    {
     "data": {
      "text/plain": [
       "{'1', '2', '3', '4', '5'}"
      ]
     },
     "execution_count": 223,
     "metadata": {},
     "output_type": "execute_result"
    }
   ],
   "source": [
    "set(str(15234))"
   ]
  },
  {
   "cell_type": "code",
   "execution_count": 57,
   "metadata": {
    "ExecuteTime": {
     "end_time": "2020-10-13T13:55:29.591570Z",
     "start_time": "2020-10-13T13:55:29.580169Z"
    }
   },
   "outputs": [
    {
     "data": {
      "text/plain": [
       "{'1', '2', '3', '4', '5'}"
      ]
     },
     "execution_count": 57,
     "metadata": {},
     "output_type": "execute_result"
    }
   ],
   "source": [
    "set(''.join(map(str, range(1, 5+1))))"
   ]
  },
  {
   "cell_type": "code",
   "execution_count": 58,
   "metadata": {
    "ExecuteTime": {
     "end_time": "2020-10-13T13:55:29.879447Z",
     "start_time": "2020-10-13T13:55:29.875918Z"
    }
   },
   "outputs": [],
   "source": [
    "from typing import Union"
   ]
  },
  {
   "cell_type": "code",
   "execution_count": 81,
   "metadata": {
    "ExecuteTime": {
     "end_time": "2020-10-13T17:26:36.936261Z",
     "start_time": "2020-10-13T17:26:36.925641Z"
    }
   },
   "outputs": [],
   "source": [
    "def is_pandigital(n: Union[str, int], start: int=1, end: int=9):\n",
    "    str_n = str(n)\n",
    "    if len(str_n) != (end - start + 1):\n",
    "        return False\n",
    "    return set(str(n)) == set(''.join(map(str, range(start, end+1))))"
   ]
  },
  {
   "cell_type": "code",
   "execution_count": 82,
   "metadata": {
    "ExecuteTime": {
     "end_time": "2020-10-13T17:26:38.123849Z",
     "start_time": "2020-10-13T17:26:38.120259Z"
    }
   },
   "outputs": [
    {
     "name": "stdout",
     "output_type": "stream",
     "text": [
      "True\n",
      "False\n"
     ]
    }
   ],
   "source": [
    "print(is_pandigital(15234, start=1, end=5))  # True\n",
    "print(is_pandigital(15234, start=1, end=9))  # False"
   ]
  },
  {
   "cell_type": "code",
   "execution_count": 106,
   "metadata": {
    "ExecuteTime": {
     "end_time": "2020-10-13T18:03:34.742544Z",
     "start_time": "2020-10-13T18:03:34.739055Z"
    }
   },
   "outputs": [],
   "source": [
    "set_1to9 = {1,2,3,4,5,6,7,8,9}\n",
    "\n",
    "def is_pandigital_1to9(n: Union[str, int]):\n",
    "    str_n = str(n)\n",
    "    if len(str_n) != 9:\n",
    "        return False\n",
    "    return ('0' not in str_n) and len(set(str_n)) == 9"
   ]
  },
  {
   "cell_type": "code",
   "execution_count": 107,
   "metadata": {
    "ExecuteTime": {
     "end_time": "2020-10-13T18:03:35.131118Z",
     "start_time": "2020-10-13T18:03:35.127142Z"
    }
   },
   "outputs": [
    {
     "name": "stdout",
     "output_type": "stream",
     "text": [
      "False\n",
      "True\n"
     ]
    }
   ],
   "source": [
    "print(is_pandigital_1to9(15234))  # False\n",
    "print(is_pandigital_1to9(152346987))  # False"
   ]
  },
  {
   "cell_type": "code",
   "execution_count": 108,
   "metadata": {
    "ExecuteTime": {
     "end_time": "2020-10-13T18:03:53.305977Z",
     "start_time": "2020-10-13T18:03:35.732453Z"
    }
   },
   "outputs": [
    {
     "name": "stdout",
     "output_type": "stream",
     "text": [
      "179 ns ± 1.41 ns per loop (mean ± std. dev. of 7 runs, 10000000 loops each)\n",
      "368 ns ± 3.05 ns per loop (mean ± std. dev. of 7 runs, 1000000 loops each)\n"
     ]
    }
   ],
   "source": [
    "%timeit f\"{39}{186}{7254}\"\n",
    "%timeit str(39) + str(186) + str(7254)"
   ]
  },
  {
   "cell_type": "code",
   "execution_count": 109,
   "metadata": {
    "ExecuteTime": {
     "end_time": "2020-10-13T18:03:53.319683Z",
     "start_time": "2020-10-13T18:03:53.316668Z"
    }
   },
   "outputs": [],
   "source": [
    "def are_pandigital(multiplicand: int, multiplier: int, product: int) -> bool:\n",
    "    # assert multiplicand * multiplier == product\n",
    "    n = f\"{multiplicand}{multiplier}{product}\"\n",
    "    return is_pandigital_1to9(n)"
   ]
  },
  {
   "cell_type": "code",
   "execution_count": 110,
   "metadata": {
    "ExecuteTime": {
     "end_time": "2020-10-13T18:03:53.337564Z",
     "start_time": "2020-10-13T18:03:53.332279Z"
    }
   },
   "outputs": [
    {
     "data": {
      "text/plain": [
       "True"
      ]
     },
     "execution_count": 110,
     "metadata": {},
     "output_type": "execute_result"
    }
   ],
   "source": [
    "are_pandigital(39, 186, 7254)"
   ]
  },
  {
   "cell_type": "code",
   "execution_count": 111,
   "metadata": {
    "ExecuteTime": {
     "end_time": "2020-10-13T18:03:53.357205Z",
     "start_time": "2020-10-13T18:03:53.354794Z"
    }
   },
   "outputs": [],
   "source": [
    "from typing import Tuple"
   ]
  },
  {
   "cell_type": "code",
   "execution_count": 112,
   "metadata": {
    "ExecuteTime": {
     "end_time": "2020-10-13T18:03:53.376161Z",
     "start_time": "2020-10-13T18:03:53.371561Z"
    }
   },
   "outputs": [],
   "source": [
    "def find_pandigital_products(n: int) -> Tuple[bool, Tuple[int, int]]:\n",
    "    x = 2\n",
    "    while x*x <= n:\n",
    "        if n % x == 0:\n",
    "            y = n // x\n",
    "            if are_pandigital(x, y, n):\n",
    "                return True, (x, y)\n",
    "        x += 1\n",
    "    return False, (None, None)"
   ]
  },
  {
   "cell_type": "code",
   "execution_count": 113,
   "metadata": {
    "ExecuteTime": {
     "end_time": "2020-10-13T18:03:53.395801Z",
     "start_time": "2020-10-13T18:03:53.391506Z"
    }
   },
   "outputs": [
    {
     "data": {
      "text/plain": [
       "(True, (39, 186))"
      ]
     },
     "execution_count": 113,
     "metadata": {},
     "output_type": "execute_result"
    }
   ],
   "source": [
    "find_pandigital_products(7254)"
   ]
  },
  {
   "cell_type": "code",
   "execution_count": 114,
   "metadata": {
    "ExecuteTime": {
     "end_time": "2020-10-13T18:03:53.419143Z",
     "start_time": "2020-10-13T18:03:53.414901Z"
    }
   },
   "outputs": [],
   "source": [
    "def all_pandigital_products(maxi=10000):\n",
    "    return [n for n in range(1, maxi + 1) if find_pandigital_products(n)[0]]"
   ]
  },
  {
   "cell_type": "code",
   "execution_count": 115,
   "metadata": {
    "ExecuteTime": {
     "end_time": "2020-10-13T18:03:53.442611Z",
     "start_time": "2020-10-13T18:03:53.438103Z"
    }
   },
   "outputs": [],
   "source": [
    "def sum_of_all_pandigital_products(maxi=10000):\n",
    "    s = 0\n",
    "    for n in range(1, maxi + 1):\n",
    "        b, (x, y) = find_pandigital_products(n)\n",
    "        if b:\n",
    "            print(f\"n = {n} is pandigital with x = {x} and y = {y}, and current sum = {s}...\")\n",
    "            s += n\n",
    "    return s\n",
    "    # return sum(all_pandigital_products())"
   ]
  },
  {
   "cell_type": "code",
   "execution_count": 116,
   "metadata": {
    "ExecuteTime": {
     "end_time": "2020-10-13T18:03:53.561736Z",
     "start_time": "2020-10-13T18:03:53.460812Z"
    }
   },
   "outputs": [
    {
     "name": "stdout",
     "output_type": "stream",
     "text": [
      "n = 4396 is pandigital with x = 28 and y = 157, and current sum = 0...\n",
      "n = 5346 is pandigital with x = 18 and y = 297, and current sum = 4396...\n",
      "n = 5796 is pandigital with x = 12 and y = 483, and current sum = 9742...\n",
      "n = 6952 is pandigital with x = 4 and y = 1738, and current sum = 15538...\n",
      "n = 7254 is pandigital with x = 39 and y = 186, and current sum = 22490...\n",
      "n = 7632 is pandigital with x = 48 and y = 159, and current sum = 29744...\n",
      "n = 7852 is pandigital with x = 4 and y = 1963, and current sum = 37376...\n"
     ]
    },
    {
     "data": {
      "text/plain": [
       "45228"
      ]
     },
     "execution_count": 116,
     "metadata": {},
     "output_type": "execute_result"
    }
   ],
   "source": [
    "sum_of_all_pandigital_products()"
   ]
  },
  {
   "cell_type": "markdown",
   "metadata": {},
   "source": [
    "---\n",
    "## [Problem 33: Digit cancelling fractions](https://projecteuler.net/problem=33)"
   ]
  },
  {
   "cell_type": "code",
   "execution_count": 119,
   "metadata": {
    "ExecuteTime": {
     "end_time": "2020-10-13T19:32:54.384218Z",
     "start_time": "2020-10-13T19:32:54.367829Z"
    }
   },
   "outputs": [],
   "source": [
    "import fractions\n",
    "F = fractions.Fraction"
   ]
  },
  {
   "cell_type": "code",
   "execution_count": 123,
   "metadata": {
    "ExecuteTime": {
     "end_time": "2020-10-13T19:33:50.172468Z",
     "start_time": "2020-10-13T19:33:50.161392Z"
    }
   },
   "outputs": [
    {
     "data": {
      "text/plain": [
       "(Fraction(1, 2), Fraction(1, 2), True)"
      ]
     },
     "execution_count": 123,
     "metadata": {},
     "output_type": "execute_result"
    }
   ],
   "source": [
    "F('49/98'), F('4/8'), F('49/98') == F('4/8')"
   ]
  },
  {
   "cell_type": "code",
   "execution_count": 133,
   "metadata": {
    "ExecuteTime": {
     "end_time": "2020-10-13T19:39:58.670313Z",
     "start_time": "2020-10-13T19:39:58.664142Z"
    }
   },
   "outputs": [],
   "source": [
    "def all_fractions_of_n_digits(n=2):\n",
    "    start = '1'*n\n",
    "    end = '9'*n\n",
    "    for i in range(int(start), int(end) + 1):\n",
    "        for j in range(i + 1, int(end) + 1):\n",
    "            yield F(f\"{i}/{j}\"), i, j"
   ]
  },
  {
   "cell_type": "code",
   "execution_count": 134,
   "metadata": {
    "ExecuteTime": {
     "end_time": "2020-10-13T19:39:59.918389Z",
     "start_time": "2020-10-13T19:39:59.883547Z"
    }
   },
   "outputs": [
    {
     "data": {
      "text/plain": [
       "3916"
      ]
     },
     "execution_count": 134,
     "metadata": {},
     "output_type": "execute_result"
    }
   ],
   "source": [
    "len(list(all_fractions_of_n_digits(2)))"
   ]
  },
  {
   "cell_type": "markdown",
   "metadata": {},
   "source": [
    "So there are 3916 fractions of $x/y$ with $x,y$ having exactly two numbers, such that $x/y \\leq 1$.\n",
    "For each of them, we will try to remove one of the digits from $x$ and from $y$, and check if the resulting \"reduced\" fraction is equal to the original one. If we remove $0$, we won't count it."
   ]
  },
  {
   "cell_type": "markdown",
   "metadata": {},
   "source": [
    "It's easy to remove digits when working with strings:"
   ]
  },
  {
   "cell_type": "code",
   "execution_count": 137,
   "metadata": {
    "ExecuteTime": {
     "end_time": "2020-10-13T19:40:17.898648Z",
     "start_time": "2020-10-13T19:40:17.896229Z"
    }
   },
   "outputs": [],
   "source": [
    "si, sj = \"49\", \"98\""
   ]
  },
  {
   "cell_type": "code",
   "execution_count": 136,
   "metadata": {
    "ExecuteTime": {
     "end_time": "2020-10-13T19:40:01.225792Z",
     "start_time": "2020-10-13T19:40:01.221004Z"
    }
   },
   "outputs": [
    {
     "data": {
      "text/plain": [
       "'4'"
      ]
     },
     "execution_count": 136,
     "metadata": {},
     "output_type": "execute_result"
    }
   ],
   "source": [
    "si.replace(\"9\", \"\", 1)"
   ]
  },
  {
   "cell_type": "markdown",
   "metadata": {},
   "source": [
    "So we can check if the fraction $i/j$ can be \"wrongly\" simplified/reduced by such code:"
   ]
  },
  {
   "cell_type": "code",
   "execution_count": 139,
   "metadata": {
    "ExecuteTime": {
     "end_time": "2020-10-13T19:41:30.751388Z",
     "start_time": "2020-10-13T19:41:30.744940Z"
    }
   },
   "outputs": [],
   "source": [
    "def can_be_wrongly_simplified(i, j):\n",
    "    si, sj = str(i), str(j)\n",
    "    for digit in si:\n",
    "        if digit != '0' and digit in sj:\n",
    "            si_without_digit = int(si.replace(digit, \"\", 1))\n",
    "            sj_without_digit = int(sj.replace(digit, \"\", 1))\n",
    "            if sj_without_digit != 0 and F(f\"{i}/{j}\") == F(f\"{si_without_digit}/{sj_without_digit}\"):\n",
    "                return True\n",
    "    return False"
   ]
  },
  {
   "cell_type": "markdown",
   "metadata": {},
   "source": [
    "Let's try it:"
   ]
  },
  {
   "cell_type": "code",
   "execution_count": 140,
   "metadata": {
    "ExecuteTime": {
     "end_time": "2020-10-13T19:41:31.569695Z",
     "start_time": "2020-10-13T19:41:31.518440Z"
    }
   },
   "outputs": [
    {
     "name": "stdout",
     "output_type": "stream",
     "text": [
      "1/4 with i = 16 and j = 64\n",
      "1/5 with i = 19 and j = 95\n",
      "2/5 with i = 26 and j = 65\n",
      "1/2 with i = 49 and j = 98\n"
     ]
    }
   ],
   "source": [
    "for frac, i, j in all_fractions_of_n_digits(2):\n",
    "    if can_be_wrongly_simplified(i, j):\n",
    "        print(f\"{frac} with i = {i} and j = {j}\")"
   ]
  },
  {
   "cell_type": "markdown",
   "metadata": {},
   "source": [
    "So there are indeed exactly four such fractions (with exactly two digits on nominator and denominator).\n",
    "\n",
    "Let's compute their product:"
   ]
  },
  {
   "cell_type": "code",
   "execution_count": 142,
   "metadata": {
    "ExecuteTime": {
     "end_time": "2020-10-13T19:42:36.013828Z",
     "start_time": "2020-10-13T19:42:35.964950Z"
    }
   },
   "outputs": [
    {
     "name": "stdout",
     "output_type": "stream",
     "text": [
      "1/4 with i = 16 and j = 64\n",
      "1/5 with i = 19 and j = 95\n",
      "2/5 with i = 26 and j = 65\n",
      "1/2 with i = 49 and j = 98\n",
      "Their product = 1/100\n"
     ]
    }
   ],
   "source": [
    "product = F(1, 1)\n",
    "\n",
    "for frac, i, j in all_fractions_of_n_digits(2):\n",
    "    if can_be_wrongly_simplified(i, j):\n",
    "        print(f\"{frac} with i = {i} and j = {j}\")\n",
    "        product *= frac\n",
    "\n",
    "print(f\"Their product = {product}\")"
   ]
  },
  {
   "cell_type": "markdown",
   "metadata": {},
   "source": [
    "---\n",
    "## [Problem 34: Digit factorials](https://projecteuler.net/problem=34)"
   ]
  },
  {
   "cell_type": "markdown",
   "metadata": {},
   "source": [
    "Let's compute efficiently the factorial function, by using memoisation:"
   ]
  },
  {
   "cell_type": "code",
   "execution_count": 150,
   "metadata": {
    "ExecuteTime": {
     "end_time": "2020-10-13T19:47:21.302418Z",
     "start_time": "2020-10-13T19:47:21.293931Z"
    }
   },
   "outputs": [
    {
     "name": "stdout",
     "output_type": "stream",
     "text": [
      "[1, 1, 2, 6, 24, 120, 720, 5040, 40320, 362880]\n"
     ]
    }
   ],
   "source": [
    "from functools import lru_cache\n",
    "\n",
    "@lru_cache(maxsize=None)\n",
    "def factorial(n: int) -> int:\n",
    "    if n <= 1: return 1\n",
    "    else: return n * factorial(n - 1)\n",
    "\n",
    "factorials = [factorial(n) for n in range(0, 10)]\n",
    "print(factorials)"
   ]
  },
  {
   "cell_type": "code",
   "execution_count": 167,
   "metadata": {
    "ExecuteTime": {
     "end_time": "2020-10-13T19:59:44.314295Z",
     "start_time": "2020-10-13T19:59:44.306879Z"
    }
   },
   "outputs": [
    {
     "data": {
      "text/plain": [
       "3"
      ]
     },
     "execution_count": 167,
     "metadata": {},
     "output_type": "execute_result"
    }
   ],
   "source": [
    "n = 100\n",
    "math.ceil(math.log10(n))  # => 2 incorrect, needs + 1\n",
    "\n",
    "n = 145\n",
    "math.ceil(math.log10(n))  # => 3 correct"
   ]
  },
  {
   "cell_type": "markdown",
   "metadata": {},
   "source": [
    "First, we need to bound the size of the largest integer that can be the sum of the factorials of its digits.\n",
    "\n",
    "Let $k$ the number of digits of $x$, for instance $k=2$. Then $x$ is between $100...0 = 10^{k-1}$ (eg $10$ for $k=2$) and $999..9 = 10^k - 1$ (eg $99 = 100-1$ for $k=2$).\n",
    "The sum of the factorials of the digits of $x$ is between $1 * 1! + (k-1) * 0! = 1$ and $k * 9! = 362880 k$.\n",
    "\n",
    "And thus, as soon as $362880 k < 10^{k-1}$ then it is not possible for $x$ to be equal to the sum of the factorials of its digits.\n",
    "\n",
    "For small values of $k$, such that $k=3$ (for the example $145$), $10^{k-1} \\leq 362880 k$ but we can easily find the smallest $k$ that violates this inequality.\n",
    "\n",
    "So the smallest $k$ that don't work is the smallest $k$ such that $362880 k < 10^{k-1}$. The right-hand side grows exponentially while the left-hand side grows linearly, so clearly there will be a solution. Intuitively, it won't be large.\n",
    "Let's find out manually:"
   ]
  },
  {
   "cell_type": "code",
   "execution_count": 177,
   "metadata": {
    "ExecuteTime": {
     "end_time": "2020-10-13T20:22:42.058446Z",
     "start_time": "2020-10-13T20:22:42.054073Z"
    }
   },
   "outputs": [
    {
     "name": "stdout",
     "output_type": "stream",
     "text": [
      "6\n",
      "999999\n"
     ]
    }
   ],
   "source": [
    "k = 1\n",
    "while 10**k <= 362880 * k:\n",
    "    k += 1\n",
    "k = max(1, k - 1)\n",
    "print(k)\n",
    "max_nb_pb34 = 10**k - 1\n",
    "print(max_nb_pb34)"
   ]
  },
  {
   "cell_type": "markdown",
   "metadata": {},
   "source": [
    "We can also easily test if a number is the sum of the factorials of its digits:"
   ]
  },
  {
   "cell_type": "code",
   "execution_count": 178,
   "metadata": {
    "ExecuteTime": {
     "end_time": "2020-10-13T20:22:44.949695Z",
     "start_time": "2020-10-13T20:22:44.946257Z"
    }
   },
   "outputs": [],
   "source": [
    "def is_sum_of_factorials_of_its_digits(n: int) -> bool:\n",
    "    digits = map(int, list(str(n)))  # 145 => [1, 4, 5]\n",
    "    sum_of_factorials_of_its_digits = sum(map(factorial, digits))\n",
    "    return sum_of_factorials_of_its_digits == n"
   ]
  },
  {
   "cell_type": "code",
   "execution_count": 179,
   "metadata": {
    "ExecuteTime": {
     "end_time": "2020-10-13T20:22:46.331126Z",
     "start_time": "2020-10-13T20:22:46.325127Z"
    }
   },
   "outputs": [],
   "source": [
    "assert not is_sum_of_factorials_of_its_digits(144)\n",
    "assert is_sum_of_factorials_of_its_digits(145)\n",
    "assert not is_sum_of_factorials_of_its_digits(146)"
   ]
  },
  {
   "cell_type": "markdown",
   "metadata": {},
   "source": [
    "Now we can list all the numbers up-to a certain bound, and keep the ones we want, then compute their sum:"
   ]
  },
  {
   "cell_type": "code",
   "execution_count": 180,
   "metadata": {
    "ExecuteTime": {
     "end_time": "2020-10-13T20:22:47.470287Z",
     "start_time": "2020-10-13T20:22:47.461955Z"
    }
   },
   "outputs": [],
   "source": [
    "def list_of_such_numbers_pb34(bound=max_nb_pb34):\n",
    "    for i in range(3, bound + 1):\n",
    "        if is_sum_of_factorials_of_its_digits(i):\n",
    "            yield i\n",
    "\n",
    "def sum_of_such_numbers_pb34(bound=max_nb_pb34):\n",
    "    return sum(list_of_such_numbers_pb34(bound=bound))"
   ]
  },
  {
   "cell_type": "markdown",
   "metadata": {},
   "source": [
    "For numbers up-to $1000$, only 145 works:"
   ]
  },
  {
   "cell_type": "code",
   "execution_count": 181,
   "metadata": {
    "ExecuteTime": {
     "end_time": "2020-10-13T20:22:48.931284Z",
     "start_time": "2020-10-13T20:22:48.919688Z"
    }
   },
   "outputs": [
    {
     "name": "stdout",
     "output_type": "stream",
     "text": [
      "[145]\n",
      "145\n"
     ]
    }
   ],
   "source": [
    "print(list(list_of_such_numbers_pb34(bound=1000)))\n",
    "print(sum_of_such_numbers_pb34(bound=1000))"
   ]
  },
  {
   "cell_type": "markdown",
   "metadata": {},
   "source": [
    "Now let's use the bound we computed:"
   ]
  },
  {
   "cell_type": "code",
   "execution_count": 182,
   "metadata": {
    "ExecuteTime": {
     "end_time": "2020-10-13T20:22:59.534184Z",
     "start_time": "2020-10-13T20:22:56.501504Z"
    }
   },
   "outputs": [
    {
     "name": "stdout",
     "output_type": "stream",
     "text": [
      "[145, 40585]\n",
      "40730\n"
     ]
    }
   ],
   "source": [
    "print(list(list_of_such_numbers_pb34(bound=max_nb_pb34)))\n",
    "print(sum_of_such_numbers_pb34(bound=max_nb_pb34))"
   ]
  },
  {
   "cell_type": "markdown",
   "metadata": {},
   "source": [
    "---\n",
    "## [Problem 35: Circular primes](https://projecteuler.net/problem=35)"
   ]
  },
  {
   "cell_type": "code",
   "execution_count": 184,
   "metadata": {
    "ExecuteTime": {
     "end_time": "2020-10-13T20:27:28.540850Z",
     "start_time": "2020-10-13T20:27:28.535748Z"
    }
   },
   "outputs": [],
   "source": [
    "import math"
   ]
  },
  {
   "cell_type": "code",
   "execution_count": 189,
   "metadata": {
    "ExecuteTime": {
     "end_time": "2020-10-13T20:30:25.303363Z",
     "start_time": "2020-10-13T20:30:25.299584Z"
    }
   },
   "outputs": [],
   "source": [
    "def erathostene_sieve(n: int) -> List[int]:\n",
    "    primes = [False, False] + [True] * (n - 1)  # from 0 to n included\n",
    "    max_divisor = math.floor(math.sqrt(n))\n",
    "    for divisor in range(2, max_divisor + 1):\n",
    "        if primes[divisor]:\n",
    "            i = 2\n",
    "            while divisor * i <= n:\n",
    "                primes[divisor * i] = False\n",
    "                i += 1\n",
    "    return primes"
   ]
  },
  {
   "cell_type": "code",
   "execution_count": 191,
   "metadata": {
    "ExecuteTime": {
     "end_time": "2020-10-13T20:30:47.371025Z",
     "start_time": "2020-10-13T20:30:47.363288Z"
    }
   },
   "outputs": [
    {
     "name": "stdout",
     "output_type": "stream",
     "text": [
      "[False, False, True, True, False, True, False, True, False, False, False, True, False, True, False, False, False, True, False, True, False, False, False, True, False, False, False, False, False, True, False, True, False, False, False, False, False, True, False, False, False, True, False, True, False, False, False, True, False, False, False, False, False, True, False, False, False, False, False, True, False, True, False, False, False, False, False, True, False, False, False, True, False, True, False, False, False, False, False, True, False, False, False, True, False, False, False, False, False, True, False, False, False, False, False, False, False, True, False, False, False]\n",
      "[2, 3, 5, 7, 11, 13, 17, 19, 23, 29, 31, 37, 41, 43, 47, 53, 59, 61, 67, 71, 73, 79, 83, 89, 97]\n"
     ]
    }
   ],
   "source": [
    "sieve100 = erathostene_sieve(100)\n",
    "print(sieve100)\n",
    "print([i for i, b in enumerate(sieve100) if b])"
   ]
  },
  {
   "cell_type": "code",
   "execution_count": 194,
   "metadata": {
    "ExecuteTime": {
     "end_time": "2020-10-13T20:32:38.982281Z",
     "start_time": "2020-10-13T20:32:38.641939Z"
    }
   },
   "outputs": [
    {
     "name": "stdout",
     "output_type": "stream",
     "text": [
      "78498\n"
     ]
    }
   ],
   "source": [
    "sieve1million = erathostene_sieve(int(1e6))\n",
    "print(len([i for i, b in enumerate(sieve1million) if b]))"
   ]
  },
  {
   "cell_type": "code",
   "execution_count": 196,
   "metadata": {
    "ExecuteTime": {
     "end_time": "2020-10-13T20:34:27.975671Z",
     "start_time": "2020-10-13T20:34:27.969516Z"
    }
   },
   "outputs": [],
   "source": [
    "def is_prime(n: int) -> bool:\n",
    "    assert 1 <= n <= len(sieve1million) - 1\n",
    "    return sieve1million[n]"
   ]
  },
  {
   "cell_type": "markdown",
   "metadata": {},
   "source": [
    "Now we have all the prime numbers up-to one million, and a constant-time way of checking if small numbers are prime."
   ]
  },
  {
   "cell_type": "code",
   "execution_count": 203,
   "metadata": {
    "ExecuteTime": {
     "end_time": "2020-10-13T20:36:35.936773Z",
     "start_time": "2020-10-13T20:36:35.928667Z"
    }
   },
   "outputs": [
    {
     "name": "stdout",
     "output_type": "stream",
     "text": [
      "197\n",
      "197\n",
      "971\n",
      "719\n"
     ]
    }
   ],
   "source": [
    "s = '197'\n",
    "print(s)\n",
    "print(s[0:] + s[:0])\n",
    "print(s[1:] + s[:1])\n",
    "print(s[2:] + s[:2])"
   ]
  },
  {
   "cell_type": "code",
   "execution_count": 206,
   "metadata": {
    "ExecuteTime": {
     "end_time": "2020-10-13T20:38:53.563484Z",
     "start_time": "2020-10-13T20:38:53.555989Z"
    }
   },
   "outputs": [],
   "source": [
    "def circular_numbers(n: int) -> List[int]:\n",
    "    str_n = str(n)\n",
    "    return [ int(str_n[i:] + str_n[:i]) for i in range(1, len(str_n)) ]"
   ]
  },
  {
   "cell_type": "code",
   "execution_count": 207,
   "metadata": {
    "ExecuteTime": {
     "end_time": "2020-10-13T20:38:53.973223Z",
     "start_time": "2020-10-13T20:38:53.968095Z"
    }
   },
   "outputs": [
    {
     "data": {
      "text/plain": [
       "[971, 719]"
      ]
     },
     "execution_count": 207,
     "metadata": {},
     "output_type": "execute_result"
    }
   ],
   "source": [
    "circular_numbers(197)"
   ]
  },
  {
   "cell_type": "code",
   "execution_count": 208,
   "metadata": {
    "ExecuteTime": {
     "end_time": "2020-10-13T20:38:56.335407Z",
     "start_time": "2020-10-13T20:38:56.328165Z"
    }
   },
   "outputs": [],
   "source": [
    "def is_circular_prime(n: int) -> bool:\n",
    "    if not is_prime(n):\n",
    "        return False\n",
    "    return all(map(is_prime, circular_numbers(n)))"
   ]
  },
  {
   "cell_type": "code",
   "execution_count": 209,
   "metadata": {
    "ExecuteTime": {
     "end_time": "2020-10-13T20:38:57.816819Z",
     "start_time": "2020-10-13T20:38:57.813291Z"
    }
   },
   "outputs": [
    {
     "name": "stdout",
     "output_type": "stream",
     "text": [
      "[2, 3, 5, 7, 11, 13, 17, 31, 37, 71, 73, 79, 97]\n"
     ]
    }
   ],
   "source": [
    "print([n for n in range(2, 100) if is_circular_prime(n)])"
   ]
  },
  {
   "cell_type": "code",
   "execution_count": 210,
   "metadata": {
    "ExecuteTime": {
     "end_time": "2020-10-13T20:39:21.455464Z",
     "start_time": "2020-10-13T20:39:21.022005Z"
    }
   },
   "outputs": [
    {
     "name": "stdout",
     "output_type": "stream",
     "text": [
      "55\n"
     ]
    }
   ],
   "source": [
    "print(len([n for n in range(2, int(1e6) + 1) if is_circular_prime(n)]))"
   ]
  },
  {
   "cell_type": "markdown",
   "metadata": {},
   "source": [
    "---\n",
    "## [Problem 36: Double-base palindromes](https://projecteuler.net/problem=36)"
   ]
  },
  {
   "cell_type": "markdown",
   "metadata": {},
   "source": [
    "It's very easy to check if $n$ is a palindrome in base $10$:"
   ]
  },
  {
   "cell_type": "code",
   "execution_count": 211,
   "metadata": {
    "ExecuteTime": {
     "end_time": "2020-10-13T20:41:08.957867Z",
     "start_time": "2020-10-13T20:41:08.954861Z"
    }
   },
   "outputs": [],
   "source": [
    "def is_palindrome_base10(n: int) -> bool:\n",
    "    str_n = str(n)\n",
    "    return str_n == str_n[::-1]"
   ]
  },
  {
   "cell_type": "code",
   "execution_count": 212,
   "metadata": {
    "ExecuteTime": {
     "end_time": "2020-10-13T20:41:27.890870Z",
     "start_time": "2020-10-13T20:41:27.885950Z"
    }
   },
   "outputs": [],
   "source": [
    "assert not is_palindrome_base10(584)\n",
    "assert is_palindrome_base10(585)\n",
    "assert not is_palindrome_base10(586)"
   ]
  },
  {
   "cell_type": "markdown",
   "metadata": {},
   "source": [
    "It's also very easy to check if $n$ is a palindrome in base $2$:"
   ]
  },
  {
   "cell_type": "code",
   "execution_count": 215,
   "metadata": {
    "ExecuteTime": {
     "end_time": "2020-10-13T20:42:08.806717Z",
     "start_time": "2020-10-13T20:42:08.803690Z"
    }
   },
   "outputs": [
    {
     "data": {
      "text/plain": [
       "'1001001001'"
      ]
     },
     "execution_count": 215,
     "metadata": {},
     "output_type": "execute_result"
    }
   ],
   "source": [
    "bin(585)[2:]"
   ]
  },
  {
   "cell_type": "code",
   "execution_count": 216,
   "metadata": {
    "ExecuteTime": {
     "end_time": "2020-10-13T20:42:34.812519Z",
     "start_time": "2020-10-13T20:42:34.809996Z"
    }
   },
   "outputs": [],
   "source": [
    "def is_palindrome_base2(n: int) -> bool:\n",
    "    str_n_2 = bin(n)[2:]\n",
    "    return str_n_2 == str_n_2[::-1]"
   ]
  },
  {
   "cell_type": "code",
   "execution_count": 217,
   "metadata": {
    "ExecuteTime": {
     "end_time": "2020-10-13T20:42:38.627686Z",
     "start_time": "2020-10-13T20:42:38.623340Z"
    }
   },
   "outputs": [],
   "source": [
    "assert not is_palindrome_base2(584)\n",
    "assert is_palindrome_base2(585)\n",
    "assert not is_palindrome_base2(586)"
   ]
  },
  {
   "cell_type": "code",
   "execution_count": 218,
   "metadata": {
    "ExecuteTime": {
     "end_time": "2020-10-13T20:43:41.204020Z",
     "start_time": "2020-10-13T20:43:41.199981Z"
    }
   },
   "outputs": [],
   "source": [
    "def palindromes_in_base10_and_base2(start: int=1, end: int=int(1e6)) -> List[int]:\n",
    "    return [n for n in range(start, end + 1) if is_palindrome_base10(n) and is_palindrome_base2(n)]"
   ]
  },
  {
   "cell_type": "code",
   "execution_count": 220,
   "metadata": {
    "ExecuteTime": {
     "end_time": "2020-10-13T20:43:55.202338Z",
     "start_time": "2020-10-13T20:43:55.196680Z"
    }
   },
   "outputs": [
    {
     "data": {
      "text/plain": [
       "[1, 3, 5, 7, 9, 33, 99, 313, 585, 717]"
      ]
     },
     "execution_count": 220,
     "metadata": {},
     "output_type": "execute_result"
    }
   ],
   "source": [
    "palindromes_in_base10_and_base2(start=1, end=1000)"
   ]
  },
  {
   "cell_type": "code",
   "execution_count": 222,
   "metadata": {
    "ExecuteTime": {
     "end_time": "2020-10-13T20:44:17.086420Z",
     "start_time": "2020-10-13T20:44:16.782690Z"
    }
   },
   "outputs": [
    {
     "data": {
      "text/plain": [
       "872187"
      ]
     },
     "execution_count": 222,
     "metadata": {},
     "output_type": "execute_result"
    }
   ],
   "source": [
    "sum(palindromes_in_base10_and_base2(start=1, end=int(1e6)))"
   ]
  },
  {
   "cell_type": "markdown",
   "metadata": {},
   "source": [
    "---\n",
    "## [Problem 37: Truncatable primes](https://projecteuler.net/problem=37)"
   ]
  },
  {
   "cell_type": "code",
   "execution_count": 224,
   "metadata": {
    "ExecuteTime": {
     "end_time": "2020-10-13T20:48:52.165872Z",
     "start_time": "2020-10-13T20:48:52.155298Z"
    }
   },
   "outputs": [],
   "source": [
    "def truncate_from_left_to_right(n: int) -> List[int]:\n",
    "    str_n = str(n)\n",
    "    return [int(str_n[i:]) for i in range(0, len(str_n))]"
   ]
  },
  {
   "cell_type": "code",
   "execution_count": 225,
   "metadata": {
    "ExecuteTime": {
     "end_time": "2020-10-13T20:48:58.148081Z",
     "start_time": "2020-10-13T20:48:58.142549Z"
    }
   },
   "outputs": [
    {
     "data": {
      "text/plain": [
       "[3797, 797, 97, 7]"
      ]
     },
     "execution_count": 225,
     "metadata": {},
     "output_type": "execute_result"
    }
   ],
   "source": [
    "truncate_from_left_to_right(3797)"
   ]
  },
  {
   "cell_type": "code",
   "execution_count": 240,
   "metadata": {
    "ExecuteTime": {
     "end_time": "2020-10-13T20:50:41.176945Z",
     "start_time": "2020-10-13T20:50:41.173888Z"
    }
   },
   "outputs": [],
   "source": [
    "def truncate_from_right_to_left(n: int) -> List[int]:\n",
    "    str_n = str(n)\n",
    "    return [int(str_n[:i]) for i in range(len(str_n), 0, -1)]"
   ]
  },
  {
   "cell_type": "code",
   "execution_count": 241,
   "metadata": {
    "ExecuteTime": {
     "end_time": "2020-10-13T20:50:41.458911Z",
     "start_time": "2020-10-13T20:50:41.453029Z"
    }
   },
   "outputs": [
    {
     "data": {
      "text/plain": [
       "[3797, 379, 37, 3]"
      ]
     },
     "execution_count": 241,
     "metadata": {},
     "output_type": "execute_result"
    }
   ],
   "source": [
    "truncate_from_right_to_left(3797)"
   ]
  },
  {
   "cell_type": "code",
   "execution_count": 244,
   "metadata": {
    "ExecuteTime": {
     "end_time": "2020-10-13T20:52:41.069804Z",
     "start_time": "2020-10-13T20:52:41.063585Z"
    }
   },
   "outputs": [],
   "source": [
    "def is_truncatable_prime(n: int, sieve: List[int]) -> bool:\n",
    "    if n <= 7 or not sieve[n]: return False\n",
    "    return all(sieve[k] for k in truncate_from_left_to_right(n) + truncate_from_right_to_left(n))"
   ]
  },
  {
   "cell_type": "code",
   "execution_count": 248,
   "metadata": {
    "ExecuteTime": {
     "end_time": "2020-10-13T20:54:11.615007Z",
     "start_time": "2020-10-13T20:54:11.611230Z"
    }
   },
   "outputs": [],
   "source": [
    "assert is_truncatable_prime(37, sieve=sieve1million)\n",
    "assert is_truncatable_prime(3797, sieve=sieve1million)\n",
    "assert not is_truncatable_prime(99371, sieve=sieve1million)  # 99 is not prime!"
   ]
  },
  {
   "cell_type": "code",
   "execution_count": 250,
   "metadata": {
    "ExecuteTime": {
     "end_time": "2020-10-13T20:57:03.641523Z",
     "start_time": "2020-10-13T20:57:03.638390Z"
    }
   },
   "outputs": [
    {
     "name": "stdout",
     "output_type": "stream",
     "text": [
      "[2, 3, 5, 7, 11, 13, 17, 19, 23, 29, 31, 37, 41, 43, 47, 53, 59, 61, 67, 71, 73, 79, 83, 89, 97]\n"
     ]
    }
   ],
   "source": [
    "print([i for i, b in enumerate(sieve100) if b])"
   ]
  },
  {
   "cell_type": "markdown",
   "metadata": {},
   "source": [
    "The tricky part is to bound the largest number than can be a truncatable prime.\n",
    "The problem states that there are only eleven primes that are truncatable primes.\n",
    "How to find an upper bound on these numbers?\n",
    "\n",
    "Well, one solution could just to enumerate prime numbers until we find 11 candidates, then stop.\n",
    "Let's cheat and do that."
   ]
  },
  {
   "cell_type": "code",
   "execution_count": 253,
   "metadata": {
    "ExecuteTime": {
     "end_time": "2020-10-13T21:00:29.609019Z",
     "start_time": "2020-10-13T21:00:29.600412Z"
    }
   },
   "outputs": [],
   "source": [
    "def find_truncatable_primes(maxnumber=11, sieve=sieve1million):\n",
    "    truncatable_primes = []\n",
    "    number = 0\n",
    "    for i, b in enumerate(sieve1million):\n",
    "        if b:\n",
    "            if is_truncatable_prime(i, sieve=sieve):\n",
    "                truncatable_primes.append(i)\n",
    "                number += 1\n",
    "                if number >= maxnumber:\n",
    "                    return truncatable_primes"
   ]
  },
  {
   "cell_type": "code",
   "execution_count": 264,
   "metadata": {
    "ExecuteTime": {
     "end_time": "2020-10-13T21:00:45.194690Z",
     "start_time": "2020-10-13T21:00:44.916126Z"
    }
   },
   "outputs": [
    {
     "data": {
      "text/plain": [
       "[23, 37, 53, 73, 313, 317, 373, 797, 3137, 3797, 739397]"
      ]
     },
     "execution_count": 264,
     "metadata": {},
     "output_type": "execute_result"
    }
   ],
   "source": [
    "find_truncatable_primes(maxnumber=11)"
   ]
  },
  {
   "cell_type": "code",
   "execution_count": 265,
   "metadata": {
    "ExecuteTime": {
     "end_time": "2020-10-13T21:00:48.375736Z",
     "start_time": "2020-10-13T21:00:48.017390Z"
    }
   },
   "outputs": [],
   "source": [
    "find_truncatable_primes(maxnumber=12)"
   ]
  },
  {
   "cell_type": "markdown",
   "metadata": {},
   "source": [
    "That's a good sign, for prime numbers up-to a million we could not find the 12th truncatable prime."
   ]
  },
  {
   "cell_type": "code",
   "execution_count": 266,
   "metadata": {
    "ExecuteTime": {
     "end_time": "2020-10-13T21:01:22.136326Z",
     "start_time": "2020-10-13T21:01:21.858516Z"
    }
   },
   "outputs": [
    {
     "data": {
      "text/plain": [
       "748317"
      ]
     },
     "execution_count": 266,
     "metadata": {},
     "output_type": "execute_result"
    }
   ],
   "source": [
    "sum(find_truncatable_primes(maxnumber=11))"
   ]
  },
  {
   "cell_type": "markdown",
   "metadata": {},
   "source": [
    "---\n",
    "## [Problem 38: Pandigital multiples](https://projecteuler.net/problem=38)\n",
    "\n",
    "Well I wrote the code and my notebook froze so I lost everything... Not so motivated to start again.\n",
    "\n",
    "The first thing to do is to mathematically bound the largest integer $x$ such that the product of $x$ by $1,\\dots,n$ gives a 1-to-9 pandigital number.\n",
    "\n",
    "- $n$ clearly has to be smaller than $9$, otherwise the concatenated product have more than $10$ digits and cannot be 1-to-9 pandigital.\n",
    "- Now, for a fixed $n$, if $x$ has $d$ digits then $nd \\leq 9$, so this bounds the largest possible $x$ for a candidate $n$.\n",
    "\n",
    "Let's simply try them all."
   ]
  },
  {
   "cell_type": "code",
   "execution_count": 5,
   "metadata": {
    "ExecuteTime": {
     "end_time": "2020-10-14T14:09:25.825136Z",
     "start_time": "2020-10-14T14:09:25.818951Z"
    }
   },
   "outputs": [],
   "source": [
    "from typing import Union"
   ]
  },
  {
   "cell_type": "code",
   "execution_count": 6,
   "metadata": {
    "ExecuteTime": {
     "end_time": "2020-10-14T14:09:31.056207Z",
     "start_time": "2020-10-14T14:09:31.045900Z"
    }
   },
   "outputs": [],
   "source": [
    "def is_pandigital_1to9(n: Union[str, int]) -> bool:\n",
    "    str_n = str(n)\n",
    "    if len(str_n) != 9: return False\n",
    "    return sorted(str_n) == ['1','2','3','4','5','6','7','8','9']"
   ]
  },
  {
   "cell_type": "code",
   "execution_count": 4,
   "metadata": {
    "ExecuteTime": {
     "end_time": "2020-10-14T14:09:02.736288Z",
     "start_time": "2020-10-14T14:09:02.730190Z"
    }
   },
   "outputs": [],
   "source": [
    "assert is_pandigital_1to9(192384576)\n",
    "assert is_pandigital_1to9(918273645)"
   ]
  },
  {
   "cell_type": "code",
   "execution_count": 9,
   "metadata": {
    "ExecuteTime": {
     "end_time": "2020-10-14T14:10:14.126789Z",
     "start_time": "2020-10-14T14:10:14.119036Z"
    }
   },
   "outputs": [],
   "source": [
    "def concatenated_product_1ton(x: int, n: int) -> str:\n",
    "    return ''.join(str(x * i) for i in range(1, n+1))"
   ]
  },
  {
   "cell_type": "code",
   "execution_count": 13,
   "metadata": {
    "ExecuteTime": {
     "end_time": "2020-10-14T14:11:34.275713Z",
     "start_time": "2020-10-14T14:11:34.271660Z"
    }
   },
   "outputs": [],
   "source": [
    "assert is_pandigital_1to9(concatenated_product_1ton(192, 3))\n",
    "assert is_pandigital_1to9(concatenated_product_1ton(9, 5))\n",
    "assert is_pandigital_1to9(concatenated_product_1ton(1, 9))"
   ]
  },
  {
   "cell_type": "markdown",
   "metadata": {},
   "source": [
    "Now we can just try all the possible values for $x$ and $n$ and keep a list of the candidates and return the largest one."
   ]
  },
  {
   "cell_type": "code",
   "execution_count": 26,
   "metadata": {
    "ExecuteTime": {
     "end_time": "2020-10-14T14:35:08.474387Z",
     "start_time": "2020-10-14T14:35:08.467559Z"
    }
   },
   "outputs": [],
   "source": [
    "def all_concatenated_product_pandigital_1to9(max_n: int):\n",
    "    candidates = []\n",
    "    for n in range(2, max_n + 1):\n",
    "        print(f\"\\nStarting with n = {n}...\")\n",
    "        d = 1\n",
    "        while n*d <= 9:\n",
    "            print(f\"\\tStarting with d = {d}...\")\n",
    "            for x in range(10**(d-1), 10**d):\n",
    "                prod_x_1ton = concatenated_product_1ton(x, n)\n",
    "                if is_pandigital_1to9(prod_x_1ton):\n",
    "                    print(f\"   ==> adding {prod_x_1ton} coming from x = {x}, d = {d} and n = {n}\")\n",
    "                    candidates.append(int(prod_x_1ton))\n",
    "            d += 1\n",
    "    return candidates"
   ]
  },
  {
   "cell_type": "code",
   "execution_count": 27,
   "metadata": {
    "ExecuteTime": {
     "end_time": "2020-10-14T14:35:09.238939Z",
     "start_time": "2020-10-14T14:35:09.235140Z"
    }
   },
   "outputs": [],
   "source": [
    "def largest_concatenated_product_pandigital_1to9(max_n: int):\n",
    "    candidates = all_concatenated_product_pandigital_1to9(max_n = max_n)\n",
    "    return max(candidates)"
   ]
  },
  {
   "cell_type": "code",
   "execution_count": 28,
   "metadata": {
    "ExecuteTime": {
     "end_time": "2020-10-14T14:35:10.929089Z",
     "start_time": "2020-10-14T14:35:10.884951Z"
    }
   },
   "outputs": [
    {
     "name": "stdout",
     "output_type": "stream",
     "text": [
      "\n",
      "Starting with n = 2...\n",
      "\tStarting with d = 1...\n",
      "\tStarting with d = 2...\n",
      "\tStarting with d = 3...\n",
      "\tStarting with d = 4...\n",
      "   ==> adding 672913458 coming from x = 6729, d = 4 and n = 2\n",
      "   ==> adding 679213584 coming from x = 6792, d = 4 and n = 2\n",
      "   ==> adding 692713854 coming from x = 6927, d = 4 and n = 2\n",
      "   ==> adding 726914538 coming from x = 7269, d = 4 and n = 2\n",
      "   ==> adding 729314586 coming from x = 7293, d = 4 and n = 2\n",
      "   ==> adding 732914658 coming from x = 7329, d = 4 and n = 2\n",
      "   ==> adding 769215384 coming from x = 7692, d = 4 and n = 2\n",
      "   ==> adding 792315846 coming from x = 7923, d = 4 and n = 2\n",
      "   ==> adding 793215864 coming from x = 7932, d = 4 and n = 2\n",
      "   ==> adding 926718534 coming from x = 9267, d = 4 and n = 2\n",
      "   ==> adding 927318546 coming from x = 9273, d = 4 and n = 2\n",
      "   ==> adding 932718654 coming from x = 9327, d = 4 and n = 2\n",
      "\n",
      "Starting with n = 3...\n",
      "\tStarting with d = 1...\n",
      "\tStarting with d = 2...\n",
      "\tStarting with d = 3...\n",
      "   ==> adding 192384576 coming from x = 192, d = 3 and n = 3\n",
      "   ==> adding 219438657 coming from x = 219, d = 3 and n = 3\n",
      "   ==> adding 273546819 coming from x = 273, d = 3 and n = 3\n",
      "   ==> adding 327654981 coming from x = 327, d = 3 and n = 3\n",
      "\n",
      "Starting with n = 4...\n",
      "\tStarting with d = 1...\n",
      "\tStarting with d = 2...\n",
      "\n",
      "Starting with n = 5...\n",
      "\tStarting with d = 1...\n",
      "   ==> adding 918273645 coming from x = 9, d = 1 and n = 5\n",
      "\n",
      "Starting with n = 6...\n",
      "\tStarting with d = 1...\n",
      "\n",
      "Starting with n = 7...\n",
      "\tStarting with d = 1...\n",
      "\n",
      "Starting with n = 8...\n",
      "\tStarting with d = 1...\n",
      "\n",
      "Starting with n = 9...\n",
      "\tStarting with d = 1...\n",
      "   ==> adding 123456789 coming from x = 1, d = 1 and n = 9\n"
     ]
    },
    {
     "data": {
      "text/plain": [
       "932718654"
      ]
     },
     "execution_count": 28,
     "metadata": {},
     "output_type": "execute_result"
    }
   ],
   "source": [
    "largest_concatenated_product_pandigital_1to9(9)"
   ]
  },
  {
   "cell_type": "markdown",
   "metadata": {},
   "source": [
    "---\n",
    "## [Problem 39: Integer right triangles](https://projecteuler.net/problem=39)\n",
    "If p is the perimeter of a right angle triangle with integral length sides, {a,b,c}, there are exactly three solutions for p = 120 : {20,48,52}, {24,45,51}, {30,40,50}\n",
    "\n",
    "For which value of p ≤ 1000, is the number of solutions maximised?\n",
    "\n",
    "Well there is no need to be smart here, we just need to try all the values $a,b,c=\\sqrt{a^2+b^2}$ such that the longer slide is an integer, keep the list of values of p and the number of solutions, and find the p that maximize this number of solutions.\n",
    "\n",
    "We could be much smarter in narrowing down the possible values for $a,b,c$, but we don't really need to."
   ]
  },
  {
   "cell_type": "code",
   "execution_count": 29,
   "metadata": {
    "ExecuteTime": {
     "end_time": "2020-10-14T17:57:45.159540Z",
     "start_time": "2020-10-14T17:57:45.152227Z"
    }
   },
   "outputs": [],
   "source": [
    "import math"
   ]
  },
  {
   "cell_type": "code",
   "execution_count": 52,
   "metadata": {
    "ExecuteTime": {
     "end_time": "2020-10-14T18:06:54.509834Z",
     "start_time": "2020-10-14T18:06:54.488748Z"
    }
   },
   "outputs": [],
   "source": [
    "def find_all_integer_right_triangle(max_p=1000):\n",
    "    nb_of_solutions_by_p = {}\n",
    "    solutions_by_p = {}\n",
    "    for p in range(1, max_p + 1):\n",
    "        nb_of_solutions_by_p[p] = 0\n",
    "        solutions_by_p[p] = []\n",
    "        max_side = p // 2\n",
    "        for a in range(1, max_side + 1):\n",
    "            for b in range(a + 1, max_side + 1):\n",
    "                c = math.sqrt(a**2 + b**2)\n",
    "                if int(c) == c:\n",
    "                    c = int(c)\n",
    "                    if a + b + c == p:\n",
    "                        nb_of_solutions_by_p[p] += 1\n",
    "                        solutions_by_p[p] += [(a,b,c)]\n",
    "    max_nb_of_solutions = max(nb_solutions for nb_solutions in nb_of_solutions_by_p.values())\n",
    "    print(max_nb_of_solutions)\n",
    "    print([solutions_by_p[p] for p in solutions_by_p.keys() if nb_of_solutions_by_p[p] == max_nb_of_solutions])\n",
    "    return [p for p in nb_of_solutions_by_p.keys() if nb_of_solutions_by_p[p] == max_nb_of_solutions]"
   ]
  },
  {
   "cell_type": "code",
   "execution_count": 53,
   "metadata": {
    "ExecuteTime": {
     "end_time": "2020-10-14T18:06:55.103691Z",
     "start_time": "2020-10-14T18:06:54.990236Z"
    }
   },
   "outputs": [
    {
     "name": "stdout",
     "output_type": "stream",
     "text": [
      "3\n",
      "[[(20, 48, 52), (24, 45, 51), (30, 40, 50)]]\n"
     ]
    },
    {
     "data": {
      "text/plain": [
       "[120]"
      ]
     },
     "execution_count": 53,
     "metadata": {},
     "output_type": "execute_result"
    }
   ],
   "source": [
    "find_all_integer_right_triangle(max_p=120)"
   ]
  },
  {
   "cell_type": "code",
   "execution_count": 54,
   "metadata": {
    "ExecuteTime": {
     "end_time": "2020-10-14T18:07:37.453191Z",
     "start_time": "2020-10-14T18:06:59.882579Z"
    }
   },
   "outputs": [
    {
     "name": "stdout",
     "output_type": "stream",
     "text": [
      "8\n",
      "[[(40, 399, 401), (56, 390, 394), (105, 360, 375), (120, 350, 370), (140, 336, 364), (168, 315, 357), (210, 280, 350), (240, 252, 348)]]\n"
     ]
    },
    {
     "data": {
      "text/plain": [
       "[840]"
      ]
     },
     "execution_count": 54,
     "metadata": {},
     "output_type": "execute_result"
    }
   ],
   "source": [
    "find_all_integer_right_triangle(max_p=1000)"
   ]
  },
  {
   "cell_type": "markdown",
   "metadata": {},
   "source": [
    "So the answer is $p=840$, which have 8 solutions."
   ]
  },
  {
   "cell_type": "markdown",
   "metadata": {},
   "source": [
    "---\n",
    "## [Problem 40: Champernowne's constant](https://projecteuler.net/problem=40)\n",
    "\n",
    "Let's use a huge string and simply access its value at index $i=1,10,100,1000,10000,100000,1000000$.\n",
    "It will take some time but it'll work easily."
   ]
  },
  {
   "cell_type": "code",
   "execution_count": 55,
   "metadata": {
    "ExecuteTime": {
     "end_time": "2020-10-14T18:14:31.123077Z",
     "start_time": "2020-10-14T18:14:31.115502Z"
    }
   },
   "outputs": [],
   "source": [
    "def construct_irrational_decimal_fraction(max_n=30):\n",
    "    return ''.join(str(n) for n in range(1, max_n + 1))"
   ]
  },
  {
   "cell_type": "code",
   "execution_count": 58,
   "metadata": {
    "ExecuteTime": {
     "end_time": "2020-10-14T18:14:54.896331Z",
     "start_time": "2020-10-14T18:14:54.887644Z"
    }
   },
   "outputs": [],
   "source": [
    "assert '1' == construct_irrational_decimal_fraction(30)[11]  # 12th digit is 1, ok"
   ]
  },
  {
   "cell_type": "markdown",
   "metadata": {},
   "source": [
    "Now we can just build a huge string and access it."
   ]
  },
  {
   "cell_type": "code",
   "execution_count": 59,
   "metadata": {
    "ExecuteTime": {
     "end_time": "2020-10-14T18:16:02.899968Z",
     "start_time": "2020-10-14T18:16:02.890636Z"
    }
   },
   "outputs": [],
   "source": [
    "def product(iterator):\n",
    "    p = 1\n",
    "    for value in iterator:\n",
    "        p *= value\n",
    "    return p"
   ]
  },
  {
   "cell_type": "code",
   "execution_count": 67,
   "metadata": {
    "ExecuteTime": {
     "end_time": "2020-10-14T18:17:38.295676Z",
     "start_time": "2020-10-14T18:17:38.283383Z"
    }
   },
   "outputs": [],
   "source": [
    "def product_of_d1_to_dn(list_of_n=[1,10]):\n",
    "    max_n = max(list_of_n)\n",
    "    s = construct_irrational_decimal_fraction(max_n=1+max_n)\n",
    "    return product(int(s[di]) for di in list_of_n)"
   ]
  },
  {
   "cell_type": "code",
   "execution_count": 68,
   "metadata": {
    "ExecuteTime": {
     "end_time": "2020-10-14T18:17:38.500230Z",
     "start_time": "2020-10-14T18:17:38.495114Z"
    }
   },
   "outputs": [
    {
     "data": {
      "text/plain": [
       "2"
      ]
     },
     "execution_count": 68,
     "metadata": {},
     "output_type": "execute_result"
    }
   ],
   "source": [
    "product_of_d1_to_dn([1, 11])  # product of 2th digit = 2 and 12th digit = 1 ==> 2"
   ]
  },
  {
   "cell_type": "code",
   "execution_count": 70,
   "metadata": {
    "ExecuteTime": {
     "end_time": "2020-10-14T18:18:34.296006Z",
     "start_time": "2020-10-14T18:18:34.285148Z"
    }
   },
   "outputs": [
    {
     "data": {
      "text/plain": [
       "1"
      ]
     },
     "execution_count": 70,
     "metadata": {},
     "output_type": "execute_result"
    }
   ],
   "source": [
    "product_of_d1_to_dn([0, 9])"
   ]
  },
  {
   "cell_type": "code",
   "execution_count": 71,
   "metadata": {
    "ExecuteTime": {
     "end_time": "2020-10-14T18:18:34.935141Z",
     "start_time": "2020-10-14T18:18:34.929926Z"
    }
   },
   "outputs": [
    {
     "data": {
      "text/plain": [
       "5"
      ]
     },
     "execution_count": 71,
     "metadata": {},
     "output_type": "execute_result"
    }
   ],
   "source": [
    "product_of_d1_to_dn([0, 9, 99])"
   ]
  },
  {
   "cell_type": "code",
   "execution_count": 72,
   "metadata": {
    "ExecuteTime": {
     "end_time": "2020-10-14T18:18:40.893585Z",
     "start_time": "2020-10-14T18:18:40.469167Z"
    }
   },
   "outputs": [
    {
     "data": {
      "text/plain": [
       "15"
      ]
     },
     "execution_count": 72,
     "metadata": {},
     "output_type": "execute_result"
    }
   ],
   "source": [
    "product_of_d1_to_dn([0, 9, 99, 999])"
   ]
  },
  {
   "cell_type": "code",
   "execution_count": 73,
   "metadata": {
    "ExecuteTime": {
     "end_time": "2020-10-14T18:18:40.893585Z",
     "start_time": "2020-10-14T18:18:40.469167Z"
    }
   },
   "outputs": [
    {
     "data": {
      "text/plain": [
       "105"
      ]
     },
     "execution_count": 73,
     "metadata": {},
     "output_type": "execute_result"
    }
   ],
   "source": [
    "product_of_d1_to_dn([0, 9, 99, 999, 9999])"
   ]
  },
  {
   "cell_type": "code",
   "execution_count": 74,
   "metadata": {
    "ExecuteTime": {
     "end_time": "2020-10-14T18:18:40.893585Z",
     "start_time": "2020-10-14T18:18:40.469167Z"
    }
   },
   "outputs": [
    {
     "data": {
      "text/plain": [
       "210"
      ]
     },
     "execution_count": 74,
     "metadata": {},
     "output_type": "execute_result"
    }
   ],
   "source": [
    "product_of_d1_to_dn([0, 9, 99, 999, 9999, 99999])"
   ]
  },
  {
   "cell_type": "code",
   "execution_count": 75,
   "metadata": {
    "ExecuteTime": {
     "end_time": "2020-10-14T18:18:40.893585Z",
     "start_time": "2020-10-14T18:18:40.469167Z"
    }
   },
   "outputs": [
    {
     "data": {
      "text/plain": [
       "210"
      ]
     },
     "execution_count": 75,
     "metadata": {},
     "output_type": "execute_result"
    }
   ],
   "source": [
    "product_of_d1_to_dn([0, 9, 99, 999, 9999, 99999, 999999])"
   ]
  },
  {
   "cell_type": "code",
   "execution_count": 76,
   "metadata": {
    "ExecuteTime": {
     "end_time": "2020-10-14T18:18:45.527068Z",
     "start_time": "2020-10-14T18:18:42.214017Z"
    }
   },
   "outputs": [
    {
     "data": {
      "text/plain": [
       "1470"
      ]
     },
     "execution_count": 76,
     "metadata": {},
     "output_type": "execute_result"
    }
   ],
   "source": [
    "product_of_d1_to_dn([0, 9, 99, 999, 9999, 99999, 999999, 9999999])"
   ]
  },
  {
   "cell_type": "markdown",
   "metadata": {},
   "source": [
    "---\n",
    "## Continue"
   ]
  },
  {
   "cell_type": "code",
   "execution_count": null,
   "metadata": {},
   "outputs": [],
   "source": []
  }
 ],
 "metadata": {
  "kernelspec": {
   "display_name": "Python 3",
   "language": "python",
   "name": "python3"
  },
  "language_info": {
   "codemirror_mode": {
    "name": "ipython",
    "version": 3
   },
   "file_extension": ".py",
   "mimetype": "text/x-python",
   "name": "python",
   "nbconvert_exporter": "python",
   "pygments_lexer": "ipython3",
   "version": "3.6.9"
  },
  "toc": {
   "base_numbering": 1,
   "nav_menu": {},
   "number_sections": false,
   "sideBar": true,
   "skip_h1_title": false,
   "title_cell": "Table of Contents",
   "title_sidebar": "Contents",
   "toc_cell": false,
   "toc_position": {
    "height": "calc(100% - 180px)",
    "left": "10px",
    "top": "150px",
    "width": "165px"
   },
   "toc_section_display": true,
   "toc_window_display": true
  },
  "varInspector": {
   "cols": {
    "lenName": 16,
    "lenType": 16,
    "lenVar": 40
   },
   "kernels_config": {
    "python": {
     "delete_cmd_postfix": "",
     "delete_cmd_prefix": "del ",
     "library": "var_list.py",
     "varRefreshCmd": "print(var_dic_list())"
    },
    "r": {
     "delete_cmd_postfix": ") ",
     "delete_cmd_prefix": "rm(",
     "library": "var_list.r",
     "varRefreshCmd": "cat(var_dic_list()) "
    }
   },
   "types_to_exclude": [
    "module",
    "function",
    "builtin_function_or_method",
    "instance",
    "_Feature"
   ],
   "window_display": false
  }
 },
 "nbformat": 4,
 "nbformat_minor": 1
}
