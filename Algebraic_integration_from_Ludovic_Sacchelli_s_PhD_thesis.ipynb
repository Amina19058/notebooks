{
 "cells": [
  {
   "cell_type": "markdown",
   "metadata": {
    "toc": "true"
   },
   "source": [
    "# Table of Contents\n",
    " <p><div class=\"lev1 toc-item\"><a href=\"#Presentation\" data-toc-modified-id=\"Presentation-1\"><span class=\"toc-item-num\">1&nbsp;&nbsp;</span>Presentation</a></div><div class=\"lev1 toc-item\"><a href=\"#Computations\" data-toc-modified-id=\"Computations-2\"><span class=\"toc-item-num\">2&nbsp;&nbsp;</span>Computations</a></div><div class=\"lev2 toc-item\"><a href=\"#Conclusion\" data-toc-modified-id=\"Conclusion-21\"><span class=\"toc-item-num\">2.1&nbsp;&nbsp;</span>Conclusion</a></div>"
   ]
  },
  {
   "cell_type": "markdown",
   "metadata": {},
   "source": [
    "# Presentation\n",
    "\n",
    "I want to reproduce the symbolic (algebraic) computations done in §5.A of [L.S.'s PhD thesis](http://www.cmap.polytechnique.fr/~sacchelli/)."
   ]
  },
  {
   "cell_type": "markdown",
   "metadata": {},
   "source": [
    "I want to only use a free and open-source software, so I'm using [Python 3](https://docs.python.org/3) with the [Sympy](https://sympy.org) module."
   ]
  },
  {
   "cell_type": "code",
   "execution_count": 1,
   "metadata": {},
   "outputs": [],
   "source": [
    "from sympy import *"
   ]
  },
  {
   "cell_type": "markdown",
   "metadata": {},
   "source": [
    "# Computations"
   ]
  },
  {
   "cell_type": "markdown",
   "metadata": {},
   "source": [
    "We start by defining $b_1 > 0$ and the other variables."
   ]
  },
  {
   "cell_type": "code",
   "execution_count": 2,
   "metadata": {},
   "outputs": [],
   "source": [
    "b1 = symbols(\"b1\", positive=True)"
   ]
  },
  {
   "cell_type": "code",
   "execution_count": 3,
   "metadata": {},
   "outputs": [],
   "source": [
    "var(\"h1 h2 h3 h4 k131 k132 k141 k142 k231 k232 k241 k242 rest1 rest2 t s a b\");"
   ]
  },
  {
   "cell_type": "code",
   "execution_count": 4,
   "metadata": {},
   "outputs": [],
   "source": [
    "J = Matrix([[0, -b1], [b1, 0]])"
   ]
  },
  {
   "cell_type": "code",
   "execution_count": 5,
   "metadata": {},
   "outputs": [],
   "source": [
    "h0 = Matrix([h1, h2])"
   ]
  },
  {
   "cell_type": "code",
   "execution_count": 6,
   "metadata": {},
   "outputs": [],
   "source": [
    "hhat = Lambda(t, (t * J).exp() * h0)"
   ]
  },
  {
   "cell_type": "code",
   "execution_count": 7,
   "metadata": {},
   "outputs": [],
   "source": [
    "xhat = Lambda(t, integrate(hhat(s), (s, 0, t)))"
   ]
  },
  {
   "cell_type": "code",
   "execution_count": 8,
   "metadata": {},
   "outputs": [],
   "source": [
    "zhat = Lambda(t, integrate(\n",
    "    b1 * hhat(s)[0] * xhat(s)[1]/2\n",
    "    - b1 * hhat(s)[1] * xhat(s)[0]/2,\n",
    "    (s, 0, t)))"
   ]
  },
  {
   "cell_type": "markdown",
   "metadata": {},
   "source": [
    "As we asked $b_1 > 0$, this won't get too complicated:"
   ]
  },
  {
   "cell_type": "code",
   "execution_count": 9,
   "metadata": {},
   "outputs": [
    {
     "data": {
      "text/plain": [
       "t*(-h1**2/2 - h2**2/2) + ((-4*I*b1*h1**2 - 4*I*b1*h2**2)*exp(I*b1*t) + (4*I*b1*h1**2 + 4*I*b1*h2**2)*exp(-I*b1*t))/(16*b1**2)"
      ]
     },
     "execution_count": 9,
     "metadata": {},
     "output_type": "execute_result"
    }
   ],
   "source": [
    "zhat(t)"
   ]
  },
  {
   "cell_type": "markdown",
   "metadata": {},
   "source": [
    "Two more expressions:"
   ]
  },
  {
   "cell_type": "code",
   "execution_count": 10,
   "metadata": {},
   "outputs": [],
   "source": [
    "exp21 = (3 * a * h1*h1 + a * h2*h2 + 2 * b * h1 * h2 + k131 * h1 * h3 + k141 * h1 * h4\n",
    "         + k231 * h2 * h3 + k241 * h2 * h4 + rest1(h3, h4))"
   ]
  },
  {
   "cell_type": "code",
   "execution_count": 11,
   "metadata": {},
   "outputs": [],
   "source": [
    "exp22 = (b * h1*h1 + 3 * b * h2*h2 + 2 * a * h1 * h2 + k132 * h1 * h3 + k142 * h1 * h4\n",
    "         + k232 * h2 * h3 + k242 * h2 * h4 + rest2(h3, h4))"
   ]
  },
  {
   "cell_type": "markdown",
   "metadata": {},
   "source": [
    "/!\\ I don't know what are `rest1` and `rest2` !"
   ]
  },
  {
   "cell_type": "markdown",
   "metadata": {},
   "source": [
    "So far so good. Next cell:"
   ]
  },
  {
   "cell_type": "code",
   "execution_count": 34,
   "metadata": {},
   "outputs": [],
   "source": [
    "C10 = 2 * (pi / b1) * Matrix([h1, h2])"
   ]
  },
  {
   "cell_type": "code",
   "execution_count": 35,
   "metadata": {},
   "outputs": [],
   "source": [
    "A0 = simplify(Matrix([\n",
    "    [diff(exp21, h1), diff(exp21, h2)],\n",
    "    [diff(exp22, h1), diff(exp22, h2)],\n",
    "]))"
   ]
  },
  {
   "cell_type": "code",
   "execution_count": 36,
   "metadata": {},
   "outputs": [
    {
     "data": {
      "text/plain": [
       "Matrix([\n",
       "[6*a*h1 + 2*b*h2 + h3*k131 + h4*k141, 2*a*h2 + 2*b*h1 + h3*k231 + h4*k241],\n",
       "[2*a*h2 + 2*b*h1 + h3*k132 + h4*k142, 2*a*h1 + 6*b*h2 + h3*k232 + h4*k242]])"
      ]
     },
     "execution_count": 36,
     "metadata": {},
     "output_type": "execute_result"
    }
   ],
   "source": [
    "A0"
   ]
  },
  {
   "cell_type": "code",
   "execution_count": 37,
   "metadata": {},
   "outputs": [],
   "source": [
    "jacobian = simplify(Matrix([\n",
    "    [diff(exp21, h1), diff(exp21, h2), C10[0]],\n",
    "    [diff(exp22, h1), diff(exp22, h2), C10[1]],\n",
    "    [diff(zhat(2 * pi / b1), h1), diff(zhat(2 * pi / b1), h2), 0],\n",
    "]))"
   ]
  },
  {
   "cell_type": "code",
   "execution_count": 38,
   "metadata": {},
   "outputs": [
    {
     "data": {
      "text/plain": [
       "Matrix([\n",
       "[6*a*h1 + 2*b*h2 + h3*k131 + h4*k141, 2*a*h2 + 2*b*h1 + h3*k231 + h4*k241, 2*pi*h1/b1],\n",
       "[2*a*h2 + 2*b*h1 + h3*k132 + h4*k142, 2*a*h1 + 6*b*h2 + h3*k232 + h4*k242, 2*pi*h2/b1],\n",
       "[                        -2*pi*h1/b1,                         -2*pi*h2/b1,          0]])"
      ]
     },
     "execution_count": 38,
     "metadata": {},
     "output_type": "execute_result"
    }
   ],
   "source": [
    "jacobian"
   ]
  },
  {
   "cell_type": "code",
   "execution_count": 39,
   "metadata": {},
   "outputs": [
    {
     "data": {
      "text/plain": [
       "dt"
      ]
     },
     "execution_count": 39,
     "metadata": {},
     "output_type": "execute_result"
    }
   ],
   "source": [
    "var('dt')"
   ]
  },
  {
   "cell_type": "code",
   "execution_count": 40,
   "metadata": {},
   "outputs": [],
   "source": [
    "tc = factor(solve(Equality((jacobian + Matrix([[dt,0,0], [0,dt,0], [0,0,0]])).det(), 0), dt)[0])"
   ]
  },
  {
   "cell_type": "code",
   "execution_count": 41,
   "metadata": {},
   "outputs": [
    {
     "data": {
      "text/plain": [
       "-(2*a*h1**3 + 2*a*h1*h2**2 + 2*b*h1**2*h2 + 2*b*h2**3 + h1**2*h3*k232 + h1**2*h4*k242 - h1*h2*h3*k132 - h1*h2*h3*k231 - h1*h2*h4*k142 - h1*h2*h4*k241 + h2**2*h3*k131 + h2**2*h4*k141)/(h1**2 + h2**2)"
      ]
     },
     "execution_count": 41,
     "metadata": {},
     "output_type": "execute_result"
    }
   ],
   "source": [
    "tc"
   ]
  },
  {
   "cell_type": "markdown",
   "metadata": {},
   "source": [
    "I can compare by copying the result from the document:"
   ]
  },
  {
   "cell_type": "code",
   "execution_count": 42,
   "metadata": {},
   "outputs": [],
   "source": [
    "tc2 = (-1 / (h1**2 + h2**2)) * (\n",
    "      2 * a * h1**3\n",
    "    + 6 * a * h1**2 * h2\n",
    "    - 4 * b * h1**2 * h2\n",
    "    + 2 * a * h1 * h2**2\n",
    "    + 2 * b * h2**3\n",
    "    + h2**2 * h3 * k131\n",
    "    - h1 * h2 * h3 * k132\n",
    "    + h2**2 * h4 * k141\n",
    "    - h1 * h2 * h4 * k142\n",
    "    - h1 * h2 * h3 * k231\n",
    "    + h1**2 * h3 * k232\n",
    "    - h1 * h2 * h4 * k241\n",
    "    + h1**2 * h4 * k242 )"
   ]
  },
  {
   "cell_type": "markdown",
   "metadata": {},
   "source": [
    "Drat, they are not equal!"
   ]
  },
  {
   "cell_type": "code",
   "execution_count": 43,
   "metadata": {},
   "outputs": [
    {
     "data": {
      "text/plain": [
       "6*h1**2*h2*(a - b)/(h1**2 + h2**2)"
      ]
     },
     "execution_count": 43,
     "metadata": {},
     "output_type": "execute_result"
    }
   ],
   "source": [
    "simplify(tc - tc2)"
   ]
  },
  {
   "cell_type": "code",
   "execution_count": 44,
   "metadata": {},
   "outputs": [],
   "source": [
    "tc = tc2"
   ]
  },
  {
   "cell_type": "markdown",
   "metadata": {},
   "source": [
    "Next cell."
   ]
  },
  {
   "cell_type": "code",
   "execution_count": 45,
   "metadata": {},
   "outputs": [],
   "source": [
    "A12 = simplify(A0 + Matrix([[tc, 0], [0, tc]]))"
   ]
  },
  {
   "cell_type": "code",
   "execution_count": 46,
   "metadata": {},
   "outputs": [
    {
     "data": {
      "text/plain": [
       "(u1, u2, u5)"
      ]
     },
     "execution_count": 46,
     "metadata": {},
     "output_type": "execute_result"
    }
   ],
   "source": [
    "var(\"u1 u2 u5\")"
   ]
  },
  {
   "cell_type": "code",
   "execution_count": 47,
   "metadata": {},
   "outputs": [],
   "source": [
    "Psi = Lambda((u1, u2, u5), simplify(\n",
    "    u5 * Matrix(A12.dot(Matrix([h1, h2]))).dot(Matrix([h2, -h1])) + 2 * pi / b1 * ( h1**2 + h2**2) * (h1 * u2 - h2 * u1)\n",
    "))"
   ]
  },
  {
   "cell_type": "code",
   "execution_count": 48,
   "metadata": {},
   "outputs": [
    {
     "data": {
      "text/plain": [
       "Lambda((u1, u2, u5), 2*a*h1**2*h2*u5 + 2*a*h2**3*u5 - 2*b*h1**3*u5 - 2*b*h1*h2**2*u5 - h1**2*h3*k132*u5 - h1**2*h4*k142*u5 + h1*h2*h3*k131*u5 - h1*h2*h3*k232*u5 + h1*h2*h4*k141*u5 - h1*h2*h4*k242*u5 + h2**2*h3*k231*u5 + h2**2*h4*k241*u5 + 2*pi*h1**3*u2/b1 - 2*pi*h1**2*h2*u1/b1 + 2*pi*h1*h2**2*u2/b1 - 2*pi*h2**3*u1/b1)"
      ]
     },
     "execution_count": 48,
     "metadata": {},
     "output_type": "execute_result"
    }
   ],
   "source": [
    "Psi"
   ]
  },
  {
   "cell_type": "markdown",
   "metadata": {},
   "source": [
    "Next cell."
   ]
  },
  {
   "cell_type": "code",
   "execution_count": 49,
   "metadata": {},
   "outputs": [
    {
     "data": {
      "text/plain": [
       "nu0"
      ]
     },
     "execution_count": 49,
     "metadata": {},
     "output_type": "execute_result"
    }
   ],
   "source": [
    "var(\"nu0\")"
   ]
  },
  {
   "cell_type": "markdown",
   "metadata": {},
   "source": [
    "Here again, Sympy fails to solve the equation. It can solve on both lines separately, but cannot find a solution that satisfies both lines."
   ]
  },
  {
   "cell_type": "code",
   "execution_count": 50,
   "metadata": {},
   "outputs": [],
   "source": [
    "s1 = solve(Eq((Matrix(A12.dot(Matrix([-h2, h1]))) + nu0 * C10)[0]), nu0)[0]"
   ]
  },
  {
   "cell_type": "code",
   "execution_count": 51,
   "metadata": {},
   "outputs": [],
   "source": [
    "s2 = solve(Eq((Matrix(A12.dot(Matrix([-h2, h1]))) + nu0 * C10)[1]), nu0)[0]"
   ]
  },
  {
   "cell_type": "code",
   "execution_count": 52,
   "metadata": {},
   "outputs": [
    {
     "data": {
      "text/plain": [
       "[{a: b}, {h1: 0}]"
      ]
     },
     "execution_count": 52,
     "metadata": {},
     "output_type": "execute_result"
    }
   ],
   "source": [
    "solve(Eq(s1, s2))"
   ]
  },
  {
   "cell_type": "code",
   "execution_count": 53,
   "metadata": {},
   "outputs": [
    {
     "data": {
      "text/plain": [
       "[]"
      ]
     },
     "execution_count": 53,
     "metadata": {},
     "output_type": "execute_result"
    }
   ],
   "source": [
    "solve(Eq(Matrix(A12.dot(Matrix([-h2, h1]))) + nu0 * C10, Matrix([0,0])), nu0)"
   ]
  },
  {
   "cell_type": "code",
   "execution_count": 54,
   "metadata": {},
   "outputs": [],
   "source": [
    "nu = simplify(solve(Eq(Matrix(A12.dot(Matrix([-h2, h1]))) + nu0 * C10, Matrix([0,0])), nu0))\n",
    "if nu == []:\n",
    "    nu = var(\"nu\")"
   ]
  },
  {
   "cell_type": "code",
   "execution_count": 55,
   "metadata": {},
   "outputs": [],
   "source": [
    "v = Matrix([nu, -h2, h1])"
   ]
  },
  {
   "cell_type": "markdown",
   "metadata": {},
   "source": [
    "We can continue by using a formal variable for $\\nu$ (`nu`)."
   ]
  },
  {
   "cell_type": "code",
   "execution_count": 56,
   "metadata": {},
   "outputs": [
    {
     "data": {
      "text/plain": [
       "Matrix([\n",
       "[ nu],\n",
       "[-h2],\n",
       "[ h1]])"
      ]
     },
     "execution_count": 56,
     "metadata": {},
     "output_type": "execute_result"
    }
   ],
   "source": [
    "v"
   ]
  },
  {
   "cell_type": "markdown",
   "metadata": {},
   "source": [
    "Let's finish."
   ]
  },
  {
   "cell_type": "code",
   "execution_count": 57,
   "metadata": {},
   "outputs": [],
   "source": [
    "var(\"eta f F\");"
   ]
  },
  {
   "cell_type": "code",
   "execution_count": 58,
   "metadata": {},
   "outputs": [],
   "source": [
    "d = [\n",
    "    lambda F: -eta**2 * diff(F, eta) + eta * t * diff(F, t),\n",
    "    lambda F: diff(F, h1),\n",
    "    lambda F: diff(F, h2)\n",
    "]"
   ]
  },
  {
   "cell_type": "code",
   "execution_count": 59,
   "metadata": {},
   "outputs": [
    {
     "data": {
      "text/plain": [
       "[<function __main__.<lambda>(F)>,\n",
       " <function __main__.<lambda>(F)>,\n",
       " <function __main__.<lambda>(F)>]"
      ]
     },
     "execution_count": 59,
     "metadata": {},
     "output_type": "execute_result"
    }
   ],
   "source": [
    "d"
   ]
  },
  {
   "cell_type": "markdown",
   "metadata": {},
   "source": [
    "Next cell."
   ]
  },
  {
   "cell_type": "code",
   "execution_count": 60,
   "metadata": {},
   "outputs": [],
   "source": [
    "var(\"i1 i2 g1 g2 dt1 dt2\");"
   ]
  },
  {
   "cell_type": "code",
   "execution_count": 61,
   "metadata": {},
   "outputs": [],
   "source": [
    "g = eta * g1(t + eta * dt1, h1, h2) + eta**2 * g2(t, h1, h2)"
   ]
  },
  {
   "cell_type": "code",
   "execution_count": 62,
   "metadata": {},
   "outputs": [
    {
     "data": {
      "text/plain": [
       "eta**2*g2(t, h1, h2) + eta*g1(dt1*eta + t, h1, h2)"
      ]
     },
     "execution_count": 62,
     "metadata": {},
     "output_type": "execute_result"
    }
   ],
   "source": [
    "g"
   ]
  },
  {
   "cell_type": "markdown",
   "metadata": {},
   "source": [
    "We have a sum to compute:"
   ]
  },
  {
   "cell_type": "code",
   "execution_count": 63,
   "metadata": {},
   "outputs": [],
   "source": [
    "res = 0\n",
    "for i1 in range(0, 3):\n",
    "    for i2 in range(0, 3):\n",
    "        res += v[i1] * v[i2] * d[i1](d[i2](g))"
   ]
  },
  {
   "cell_type": "code",
   "execution_count": 64,
   "metadata": {},
   "outputs": [
    {
     "data": {
      "text/plain": [
       "h1**2*(eta**2*Derivative(g2(t, h1, h2), h2, h2) + eta*Derivative(g1(dt1*eta + t, h1, h2), h2, h2)) - 2*h1*h2*(eta**2*Derivative(g2(t, h1, h2), h1, h2) + eta*Derivative(g1(dt1*eta + t, h1, h2), h1, h2)) + 2*h1*nu*(-eta**2*(dt1*eta*Subs(Derivative(g1(_xi_1, h1, h2), _xi_1, h2), (_xi_1,), (dt1*eta + t,)) + 2*eta*Derivative(g2(t, h1, h2), h2) + Derivative(g1(dt1*eta + t, h1, h2), h2)) + eta*t*(eta**2*Derivative(g2(t, h1, h2), h2, t) + eta*Subs(Derivative(g1(_xi_1, h1, h2), _xi_1, h2), (_xi_1,), (dt1*eta + t,)))) + h2**2*(eta**2*Derivative(g2(t, h1, h2), h1, h1) + eta*Derivative(g1(dt1*eta + t, h1, h2), h1, h1)) - 2*h2*nu*(-eta**2*(dt1*eta*Subs(Derivative(g1(_xi_1, h1, h2), _xi_1, h1), (_xi_1,), (dt1*eta + t,)) + 2*eta*Derivative(g2(t, h1, h2), h1) + Derivative(g1(dt1*eta + t, h1, h2), h1)) + eta*t*(eta**2*Derivative(g2(t, h1, h2), h1, t) + eta*Subs(Derivative(g1(_xi_1, h1, h2), _xi_1, h1), (_xi_1,), (dt1*eta + t,)))) + nu**2*(-eta**2*(-eta**2*(dt1**2*eta*Subs(Derivative(g1(_xi_1, h1, h2), _xi_1, _xi_1), (_xi_1,), (dt1*eta + t,)) + 2*dt1*Subs(Derivative(g1(_xi_1, h1, h2), _xi_1), (_xi_1,), (dt1*eta + t,)) + 2*g2(t, h1, h2)) + eta*t*(dt1*eta*Subs(Derivative(g1(_xi_1, h1, h2), _xi_1, _xi_1), (_xi_1,), (dt1*eta + t,)) + 2*eta*Derivative(g2(t, h1, h2), t) + Subs(Derivative(g1(_xi_1, h1, h2), _xi_1), (_xi_1,), (dt1*eta + t,))) - 2*eta*(dt1*eta*Subs(Derivative(g1(_xi_1, h1, h2), _xi_1), (_xi_1,), (dt1*eta + t,)) + 2*eta*g2(t, h1, h2) + g1(dt1*eta + t, h1, h2)) + t*(eta**2*Derivative(g2(t, h1, h2), t) + eta*Subs(Derivative(g1(_xi_1, h1, h2), _xi_1), (_xi_1,), (dt1*eta + t,)))) + eta*t*(-eta**2*(dt1*eta*Subs(Derivative(g1(_xi_1, h1, h2), _xi_1, _xi_1), (_xi_1,), (dt1*eta + t,)) + 2*eta*Derivative(g2(t, h1, h2), t) + Subs(Derivative(g1(_xi_1, h1, h2), _xi_1), (_xi_1,), (dt1*eta + t,))) + eta*t*(eta**2*Derivative(g2(t, h1, h2), t, t) + eta*Subs(Derivative(g1(_xi_1, h1, h2), _xi_1, _xi_1), (_xi_1,), (dt1*eta + t,))) + eta*(eta**2*Derivative(g2(t, h1, h2), t) + eta*Subs(Derivative(g1(_xi_1, h1, h2), _xi_1), (_xi_1,), (dt1*eta + t,)))))"
      ]
     },
     "execution_count": 64,
     "metadata": {},
     "output_type": "execute_result"
    }
   ],
   "source": [
    "res"
   ]
  },
  {
   "cell_type": "markdown",
   "metadata": {},
   "source": [
    "Then a double derivative"
   ]
  },
  {
   "cell_type": "code",
   "execution_count": 65,
   "metadata": {},
   "outputs": [],
   "source": [
    "d2f = simplify((diff(res, eta, eta) / 2).subs(eta, 0))"
   ]
  },
  {
   "cell_type": "markdown",
   "metadata": {},
   "source": [
    "Now, we should replace $g_1$ and $g_2$ with the following expression:"
   ]
  },
  {
   "cell_type": "code",
   "execution_count": 66,
   "metadata": {},
   "outputs": [],
   "source": [
    "g1 = Lambda((t, h1, h2), simplify(Matrix(list(xhat(t)) + [0])))"
   ]
  },
  {
   "cell_type": "code",
   "execution_count": 67,
   "metadata": {},
   "outputs": [
    {
     "data": {
      "text/plain": [
       "Matrix([\n",
       "[(I*h1 - 2*h2*exp(I*b1*t) + h2 + (-I*h1 + h2)*exp(2*I*b1*t))*exp(-I*b1*t)/(2*b1)],\n",
       "[ (2*h1*exp(I*b1*t) - h1 + I*h2 - (h1 + I*h2)*exp(2*I*b1*t))*exp(-I*b1*t)/(2*b1)],\n",
       "[                                                                              0]])"
      ]
     },
     "execution_count": 67,
     "metadata": {},
     "output_type": "execute_result"
    }
   ],
   "source": [
    "g1(t, h1, h2)"
   ]
  },
  {
   "cell_type": "code",
   "execution_count": 68,
   "metadata": {},
   "outputs": [],
   "source": [
    "g2 = Lambda((t, h1, h2), simplify(Matrix([exp21, exp22] +[zhat(t)])))"
   ]
  },
  {
   "cell_type": "code",
   "execution_count": 69,
   "metadata": {},
   "outputs": [
    {
     "data": {
      "text/plain": [
       "Matrix([\n",
       "[            3*a*h1**2 + a*h2**2 + 2*b*h1*h2 + h1*h3*k131 + h1*h4*k141 + h2*h3*k231 + h2*h4*k241 + rest1(h3, h4)],\n",
       "[            2*a*h1*h2 + b*h1**2 + 3*b*h2**2 + h1*h3*k132 + h1*h4*k142 + h2*h3*k232 + h2*h4*k242 + rest2(h3, h4)],\n",
       "[(-2*b1*t*(h1**2 + h2**2)*exp(I*b1*t) + I*h1**2 + I*h2**2 - I*(h1**2 + h2**2)*exp(2*I*b1*t))*exp(-I*b1*t)/(4*b1)]])"
      ]
     },
     "execution_count": 69,
     "metadata": {},
     "output_type": "execute_result"
    }
   ],
   "source": [
    "g2(t, h1, h2)"
   ]
  },
  {
   "cell_type": "markdown",
   "metadata": {},
   "source": [
    "Let's see if the replacement is possible:"
   ]
  },
  {
   "cell_type": "code",
   "execution_count": 70,
   "metadata": {
    "scrolled": true
   },
   "outputs": [
    {
     "data": {
      "text/plain": [
       "h1**2*(dt1*Subs(Derivative(g1(_xi_1, h1, h2), _xi_1, h2, h2), (_xi_1,), (t,)) + Derivative(g2(t, h1, h2), h2, h2)) - 2*h1*h2*(dt1*Subs(Derivative(g1(_xi_1, h1, h2), _xi_1, h1, h2), (_xi_1,), (t,)) + Derivative(g2(t, h1, h2), h1, h2)) + 2*h1*nu*(t*Subs(Derivative(g1(_xi_1, h1, h2), _xi_1, h2), (_xi_1,), (t,)) - Derivative(g1(t, h1, h2), h2)) + h2**2*(dt1*Subs(Derivative(g1(_xi_1, h1, h2), _xi_1, h1, h1), (_xi_1,), (t,)) + Derivative(g2(t, h1, h2), h1, h1)) - 2*h2*nu*(t*Subs(Derivative(g1(_xi_1, h1, h2), _xi_1, h1), (_xi_1,), (t,)) - Derivative(g1(t, h1, h2), h1))"
      ]
     },
     "execution_count": 70,
     "metadata": {},
     "output_type": "execute_result"
    }
   ],
   "source": [
    "simplify(d2f)"
   ]
  },
  {
   "cell_type": "code",
   "execution_count": 71,
   "metadata": {},
   "outputs": [
    {
     "data": {
      "text/plain": [
       "h1**2*(dt1*Subs(Derivative(g1(_xi_1, h1, h2), _xi_1, h2, h2), (_xi_1,), (t,)) + Derivative(g2(t, h1, h2), h2, h2)) - 2*h1*h2*(dt1*Subs(Derivative(g1(_xi_1, h1, h2), _xi_1, h1, h2), (_xi_1,), (t,)) + Derivative(g2(t, h1, h2), h1, h2)) + 2*h1*nu*(t*Subs(Derivative(g1(_xi_1, h1, h2), _xi_1, h2), (_xi_1,), (t,)) - Derivative(g1(t, h1, h2), h2)) + h2**2*(dt1*Subs(Derivative(g1(_xi_1, h1, h2), _xi_1, h1, h1), (_xi_1,), (t,)) + Derivative(g2(t, h1, h2), h1, h1)) - 2*h2*nu*(t*Subs(Derivative(g1(_xi_1, h1, h2), _xi_1, h1), (_xi_1,), (t,)) - Derivative(g1(t, h1, h2), h1))"
      ]
     },
     "execution_count": 71,
     "metadata": {},
     "output_type": "execute_result"
    }
   ],
   "source": [
    "simplify(d2f.subs({\n",
    "    g1: Lambda((t, h1, h2), simplify(Matrix(list(xhat(t)) + [0]))),\n",
    "    g2: Lambda((t, h1, h2), simplify(Matrix([exp21, exp22] +[zhat(t)]))),\n",
    "}))"
   ]
  },
  {
   "cell_type": "markdown",
   "metadata": {},
   "source": [
    "OK. This failed. But we can copy and paste this and the replacement of $g_1$ and $g_2$ will be effective:"
   ]
  },
  {
   "cell_type": "code",
   "execution_count": 72,
   "metadata": {},
   "outputs": [],
   "source": [
    "d2f = (\n",
    "    h1**2*(dt1*diff(g1(t, h1, h2), t, h2, h2)\n",
    "         + diff(g2(t, h1, h2), h2, h2))\n",
    "    - 2*h1*h2*(dt1*diff(g1(t, h1, h2), t, h1, h2)\n",
    "               + diff(g2(t, h1, h2), h1, h2))\n",
    "    + 2*h1*nu*(t*diff(g1(t, h1, h2), t, h2)\n",
    "               - diff(g1(t, h1, h2), h2))\n",
    "    + h2**2*(dt1*diff(g1(t, h1, h2), t, h1, h1)\n",
    "             + diff(g2(t, h1, h2), h1, h1))\n",
    "    - 2*h2*nu*(t*diff(g1(t, h1, h2), t, h1)\n",
    "               - diff(g1(t, h1, h2), h1))\n",
    ")"
   ]
  },
  {
   "cell_type": "code",
   "execution_count": 80,
   "metadata": {},
   "outputs": [],
   "source": [
    "t = 2 * pi * b1"
   ]
  },
  {
   "cell_type": "code",
   "execution_count": 85,
   "metadata": {},
   "outputs": [
    {
     "data": {
      "text/plain": [
       "Matrix([\n",
       "[ 2*a*h1**2 + 6*a*h2**2 - 4*b*h1*h2 + 2*h1*nu*(I*t*(-(exp(2*I*b1*t) - 2*exp(I*b1*t) + 1)*exp(-I*b1*t)/2 + exp(I*b1*t) - 1) - (exp(2*I*b1*t) - 2*exp(I*b1*t) + 1)*exp(-I*b1*t)/(2*b1)) - 2*h2*nu*(t*(-(exp(2*I*b1*t) - 1)*exp(-I*b1*t)/2 + exp(I*b1*t)) - (-I*exp(2*I*b1*t) + I)*exp(-I*b1*t)/(2*b1))],\n",
       "[-4*a*h1*h2 + 6*b*h1**2 + 2*b*h2**2 + 2*h1*nu*(t*(-(exp(2*I*b1*t) - 1)*exp(-I*b1*t)/2 + exp(I*b1*t)) - (-I*exp(2*I*b1*t) + I)*exp(-I*b1*t)/(2*b1)) - 2*h2*nu*(I*t*((exp(2*I*b1*t) - 2*exp(I*b1*t) + 1)*exp(-I*b1*t)/2 - exp(I*b1*t) + 1) - (-exp(2*I*b1*t) + 2*exp(I*b1*t) - 1)*exp(-I*b1*t)/(2*b1))],\n",
       "[                                                                                                                                                       -h1**2*(2*b1*t*exp(I*b1*t) + I*exp(2*I*b1*t) - I)*exp(-I*b1*t)/(2*b1) - h2**2*(2*b1*t*exp(I*b1*t) + I*exp(2*I*b1*t) - I)*exp(-I*b1*t)/(2*b1)]])"
      ]
     },
     "execution_count": 85,
     "metadata": {},
     "output_type": "execute_result"
    }
   ],
   "source": [
    "d2f"
   ]
  },
  {
   "cell_type": "markdown",
   "metadata": {},
   "source": [
    "The replacement does not work apparently, so let's do it manually:"
   ]
  },
  {
   "cell_type": "code",
   "execution_count": 86,
   "metadata": {},
   "outputs": [],
   "source": [
    "d2f = Matrix([\n",
    "[ 2*a*h1**2 + 6*a*h2**2 - 4*b*h1*h2 + 2*h1*nu*(I*t*(-(exp(2*I*b1*t) - 2*exp(I*b1*t) + 1)*exp(-I*b1*t)/2 + exp(I*b1*t) - 1) - (exp(2*I*b1*t) - 2*exp(I*b1*t) + 1)*exp(-I*b1*t)/(2*b1)) - 2*h2*nu*(t*(-(exp(2*I*b1*t) - 1)*exp(-I*b1*t)/2 + exp(I*b1*t)) - (-I*exp(2*I*b1*t) + I)*exp(-I*b1*t)/(2*b1))],\n",
    "[-4*a*h1*h2 + 6*b*h1**2 + 2*b*h2**2 + 2*h1*nu*(t*(-(exp(2*I*b1*t) - 1)*exp(-I*b1*t)/2 + exp(I*b1*t)) - (-I*exp(2*I*b1*t) + I)*exp(-I*b1*t)/(2*b1)) - 2*h2*nu*(I*t*((exp(2*I*b1*t) - 2*exp(I*b1*t) + 1)*exp(-I*b1*t)/2 - exp(I*b1*t) + 1) - (-exp(2*I*b1*t) + 2*exp(I*b1*t) - 1)*exp(-I*b1*t)/(2*b1))],\n",
    "[                                                                                                                                                       -h1**2*(2*b1*t*exp(I*b1*t) + I*exp(2*I*b1*t) - I)*exp(-I*b1*t)/(2*b1) - h2**2*(2*b1*t*exp(I*b1*t) + I*exp(2*I*b1*t) - I)*exp(-I*b1*t)/(2*b1)]])"
   ]
  },
  {
   "cell_type": "code",
   "execution_count": 87,
   "metadata": {},
   "outputs": [],
   "source": [
    "d2Exp = simplify(d2f)"
   ]
  },
  {
   "cell_type": "markdown",
   "metadata": {},
   "source": [
    "It starts to be LONG !"
   ]
  },
  {
   "cell_type": "code",
   "execution_count": 88,
   "metadata": {},
   "outputs": [
    {
     "data": {
      "text/plain": [
       "Matrix([\n",
       "[ (2*b1*(a*h1**2 + 3*a*h2**2 - 2*b*h1*h2)*exp(2*I*pi*b1**2) - h1*nu*(2*I*pi*b1**2*(2*(-exp(2*I*pi*b1**2) + 1)*exp(2*I*pi*b1**2) + exp(4*I*pi*b1**2) - 2*exp(2*I*pi*b1**2) + 1) + exp(4*I*pi*b1**2) - 2*exp(2*I*pi*b1**2) + 1) + h2*nu*(-2*pi*b1**2*(exp(4*I*pi*b1**2) + 1) + I*(-exp(4*I*pi*b1**2) + 1)))*exp(-2*I*pi*b1**2)/b1],\n",
       "[(2*b1*(-2*a*h1*h2 + 3*b*h1**2 + b*h2**2)*exp(2*I*pi*b1**2) - h1*nu*(-2*pi*b1**2*(exp(4*I*pi*b1**2) + 1) + I*(-exp(4*I*pi*b1**2) + 1)) - h2*nu*(2*I*pi*b1**2*(2*(-exp(2*I*pi*b1**2) + 1)*exp(2*I*pi*b1**2) + exp(4*I*pi*b1**2) - 2*exp(2*I*pi*b1**2) + 1) + exp(4*I*pi*b1**2) - 2*exp(2*I*pi*b1**2) + 1))*exp(-2*I*pi*b1**2)/b1],\n",
       "[                                                                                                                                                                                                                           (h1**2 + h2**2)*(-4*pi*b1**2*exp(2*I*pi*b1**2) - I*exp(4*I*pi*b1**2) + I)*exp(-2*I*pi*b1**2)/(2*b1)]])"
      ]
     },
     "execution_count": 88,
     "metadata": {},
     "output_type": "execute_result"
    }
   ],
   "source": [
    "d2Exp"
   ]
  },
  {
   "cell_type": "code",
   "execution_count": 89,
   "metadata": {},
   "outputs": [
    {
     "data": {
      "text/plain": [
       "Lambda((u1, u2, u5), 2*a*h1**2*h2*u5 + 2*a*h2**3*u5 - 2*b*h1**3*u5 - 2*b*h1*h2**2*u5 - h1**2*h3*k132*u5 - h1**2*h4*k142*u5 + h1*h2*h3*k131*u5 - h1*h2*h3*k232*u5 + h1*h2*h4*k141*u5 - h1*h2*h4*k242*u5 + h2**2*h3*k231*u5 + h2**2*h4*k241*u5 + 2*pi*h1**3*u2/b1 - 2*pi*h1**2*h2*u1/b1 + 2*pi*h1*h2**2*u2/b1 - 2*pi*h2**3*u1/b1)"
      ]
     },
     "execution_count": 89,
     "metadata": {},
     "output_type": "execute_result"
    }
   ],
   "source": [
    "Psi"
   ]
  },
  {
   "cell_type": "markdown",
   "metadata": {},
   "source": [
    "So now we can call $\\Psi$ on the three components of this `d2Exp` :"
   ]
  },
  {
   "cell_type": "code",
   "execution_count": 90,
   "metadata": {},
   "outputs": [
    {
     "data": {
      "text/plain": [
       "a*h1**2*h2*(h1**2 + h2**2)*(-4*pi*b1**2*exp(2*I*pi*b1**2) - I*exp(4*I*pi*b1**2) + I)*exp(-2*I*pi*b1**2)/b1 + a*h2**3*(h1**2 + h2**2)*(-4*pi*b1**2*exp(2*I*pi*b1**2) - I*exp(4*I*pi*b1**2) + I)*exp(-2*I*pi*b1**2)/b1 - b*h1**3*(h1**2 + h2**2)*(-4*pi*b1**2*exp(2*I*pi*b1**2) - I*exp(4*I*pi*b1**2) + I)*exp(-2*I*pi*b1**2)/b1 - b*h1*h2**2*(h1**2 + h2**2)*(-4*pi*b1**2*exp(2*I*pi*b1**2) - I*exp(4*I*pi*b1**2) + I)*exp(-2*I*pi*b1**2)/b1 - h1**2*h3*k132*(h1**2 + h2**2)*(-4*pi*b1**2*exp(2*I*pi*b1**2) - I*exp(4*I*pi*b1**2) + I)*exp(-2*I*pi*b1**2)/(2*b1) - h1**2*h4*k142*(h1**2 + h2**2)*(-4*pi*b1**2*exp(2*I*pi*b1**2) - I*exp(4*I*pi*b1**2) + I)*exp(-2*I*pi*b1**2)/(2*b1) + h1*h2*h3*k131*(h1**2 + h2**2)*(-4*pi*b1**2*exp(2*I*pi*b1**2) - I*exp(4*I*pi*b1**2) + I)*exp(-2*I*pi*b1**2)/(2*b1) - h1*h2*h3*k232*(h1**2 + h2**2)*(-4*pi*b1**2*exp(2*I*pi*b1**2) - I*exp(4*I*pi*b1**2) + I)*exp(-2*I*pi*b1**2)/(2*b1) + h1*h2*h4*k141*(h1**2 + h2**2)*(-4*pi*b1**2*exp(2*I*pi*b1**2) - I*exp(4*I*pi*b1**2) + I)*exp(-2*I*pi*b1**2)/(2*b1) - h1*h2*h4*k242*(h1**2 + h2**2)*(-4*pi*b1**2*exp(2*I*pi*b1**2) - I*exp(4*I*pi*b1**2) + I)*exp(-2*I*pi*b1**2)/(2*b1) + h2**2*h3*k231*(h1**2 + h2**2)*(-4*pi*b1**2*exp(2*I*pi*b1**2) - I*exp(4*I*pi*b1**2) + I)*exp(-2*I*pi*b1**2)/(2*b1) + h2**2*h4*k241*(h1**2 + h2**2)*(-4*pi*b1**2*exp(2*I*pi*b1**2) - I*exp(4*I*pi*b1**2) + I)*exp(-2*I*pi*b1**2)/(2*b1) + 2*pi*h1**3*(2*b1*(-2*a*h1*h2 + 3*b*h1**2 + b*h2**2)*exp(2*I*pi*b1**2) - h1*nu*(-2*pi*b1**2*(exp(4*I*pi*b1**2) + 1) + I*(-exp(4*I*pi*b1**2) + 1)) - h2*nu*(2*I*pi*b1**2*(2*(-exp(2*I*pi*b1**2) + 1)*exp(2*I*pi*b1**2) + exp(4*I*pi*b1**2) - 2*exp(2*I*pi*b1**2) + 1) + exp(4*I*pi*b1**2) - 2*exp(2*I*pi*b1**2) + 1))*exp(-2*I*pi*b1**2)/b1**2 - 2*pi*h1**2*h2*(2*b1*(a*h1**2 + 3*a*h2**2 - 2*b*h1*h2)*exp(2*I*pi*b1**2) - h1*nu*(2*I*pi*b1**2*(2*(-exp(2*I*pi*b1**2) + 1)*exp(2*I*pi*b1**2) + exp(4*I*pi*b1**2) - 2*exp(2*I*pi*b1**2) + 1) + exp(4*I*pi*b1**2) - 2*exp(2*I*pi*b1**2) + 1) + h2*nu*(-2*pi*b1**2*(exp(4*I*pi*b1**2) + 1) + I*(-exp(4*I*pi*b1**2) + 1)))*exp(-2*I*pi*b1**2)/b1**2 + 2*pi*h1*h2**2*(2*b1*(-2*a*h1*h2 + 3*b*h1**2 + b*h2**2)*exp(2*I*pi*b1**2) - h1*nu*(-2*pi*b1**2*(exp(4*I*pi*b1**2) + 1) + I*(-exp(4*I*pi*b1**2) + 1)) - h2*nu*(2*I*pi*b1**2*(2*(-exp(2*I*pi*b1**2) + 1)*exp(2*I*pi*b1**2) + exp(4*I*pi*b1**2) - 2*exp(2*I*pi*b1**2) + 1) + exp(4*I*pi*b1**2) - 2*exp(2*I*pi*b1**2) + 1))*exp(-2*I*pi*b1**2)/b1**2 - 2*pi*h2**3*(2*b1*(a*h1**2 + 3*a*h2**2 - 2*b*h1*h2)*exp(2*I*pi*b1**2) - h1*nu*(2*I*pi*b1**2*(2*(-exp(2*I*pi*b1**2) + 1)*exp(2*I*pi*b1**2) + exp(4*I*pi*b1**2) - 2*exp(2*I*pi*b1**2) + 1) + exp(4*I*pi*b1**2) - 2*exp(2*I*pi*b1**2) + 1) + h2*nu*(-2*pi*b1**2*(exp(4*I*pi*b1**2) + 1) + I*(-exp(4*I*pi*b1**2) + 1)))*exp(-2*I*pi*b1**2)/b1**2"
      ]
     },
     "execution_count": 90,
     "metadata": {},
     "output_type": "execute_result"
    }
   ],
   "source": [
    "Psi(d2Exp[0], d2Exp[1], d2Exp[2])"
   ]
  },
  {
   "cell_type": "code",
   "execution_count": 92,
   "metadata": {},
   "outputs": [
    {
     "data": {
      "text/plain": [
       "pi*(4*pi*b1**3*(-2*a*h1**6*h2 - 6*a*h1**4*h2**3 - 6*a*h1**2*h2**5 - 2*a*h2**7 + 2*b*h1**7 + 6*b*h1**5*h2**2 + 6*b*h1**3*h2**4 + 2*b*h1*h2**6 + h1**6*h3*k132 + h1**6*h4*k142 - h1**5*h2*h3*k131 + h1**5*h2*h3*k232 - h1**5*h2*h4*k141 + h1**5*h2*h4*k242 + 2*h1**4*h2**2*h3*k132 - h1**4*h2**2*h3*k231 + 2*h1**4*h2**2*h4*k142 - h1**4*h2**2*h4*k241 - 2*h1**3*h2**3*h3*k131 + 2*h1**3*h2**3*h3*k232 - 2*h1**3*h2**3*h4*k141 + 2*h1**3*h2**3*h4*k242 + h1**2*h2**4*h3*k132 - 2*h1**2*h2**4*h3*k231 + h1**2*h2**4*h4*k142 - 2*h1**2*h2**4*h4*k241 - h1*h2**5*h3*k131 + h1*h2**5*h3*k232 - h1*h2**5*h4*k141 + h1*h2**5*h4*k242 - h2**6*h3*k231 - h2**6*h4*k241)*exp(2*I*pi*b1**2) + 8*pi**2*b1**2*nu*(h1**6 + 3*h1**4*h2**2 + 3*h1**2*h2**4 + h2**6)*exp(4*I*pi*b1**2) + 8*pi**2*b1**2*nu*(h1**6 + 3*h1**4*h2**2 + 3*h1**2*h2**4 + h2**6) + I*b1*(2*a*h1**6*h2 + 6*a*h1**4*h2**3 + 6*a*h1**2*h2**5 + 2*a*h2**7 - 2*b*h1**7 - 6*b*h1**5*h2**2 - 6*b*h1**3*h2**4 - 2*b*h1*h2**6 - h1**6*h3*k132 - h1**6*h4*k142 + h1**5*h2*h3*k131 - h1**5*h2*h3*k232 + h1**5*h2*h4*k141 - h1**5*h2*h4*k242 - 2*h1**4*h2**2*h3*k132 + h1**4*h2**2*h3*k231 - 2*h1**4*h2**2*h4*k142 + h1**4*h2**2*h4*k241 + 2*h1**3*h2**3*h3*k131 - 2*h1**3*h2**3*h3*k232 + 2*h1**3*h2**3*h4*k141 - 2*h1**3*h2**3*h4*k242 - h1**2*h2**4*h3*k132 + 2*h1**2*h2**4*h3*k231 - h1**2*h2**4*h4*k142 + 2*h1**2*h2**4*h4*k241 + h1*h2**5*h3*k131 - h1*h2**5*h3*k232 + h1*h2**5*h4*k141 - h1*h2**5*h4*k242 + h2**6*h3*k231 + h2**6*h4*k241) + b1*(-2*I*a*h1**6*h2*exp(2*I*pi*b1**2) - 24*pi*a*h1**6*h2 - 6*I*a*h1**4*h2**3*exp(2*I*pi*b1**2) - 72*pi*a*h1**4*h2**3 - 6*I*a*h1**2*h2**5*exp(2*I*pi*b1**2) - 72*pi*a*h1**2*h2**5 - 2*I*a*h2**7*exp(2*I*pi*b1**2) - 24*pi*a*h2**7 + 2*I*b*h1**7*exp(2*I*pi*b1**2) + 24*pi*b*h1**7 + 6*I*b*h1**5*h2**2*exp(2*I*pi*b1**2) + 72*pi*b*h1**5*h2**2 + 6*I*b*h1**3*h2**4*exp(2*I*pi*b1**2) + 72*pi*b*h1**3*h2**4 + 2*I*b*h1*h2**6*exp(2*I*pi*b1**2) + 24*pi*b*h1*h2**6 + I*h1**6*h3*k132*exp(2*I*pi*b1**2) + I*h1**6*h4*k142*exp(2*I*pi*b1**2) - I*h1**5*h2*h3*k131*exp(2*I*pi*b1**2) + I*h1**5*h2*h3*k232*exp(2*I*pi*b1**2) - I*h1**5*h2*h4*k141*exp(2*I*pi*b1**2) + I*h1**5*h2*h4*k242*exp(2*I*pi*b1**2) + 2*I*h1**4*h2**2*h3*k132*exp(2*I*pi*b1**2) - I*h1**4*h2**2*h3*k231*exp(2*I*pi*b1**2) + 2*I*h1**4*h2**2*h4*k142*exp(2*I*pi*b1**2) - I*h1**4*h2**2*h4*k241*exp(2*I*pi*b1**2) - 2*I*h1**3*h2**3*h3*k131*exp(2*I*pi*b1**2) + 2*I*h1**3*h2**3*h3*k232*exp(2*I*pi*b1**2) - 2*I*h1**3*h2**3*h4*k141*exp(2*I*pi*b1**2) + 2*I*h1**3*h2**3*h4*k242*exp(2*I*pi*b1**2) + I*h1**2*h2**4*h3*k132*exp(2*I*pi*b1**2) - 2*I*h1**2*h2**4*h3*k231*exp(2*I*pi*b1**2) + I*h1**2*h2**4*h4*k142*exp(2*I*pi*b1**2) - 2*I*h1**2*h2**4*h4*k241*exp(2*I*pi*b1**2) - I*h1*h2**5*h3*k131*exp(2*I*pi*b1**2) + I*h1*h2**5*h3*k232*exp(2*I*pi*b1**2) - I*h1*h2**5*h4*k141*exp(2*I*pi*b1**2) + I*h1*h2**5*h4*k242*exp(2*I*pi*b1**2) - I*h2**6*h3*k231*exp(2*I*pi*b1**2) - I*h2**6*h4*k241*exp(2*I*pi*b1**2))*exp(2*I*pi*b1**2) + 4*I*pi*nu*(h1**6 + 3*h1**4*h2**2 + 3*h1**2*h2**4 + h2**6)*exp(4*I*pi*b1**2) - 4*I*pi*nu*(h1**6 + 3*h1**4*h2**2 + 3*h1**2*h2**4 + h2**6))*exp(-2*I*pi*b1**2)/b1**3"
      ]
     },
     "execution_count": 92,
     "metadata": {},
     "output_type": "execute_result"
    }
   ],
   "source": [
    "simplify(expand(Psi(d2Exp[0], d2Exp[1], d2Exp[2]) / (1 / (1/b1 * 2 * (h1**2 + h2**2) * pi))))"
   ]
  },
  {
   "cell_type": "markdown",
   "metadata": {},
   "source": [
    "We don't have the value for `nu` !"
   ]
  },
  {
   "cell_type": "markdown",
   "metadata": {},
   "source": [
    "## Conclusion"
   ]
  },
  {
   "cell_type": "markdown",
   "metadata": {},
   "source": [
    "We do NOT obtain the same result as the document. Everything failed at the end.\n",
    "\n",
    "Too bad, but still, it was interesting. I guess?"
   ]
  },
  {
   "cell_type": "markdown",
   "metadata": {},
   "source": [
    "> See [here](https://github.com/Naereen/notebooks) for other notebooks I wrote."
   ]
  }
 ],
 "metadata": {
  "kernelspec": {
   "display_name": "Python 3",
   "language": "python",
   "name": "python3"
  },
  "language_info": {
   "codemirror_mode": {
    "name": "ipython",
    "version": 3
   },
   "file_extension": ".py",
   "mimetype": "text/x-python",
   "name": "python",
   "nbconvert_exporter": "python",
   "pygments_lexer": "ipython3",
   "version": "3.6.5"
  },
  "toc": {
   "colors": {
    "hover_highlight": "#DAA520",
    "running_highlight": "#FF0000",
    "selected_highlight": "#FFD700"
   },
   "moveMenuLeft": true,
   "nav_menu": {
    "height": "67px",
    "width": "252px"
   },
   "navigate_menu": true,
   "number_sections": true,
   "sideBar": false,
   "threshold": 4,
   "toc_cell": true,
   "toc_position": {
    "height": "42px",
    "left": "967.188px",
    "right": "20px",
    "top": "120px",
    "width": "159px"
   },
   "toc_section_display": "block",
   "toc_window_display": true
  },
  "varInspector": {
   "cols": {
    "lenName": 16,
    "lenType": 16,
    "lenVar": 40
   },
   "kernels_config": {
    "python": {
     "delete_cmd_postfix": "",
     "delete_cmd_prefix": "del ",
     "library": "var_list.py",
     "varRefreshCmd": "print(var_dic_list())"
    },
    "r": {
     "delete_cmd_postfix": ") ",
     "delete_cmd_prefix": "rm(",
     "library": "var_list.r",
     "varRefreshCmd": "cat(var_dic_list()) "
    }
   },
   "position": {
    "height": "382px",
    "left": "782px",
    "right": "20px",
    "top": "120px",
    "width": "350px"
   },
   "types_to_exclude": [
    "module",
    "function",
    "builtin_function_or_method",
    "instance",
    "_Feature"
   ],
   "window_display": false
  }
 },
 "nbformat": 4,
 "nbformat_minor": 2
}
