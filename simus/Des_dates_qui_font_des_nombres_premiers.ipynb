{
 "cells": [
  {
   "cell_type": "markdown",
   "metadata": {},
   "source": [
    "# Des dates qui font des nombres premiers ?\n",
    "\n",
    "Ce petit [notebook Jupyter](https://www.jupyter.org/), écrit en [Python](https://www.python.org/), a pour but de résoudre la question suivante :\n",
    "\n",
    "> *\"En 2017, combien de jours ont leur date qui est un nombre premier ?\"*\n",
    "\n",
    "Par exemple, `23022017` est premier, mais `24022017` ne l'est pas.\n",
    "On veut trouver toutes les dates en 2017 qui sont des nombres premiers."
   ]
  },
  {
   "cell_type": "markdown",
   "metadata": {},
   "source": [
    "----\n",
    "## 1. Il faut bien poser le problème\n",
    "- *Q:* Qu'entends-on par *\"date qui est un nombre premier\"* ?\n",
    "  - Ça dépend de l'écriture de la date, que ce soit `12012017` pour le 12 janvier ou `01122017`.\n",
    "  - Dans le doute, la solution présentée ici sera adaptable aux deux cas.\n",
    "- *Q:* Pourquoi se restreindre à 2017 ?\n",
    "  - Parce que j'écris ce document en 2017...\n",
    "  - Parce que c'est un nombre impair, et donc un nombre de la forme `12012017` a une chance d'être premier !\n",
    "  - Mais dans le doute, la solution présentée ici sera adaptable à n'importe quelle année."
   ]
  },
  {
   "cell_type": "markdown",
   "metadata": {},
   "source": [
    "----\n",
    "## 2. Une première solution, naïve\n",
    "- On va d'abord écrire (ou importer) une fonction pour tester si un entier est premier,\n",
    "- Puis on va écrire une fonction qui transforme une date en son nombre,\n",
    "- Et enfin une boucle sur les 365 (ou 366) jours de l'année suffira à afficher les jours ayant une date première."
   ]
  },
  {
   "cell_type": "markdown",
   "metadata": {},
   "source": [
    "### 2.1. Tester la primalité, version tricheur\n",
    "[`sympy`](http://www.sympy.org/) propose une fonction [`sympy.isprime`](http://docs.sympy.org/latest/modules/ntheory.html#sympy.ntheory.primetest.isprime)."
   ]
  },
  {
   "cell_type": "code",
   "execution_count": 1,
   "metadata": {
    "collapsed": true
   },
   "outputs": [],
   "source": [
    "from sympy import isprime"
   ]
  },
  {
   "cell_type": "markdown",
   "metadata": {},
   "source": [
    "Elle marche très bien, et est très rapide !"
   ]
  },
  {
   "cell_type": "code",
   "execution_count": 2,
   "metadata": {
    "collapsed": false,
    "scrolled": true
   },
   "outputs": [
    {
     "data": {
      "text/plain": [
       "[True, True, True, True, False, True, True, True, True]"
      ]
     },
     "execution_count": 2,
     "metadata": {},
     "output_type": "execute_result"
    }
   ],
   "source": [
    "[isprime(i) for i in [2, 3, 5, 7, 10, 11, 13, 17, 2017]]"
   ]
  },
  {
   "cell_type": "markdown",
   "metadata": {},
   "source": [
    "Pour des nombres de 8 chiffres (c'est tout petit), elle est vraiment rapide :"
   ]
  },
  {
   "cell_type": "code",
   "execution_count": 3,
   "metadata": {
    "collapsed": false,
    "scrolled": false
   },
   "outputs": [
    {
     "name": "stdout",
     "output_type": "stream",
     "text": [
      "10 loops, best of 3: 142 ms per loop\n"
     ]
    }
   ],
   "source": [
    "from numpy.random import randint\n",
    "%timeit sum([isprime(i) for i in randint(1e8, 1e9-1, 10**4)])"
   ]
  },
  {
   "cell_type": "markdown",
   "metadata": {},
   "source": [
    "$\\implies$ $140 ~\\text{ms}$ pour 10000 nombres à tester, ça me semble assez rapide pour ce qu'on veut en faire !"
   ]
  },
  {
   "cell_type": "markdown",
   "metadata": {
    "collapsed": true
   },
   "source": [
    "----\n",
    "### 2.2. Transformer une date en nombre\n",
    "On va utiliser le module [`datetime`](https://docs.python.org/3/library/datetime.html) de la bibliothèque standard :"
   ]
  },
  {
   "cell_type": "code",
   "execution_count": 4,
   "metadata": {
    "collapsed": false
   },
   "outputs": [],
   "source": [
    "from datetime import datetime"
   ]
  },
  {
   "cell_type": "code",
   "execution_count": 5,
   "metadata": {
    "collapsed": false
   },
   "outputs": [
    {
     "name": "stdout",
     "output_type": "stream",
     "text": [
      "On va travailler avec l'année 2017 !\n"
     ]
    }
   ],
   "source": [
    "today = datetime.today()\n",
    "YEAR = today.year\n",
    "print(\"On va travailler avec l'année\", YEAR, \"!\")"
   ]
  },
  {
   "cell_type": "markdown",
   "metadata": {},
   "source": [
    "C'est ensuite facile de transformer une date en nombre, selon les deux formats.\n",
    "On utilise [le formatage avec `.format()`](https://pyformat.info/#datetime) (en Python 3) :"
   ]
  },
  {
   "cell_type": "code",
   "execution_count": 6,
   "metadata": {
    "collapsed": true
   },
   "outputs": [],
   "source": [
    "def date_vers_nombre(date):\n",
    "    return int(\"{:%d%m%Y}\".format(date))\n",
    "\n",
    "def date_vers_nombre_2(date):\n",
    "    return int(\"{:%m%d%Y}\".format(date))"
   ]
  },
  {
   "cell_type": "code",
   "execution_count": 10,
   "metadata": {
    "collapsed": false
   },
   "outputs": [
    {
     "name": "stdout",
     "output_type": "stream",
     "text": [
      "12012017\n",
      "1122017\n"
     ]
    }
   ],
   "source": [
    "date = datetime(YEAR, 1, 12)\n",
    "print(date_vers_nombre(date))\n",
    "print(date_vers_nombre_2(date))  # Le 0 initial est ignoré"
   ]
  },
  {
   "cell_type": "markdown",
   "metadata": {},
   "source": [
    "### 2.3. Tester tous les jours de l'année"
   ]
  },
  {
   "cell_type": "markdown",
   "metadata": {
    "collapsed": true
   },
   "source": [
    "On peut partir du 1er janvier de cette année, et ajouter des jours un par un.\n",
    "On utilise un itérateur (avec le mot clé `yield`), pour pouvoir facilement boucler sur tous les jours de l'année en cours :"
   ]
  },
  {
   "cell_type": "code",
   "execution_count": 29,
   "metadata": {
    "collapsed": false,
    "scrolled": true
   },
   "outputs": [],
   "source": [
    "from datetime import timedelta\n",
    "\n",
    "def tous_les_jours(year=YEAR):\n",
    "    date = datetime(year, 1, 1)\n",
    "    un_jour = timedelta(days=1)\n",
    "    for i in range(0, 366):\n",
    "        yield date\n",
    "        date += un_jour\n",
    "        if date.year > year:  # On est allé trop loin\n",
    "            raise StopIteration"
   ]
  },
  {
   "cell_type": "markdown",
   "metadata": {},
   "source": [
    "On peut vérifier que ça donne ce qu'on voulait :"
   ]
  },
  {
   "cell_type": "code",
   "execution_count": 32,
   "metadata": {
    "collapsed": false,
    "scrolled": true
   },
   "outputs": [
    {
     "name": "stdout",
     "output_type": "stream",
     "text": [
      "Le jour 01/01/2017 donne l'entier  1012017 au format jour-mois-année et  1012017 au format mois-jour-année.\n",
      "Le jour 02/01/2017 donne l'entier  2012017 au format jour-mois-année et  1022017 au format mois-jour-année.\n",
      "Le jour 03/01/2017 donne l'entier  3012017 au format jour-mois-année et  1032017 au format mois-jour-année.\n",
      "Le jour 04/01/2017 donne l'entier  4012017 au format jour-mois-année et  1042017 au format mois-jour-année.\n",
      "Le jour 05/01/2017 donne l'entier  5012017 au format jour-mois-année et  1052017 au format mois-jour-année.\n",
      "Le jour 06/01/2017 donne l'entier  6012017 au format jour-mois-année et  1062017 au format mois-jour-année.\n",
      "Le jour 07/01/2017 donne l'entier  7012017 au format jour-mois-année et  1072017 au format mois-jour-année.\n",
      "Le jour 08/01/2017 donne l'entier  8012017 au format jour-mois-année et  1082017 au format mois-jour-année.\n",
      "Le jour 09/01/2017 donne l'entier  9012017 au format jour-mois-année et  1092017 au format mois-jour-année.\n",
      "Le jour 10/01/2017 donne l'entier 10012017 au format jour-mois-année et  1102017 au format mois-jour-année.\n",
      "Le jour 11/01/2017 donne l'entier 11012017 au format jour-mois-année et  1112017 au format mois-jour-année.\n",
      "Le jour 12/01/2017 donne l'entier 12012017 au format jour-mois-année et  1122017 au format mois-jour-année.\n",
      "Le jour 13/01/2017 donne l'entier 13012017 au format jour-mois-année et  1132017 au format mois-jour-année.\n",
      "Le jour 14/01/2017 donne l'entier 14012017 au format jour-mois-année et  1142017 au format mois-jour-année.\n",
      "Le jour 15/01/2017 donne l'entier 15012017 au format jour-mois-année et  1152017 au format mois-jour-année.\n",
      "Le jour 16/01/2017 donne l'entier 16012017 au format jour-mois-année et  1162017 au format mois-jour-année.\n",
      "Le jour 17/01/2017 donne l'entier 17012017 au format jour-mois-année et  1172017 au format mois-jour-année.\n",
      "Le jour 18/01/2017 donne l'entier 18012017 au format jour-mois-année et  1182017 au format mois-jour-année.\n",
      "Le jour 19/01/2017 donne l'entier 19012017 au format jour-mois-année et  1192017 au format mois-jour-année.\n",
      "Le jour 20/01/2017 donne l'entier 20012017 au format jour-mois-année et  1202017 au format mois-jour-année.\n",
      "Le jour 21/01/2017 donne l'entier 21012017 au format jour-mois-année et  1212017 au format mois-jour-année.\n",
      "Le jour 22/01/2017 donne l'entier 22012017 au format jour-mois-année et  1222017 au format mois-jour-année.\n",
      "Le jour 23/01/2017 donne l'entier 23012017 au format jour-mois-année et  1232017 au format mois-jour-année.\n",
      "Le jour 24/01/2017 donne l'entier 24012017 au format jour-mois-année et  1242017 au format mois-jour-année.\n",
      "Le jour 25/01/2017 donne l'entier 25012017 au format jour-mois-année et  1252017 au format mois-jour-année.\n",
      "Le jour 26/01/2017 donne l'entier 26012017 au format jour-mois-année et  1262017 au format mois-jour-année.\n",
      "Le jour 27/01/2017 donne l'entier 27012017 au format jour-mois-année et  1272017 au format mois-jour-année.\n",
      "Le jour 28/01/2017 donne l'entier 28012017 au format jour-mois-année et  1282017 au format mois-jour-année.\n",
      "Le jour 29/01/2017 donne l'entier 29012017 au format jour-mois-année et  1292017 au format mois-jour-année.\n",
      "Le jour 30/01/2017 donne l'entier 30012017 au format jour-mois-année et  1302017 au format mois-jour-année.\n",
      "Le jour 31/01/2017 donne l'entier 31012017 au format jour-mois-année et  1312017 au format mois-jour-année.\n",
      "Le jour 01/02/2017 donne l'entier  1022017 au format jour-mois-année et  2012017 au format mois-jour-année.\n",
      "Le jour 02/02/2017 donne l'entier  2022017 au format jour-mois-année et  2022017 au format mois-jour-année.\n",
      "Le jour 03/02/2017 donne l'entier  3022017 au format jour-mois-année et  2032017 au format mois-jour-année.\n",
      "Le jour 04/02/2017 donne l'entier  4022017 au format jour-mois-année et  2042017 au format mois-jour-année.\n",
      "Le jour 05/02/2017 donne l'entier  5022017 au format jour-mois-année et  2052017 au format mois-jour-année.\n",
      "Le jour 06/02/2017 donne l'entier  6022017 au format jour-mois-année et  2062017 au format mois-jour-année.\n",
      "Le jour 07/02/2017 donne l'entier  7022017 au format jour-mois-année et  2072017 au format mois-jour-année.\n",
      "Le jour 08/02/2017 donne l'entier  8022017 au format jour-mois-année et  2082017 au format mois-jour-année.\n",
      "Le jour 09/02/2017 donne l'entier  9022017 au format jour-mois-année et  2092017 au format mois-jour-année.\n",
      "Le jour 10/02/2017 donne l'entier 10022017 au format jour-mois-année et  2102017 au format mois-jour-année.\n",
      "Le jour 11/02/2017 donne l'entier 11022017 au format jour-mois-année et  2112017 au format mois-jour-année.\n",
      "Le jour 12/02/2017 donne l'entier 12022017 au format jour-mois-année et  2122017 au format mois-jour-année.\n",
      "Le jour 13/02/2017 donne l'entier 13022017 au format jour-mois-année et  2132017 au format mois-jour-année.\n",
      "Le jour 14/02/2017 donne l'entier 14022017 au format jour-mois-année et  2142017 au format mois-jour-année.\n",
      "Le jour 15/02/2017 donne l'entier 15022017 au format jour-mois-année et  2152017 au format mois-jour-année.\n",
      "Le jour 16/02/2017 donne l'entier 16022017 au format jour-mois-année et  2162017 au format mois-jour-année.\n",
      "Le jour 17/02/2017 donne l'entier 17022017 au format jour-mois-année et  2172017 au format mois-jour-année.\n",
      "Le jour 18/02/2017 donne l'entier 18022017 au format jour-mois-année et  2182017 au format mois-jour-année.\n",
      "Le jour 19/02/2017 donne l'entier 19022017 au format jour-mois-année et  2192017 au format mois-jour-année.\n",
      "Le jour 20/02/2017 donne l'entier 20022017 au format jour-mois-année et  2202017 au format mois-jour-année.\n",
      "Le jour 21/02/2017 donne l'entier 21022017 au format jour-mois-année et  2212017 au format mois-jour-année.\n",
      "Le jour 22/02/2017 donne l'entier 22022017 au format jour-mois-année et  2222017 au format mois-jour-année.\n",
      "Le jour 23/02/2017 donne l'entier 23022017 au format jour-mois-année et  2232017 au format mois-jour-année.\n",
      "Le jour 24/02/2017 donne l'entier 24022017 au format jour-mois-année et  2242017 au format mois-jour-année.\n",
      "Le jour 25/02/2017 donne l'entier 25022017 au format jour-mois-année et  2252017 au format mois-jour-année.\n",
      "Le jour 26/02/2017 donne l'entier 26022017 au format jour-mois-année et  2262017 au format mois-jour-année.\n",
      "Le jour 27/02/2017 donne l'entier 27022017 au format jour-mois-année et  2272017 au format mois-jour-année.\n",
      "Le jour 28/02/2017 donne l'entier 28022017 au format jour-mois-année et  2282017 au format mois-jour-année.\n",
      "Le jour 01/03/2017 donne l'entier  1032017 au format jour-mois-année et  3012017 au format mois-jour-année.\n",
      "Le jour 02/03/2017 donne l'entier  2032017 au format jour-mois-année et  3022017 au format mois-jour-année.\n",
      "Le jour 03/03/2017 donne l'entier  3032017 au format jour-mois-année et  3032017 au format mois-jour-année.\n",
      "Le jour 04/03/2017 donne l'entier  4032017 au format jour-mois-année et  3042017 au format mois-jour-année.\n",
      "Le jour 05/03/2017 donne l'entier  5032017 au format jour-mois-année et  3052017 au format mois-jour-année.\n",
      "Le jour 06/03/2017 donne l'entier  6032017 au format jour-mois-année et  3062017 au format mois-jour-année.\n",
      "Le jour 07/03/2017 donne l'entier  7032017 au format jour-mois-année et  3072017 au format mois-jour-année.\n",
      "Le jour 08/03/2017 donne l'entier  8032017 au format jour-mois-année et  3082017 au format mois-jour-année.\n",
      "Le jour 09/03/2017 donne l'entier  9032017 au format jour-mois-année et  3092017 au format mois-jour-année.\n",
      "Le jour 10/03/2017 donne l'entier 10032017 au format jour-mois-année et  3102017 au format mois-jour-année.\n",
      "Le jour 11/03/2017 donne l'entier 11032017 au format jour-mois-année et  3112017 au format mois-jour-année.\n",
      "Le jour 12/03/2017 donne l'entier 12032017 au format jour-mois-année et  3122017 au format mois-jour-année.\n",
      "Le jour 13/03/2017 donne l'entier 13032017 au format jour-mois-année et  3132017 au format mois-jour-année.\n",
      "Le jour 14/03/2017 donne l'entier 14032017 au format jour-mois-année et  3142017 au format mois-jour-année.\n",
      "Le jour 15/03/2017 donne l'entier 15032017 au format jour-mois-année et  3152017 au format mois-jour-année.\n",
      "Le jour 16/03/2017 donne l'entier 16032017 au format jour-mois-année et  3162017 au format mois-jour-année.\n",
      "Le jour 17/03/2017 donne l'entier 17032017 au format jour-mois-année et  3172017 au format mois-jour-année.\n",
      "Le jour 18/03/2017 donne l'entier 18032017 au format jour-mois-année et  3182017 au format mois-jour-année.\n",
      "Le jour 19/03/2017 donne l'entier 19032017 au format jour-mois-année et  3192017 au format mois-jour-année.\n",
      "Le jour 20/03/2017 donne l'entier 20032017 au format jour-mois-année et  3202017 au format mois-jour-année.\n",
      "Le jour 21/03/2017 donne l'entier 21032017 au format jour-mois-année et  3212017 au format mois-jour-année.\n",
      "Le jour 22/03/2017 donne l'entier 22032017 au format jour-mois-année et  3222017 au format mois-jour-année.\n",
      "Le jour 23/03/2017 donne l'entier 23032017 au format jour-mois-année et  3232017 au format mois-jour-année.\n",
      "Le jour 24/03/2017 donne l'entier 24032017 au format jour-mois-année et  3242017 au format mois-jour-année.\n",
      "Le jour 25/03/2017 donne l'entier 25032017 au format jour-mois-année et  3252017 au format mois-jour-année.\n",
      "Le jour 26/03/2017 donne l'entier 26032017 au format jour-mois-année et  3262017 au format mois-jour-année.\n",
      "Le jour 27/03/2017 donne l'entier 27032017 au format jour-mois-année et  3272017 au format mois-jour-année.\n",
      "Le jour 28/03/2017 donne l'entier 28032017 au format jour-mois-année et  3282017 au format mois-jour-année.\n",
      "Le jour 29/03/2017 donne l'entier 29032017 au format jour-mois-année et  3292017 au format mois-jour-année.\n",
      "Le jour 30/03/2017 donne l'entier 30032017 au format jour-mois-année et  3302017 au format mois-jour-année.\n",
      "Le jour 31/03/2017 donne l'entier 31032017 au format jour-mois-année et  3312017 au format mois-jour-année.\n",
      "Le jour 01/04/2017 donne l'entier  1042017 au format jour-mois-année et  4012017 au format mois-jour-année.\n",
      "Le jour 02/04/2017 donne l'entier  2042017 au format jour-mois-année et  4022017 au format mois-jour-année.\n",
      "Le jour 03/04/2017 donne l'entier  3042017 au format jour-mois-année et  4032017 au format mois-jour-année.\n",
      "Le jour 04/04/2017 donne l'entier  4042017 au format jour-mois-année et  4042017 au format mois-jour-année.\n",
      "Le jour 05/04/2017 donne l'entier  5042017 au format jour-mois-année et  4052017 au format mois-jour-année.\n",
      "Le jour 06/04/2017 donne l'entier  6042017 au format jour-mois-année et  4062017 au format mois-jour-année.\n",
      "Le jour 07/04/2017 donne l'entier  7042017 au format jour-mois-année et  4072017 au format mois-jour-année.\n",
      "Le jour 08/04/2017 donne l'entier  8042017 au format jour-mois-année et  4082017 au format mois-jour-année.\n",
      "Le jour 09/04/2017 donne l'entier  9042017 au format jour-mois-année et  4092017 au format mois-jour-année.\n",
      "Le jour 10/04/2017 donne l'entier 10042017 au format jour-mois-année et  4102017 au format mois-jour-année.\n",
      "Le jour 11/04/2017 donne l'entier 11042017 au format jour-mois-année et  4112017 au format mois-jour-année.\n",
      "Le jour 12/04/2017 donne l'entier 12042017 au format jour-mois-année et  4122017 au format mois-jour-année.\n",
      "Le jour 13/04/2017 donne l'entier 13042017 au format jour-mois-année et  4132017 au format mois-jour-année.\n",
      "Le jour 14/04/2017 donne l'entier 14042017 au format jour-mois-année et  4142017 au format mois-jour-année.\n",
      "Le jour 15/04/2017 donne l'entier 15042017 au format jour-mois-année et  4152017 au format mois-jour-année.\n",
      "Le jour 16/04/2017 donne l'entier 16042017 au format jour-mois-année et  4162017 au format mois-jour-année.\n",
      "Le jour 17/04/2017 donne l'entier 17042017 au format jour-mois-année et  4172017 au format mois-jour-année.\n",
      "Le jour 18/04/2017 donne l'entier 18042017 au format jour-mois-année et  4182017 au format mois-jour-année.\n",
      "Le jour 19/04/2017 donne l'entier 19042017 au format jour-mois-année et  4192017 au format mois-jour-année.\n",
      "Le jour 20/04/2017 donne l'entier 20042017 au format jour-mois-année et  4202017 au format mois-jour-année.\n",
      "Le jour 21/04/2017 donne l'entier 21042017 au format jour-mois-année et  4212017 au format mois-jour-année.\n",
      "Le jour 22/04/2017 donne l'entier 22042017 au format jour-mois-année et  4222017 au format mois-jour-année.\n",
      "Le jour 23/04/2017 donne l'entier 23042017 au format jour-mois-année et  4232017 au format mois-jour-année.\n",
      "Le jour 24/04/2017 donne l'entier 24042017 au format jour-mois-année et  4242017 au format mois-jour-année.\n",
      "Le jour 25/04/2017 donne l'entier 25042017 au format jour-mois-année et  4252017 au format mois-jour-année.\n",
      "Le jour 26/04/2017 donne l'entier 26042017 au format jour-mois-année et  4262017 au format mois-jour-année.\n",
      "Le jour 27/04/2017 donne l'entier 27042017 au format jour-mois-année et  4272017 au format mois-jour-année.\n",
      "Le jour 28/04/2017 donne l'entier 28042017 au format jour-mois-année et  4282017 au format mois-jour-année.\n",
      "Le jour 29/04/2017 donne l'entier 29042017 au format jour-mois-année et  4292017 au format mois-jour-année.\n",
      "Le jour 30/04/2017 donne l'entier 30042017 au format jour-mois-année et  4302017 au format mois-jour-année.\n",
      "Le jour 01/05/2017 donne l'entier  1052017 au format jour-mois-année et  5012017 au format mois-jour-année.\n",
      "Le jour 02/05/2017 donne l'entier  2052017 au format jour-mois-année et  5022017 au format mois-jour-année.\n",
      "Le jour 03/05/2017 donne l'entier  3052017 au format jour-mois-année et  5032017 au format mois-jour-année.\n",
      "Le jour 04/05/2017 donne l'entier  4052017 au format jour-mois-année et  5042017 au format mois-jour-année.\n",
      "Le jour 05/05/2017 donne l'entier  5052017 au format jour-mois-année et  5052017 au format mois-jour-année.\n",
      "Le jour 06/05/2017 donne l'entier  6052017 au format jour-mois-année et  5062017 au format mois-jour-année.\n",
      "Le jour 07/05/2017 donne l'entier  7052017 au format jour-mois-année et  5072017 au format mois-jour-année.\n",
      "Le jour 08/05/2017 donne l'entier  8052017 au format jour-mois-année et  5082017 au format mois-jour-année.\n",
      "Le jour 09/05/2017 donne l'entier  9052017 au format jour-mois-année et  5092017 au format mois-jour-année.\n",
      "Le jour 10/05/2017 donne l'entier 10052017 au format jour-mois-année et  5102017 au format mois-jour-année.\n",
      "Le jour 11/05/2017 donne l'entier 11052017 au format jour-mois-année et  5112017 au format mois-jour-année.\n",
      "Le jour 12/05/2017 donne l'entier 12052017 au format jour-mois-année et  5122017 au format mois-jour-année.\n",
      "Le jour 13/05/2017 donne l'entier 13052017 au format jour-mois-année et  5132017 au format mois-jour-année.\n",
      "Le jour 14/05/2017 donne l'entier 14052017 au format jour-mois-année et  5142017 au format mois-jour-année.\n",
      "Le jour 15/05/2017 donne l'entier 15052017 au format jour-mois-année et  5152017 au format mois-jour-année.\n",
      "Le jour 16/05/2017 donne l'entier 16052017 au format jour-mois-année et  5162017 au format mois-jour-année.\n",
      "Le jour 17/05/2017 donne l'entier 17052017 au format jour-mois-année et  5172017 au format mois-jour-année.\n",
      "Le jour 18/05/2017 donne l'entier 18052017 au format jour-mois-année et  5182017 au format mois-jour-année.\n",
      "Le jour 19/05/2017 donne l'entier 19052017 au format jour-mois-année et  5192017 au format mois-jour-année.\n",
      "Le jour 20/05/2017 donne l'entier 20052017 au format jour-mois-année et  5202017 au format mois-jour-année.\n",
      "Le jour 21/05/2017 donne l'entier 21052017 au format jour-mois-année et  5212017 au format mois-jour-année.\n",
      "Le jour 22/05/2017 donne l'entier 22052017 au format jour-mois-année et  5222017 au format mois-jour-année.\n",
      "Le jour 23/05/2017 donne l'entier 23052017 au format jour-mois-année et  5232017 au format mois-jour-année.\n",
      "Le jour 24/05/2017 donne l'entier 24052017 au format jour-mois-année et  5242017 au format mois-jour-année.\n",
      "Le jour 25/05/2017 donne l'entier 25052017 au format jour-mois-année et  5252017 au format mois-jour-année.\n",
      "Le jour 26/05/2017 donne l'entier 26052017 au format jour-mois-année et  5262017 au format mois-jour-année.\n",
      "Le jour 27/05/2017 donne l'entier 27052017 au format jour-mois-année et  5272017 au format mois-jour-année.\n",
      "Le jour 28/05/2017 donne l'entier 28052017 au format jour-mois-année et  5282017 au format mois-jour-année.\n",
      "Le jour 29/05/2017 donne l'entier 29052017 au format jour-mois-année et  5292017 au format mois-jour-année.\n",
      "Le jour 30/05/2017 donne l'entier 30052017 au format jour-mois-année et  5302017 au format mois-jour-année.\n",
      "Le jour 31/05/2017 donne l'entier 31052017 au format jour-mois-année et  5312017 au format mois-jour-année.\n",
      "Le jour 01/06/2017 donne l'entier  1062017 au format jour-mois-année et  6012017 au format mois-jour-année.\n",
      "Le jour 02/06/2017 donne l'entier  2062017 au format jour-mois-année et  6022017 au format mois-jour-année.\n",
      "Le jour 03/06/2017 donne l'entier  3062017 au format jour-mois-année et  6032017 au format mois-jour-année.\n",
      "Le jour 04/06/2017 donne l'entier  4062017 au format jour-mois-année et  6042017 au format mois-jour-année.\n",
      "Le jour 05/06/2017 donne l'entier  5062017 au format jour-mois-année et  6052017 au format mois-jour-année.\n",
      "Le jour 06/06/2017 donne l'entier  6062017 au format jour-mois-année et  6062017 au format mois-jour-année.\n",
      "Le jour 07/06/2017 donne l'entier  7062017 au format jour-mois-année et  6072017 au format mois-jour-année.\n",
      "Le jour 08/06/2017 donne l'entier  8062017 au format jour-mois-année et  6082017 au format mois-jour-année.\n",
      "Le jour 09/06/2017 donne l'entier  9062017 au format jour-mois-année et  6092017 au format mois-jour-année.\n",
      "Le jour 10/06/2017 donne l'entier 10062017 au format jour-mois-année et  6102017 au format mois-jour-année.\n",
      "Le jour 11/06/2017 donne l'entier 11062017 au format jour-mois-année et  6112017 au format mois-jour-année.\n",
      "Le jour 12/06/2017 donne l'entier 12062017 au format jour-mois-année et  6122017 au format mois-jour-année.\n",
      "Le jour 13/06/2017 donne l'entier 13062017 au format jour-mois-année et  6132017 au format mois-jour-année.\n",
      "Le jour 14/06/2017 donne l'entier 14062017 au format jour-mois-année et  6142017 au format mois-jour-année.\n",
      "Le jour 15/06/2017 donne l'entier 15062017 au format jour-mois-année et  6152017 au format mois-jour-année.\n",
      "Le jour 16/06/2017 donne l'entier 16062017 au format jour-mois-année et  6162017 au format mois-jour-année.\n",
      "Le jour 17/06/2017 donne l'entier 17062017 au format jour-mois-année et  6172017 au format mois-jour-année.\n",
      "Le jour 18/06/2017 donne l'entier 18062017 au format jour-mois-année et  6182017 au format mois-jour-année.\n",
      "Le jour 19/06/2017 donne l'entier 19062017 au format jour-mois-année et  6192017 au format mois-jour-année.\n",
      "Le jour 20/06/2017 donne l'entier 20062017 au format jour-mois-année et  6202017 au format mois-jour-année.\n",
      "Le jour 21/06/2017 donne l'entier 21062017 au format jour-mois-année et  6212017 au format mois-jour-année.\n",
      "Le jour 22/06/2017 donne l'entier 22062017 au format jour-mois-année et  6222017 au format mois-jour-année.\n",
      "Le jour 23/06/2017 donne l'entier 23062017 au format jour-mois-année et  6232017 au format mois-jour-année.\n",
      "Le jour 24/06/2017 donne l'entier 24062017 au format jour-mois-année et  6242017 au format mois-jour-année.\n",
      "Le jour 25/06/2017 donne l'entier 25062017 au format jour-mois-année et  6252017 au format mois-jour-année.\n",
      "Le jour 26/06/2017 donne l'entier 26062017 au format jour-mois-année et  6262017 au format mois-jour-année.\n",
      "Le jour 27/06/2017 donne l'entier 27062017 au format jour-mois-année et  6272017 au format mois-jour-année.\n",
      "Le jour 28/06/2017 donne l'entier 28062017 au format jour-mois-année et  6282017 au format mois-jour-année.\n",
      "Le jour 29/06/2017 donne l'entier 29062017 au format jour-mois-année et  6292017 au format mois-jour-année.\n",
      "Le jour 30/06/2017 donne l'entier 30062017 au format jour-mois-année et  6302017 au format mois-jour-année.\n",
      "Le jour 01/07/2017 donne l'entier  1072017 au format jour-mois-année et  7012017 au format mois-jour-année.\n",
      "Le jour 02/07/2017 donne l'entier  2072017 au format jour-mois-année et  7022017 au format mois-jour-année.\n",
      "Le jour 03/07/2017 donne l'entier  3072017 au format jour-mois-année et  7032017 au format mois-jour-année.\n",
      "Le jour 04/07/2017 donne l'entier  4072017 au format jour-mois-année et  7042017 au format mois-jour-année.\n",
      "Le jour 05/07/2017 donne l'entier  5072017 au format jour-mois-année et  7052017 au format mois-jour-année.\n",
      "Le jour 06/07/2017 donne l'entier  6072017 au format jour-mois-année et  7062017 au format mois-jour-année.\n",
      "Le jour 07/07/2017 donne l'entier  7072017 au format jour-mois-année et  7072017 au format mois-jour-année.\n",
      "Le jour 08/07/2017 donne l'entier  8072017 au format jour-mois-année et  7082017 au format mois-jour-année.\n",
      "Le jour 09/07/2017 donne l'entier  9072017 au format jour-mois-année et  7092017 au format mois-jour-année.\n",
      "Le jour 10/07/2017 donne l'entier 10072017 au format jour-mois-année et  7102017 au format mois-jour-année.\n",
      "Le jour 11/07/2017 donne l'entier 11072017 au format jour-mois-année et  7112017 au format mois-jour-année.\n",
      "Le jour 12/07/2017 donne l'entier 12072017 au format jour-mois-année et  7122017 au format mois-jour-année.\n",
      "Le jour 13/07/2017 donne l'entier 13072017 au format jour-mois-année et  7132017 au format mois-jour-année.\n",
      "Le jour 14/07/2017 donne l'entier 14072017 au format jour-mois-année et  7142017 au format mois-jour-année.\n",
      "Le jour 15/07/2017 donne l'entier 15072017 au format jour-mois-année et  7152017 au format mois-jour-année.\n",
      "Le jour 16/07/2017 donne l'entier 16072017 au format jour-mois-année et  7162017 au format mois-jour-année.\n",
      "Le jour 17/07/2017 donne l'entier 17072017 au format jour-mois-année et  7172017 au format mois-jour-année.\n",
      "Le jour 18/07/2017 donne l'entier 18072017 au format jour-mois-année et  7182017 au format mois-jour-année.\n",
      "Le jour 19/07/2017 donne l'entier 19072017 au format jour-mois-année et  7192017 au format mois-jour-année.\n",
      "Le jour 20/07/2017 donne l'entier 20072017 au format jour-mois-année et  7202017 au format mois-jour-année.\n",
      "Le jour 21/07/2017 donne l'entier 21072017 au format jour-mois-année et  7212017 au format mois-jour-année.\n",
      "Le jour 22/07/2017 donne l'entier 22072017 au format jour-mois-année et  7222017 au format mois-jour-année.\n",
      "Le jour 23/07/2017 donne l'entier 23072017 au format jour-mois-année et  7232017 au format mois-jour-année.\n",
      "Le jour 24/07/2017 donne l'entier 24072017 au format jour-mois-année et  7242017 au format mois-jour-année.\n",
      "Le jour 25/07/2017 donne l'entier 25072017 au format jour-mois-année et  7252017 au format mois-jour-année.\n",
      "Le jour 26/07/2017 donne l'entier 26072017 au format jour-mois-année et  7262017 au format mois-jour-année.\n",
      "Le jour 27/07/2017 donne l'entier 27072017 au format jour-mois-année et  7272017 au format mois-jour-année.\n",
      "Le jour 28/07/2017 donne l'entier 28072017 au format jour-mois-année et  7282017 au format mois-jour-année.\n",
      "Le jour 29/07/2017 donne l'entier 29072017 au format jour-mois-année et  7292017 au format mois-jour-année.\n",
      "Le jour 30/07/2017 donne l'entier 30072017 au format jour-mois-année et  7302017 au format mois-jour-année.\n",
      "Le jour 31/07/2017 donne l'entier 31072017 au format jour-mois-année et  7312017 au format mois-jour-année.\n",
      "Le jour 01/08/2017 donne l'entier  1082017 au format jour-mois-année et  8012017 au format mois-jour-année.\n",
      "Le jour 02/08/2017 donne l'entier  2082017 au format jour-mois-année et  8022017 au format mois-jour-année.\n",
      "Le jour 03/08/2017 donne l'entier  3082017 au format jour-mois-année et  8032017 au format mois-jour-année.\n",
      "Le jour 04/08/2017 donne l'entier  4082017 au format jour-mois-année et  8042017 au format mois-jour-année.\n",
      "Le jour 05/08/2017 donne l'entier  5082017 au format jour-mois-année et  8052017 au format mois-jour-année.\n",
      "Le jour 06/08/2017 donne l'entier  6082017 au format jour-mois-année et  8062017 au format mois-jour-année.\n",
      "Le jour 07/08/2017 donne l'entier  7082017 au format jour-mois-année et  8072017 au format mois-jour-année.\n",
      "Le jour 08/08/2017 donne l'entier  8082017 au format jour-mois-année et  8082017 au format mois-jour-année.\n",
      "Le jour 09/08/2017 donne l'entier  9082017 au format jour-mois-année et  8092017 au format mois-jour-année.\n",
      "Le jour 10/08/2017 donne l'entier 10082017 au format jour-mois-année et  8102017 au format mois-jour-année.\n",
      "Le jour 11/08/2017 donne l'entier 11082017 au format jour-mois-année et  8112017 au format mois-jour-année.\n",
      "Le jour 12/08/2017 donne l'entier 12082017 au format jour-mois-année et  8122017 au format mois-jour-année.\n",
      "Le jour 13/08/2017 donne l'entier 13082017 au format jour-mois-année et  8132017 au format mois-jour-année.\n",
      "Le jour 14/08/2017 donne l'entier 14082017 au format jour-mois-année et  8142017 au format mois-jour-année.\n",
      "Le jour 15/08/2017 donne l'entier 15082017 au format jour-mois-année et  8152017 au format mois-jour-année.\n",
      "Le jour 16/08/2017 donne l'entier 16082017 au format jour-mois-année et  8162017 au format mois-jour-année.\n",
      "Le jour 17/08/2017 donne l'entier 17082017 au format jour-mois-année et  8172017 au format mois-jour-année.\n",
      "Le jour 18/08/2017 donne l'entier 18082017 au format jour-mois-année et  8182017 au format mois-jour-année.\n",
      "Le jour 19/08/2017 donne l'entier 19082017 au format jour-mois-année et  8192017 au format mois-jour-année.\n",
      "Le jour 20/08/2017 donne l'entier 20082017 au format jour-mois-année et  8202017 au format mois-jour-année.\n",
      "Le jour 21/08/2017 donne l'entier 21082017 au format jour-mois-année et  8212017 au format mois-jour-année.\n",
      "Le jour 22/08/2017 donne l'entier 22082017 au format jour-mois-année et  8222017 au format mois-jour-année.\n",
      "Le jour 23/08/2017 donne l'entier 23082017 au format jour-mois-année et  8232017 au format mois-jour-année.\n",
      "Le jour 24/08/2017 donne l'entier 24082017 au format jour-mois-année et  8242017 au format mois-jour-année.\n",
      "Le jour 25/08/2017 donne l'entier 25082017 au format jour-mois-année et  8252017 au format mois-jour-année.\n",
      "Le jour 26/08/2017 donne l'entier 26082017 au format jour-mois-année et  8262017 au format mois-jour-année.\n",
      "Le jour 27/08/2017 donne l'entier 27082017 au format jour-mois-année et  8272017 au format mois-jour-année.\n",
      "Le jour 28/08/2017 donne l'entier 28082017 au format jour-mois-année et  8282017 au format mois-jour-année.\n",
      "Le jour 29/08/2017 donne l'entier 29082017 au format jour-mois-année et  8292017 au format mois-jour-année.\n",
      "Le jour 30/08/2017 donne l'entier 30082017 au format jour-mois-année et  8302017 au format mois-jour-année.\n",
      "Le jour 31/08/2017 donne l'entier 31082017 au format jour-mois-année et  8312017 au format mois-jour-année.\n",
      "Le jour 01/09/2017 donne l'entier  1092017 au format jour-mois-année et  9012017 au format mois-jour-année.\n",
      "Le jour 02/09/2017 donne l'entier  2092017 au format jour-mois-année et  9022017 au format mois-jour-année.\n",
      "Le jour 03/09/2017 donne l'entier  3092017 au format jour-mois-année et  9032017 au format mois-jour-année.\n",
      "Le jour 04/09/2017 donne l'entier  4092017 au format jour-mois-année et  9042017 au format mois-jour-année.\n",
      "Le jour 05/09/2017 donne l'entier  5092017 au format jour-mois-année et  9052017 au format mois-jour-année.\n",
      "Le jour 06/09/2017 donne l'entier  6092017 au format jour-mois-année et  9062017 au format mois-jour-année.\n",
      "Le jour 07/09/2017 donne l'entier  7092017 au format jour-mois-année et  9072017 au format mois-jour-année.\n",
      "Le jour 08/09/2017 donne l'entier  8092017 au format jour-mois-année et  9082017 au format mois-jour-année.\n",
      "Le jour 09/09/2017 donne l'entier  9092017 au format jour-mois-année et  9092017 au format mois-jour-année.\n",
      "Le jour 10/09/2017 donne l'entier 10092017 au format jour-mois-année et  9102017 au format mois-jour-année.\n",
      "Le jour 11/09/2017 donne l'entier 11092017 au format jour-mois-année et  9112017 au format mois-jour-année.\n",
      "Le jour 12/09/2017 donne l'entier 12092017 au format jour-mois-année et  9122017 au format mois-jour-année.\n",
      "Le jour 13/09/2017 donne l'entier 13092017 au format jour-mois-année et  9132017 au format mois-jour-année.\n",
      "Le jour 14/09/2017 donne l'entier 14092017 au format jour-mois-année et  9142017 au format mois-jour-année.\n",
      "Le jour 15/09/2017 donne l'entier 15092017 au format jour-mois-année et  9152017 au format mois-jour-année.\n",
      "Le jour 16/09/2017 donne l'entier 16092017 au format jour-mois-année et  9162017 au format mois-jour-année.\n",
      "Le jour 17/09/2017 donne l'entier 17092017 au format jour-mois-année et  9172017 au format mois-jour-année.\n",
      "Le jour 18/09/2017 donne l'entier 18092017 au format jour-mois-année et  9182017 au format mois-jour-année.\n",
      "Le jour 19/09/2017 donne l'entier 19092017 au format jour-mois-année et  9192017 au format mois-jour-année.\n",
      "Le jour 20/09/2017 donne l'entier 20092017 au format jour-mois-année et  9202017 au format mois-jour-année.\n",
      "Le jour 21/09/2017 donne l'entier 21092017 au format jour-mois-année et  9212017 au format mois-jour-année.\n",
      "Le jour 22/09/2017 donne l'entier 22092017 au format jour-mois-année et  9222017 au format mois-jour-année.\n",
      "Le jour 23/09/2017 donne l'entier 23092017 au format jour-mois-année et  9232017 au format mois-jour-année.\n",
      "Le jour 24/09/2017 donne l'entier 24092017 au format jour-mois-année et  9242017 au format mois-jour-année.\n",
      "Le jour 25/09/2017 donne l'entier 25092017 au format jour-mois-année et  9252017 au format mois-jour-année.\n",
      "Le jour 26/09/2017 donne l'entier 26092017 au format jour-mois-année et  9262017 au format mois-jour-année.\n",
      "Le jour 27/09/2017 donne l'entier 27092017 au format jour-mois-année et  9272017 au format mois-jour-année.\n",
      "Le jour 28/09/2017 donne l'entier 28092017 au format jour-mois-année et  9282017 au format mois-jour-année.\n",
      "Le jour 29/09/2017 donne l'entier 29092017 au format jour-mois-année et  9292017 au format mois-jour-année.\n",
      "Le jour 30/09/2017 donne l'entier 30092017 au format jour-mois-année et  9302017 au format mois-jour-année.\n",
      "Le jour 01/10/2017 donne l'entier  1102017 au format jour-mois-année et 10012017 au format mois-jour-année.\n",
      "Le jour 02/10/2017 donne l'entier  2102017 au format jour-mois-année et 10022017 au format mois-jour-année.\n",
      "Le jour 03/10/2017 donne l'entier  3102017 au format jour-mois-année et 10032017 au format mois-jour-année.\n",
      "Le jour 04/10/2017 donne l'entier  4102017 au format jour-mois-année et 10042017 au format mois-jour-année.\n",
      "Le jour 05/10/2017 donne l'entier  5102017 au format jour-mois-année et 10052017 au format mois-jour-année.\n",
      "Le jour 06/10/2017 donne l'entier  6102017 au format jour-mois-année et 10062017 au format mois-jour-année.\n",
      "Le jour 07/10/2017 donne l'entier  7102017 au format jour-mois-année et 10072017 au format mois-jour-année.\n",
      "Le jour 08/10/2017 donne l'entier  8102017 au format jour-mois-année et 10082017 au format mois-jour-année.\n",
      "Le jour 09/10/2017 donne l'entier  9102017 au format jour-mois-année et 10092017 au format mois-jour-année.\n",
      "Le jour 10/10/2017 donne l'entier 10102017 au format jour-mois-année et 10102017 au format mois-jour-année.\n",
      "Le jour 11/10/2017 donne l'entier 11102017 au format jour-mois-année et 10112017 au format mois-jour-année.\n",
      "Le jour 12/10/2017 donne l'entier 12102017 au format jour-mois-année et 10122017 au format mois-jour-année.\n",
      "Le jour 13/10/2017 donne l'entier 13102017 au format jour-mois-année et 10132017 au format mois-jour-année.\n",
      "Le jour 14/10/2017 donne l'entier 14102017 au format jour-mois-année et 10142017 au format mois-jour-année.\n",
      "Le jour 15/10/2017 donne l'entier 15102017 au format jour-mois-année et 10152017 au format mois-jour-année.\n",
      "Le jour 16/10/2017 donne l'entier 16102017 au format jour-mois-année et 10162017 au format mois-jour-année.\n",
      "Le jour 17/10/2017 donne l'entier 17102017 au format jour-mois-année et 10172017 au format mois-jour-année.\n",
      "Le jour 18/10/2017 donne l'entier 18102017 au format jour-mois-année et 10182017 au format mois-jour-année.\n",
      "Le jour 19/10/2017 donne l'entier 19102017 au format jour-mois-année et 10192017 au format mois-jour-année.\n",
      "Le jour 20/10/2017 donne l'entier 20102017 au format jour-mois-année et 10202017 au format mois-jour-année.\n",
      "Le jour 21/10/2017 donne l'entier 21102017 au format jour-mois-année et 10212017 au format mois-jour-année.\n",
      "Le jour 22/10/2017 donne l'entier 22102017 au format jour-mois-année et 10222017 au format mois-jour-année.\n",
      "Le jour 23/10/2017 donne l'entier 23102017 au format jour-mois-année et 10232017 au format mois-jour-année.\n",
      "Le jour 24/10/2017 donne l'entier 24102017 au format jour-mois-année et 10242017 au format mois-jour-année.\n",
      "Le jour 25/10/2017 donne l'entier 25102017 au format jour-mois-année et 10252017 au format mois-jour-année.\n",
      "Le jour 26/10/2017 donne l'entier 26102017 au format jour-mois-année et 10262017 au format mois-jour-année.\n",
      "Le jour 27/10/2017 donne l'entier 27102017 au format jour-mois-année et 10272017 au format mois-jour-année.\n",
      "Le jour 28/10/2017 donne l'entier 28102017 au format jour-mois-année et 10282017 au format mois-jour-année.\n",
      "Le jour 29/10/2017 donne l'entier 29102017 au format jour-mois-année et 10292017 au format mois-jour-année.\n",
      "Le jour 30/10/2017 donne l'entier 30102017 au format jour-mois-année et 10302017 au format mois-jour-année.\n",
      "Le jour 31/10/2017 donne l'entier 31102017 au format jour-mois-année et 10312017 au format mois-jour-année.\n",
      "Le jour 01/11/2017 donne l'entier  1112017 au format jour-mois-année et 11012017 au format mois-jour-année.\n",
      "Le jour 02/11/2017 donne l'entier  2112017 au format jour-mois-année et 11022017 au format mois-jour-année.\n",
      "Le jour 03/11/2017 donne l'entier  3112017 au format jour-mois-année et 11032017 au format mois-jour-année.\n",
      "Le jour 04/11/2017 donne l'entier  4112017 au format jour-mois-année et 11042017 au format mois-jour-année.\n",
      "Le jour 05/11/2017 donne l'entier  5112017 au format jour-mois-année et 11052017 au format mois-jour-année.\n",
      "Le jour 06/11/2017 donne l'entier  6112017 au format jour-mois-année et 11062017 au format mois-jour-année.\n",
      "Le jour 07/11/2017 donne l'entier  7112017 au format jour-mois-année et 11072017 au format mois-jour-année.\n",
      "Le jour 08/11/2017 donne l'entier  8112017 au format jour-mois-année et 11082017 au format mois-jour-année.\n",
      "Le jour 09/11/2017 donne l'entier  9112017 au format jour-mois-année et 11092017 au format mois-jour-année.\n",
      "Le jour 10/11/2017 donne l'entier 10112017 au format jour-mois-année et 11102017 au format mois-jour-année.\n",
      "Le jour 11/11/2017 donne l'entier 11112017 au format jour-mois-année et 11112017 au format mois-jour-année.\n",
      "Le jour 12/11/2017 donne l'entier 12112017 au format jour-mois-année et 11122017 au format mois-jour-année.\n",
      "Le jour 13/11/2017 donne l'entier 13112017 au format jour-mois-année et 11132017 au format mois-jour-année.\n",
      "Le jour 14/11/2017 donne l'entier 14112017 au format jour-mois-année et 11142017 au format mois-jour-année.\n",
      "Le jour 15/11/2017 donne l'entier 15112017 au format jour-mois-année et 11152017 au format mois-jour-année.\n",
      "Le jour 16/11/2017 donne l'entier 16112017 au format jour-mois-année et 11162017 au format mois-jour-année.\n",
      "Le jour 17/11/2017 donne l'entier 17112017 au format jour-mois-année et 11172017 au format mois-jour-année.\n",
      "Le jour 18/11/2017 donne l'entier 18112017 au format jour-mois-année et 11182017 au format mois-jour-année.\n",
      "Le jour 19/11/2017 donne l'entier 19112017 au format jour-mois-année et 11192017 au format mois-jour-année.\n",
      "Le jour 20/11/2017 donne l'entier 20112017 au format jour-mois-année et 11202017 au format mois-jour-année.\n",
      "Le jour 21/11/2017 donne l'entier 21112017 au format jour-mois-année et 11212017 au format mois-jour-année.\n",
      "Le jour 22/11/2017 donne l'entier 22112017 au format jour-mois-année et 11222017 au format mois-jour-année.\n",
      "Le jour 23/11/2017 donne l'entier 23112017 au format jour-mois-année et 11232017 au format mois-jour-année.\n",
      "Le jour 24/11/2017 donne l'entier 24112017 au format jour-mois-année et 11242017 au format mois-jour-année.\n",
      "Le jour 25/11/2017 donne l'entier 25112017 au format jour-mois-année et 11252017 au format mois-jour-année.\n",
      "Le jour 26/11/2017 donne l'entier 26112017 au format jour-mois-année et 11262017 au format mois-jour-année.\n",
      "Le jour 27/11/2017 donne l'entier 27112017 au format jour-mois-année et 11272017 au format mois-jour-année.\n",
      "Le jour 28/11/2017 donne l'entier 28112017 au format jour-mois-année et 11282017 au format mois-jour-année.\n",
      "Le jour 29/11/2017 donne l'entier 29112017 au format jour-mois-année et 11292017 au format mois-jour-année.\n",
      "Le jour 30/11/2017 donne l'entier 30112017 au format jour-mois-année et 11302017 au format mois-jour-année.\n",
      "Le jour 01/12/2017 donne l'entier  1122017 au format jour-mois-année et 12012017 au format mois-jour-année.\n",
      "Le jour 02/12/2017 donne l'entier  2122017 au format jour-mois-année et 12022017 au format mois-jour-année.\n",
      "Le jour 03/12/2017 donne l'entier  3122017 au format jour-mois-année et 12032017 au format mois-jour-année.\n",
      "Le jour 04/12/2017 donne l'entier  4122017 au format jour-mois-année et 12042017 au format mois-jour-année.\n",
      "Le jour 05/12/2017 donne l'entier  5122017 au format jour-mois-année et 12052017 au format mois-jour-année.\n",
      "Le jour 06/12/2017 donne l'entier  6122017 au format jour-mois-année et 12062017 au format mois-jour-année.\n",
      "Le jour 07/12/2017 donne l'entier  7122017 au format jour-mois-année et 12072017 au format mois-jour-année.\n",
      "Le jour 08/12/2017 donne l'entier  8122017 au format jour-mois-année et 12082017 au format mois-jour-année.\n",
      "Le jour 09/12/2017 donne l'entier  9122017 au format jour-mois-année et 12092017 au format mois-jour-année.\n",
      "Le jour 10/12/2017 donne l'entier 10122017 au format jour-mois-année et 12102017 au format mois-jour-année.\n",
      "Le jour 11/12/2017 donne l'entier 11122017 au format jour-mois-année et 12112017 au format mois-jour-année.\n",
      "Le jour 12/12/2017 donne l'entier 12122017 au format jour-mois-année et 12122017 au format mois-jour-année.\n",
      "Le jour 13/12/2017 donne l'entier 13122017 au format jour-mois-année et 12132017 au format mois-jour-année.\n",
      "Le jour 14/12/2017 donne l'entier 14122017 au format jour-mois-année et 12142017 au format mois-jour-année.\n",
      "Le jour 15/12/2017 donne l'entier 15122017 au format jour-mois-année et 12152017 au format mois-jour-année.\n",
      "Le jour 16/12/2017 donne l'entier 16122017 au format jour-mois-année et 12162017 au format mois-jour-année.\n",
      "Le jour 17/12/2017 donne l'entier 17122017 au format jour-mois-année et 12172017 au format mois-jour-année.\n",
      "Le jour 18/12/2017 donne l'entier 18122017 au format jour-mois-année et 12182017 au format mois-jour-année.\n",
      "Le jour 19/12/2017 donne l'entier 19122017 au format jour-mois-année et 12192017 au format mois-jour-année.\n",
      "Le jour 20/12/2017 donne l'entier 20122017 au format jour-mois-année et 12202017 au format mois-jour-année.\n",
      "Le jour 21/12/2017 donne l'entier 21122017 au format jour-mois-année et 12212017 au format mois-jour-année.\n",
      "Le jour 22/12/2017 donne l'entier 22122017 au format jour-mois-année et 12222017 au format mois-jour-année.\n",
      "Le jour 23/12/2017 donne l'entier 23122017 au format jour-mois-année et 12232017 au format mois-jour-année.\n",
      "Le jour 24/12/2017 donne l'entier 24122017 au format jour-mois-année et 12242017 au format mois-jour-année.\n",
      "Le jour 25/12/2017 donne l'entier 25122017 au format jour-mois-année et 12252017 au format mois-jour-année.\n",
      "Le jour 26/12/2017 donne l'entier 26122017 au format jour-mois-année et 12262017 au format mois-jour-année.\n",
      "Le jour 27/12/2017 donne l'entier 27122017 au format jour-mois-année et 12272017 au format mois-jour-année.\n",
      "Le jour 28/12/2017 donne l'entier 28122017 au format jour-mois-année et 12282017 au format mois-jour-année.\n",
      "Le jour 29/12/2017 donne l'entier 29122017 au format jour-mois-année et 12292017 au format mois-jour-année.\n",
      "Le jour 30/12/2017 donne l'entier 30122017 au format jour-mois-année et 12302017 au format mois-jour-année.\n",
      "Le jour 31/12/2017 donne l'entier 31122017 au format jour-mois-année et 12312017 au format mois-jour-année.\n"
     ]
    }
   ],
   "source": [
    "for date in tous_les_jours():\n",
    "    print(\"Le jour {:%d/%m/%Y} donne l'entier {:>8} au format jour-mois-année et {:>8} au format mois-jour-année.\".format(date, date_vers_nombre(date), date_vers_nombre_2(date)))"
   ]
  },
  {
   "cell_type": "markdown",
   "metadata": {},
   "source": [
    "Maintenant, il suffit de boucler, de tester si l'entier est premier, et de n'afficher que ceux qui le sont :"
   ]
  },
  {
   "cell_type": "code",
   "execution_count": 20,
   "metadata": {
    "collapsed": true
   },
   "outputs": [],
   "source": [
    "def date_premieres(conversion=date_vers_nombre, year=YEAR):\n",
    "    for date in tous_les_jours(year):\n",
    "        if isprime(conversion(date)):\n",
    "            yield date"
   ]
  },
  {
   "cell_type": "markdown",
   "metadata": {},
   "source": [
    "On peut aussi facilement trouver la prochaine date qui sera première :"
   ]
  },
  {
   "cell_type": "code",
   "execution_count": 151,
   "metadata": {
    "collapsed": true
   },
   "outputs": [],
   "source": [
    "def prochaine_date_premiere(date=datetime.today(), conversion=date_vers_nombre):\n",
    "    year = date.year\n",
    "    un_jour = timedelta(days=1)\n",
    "    for i in range(0, 366):\n",
    "        if isprime(conversion(date)):\n",
    "            return date\n",
    "        date += un_jour\n",
    "        if date.year > year:  # On est allé trop loin\n",
    "            return None\n",
    "    return None"
   ]
  },
  {
   "cell_type": "code",
   "execution_count": 158,
   "metadata": {
    "collapsed": false
   },
   "outputs": [
    {
     "name": "stdout",
     "output_type": "stream",
     "text": [
      "Pour le jour d'aujourd'hui (02/24/17), le prochain jour ayant une date première dans l'année 2017 est : 03/06/17 !\n"
     ]
    }
   ],
   "source": [
    "date = datetime.today()\n",
    "prochain = prochaine_date_premiere(date)\n",
    "print(\"Pour le jour d'aujourd'hui ({:%x}), le prochain jour ayant une date première dans l'année {} est : {:%x} !\".format(date, date.year, prochain))"
   ]
  },
  {
   "cell_type": "markdown",
   "metadata": {},
   "source": [
    "#### Pour les dates écrites \"jour mois année\" :"
   ]
  },
  {
   "cell_type": "code",
   "execution_count": 33,
   "metadata": {
    "collapsed": false,
    "scrolled": true
   },
   "outputs": [
    {
     "name": "stdout",
     "output_type": "stream",
     "text": [
      "Le jour 03/01/2017 donne l'entier  3012017 qui est premier !\n",
      "Le jour 11/01/2017 donne l'entier 11012017 qui est premier !\n",
      "Le jour 12/01/2017 donne l'entier 12012017 qui est premier !\n",
      "Le jour 18/01/2017 donne l'entier 18012017 qui est premier !\n",
      "Le jour 27/01/2017 donne l'entier 27012017 qui est premier !\n",
      "Le jour 29/01/2017 donne l'entier 29012017 qui est premier !\n",
      "Le jour 01/02/2017 donne l'entier  1022017 qui est premier !\n",
      "Le jour 02/02/2017 donne l'entier  2022017 qui est premier !\n",
      "Le jour 04/02/2017 donne l'entier  4022017 qui est premier !\n",
      "Le jour 08/02/2017 donne l'entier  8022017 qui est premier !\n",
      "Le jour 10/02/2017 donne l'entier 10022017 qui est premier !\n",
      "Le jour 17/02/2017 donne l'entier 17022017 qui est premier !\n",
      "Le jour 20/02/2017 donne l'entier 20022017 qui est premier !\n",
      "Le jour 23/02/2017 donne l'entier 23022017 qui est premier !\n",
      "Le jour 06/03/2017 donne l'entier  6032017 qui est premier !\n",
      "Le jour 09/03/2017 donne l'entier  9032017 qui est premier !\n",
      "Le jour 10/03/2017 donne l'entier 10032017 qui est premier !\n",
      "Le jour 13/03/2017 donne l'entier 13032017 qui est premier !\n",
      "Le jour 18/03/2017 donne l'entier 18032017 qui est premier !\n",
      "Le jour 27/03/2017 donne l'entier 27032017 qui est premier !\n",
      "Le jour 31/03/2017 donne l'entier 31032017 qui est premier !\n",
      "Le jour 02/04/2017 donne l'entier  2042017 qui est premier !\n",
      "Le jour 08/04/2017 donne l'entier  8042017 qui est premier !\n",
      "Le jour 17/04/2017 donne l'entier 17042017 qui est premier !\n",
      "Le jour 21/04/2017 donne l'entier 21042017 qui est premier !\n",
      "Le jour 23/04/2017 donne l'entier 23042017 qui est premier !\n",
      "Le jour 24/04/2017 donne l'entier 24042017 qui est premier !\n",
      "Le jour 26/04/2017 donne l'entier 26042017 qui est premier !\n",
      "Le jour 27/04/2017 donne l'entier 27042017 qui est premier !\n",
      "Le jour 08/05/2017 donne l'entier  8052017 qui est premier !\n",
      "Le jour 10/05/2017 donne l'entier 10052017 qui est premier !\n",
      "Le jour 11/05/2017 donne l'entier 11052017 qui est premier !\n",
      "Le jour 31/05/2017 donne l'entier 31052017 qui est premier !\n",
      "Le jour 09/06/2017 donne l'entier  9062017 qui est premier !\n",
      "Le jour 13/06/2017 donne l'entier 13062017 qui est premier !\n",
      "Le jour 21/06/2017 donne l'entier 21062017 qui est premier !\n",
      "Le jour 22/06/2017 donne l'entier 22062017 qui est premier !\n",
      "Le jour 25/06/2017 donne l'entier 25062017 qui est premier !\n",
      "Le jour 28/06/2017 donne l'entier 28062017 qui est premier !\n",
      "Le jour 14/07/2017 donne l'entier 14072017 qui est premier !\n",
      "Le jour 15/07/2017 donne l'entier 15072017 qui est premier !\n",
      "Le jour 17/07/2017 donne l'entier 17072017 qui est premier !\n",
      "Le jour 21/07/2017 donne l'entier 21072017 qui est premier !\n",
      "Le jour 01/08/2017 donne l'entier  1082017 qui est premier !\n",
      "Le jour 07/08/2017 donne l'entier  7082017 qui est premier !\n",
      "Le jour 08/08/2017 donne l'entier  8082017 qui est premier !\n",
      "Le jour 17/08/2017 donne l'entier 17082017 qui est premier !\n",
      "Le jour 19/08/2017 donne l'entier 19082017 qui est premier !\n",
      "Le jour 22/08/2017 donne l'entier 22082017 qui est premier !\n",
      "Le jour 28/08/2017 donne l'entier 28082017 qui est premier !\n",
      "Le jour 31/08/2017 donne l'entier 31082017 qui est premier !\n",
      "Le jour 03/09/2017 donne l'entier  3092017 qui est premier !\n",
      "Le jour 16/09/2017 donne l'entier 16092017 qui est premier !\n",
      "Le jour 21/09/2017 donne l'entier 21092017 qui est premier !\n",
      "Le jour 27/09/2017 donne l'entier 27092017 qui est premier !\n",
      "Le jour 30/09/2017 donne l'entier 30092017 qui est premier !\n",
      "Le jour 03/10/2017 donne l'entier  3102017 qui est premier !\n",
      "Le jour 12/10/2017 donne l'entier 12102017 qui est premier !\n",
      "Le jour 24/10/2017 donne l'entier 24102017 qui est premier !\n",
      "Le jour 26/10/2017 donne l'entier 26102017 qui est premier !\n",
      "Le jour 27/10/2017 donne l'entier 27102017 qui est premier !\n",
      "Le jour 01/11/2017 donne l'entier  1112017 qui est premier !\n",
      "Le jour 02/11/2017 donne l'entier  2112017 qui est premier !\n",
      "Le jour 05/11/2017 donne l'entier  5112017 qui est premier !\n",
      "Le jour 14/11/2017 donne l'entier 14112017 qui est premier !\n",
      "Le jour 16/11/2017 donne l'entier 16112017 qui est premier !\n",
      "Le jour 22/11/2017 donne l'entier 22112017 qui est premier !\n",
      "Le jour 03/12/2017 donne l'entier  3122017 qui est premier !\n",
      "Le jour 22/12/2017 donne l'entier 22122017 qui est premier !\n",
      "Le jour 24/12/2017 donne l'entier 24122017 qui est premier !\n",
      "Le jour 30/12/2017 donne l'entier 30122017 qui est premier !\n"
     ]
    }
   ],
   "source": [
    "for date in date_premieres(date_vers_nombre):\n",
    "    print(\"Le jour {:%d/%m/%Y} donne l'entier {:>8} qui est premier !\".format(date, date_vers_nombre(date)))"
   ]
  },
  {
   "cell_type": "markdown",
   "metadata": {},
   "source": [
    "#### Pour les dates écrites \"mois jour année\" :"
   ]
  },
  {
   "cell_type": "code",
   "execution_count": 34,
   "metadata": {
    "collapsed": false,
    "scrolled": true
   },
   "outputs": [
    {
     "name": "stdout",
     "output_type": "stream",
     "text": [
      "Le jour 02/01/2017 donne l'entier  1022017 qui est premier !\n",
      "Le jour 08/01/2017 donne l'entier  1082017 qui est premier !\n",
      "Le jour 11/01/2017 donne l'entier  1112017 qui est premier !\n",
      "Le jour 14/01/2017 donne l'entier  1142017 qui est premier !\n",
      "Le jour 20/01/2017 donne l'entier  1202017 qui est premier !\n",
      "Le jour 21/01/2017 donne l'entier  1212017 qui est premier !\n",
      "Le jour 26/01/2017 donne l'entier  1262017 qui est premier !\n",
      "Le jour 30/01/2017 donne l'entier  1302017 qui est premier !\n",
      "Le jour 02/02/2017 donne l'entier  2022017 qui est premier !\n",
      "Le jour 04/02/2017 donne l'entier  2042017 qui est premier !\n",
      "Le jour 11/02/2017 donne l'entier  2112017 qui est premier !\n",
      "Le jour 19/02/2017 donne l'entier  2192017 qui est premier !\n",
      "Le jour 23/02/2017 donne l'entier  2232017 qui est premier !\n",
      "Le jour 25/02/2017 donne l'entier  2252017 qui est premier !\n",
      "Le jour 26/02/2017 donne l'entier  2262017 qui est premier !\n",
      "Le jour 28/02/2017 donne l'entier  2282017 qui est premier !\n",
      "Le jour 01/03/2017 donne l'entier  3012017 qui est premier !\n",
      "Le jour 09/03/2017 donne l'entier  3092017 qui est premier !\n",
      "Le jour 10/03/2017 donne l'entier  3102017 qui est premier !\n",
      "Le jour 12/03/2017 donne l'entier  3122017 qui est premier !\n",
      "Le jour 19/03/2017 donne l'entier  3192017 qui est premier !\n",
      "Le jour 24/03/2017 donne l'entier  3242017 qui est premier !\n",
      "Le jour 25/03/2017 donne l'entier  3252017 qui est premier !\n",
      "Le jour 02/04/2017 donne l'entier  4022017 qui est premier !\n",
      "Le jour 20/04/2017 donne l'entier  4202017 qui est premier !\n",
      "Le jour 29/04/2017 donne l'entier  4292017 qui est premier !\n",
      "Le jour 30/04/2017 donne l'entier  4302017 qui est premier !\n",
      "Le jour 11/05/2017 donne l'entier  5112017 qui est premier !\n",
      "Le jour 14/05/2017 donne l'entier  5142017 qui est premier !\n",
      "Le jour 17/05/2017 donne l'entier  5172017 qui est premier !\n",
      "Le jour 25/05/2017 donne l'entier  5252017 qui est premier !\n",
      "Le jour 26/05/2017 donne l'entier  5262017 qui est premier !\n",
      "Le jour 29/05/2017 donne l'entier  5292017 qui est premier !\n",
      "Le jour 03/06/2017 donne l'entier  6032017 qui est premier !\n",
      "Le jour 24/06/2017 donne l'entier  6242017 qui est premier !\n",
      "Le jour 25/06/2017 donne l'entier  6252017 qui est premier !\n",
      "Le jour 27/06/2017 donne l'entier  6272017 qui est premier !\n",
      "Le jour 08/07/2017 donne l'entier  7082017 qui est premier !\n",
      "Le jour 20/07/2017 donne l'entier  7202017 qui est premier !\n",
      "Le jour 02/08/2017 donne l'entier  8022017 qui est premier !\n",
      "Le jour 04/08/2017 donne l'entier  8042017 qui est premier !\n",
      "Le jour 05/08/2017 donne l'entier  8052017 qui est premier !\n",
      "Le jour 08/08/2017 donne l'entier  8082017 qui est premier !\n",
      "Le jour 13/08/2017 donne l'entier  8132017 qui est premier !\n",
      "Le jour 16/08/2017 donne l'entier  8162017 qui est premier !\n",
      "Le jour 23/08/2017 donne l'entier  8232017 qui est premier !\n",
      "Le jour 25/08/2017 donne l'entier  8252017 qui est premier !\n",
      "Le jour 29/08/2017 donne l'entier  8292017 qui est premier !\n",
      "Le jour 03/09/2017 donne l'entier  9032017 qui est premier !\n",
      "Le jour 06/09/2017 donne l'entier  9062017 qui est premier !\n",
      "Le jour 19/09/2017 donne l'entier  9192017 qui est premier !\n",
      "Le jour 24/09/2017 donne l'entier  9242017 qui est premier !\n",
      "Le jour 27/09/2017 donne l'entier  9272017 qui est premier !\n",
      "Le jour 02/10/2017 donne l'entier 10022017 qui est premier !\n",
      "Le jour 03/10/2017 donne l'entier 10032017 qui est premier !\n",
      "Le jour 05/10/2017 donne l'entier 10052017 qui est premier !\n",
      "Le jour 14/10/2017 donne l'entier 10142017 qui est premier !\n",
      "Le jour 15/10/2017 donne l'entier 10152017 qui est premier !\n",
      "Le jour 17/10/2017 donne l'entier 10172017 qui est premier !\n",
      "Le jour 01/11/2017 donne l'entier 11012017 qui est premier !\n",
      "Le jour 05/11/2017 donne l'entier 11052017 qui est premier !\n",
      "Le jour 20/11/2017 donne l'entier 11202017 qui est premier !\n",
      "Le jour 23/11/2017 donne l'entier 11232017 qui est premier !\n",
      "Le jour 28/11/2017 donne l'entier 11282017 qui est premier !\n",
      "Le jour 01/12/2017 donne l'entier 12012017 qui est premier !\n",
      "Le jour 10/12/2017 donne l'entier 12102017 qui est premier !\n",
      "Le jour 19/12/2017 donne l'entier 12192017 qui est premier !\n",
      "Le jour 24/12/2017 donne l'entier 12242017 qui est premier !\n",
      "Le jour 31/12/2017 donne l'entier 12312017 qui est premier !\n"
     ]
    }
   ],
   "source": [
    "for date in date_premieres(date_vers_nombre_2):\n",
    "    print(\"Le jour {:%d/%m/%Y} donne l'entier {:>8} qui est premier !\".format(date, date_vers_nombre_2(date)))"
   ]
  },
  {
   "cell_type": "markdown",
   "metadata": {},
   "source": [
    "#### Comparaison\n",
    "Il y a 71 jours, en 2017, qui ont une date première si on les écrit \"jour mois année\", et 69 si on les écrits \"mois jour année\"."
   ]
  },
  {
   "cell_type": "code",
   "execution_count": 35,
   "metadata": {
    "collapsed": false
   },
   "outputs": [
    {
     "data": {
      "text/plain": [
       "71"
      ]
     },
     "execution_count": 35,
     "metadata": {},
     "output_type": "execute_result"
    }
   ],
   "source": [
    "len(list(date_premieres(date_vers_nombre)))"
   ]
  },
  {
   "cell_type": "code",
   "execution_count": 36,
   "metadata": {
    "collapsed": false
   },
   "outputs": [
    {
     "data": {
      "text/plain": [
       "69"
      ]
     },
     "execution_count": 36,
     "metadata": {},
     "output_type": "execute_result"
    }
   ],
   "source": [
    "len(list(date_premieres(date_vers_nombre_2)))"
   ]
  },
  {
   "cell_type": "markdown",
   "metadata": {},
   "source": [
    "----\n",
    "## 3. Résolvons le problème pour toutes les années entre 0 AC et 2500 AC\n",
    "\n",
    "On aimerait afficher une courbe montrant l'évolution du nombre de dates premières au cours des années, selon les deux formats."
   ]
  },
  {
   "cell_type": "code",
   "execution_count": 111,
   "metadata": {
    "collapsed": true
   },
   "outputs": [],
   "source": [
    "def nombres_dates_premieres(year=YEAR):\n",
    "    if year % 2 == 0:\n",
    "        return [0, 0]\n",
    "    else:\n",
    "        return [len(list(date_premieres(date_vers_nombre, year=year))), len(list(date_premieres(date_vers_nombre_2, year=year)))]"
   ]
  },
  {
   "cell_type": "code",
   "execution_count": 112,
   "metadata": {
    "collapsed": false,
    "scrolled": true
   },
   "outputs": [
    {
     "data": {
      "text/plain": [
       "[71, 69]"
      ]
     },
     "execution_count": 112,
     "metadata": {},
     "output_type": "execute_result"
    }
   ],
   "source": [
    "nombres_dates_premieres()"
   ]
  },
  {
   "cell_type": "markdown",
   "metadata": {},
   "source": [
    "On vérifie que pour les années paires il n'y a pas de dates premières :"
   ]
  },
  {
   "cell_type": "code",
   "execution_count": 113,
   "metadata": {
    "collapsed": false
   },
   "outputs": [
    {
     "data": {
      "text/plain": [
       "0"
      ]
     },
     "execution_count": 113,
     "metadata": {},
     "output_type": "execute_result"
    }
   ],
   "source": [
    "len(list(date_premieres(date_vers_nombre, year=2016)))"
   ]
  },
  {
   "cell_type": "markdown",
   "metadata": {},
   "source": [
    "On peut donc récupérer toutes ces nombres, jusqu'à l'année 3000.\n",
    "(On pourrait gagner du temps en ne considérant que les années impaires, et l'année 1)"
   ]
  },
  {
   "cell_type": "code",
   "execution_count": 114,
   "metadata": {
    "collapsed": true
   },
   "outputs": [],
   "source": [
    "import numpy as np\n",
    "\n",
    "def intervale_nombres_dates_premieres(year1=1, year2=3000):\n",
    "    nombres = np.zeros((year2 - year1 + 1, 2))\n",
    "    for i, year in enumerate(range(year1, year2 + 1)):\n",
    "        nombres[i, :] = nombres_dates_premieres(year)\n",
    "    return nombres"
   ]
  },
  {
   "cell_type": "markdown",
   "metadata": {},
   "source": [
    "On essaie sur un intervale de 11 ans :"
   ]
  },
  {
   "cell_type": "code",
   "execution_count": 115,
   "metadata": {
    "collapsed": false
   },
   "outputs": [
    {
     "name": "stdout",
     "output_type": "stream",
     "text": [
      "[[  0.   0.]\n",
      " [ 46.  50.]\n",
      " [  0.   0.]\n",
      " [ 52.  51.]\n",
      " [  0.   0.]\n",
      " [  0.   0.]\n",
      " [  0.   0.]\n",
      " [ 71.  69.]\n",
      " [  0.   0.]\n",
      " [ 50.  58.]\n",
      " [  0.   0.]]\n",
      "CPU times: user 144 ms, sys: 0 ns, total: 144 ms\n",
      "Wall time: 176 ms\n"
     ]
    }
   ],
   "source": [
    "%%time\n",
    "nombres = intervale_nombres_dates_premieres(year1=2010, year2=2020)\n",
    "print(nombres)"
   ]
  },
  {
   "cell_type": "code",
   "execution_count": 117,
   "metadata": {
    "collapsed": false
   },
   "outputs": [
    {
     "name": "stdout",
     "output_type": "stream",
     "text": [
      "[[ 108.  108.]\n",
      " [   0.    0.]\n",
      " [  98.  104.]\n",
      " ..., \n",
      " [   0.    0.]\n",
      " [  64.   55.]\n",
      " [   0.    0.]]\n",
      "CPU times: user 50.2 s, sys: 36 ms, total: 50.2 s\n",
      "Wall time: 52.6 s\n"
     ]
    }
   ],
   "source": [
    "%%time\n",
    "nombres = intervale_nombres_dates_premieres(year1=1, year2=3000)\n",
    "print(nombres)"
   ]
  },
  {
   "cell_type": "code",
   "execution_count": 118,
   "metadata": {
    "collapsed": false
   },
   "outputs": [
    {
     "data": {
      "text/plain": [
       "(3000, 2)"
      ]
     },
     "execution_count": 118,
     "metadata": {},
     "output_type": "execute_result"
    }
   ],
   "source": [
    "np.shape(nombres)"
   ]
  },
  {
   "cell_type": "markdown",
   "metadata": {},
   "source": [
    "Quelques statistiques :"
   ]
  },
  {
   "cell_type": "code",
   "execution_count": 119,
   "metadata": {
    "collapsed": false
   },
   "outputs": [
    {
     "name": "stdout",
     "output_type": "stream",
     "text": [
      "- Au format jour-mois-année, il y a en moyenne 23.9 jours premiers par an.\n",
      "- Et en moyenne 59.7 jours premiers par an, en enlevant les années paires.\n",
      "- Au format mois-jour-année, il y a en moyenne 25.2 jours premiers par an.\n",
      "- Et en moyenne 63 jours premiers par an, en enlevant les années paires.\n"
     ]
    }
   ],
   "source": [
    "print(\"- Au format jour-mois-année, il y a en moyenne {:.3g} jours premiers par an.\".format(np.mean(nombres[:, 0])))\n",
    "print(\"- Et en moyenne {:.3g} jours premiers par an, en enlevant les années paires.\".format(np.mean(nombres[:, 0][nombres[:, 0] > 0])))\n",
    "\n",
    "print(\"- Au format mois-jour-année, il y a en moyenne {:.3g} jours premiers par an.\".format(np.mean(nombres[:, 1])))\n",
    "print(\"- Et en moyenne {:.3g} jours premiers par an, en enlevant les années paires.\".format(np.mean(nombres[:, 1][nombres[:, 1] > 0])))"
   ]
  },
  {
   "cell_type": "markdown",
   "metadata": {},
   "source": [
    "On va afficher tout ça :"
   ]
  },
  {
   "cell_type": "code",
   "execution_count": 120,
   "metadata": {
    "collapsed": false
   },
   "outputs": [],
   "source": [
    "%matplotlib inline\n",
    "import matplotlib.pyplot as plt"
   ]
  },
  {
   "cell_type": "code",
   "execution_count": 127,
   "metadata": {
    "collapsed": true
   },
   "outputs": [],
   "source": [
    "def affiche_nombres_dates_premieres(nombres):\n",
    "    plt.figure()\n",
    "    plt.plot(nombres[:, 0], '+', label=\"Format jour-mois-année\")\n",
    "    plt.plot(nombres[:, 1], '*', label=\"Format mois-jour-année\")\n",
    "    plt.title(\"Nombres de dates premières par an\")\n",
    "    plt.legend(loc='best', numpoints=1, fancybox=True, shadow=True, framealpha=0.8)\n",
    "    plt.xlabel(\"Année\")\n",
    "    plt.ylabel(\"Nombre de dates premières\")"
   ]
  },
  {
   "cell_type": "code",
   "execution_count": 128,
   "metadata": {
    "collapsed": false,
    "scrolled": true
   },
   "outputs": [
    {
     "data": {
      "image/png": "[encoded data removed]",
      "text/plain": [
       "<matplotlib.figure.Figure at 0x7f8b71c674a8>"
      ]
     },
     "metadata": {},
     "output_type": "display_data"
    }
   ],
   "source": [
    "affiche_nombres_dates_premieres(nombres)"
   ]
  },
  {
   "cell_type": "markdown",
   "metadata": {},
   "source": [
    "Avec un histogramme :"
   ]
  },
  {
   "cell_type": "code",
   "execution_count": 145,
   "metadata": {
    "collapsed": true
   },
   "outputs": [],
   "source": [
    "def hist_nombres_dates_premieres(nombres, ind=0):\n",
    "    nbs = nombres[:, ind]\n",
    "    nbs = nbs[nbs > 0]\n",
    "    plt.figure()\n",
    "    plt.hist(nbs, bins=100, label=\"Format %s-année\" % ('jour-mois' if ind==0 else 'mois-jour'), color='bg'[ind])\n",
    "    plt.title(\"Répartition du nombres de dates premières par an\")\n",
    "    plt.legend(loc='best', numpoints=1, fancybox=True, shadow=True, framealpha=0.8)\n",
    "    plt.xlabel(\"Nombres de dates premières\")\n",
    "    plt.ylabel(\"Nombres\")"
   ]
  },
  {
   "cell_type": "code",
   "execution_count": 146,
   "metadata": {
    "collapsed": false
   },
   "outputs": [
    {
     "data": {
      "image/png": "[encoded data removed]",
      "text/plain": [
       "<matplotlib.figure.Figure at 0x7f8b6f089860>"
      ]
     },
     "metadata": {},
     "output_type": "display_data"
    },
    {
     "data": {
      "image/png": "[encoded data removed]",
      "text/plain": [
       "<matplotlib.figure.Figure at 0x7f8b6f089b38>"
      ]
     },
     "metadata": {},
     "output_type": "display_data"
    }
   ],
   "source": [
    "hist_nombres_dates_premieres(nombres, 0)\n",
    "hist_nombres_dates_premieres(nombres, 1)"
   ]
  },
  {
   "cell_type": "markdown",
   "metadata": {},
   "source": [
    "----\n",
    "## Conclusion\n",
    "- Pour les années impaires, il y a en moyenne une soixantaine de jours qui ont une date première !\n",
    "- Le nombre est quasiment identique selon les deux formats, `jour-mois` ou `mois-jour`.\n",
    "\n",
    "Ce n'était pas très dur à calculer, mais intéressant."
   ]
  },
  {
   "cell_type": "markdown",
   "metadata": {},
   "source": [
    "> C'est tout pour aujourd'hui les amis, [allez voir d'autres notebooks si vous êtes curieux !](https://github.com/Naereen/notebooks/).\n",
    "\n",
    "> [See this repository for other Python notebook doing numerical simulations](https://github.com/Naereen/notebooks/tree/master/simus/)."
   ]
  }
 ],
 "metadata": {
  "kernelspec": {
   "display_name": "Python 3",
   "language": "python",
   "name": "python3"
  },
  "language_info": {
   "codemirror_mode": {
    "name": "ipython",
    "version": 3
   },
   "file_extension": ".py",
   "mimetype": "text/x-python",
   "name": "python",
   "nbconvert_exporter": "python",
   "pygments_lexer": "ipython3",
   "version": "3.4.3+"
  }
 },
 "nbformat": 4,
 "nbformat_minor": 1
}
