{
 "cells": [
  {
   "cell_type": "markdown",
   "metadata": {},
   "source": [
    "# Ce notebook est *en cours de rédaction*\n",
    "- Je vais implémenter une fonction, en [Python 3](https://docs.python.org/3/), qui permettra de résoudre rapidement un problème mathématique."
   ]
  },
  {
   "cell_type": "markdown",
   "metadata": {},
   "source": [
    "---\n",
    "## Exposé du problème :\n",
    "- Soit $n \\geq 1$ un nombre de faces pour des dés bien équilibrés. On prendre $n = 6$ pour commencer, mais $n = 8, 10, 12, 20$ ou $n = 100$ est aussi possible.\n",
    "- On veut trouver deux ensembles d'entiers, $A$ et $B$, de tailles $n$, tels que les entiers dans $A$ soient tous [premiers](https://fr.wikipedia.org/wiki/Nombre_premier), et les entiers dans $B$ soient tous [pairs](https://fr.wikipedia.org/wiki/Parit%C3%A9_(arithm%C3%A9tique)), et on souhaite que chaque somme $a + b$ pour $a \\in A$ et $b \\in B$ soit encore un nombre premier.\n",
    "\n",
    "Par exemples :\n",
    "- Avec $n = 1$, prendre $P = \\{3\\}$ et $B = \\{2\\}$ fonctionne, comme $3 + 2 = 5$ est premier.\n",
    "- Avec $n = 2$, prendre $P = \\{3, 5\\}$ et $B = \\{2, 8\\}$ fonctionne, comme $3 + 2 = 5$, $3 + 8 = 11$, $5 + 2 = 7$, et $5 + 8 = 13$ sont premiers.\n",
    "- Avec $n = 6$, c'est tout de suite moins facile à trouver de tête...\n",
    "\n",
    "### Buts\n",
    "Notre but est d'abord de trouver vérifier qu'une paire $(A, B)$ donnée soit valide, puis de trouver une paire valide de taille $n$ donnée.\n",
    "On ne cherchera pas à avoir un algorithme très malin, une énumération exhaustive nous suffira.\n",
    "\n",
    "\n",
    "Ensuite on cherchera à répondre à une question plus combinatoire : peut-on trouver, à $n$ fixer, la paire valide $(A, B)$ de somme minimale (ou minimisant un certain critère) ?\n",
    "La réponse sera oui, et pas trop dure à obtenir."
   ]
  },
  {
   "cell_type": "markdown",
   "metadata": {},
   "source": [
    "---\n",
    "## Présentation de ma solution numérique\n",
    "- Je vais utiliser le module python [`sympy`](http://sympy.org/) et en particulier ses fonctions du module [`sympy.ntheory`](http://docs.sympy.org/latest/modules/ntheory.html) pour avoir facilement accès à une liste de nombres premiers. En particulier, [`primerange`](http://docs.sympy.org/latest/modules/ntheory.html#sympy.ntheory.generate.primerange) sera bien pratique.\n",
    "- Je vais procéder par énumération totale avec un \"doubling trick\" : on cherchera toutes les paires $(A, B)$ bornées dans, disons, $[1, 1000]$, puis $[1, 10000]$ et ainsi de suite jusqu'à en trouver une qui marche.\n",
    "- Cette approche \"ascendante\" garantit de terminer, pour peu qu'on puisse prouver théoriquement l'existence de la solution qu'on cherche.\n",
    "\n",
    "### Solution théorique ?\n",
    "> Je ne vais pas rentrer dans les détails, mais avec [le théorème de la progression arithmétique de Dirichlet](https://fr.wikipedia.org/wiki/Théorème_de_la_progression_arithmétique) (cf. aussi [ce document](http://perso.eleves.ens-rennes.fr/~ariffaut/Agregation/Dirichlet.pdf)), on peut montrer que pour tout nombre de faces $n \\geq 1$, on peut trouver un nombre infini d'ensembles $(A, B)$ qui conviennent.\n",
    "> *Ouais, c'est balèze*."
   ]
  },
  {
   "cell_type": "markdown",
   "metadata": {},
   "source": [
    "----\n",
    "### Solution numérique\n",
    "On commence avec les dépendances :"
   ]
  },
  {
   "cell_type": "code",
   "execution_count": 4,
   "metadata": {
    "collapsed": true
   },
   "outputs": [],
   "source": [
    "from sympy import isprime\n",
    "from sympy import primerange"
   ]
  },
  {
   "cell_type": "markdown",
   "metadata": {},
   "source": [
    "---\n",
    "## Implémentation des fonctions utilitaires requises\n",
    "D'abord, une fonction `verifie_paire` qui vérifie si une paire $(A, B)$, donnée sous forme de deux *itérateurs* (liste ou ensemble, peu importe), est valide."
   ]
  },
  {
   "cell_type": "code",
   "execution_count": 9,
   "metadata": {
    "collapsed": true
   },
   "outputs": [],
   "source": [
    "def verifie_paire(A, B):\n",
    "    \"\"\"Version efficace, qui s'arrête le plus tôt possible.\"\"\"\n",
    "    for a in A:\n",
    "        if not isprime(a):\n",
    "            return False\n",
    "        for b in B:\n",
    "            if not isprime(a + b):\n",
    "                return False\n",
    "    return True\n",
    "\n",
    "\n",
    "def verifie_paire_debug(A, B):\n",
    "    \"\"\"Version plus lente qui fait tous les tests, et affiche vrai ou faux pour chaque somme a + b.\"\"\"\n",
    "    reponse = True\n",
    "    for a in A:\n",
    "        if not isprime(a):\n",
    "            print(\"  - a = {:<6} est pas premier, ECHEC ...\".format(a))\n",
    "            reponse = False\n",
    "        for b in B:\n",
    "            if not isprime(a + b):\n",
    "                print(\"  - a = {:<6} + b = {:<6} donnent {:<6} qui n'est pas premier, ECHEC ...\".format(a, b, a + b))\n",
    "                reponse = False\n",
    "            else:\n",
    "                print(\"  - a = {:<6} + b = {:<6} donnent {:<6} qui est bien premier, OK ...\".format(a, b, a + b))\n",
    "    return reponse"
   ]
  },
  {
   "cell_type": "markdown",
   "metadata": {},
   "source": [
    "Premier exemple :"
   ]
  },
  {
   "cell_type": "code",
   "execution_count": 37,
   "metadata": {
    "collapsed": false,
    "scrolled": true
   },
   "outputs": [
    {
     "name": "stdout",
     "output_type": "stream",
     "text": [
      "  - a = 3      + b = 2      donnent 5      qui est bien premier, OK ...\n"
     ]
    },
    {
     "data": {
      "text/plain": [
       "True"
      ]
     },
     "execution_count": 37,
     "metadata": {},
     "output_type": "execute_result"
    }
   ],
   "source": [
    "A = [3]\n",
    "B = [2]\n",
    "verifie_paire_debug(A, B)"
   ]
  },
  {
   "cell_type": "markdown",
   "metadata": {},
   "source": [
    "Second exemple :"
   ]
  },
  {
   "cell_type": "code",
   "execution_count": 38,
   "metadata": {
    "collapsed": false
   },
   "outputs": [
    {
     "name": "stdout",
     "output_type": "stream",
     "text": [
      "  - a = 3      + b = 2      donnent 5      qui est bien premier, OK ...\n",
      "  - a = 3      + b = 8      donnent 11     qui est bien premier, OK ...\n",
      "  - a = 5      + b = 2      donnent 7      qui est bien premier, OK ...\n",
      "  - a = 5      + b = 8      donnent 13     qui est bien premier, OK ...\n"
     ]
    },
    {
     "data": {
      "text/plain": [
       "True"
      ]
     },
     "execution_count": 38,
     "metadata": {},
     "output_type": "execute_result"
    }
   ],
   "source": [
    "A = (3, 5)\n",
    "B = (2, 8)\n",
    "verifie_paire_debug(A, B)"
   ]
  },
  {
   "cell_type": "markdown",
   "metadata": {},
   "source": [
    "Ensuite, une fonction qui va énumérer tous les ensembles $(A, B)$ possibles et valides, avec $\\max (A \\cup B ) \\leq M$ pour $M$ fixé.\n",
    "J'ajoute une borne inférieure $m$, valant par défaut $m = 1$, pour rester le plus générique possible, mais on ne s'en sert pas vraiment.\n",
    "\n",
    "- On récupère les candidats possibles pour $a \\in A$ via `primerange` (notés $C_A$), et pour $B$ via un `range` à pas $2$ pour considérer seulement des nombres pairs (notés $B_A$),\n",
    "- Ensuite on boucle sur tous les ensembles $A$ de tailles $n$ dans $C_A$, et $B$ de taille $n$ dans $C_B$, via [`itertools.combinations`](https://docs.python.org/3/library/itertools.html#itertools.combinations),\n",
    "- On garde ceux qui sont valides."
   ]
  },
  {
   "cell_type": "code",
   "execution_count": 48,
   "metadata": {
    "collapsed": false,
    "scrolled": true
   },
   "outputs": [],
   "source": [
    "from itertools import combinations\n",
    "\n",
    "def enumere_toutes_les_paires(n=2, M=10, m=1):\n",
    "    # Premiers entre m et M (compris), ie. P inter [|m, ..., M|]\n",
    "    C_A = list(primerange(m, M + 1))\n",
    "    # Nombres pairs\n",
    "    if m % 2 == 0:\n",
    "        C_B = list(range(m, M - 1, 2))\n",
    "    else:\n",
    "        C_B = list(range(m + 1, M - 1, 2))\n",
    "    print(\"C_A =\", C_A)\n",
    "    print(\"C_B =\", C_B)\n",
    "    # C_A, C_B est déjà trié, c'est cool\n",
    "    all_A_B = []\n",
    "    print(\"Combinaison de n =\", n, \"éléments dans A =\", list(combinations(C_A, 2)))\n",
    "    print(\"Combinaison de n =\", n, \"éléments dans B =\", list(combinations(C_B, 2)))\n",
    "    for A in combinations(C_A, n):\n",
    "        print(\" - A =\", A)\n",
    "        for B in combinations(C_B, n):\n",
    "            print(\"     - B =\", B)\n",
    "            if verifie_paire(A, B):\n",
    "                print(\"==> Une paire (A, B) de plus !\")\n",
    "                all_A_B.append((A, B))\n",
    "    # all_A_B est aussi trié par ordre lexicographique\n",
    "    return all_A_B"
   ]
  },
  {
   "cell_type": "code",
   "execution_count": 47,
   "metadata": {
    "collapsed": false
   },
   "outputs": [
    {
     "name": "stdout",
     "output_type": "stream",
     "text": [
      "C_A = [2, 3, 5, 7]\n",
      "C_B = [2, 4, 6, 8]\n",
      "[(2, 3), (2, 5), (2, 7), (3, 5), (3, 7), (5, 7)]\n",
      "[(2, 4), (2, 6), (2, 8), (4, 6), (4, 8), (6, 8)]\n",
      " - A = (2, 3)\n",
      "     - B = (2, 4)\n",
      "     - B = (2, 6)\n",
      "     - B = (2, 8)\n",
      "     - B = (4, 6)\n",
      "     - B = (4, 8)\n",
      "     - B = (6, 8)\n",
      " - A = (2, 5)\n",
      "     - B = (2, 4)\n",
      "     - B = (2, 6)\n",
      "     - B = (2, 8)\n",
      "     - B = (4, 6)\n",
      "     - B = (4, 8)\n",
      "     - B = (6, 8)\n",
      " - A = (2, 7)\n",
      "     - B = (2, 4)\n",
      "     - B = (2, 6)\n",
      "     - B = (2, 8)\n",
      "     - B = (4, 6)\n",
      "     - B = (4, 8)\n",
      "     - B = (6, 8)\n",
      " - A = (3, 5)\n",
      "     - B = (2, 4)\n",
      "     - B = (2, 6)\n",
      "     - B = (2, 8)\n",
      "==> Une paire (A, B) de plus !\n",
      "     - B = (4, 6)\n",
      "     - B = (4, 8)\n",
      "     - B = (6, 8)\n",
      " - A = (3, 7)\n",
      "     - B = (2, 4)\n",
      "     - B = (2, 6)\n",
      "     - B = (2, 8)\n",
      "     - B = (4, 6)\n",
      "     - B = (4, 8)\n",
      "     - B = (6, 8)\n",
      " - A = (5, 7)\n",
      "     - B = (2, 4)\n",
      "     - B = (2, 6)\n",
      "     - B = (2, 8)\n",
      "     - B = (4, 6)\n",
      "     - B = (4, 8)\n",
      "     - B = (6, 8)\n"
     ]
    },
    {
     "data": {
      "text/plain": [
       "[((3, 5), (2, 8))]"
      ]
     },
     "execution_count": 47,
     "metadata": {},
     "output_type": "execute_result"
    }
   ],
   "source": [
    "n = 2\n",
    "M = 10\n",
    "m = 1\n",
    "enumere_toutes_les_paires(n=n, M=M, m=m)"
   ]
  },
  {
   "cell_type": "code",
   "execution_count": 43,
   "metadata": {
    "collapsed": false
   },
   "outputs": [
    {
     "name": "stdout",
     "output_type": "stream",
     "text": [
      "<itertools.combinations object at 0x7f6246c34c28>\n",
      "[(2, 4), (2, 6), (2, 8), (4, 6), (4, 8), (6, 8)]\n"
     ]
    }
   ],
   "source": [
    "C_A = [2, 3, 5, 7]\n",
    "C_B = [2, 4, 6, 8]\n",
    "print(list(combinations(C_A, 2)))\n",
    "print(list(combinations(C_B, 2)))"
   ]
  },
  {
   "cell_type": "markdown",
   "metadata": {},
   "source": [
    "---\n",
    "## La fonction proposée"
   ]
  },
  {
   "cell_type": "markdown",
   "metadata": {},
   "source": [
    "---\n",
    "## Exemples"
   ]
  },
  {
   "cell_type": "markdown",
   "metadata": {},
   "source": [
    "---\n",
    "### Exemple avec des dés à 6 faces"
   ]
  },
  {
   "cell_type": "markdown",
   "metadata": {},
   "source": [
    "---\n",
    "### Exemples avec des dés à 8, 10, 12 et 20 faces"
   ]
  },
  {
   "cell_type": "markdown",
   "metadata": {},
   "source": [
    "### Exemple avec des dés de tailles différentes"
   ]
  },
  {
   "cell_type": "code",
   "execution_count": null,
   "metadata": {
    "collapsed": true
   },
   "outputs": [],
   "source": []
  }
 ],
 "metadata": {
  "kernelspec": {
   "display_name": "Python 3",
   "language": "python",
   "name": "python3"
  },
  "language_info": {
   "codemirror_mode": {
    "name": "ipython",
    "version": 3
   },
   "file_extension": ".py",
   "mimetype": "text/x-python",
   "name": "python",
   "nbconvert_exporter": "python",
   "pygments_lexer": "ipython3",
   "version": "3.5.2+"
  }
 },
 "nbformat": 4,
 "nbformat_minor": 2
}
