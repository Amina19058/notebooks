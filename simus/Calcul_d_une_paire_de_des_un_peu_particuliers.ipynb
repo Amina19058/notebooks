{
 "cells": [
  {
   "cell_type": "markdown",
   "metadata": {},
   "source": [
    "# Ce notebook est *en cours de rédaction*\n",
    "- Je vais implémenter une fonction, en [Python 3](https://docs.python.org/3/), qui permettra de résoudre rapidement un problème mathématique."
   ]
  },
  {
   "cell_type": "markdown",
   "metadata": {},
   "source": [
    "---\n",
    "## Exposé du problème :\n",
    "- Soit $n \\geq 1$ un nombre de faces pour des dés bien équilibrés. On prendre $n = 6$ pour commencer, mais $n = 8, 10, 12, 20$ ou $n = 100$ est aussi possible.\n",
    "- On veut trouver deux ensembles d'entiers, $A$ et $B$, de tailles $n$, tels que les entiers dans $A$ soient tous [premiers](https://fr.wikipedia.org/wiki/Nombre_premier), et les entiers dans $B$ soient tous [pairs](https://fr.wikipedia.org/wiki/Parit%C3%A9_(arithm%C3%A9tique)), et on souhaite que chaque somme $a + b$ pour $a \\in A$ et $b \\in B$ soit encore un nombre premier.\n",
    "\n",
    "Par exemples :\n",
    "- Avec $n = 1$, prendre $A = \\{3\\}$ et $B = \\{2\\}$ fonctionne, comme $3 + 2 = 5$ est premier.\n",
    "- Avec $n = 2$, prendre $A = \\{3, 5\\}$ et $B = \\{2, 8\\}$ fonctionne, comme $3 + 2 = 5$, $3 + 8 = 11$, $5 + 2 = 7$, et $5 + 8 = 13$ sont premiers.\n",
    "- Avec $n = 6$, c'est tout de suite moins facile à trouver de tête... Allez, je triche et je donne un exemple trouvé plus bas : $A = \\{5, 7, 17, 31, 61, 101\\}$ et $B = \\{6, 12, 36, 66, 96, 132\\}$.\n",
    "\n",
    "### Buts\n",
    "Notre but est d'abord de trouver vérifier qu'une paire $(A, B)$ donnée soit valide, puis de trouver une paire valide de taille $n$ donnée.\n",
    "On ne cherchera pas à avoir un algorithme très malin, une énumération exhaustive nous suffira.\n",
    "\n",
    "\n",
    "Ensuite on cherchera à répondre à une question plus combinatoire : peut-on trouver, à $n$ fixer, la paire valide $(A, B)$ de somme minimale (ou minimisant un certain critère) ?\n",
    "La réponse sera oui, et pas trop dure à obtenir."
   ]
  },
  {
   "cell_type": "markdown",
   "metadata": {},
   "source": [
    "---\n",
    "## Présentation de ma solution numérique\n",
    "- Je vais utiliser le module python [`sympy`](http://sympy.org/) et en particulier ses fonctions du module [`sympy.ntheory`](http://docs.sympy.org/latest/modules/ntheory.html) pour avoir facilement accès à une liste de nombres premiers. En particulier, [`primerange`](http://docs.sympy.org/latest/modules/ntheory.html#sympy.ntheory.generate.primerange) sera bien pratique.\n",
    "- Je vais procéder par énumération totale avec un \"doubling trick\" : on cherchera toutes les paires $(A, B)$ bornées dans, disons, $[1, 100]$, puis $[1, 110]$ et ainsi de suite (avec un petit incrément), jusqu'à en trouver une qui marche.\n",
    "- Cette approche \"ascendante\" garantit de terminer, pour peu qu'on puisse prouver théoriquement l'existence de la solution qu'on cherche.\n",
    "\n",
    "### Solution théorique ?\n",
    "> Je ne vais pas rentrer dans les détails, mais avec [le théorème de la progression arithmétique de Dirichlet](https://fr.wikipedia.org/wiki/Théorème_de_la_progression_arithmétique) (cf. aussi [ce document](http://perso.eleves.ens-rennes.fr/~ariffaut/Agregation/Dirichlet.pdf)), on peut montrer que pour tout nombre de faces $n \\geq 1$, on peut trouver un nombre infini d'ensembles $(A, B)$ qui conviennent.\n",
    "> *Ouais, c'est balèze*."
   ]
  },
  {
   "cell_type": "markdown",
   "metadata": {},
   "source": [
    "----\n",
    "### Solution numérique\n",
    "On commence avec les dépendances suivantes.\n",
    "\n",
    "> *Note :* Si vous n'avez pas installé [`sympy`](http://sympy.org/), un simple coup de `pip install sympy` suffit."
   ]
  },
  {
   "cell_type": "code",
   "execution_count": 29,
   "metadata": {
    "collapsed": true
   },
   "outputs": [],
   "source": [
    "from sympy import isprime\n",
    "from sympy import primerange"
   ]
  },
  {
   "cell_type": "markdown",
   "metadata": {},
   "source": [
    "---\n",
    "## Implémentation des fonctions utilitaires requises\n",
    "D'abord, une fonction `verifie_paire` qui vérifie si une paire $(A, B)$, donnée sous forme de deux *itérateurs* (liste ou ensemble, peu importe), est valide."
   ]
  },
  {
   "cell_type": "code",
   "execution_count": 53,
   "metadata": {
    "collapsed": true
   },
   "outputs": [],
   "source": [
    "def verifie_paire(A, B):\n",
    "    \"\"\"Version efficace, qui s'arrête le plus tôt possible.\"\"\"\n",
    "    for a in A:\n",
    "        # if not isprime(a):  # Inutile car A aura été bien choisi\n",
    "        #    return False\n",
    "        for b in B:\n",
    "            if not isprime(a + b):\n",
    "                return False\n",
    "    return True"
   ]
  },
  {
   "cell_type": "markdown",
   "metadata": {},
   "source": [
    "Pour visualiser un peu, on en fait une version qui parle :"
   ]
  },
  {
   "cell_type": "code",
   "execution_count": 31,
   "metadata": {
    "collapsed": true
   },
   "outputs": [],
   "source": [
    "def verifie_paire_debug(A, B):\n",
    "    \"\"\"Version plus lente qui fait tous les tests, et affiche vrai ou faux pour chaque somme a + b.\"\"\"\n",
    "    reponse = True\n",
    "    for a in A:\n",
    "        if not isprime(a):\n",
    "            print(\"  - a = {:<6} est pas premier, ECHEC ...\".format(a))\n",
    "            reponse = False\n",
    "        for b in B:\n",
    "            if not isprime(a + b):\n",
    "                print(\"  - a = {:<6} + b = {:<6} donnent {:<6} qui n'est pas premier, ECHEC ...\".format(a, b, a + b))\n",
    "                reponse = False\n",
    "            else:\n",
    "                print(\"  - a = {:<6} + b = {:<6} donnent {:<6} qui est bien premier, OK ...\".format(a, b, a + b))\n",
    "    return reponse"
   ]
  },
  {
   "cell_type": "markdown",
   "metadata": {},
   "source": [
    "Premier exemple :"
   ]
  },
  {
   "cell_type": "code",
   "execution_count": 3,
   "metadata": {
    "collapsed": false,
    "scrolled": true
   },
   "outputs": [
    {
     "name": "stdout",
     "output_type": "stream",
     "text": [
      "  - a = 3      + b = 2      donnent 5      qui est bien premier, OK ...\n"
     ]
    },
    {
     "data": {
      "text/plain": [
       "True"
      ]
     },
     "execution_count": 3,
     "metadata": {},
     "output_type": "execute_result"
    }
   ],
   "source": [
    "A = [3]\n",
    "B = [2]\n",
    "verifie_paire_debug(A, B)"
   ]
  },
  {
   "cell_type": "markdown",
   "metadata": {},
   "source": [
    "Second exemple :"
   ]
  },
  {
   "cell_type": "code",
   "execution_count": 5,
   "metadata": {
    "collapsed": false
   },
   "outputs": [
    {
     "name": "stdout",
     "output_type": "stream",
     "text": [
      "  - a = 3      + b = 2      donnent 5      qui est bien premier, OK ...\n",
      "  - a = 3      + b = 8      donnent 11     qui est bien premier, OK ...\n",
      "  - a = 5      + b = 2      donnent 7      qui est bien premier, OK ...\n",
      "  - a = 5      + b = 8      donnent 13     qui est bien premier, OK ...\n"
     ]
    },
    {
     "data": {
      "text/plain": [
       "True"
      ]
     },
     "execution_count": 5,
     "metadata": {},
     "output_type": "execute_result"
    }
   ],
   "source": [
    "A = (3, 5)\n",
    "B = (2, 8)\n",
    "verifie_paire_debug(A, B)"
   ]
  },
  {
   "cell_type": "code",
   "execution_count": 6,
   "metadata": {
    "collapsed": false
   },
   "outputs": [
    {
     "data": {
      "text/plain": [
       "True"
      ]
     },
     "execution_count": 6,
     "metadata": {},
     "output_type": "execute_result"
    }
   ],
   "source": [
    "verifie_paire(A, B)"
   ]
  },
  {
   "cell_type": "markdown",
   "metadata": {},
   "source": [
    "Avec $n = 6$ :"
   ]
  },
  {
   "cell_type": "code",
   "execution_count": 285,
   "metadata": {
    "collapsed": false
   },
   "outputs": [
    {
     "data": {
      "text/plain": [
       "True"
      ]
     },
     "execution_count": 285,
     "metadata": {},
     "output_type": "execute_result"
    }
   ],
   "source": [
    "A = [5, 7, 17, 31, 61, 101]\n",
    "B = [6, 12, 36, 66, 96, 132]\n",
    "verifie_paire(A, B)"
   ]
  },
  {
   "cell_type": "markdown",
   "metadata": {},
   "source": [
    "---\n",
    "On a besoin de cette fonction de combinaison :"
   ]
  },
  {
   "cell_type": "code",
   "execution_count": 32,
   "metadata": {
    "collapsed": true
   },
   "outputs": [],
   "source": [
    "from itertools import combinations"
   ]
  },
  {
   "cell_type": "markdown",
   "metadata": {},
   "source": [
    "Ensuite, on écrit une fonction qui va énumérer *tous* les ensembles $(A, B)$ possibles et valides, avec $\\max (A \\cup B ) \\leq M$ pour $M$ fixé.\n",
    "J'ajoute une borne inférieure $m$, valant par défaut $m = 1$, pour rester le plus générique possible, mais on ne s'en sert pas vraiment.\n",
    "\n",
    "- On récupère les candidats possibles pour $a \\in A$ via `primerange` (notés $C_A$), et pour $B$ via un `range` à pas $2$ pour considérer seulement des nombres pairs (notés $B_A$),\n",
    "- Ensuite on boucle sur tous les ensembles $A$ de taille $n$ dans $C_A$, et $B$ de taille $n$ dans $C_B$, via [`itertools.combinations`](https://docs.python.org/3/library/itertools.html#itertools.combinations),\n",
    "- On garde uniquement ceux qui sont valides, et on les stocke tous.\n",
    "\n",
    "> **Attention** ça devient vite très couteux !"
   ]
  },
  {
   "cell_type": "code",
   "execution_count": 92,
   "metadata": {
    "collapsed": true
   },
   "outputs": [],
   "source": [
    "def candidats_CA_CB(M=10, m=1):\n",
    "    # Premiers entre m et M (compris), ie. P inter [|m, ..., M|]\n",
    "    C_A = list(primerange(m, M + 1))\n",
    "    # Nombres pairs\n",
    "    if m % 2 == 0:\n",
    "        C_B = list(range(m, M - 1, 2))\n",
    "    else:\n",
    "        C_B = list(range(m + 1, M - 1, 2))\n",
    "    return C_A, C_B"
   ]
  },
  {
   "cell_type": "markdown",
   "metadata": {},
   "source": [
    "Cette première approche est très naïve, et énormément de calculs sont dédoublés (on teste les paires $(A, B)$ en faisant plein de tests pour savoir si $a + b$ est premier, c'est couteux)."
   ]
  },
  {
   "cell_type": "code",
   "execution_count": 349,
   "metadata": {
    "collapsed": false,
    "scrolled": true
   },
   "outputs": [],
   "source": [
    "def enumere_toutes_les_paires(n=2, M=10, m=1, debug=False):\n",
    "    C_A, C_B = candidats_CA_CB(M=M, m=m)\n",
    "    if debug:\n",
    "        print(\"C_A =\", C_A)\n",
    "        print(\"C_B =\", C_B)\n",
    "        print(\"Combinaison de n =\", n, \"éléments dans A =\", list(combinations(C_A, n)))\n",
    "        print(\"Combinaison de n =\", n, \"éléments dans B =\", list(combinations(C_B, n)))\n",
    "    # C_A, C_B est déjà trié, c'est cool\n",
    "    all_A_B = []\n",
    "    for A in combinations(C_A, n):\n",
    "        if debug: print(\" - A =\", A)\n",
    "        for B in combinations(C_B, n):\n",
    "            if debug: print(\"     - B =\", B)\n",
    "            if verifie_paire(A, B):\n",
    "                if debug: print(\"==> Une paire (A, B) de plus !\")\n",
    "                all_A_B.append((A, B))\n",
    "    # all_A_B est aussi trié par ordre lexicographique\n",
    "    return all_A_B"
   ]
  },
  {
   "cell_type": "markdown",
   "metadata": {},
   "source": [
    "On peut vérifier que les exemples donnés ci-dessus sont valides, et sont en fait les plus petits :"
   ]
  },
  {
   "cell_type": "code",
   "execution_count": 350,
   "metadata": {
    "collapsed": false
   },
   "outputs": [
    {
     "name": "stdout",
     "output_type": "stream",
     "text": [
      "C_A = [2, 3, 5, 7]\n",
      "C_B = [2, 4, 6, 8]\n",
      "Combinaison de n = 1 éléments dans A = [(2,), (3,), (5,), (7,)]\n",
      "Combinaison de n = 1 éléments dans B = [(2,), (4,), (6,), (8,)]\n",
      " - A = (2,)\n",
      "     - B = (2,)\n",
      "     - B = (4,)\n",
      "     - B = (6,)\n",
      "     - B = (8,)\n",
      " - A = (3,)\n",
      "     - B = (2,)\n",
      "==> Une paire (A, B) de plus !\n",
      "     - B = (4,)\n",
      "==> Une paire (A, B) de plus !\n",
      "     - B = (6,)\n",
      "     - B = (8,)\n",
      "==> Une paire (A, B) de plus !\n",
      " - A = (5,)\n",
      "     - B = (2,)\n",
      "==> Une paire (A, B) de plus !\n",
      "     - B = (4,)\n",
      "     - B = (6,)\n",
      "==> Une paire (A, B) de plus !\n",
      "     - B = (8,)\n",
      "==> Une paire (A, B) de plus !\n",
      " - A = (7,)\n",
      "     - B = (2,)\n",
      "     - B = (4,)\n",
      "==> Une paire (A, B) de plus !\n",
      "     - B = (6,)\n",
      "==> Une paire (A, B) de plus !\n",
      "     - B = (8,)\n"
     ]
    },
    {
     "data": {
      "text/plain": [
       "[((3,), (2,)),\n",
       " ((3,), (4,)),\n",
       " ((3,), (8,)),\n",
       " ((5,), (2,)),\n",
       " ((5,), (6,)),\n",
       " ((5,), (8,)),\n",
       " ((7,), (4,)),\n",
       " ((7,), (6,))]"
      ]
     },
     "execution_count": 350,
     "metadata": {},
     "output_type": "execute_result"
    }
   ],
   "source": [
    "n = 1\n",
    "M = 10\n",
    "enumere_toutes_les_paires(n, M, debug=True)"
   ]
  },
  {
   "cell_type": "code",
   "execution_count": 351,
   "metadata": {
    "collapsed": false
   },
   "outputs": [
    {
     "name": "stdout",
     "output_type": "stream",
     "text": [
      "C_A = [2, 3, 5, 7]\n",
      "C_B = [2, 4, 6, 8]\n",
      "Combinaison de n = 2 éléments dans A = [(2, 3), (2, 5), (2, 7), (3, 5), (3, 7), (5, 7)]\n",
      "Combinaison de n = 2 éléments dans B = [(2, 4), (2, 6), (2, 8), (4, 6), (4, 8), (6, 8)]\n",
      " - A = (2, 3)\n",
      "     - B = (2, 4)\n",
      "     - B = (2, 6)\n",
      "     - B = (2, 8)\n",
      "     - B = (4, 6)\n",
      "     - B = (4, 8)\n",
      "     - B = (6, 8)\n",
      " - A = (2, 5)\n",
      "     - B = (2, 4)\n",
      "     - B = (2, 6)\n",
      "     - B = (2, 8)\n",
      "     - B = (4, 6)\n",
      "     - B = (4, 8)\n",
      "     - B = (6, 8)\n",
      " - A = (2, 7)\n",
      "     - B = (2, 4)\n",
      "     - B = (2, 6)\n",
      "     - B = (2, 8)\n",
      "     - B = (4, 6)\n",
      "     - B = (4, 8)\n",
      "     - B = (6, 8)\n",
      " - A = (3, 5)\n",
      "     - B = (2, 4)\n",
      "     - B = (2, 6)\n",
      "     - B = (2, 8)\n",
      "==> Une paire (A, B) de plus !\n",
      "     - B = (4, 6)\n",
      "     - B = (4, 8)\n",
      "     - B = (6, 8)\n",
      " - A = (3, 7)\n",
      "     - B = (2, 4)\n",
      "     - B = (2, 6)\n",
      "     - B = (2, 8)\n",
      "     - B = (4, 6)\n",
      "     - B = (4, 8)\n",
      "     - B = (6, 8)\n",
      " - A = (5, 7)\n",
      "     - B = (2, 4)\n",
      "     - B = (2, 6)\n",
      "     - B = (2, 8)\n",
      "     - B = (4, 6)\n",
      "     - B = (4, 8)\n",
      "     - B = (6, 8)\n"
     ]
    },
    {
     "data": {
      "text/plain": [
       "[((3, 5), (2, 8))]"
      ]
     },
     "execution_count": 351,
     "metadata": {},
     "output_type": "execute_result"
    }
   ],
   "source": [
    "n = 2\n",
    "M = 10\n",
    "enumere_toutes_les_paires(n, M, debug=True)"
   ]
  },
  {
   "cell_type": "markdown",
   "metadata": {},
   "source": [
    "On peut continuer, avec $n = 3$ et un petit majorant $M$ :"
   ]
  },
  {
   "cell_type": "code",
   "execution_count": 352,
   "metadata": {
    "collapsed": false
   },
   "outputs": [
    {
     "data": {
      "text/plain": [
       "[((3, 7, 13), (4, 10, 16)), ((5, 11, 17), (2, 6, 12))]"
      ]
     },
     "execution_count": 352,
     "metadata": {},
     "output_type": "execute_result"
    }
   ],
   "source": [
    "n = 3\n",
    "M = 20\n",
    "enumere_toutes_les_paires(n, M, debug=False)"
   ]
  },
  {
   "cell_type": "markdown",
   "metadata": {},
   "source": [
    "On peut continuer, avec $n = 4$ et un petit majorant $M$ :"
   ]
  },
  {
   "cell_type": "code",
   "execution_count": 353,
   "metadata": {
    "collapsed": false
   },
   "outputs": [
    {
     "data": {
      "text/plain": [
       "[((3, 7, 13, 37), (4, 10, 16, 34)),\n",
       " ((7, 11, 17, 31), (6, 12, 30, 36)),\n",
       " ((7, 13, 19, 37), (4, 10, 24, 34)),\n",
       " ((7, 13, 31, 37), (6, 10, 16, 30)),\n",
       " ((7, 17, 23, 37), (6, 24, 30, 36))]"
      ]
     },
     "execution_count": 353,
     "metadata": {},
     "output_type": "execute_result"
    }
   ],
   "source": [
    "n = 4\n",
    "M = 40\n",
    "enumere_toutes_les_paires(n, M, debug=False)"
   ]
  },
  {
   "cell_type": "markdown",
   "metadata": {},
   "source": [
    "On voit que ça commence à prendre du temps.\n",
    "\n",
    "Deux améliorations seront explorées :\n",
    "- On a pas besoin de toutes les calculer, en fait. Si on cherche juste une paire valide, on peut s'arrêter à la première trouvée.\n",
    "- On peut être malin dans la création des candidats $C_B$, plutôt que de juste prendre de nombres pairs, on prend directement des nombres $b$ tels que $a + b$ soit premier."
   ]
  },
  {
   "cell_type": "markdown",
   "metadata": {},
   "source": [
    "---\n",
    "## Première optimisation\n",
    "- On n'a pas besoin d'énunumérer toutes les paires, il suffit de donner la premier trouvée.\n",
    "- Pourquoi la première ? Et bien si $C_A$ et $C_B$ sont triés, les candidats pour $(A, B)$ seront aussi triés par ordre lexicographique, et donc le premier trouvé sera le plus petit."
   ]
  },
  {
   "cell_type": "code",
   "execution_count": 95,
   "metadata": {
    "collapsed": true
   },
   "outputs": [],
   "source": [
    "def premiere_paire(n=2, M=10, m=1):\n",
    "    C_A, C_B = candidats_CA_CB(M=M, m=m)\n",
    "    # C_A, C_B est déjà trié, c'est cool\n",
    "    for A in combinations(C_A, n):\n",
    "        for B in combinations(C_B, n):\n",
    "            if verifie_paire(A, B):\n",
    "                return (A, B)\n",
    "    return (None, None)"
   ]
  },
  {
   "cell_type": "code",
   "execution_count": 96,
   "metadata": {
    "collapsed": false,
    "scrolled": false
   },
   "outputs": [
    {
     "name": "stdout",
     "output_type": "stream",
     "text": [
      "A = (3, 7, 13, 37)\n",
      "B = (4, 10, 16, 34)\n"
     ]
    }
   ],
   "source": [
    "n = 4\n",
    "M = 40\n",
    "A, B = premiere_paire(n, M)\n",
    "print(\"A =\", A)\n",
    "print(\"B =\", B)"
   ]
  },
  {
   "cell_type": "markdown",
   "metadata": {},
   "source": [
    "Avec $n = 5$, on commence à avoir besoin d'aller plus loin que ce majorant `M = 40` :"
   ]
  },
  {
   "cell_type": "code",
   "execution_count": 97,
   "metadata": {
    "collapsed": false
   },
   "outputs": [
    {
     "name": "stdout",
     "output_type": "stream",
     "text": [
      "A = None\n",
      "B = None\n"
     ]
    }
   ],
   "source": [
    "n = 5\n",
    "M = 40\n",
    "A, B = premiere_paire(n, M)  # (None, None) indique qu'on a pas trouvé\n",
    "print(\"A =\", A)\n",
    "print(\"B =\", B)"
   ]
  },
  {
   "cell_type": "markdown",
   "metadata": {},
   "source": [
    "Mais parfois on ne sait pas trop quelle valeur donner à ce majorant `M`...\n",
    "\n",
    "Une approche simple est donc d'augmenter sa valeur jusqu'à trouver une paire valide."
   ]
  },
  {
   "cell_type": "code",
   "execution_count": 48,
   "metadata": {
    "collapsed": false
   },
   "outputs": [],
   "source": [
    "def premiere_paire_explore_M(n=2, Ms=[10,20,30,40,50], m=1):\n",
    "    for M in Ms:\n",
    "        resultat = premiere_paire(n=n, M=M, m=m)\n",
    "        if resultat[0] is not None:\n",
    "            return resultat\n",
    "    return (None, None)"
   ]
  },
  {
   "cell_type": "markdown",
   "metadata": {},
   "source": [
    "On peut faire encore mieux, en augmentant `M` automatiquement d'un certain offset $\\delta_M > 0$ :"
   ]
  },
  {
   "cell_type": "code",
   "execution_count": 60,
   "metadata": {
    "collapsed": true
   },
   "outputs": [],
   "source": [
    "def premiere_paire_augmente_M(n=2, Mmin=10, deltaM=10, m=1):\n",
    "    assert isinstance(deltaM, int)\n",
    "    assert deltaM >= 1\n",
    "    M = Mmin\n",
    "    while True:\n",
    "        print(\"Appel à premiere_paire(n={}, M={}, m={}) ...\".format(n, M, m))\n",
    "        # Ce n'est pas dangereux, puisqu'on est garanti de trouver une paire qui marche \n",
    "        resultat = premiere_paire(n=n, M=M, m=m)\n",
    "        if resultat[0] is not None:\n",
    "            print(\"Terminé, avec M =\", M)\n",
    "            return resultat\n",
    "        M += deltaM"
   ]
  },
  {
   "cell_type": "markdown",
   "metadata": {},
   "source": [
    "On peut retrouver le résultat trouvé plus haut, pour $n = 2$ :"
   ]
  },
  {
   "cell_type": "code",
   "execution_count": 61,
   "metadata": {
    "collapsed": false
   },
   "outputs": [
    {
     "name": "stdout",
     "output_type": "stream",
     "text": [
      "A = (3, 5)\n",
      "B = (2, 8)\n"
     ]
    }
   ],
   "source": [
    "n = 2\n",
    "Ms = [10,20,30,40,50]\n",
    "A, B = premiere_paire_explore_M(n, Ms)\n",
    "print(\"A =\", A)\n",
    "print(\"B =\", B)"
   ]
  },
  {
   "cell_type": "code",
   "execution_count": 66,
   "metadata": {
    "collapsed": false,
    "scrolled": false
   },
   "outputs": [
    {
     "name": "stdout",
     "output_type": "stream",
     "text": [
      "Appel à premiere_paire(n=4, M=40, m=1) ...\n",
      "Terminé, avec M = 40\n",
      "A = (3, 7, 13, 37)\n",
      "B = (4, 10, 16, 34)\n"
     ]
    }
   ],
   "source": [
    "n = 4\n",
    "M = 40\n",
    "deltaM = 10\n",
    "A, B = premiere_paire_augmente_M(n, M, deltaM)\n",
    "print(\"A =\", A)\n",
    "print(\"B =\", B)"
   ]
  },
  {
   "cell_type": "markdown",
   "metadata": {},
   "source": [
    "Et on peut résoudre pour $n = 5$ et $n = 6$. Mais cette approche prend beaucoup trop de temps."
   ]
  },
  {
   "cell_type": "code",
   "execution_count": 67,
   "metadata": {
    "collapsed": false,
    "scrolled": true
   },
   "outputs": [
    {
     "name": "stdout",
     "output_type": "stream",
     "text": [
      "Appel à premiere_paire(n=5, M=50, m=1) ...\n",
      "Appel à premiere_paire(n=5, M=100, m=1) ...\n"
     ]
    },
    {
     "ename": "KeyboardInterrupt",
     "evalue": "",
     "output_type": "error",
     "traceback": [
      "\u001b[0;31m---------------------------------------------------------------------------\u001b[0m",
      "\u001b[0;31mKeyboardInterrupt\u001b[0m                         Traceback (most recent call last)",
      "\u001b[0;32m<ipython-input-67-a29ced0402fd>\u001b[0m in \u001b[0;36m<module>\u001b[0;34m()\u001b[0m\n\u001b[1;32m      2\u001b[0m \u001b[0mM\u001b[0m \u001b[0;34m=\u001b[0m \u001b[0;36m50\u001b[0m\u001b[0;34m\u001b[0m\u001b[0m\n\u001b[1;32m      3\u001b[0m \u001b[0mdeltaM\u001b[0m \u001b[0;34m=\u001b[0m \u001b[0;36m50\u001b[0m\u001b[0;34m\u001b[0m\u001b[0m\n\u001b[0;32m----> 4\u001b[0;31m \u001b[0mA\u001b[0m\u001b[0;34m,\u001b[0m \u001b[0mB\u001b[0m \u001b[0;34m=\u001b[0m \u001b[0mpremiere_paire_augmente_M\u001b[0m\u001b[0;34m(\u001b[0m\u001b[0mn\u001b[0m\u001b[0;34m,\u001b[0m \u001b[0mM\u001b[0m\u001b[0;34m,\u001b[0m \u001b[0mdeltaM\u001b[0m\u001b[0;34m)\u001b[0m\u001b[0;34m\u001b[0m\u001b[0m\n\u001b[0m\u001b[1;32m      5\u001b[0m \u001b[0mprint\u001b[0m\u001b[0;34m(\u001b[0m\u001b[0;34m\"A =\"\u001b[0m\u001b[0;34m,\u001b[0m \u001b[0mA\u001b[0m\u001b[0;34m)\u001b[0m\u001b[0;34m\u001b[0m\u001b[0m\n\u001b[1;32m      6\u001b[0m \u001b[0mprint\u001b[0m\u001b[0;34m(\u001b[0m\u001b[0;34m\"B =\"\u001b[0m\u001b[0;34m,\u001b[0m \u001b[0mB\u001b[0m\u001b[0;34m)\u001b[0m\u001b[0;34m\u001b[0m\u001b[0m\n",
      "\u001b[0;32m<ipython-input-60-6e33e2e0849c>\u001b[0m in \u001b[0;36mpremiere_paire_augmente_M\u001b[0;34m(n, Mmin, deltaM, m)\u001b[0m\n\u001b[1;32m      6\u001b[0m         \u001b[0mprint\u001b[0m\u001b[0;34m(\u001b[0m\u001b[0;34m\"Appel à premiere_paire(n={}, M={}, m={}) ...\"\u001b[0m\u001b[0;34m.\u001b[0m\u001b[0mformat\u001b[0m\u001b[0;34m(\u001b[0m\u001b[0mn\u001b[0m\u001b[0;34m,\u001b[0m \u001b[0mM\u001b[0m\u001b[0;34m,\u001b[0m \u001b[0mm\u001b[0m\u001b[0;34m)\u001b[0m\u001b[0;34m)\u001b[0m\u001b[0;34m\u001b[0m\u001b[0m\n\u001b[1;32m      7\u001b[0m         \u001b[0;31m# Ce n'est pas dangereux, puisqu'on est garanti de trouver une paire qui marche\u001b[0m\u001b[0;34m\u001b[0m\u001b[0;34m\u001b[0m\u001b[0m\n\u001b[0;32m----> 8\u001b[0;31m         \u001b[0mresultat\u001b[0m \u001b[0;34m=\u001b[0m \u001b[0mpremiere_paire\u001b[0m\u001b[0;34m(\u001b[0m\u001b[0mn\u001b[0m\u001b[0;34m=\u001b[0m\u001b[0mn\u001b[0m\u001b[0;34m,\u001b[0m \u001b[0mM\u001b[0m\u001b[0;34m=\u001b[0m\u001b[0mM\u001b[0m\u001b[0;34m,\u001b[0m \u001b[0mm\u001b[0m\u001b[0;34m=\u001b[0m\u001b[0mm\u001b[0m\u001b[0;34m)\u001b[0m\u001b[0;34m\u001b[0m\u001b[0m\n\u001b[0m\u001b[1;32m      9\u001b[0m         \u001b[0;32mif\u001b[0m \u001b[0mresultat\u001b[0m\u001b[0;34m[\u001b[0m\u001b[0;36m0\u001b[0m\u001b[0;34m]\u001b[0m \u001b[0;32mis\u001b[0m \u001b[0;32mnot\u001b[0m \u001b[0;32mNone\u001b[0m\u001b[0;34m:\u001b[0m\u001b[0;34m\u001b[0m\u001b[0m\n\u001b[1;32m     10\u001b[0m             \u001b[0mprint\u001b[0m\u001b[0;34m(\u001b[0m\u001b[0;34m\"Terminé, avec M =\"\u001b[0m\u001b[0;34m,\u001b[0m \u001b[0mM\u001b[0m\u001b[0;34m)\u001b[0m\u001b[0;34m\u001b[0m\u001b[0m\n",
      "\u001b[0;32m<ipython-input-43-8342cc087ff7>\u001b[0m in \u001b[0;36mpremiere_paire\u001b[0;34m(n, M, m)\u001b[0m\n\u001b[1;32m     10\u001b[0m     \u001b[0;32mfor\u001b[0m \u001b[0mA\u001b[0m \u001b[0;32min\u001b[0m \u001b[0mcombinations\u001b[0m\u001b[0;34m(\u001b[0m\u001b[0mC_A\u001b[0m\u001b[0;34m,\u001b[0m \u001b[0mn\u001b[0m\u001b[0;34m)\u001b[0m\u001b[0;34m:\u001b[0m\u001b[0;34m\u001b[0m\u001b[0m\n\u001b[1;32m     11\u001b[0m         \u001b[0;32mfor\u001b[0m \u001b[0mB\u001b[0m \u001b[0;32min\u001b[0m \u001b[0mcombinations\u001b[0m\u001b[0;34m(\u001b[0m\u001b[0mC_B\u001b[0m\u001b[0;34m,\u001b[0m \u001b[0mn\u001b[0m\u001b[0;34m)\u001b[0m\u001b[0;34m:\u001b[0m\u001b[0;34m\u001b[0m\u001b[0m\n\u001b[0;32m---> 12\u001b[0;31m             \u001b[0;32mif\u001b[0m \u001b[0mverifie_paire\u001b[0m\u001b[0;34m(\u001b[0m\u001b[0mA\u001b[0m\u001b[0;34m,\u001b[0m \u001b[0mB\u001b[0m\u001b[0;34m)\u001b[0m\u001b[0;34m:\u001b[0m\u001b[0;34m\u001b[0m\u001b[0m\n\u001b[0m\u001b[1;32m     13\u001b[0m                 \u001b[0;32mreturn\u001b[0m \u001b[0;34m(\u001b[0m\u001b[0mA\u001b[0m\u001b[0;34m,\u001b[0m \u001b[0mB\u001b[0m\u001b[0;34m)\u001b[0m\u001b[0;34m\u001b[0m\u001b[0m\n\u001b[1;32m     14\u001b[0m     \u001b[0;32mreturn\u001b[0m \u001b[0;34m(\u001b[0m\u001b[0;32mNone\u001b[0m\u001b[0;34m,\u001b[0m \u001b[0;32mNone\u001b[0m\u001b[0;34m)\u001b[0m\u001b[0;34m\u001b[0m\u001b[0m\n",
      "\u001b[0;32m<ipython-input-53-3c107bcc7c37>\u001b[0m in \u001b[0;36mverifie_paire\u001b[0;34m(A, B)\u001b[0m\n\u001b[1;32m      5\u001b[0m         \u001b[0;31m#    return False\u001b[0m\u001b[0;34m\u001b[0m\u001b[0;34m\u001b[0m\u001b[0m\n\u001b[1;32m      6\u001b[0m         \u001b[0;32mfor\u001b[0m \u001b[0mb\u001b[0m \u001b[0;32min\u001b[0m \u001b[0mB\u001b[0m\u001b[0;34m:\u001b[0m\u001b[0;34m\u001b[0m\u001b[0m\n\u001b[0;32m----> 7\u001b[0;31m             \u001b[0;32mif\u001b[0m \u001b[0;32mnot\u001b[0m \u001b[0misprime\u001b[0m\u001b[0;34m(\u001b[0m\u001b[0ma\u001b[0m \u001b[0;34m+\u001b[0m \u001b[0mb\u001b[0m\u001b[0;34m)\u001b[0m\u001b[0;34m:\u001b[0m\u001b[0;34m\u001b[0m\u001b[0m\n\u001b[0m\u001b[1;32m      8\u001b[0m                 \u001b[0;32mreturn\u001b[0m \u001b[0;32mFalse\u001b[0m\u001b[0;34m\u001b[0m\u001b[0m\n\u001b[1;32m      9\u001b[0m     \u001b[0;32mreturn\u001b[0m \u001b[0;32mTrue\u001b[0m\u001b[0;34m\u001b[0m\u001b[0m\n",
      "\u001b[0;32m/usr/local/lib/python3.5/dist-packages/sympy/ntheory/primetest.py\u001b[0m in \u001b[0;36misprime\u001b[0;34m(n)\u001b[0m\n\u001b[1;32m    208\u001b[0m     \u001b[0;32mif\u001b[0m \u001b[0misinstance\u001b[0m\u001b[0;34m(\u001b[0m\u001b[0mn\u001b[0m\u001b[0;34m,\u001b[0m \u001b[0;34m(\u001b[0m\u001b[0mFloat\u001b[0m\u001b[0;34m,\u001b[0m \u001b[0mfloat\u001b[0m\u001b[0;34m)\u001b[0m\u001b[0;34m)\u001b[0m\u001b[0;34m:\u001b[0m\u001b[0;34m\u001b[0m\u001b[0m\n\u001b[1;32m    209\u001b[0m         \u001b[0;32mreturn\u001b[0m \u001b[0;32mFalse\u001b[0m\u001b[0;34m\u001b[0m\u001b[0m\n\u001b[0;32m--> 210\u001b[0;31m     \u001b[0mn\u001b[0m \u001b[0;34m=\u001b[0m \u001b[0mint\u001b[0m\u001b[0;34m(\u001b[0m\u001b[0mn\u001b[0m\u001b[0;34m)\u001b[0m\u001b[0;34m\u001b[0m\u001b[0m\n\u001b[0m\u001b[1;32m    211\u001b[0m     \u001b[0;32mif\u001b[0m \u001b[0mn\u001b[0m \u001b[0;34m<\u001b[0m \u001b[0;36m2\u001b[0m\u001b[0;34m:\u001b[0m\u001b[0;34m\u001b[0m\u001b[0m\n\u001b[1;32m    212\u001b[0m         \u001b[0;32mreturn\u001b[0m \u001b[0;32mFalse\u001b[0m\u001b[0;34m\u001b[0m\u001b[0m\n",
      "\u001b[0;31mKeyboardInterrupt\u001b[0m: "
     ]
    }
   ],
   "source": [
    "n = 5\n",
    "M = 100\n",
    "deltaM = 50\n",
    "A, B = premiere_paire_augmente_M(n, M, deltaM)\n",
    "print(\"A =\", A)\n",
    "print(\"B =\", B)"
   ]
  },
  {
   "cell_type": "markdown",
   "metadata": {},
   "source": [
    "> *Note :* Plutôt que d'écrire une fonction (qui `return` le premier résultat), on peut aussi écrire un **générateur**, qui `yield` les résultats un à un.\n",
    "> Il sera alors possible d'écrire des boucles directement comme ça :\n",
    "\n",
    "```python\n",
    "for (A, B) in generateur_paires(n=2, M=10, m=1):\n",
    "    ...\n",
    "```"
   ]
  },
  {
   "cell_type": "code",
   "execution_count": 354,
   "metadata": {
    "collapsed": true
   },
   "outputs": [],
   "source": [
    "def generateur_paires(n=2, M=10, m=1):\n",
    "    C_A, C_B = candidats_CA_CB(M=M, m=m)\n",
    "    # C_A, C_B est déjà trié, c'est cool\n",
    "    for A in combinations(C_A, n):\n",
    "        for B in combinations(C_B, n):\n",
    "            if verifie_paire(A, B):\n",
    "                yield (A, B)"
   ]
  },
  {
   "cell_type": "markdown",
   "metadata": {},
   "source": [
    "---\n",
    "## Exemples"
   ]
  },
  {
   "cell_type": "markdown",
   "metadata": {},
   "source": [
    "---\n",
    "### Exemple avec des dés à 6 faces"
   ]
  },
  {
   "cell_type": "code",
   "execution_count": 286,
   "metadata": {
    "collapsed": false
   },
   "outputs": [
    {
     "ename": "KeyboardInterrupt",
     "evalue": "",
     "output_type": "error",
     "traceback": [
      "\u001b[0;31m---------------------------------------------------------------------------\u001b[0m",
      "\u001b[0;31mKeyboardInterrupt\u001b[0m                         Traceback (most recent call last)",
      "\u001b[0;32m<ipython-input-286-a8a550ce4ebc>\u001b[0m in \u001b[0;36m<module>\u001b[0;34m()\u001b[0m\n\u001b[1;32m      1\u001b[0m \u001b[0mn\u001b[0m \u001b[0;34m=\u001b[0m \u001b[0;36m6\u001b[0m\u001b[0;34m\u001b[0m\u001b[0m\n\u001b[1;32m      2\u001b[0m \u001b[0mM\u001b[0m \u001b[0;34m=\u001b[0m \u001b[0;36m140\u001b[0m\u001b[0;34m\u001b[0m\u001b[0m\n\u001b[0;32m----> 3\u001b[0;31m \u001b[0mA\u001b[0m\u001b[0;34m,\u001b[0m \u001b[0mB\u001b[0m \u001b[0;34m=\u001b[0m \u001b[0mpremiere_paire\u001b[0m\u001b[0;34m(\u001b[0m\u001b[0mn\u001b[0m\u001b[0;34m,\u001b[0m \u001b[0mM\u001b[0m\u001b[0;34m)\u001b[0m\u001b[0;34m\u001b[0m\u001b[0m\n\u001b[0m\u001b[1;32m      4\u001b[0m \u001b[0mprint\u001b[0m\u001b[0;34m(\u001b[0m\u001b[0;34m\"A =\"\u001b[0m\u001b[0;34m,\u001b[0m \u001b[0mA\u001b[0m\u001b[0;34m)\u001b[0m\u001b[0;34m\u001b[0m\u001b[0m\n\u001b[1;32m      5\u001b[0m \u001b[0mprint\u001b[0m\u001b[0;34m(\u001b[0m\u001b[0;34m\"B =\"\u001b[0m\u001b[0;34m,\u001b[0m \u001b[0mB\u001b[0m\u001b[0;34m)\u001b[0m\u001b[0;34m\u001b[0m\u001b[0m\n",
      "\u001b[0;32m<ipython-input-95-904d66120faa>\u001b[0m in \u001b[0;36mpremiere_paire\u001b[0;34m(n, M, m)\u001b[0m\n\u001b[1;32m      4\u001b[0m     \u001b[0;32mfor\u001b[0m \u001b[0mA\u001b[0m \u001b[0;32min\u001b[0m \u001b[0mcombinations\u001b[0m\u001b[0;34m(\u001b[0m\u001b[0mC_A\u001b[0m\u001b[0;34m,\u001b[0m \u001b[0mn\u001b[0m\u001b[0;34m)\u001b[0m\u001b[0;34m:\u001b[0m\u001b[0;34m\u001b[0m\u001b[0m\n\u001b[1;32m      5\u001b[0m         \u001b[0;32mfor\u001b[0m \u001b[0mB\u001b[0m \u001b[0;32min\u001b[0m \u001b[0mcombinations\u001b[0m\u001b[0;34m(\u001b[0m\u001b[0mC_B\u001b[0m\u001b[0;34m,\u001b[0m \u001b[0mn\u001b[0m\u001b[0;34m)\u001b[0m\u001b[0;34m:\u001b[0m\u001b[0;34m\u001b[0m\u001b[0m\n\u001b[0;32m----> 6\u001b[0;31m             \u001b[0;32mif\u001b[0m \u001b[0mverifie_paire\u001b[0m\u001b[0;34m(\u001b[0m\u001b[0mA\u001b[0m\u001b[0;34m,\u001b[0m \u001b[0mB\u001b[0m\u001b[0;34m)\u001b[0m\u001b[0;34m:\u001b[0m\u001b[0;34m\u001b[0m\u001b[0m\n\u001b[0m\u001b[1;32m      7\u001b[0m                 \u001b[0;32mreturn\u001b[0m \u001b[0;34m(\u001b[0m\u001b[0mA\u001b[0m\u001b[0;34m,\u001b[0m \u001b[0mB\u001b[0m\u001b[0;34m)\u001b[0m\u001b[0;34m\u001b[0m\u001b[0m\n\u001b[1;32m      8\u001b[0m     \u001b[0;32mreturn\u001b[0m \u001b[0;34m(\u001b[0m\u001b[0;32mNone\u001b[0m\u001b[0;34m,\u001b[0m \u001b[0;32mNone\u001b[0m\u001b[0;34m)\u001b[0m\u001b[0;34m\u001b[0m\u001b[0m\n",
      "\u001b[0;32m<ipython-input-53-3c107bcc7c37>\u001b[0m in \u001b[0;36mverifie_paire\u001b[0;34m(A, B)\u001b[0m\n\u001b[1;32m      5\u001b[0m         \u001b[0;31m#    return False\u001b[0m\u001b[0;34m\u001b[0m\u001b[0;34m\u001b[0m\u001b[0m\n\u001b[1;32m      6\u001b[0m         \u001b[0;32mfor\u001b[0m \u001b[0mb\u001b[0m \u001b[0;32min\u001b[0m \u001b[0mB\u001b[0m\u001b[0;34m:\u001b[0m\u001b[0;34m\u001b[0m\u001b[0m\n\u001b[0;32m----> 7\u001b[0;31m             \u001b[0;32mif\u001b[0m \u001b[0;32mnot\u001b[0m \u001b[0misprime\u001b[0m\u001b[0;34m(\u001b[0m\u001b[0ma\u001b[0m \u001b[0;34m+\u001b[0m \u001b[0mb\u001b[0m\u001b[0;34m)\u001b[0m\u001b[0;34m:\u001b[0m\u001b[0;34m\u001b[0m\u001b[0m\n\u001b[0m\u001b[1;32m      8\u001b[0m                 \u001b[0;32mreturn\u001b[0m \u001b[0;32mFalse\u001b[0m\u001b[0;34m\u001b[0m\u001b[0m\n\u001b[1;32m      9\u001b[0m     \u001b[0;32mreturn\u001b[0m \u001b[0;32mTrue\u001b[0m\u001b[0;34m\u001b[0m\u001b[0m\n",
      "\u001b[0;32m/usr/local/lib/python3.5/dist-packages/sympy/ntheory/primetest.py\u001b[0m in \u001b[0;36misprime\u001b[0;34m(n)\u001b[0m\n\u001b[1;32m    205\u001b[0m \u001b[0;34m\u001b[0m\u001b[0m\n\u001b[1;32m    206\u001b[0m     \"\"\"\n\u001b[0;32m--> 207\u001b[0;31m     \u001b[0;32mfrom\u001b[0m \u001b[0msympy\u001b[0m\u001b[0;34m.\u001b[0m\u001b[0mcore\u001b[0m\u001b[0;34m.\u001b[0m\u001b[0mnumbers\u001b[0m \u001b[0;32mimport\u001b[0m \u001b[0mFloat\u001b[0m\u001b[0;34m\u001b[0m\u001b[0m\n\u001b[0m\u001b[1;32m    208\u001b[0m     \u001b[0;32mif\u001b[0m \u001b[0misinstance\u001b[0m\u001b[0;34m(\u001b[0m\u001b[0mn\u001b[0m\u001b[0;34m,\u001b[0m \u001b[0;34m(\u001b[0m\u001b[0mFloat\u001b[0m\u001b[0;34m,\u001b[0m \u001b[0mfloat\u001b[0m\u001b[0;34m)\u001b[0m\u001b[0;34m)\u001b[0m\u001b[0;34m:\u001b[0m\u001b[0;34m\u001b[0m\u001b[0m\n\u001b[1;32m    209\u001b[0m         \u001b[0;32mreturn\u001b[0m \u001b[0;32mFalse\u001b[0m\u001b[0;34m\u001b[0m\u001b[0m\n",
      "\u001b[0;31mKeyboardInterrupt\u001b[0m: "
     ]
    }
   ],
   "source": [
    "n = 6\n",
    "M = 140\n",
    "A, B = premiere_paire(n, M)\n",
    "print(\"A =\", A)\n",
    "print(\"B =\", B)"
   ]
  },
  {
   "cell_type": "markdown",
   "metadata": {},
   "source": [
    "---\n",
    "## Autre approche, deuxième optimisation\n",
    "On a vu que l'approche *naïve* exposée ci-dessus n'est vraiment pas très efficace.\n",
    "\n",
    "On va être plus malin :\n",
    "- d'abord générer toutes paires $(a, b)$ possibles, avec $a$ et $a + b$ premiers, pour $a, b \\geq M$.\n",
    "- ensuite on pourra créer la plus grande paire $(A, B)$, probablement en regardant simplement des intersections d'ensembles."
   ]
  },
  {
   "cell_type": "markdown",
   "metadata": {},
   "source": [
    "### Préliminaire : petite optimisation pour `isprime`\n",
    "En une seule ligne, on peut ajouter un cache ([`functools.lru_cache`](https://docs.python.org/3/library/functools.html#functools.lru_cache)) pour la rendre plus rapide :"
   ]
  },
  {
   "cell_type": "code",
   "execution_count": 355,
   "metadata": {
    "collapsed": false
   },
   "outputs": [],
   "source": [
    "from functools import lru_cache\n",
    "\n",
    "@lru_cache(maxsize=1<<10, typed=False)\n",
    "def estpremier(n):\n",
    "    return isprime(n)\n",
    "\n",
    "@lru_cache(maxsize=1<<20, typed=False)\n",
    "def candidats_CA_CB_cache(M=10, m=1):\n",
    "    return candidats_CA_CB(M=M, m=m)"
   ]
  },
  {
   "cell_type": "code",
   "execution_count": 104,
   "metadata": {
    "collapsed": false
   },
   "outputs": [
    {
     "name": "stdout",
     "output_type": "stream",
     "text": [
      "1 loop, best of 3: 218 ms per loop\n"
     ]
    }
   ],
   "source": [
    "import numpy.random as nr\n",
    "%timeit [isprime(n) for n in nr.randint(1, 1<<10, 100000)]"
   ]
  },
  {
   "cell_type": "code",
   "execution_count": 105,
   "metadata": {
    "collapsed": false
   },
   "outputs": [
    {
     "name": "stdout",
     "output_type": "stream",
     "text": [
      "100 loops, best of 3: 17.7 ms per loop\n"
     ]
    }
   ],
   "source": [
    "%timeit [estpremier(n) for n in nr.randint(1, 1<<10, 100000)]"
   ]
  },
  {
   "cell_type": "markdown",
   "metadata": {},
   "source": [
    "### Générer les paires $(a, b)$ valides\n",
    "C'est assez rapide.\n",
    "- La première fonction renvoie le résultat sous forme de liste de paires $(a, b)$ avec $b$ tel que $a + b$ soit premier,\n",
    "- La seconde fonction renvoie plutôt un dictionnaire qui, à $a \\in C_A$, associe tous les $b \\in C_B$ tels que $a + b$."
   ]
  },
  {
   "cell_type": "code",
   "execution_count": 356,
   "metadata": {
    "collapsed": true
   },
   "outputs": [],
   "source": [
    "def genere_paires(M=10, m=1):\n",
    "    C_A, C_B = candidats_CA_CB_cache(M=M, m=m)\n",
    "    return [(a, b) for a in C_A for b in C_B if estpremier(a + b)]\n",
    "    \n",
    "def genere_dict(M=10, m=1):\n",
    "    C_A, C_B = candidats_CA_CB_cache(M=M, m=m)\n",
    "    return {a: [b for b in C_B if estpremier(a + b)] for a in C_A}"
   ]
  },
  {
   "cell_type": "code",
   "execution_count": 158,
   "metadata": {
    "collapsed": false
   },
   "outputs": [
    {
     "data": {
      "text/plain": [
       "[(3, 2), (3, 4), (3, 8), (5, 2), (5, 6), (5, 8), (7, 4), (7, 6)]"
      ]
     },
     "execution_count": 158,
     "metadata": {},
     "output_type": "execute_result"
    }
   ],
   "source": [
    "genere_paires(10)"
   ]
  },
  {
   "cell_type": "code",
   "execution_count": 159,
   "metadata": {
    "collapsed": false
   },
   "outputs": [
    {
     "data": {
      "text/plain": [
       "{2: [], 3: [2, 4, 8], 5: [2, 6, 8], 7: [4, 6]}"
      ]
     },
     "execution_count": 159,
     "metadata": {},
     "output_type": "execute_result"
    }
   ],
   "source": [
    "genere_dict(10)"
   ]
  },
  {
   "cell_type": "markdown",
   "metadata": {},
   "source": [
    "On voit que le nombres de paires $(a, b)$ telle que $a + b$ soit premier et $a, b \\leq M$ augmente assez vite avec $M$ :"
   ]
  },
  {
   "cell_type": "code",
   "execution_count": 160,
   "metadata": {
    "collapsed": false,
    "scrolled": true
   },
   "outputs": [
    {
     "data": {
      "text/plain": [
       "5107"
      ]
     },
     "execution_count": 160,
     "metadata": {},
     "output_type": "execute_result"
    }
   ],
   "source": [
    "len(genere_paires(400))"
   ]
  },
  {
   "cell_type": "code",
   "execution_count": 359,
   "metadata": {
    "collapsed": false
   },
   "outputs": [
    {
     "data": {
      "image/png": "[encoded data removed]",
      "text/plain": [
       "<matplotlib.figure.Figure at 0x7fbf0c0dd198>"
      ]
     },
     "metadata": {},
     "output_type": "display_data"
    }
   ],
   "source": [
    "import matplotlib.pyplot as plt\n",
    "X = list(range(10, 2000, 10))\n",
    "Y = [ len(genere_paires(M)) for M in X ]\n",
    "plt.plot(X, Y)\n",
    "plt.show()"
   ]
  },
  {
   "cell_type": "markdown",
   "metadata": {},
   "source": [
    "## Suite : générer une paire $(A, B)$\n",
    "- On génère les candidats $C_A, C_B$,\n",
    "- On associe à chaque $a \\in C_A$ les $b \\in C_B$ qui fonctionne, notés $d(a)$,\n",
    "- On garde ceux qui ont au moins $n$ valeurs associées,\n",
    "- On regarde tous les ensembles $A \\subset C_A$ de taille exactement $n$,\n",
    "- Pour un $A$ donné, on construit $B$ comme $\\bigcap_{a \\in A} d(a)$, et on garde les $B$ de taille $\\geq n$,\n",
    "- On regarde enfin tous les ensembles $B' \\subset B$ de taille exactement $n$.\n",
    "- Ici, on garde juste le premier trouvé, plus bas on les garde tous."
   ]
  },
  {
   "cell_type": "code",
   "execution_count": 360,
   "metadata": {
    "collapsed": false
   },
   "outputs": [],
   "source": [
    "@lru_cache(maxsize=1<<10, typed=False)\n",
    "def genere_A_B(n=2, M=10, m=1):\n",
    "    C_A, C_B = candidats_CA_CB_cache(M=M, m=m)\n",
    "    dictAB = {a: {b for b in C_B if estpremier(a + b)} for a in C_A}\n",
    "    for a in C_A:\n",
    "        if len(dictAB[a]) < n:\n",
    "            del dictAB[a]\n",
    "    # print(dictAB)\n",
    "    C_A = sorted(list(dictAB.keys()))\n",
    "    # C_A est déjà trié, c'est cool\n",
    "    for A in combinations(C_A, n):\n",
    "        # print(\"A =\", A)\n",
    "        B = set.intersection(*(dictAB[a] for a in A))\n",
    "        # print(\"B =\", B)\n",
    "        if len(B) >= n:\n",
    "            for BB in combinations(B, n):  # On prend la 1ère\n",
    "                return (list(A), list(BB))\n",
    "    return (None, None)"
   ]
  },
  {
   "cell_type": "code",
   "execution_count": 361,
   "metadata": {
    "collapsed": true
   },
   "outputs": [],
   "source": [
    "def test_genere_AB(n=2, M=10, m=1):\n",
    "    A, B = genere_A_B(n=n, M=M)\n",
    "    assert verifie_paire(A, B)\n",
    "    print(\"A =\", A)\n",
    "    print(\"B =\", B)\n",
    "    return (A, B)"
   ]
  },
  {
   "cell_type": "code",
   "execution_count": 362,
   "metadata": {
    "collapsed": false
   },
   "outputs": [
    {
     "name": "stdout",
     "output_type": "stream",
     "text": [
      "A = [3, 5]\n",
      "B = [8, 2]\n"
     ]
    },
    {
     "data": {
      "text/plain": [
       "([3, 5], [8, 2])"
      ]
     },
     "execution_count": 362,
     "metadata": {},
     "output_type": "execute_result"
    }
   ],
   "source": [
    "n = 2\n",
    "M = 10\n",
    "test_genere_AB(n=n, M=M)"
   ]
  },
  {
   "cell_type": "code",
   "execution_count": 363,
   "metadata": {
    "collapsed": false,
    "scrolled": true
   },
   "outputs": [
    {
     "name": "stdout",
     "output_type": "stream",
     "text": [
      "A = [3, 5, 11]\n",
      "B = [8, 2, 26]\n"
     ]
    },
    {
     "data": {
      "text/plain": [
       "([3, 5, 11], [8, 2, 26])"
      ]
     },
     "execution_count": 363,
     "metadata": {},
     "output_type": "execute_result"
    }
   ],
   "source": [
    "n = 3\n",
    "M = 40\n",
    "test_genere_AB(n=n, M=M)"
   ]
  },
  {
   "cell_type": "code",
   "execution_count": 364,
   "metadata": {
    "collapsed": false
   },
   "outputs": [
    {
     "name": "stdout",
     "output_type": "stream",
     "text": [
      "A = [3, 7, 13, 19]\n",
      "B = [40, 34, 10, 4]\n"
     ]
    },
    {
     "data": {
      "text/plain": [
       "([3, 7, 13, 19], [40, 34, 10, 4])"
      ]
     },
     "execution_count": 364,
     "metadata": {},
     "output_type": "execute_result"
    }
   ],
   "source": [
    "n = 4\n",
    "M = 50\n",
    "test_genere_AB(n=n, M=M)"
   ]
  },
  {
   "cell_type": "markdown",
   "metadata": {},
   "source": [
    "On peut comparer cette nouvelle fonction avec `premiere_paire` écrite plus haut :"
   ]
  },
  {
   "cell_type": "code",
   "execution_count": 171,
   "metadata": {
    "collapsed": false
   },
   "outputs": [
    {
     "name": "stdout",
     "output_type": "stream",
     "text": [
      "1 loop, best of 3: 11.9 s per loop\n"
     ]
    }
   ],
   "source": [
    "n = 4\n",
    "M = 50\n",
    "%timeit premiere_paire(n=n, M=M)"
   ]
  },
  {
   "cell_type": "code",
   "execution_count": 210,
   "metadata": {
    "collapsed": false
   },
   "outputs": [
    {
     "name": "stdout",
     "output_type": "stream",
     "text": [
      "The slowest run took 5.27 times longer than the fastest. This could mean that an intermediate result is being cached.\n",
      "1 loop, best of 3: 725 ns per loop\n"
     ]
    }
   ],
   "source": [
    "n = 4\n",
    "M = 50\n",
    "%timeit -n1 genere_A_B(n=n, M=M)"
   ]
  },
  {
   "cell_type": "code",
   "execution_count": 211,
   "metadata": {
    "collapsed": false
   },
   "outputs": [
    {
     "name": "stdout",
     "output_type": "stream",
     "text": [
      "A = [3, 7, 13, 19, 97]\n",
      "B = [40, 34, 10, 4, 94]\n"
     ]
    },
    {
     "data": {
      "text/plain": [
       "([3, 7, 13, 19, 97], [40, 34, 10, 4, 94])"
      ]
     },
     "execution_count": 211,
     "metadata": {},
     "output_type": "execute_result"
    }
   ],
   "source": [
    "n = 5\n",
    "M = 100\n",
    "test_genere_AB(n=n, M=M)"
   ]
  },
  {
   "cell_type": "code",
   "execution_count": 366,
   "metadata": {
    "collapsed": false,
    "scrolled": false
   },
   "outputs": [
    {
     "name": "stdout",
     "output_type": "stream",
     "text": [
      "A = [7, 13, 31, 37, 73, 97]\n",
      "B = [66, 6, 10, 76, 16, 30]\n"
     ]
    },
    {
     "data": {
      "text/plain": [
       "([7, 13, 31, 37, 73, 97], [66, 6, 10, 76, 16, 30])"
      ]
     },
     "execution_count": 366,
     "metadata": {},
     "output_type": "execute_result"
    }
   ],
   "source": [
    "n = 6\n",
    "M = 100\n",
    "test_genere_AB(n=n, M=M)"
   ]
  },
  {
   "cell_type": "code",
   "execution_count": 367,
   "metadata": {
    "collapsed": false
   },
   "outputs": [
    {
     "name": "stdout",
     "output_type": "stream",
     "text": [
      "A = [3, 7, 13, 31, 73, 97]\n",
      "B = [160, 100, 40, 10, 76, 16]\n"
     ]
    },
    {
     "data": {
      "text/plain": [
       "([3, 7, 13, 31, 73, 97], [160, 100, 40, 10, 76, 16])"
      ]
     },
     "execution_count": 367,
     "metadata": {},
     "output_type": "execute_result"
    }
   ],
   "source": [
    "n = 6\n",
    "M = 200\n",
    "test_genere_AB(n=n, M=M)"
   ]
  },
  {
   "cell_type": "markdown",
   "metadata": {},
   "source": [
    "Ça marche plutôt bien, on trouve effectivement la paire qui possède le plus petit $\\max A$ mais pas celle qui minimise $\\sum A \\cup B$ ou $\\max A \\cup B$..."
   ]
  },
  {
   "cell_type": "markdown",
   "metadata": {},
   "source": [
    "## Trouver la paire de somme minimale ou de max minimum.\n",
    "- On va calculer *toutes* les paires, avec notre fonction optimisée, dans `genere_toutes_A_B`,\n",
    "- Puis on les triera (en ordre croissant) selon le critère voulu,\n",
    "- Et on renvoie la première, qui minimisera donc le critère cherché.\n",
    "\n",
    "> *Note :* en étant malin, on pourrait carrément faire mieux qu'une énumération complète. Mais la flemme."
   ]
  },
  {
   "cell_type": "markdown",
   "metadata": {},
   "source": [
    "### D'abord, générer toutes les paires $(A, B)$\n",
    "C'est la même fonction que `genere_A_B`, mais on les renvoie toutes au lieu de s'arrêter à la première."
   ]
  },
  {
   "cell_type": "code",
   "execution_count": 381,
   "metadata": {
    "collapsed": false
   },
   "outputs": [],
   "source": [
    "def genere_toutes_A_B(n=2, M=10, m=1):\n",
    "    C_A, C_B = candidats_CA_CB_cache(M=M, m=m)\n",
    "    dictAB = {a: {b for b in C_B if estpremier(a + b)} for a in C_A}\n",
    "    for a in C_A:\n",
    "        if len(dictAB[a]) < n:\n",
    "            del dictAB[a]\n",
    "    # print(dictAB)\n",
    "    C_A = sorted(list(dictAB.keys()))\n",
    "    # C_A est déjà trié, c'est cool\n",
    "    paires = []\n",
    "    for A in combinations(C_A, n):\n",
    "        # print(\"A =\", A)\n",
    "        # TODO : improve this step to stop as soon as the intersection has length < n\n",
    "        B = set.intersection(*(dictAB[a] for a in A))\n",
    "        # print(\"B =\", B)\n",
    "        if len(B) >= n:\n",
    "            for BB in combinations(B, n):\n",
    "                print('.', end='')  # Affiche .... au fur et à mesure de l'exécution.\n",
    "                paires.append((list(A), list(BB)))\n",
    "    print('')\n",
    "    return paires"
   ]
  },
  {
   "cell_type": "markdown",
   "metadata": {},
   "source": [
    "On vérifie que ça fonctionne comme prévu :"
   ]
  },
  {
   "cell_type": "code",
   "execution_count": 369,
   "metadata": {
    "collapsed": false,
    "scrolled": true
   },
   "outputs": [
    {
     "name": "stdout",
     "output_type": "stream",
     "text": [
      ".....\n"
     ]
    },
    {
     "data": {
      "text/plain": [
       "[([3, 7, 13, 37], [16, 34, 10, 4]),\n",
       " ([7, 11, 17, 31], [36, 12, 6, 30]),\n",
       " ([7, 13, 19, 37], [24, 34, 10, 4]),\n",
       " ([7, 13, 31, 37], [16, 10, 6, 30]),\n",
       " ([7, 17, 23, 37], [24, 36, 6, 30])]"
      ]
     },
     "execution_count": 369,
     "metadata": {},
     "output_type": "execute_result"
    }
   ],
   "source": [
    "n = 4\n",
    "M = 40\n",
    "genere_toutes_A_B(n=n, M=M)"
   ]
  },
  {
   "cell_type": "markdown",
   "metadata": {},
   "source": [
    "Il suffit donc de trier selon le critère choisi.\n",
    "$$\n",
    "    \\mathrm{sumsum} : (A, B) \\mapsto \\sum_{a \\in A} a + \\sum_{b \\in B} b.\n",
    "$$\n",
    "$$\n",
    "    \\mathrm{maxmax} : (A, B) \\mapsto \\max A \\cup B.\n",
    "$$"
   ]
  },
  {
   "cell_type": "code",
   "execution_count": 370,
   "metadata": {
    "collapsed": true
   },
   "outputs": [],
   "source": [
    "def sumsum(paire):\n",
    "    return sum(paire[0]) + sum(paire[1])\n",
    "\n",
    "def maxmax(paire):\n",
    "    return max(max(paire[0]), max(paire[1]))"
   ]
  },
  {
   "cell_type": "markdown",
   "metadata": {},
   "source": [
    "On peut aussi prendre un critère qui combine les deux :"
   ]
  },
  {
   "cell_type": "code",
   "execution_count": 371,
   "metadata": {
    "collapsed": true
   },
   "outputs": [],
   "source": [
    "def combine(paire):\n",
    "    return (sumsum(paire) + maxmax(paire)) / 2"
   ]
  },
  {
   "cell_type": "markdown",
   "metadata": {},
   "source": [
    "Il suffit d'utiliser l'argument `key=` de la fonction [`sorted`](https://docs.python.org/3/library/functions.html#sorted) :"
   ]
  },
  {
   "cell_type": "code",
   "execution_count": 372,
   "metadata": {
    "collapsed": true
   },
   "outputs": [],
   "source": [
    "def trie_et_prend_min(paires, key=sumsum):\n",
    "    paires = sorted(paires, key=key)\n",
    "    A, B = paires[0]\n",
    "    assert verifie_paire(A, B)\n",
    "    return (sorted(A), sorted(B))"
   ]
  },
  {
   "cell_type": "markdown",
   "metadata": {},
   "source": [
    "Pour tester :"
   ]
  },
  {
   "cell_type": "code",
   "execution_count": 338,
   "metadata": {
    "collapsed": false
   },
   "outputs": [],
   "source": [
    "def test_trie_et_prend_min(n=2, M=10):\n",
    "    paires = genere_toutes_A_B(n=n, M=M)\n",
    "    print(\"Pour n =\", n, \"et M =\", M, \"il y a\", len(paires), \"paires (A, B) trouvées valides ...\")\n",
    "\n",
    "    print(\"- On recherche celle de somme sum(A u B) minimale ...\")\n",
    "    A, B = trie_et_prend_min(paires, key=sumsum)\n",
    "    print(\"A =\", A)\n",
    "    print(\"B =\", B)\n",
    "    print(\"  Elle donne sumsum =\", sumsum((A, B)), \"et maxmax =\", maxmax((A, B)))\n",
    "\n",
    "    print(\"- On recherche celle de maximum max(A u B) minimale ...\")\n",
    "    A, B = trie_et_prend_min(paires, key=maxmax)\n",
    "    print(\"A =\", A)\n",
    "    print(\"B =\", B)\n",
    "    print(\"  Elle donne sumsum =\", sumsum((A, B)), \"et maxmax =\", maxmax((A, B)))\n",
    "\n",
    "    print(\"- On recherche celle de moyenne sumsum(A,B), maxmax(A,B) minimale ...\")\n",
    "    A, B = trie_et_prend_min(paires, key=combine)\n",
    "    print(\"A =\", A)\n",
    "    print(\"B =\", B)\n",
    "    print(\"  Elle donne sumsum =\", sumsum((A, B)), \"et maxmax =\", maxmax((A, B)))\n",
    "    \n",
    "    # for key in [sumsum, maxmax, combine]:\n",
    "    #    alls = [ (key(paire), (sorted(paire[0]), sorted(paire[1]))) for paire in sorted(paires, key=key) ]\n",
    "    #    print(alls[:5])\n",
    "    return (A, B)"
   ]
  },
  {
   "cell_type": "markdown",
   "metadata": {},
   "source": [
    "On peut refaire les mêmes exemples pour $n = 3, 4, 5$, et enfin $n = 6$."
   ]
  },
  {
   "cell_type": "raw",
   "metadata": {},
   "source": [
    "n = 3\n",
    "M = 20\n",
    "test_trie_et_prend_min(n, M)"
   ]
  },
  {
   "cell_type": "code",
   "execution_count": 373,
   "metadata": {
    "collapsed": false,
    "scrolled": false
   },
   "outputs": [
    {
     "name": "stdout",
     "output_type": "stream",
     "text": [
      "...............................\n",
      "Pour n = 4 et M = 45 il y a 31 paires (A, B) trouvées valides ...\n",
      "- On recherche celle de somme sum(A u B) minimale ...\n",
      "A = [5, 11, 17, 41]\n",
      "B = [2, 6, 12, 26]\n",
      "  Elle donne sumsum = 120 et maxmax = 41\n",
      "- On recherche celle de maximum max(A u B) minimale ...\n",
      "A = [7, 11, 17, 31]\n",
      "B = [6, 12, 30, 36]\n",
      "  Elle donne sumsum = 150 et maxmax = 36\n",
      "- On recherche celle de moyenne sumsum(A,B), maxmax(A,B) minimale ...\n",
      "A = [3, 7, 13, 37]\n",
      "B = [4, 10, 16, 34]\n",
      "  Elle donne sumsum = 124 et maxmax = 37\n"
     ]
    },
    {
     "data": {
      "text/plain": [
       "([3, 7, 13, 37], [4, 10, 16, 34])"
      ]
     },
     "execution_count": 373,
     "metadata": {},
     "output_type": "execute_result"
    }
   ],
   "source": [
    "n = 4\n",
    "M = 45\n",
    "test_trie_et_prend_min(n, M)"
   ]
  },
  {
   "cell_type": "code",
   "execution_count": 374,
   "metadata": {
    "collapsed": false
   },
   "outputs": [
    {
     "name": "stdout",
     "output_type": "stream",
     "text": [
      "...........\n",
      "Pour n = 5 et M = 70 il y a 11 paires (A, B) trouvées valides ...\n",
      "- On recherche celle de somme sum(A u B) minimale ...\n",
      "A = [5, 11, 17, 41, 47]\n",
      "B = [6, 12, 26, 42, 56]\n",
      "  Elle donne sumsum = 263 et maxmax = 56\n",
      "- On recherche celle de maximum max(A u B) minimale ...\n",
      "A = [5, 11, 17, 41, 47]\n",
      "B = [6, 12, 26, 42, 56]\n",
      "  Elle donne sumsum = 263 et maxmax = 56\n",
      "- On recherche celle de moyenne sumsum(A,B), maxmax(A,B) minimale ...\n",
      "A = [5, 11, 17, 41, 47]\n",
      "B = [6, 12, 26, 42, 56]\n",
      "  Elle donne sumsum = 263 et maxmax = 56\n"
     ]
    },
    {
     "data": {
      "text/plain": [
       "([5, 11, 17, 41, 47], [6, 12, 26, 42, 56])"
      ]
     },
     "execution_count": 374,
     "metadata": {},
     "output_type": "execute_result"
    }
   ],
   "source": [
    "n = 5\n",
    "M = 70\n",
    "test_trie_et_prend_min(n, M)"
   ]
  },
  {
   "cell_type": "code",
   "execution_count": 375,
   "metadata": {
    "collapsed": false
   },
   "outputs": [
    {
     "name": "stdout",
     "output_type": "stream",
     "text": [
      "..........................\n",
      "Pour n = 6 et M = 135 il y a 26 paires (A, B) trouvées valides ...\n",
      "- On recherche celle de somme sum(A u B) minimale ...\n",
      "A = [7, 13, 31, 37, 73, 97]\n",
      "B = [6, 10, 16, 30, 66, 76]\n",
      "  Elle donne sumsum = 462 et maxmax = 97\n",
      "- On recherche celle de maximum max(A u B) minimale ...\n",
      "A = [7, 13, 31, 37, 73, 97]\n",
      "B = [6, 10, 16, 30, 66, 76]\n",
      "  Elle donne sumsum = 462 et maxmax = 97\n",
      "- On recherche celle de moyenne sumsum(A,B), maxmax(A,B) minimale ...\n",
      "A = [7, 13, 31, 37, 73, 97]\n",
      "B = [6, 10, 16, 30, 66, 76]\n",
      "  Elle donne sumsum = 462 et maxmax = 97\n"
     ]
    },
    {
     "data": {
      "text/plain": [
       "([7, 13, 31, 37, 73, 97], [6, 10, 16, 30, 66, 76])"
      ]
     },
     "execution_count": 375,
     "metadata": {},
     "output_type": "execute_result"
    }
   ],
   "source": [
    "n = 6\n",
    "M = 135\n",
    "test_trie_et_prend_min(n, M)"
   ]
  },
  {
   "cell_type": "code",
   "execution_count": 376,
   "metadata": {
    "collapsed": false,
    "scrolled": true
   },
   "outputs": [
    {
     "name": "stdout",
     "output_type": "stream",
     "text": [
      "..........................\n",
      "Pour n = 6 et M = 135 il y a 26 paires (A, B) trouvées valides ...\n",
      "- On recherche celle de somme sum(A u B) minimale ...\n",
      "A = [7, 13, 31, 37, 73, 97]\n",
      "B = [6, 10, 16, 30, 66, 76]\n",
      "  Elle donne sumsum = 462 et maxmax = 97\n",
      "- On recherche celle de maximum max(A u B) minimale ...\n",
      "A = [7, 13, 31, 37, 73, 97]\n",
      "B = [6, 10, 16, 30, 66, 76]\n",
      "  Elle donne sumsum = 462 et maxmax = 97\n",
      "- On recherche celle de moyenne sumsum(A,B), maxmax(A,B) minimale ...\n",
      "A = [7, 13, 31, 37, 73, 97]\n",
      "B = [6, 10, 16, 30, 66, 76]\n",
      "  Elle donne sumsum = 462 et maxmax = 97\n",
      "  - a = 7      + b = 6      donnent 13     qui est bien premier, OK ...\n",
      "  - a = 7      + b = 10     donnent 17     qui est bien premier, OK ...\n",
      "  - a = 7      + b = 16     donnent 23     qui est bien premier, OK ...\n",
      "  - a = 7      + b = 30     donnent 37     qui est bien premier, OK ...\n",
      "  - a = 7      + b = 66     donnent 73     qui est bien premier, OK ...\n",
      "  - a = 7      + b = 76     donnent 83     qui est bien premier, OK ...\n",
      "  - a = 13     + b = 6      donnent 19     qui est bien premier, OK ...\n",
      "  - a = 13     + b = 10     donnent 23     qui est bien premier, OK ...\n",
      "  - a = 13     + b = 16     donnent 29     qui est bien premier, OK ...\n",
      "  - a = 13     + b = 30     donnent 43     qui est bien premier, OK ...\n",
      "  - a = 13     + b = 66     donnent 79     qui est bien premier, OK ...\n",
      "  - a = 13     + b = 76     donnent 89     qui est bien premier, OK ...\n",
      "  - a = 31     + b = 6      donnent 37     qui est bien premier, OK ...\n",
      "  - a = 31     + b = 10     donnent 41     qui est bien premier, OK ...\n",
      "  - a = 31     + b = 16     donnent 47     qui est bien premier, OK ...\n",
      "  - a = 31     + b = 30     donnent 61     qui est bien premier, OK ...\n",
      "  - a = 31     + b = 66     donnent 97     qui est bien premier, OK ...\n",
      "  - a = 31     + b = 76     donnent 107    qui est bien premier, OK ...\n",
      "  - a = 37     + b = 6      donnent 43     qui est bien premier, OK ...\n",
      "  - a = 37     + b = 10     donnent 47     qui est bien premier, OK ...\n",
      "  - a = 37     + b = 16     donnent 53     qui est bien premier, OK ...\n",
      "  - a = 37     + b = 30     donnent 67     qui est bien premier, OK ...\n",
      "  - a = 37     + b = 66     donnent 103    qui est bien premier, OK ...\n",
      "  - a = 37     + b = 76     donnent 113    qui est bien premier, OK ...\n",
      "  - a = 73     + b = 6      donnent 79     qui est bien premier, OK ...\n",
      "  - a = 73     + b = 10     donnent 83     qui est bien premier, OK ...\n",
      "  - a = 73     + b = 16     donnent 89     qui est bien premier, OK ...\n",
      "  - a = 73     + b = 30     donnent 103    qui est bien premier, OK ...\n",
      "  - a = 73     + b = 66     donnent 139    qui est bien premier, OK ...\n",
      "  - a = 73     + b = 76     donnent 149    qui est bien premier, OK ...\n",
      "  - a = 97     + b = 6      donnent 103    qui est bien premier, OK ...\n",
      "  - a = 97     + b = 10     donnent 107    qui est bien premier, OK ...\n",
      "  - a = 97     + b = 16     donnent 113    qui est bien premier, OK ...\n",
      "  - a = 97     + b = 30     donnent 127    qui est bien premier, OK ...\n",
      "  - a = 97     + b = 66     donnent 163    qui est bien premier, OK ...\n",
      "  - a = 97     + b = 76     donnent 173    qui est bien premier, OK ...\n"
     ]
    },
    {
     "data": {
      "text/plain": [
       "True"
      ]
     },
     "execution_count": 376,
     "metadata": {},
     "output_type": "execute_result"
    }
   ],
   "source": [
    "A, B = test_trie_et_prend_min(n, M)\n",
    "verifie_paire_debug(A, B)"
   ]
  },
  {
   "cell_type": "markdown",
   "metadata": {},
   "source": [
    "## Conclusion pour des dés à $6$ faces\n",
    "Avec $n = 6$ dés, la plus petite paire de valeurs $(A, B)$ trouvée est \n",
    "- A = $\\{7, 13, 31, 37, 73, 97\\}$\n",
    "- B = $\\{6, 10, 16, 30, 66, 76\\}$\n",
    "\n",
    "Elle donne $\\sum A \\cup B = 462$ et $\\max A \\cup B = 97$.\n",
    "Assez surprenament, c'est la paire qui minimise les deux critères à la fois (et l'unique paire qui satisfait cette propriété)."
   ]
  },
  {
   "cell_type": "markdown",
   "metadata": {},
   "source": [
    "---\n",
    "## Avec plus de faces ?"
   ]
  },
  {
   "cell_type": "markdown",
   "metadata": {},
   "source": [
    "### Exemples avec des dés à 8, 10, 12 et 20 faces\n",
    "> Ça va commencer à être *très couteux*. Je recommande de ne pas faire tourner ce code sur votre machine, mais sur un serveur de calcul, par exemple !"
   ]
  },
  {
   "cell_type": "markdown",
   "metadata": {},
   "source": [
    "#### 8 faces"
   ]
  },
  {
   "cell_type": "code",
   "execution_count": 380,
   "metadata": {
    "collapsed": false
   },
   "outputs": [
    {
     "ename": "KeyboardInterrupt",
     "evalue": "",
     "output_type": "error",
     "traceback": [
      "\u001b[0;31m---------------------------------------------------------------------------\u001b[0m",
      "\u001b[0;31mKeyboardInterrupt\u001b[0m                         Traceback (most recent call last)",
      "\u001b[0;32m<ipython-input-380-636f7c34e17f>\u001b[0m in \u001b[0;36m<module>\u001b[0;34m()\u001b[0m\n\u001b[1;32m      1\u001b[0m \u001b[0mn\u001b[0m \u001b[0;34m=\u001b[0m \u001b[0;36m8\u001b[0m\u001b[0;34m\u001b[0m\u001b[0m\n\u001b[1;32m      2\u001b[0m \u001b[0mM\u001b[0m \u001b[0;34m=\u001b[0m \u001b[0;36m200\u001b[0m\u001b[0;34m\u001b[0m\u001b[0m\n\u001b[0;32m----> 3\u001b[0;31m \u001b[0mtest_trie_et_prend_min\u001b[0m\u001b[0;34m(\u001b[0m\u001b[0mn\u001b[0m\u001b[0;34m,\u001b[0m \u001b[0mM\u001b[0m\u001b[0;34m)\u001b[0m\u001b[0;34m\u001b[0m\u001b[0m\n\u001b[0m",
      "\u001b[0;32m<ipython-input-338-aaf11a934bc7>\u001b[0m in \u001b[0;36mtest_trie_et_prend_min\u001b[0;34m(n, M)\u001b[0m\n\u001b[1;32m      1\u001b[0m \u001b[0;32mdef\u001b[0m \u001b[0mtest_trie_et_prend_min\u001b[0m\u001b[0;34m(\u001b[0m\u001b[0mn\u001b[0m\u001b[0;34m=\u001b[0m\u001b[0;36m2\u001b[0m\u001b[0;34m,\u001b[0m \u001b[0mM\u001b[0m\u001b[0;34m=\u001b[0m\u001b[0;36m10\u001b[0m\u001b[0;34m)\u001b[0m\u001b[0;34m:\u001b[0m\u001b[0;34m\u001b[0m\u001b[0m\n\u001b[0;32m----> 2\u001b[0;31m     \u001b[0mpaires\u001b[0m \u001b[0;34m=\u001b[0m \u001b[0mgenere_toutes_A_B\u001b[0m\u001b[0;34m(\u001b[0m\u001b[0mn\u001b[0m\u001b[0;34m=\u001b[0m\u001b[0mn\u001b[0m\u001b[0;34m,\u001b[0m \u001b[0mM\u001b[0m\u001b[0;34m=\u001b[0m\u001b[0mM\u001b[0m\u001b[0;34m)\u001b[0m\u001b[0;34m\u001b[0m\u001b[0m\n\u001b[0m\u001b[1;32m      3\u001b[0m     \u001b[0mprint\u001b[0m\u001b[0;34m(\u001b[0m\u001b[0;34m\"Pour n =\"\u001b[0m\u001b[0;34m,\u001b[0m \u001b[0mn\u001b[0m\u001b[0;34m,\u001b[0m \u001b[0;34m\"et M =\"\u001b[0m\u001b[0;34m,\u001b[0m \u001b[0mM\u001b[0m\u001b[0;34m,\u001b[0m \u001b[0;34m\"il y a\"\u001b[0m\u001b[0;34m,\u001b[0m \u001b[0mlen\u001b[0m\u001b[0;34m(\u001b[0m\u001b[0mpaires\u001b[0m\u001b[0;34m)\u001b[0m\u001b[0;34m,\u001b[0m \u001b[0;34m\"paires (A, B) trouvées valides ...\"\u001b[0m\u001b[0;34m)\u001b[0m\u001b[0;34m\u001b[0m\u001b[0m\n\u001b[1;32m      4\u001b[0m \u001b[0;34m\u001b[0m\u001b[0m\n\u001b[1;32m      5\u001b[0m     \u001b[0mprint\u001b[0m\u001b[0;34m(\u001b[0m\u001b[0;34m\"- On recherche celle de somme sum(A u B) minimale ...\"\u001b[0m\u001b[0;34m)\u001b[0m\u001b[0;34m\u001b[0m\u001b[0m\n",
      "\u001b[0;32m<ipython-input-368-b546ae966885>\u001b[0m in \u001b[0;36mgenere_toutes_A_B\u001b[0;34m(n, M, m)\u001b[0m\n\u001b[1;32m     11\u001b[0m     \u001b[0;32mfor\u001b[0m \u001b[0mA\u001b[0m \u001b[0;32min\u001b[0m \u001b[0mcombinations\u001b[0m\u001b[0;34m(\u001b[0m\u001b[0mC_A\u001b[0m\u001b[0;34m,\u001b[0m \u001b[0mn\u001b[0m\u001b[0;34m)\u001b[0m\u001b[0;34m:\u001b[0m\u001b[0;34m\u001b[0m\u001b[0m\n\u001b[1;32m     12\u001b[0m         \u001b[0;31m# print(\"A =\", A)\u001b[0m\u001b[0;34m\u001b[0m\u001b[0;34m\u001b[0m\u001b[0m\n\u001b[0;32m---> 13\u001b[0;31m         \u001b[0mB\u001b[0m \u001b[0;34m=\u001b[0m \u001b[0mset\u001b[0m\u001b[0;34m.\u001b[0m\u001b[0mintersection\u001b[0m\u001b[0;34m(\u001b[0m\u001b[0;34m*\u001b[0m\u001b[0;34m(\u001b[0m\u001b[0mdictAB\u001b[0m\u001b[0;34m[\u001b[0m\u001b[0ma\u001b[0m\u001b[0;34m]\u001b[0m \u001b[0;32mfor\u001b[0m \u001b[0ma\u001b[0m \u001b[0;32min\u001b[0m \u001b[0mA\u001b[0m\u001b[0;34m)\u001b[0m\u001b[0;34m)\u001b[0m\u001b[0;34m\u001b[0m\u001b[0m\n\u001b[0m\u001b[1;32m     14\u001b[0m         \u001b[0;31m# print(\"B =\", B)\u001b[0m\u001b[0;34m\u001b[0m\u001b[0;34m\u001b[0m\u001b[0m\n\u001b[1;32m     15\u001b[0m         \u001b[0;32mif\u001b[0m \u001b[0mlen\u001b[0m\u001b[0;34m(\u001b[0m\u001b[0mB\u001b[0m\u001b[0;34m)\u001b[0m \u001b[0;34m>=\u001b[0m \u001b[0mn\u001b[0m\u001b[0;34m:\u001b[0m\u001b[0;34m\u001b[0m\u001b[0m\n",
      "\u001b[0;31mKeyboardInterrupt\u001b[0m: "
     ]
    }
   ],
   "source": [
    "n = 8\n",
    "M = 200\n",
    "test_trie_et_prend_min(n, M)"
   ]
  },
  {
   "cell_type": "markdown",
   "metadata": {},
   "source": [
    "#### 10 faces"
   ]
  },
  {
   "cell_type": "code",
   "execution_count": null,
   "metadata": {
    "collapsed": true
   },
   "outputs": [],
   "source": [
    "n = 10\n",
    "M = 250\n",
    "test_trie_et_prend_min(n, M)"
   ]
  },
  {
   "cell_type": "markdown",
   "metadata": {},
   "source": [
    "### Exemples avec des dés de tailles différentes\n",
    "> Il ne serait pas très compliqué d'adapter le code précédent pour considérer $A$ de taille $n$ et $B$ de taille $p$ avec possiblement $n \\neq p$.\n",
    "> Je le ferai, plus tard."
   ]
  },
  {
   "cell_type": "markdown",
   "metadata": {
    "collapsed": true
   },
   "source": [
    "### Exemples avec $100$ faces ?\n",
    "> Il faudrait une machine costaux, et du temps..."
   ]
  }
 ],
 "metadata": {
  "kernelspec": {
   "display_name": "Python 3",
   "language": "python",
   "name": "python3"
  },
  "language_info": {
   "codemirror_mode": {
    "name": "ipython",
    "version": 3
   },
   "file_extension": ".py",
   "mimetype": "text/x-python",
   "name": "python",
   "nbconvert_exporter": "python",
   "pygments_lexer": "ipython3",
   "version": "3.5.2+"
  }
 },
 "nbformat": 4,
 "nbformat_minor": 2
}
